{
 "cells": [
  {
   "cell_type": "markdown",
   "metadata": {},
   "source": [
    "# MNIST Segmentation"
   ]
  },
  {
   "cell_type": "markdown",
   "metadata": {},
   "source": [
    "## Table of contents"
   ]
  },
  {
   "cell_type": "markdown",
   "metadata": {},
   "source": [
    "1. [Task description](#Task-description)   \n",
    "2. [Dataset](#Dataset)   \n",
    "3. [Model archtecture](#Model-architecture)   \n",
    "4. [Training](#Training)   \n",
    "5. [Model validation](#Model-validation)   \n",
    "6. [Summary](#Summary)   \n",
    "7. [What can be improved?](#What-can-be-improved?)"
   ]
  },
  {
   "cell_type": "markdown",
   "metadata": {},
   "source": [
    "## Task description"
   ]
  },
  {
   "cell_type": "markdown",
   "metadata": {},
   "source": [
    "In this notebook we try to find masks of MNIST digits on the bigger images.   \n",
    "Our masks of the MNIST digits are not default squares 28x28 pixels, but the ones cut out by boundaries, see the example.\n",
    "![MNIST_MASK](https://cdn1.savepice.ru/uploads/2019/4/1/9ffbbdf3aa61f8bec329fe1e58bea080-full.png)   \n",
    "    The MNIST image is being rotated фе some randomly sampled angle and then placed on the black background with size 128x128 pixels at a random position. After that, noise is being added on the resulted image and RGB channels are inverted with prob 0.5. Finally, we try to find masks of digits on these images, i.e. solve segmentation task."
   ]
  },
  {
   "cell_type": "markdown",
   "metadata": {},
   "source": [
    "## Dataset"
   ]
  },
  {
   "cell_type": "markdown",
   "metadata": {},
   "source": [
    "We will be using _[MNIST](http://yann.lecun.com/exdb/mnist/)_ dataset for training as well as for model validation.   \n",
    "MNIST dataset consists of handwritten digits, it has training set of 60 000  examples and testing set of 10 000 examples, images size is 28x28 pixels in greyscale."
   ]
  },
  {
   "cell_type": "code",
   "execution_count": 1,
   "metadata": {},
   "outputs": [],
   "source": [
    "import torch\n",
    "from batchflow.opensets import MNIST\n",
    "from batchflow.models.torch import UNet\n",
    "from batchflow import Pipeline, P, R, V, B, F\n",
    "\n",
    "from batch import MyBatch\n",
    "from utils import plot_augm_masks, plot_pred_mask"
   ]
  },
  {
   "cell_type": "markdown",
   "metadata": {},
   "source": [
    "Loading MNIST dataset with build-in batchflow function."
   ]
  },
  {
   "cell_type": "code",
   "execution_count": null,
   "metadata": {},
   "outputs": [],
   "source": [
    "dataset = MNIST(batch_class=MyBatch)"
   ]
  },
  {
   "cell_type": "markdown",
   "metadata": {},
   "source": [
    "Applying series of actions to the image to retieve masks and augmentate images."
   ]
  },
  {
   "cell_type": "code",
   "execution_count": 10,
   "metadata": {},
   "outputs": [],
   "source": [
    "import numpy as np\n",
    "bg_shape=(128, 128)\n",
    "augmentation = (Pipeline()\n",
    "                 .add_mask(src='images', dst='masks')\n",
    "                 .apply_transform(lambda :np.random.uniform(-60, 60) ,  dst='ang')\n",
    "                 .rotate(src=['images', 'ang'], dst='images')\n",
    "                 .rotate(src=['masks', 'ang'], dst='masks')\n",
    "                 .put_on_background(bg_shape=bg_shape, src=['images','masks'], dst=['images','masks'])\n",
    "                 .invert(channels=P(R('randint', 0, 3)), p=0.5)\n",
    "                 .add_noise(n=30)\n",
    "                 .make_channels_first(src=['images', 'masks'], dst=['images', 'masks'])\n",
    "               )"
   ]
  },
  {
   "cell_type": "code",
   "execution_count": 11,
   "metadata": {},
   "outputs": [],
   "source": [
    "pipeline = augmentation << dataset.test\n",
    "batch = pipeline.next_batch(10, shuffle=True)"
   ]
  },
  {
   "cell_type": "markdown",
   "metadata": {},
   "source": [
    "Lets see what images and masks we got after preprocessing."
   ]
  },
  {
   "cell_type": "code",
   "execution_count": 12,
   "metadata": {},
   "outputs": [
    {
     "data": {
      "image/png": "[encoded data removed]",
      "text/plain": [
       "<Figure size 1224x1224 with 10 Axes>"
      ]
     },
     "metadata": {
      "needs_background": "light"
     },
     "output_type": "display_data"
    }
   ],
   "source": [
    "plot_augm_masks(batch)"
   ]
  },
  {
   "cell_type": "markdown",
   "metadata": {},
   "source": [
    "## Model architecture"
   ]
  },
  {
   "cell_type": "markdown",
   "metadata": {},
   "source": [
    "For this task we will be using UNet ready-to-use model from batchflow torch models ZOO.   \n",
    "Original models consists of 5 conv blocks with [64, 128, 256, 512, 1024] filters in contracting as well as expansive paths. However, it seems to be too \"heavy\" for MNIST images, so we left 4 blocks."
   ]
  },
  {
   "cell_type": "markdown",
   "metadata": {},
   "source": [
    "## Training"
   ]
  },
  {
   "cell_type": "markdown",
   "metadata": {},
   "source": [
    "Lets specify inputs config. Unlike the previous tasks, this time the input is images and masks instead of labels. Masks are the arrays of the same size as images, but have only one channel with values 0 and 1 corresponding to wheather or not this pixel belongs to classs 1."
   ]
  },
  {
   "cell_type": "code",
   "execution_count": 6,
   "metadata": {},
   "outputs": [],
   "source": [
    "inputs_config = {\n",
    "    'images': {'shape': (3, *bg_shape)},\n",
    "    'masks': {'shape': bg_shape,\n",
    "              'classes': 2,\n",
    "              'data_format': 'f',\n",
    "              'name': 'targets'}\n",
    "    }"
   ]
  },
  {
   "cell_type": "markdown",
   "metadata": {},
   "source": [
    "One of the difficulties for the training the model is the ratio of pixels class '1'."
   ]
  },
  {
   "cell_type": "code",
   "execution_count": 7,
   "metadata": {},
   "outputs": [
    {
     "name": "stdout",
     "output_type": "stream",
     "text": [
      "The partion of class 1 pixels to the whole number of pixels: 0.019\n"
     ]
    }
   ],
   "source": [
    "print('The partion of class 1 pixels to the whole number of pixels: {0:.3f}'.format(batch.masks.mean()))"
   ]
  },
  {
   "cell_type": "markdown",
   "metadata": {},
   "source": [
    "To counter this we weighted our loss fucntion - CrossEntropy.   \n",
    "![crossentropy](https://cdn1.savepice.ru/uploads/2019/4/1/785da5cfbffc3bcfb427d7b8ac80f4fa-full.png)   \n",
    "In particular $ weight[0] = 1$ and $weight[1] = 20 $"
   ]
  },
  {
   "cell_type": "markdown",
   "metadata": {},
   "source": [
    "We started training our model for 25 epochs with lr = 0.01 and weights for classes - [1, 15].   \n",
    "However, that was not enough, there still was big areas with fasle positives.   \n",
    "In oder to reduce them, we continue training for 25 epochs with lr = 0.001 and weights [1, 20]."
   ]
  },
  {
   "cell_type": "code",
   "execution_count": 404,
   "metadata": {},
   "outputs": [],
   "source": [
    "w = torch.Tensor([1., 20.])\n",
    "config = {\n",
    "    'inputs': inputs_config,\n",
    "    'initial_block/inputs': 'images',\n",
    "    'loss': {'name':'ce', 'weight': w},\n",
    "    'optimizer': ('Adam', {'lr': 0.001}),\n",
    "    'device': 'cpu',\n",
    "    'head/num_classes': 2, \n",
    "    'body/num_blocks': 4,\n",
    "}"
   ]
  },
  {
   "cell_type": "code",
   "execution_count": 11,
   "metadata": {},
   "outputs": [],
   "source": [
    "train_pipeline = (augmentation\n",
    "                  + Pipeline()\n",
    "                      .init_model('dynamic', UNet, 'my_model', config)\n",
    "                      .init_variable('loss', init_on_each_run=list)\n",
    "                      .train_model('my_model', B('images'), B('masks'),\n",
    "                                   fetches='loss', save_to=V('loss'), mode='a')\n",
    "                 ) << dataset.train "
   ]
  },
  {
   "cell_type": "code",
   "execution_count": null,
   "metadata": {},
   "outputs": [],
   "source": [
    "train_pipeline.run(32, shuffle=True, n_epochs=25)"
   ]
  },
  {
   "cell_type": "markdown",
   "metadata": {},
   "source": [
    "## Model validation"
   ]
  },
  {
   "cell_type": "markdown",
   "metadata": {},
   "source": [
    "Load the pretrained model. "
   ]
  },
  {
   "cell_type": "code",
   "execution_count": 405,
   "metadata": {},
   "outputs": [],
   "source": [
    "test_pipeline = (augmentation\n",
    "                 +Pipeline()\n",
    "                    .import_model('my_model', train_pipeline)\n",
    "                    .init_variable('predictions')\n",
    "                    .init_variable('metrics')\n",
    "                    .predict_model('my_model', B('images'),\n",
    "                                   fetches='predictions', save_to=V('predictions'))\n",
    "                    .gather_metrics('mask', targets=B('masks'), predictions=V('predictions'),\n",
    "                                    num_classes=2, fmt='logits', axis=1,\n",
    "                                    save_to=V('metrics'), mode='u')\n",
    "                ) << dataset.test"
   ]
  },
  {
   "cell_type": "code",
   "execution_count": 414,
   "metadata": {},
   "outputs": [],
   "source": [
    "test_batch = test_pipeline.next_batch(32, shuffle=True)\n",
    "pred = test_pipeline.get_variable('predictions')\n",
    "metrics = test_pipeline.get_variable('metrics')"
   ]
  },
  {
   "cell_type": "markdown",
   "metadata": {},
   "source": [
    "Take a look at the metrics at test data.   \n",
    "First, lets see how well we can recognise the masks"
   ]
  },
  {
   "cell_type": "code",
   "execution_count": 538,
   "metadata": {},
   "outputs": [
    {
     "name": "stdout",
     "output_type": "stream",
     "text": [
      "Recall: 0.892\n"
     ]
    }
   ],
   "source": [
    "print('Recall: {0:.3f}'.format(metrics.evaluate('recall')))"
   ]
  },
  {
   "cell_type": "markdown",
   "metadata": {},
   "source": [
    "The ground truth masks are well covered with predicted masks.   \n",
    "Now lets take a look at the precision"
   ]
  },
  {
   "cell_type": "code",
   "execution_count": 539,
   "metadata": {},
   "outputs": [
    {
     "name": "stdout",
     "output_type": "stream",
     "text": [
      "Precision: 0.381\n"
     ]
    }
   ],
   "source": [
    "print('Precision: {0:.3f}'.format(metrics.evaluate('precision')))"
   ]
  },
  {
   "cell_type": "markdown",
   "metadata": {},
   "source": [
    "There is still a lot of fale positive in model prediction."
   ]
  },
  {
   "cell_type": "markdown",
   "metadata": {},
   "source": [
    "Lets see what model predicts"
   ]
  },
  {
   "cell_type": "code",
   "execution_count": 415,
   "metadata": {},
   "outputs": [
    {
     "data": {
      "image/png": "[encoded data removed]",
      "text/plain": [
       "<Figure size 1224x1224 with 9 Axes>"
      ]
     },
     "metadata": {
      "needs_background": "light"
     },
     "output_type": "display_data"
    }
   ],
   "source": [
    "plot_pred_mask(test_batch, pred)"
   ]
  },
  {
   "cell_type": "markdown",
   "metadata": {},
   "source": [
    "## Summary."
   ]
  },
  {
   "cell_type": "markdown",
   "metadata": {},
   "source": [
    "In this notebook we tried to find small masks of MNIST digits on the noised background.   \n",
    "The task is chalenging since the ground truth masks are relatively small to the whole image, besides there is noise on the image, parts of which can be compared in size with half-digit. We did training stage in 2 steps, reducting learning rate and incresing class weights. Overall, the masks region mostly were found, however with poor precision."
   ]
  },
  {
   "cell_type": "markdown",
   "metadata": {},
   "source": [
    "## What can be improved?"
   ]
  },
  {
   "cell_type": "markdown",
   "metadata": {},
   "source": [
    "In oder to improve our results you can try:\n",
    "1. Another neural net architecture for segmentation task.\n",
    "2. Tune the training process in your way."
   ]
  }
 ],
 "metadata": {
  "kernelspec": {
   "display_name": "Python 3",
   "language": "python",
   "name": "python3"
  },
  "language_info": {
   "codemirror_mode": {
    "name": "ipython",
    "version": 3
   },
   "file_extension": ".py",
   "mimetype": "text/x-python",
   "name": "python",
   "nbconvert_exporter": "python",
   "pygments_lexer": "ipython3",
   "version": "3.7.1"
  }
 },
 "nbformat": 4,
 "nbformat_minor": 2
}
