{
 "cells": [
  {
   "cell_type": "code",
   "execution_count": 1,
   "metadata": {},
   "outputs": [],
   "source": [
    "import torch\n",
    "from batchflow.opensets import MNIST\n",
    "from batchflow.models.torch import UNet\n",
    "from batchflow import Pipeline, P, R, V, B\n",
    "\n",
    "from batch import MyBatch"
   ]
  },
  {
   "cell_type": "code",
   "execution_count": null,
   "metadata": {},
   "outputs": [],
   "source": [
    "dataset = MNIST(batch_class=MyBatch)"
   ]
  },
  {
   "cell_type": "code",
   "execution_count": 3,
   "metadata": {},
   "outputs": [],
   "source": [
    "bg_shape=(128, 128)\n",
    "augmentation = (Pipeline()\n",
    "                 .mask()\n",
    "                 .custom_rotate(angle=P(R('uniform', -35, 35)))\n",
    "                 .background_and_mask(bg_shape)\n",
    "                 .invert(channels=P(R('randint', 0, 3)), p=0.5)\n",
    "                 .noise(n=1)\n",
    "                 .custom_to_array(src=['images', 'masks'], dst=['images', 'masks'])\n",
    "               )"
   ]
  },
  {
   "cell_type": "code",
   "execution_count": 4,
   "metadata": {},
   "outputs": [],
   "source": [
    "inputs_config = {\n",
    "    'images': {'shape': (3, *bg_shape)},\n",
    "    'masks': {'shape': bg_shape,\n",
    "              'classes': 2,\n",
    "              'data_format': 'f',\n",
    "              'name': 'targets'}\n",
    "    }"
   ]
  },
  {
   "cell_type": "code",
   "execution_count": 8,
   "metadata": {},
   "outputs": [],
   "source": [
    "%env CUDA_VISIBLE_DEVICES=1\n",
    "w = torch.Tensor([1., 20.])\n",
    "w = w.to('cuda')\n",
    "config = {\n",
    "    'build': 'first',\n",
    "    'load': dict(path='model'),\n",
    "    'inputs': inputs_config,\n",
    "    'initial_block/inputs': 'images',\n",
    "    'loss': {'name':'ce', 'weight': w},\n",
    "    'optimizer': ('Adam', {'lr': 0.0001}),\n",
    "    'device': 'cpu',\n",
    "    'head/num_classes': 2, \n",
    "    'body/num_blocks': 4,\n",
    "     \n",
    "}"
   ]
  },
  {
   "cell_type": "code",
   "execution_count": 9,
   "metadata": {},
   "outputs": [],
   "source": [
    "train_pipeline = (augmentation\n",
    "                  + Pipeline()\n",
    "                      .init_model('dynamic', UNet, 'my_model', config)\n",
    "                      .init_variable('loss', init_on_each_run=list)\n",
    "                      .train_model('my_model', B('images'), B('masks'),\n",
    "                                   fetches='loss', save_to=V('loss'), mode='a')\n",
    "                 ) << dataset.train "
   ]
  },
  {
   "cell_type": "code",
   "execution_count": null,
   "metadata": {},
   "outputs": [],
   "source": [
    "train_pipeline.run(32, shuffle=True, n_epochs=25)"
   ]
  },
  {
   "cell_type": "code",
   "execution_count": null,
   "metadata": {},
   "outputs": [],
   "source": [
    "train_pipeline.save_model('my_model', path='model')"
   ]
  }
 ],
 "metadata": {
  "kernelspec": {
   "display_name": "Python 3",
   "language": "python",
   "name": "python3"
  },
  "language_info": {
   "codemirror_mode": {
    "name": "ipython",
    "version": 3
   },
   "file_extension": ".py",
   "mimetype": "text/x-python",
   "name": "python",
   "nbconvert_exporter": "python",
   "pygments_lexer": "ipython3",
   "version": "3.7.1"
  }
 },
 "nbformat": 4,
 "nbformat_minor": 2
}
