{
 "cells": [
  {
   "cell_type": "markdown",
   "metadata": {},
   "source": [
    "# Handwritten digits classification"
   ]
  },
  {
   "cell_type": "markdown",
   "metadata": {},
   "source": [
    "## Table of contents"
   ]
  },
  {
   "cell_type": "markdown",
   "metadata": {},
   "source": [
    "1. [Task description](#Task-description)   \n",
    "2. [Dataset](#Dataset)   \n",
    "3. [Model archtecture](#Architecture)   \n",
    "4. [Training](#Training)   \n",
    "5. [Model validation](#Model-validation)   \n",
    "6. [Summary](#Model-validation)   \n",
    "7. [What can be improved?](#What-can-be-improved?)"
   ]
  },
  {
   "cell_type": "markdown",
   "metadata": {},
   "source": [
    "## Task description"
   ]
  },
  {
   "cell_type": "markdown",
   "metadata": {},
   "source": [
    "Given the image of handwritten digit need to recognise it with the accuracy 98%."
   ]
  },
  {
   "cell_type": "markdown",
   "metadata": {},
   "source": [
    "## Dataset"
   ]
  },
  {
   "cell_type": "markdown",
   "metadata": {},
   "source": [
    "We will be using _[MNIST](http://yann.lecun.com/exdb/mnist/)_ dataset for training as well as for model validation.   \n",
    "MNIST dataset consists of handwritten digits, it has training set of 60 000  examples and testing set of 10 000 examples.   \n",
    "Images size is 28x28 pixels in greyscale, besides there is array of true labels for each image in the dataset."
   ]
  },
  {
   "cell_type": "code",
   "execution_count": 1,
   "metadata": {},
   "outputs": [],
   "source": [
    "import torch\n",
    "import numpy as np\n",
    "from batchflow import Dataset, B, V \n",
    "from batchflow.models.torch import TorchModel\n",
    "from batchflow.opensets import MNIST\n",
    "from batchflow.batch_image import ImagesBatch\n",
    "from batchflow.decorators import action\n",
    "import matplotlib.pyplot as plt\n",
    "from PIL import Image\n",
    "from sklearn.utils.extmath import softmax"
   ]
  },
  {
   "cell_type": "markdown",
   "metadata": {},
   "source": [
    "We define custom MyBatch class and set components 'images' and 'labels'. Besides, we need @action method *type_cast* to cast input data types to be compatible with _[Pytorch](https://pytorch.org/)_ functionality."
   ]
  },
  {
   "cell_type": "code",
   "execution_count": 2,
   "metadata": {},
   "outputs": [],
   "source": [
    "class MyBatch(ImagesBatch):\n",
    "    components = 'images', 'labels'\n",
    "    @action\n",
    "    def labels_to_long(self):\n",
    "        self.labels = np.array(self.labels, dtype='int64')\n",
    "        return self"
   ]
  },
  {
   "cell_type": "markdown",
   "metadata": {},
   "source": [
    "Loading dataset."
   ]
  },
  {
   "cell_type": "code",
   "execution_count": 3,
   "metadata": {},
   "outputs": [
    {
     "name": "stdout",
     "output_type": "stream",
     "text": [
      "Downloading http://yann.lecun.com/exdb/mnist/train-images-idx3-ubyte.gz\n",
      "Downloading http://yann.lecun.com/exdb/mnist/train-labels-idx1-ubyte.gz\n",
      "Downloading http://yann.lecun.com/exdb/mnist/t10k-images-idx3-ubyte.gz\n",
      "Downloading http://yann.lecun.com/exdb/mnist/t10k-labels-idx1-ubyte.gz\n",
      "Extracting /tmp/t10k-images-idx3-ubyte.gz\n",
      "ExtractingExtracting /tmp/train-images-idx3-ubyte.gz\n",
      " /tmp/train-labels-idx1-ubyte.gz\n",
      "Extracting /tmp/t10k-labels-idx1-ubyte.gz\n"
     ]
    }
   ],
   "source": [
    "dataset = MNIST(batch_class=MyBatch)"
   ]
  },
  {
   "cell_type": "markdown",
   "metadata": {},
   "source": [
    "Take a look at 5 random images from the dataset."
   ]
  },
  {
   "cell_type": "code",
   "execution_count": 4,
   "metadata": {},
   "outputs": [
    {
     "data": {
      "image/png": "[encoded data removed]",
      "text/plain": [
       "<Figure size 1224x1224 with 5 Axes>"
      ]
     },
     "metadata": {
      "needs_background": "light"
     },
     "output_type": "display_data"
    }
   ],
   "source": [
    "data = dataset.train.next_batch(5)\n",
    "fig, ax = plt.subplots(1, 5, figsize=(17, 17))\n",
    "for i, image, label in zip(range(5), data.images, data.labels):\n",
    "    ax[i].imshow(image)\n",
    "    ax[i].set_title('Label - {}'.format(label))\n",
    "    ax[i].axes.get_xaxis().set_visible(False)\n",
    "    ax[i].axes.get_yaxis().set_visible(False)"
   ]
  },
  {
   "cell_type": "markdown",
   "metadata": {},
   "source": [
    "## Architecture"
   ]
  },
  {
   "cell_type": "markdown",
   "metadata": {},
   "source": [
    "We will be using slightly modified architecture of _[LeNet-5.](http://yann.lecun.com/exdb/publis/pdf/lecun-98.pdf)_"
   ]
  },
  {
   "cell_type": "markdown",
   "metadata": {},
   "source": [
    "<img src=\"https://cdn-images-1.medium.com/max/1200/1*1TI1aGBZ4dybR6__DI9dzA.png\"  />"
   ]
  },
  {
   "cell_type": "markdown",
   "metadata": {},
   "source": [
    "Original LeNet-5 consists of:\n",
    "1. conv layer: filters = 6, kernel_size = 5\n",
    "2. pooling layer: type = 'avarage', pool_size = 2, strides = 2\n",
    "3. conv layer2: filters = 16, kernel_size = 5\n",
    "4. pooling layer: type = 'avarage', pool_size = 2, strides = 1\n",
    "5. FC layer: units = 120\n",
    "6. FC layer: units = 84\n",
    "7. Gaussian connections: units = 10"
   ]
  },
  {
   "cell_type": "markdown",
   "metadata": {},
   "source": [
    "Originally authors used normalisation technique that maps white pixels -> -0.1  and black pixels -> 1.175.\n",
    "However, we instead use batch normalisation after conv-pool blocks.    \n",
    "Besides, we use ReLU activation, instead of Sigmood. And finally in the last layer we replaced Radial Basis Function units with fully connected layer, that forces us to change loss function as well from mse to crossentropy.   \n",
    "As we already mentioned loss function for this classification task - CrossEntropy."
   ]
  },
  {
   "cell_type": "markdown",
   "metadata": {},
   "source": [
    "Define models config."
   ]
  },
  {
   "cell_type": "code",
   "execution_count": 5,
   "metadata": {},
   "outputs": [],
   "source": [
    "from torch.nn import CrossEntropyLoss\n",
    "config = { \n",
    "    'inputs': dict(images={'shape': (28, 28, 1)},\n",
    "                  labels={'classes': 10,\n",
    "                          'transform': 'ohe'}),\n",
    "    'initial_block/inputs' : 'images',\n",
    "    'loss': CrossEntropyLoss,\n",
    "    'optimizer': 'Adam',\n",
    "    'body/layout': 'cavn cavn fafa',\n",
    "    'body/pool_size': [2, 2],\n",
    "    'body/pool_strides': [2, 2],\n",
    "    'body/filters': [6, 16],\n",
    "    'body/units': [120, 84],\n",
    "    'body/kernel_size': [5 , 5],\n",
    "    'head/units': 10,\n",
    "    'head/layout': 'f',\n",
    "}"
   ]
  },
  {
   "cell_type": "markdown",
   "metadata": {},
   "source": [
    "### Training"
   ]
  },
  {
   "cell_type": "markdown",
   "metadata": {},
   "source": [
    "We trained our model using _[Adam](https://arxiv.org/abs/1412.6980)_ optimizer with default settings. Loss fucntion - CrossEntropyLoss, note that this loss inputs must be logits.      \n",
    "We set batch_size to 64 and train the model for 20 epochs."
   ]
  },
  {
   "cell_type": "code",
   "execution_count": 29,
   "metadata": {},
   "outputs": [],
   "source": [
    "BATCH_SIZE = 100\n",
    "train = (dataset.train.p\n",
    "        .init_model('dynamic', TorchModel, 'my_model', config)\n",
    "        .init_variable('loss', init_on_each_run=list)\n",
    "        .to_array(dtype='float32')\n",
    "        .labels_to_long()\n",
    "        .train_model('my_model', B('images'), B('labels'),\n",
    "                      fetches='loss', save_to=V('loss'), mode='a')\n",
    "        .run(BATCH_SIZE, shuffle=True, n_epochs=15))"
   ]
  },
  {
   "cell_type": "markdown",
   "metadata": {},
   "source": [
    "Lets check the loss during training stage."
   ]
  },
  {
   "cell_type": "code",
   "execution_count": 30,
   "metadata": {},
   "outputs": [
    {
     "data": {
      "text/plain": [
       "[<matplotlib.lines.Line2D at 0x7f8dfea0bd68>]"
      ]
     },
     "execution_count": 30,
     "metadata": {},
     "output_type": "execute_result"
    },
    {
     "data": {
      "image/png": "[encoded data removed]",
      "text/plain": [
       "<Figure size 1440x360 with 1 Axes>"
      ]
     },
     "metadata": {
      "needs_background": "light"
     },
     "output_type": "display_data"
    }
   ],
   "source": [
    "loss = train.get_variable('loss')\n",
    "plt.figure(figsize=(20, 5))\n",
    "plt.plot(loss)"
   ]
  },
  {
   "cell_type": "markdown",
   "metadata": {},
   "source": [
    "## Model validation"
   ]
  },
  {
   "cell_type": "markdown",
   "metadata": {},
   "source": [
    "Now we run test pipiline to assess the model's accuracy on the test data."
   ]
  },
  {
   "cell_type": "code",
   "execution_count": 31,
   "metadata": {},
   "outputs": [],
   "source": [
    "test = (dataset.test.p\n",
    "        .import_model('my_model', train)\n",
    "        .init_variable('predictions', init_on_each_run=list)\n",
    "        .init_variable('metrics', init_on_each_run=None)\n",
    "        .to_array(dtype='float32')\n",
    "        .labels_to_long()\n",
    "        .predict_model('my_model', B('images'), B('labels'), \n",
    "                       fetches=['predictions'], \n",
    "                       save_to=[ V('predictions')])\n",
    "        .gather_metrics('class', targets=B('labels'), fmt='logits', axis=1,\n",
    "                        predictions=V('predictions'), save_to=V('metrics'),\n",
    "                        mode='a'))"
   ]
  },
  {
   "cell_type": "code",
   "execution_count": 32,
   "metadata": {},
   "outputs": [
    {
     "name": "stderr",
     "output_type": "stream",
     "text": [
      " 99%|█████████▉| 156/157 [00:00<00:00, 192.92it/s]\n"
     ]
    }
   ],
   "source": [
    "predict_pipeline = (test << dataset.test).run(64, shuffle=True, n_epochs=1, bar=True)"
   ]
  },
  {
   "cell_type": "code",
   "execution_count": 36,
   "metadata": {},
   "outputs": [
    {
     "name": "stdout",
     "output_type": "stream",
     "text": [
      "Accuracy of the model on test data - 98.08%\n"
     ]
    }
   ],
   "source": [
    "metrics = predict_pipeline.get_variable('metrics')\n",
    "acc = metrics.evaluate('accuracy')\n",
    "print('Accuracy of the model on test data - {:.2%}'.format(acc))"
   ]
  },
  {
   "cell_type": "markdown",
   "metadata": {},
   "source": [
    "Lets see at predictions. Execute the cell bellow couple of times to make sure our model recognises digits well.   \n",
    "There is case, where the model gives wrong answe"
   ]
  },
  {
   "cell_type": "code",
   "execution_count": 34,
   "metadata": {},
   "outputs": [
    {
     "data": {
      "image/png": "[encoded data removed]",
      "text/plain": [
       "<Figure size 1224x1224 with 5 Axes>"
      ]
     },
     "metadata": {
      "needs_background": "light"
     },
     "output_type": "display_data"
    }
   ],
   "source": [
    "data = test.next_batch(5)\n",
    "predictions_logits = test.get_variable('predictions')\n",
    "fig, ax = plt.subplots(1, 5, figsize=(17, 17))\n",
    "for i, image, label in zip(range(5), data.images, data.labels):\n",
    "    predictions_logits = test.get_variable('predictions')[i]\n",
    "    p = softmax([predictions_logits])\n",
    "    image = Image.fromarray(np.squeeze(image))\n",
    "    ax[i].imshow(image)\n",
    "    ax[i].set_title('Real - {} \\n Pred - {}, conf - {:.2f}'.format(label,\n",
    "                                                                   np.argmax(p), p.max()))\n",
    "    ax[i].axes.get_xaxis().set_visible(False)\n",
    "    ax[i].axes.get_yaxis().set_visible(False)"
   ]
  },
  {
   "cell_type": "markdown",
   "metadata": {},
   "source": [
    "## Summary"
   ]
  },
  {
   "cell_type": "markdown",
   "metadata": {},
   "source": [
    "In oder to classify handwritten digits we trained LeNet5 like neural net. We achived 98% models accuracy."
   ]
  },
  {
   "cell_type": "markdown",
   "metadata": {},
   "source": [
    "## What can be improved?"
   ]
  },
  {
   "cell_type": "markdown",
   "metadata": {},
   "source": [
    "Our models architecture is not very complicated. In oder to reach higher accuracy you can try:\n",
    " - Adding more [conv pool] blocks to the model.\n",
    " - using more filters in conv blocks."
   ]
  }
 ],
 "metadata": {
  "kernelspec": {
   "display_name": "Python 3",
   "language": "python",
   "name": "python3"
  },
  "language_info": {
   "codemirror_mode": {
    "name": "ipython",
    "version": 3
   },
   "file_extension": ".py",
   "mimetype": "text/x-python",
   "name": "python",
   "nbconvert_exporter": "python",
   "pygments_lexer": "ipython3",
   "version": "3.7.1"
  }
 },
 "nbformat": 4,
 "nbformat_minor": 2
}
