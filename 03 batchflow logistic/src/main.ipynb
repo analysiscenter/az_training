{
 "cells": [
  {
   "cell_type": "code",
   "execution_count": 8,
   "metadata": {},
   "outputs": [],
   "source": [
    "import sys\n",
    "import warnings\n",
    "warnings.filterwarnings(\"ignore\")\n",
    "\n",
    "import numpy as np\n",
    "import tensorflow as tf\n",
    "\n",
    "import matplotlib.pyplot as plt\n",
    "%matplotlib inline\n",
    "\n",
    "# the following line is not required if BatchFlow is installed as a python package.\n",
    "sys.path.append('../../../batchflow')\n",
    "\n",
    "from batchflow import B, V, F, R, P, C, Dataset, Batch, action, inbatch_parallel, ImagesBatch, Pipeline\n",
    "from batchflow.models.torch import TorchModel\n",
    "from batchflow.models.metrics import ClassificationMetrics\n",
    "from batchflow.opensets import MNIST\n",
    "from batchflow import best_practice"
   ]
  },
  {
   "cell_type": "code",
   "execution_count": 9,
   "metadata": {},
   "outputs": [
    {
     "name": "stdout",
     "output_type": "stream",
     "text": [
      "Downloading http://yann.lecun.com/exdb/mnist/train-images-idx3-ubyte.gz\n",
      "Downloading http://yann.lecun.com/exdb/mnist/train-labels-idx1-ubyte.gz\n",
      "Extracting /var/folders/d0/4xbr3ghj1nz4yr0d97gg0wkc0000gn/T/train-images-idx3-ubyte.gz\n",
      "Downloading Extracting http://yann.lecun.com/exdb/mnist/t10k-images-idx3-ubyte.gz/var/folders/d0/4xbr3ghj1nz4yr0d97gg0wkc0000gn/T/train-labels-idx1-ubyte.gz\n",
      "Downloading\n",
      " http://yann.lecun.com/exdb/mnist/t10k-labels-idx1-ubyte.gz\n",
      "ExtractingExtracting /var/folders/d0/4xbr3ghj1nz4yr0d97gg0wkc0000gn/T/t10k-labels-idx1-ubyte.gz\n",
      " /var/folders/d0/4xbr3ghj1nz4yr0d97gg0wkc0000gn/T/t10k-images-idx3-ubyte.gz\n"
     ]
    }
   ],
   "source": [
    "BATCH_SIZE = 64\n",
    "mnist = MNIST()"
   ]
  },
  {
   "cell_type": "code",
   "execution_count": 10,
   "metadata": {},
   "outputs": [],
   "source": [
    "from batchflow.models.torch.layers import Dense\n",
    "\n",
    "class MyModel(TorchModel):\n",
    "    @classmethod\n",
    "    def default_config(cls):\n",
    "        config = TorchModel.default_config()\n",
    "        config['head'].update(dict(units=10, layout='f'))\n",
    "        return config\n",
    "\n",
    "    def build_config(self, names=None):\n",
    "        config = super().build_config(names)\n",
    "        config['head/units'] = self.num_classes('targets')\n",
    "        return config\n",
    "\n",
    "    @classmethod\n",
    "    def body(cls, **kwargs):\n",
    "        kwargs = cls.get_defaults('body', kwargs)\n",
    "        x = Dense(**kwargs)\n",
    "        return x"
   ]
  },
  {
   "cell_type": "code",
   "execution_count": 11,
   "metadata": {},
   "outputs": [],
   "source": [
    "model_config = {\n",
    "    'inputs': dict(images={'shape': (28, 28, 1)},\n",
    "                   labels={'classes': 10}),\n",
    "    'loss': 'ce',\n",
    "    'optimizer': 'Adam',\n",
    "    'initial_block/inputs': 'images',\n",
    "    'head/units': 10,\n",
    "    'output': dict(predicted=['proba', 'labels'])\n",
    "}"
   ]
  },
  {
   "cell_type": "code",
   "execution_count": 12,
   "metadata": {},
   "outputs": [],
   "source": [
    "train_pipeline = (mnist.p\n",
    "    .init_variable('loss_history', init_on_each_run=list)\n",
    "    .init_model('dynamic', MyModel, 'my_model', model_config)\n",
    "    .train_model('my_model', B('images'), B('labels'),\n",
    "                 fetches='loss', save_to=V('loss_history'), mode='a'))"
   ]
  },
  {
   "cell_type": "code",
   "execution_count": null,
   "metadata": {
    "scrolled": false
   },
   "outputs": [
    {
     "name": "stdout",
     "output_type": "stream",
     "text": [
      "--Return--\n",
      "> <ipython-input-15-7c588c150568>(1)<module>()->None\n",
      "-> import pdb; pdb.set_trace()\n",
      "(Pdb) \n",
      "(Pdb) \n",
      "(Pdb) \n",
      "(Pdb) \n",
      "(Pdb) \n",
      "(Pdb) \n",
      "(Pdb) \n",
      "(Pdb) \n",
      "(Pdb) \n",
      "(Pdb) \n",
      "(Pdb) \n",
      "(Pdb) \n",
      "(Pdb) \n",
      "(Pdb) \n",
      "(Pdb) \n",
      "(Pdb) \n",
      "(Pdb) \n",
      "(Pdb) \n",
      "(Pdb) \n",
      "(Pdb) \n",
      "(Pdb) \n",
      "(Pdb) \n",
      "(Pdb) \n",
      "(Pdb) \n",
      "(Pdb) \n",
      "(Pdb) \n",
      "(Pdb) \n",
      "(Pdb) \n",
      "(Pdb) \n",
      "(Pdb) \n",
      "(Pdb) \n",
      "(Pdb) \n",
      "(Pdb) \n",
      "(Pdb) \n",
      "(Pdb) n\n",
      "> /anaconda3/lib/python3.6/site-packages/IPython/core/interactiveshell.py(2865)run_code()\n",
      "-> sys.excepthook = old_excepthook\n",
      "(Pdb) n\n",
      "> /anaconda3/lib/python3.6/site-packages/IPython/core/interactiveshell.py(2881)run_code()\n",
      "-> outflag = False\n",
      "(Pdb) n\n",
      "> /anaconda3/lib/python3.6/site-packages/IPython/core/interactiveshell.py(2882)run_code()\n",
      "-> return outflag\n",
      "(Pdb) n\n",
      "--Return--\n",
      "> /anaconda3/lib/python3.6/site-packages/IPython/core/interactiveshell.py(2882)run_code()->False\n",
      "-> return outflag\n",
      "(Pdb) n\n",
      "> /anaconda3/lib/python3.6/site-packages/IPython/core/interactiveshell.py(2799)run_ast_nodes()\n",
      "-> for i, node in enumerate(to_run_exec):\n",
      "(Pdb) n\n",
      "> /anaconda3/lib/python3.6/site-packages/IPython/core/interactiveshell.py(2805)run_ast_nodes()\n",
      "-> for i, node in enumerate(to_run_interactive):\n",
      "(Pdb) n\n",
      "> /anaconda3/lib/python3.6/site-packages/IPython/core/interactiveshell.py(2806)run_ast_nodes()\n",
      "-> mod = ast.Interactive([node])\n",
      "(Pdb) n\n",
      "> /anaconda3/lib/python3.6/site-packages/IPython/core/interactiveshell.py(2807)run_ast_nodes()\n",
      "-> code = compiler(mod, cell_name, \"single\")\n",
      "(Pdb) s\n",
      "--Call--\n",
      "> /anaconda3/lib/python3.6/codeop.py(132)__call__()\n",
      "-> def __call__(self, source, filename, symbol):\n",
      "(Pdb) s\n",
      "> /anaconda3/lib/python3.6/codeop.py(133)__call__()\n",
      "-> codeob = compile(source, filename, symbol, self.flags, 1)\n",
      "(Pdb) s\n",
      "> /anaconda3/lib/python3.6/codeop.py(134)__call__()\n",
      "-> for feature in _features:\n",
      "(Pdb) s\n",
      "> /anaconda3/lib/python3.6/codeop.py(135)__call__()\n",
      "-> if codeob.co_flags & feature.compiler_flag:\n",
      "(Pdb) s\n",
      "> /anaconda3/lib/python3.6/codeop.py(134)__call__()\n",
      "-> for feature in _features:\n",
      "(Pdb) \n",
      "> /anaconda3/lib/python3.6/codeop.py(135)__call__()\n",
      "-> if codeob.co_flags & feature.compiler_flag:\n",
      "(Pdb) s\n",
      "> /anaconda3/lib/python3.6/codeop.py(134)__call__()\n",
      "-> for feature in _features:\n",
      "(Pdb) s\n",
      "> /anaconda3/lib/python3.6/codeop.py(135)__call__()\n",
      "-> if codeob.co_flags & feature.compiler_flag:\n",
      "(Pdb) \n",
      "> /anaconda3/lib/python3.6/codeop.py(134)__call__()\n",
      "-> for feature in _features:\n",
      "(Pdb) s\n",
      "> /anaconda3/lib/python3.6/codeop.py(135)__call__()\n",
      "-> if codeob.co_flags & feature.compiler_flag:\n",
      "(Pdb) s\n",
      "> /anaconda3/lib/python3.6/codeop.py(134)__call__()\n",
      "-> for feature in _features:\n",
      "(Pdb) s\n",
      "> /anaconda3/lib/python3.6/codeop.py(135)__call__()\n",
      "-> if codeob.co_flags & feature.compiler_flag:\n"
     ]
    }
   ],
   "source": [
    "import pdb; pdb.set_trace()\n",
    "train_pipeline.run(BATCH_SIZE, shuffle=True, n_epochs=1, bar=True)"
   ]
  },
  {
   "cell_type": "code",
   "execution_count": null,
   "metadata": {},
   "outputs": [],
   "source": []
  }
 ],
 "metadata": {
  "kernelspec": {
   "display_name": "Python 3",
   "language": "python",
   "name": "python3"
  },
  "language_info": {
   "codemirror_mode": {
    "name": "ipython",
    "version": 3
   },
   "file_extension": ".py",
   "mimetype": "text/x-python",
   "name": "python",
   "nbconvert_exporter": "python",
   "pygments_lexer": "ipython3",
   "version": "3.6.3"
  }
 },
 "nbformat": 4,
 "nbformat_minor": 2
}
