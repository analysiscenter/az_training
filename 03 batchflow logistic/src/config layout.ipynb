{
 "cells": [
  {
   "cell_type": "markdown",
   "metadata": {},
   "source": [
    "logistic regression on mnist using batchflow over pytorch via config layout defenition"
   ]
  },
  {
   "cell_type": "code",
   "execution_count": 1,
   "metadata": {},
   "outputs": [],
   "source": [
    "import sys\n",
    "import warnings\n",
    "warnings.filterwarnings(\"ignore\")\n",
    "\n",
    "import numpy as np\n",
    "import tensorflow as tf\n",
    "\n",
    "import matplotlib.pyplot as plt\n",
    "%matplotlib inline\n",
    "\n",
    "sys.path.append('../../../batchflow')\n",
    "\n",
    "from batchflow import B, V, C, Pipeline, Config\n",
    "from batchflow.models.metrics import ClassificationMetrics\n",
    "from batchflow.models.torch.layers import Dense\n",
    "from batchflow.models.torch import TorchModel\n",
    "from batchflow.opensets import MNIST\n",
    "from batchflow import best_practice"
   ]
  },
  {
   "cell_type": "code",
   "execution_count": 2,
   "metadata": {},
   "outputs": [
    {
     "name": "stdout",
     "output_type": "stream",
     "text": [
      "Downloading http://yann.lecun.com/exdb/mnist/train-images-idx3-ubyte.gz\n",
      "Downloading http://yann.lecun.com/exdb/mnist/train-labels-idx1-ubyte.gz\n",
      "Extracting /var/folders/d0/4xbr3ghj1nz4yr0d97gg0wkc0000gn/T/train-images-idx3-ubyte.gz\n",
      "Extracting /var/folders/d0/4xbr3ghj1nz4yr0d97gg0wkc0000gn/T/train-labels-idx1-ubyte.gz\n",
      "Downloading http://yann.lecun.com/exdb/mnist/t10k-images-idx3-ubyte.gz\n",
      "Extracting /var/folders/d0/4xbr3ghj1nz4yr0d97gg0wkc0000gn/T/t10k-images-idx3-ubyte.gz\n",
      "Downloading http://yann.lecun.com/exdb/mnist/t10k-labels-idx1-ubyte.gz\n",
      "Extracting /var/folders/d0/4xbr3ghj1nz4yr0d97gg0wkc0000gn/T/t10k-labels-idx1-ubyte.gz\n"
     ]
    }
   ],
   "source": [
    "BATCH_SIZE = 64\n",
    "mnist = MNIST()"
   ]
  },
  {
   "cell_type": "code",
   "execution_count": 3,
   "metadata": {},
   "outputs": [],
   "source": [
    "model_config_f = {\n",
    "    'inputs': dict(images={'shape': (1, 28, 28),\n",
    "                           'data_format': 'channels_first'},\n",
    "                   labels={'classes': 10}),\n",
    "    'loss': 'ce',\n",
    "    'optimizer': 'Adam',\n",
    "    'initial_block/inputs': 'images',\n",
    "    'body/units': 10,\n",
    "    'body/layout': 'f',\n",
    "    'output': dict(predicted=['proba', 'labels'])\n",
    "}\n",
    "\n",
    "model_config_ff = model_config_f + Config({'body/layout' : 'fa f', 'body/units' : [1000,10]})"
   ]
  },
  {
   "cell_type": "code",
   "execution_count": 4,
   "metadata": {},
   "outputs": [],
   "source": [
    "train_pipeline = (mnist.train.p\n",
    "    .init_variable('loss_history_f', init_on_each_run=list)\n",
    "    .init_variable('loss_history_ff', init_on_each_run=list)\n",
    "    .init_model('dynamic', TorchModel, 'f', model_config_f)\n",
    "    .init_model('dynaminc', TorchModel, 'ff', model_config_ff)\n",
    "    .to_array('float32', 'channels_first')\n",
    "    .train_model('f', B('images'), B('labels'), fetches='loss', save_to=V('loss_history_f'), mode='a')\n",
    "    .train_model('ff', B('images'), B('labels'), fetches='loss', save_to=V('loss_history_ff'), mode='a')\n",
    ")"
   ]
  },
  {
   "cell_type": "code",
   "execution_count": 5,
   "metadata": {
    "scrolled": false
   },
   "outputs": [
    {
     "name": "stderr",
     "output_type": "stream",
     "text": [
      "100%|█████████▉| 937/938 [01:11<00:00, 13.18it/s]\n"
     ]
    }
   ],
   "source": [
    "train_pipeline.run(BATCH_SIZE, shuffle=True, n_epochs=1, bar=True);"
   ]
  },
  {
   "cell_type": "code",
   "execution_count": 6,
   "metadata": {},
   "outputs": [
    {
     "data": {
      "image/png": "[encoded data removed]",
      "text/plain": [
       "<Figure size 432x288 with 1 Axes>"
      ]
     },
     "metadata": {
      "needs_background": "light"
     },
     "output_type": "display_data"
    }
   ],
   "source": [
    "plt.plot(train_pipeline.get_variable('loss_history_f'))\n",
    "plt.plot(train_pipeline.get_variable('loss_history_ff'))\n",
    "plt.title('f & ff train losses');"
   ]
  },
  {
   "cell_type": "code",
   "execution_count": 7,
   "metadata": {},
   "outputs": [],
   "source": [
    "test_pipeline = (mnist.test.p\n",
    "    .init_variable('predictions_f')\n",
    "    .init_variable('predictions_ff')\n",
    "    .init_variable('metrics_f')\n",
    "    .init_variable('metrics_ff')\n",
    "    .import_model('f', train_pipeline)\n",
    "    .import_model('ff', train_pipeline)\n",
    "    .to_array('float32', 'channels_first')\n",
    "    .predict_model('f', B('images'), B('labels'),\n",
    "                   fetches='predicted_proba', save_to=V('predictions_f'), mode='w')\n",
    "    .predict_model('ff', B('images'), B('labels'),\n",
    "                   fetches='predicted_proba', save_to=V('predictions_ff'), mode='w')\n",
    "    .gather_metrics(ClassificationMetrics, targets=B('labels'), predictions=V('predictions_f'),\n",
    "                                fmt='logits', axis=1, save_to=V('metrics_f'), mode='u')\n",
    "    .gather_metrics(ClassificationMetrics, targets=B('labels'), predictions=V('predictions_ff'),\n",
    "                                fmt='logits', axis=1, save_to=V('metrics_ff'), mode='u')\n",
    "    .run(BATCH_SIZE, n_epochs=1)\n",
    ")"
   ]
  },
  {
   "cell_type": "code",
   "execution_count": 23,
   "metadata": {},
   "outputs": [],
   "source": [
    "metrics_f = test_pipeline.get_variable('metrics_f')\n",
    "metrics_ff = test_pipeline.get_variable('metrics_ff')"
   ]
  },
  {
   "cell_type": "code",
   "execution_count": 22,
   "metadata": {},
   "outputs": [
    {
     "name": "stdout",
     "output_type": "stream",
     "text": [
      "f:\n",
      "\n",
      " [[[ 958    0   18    3    1   12   10    2    8   14]\n",
      "  [   0 1055    9    1    0    2    1    4    5    3]\n",
      "  [   1   17  906   37    5    5   24   25    8    1]\n",
      "  [   1    2   13  815    2   18    0   12   16   10]\n",
      "  [   2    0    9    4  789   19   14    4    9   13]\n",
      "  [   5    1    7  108    1  780   28    3   85    7]\n",
      "  [   6    3   12    2   21   11  870    0    7    0]\n",
      "  [   2    1   11    7   13    4    1  919   10   24]\n",
      "  [   3   54   39   21   19   33    8    9  808   12]\n",
      "  [   2    2    8   12  131    8    2   50   18  925]]] \n",
      "\n",
      "fa f\n",
      "\n",
      " [[[ 949    0    3    0    0    6   12    3    2    4]\n",
      "  [   0 1114    0    0    0    1    3    4    0    4]\n",
      "  [  10    4  971   12   10    4    4   72   18   17]\n",
      "  [   4    6   32  986    0   84    2   52   40   17]\n",
      "  [   0    0    1    1  934    3    7    5    4   35]\n",
      "  [   1    0    0    0    0  740    7    0    7    2]\n",
      "  [  10    3    2    0    5    9  915    0    0    0]\n",
      "  [   0    1    1    2    3    0    1  862    3    7]\n",
      "  [   5    7   22    5   12   27    7   13  890   35]\n",
      "  [   1    0    0    4   18   18    0   17   10  888]]]\n"
     ]
    }
   ],
   "source": [
    "print('f:\\n\\n', metrics_f._confusion_matrix, '\\n\\nfa f\\n\\n' , metrics_ff._confusion_matrix)"
   ]
  },
  {
   "cell_type": "code",
   "execution_count": 24,
   "metadata": {},
   "outputs": [
    {
     "data": {
      "text/plain": [
       "(0.8825, 0.9249)"
      ]
     },
     "execution_count": 24,
     "metadata": {},
     "output_type": "execute_result"
    }
   ],
   "source": [
    "metrics_f.evaluate('accuracy'), metrics_ff.evaluate('accuracy')"
   ]
  },
  {
   "cell_type": "code",
   "execution_count": 26,
   "metadata": {},
   "outputs": [],
   "source": [
    "train_pipeline.save_model('f', path='../models/config layout f')\n",
    "train_pipeline.save_model('f', path='../models/config layout ff')"
   ]
  }
 ],
 "metadata": {
  "kernelspec": {
   "display_name": "Python 3",
   "language": "python",
   "name": "python3"
  },
  "language_info": {
   "codemirror_mode": {
    "name": "ipython",
    "version": 3
   },
   "file_extension": ".py",
   "mimetype": "text/x-python",
   "name": "python",
   "nbconvert_exporter": "python",
   "pygments_lexer": "ipython3",
   "version": "3.6.3"
  }
 },
 "nbformat": 4,
 "nbformat_minor": 2
}
