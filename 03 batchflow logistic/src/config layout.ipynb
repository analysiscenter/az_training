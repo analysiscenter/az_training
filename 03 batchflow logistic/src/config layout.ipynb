{
 "cells": [
  {
   "cell_type": "markdown",
   "metadata": {},
   "source": [
    "logistic regression on mnist using batchflow over pytorch via config layout defenition"
   ]
  },
  {
   "cell_type": "code",
   "execution_count": 1,
   "metadata": {},
   "outputs": [],
   "source": [
    "import sys\n",
    "import warnings\n",
    "warnings.filterwarnings(\"ignore\")\n",
    "\n",
    "import numpy as np\n",
    "import tensorflow as tf\n",
    "\n",
    "import matplotlib.pyplot as plt\n",
    "%matplotlib inline\n",
    "\n",
    "sys.path.append('../../../batchflow')\n",
    "\n",
    "from batchflow import B, V, C, Pipeline, Config\n",
    "from batchflow.models.metrics import ClassificationMetrics\n",
    "from batchflow.models.torch.layers import Dense\n",
    "from batchflow.models.torch import TorchModel\n",
    "from batchflow.opensets import MNIST\n",
    "from batchflow import best_practice"
   ]
  },
  {
   "cell_type": "code",
   "execution_count": 2,
   "metadata": {},
   "outputs": [
    {
     "name": "stdout",
     "output_type": "stream",
     "text": [
      "Downloading http://yann.lecun.com/exdb/mnist/train-images-idx3-ubyte.gz\n",
      "Extracting /var/folders/d0/4xbr3ghj1nz4yr0d97gg0wkc0000gn/T/train-images-idx3-ubyte.gz\n",
      "Downloading http://yann.lecun.com/exdb/mnist/train-labels-idx1-ubyte.gz\n",
      "Extracting /var/folders/d0/4xbr3ghj1nz4yr0d97gg0wkc0000gn/T/train-labels-idx1-ubyte.gz\n",
      "Downloading http://yann.lecun.com/exdb/mnist/t10k-images-idx3-ubyte.gz\n",
      "Extracting /var/folders/d0/4xbr3ghj1nz4yr0d97gg0wkc0000gn/T/t10k-images-idx3-ubyte.gz\n",
      "Downloading http://yann.lecun.com/exdb/mnist/t10k-labels-idx1-ubyte.gz\n",
      "Extracting /var/folders/d0/4xbr3ghj1nz4yr0d97gg0wkc0000gn/T/t10k-labels-idx1-ubyte.gz\n"
     ]
    }
   ],
   "source": [
    "BATCH_SIZE = 64\n",
    "mnist = MNIST()"
   ]
  },
  {
   "cell_type": "code",
   "execution_count": 3,
   "metadata": {},
   "outputs": [],
   "source": [
    "model_config_f = {\n",
    "    'inputs': dict(images={'shape': (1, 28, 28),\n",
    "                           'data_format': 'channels_first'},\n",
    "                   labels={'classes': 10}),\n",
    "    'loss': 'ce',\n",
    "    'optimizer': 'Adam',\n",
    "    'initial_block/inputs': 'images',\n",
    "    'body/units': 10,\n",
    "    'body/layout': 'f',\n",
    "    'output': dict(predicted=['proba', 'labels'])\n",
    "}\n",
    "\n",
    "model_config_ff = model_config_f + Config({'body/layout' : 'fa f', 'body/units' : [1000,10]})"
   ]
  },
  {
   "cell_type": "code",
   "execution_count": 4,
   "metadata": {},
   "outputs": [],
   "source": [
    "train_pipeline = (mnist.train.p\n",
    "    .init_variable('loss_history_f', init_on_each_run=list)\n",
    "    .init_variable('loss_history_ff', init_on_each_run=list)\n",
    "    .init_model('dynamic', TorchModel, 'f', model_config_f)\n",
    "    .init_model('dynaminc', TorchModel, 'ff', model_config_ff)\n",
    "    .to_array('float32', 'channels_first')\n",
    "    .train_model('f', B('images'), B('labels'), fetches='loss', save_to=V('loss_history_f'), mode='a')\n",
    "    .train_model('ff', B('images'), B('labels'), fetches='loss', save_to=V('loss_history_ff'), mode='a')\n",
    ")"
   ]
  },
  {
   "cell_type": "code",
   "execution_count": 5,
   "metadata": {
    "scrolled": false
   },
   "outputs": [
    {
     "name": "stderr",
     "output_type": "stream",
     "text": [
      "100%|█████████▉| 937/938 [00:27<00:00, 27.62it/s]\n"
     ]
    }
   ],
   "source": [
    "train_pipeline.run(BATCH_SIZE, shuffle=True, n_epochs=1, bar=True);"
   ]
  },
  {
   "cell_type": "code",
   "execution_count": 6,
   "metadata": {},
   "outputs": [
    {
     "data": {
      "image/png": "[encoded data removed]",
      "text/plain": [
       "<Figure size 432x288 with 1 Axes>"
      ]
     },
     "metadata": {
      "needs_background": "light"
     },
     "output_type": "display_data"
    }
   ],
   "source": [
    "plt.plot(train_pipeline.get_variable('loss_history_f'))\n",
    "plt.plot(train_pipeline.get_variable('loss_history_ff'))\n",
    "plt.title('f & ff train losses');"
   ]
  },
  {
   "cell_type": "code",
   "execution_count": 7,
   "metadata": {},
   "outputs": [
    {
     "name": "stderr",
     "output_type": "stream",
     "text": [
      " 99%|█████████▉| 156/157 [00:02<00:00, 75.88it/s]\n"
     ]
    }
   ],
   "source": [
    "test_pipeline = (mnist.test.p\n",
    "    .init_variable('predictions_f')\n",
    "    .init_variable('predictions_ff')\n",
    "    .init_variable('metrics_f')\n",
    "    .init_variable('metrics_ff')\n",
    "    .import_model('f', train_pipeline)\n",
    "    .import_model('ff', train_pipeline)\n",
    "    .to_array('float32', 'channels_first')\n",
    "    .predict_model('f', B('images'), B('labels'),\n",
    "                   fetches='predicted_proba', save_to=V('predictions_f'), mode='w')\n",
    "    .predict_model('ff', B('images'), B('labels'),\n",
    "                   fetches='predicted_proba', save_to=V('predictions_ff'), mode='w')\n",
    "    .gather_metrics(ClassificationMetrics, targets=B('labels'), predictions=V('predictions_f'),\n",
    "                                fmt='logits', axis=1, save_to=V('metrics_f'), mode='u')\n",
    "    .gather_metrics(ClassificationMetrics, targets=B('labels'), predictions=V('predictions_ff'),\n",
    "                                fmt='logits', axis=1, save_to=V('metrics_ff'), mode='u')\n",
    "    .run(BATCH_SIZE, n_epochs=1, bar=True)\n",
    ")"
   ]
  },
  {
   "cell_type": "code",
   "execution_count": 8,
   "metadata": {},
   "outputs": [],
   "source": [
    "metrics_f = test_pipeline.get_variable('metrics_f')\n",
    "metrics_ff = test_pipeline.get_variable('metrics_ff')"
   ]
  },
  {
   "cell_type": "code",
   "execution_count": 9,
   "metadata": {},
   "outputs": [
    {
     "name": "stdout",
     "output_type": "stream",
     "text": [
      "f:\n",
      "\n",
      " [[[ 935    0    6    3    2    8    8    0    6    5]\n",
      "  [   0 1090   28    2    1    1    3    6    4    1]\n",
      "  [   0    6  871   26    2    0    3   16   10    0]\n",
      "  [   2   15   27  893    1   58    3    5   26   15]\n",
      "  [   1    1    8    4  914   20    2    8   21   64]\n",
      "  [   7    4    5   30    0  735   21    0   31    1]\n",
      "  [  22    3   23    4   14   10  914    0    9    1]\n",
      "  [   7    2   28   19   17   18    2  969   25   96]\n",
      "  [   6   14   31   26    9   38    2    7  839   14]\n",
      "  [   0    0    5    3   22    4    0   17    3  812]]] \n",
      "\n",
      "fa f\n",
      "\n",
      " [[[ 961    0    7    0    0    5    5    2    2    2]\n",
      "  [   0 1120   26    0    1    2    3    4    2    3]\n",
      "  [   0    2  880    3    4    1    4    6    0    2]\n",
      "  [   1    1   58  976    0   26    0    7   11   13]\n",
      "  [   1    1    4    2  959    3    6   11    6  119]\n",
      "  [   0    1    0    5    1  831    9    0    8    3]\n",
      "  [   5    3    2    0    5    3  927    0    4    1]\n",
      "  [   4    3   28    3    4    2    0  993    9   28]\n",
      "  [   8    4   27   17    4   15    4    0  931   14]\n",
      "  [   0    0    0    4    4    4    0    5    1  824]]]\n"
     ]
    }
   ],
   "source": [
    "print('f:\\n\\n', metrics_f._confusion_matrix, '\\n\\nfa f\\n\\n' , metrics_ff._confusion_matrix)"
   ]
  },
  {
   "cell_type": "code",
   "execution_count": 10,
   "metadata": {},
   "outputs": [
    {
     "data": {
      "text/plain": [
       "(0.8972, 0.9402)"
      ]
     },
     "execution_count": 10,
     "metadata": {},
     "output_type": "execute_result"
    }
   ],
   "source": [
    "metrics_f.evaluate('accuracy'), metrics_ff.evaluate('accuracy')"
   ]
  },
  {
   "cell_type": "code",
   "execution_count": 11,
   "metadata": {},
   "outputs": [],
   "source": [
    "train_pipeline.save_model('f', path='../models/config layout f')\n",
    "train_pipeline.save_model('f', path='../models/config layout ff')"
   ]
  }
 ],
 "metadata": {
  "kernelspec": {
   "display_name": "Python 3",
   "language": "python",
   "name": "python3"
  },
  "language_info": {
   "codemirror_mode": {
    "name": "ipython",
    "version": 3
   },
   "file_extension": ".py",
   "mimetype": "text/x-python",
   "name": "python",
   "nbconvert_exporter": "python",
   "pygments_lexer": "ipython3",
   "version": "3.6.3"
  }
 },
 "nbformat": 4,
 "nbformat_minor": 2
}
