{
 "cells": [
  {
   "cell_type": "markdown",
   "metadata": {},
   "source": [
    "logistic regression on mnist using batchflow over pytorch via model body redefenition"
   ]
  },
  {
   "cell_type": "code",
   "execution_count": 1,
   "metadata": {},
   "outputs": [],
   "source": [
    "import sys\n",
    "import warnings\n",
    "warnings.filterwarnings(\"ignore\")\n",
    "\n",
    "import numpy as np\n",
    "import tensorflow as tf\n",
    "\n",
    "import matplotlib.pyplot as plt\n",
    "%matplotlib inline\n",
    "\n",
    "sys.path.append('../../../batchflow')\n",
    "\n",
    "from batchflow import B, V, Pipeline, Config\n",
    "from batchflow.models.metrics import ClassificationMetrics\n",
    "from batchflow.models.torch.layers import Dense\n",
    "from batchflow.models.torch import TorchModel\n",
    "from batchflow.opensets import MNIST\n",
    "from batchflow import best_practice"
   ]
  },
  {
   "cell_type": "code",
   "execution_count": 2,
   "metadata": {},
   "outputs": [
    {
     "name": "stdout",
     "output_type": "stream",
     "text": [
      "Downloading http://yann.lecun.com/exdb/mnist/train-images-idx3-ubyte.gz\n",
      "Downloading http://yann.lecun.com/exdb/mnist/train-labels-idx1-ubyte.gz\n",
      "Downloading http://yann.lecun.com/exdb/mnist/t10k-images-idx3-ubyte.gz\n",
      "ExtractingExtracting Downloading /var/folders/d0/4xbr3ghj1nz4yr0d97gg0wkc0000gn/T/train-images-idx3-ubyte.gz\n",
      " http://yann.lecun.com/exdb/mnist/t10k-labels-idx1-ubyte.gz\n",
      "ExtractingExtracting /var/folders/d0/4xbr3ghj1nz4yr0d97gg0wkc0000gn/T/train-labels-idx1-ubyte.gz /var/folders/d0/4xbr3ghj1nz4yr0d97gg0wkc0000gn/T/t10k-labels-idx1-ubyte.gz\n",
      "\n",
      "/var/folders/d0/4xbr3ghj1nz4yr0d97gg0wkc0000gn/T/t10k-images-idx3-ubyte.gz\n"
     ]
    }
   ],
   "source": [
    "BATCH_SIZE = 64\n",
    "mnist = MNIST()"
   ]
  },
  {
   "cell_type": "code",
   "execution_count": 3,
   "metadata": {},
   "outputs": [],
   "source": [
    "class MyModel(TorchModel):\n",
    "    @classmethod\n",
    "    def body(cls, **kwargs):\n",
    "        kwargs = cls.get_defaults('body', kwargs)\n",
    "        return Dense(inputs=kwargs['inputs'], units=kwargs['units'])"
   ]
  },
  {
   "cell_type": "code",
   "execution_count": 4,
   "metadata": {},
   "outputs": [],
   "source": [
    "model_config = {\n",
    "    'inputs': dict(images={'shape': (1, 28, 28),\n",
    "                           'data_format': 'channels_first'},\n",
    "                   labels={'classes': 10}),\n",
    "    'loss': 'ce',\n",
    "    'optimizer': 'Adam',\n",
    "    'initial_block/inputs': 'images',\n",
    "    'body/units': 10,\n",
    "    'output': dict(predicted=['proba', 'labels'])\n",
    "}"
   ]
  },
  {
   "cell_type": "code",
   "execution_count": 5,
   "metadata": {},
   "outputs": [],
   "source": [
    "train_pipeline = (mnist.train.p\n",
    "    .init_variable('loss_history', init_on_each_run=list)\n",
    "    .init_model('dynamic', MyModel, 'my_model', model_config)\n",
    "    .to_array('float32', 'channels_first')\n",
    "    .train_model('my_model', B('images'), B('labels'), fetches='loss', save_to=V('loss_history'), mode='a')\n",
    ")"
   ]
  },
  {
   "cell_type": "code",
   "execution_count": 6,
   "metadata": {
    "scrolled": false
   },
   "outputs": [
    {
     "name": "stderr",
     "output_type": "stream",
     "text": [
      "100%|█████████▉| 937/938 [00:08<00:00, 107.44it/s]\n"
     ]
    }
   ],
   "source": [
    "train_pipeline.run(BATCH_SIZE, shuffle=True, n_epochs=1, bar=True);"
   ]
  },
  {
   "cell_type": "code",
   "execution_count": 15,
   "metadata": {},
   "outputs": [
    {
     "data": {
      "image/png": "[encoded data removed]",
      "text/plain": [
       "<Figure size 432x288 with 1 Axes>"
      ]
     },
     "metadata": {
      "needs_background": "light"
     },
     "output_type": "display_data"
    }
   ],
   "source": [
    "plt.plot(train_pipeline.get_variable('loss_history'));\n",
    "plt.title('train loss');"
   ]
  },
  {
   "cell_type": "code",
   "execution_count": 8,
   "metadata": {},
   "outputs": [],
   "source": [
    "test_pipeline = (mnist.test.p\n",
    "    .init_variable('predictions')\n",
    "    .init_variable('metrics')\n",
    "    .import_model('my_model', train_pipeline)\n",
    "    .to_array('float32', 'channels_first')\n",
    "    .predict_model('my_model', B('images'), B('labels'),\n",
    "                   fetches='predicted_proba', save_to=V('predictions'), mode='w')\n",
    "    .gather_metrics(ClassificationMetrics, targets=B('labels'), predictions=V('predictions'),\n",
    "                                fmt='logits', axis=1, save_to=V('metrics'), mode='u')\n",
    ")"
   ]
  },
  {
   "cell_type": "code",
   "execution_count": 9,
   "metadata": {},
   "outputs": [],
   "source": [
    "test_pipeline.run(BATCH_SIZE, n_epochs=1);"
   ]
  },
  {
   "cell_type": "code",
   "execution_count": 10,
   "metadata": {},
   "outputs": [],
   "source": [
    "metrics = test_pipeline.get_variable('metrics')"
   ]
  },
  {
   "cell_type": "code",
   "execution_count": 11,
   "metadata": {},
   "outputs": [
    {
     "data": {
      "text/plain": [
       "array([[[ 880,    0,    5,    1,    0,    6,    4,    1,    4,    2],\n",
       "        [   0, 1098,    9,    0,    2,    2,    1,    8,    7,    4],\n",
       "        [   4,    2,  861,   15,    7,    1,    5,   11,    3,    5],\n",
       "        [   4,    4,   46,  860,    4,   23,    2,   12,   23,    5],\n",
       "        [   0,    0,    5,    0,  849,    2,    3,    0,    4,   24],\n",
       "        [  44,    6,   10,   82,    6,  787,   14,    3,   98,   30],\n",
       "        [  35,    5,   23,    6,   32,   33,  927,    1,   35,    1],\n",
       "        [   5,    2,   14,   12,   10,    5,    1,  958,   16,   41],\n",
       "        [   5,   14,   54,   16,   14,   26,    1,    5,  755,    6],\n",
       "        [   3,    4,    5,   18,   58,    7,    0,   29,   29,  891]]])"
      ]
     },
     "execution_count": 11,
     "metadata": {},
     "output_type": "execute_result"
    }
   ],
   "source": [
    "metrics._confusion_matrix"
   ]
  },
  {
   "cell_type": "code",
   "execution_count": 12,
   "metadata": {},
   "outputs": [
    {
     "data": {
      "text/plain": [
       "0.8866"
      ]
     },
     "execution_count": 12,
     "metadata": {},
     "output_type": "execute_result"
    }
   ],
   "source": [
    "metrics.evaluate('accuracy')"
   ]
  },
  {
   "cell_type": "code",
   "execution_count": 20,
   "metadata": {},
   "outputs": [
    {
     "data": {
      "text/plain": [
       "{'false_negative_rate': array([0.10204082, 0.03259912, 0.16569767, 0.14851485, 0.13543788,\n",
       "        0.117713  , 0.03235908, 0.06809339, 0.224846  , 0.11694747]),\n",
       " 'false_positive_rate': array([0.00254989, 0.0037225 , 0.0059099 , 0.01368187, 0.00421379,\n",
       "        0.03216952, 0.01891175, 0.01181453, 0.01562154, 0.01701702]),\n",
       " 'true_negative_rate': array([0.99745011, 0.9962775 , 0.9940901 , 0.98631813, 0.99578621,\n",
       "        0.96783048, 0.98108825, 0.98818547, 0.98437846, 0.98298298]),\n",
       " 'true_positive_rate': array([0.89795918, 0.96740088, 0.83430233, 0.85148515, 0.86456212,\n",
       "        0.882287  , 0.96764092, 0.93190661, 0.775154  , 0.88305253])}"
      ]
     },
     "execution_count": 20,
     "metadata": {},
     "output_type": "execute_result"
    }
   ],
   "source": [
    "metrics.evaluate(['true_positive_rate', 'true_negative_rate',\n",
    "                  'false_positive_rate', 'false_negative_rate'], multiclass=None)"
   ]
  },
  {
   "cell_type": "code",
   "execution_count": 24,
   "metadata": {},
   "outputs": [],
   "source": [
    "train_pipeline.save_model('my_model', path='../models/body redef')"
   ]
  }
 ],
 "metadata": {
  "kernelspec": {
   "display_name": "Python 3",
   "language": "python",
   "name": "python3"
  },
  "language_info": {
   "codemirror_mode": {
    "name": "ipython",
    "version": 3
   },
   "file_extension": ".py",
   "mimetype": "text/x-python",
   "name": "python",
   "nbconvert_exporter": "python",
   "pygments_lexer": "ipython3",
   "version": "3.6.3"
  }
 },
 "nbformat": 4,
 "nbformat_minor": 2
}
