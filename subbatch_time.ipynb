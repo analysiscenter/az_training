{
 "cells": [
  {
   "cell_type": "code",
   "execution_count": 1,
   "metadata": {
    "collapsed": false
   },
   "outputs": [],
   "source": [
    "import numpy as np\n",
    "import matplotlib.pyplot as plt\n",
    "from time import time\n",
    "from tqdm import tqdm_notebook as tqm\n",
    "import tensorflow as tf\n",
    "\n",
    "from subbatch import Subbatch\n",
    "from dataset import Dataset, Batch, model, DatasetIndex, action\n",
    "\n",
    "%matplotlib inline"
   ]
  },
  {
   "cell_type": "code",
   "execution_count": 5,
   "metadata": {
    "collapsed": false
   },
   "outputs": [],
   "source": [
    "BATCHSIZE = 100\n",
    "MNISTSIZE = 1000\n",
    "\n",
    "ix = DatasetIndex(range(MNISTSIZE))\n",
    "dset = Dataset(ix, Subbatch)"
   ]
  },
  {
   "cell_type": "code",
   "execution_count": null,
   "metadata": {
    "collapsed": false
   },
   "outputs": [
    {
     "name": "stdout",
     "output_type": "stream",
     "text": [
      "\n",
      "\n"
     ]
    }
   ],
   "source": [
    "iter_time = []\n",
    "acc = []\n",
    "times = []\n",
    "grid = np.arange(1,101)[(100 % np.arange(1,101)) == 0]\n",
    "for NUM_SUBBATCHES in grid:\n",
    "    tf.reset_default_graph()\n",
    "    sess = tf.Session()\n",
    "    ppl = (dset.p\n",
    "           .init_variable(\"NUM_SUBBATCHES\", NUM_SUBBATCHES)\n",
    "           .init_variable(\"session\", sess)\n",
    "           .load()\n",
    "           .train(sess,iter_time,acc)) #заснуть время сюда\n",
    "\n",
    "    for i in tqm(range(100)):\n",
    "        ppl.next_batch(batch_size=BATCHSIZE, shuffle=True, n_epochs=10)\n",
    "    times.append(np.mean(iter_time[1:]))"
   ]
  },
  {
   "cell_type": "code",
   "execution_count": 6,
   "metadata": {
    "collapsed": false
   },
   "outputs": [
    {
     "data": {
      "image/png": "[encoded data removed]",
      "text/plain": [
       "<matplotlib.figure.Figure at 0xf615ef0>"
      ]
     },
     "metadata": {},
     "output_type": "display_data"
    }
   ],
   "source": [
    "plt.plot(grid, times)\n",
    "plt.xlabel('Number of subbatches')\n",
    "plt.ylabel('Timer per iteration')\n",
    "plt.show()"
   ]
  },
  {
   "cell_type": "code",
   "execution_count": null,
   "metadata": {
    "collapsed": true
   },
   "outputs": [],
   "source": []
  }
 ],
 "metadata": {
  "kernelspec": {
   "display_name": "Python 3",
   "language": "python",
   "name": "python3"
  },
  "language_info": {
   "codemirror_mode": {
    "name": "ipython",
    "version": 3
   },
   "file_extension": ".py",
   "mimetype": "text/x-python",
   "name": "python",
   "nbconvert_exporter": "python",
   "pygments_lexer": "ipython3",
   "version": "3.6.0"
  },
  "widgets": {
   "state": {
    "03ecb5ba74d54c61bd28f3dca8ecefea": {
     "views": [
      {
       "cell_index": 2
      }
     ]
    },
    "0f2a4b1ef6a246c584731acf7a01c5d8": {
     "views": [
      {
       "cell_index": 2
      }
     ]
    },
    "1b757a90ae1e411cbeb65555a87379ba": {
     "views": [
      {
       "cell_index": 2
      }
     ]
    },
    "3d1fd2b6958145da9feb3c58e2658398": {
     "views": [
      {
       "cell_index": 2
      }
     ]
    },
    "7b27d8af4d0d4ab1bed2cf193457c389": {
     "views": [
      {
       "cell_index": 2
      }
     ]
    },
    "8002369cde134c3f83bc02540ab5ab7d": {
     "views": [
      {
       "cell_index": 2
      }
     ]
    },
    "82621a0d8a8b44ada53de5f38b6a2f8a": {
     "views": [
      {
       "cell_index": 2
      }
     ]
    },
    "b12be19d911d4b0c89e44c0e7ea3406f": {
     "views": [
      {
       "cell_index": 2
      }
     ]
    },
    "b60ca31355954d6ab2ca965afaee706a": {
     "views": [
      {
       "cell_index": 2
      }
     ]
    },
    "e2a058fea9514f3ca128839a4430334a": {
     "views": [
      {
       "cell_index": 2
      }
     ]
    }
   },
   "version": "1.2.0"
  }
 },
 "nbformat": 4,
 "nbformat_minor": 2
}
