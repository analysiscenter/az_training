{
 "cells": [
  {
   "cell_type": "code",
   "execution_count": 20,
   "metadata": {
    "collapsed": true
   },
   "outputs": [],
   "source": [
    "import torch\n",
    "import torchvision\n",
    "import numpy as np\n",
    "import pandas as pd\n",
    "import sklearn.datasets\n",
    "import matplotlib.pyplot as plt\n",
    "\n",
    "from torch.autograd import Variable\n",
    "from sklearn.model_selection import train_test_split\n",
    "\n",
    "%matplotlib inline"
   ]
  },
  {
   "cell_type": "code",
   "execution_count": 22,
   "metadata": {},
   "outputs": [
    {
     "data": {
      "text/html": [
       "<div>\n",
       "<style>\n",
       "    .dataframe thead tr:only-child th {\n",
       "        text-align: right;\n",
       "    }\n",
       "\n",
       "    .dataframe thead th {\n",
       "        text-align: left;\n",
       "    }\n",
       "\n",
       "    .dataframe tbody tr th {\n",
       "        vertical-align: top;\n",
       "    }\n",
       "</style>\n",
       "<table border=\"1\" class=\"dataframe\">\n",
       "  <thead>\n",
       "    <tr style=\"text-align: right;\">\n",
       "      <th></th>\n",
       "      <th>MedInc</th>\n",
       "      <th>HouseAge</th>\n",
       "      <th>AveRooms</th>\n",
       "      <th>AveBedrms</th>\n",
       "      <th>Population</th>\n",
       "      <th>AveOccup</th>\n",
       "      <th>Latitude</th>\n",
       "      <th>Longitude</th>\n",
       "      <th>Price</th>\n",
       "    </tr>\n",
       "  </thead>\n",
       "  <tbody>\n",
       "    <tr>\n",
       "      <th>0</th>\n",
       "      <td>8.3252</td>\n",
       "      <td>41.0</td>\n",
       "      <td>6.984127</td>\n",
       "      <td>1.023810</td>\n",
       "      <td>322.0</td>\n",
       "      <td>2.555556</td>\n",
       "      <td>37.88</td>\n",
       "      <td>-122.23</td>\n",
       "      <td>4.526</td>\n",
       "    </tr>\n",
       "    <tr>\n",
       "      <th>1</th>\n",
       "      <td>8.3014</td>\n",
       "      <td>21.0</td>\n",
       "      <td>6.238137</td>\n",
       "      <td>0.971880</td>\n",
       "      <td>2401.0</td>\n",
       "      <td>2.109842</td>\n",
       "      <td>37.86</td>\n",
       "      <td>-122.22</td>\n",
       "      <td>3.585</td>\n",
       "    </tr>\n",
       "    <tr>\n",
       "      <th>2</th>\n",
       "      <td>7.2574</td>\n",
       "      <td>52.0</td>\n",
       "      <td>8.288136</td>\n",
       "      <td>1.073446</td>\n",
       "      <td>496.0</td>\n",
       "      <td>2.802260</td>\n",
       "      <td>37.85</td>\n",
       "      <td>-122.24</td>\n",
       "      <td>3.521</td>\n",
       "    </tr>\n",
       "    <tr>\n",
       "      <th>3</th>\n",
       "      <td>5.6431</td>\n",
       "      <td>52.0</td>\n",
       "      <td>5.817352</td>\n",
       "      <td>1.073059</td>\n",
       "      <td>558.0</td>\n",
       "      <td>2.547945</td>\n",
       "      <td>37.85</td>\n",
       "      <td>-122.25</td>\n",
       "      <td>3.413</td>\n",
       "    </tr>\n",
       "    <tr>\n",
       "      <th>4</th>\n",
       "      <td>3.8462</td>\n",
       "      <td>52.0</td>\n",
       "      <td>6.281853</td>\n",
       "      <td>1.081081</td>\n",
       "      <td>565.0</td>\n",
       "      <td>2.181467</td>\n",
       "      <td>37.85</td>\n",
       "      <td>-122.25</td>\n",
       "      <td>3.422</td>\n",
       "    </tr>\n",
       "  </tbody>\n",
       "</table>\n",
       "</div>"
      ],
      "text/plain": [
       "   MedInc  HouseAge  AveRooms  AveBedrms  Population  AveOccup  Latitude  \\\n",
       "0  8.3252      41.0  6.984127   1.023810       322.0  2.555556     37.88   \n",
       "1  8.3014      21.0  6.238137   0.971880      2401.0  2.109842     37.86   \n",
       "2  7.2574      52.0  8.288136   1.073446       496.0  2.802260     37.85   \n",
       "3  5.6431      52.0  5.817352   1.073059       558.0  2.547945     37.85   \n",
       "4  3.8462      52.0  6.281853   1.081081       565.0  2.181467     37.85   \n",
       "\n",
       "   Longitude  Price  \n",
       "0    -122.23  4.526  \n",
       "1    -122.22  3.585  \n",
       "2    -122.24  3.521  \n",
       "3    -122.25  3.413  \n",
       "4    -122.25  3.422  "
      ]
     },
     "execution_count": 22,
     "metadata": {},
     "output_type": "execute_result"
    }
   ],
   "source": [
    "houses = sklearn.datasets.fetch_california_housing('../data')\n",
    "data = pd.DataFrame(houses.data, columns=houses.feature_names)\n",
    "data = data.assign(Price = houses.target)\n",
    "data.head()"
   ]
  },
  {
   "cell_type": "code",
   "execution_count": 23,
   "metadata": {
    "collapsed": true
   },
   "outputs": [],
   "source": [
    "std = data.describe().loc['mean':'std',:]\n",
    "for col in houses.feature_names:\n",
    "    data[col] = (data[col]-std[col]['mean'])/std[col]['std']"
   ]
  },
  {
   "cell_type": "code",
   "execution_count": 25,
   "metadata": {
    "collapsed": true
   },
   "outputs": [],
   "source": [
    "logflag = False\n",
    "if logflag == True:\n",
    "    data['Price'] = np.log(data['Price'])"
   ]
  },
  {
   "cell_type": "code",
   "execution_count": 26,
   "metadata": {
    "scrolled": true
   },
   "outputs": [
    {
     "data": {
      "text/html": [
       "<div>\n",
       "<style>\n",
       "    .dataframe thead tr:only-child th {\n",
       "        text-align: right;\n",
       "    }\n",
       "\n",
       "    .dataframe thead th {\n",
       "        text-align: left;\n",
       "    }\n",
       "\n",
       "    .dataframe tbody tr th {\n",
       "        vertical-align: top;\n",
       "    }\n",
       "</style>\n",
       "<table border=\"1\" class=\"dataframe\">\n",
       "  <thead>\n",
       "    <tr style=\"text-align: right;\">\n",
       "      <th></th>\n",
       "      <th>Bias</th>\n",
       "      <th>MedInc</th>\n",
       "      <th>HouseAge</th>\n",
       "      <th>AveRooms</th>\n",
       "      <th>AveBedrms</th>\n",
       "      <th>Population</th>\n",
       "      <th>AveOccup</th>\n",
       "      <th>Latitude</th>\n",
       "      <th>Longitude</th>\n",
       "      <th>Price</th>\n",
       "    </tr>\n",
       "  </thead>\n",
       "  <tbody>\n",
       "    <tr>\n",
       "      <th>0</th>\n",
       "      <td>1</td>\n",
       "      <td>2.344709</td>\n",
       "      <td>0.982119</td>\n",
       "      <td>0.628544</td>\n",
       "      <td>-0.153754</td>\n",
       "      <td>-0.974405</td>\n",
       "      <td>-0.049595</td>\n",
       "      <td>1.052523</td>\n",
       "      <td>-1.327803</td>\n",
       "      <td>4.526</td>\n",
       "    </tr>\n",
       "    <tr>\n",
       "      <th>1</th>\n",
       "      <td>1</td>\n",
       "      <td>2.332181</td>\n",
       "      <td>-0.607004</td>\n",
       "      <td>0.327033</td>\n",
       "      <td>-0.263329</td>\n",
       "      <td>0.861418</td>\n",
       "      <td>-0.092510</td>\n",
       "      <td>1.043159</td>\n",
       "      <td>-1.322812</td>\n",
       "      <td>3.585</td>\n",
       "    </tr>\n",
       "    <tr>\n",
       "      <th>2</th>\n",
       "      <td>1</td>\n",
       "      <td>1.782656</td>\n",
       "      <td>1.856137</td>\n",
       "      <td>1.155592</td>\n",
       "      <td>-0.049015</td>\n",
       "      <td>-0.820757</td>\n",
       "      <td>-0.025842</td>\n",
       "      <td>1.038478</td>\n",
       "      <td>-1.332794</td>\n",
       "      <td>3.521</td>\n",
       "    </tr>\n",
       "    <tr>\n",
       "      <th>3</th>\n",
       "      <td>1</td>\n",
       "      <td>0.932945</td>\n",
       "      <td>1.856137</td>\n",
       "      <td>0.156962</td>\n",
       "      <td>-0.049832</td>\n",
       "      <td>-0.766010</td>\n",
       "      <td>-0.050328</td>\n",
       "      <td>1.038478</td>\n",
       "      <td>-1.337785</td>\n",
       "      <td>3.413</td>\n",
       "    </tr>\n",
       "    <tr>\n",
       "      <th>4</th>\n",
       "      <td>1</td>\n",
       "      <td>-0.012881</td>\n",
       "      <td>1.856137</td>\n",
       "      <td>0.344702</td>\n",
       "      <td>-0.032905</td>\n",
       "      <td>-0.759828</td>\n",
       "      <td>-0.085614</td>\n",
       "      <td>1.038478</td>\n",
       "      <td>-1.337785</td>\n",
       "      <td>3.422</td>\n",
       "    </tr>\n",
       "  </tbody>\n",
       "</table>\n",
       "</div>"
      ],
      "text/plain": [
       "   Bias    MedInc  HouseAge  AveRooms  AveBedrms  Population  AveOccup  \\\n",
       "0     1  2.344709  0.982119  0.628544  -0.153754   -0.974405 -0.049595   \n",
       "1     1  2.332181 -0.607004  0.327033  -0.263329    0.861418 -0.092510   \n",
       "2     1  1.782656  1.856137  1.155592  -0.049015   -0.820757 -0.025842   \n",
       "3     1  0.932945  1.856137  0.156962  -0.049832   -0.766010 -0.050328   \n",
       "4     1 -0.012881  1.856137  0.344702  -0.032905   -0.759828 -0.085614   \n",
       "\n",
       "   Latitude  Longitude  Price  \n",
       "0  1.052523  -1.327803  4.526  \n",
       "1  1.043159  -1.322812  3.585  \n",
       "2  1.038478  -1.332794  3.521  \n",
       "3  1.038478  -1.337785  3.413  \n",
       "4  1.038478  -1.337785  3.422  "
      ]
     },
     "execution_count": 26,
     "metadata": {},
     "output_type": "execute_result"
    }
   ],
   "source": [
    "data = data.assign(Bias = 1)\n",
    "data = data[['Bias'] + cols + ['Price']]\n",
    "data.head()"
   ]
  },
  {
   "cell_type": "code",
   "execution_count": 86,
   "metadata": {
    "collapsed": true
   },
   "outputs": [],
   "source": [
    "train, test = train_test_split(data, test_size=0.25)\n",
    "\n",
    "batch_size = 100\n",
    "train = torch.utils.data.DataLoader(dataset=torch.Tensor(train.values), batch_size=batch_size, shuffle=False)\n",
    "test = torch.utils.data.DataLoader(dataset=torch.Tensor(test.values), batch_size=batch_size, shuffle=False)\n",
    "w = Variable(torch.Tensor(len(houses.feature_names)+1).uniform_(), requires_grad=True)"
   ]
  },
  {
   "cell_type": "code",
   "execution_count": 87,
   "metadata": {
    "collapsed": true
   },
   "outputs": [],
   "source": [
    "def forward(x):\n",
    "    return torch.mm(x, w.view(-1,1))\n",
    "\n",
    "def loss(x, y, exponentiate_prediction = False):\n",
    "    prediction = torch.exp(forward(x)) if exponentiate_prediction == True else forward(x)\n",
    "    return ((y - prediction) ** 2).mean()"
   ]
  },
  {
   "cell_type": "code",
   "execution_count": 88,
   "metadata": {
    "scrolled": false
   },
   "outputs": [
    {
     "name": "stdout",
     "output_type": "stream",
     "text": [
      "epoch: 0 tensor(2.7278)\n",
      "epoch: 10 tensor(1.1824)\n",
      "epoch: 20 tensor(1.1583)\n",
      "epoch: 30 tensor(1.1461)\n",
      "epoch: 40 tensor(1.1383)\n",
      "epoch: 50 tensor(1.1333)\n"
     ]
    }
   ],
   "source": [
    "pause = '\\n'\n",
    "losses = []\n",
    "np.set_printoptions(suppress=True, formatter={'float_kind':'{:0.3f}'.format})\n",
    "learning_rate = 1e-3\n",
    "for epoch in range(0,51):\n",
    "    for index, batch in enumerate(train, 0):\n",
    "        x = batch[:,:-1]\n",
    "        y = batch[:,-1]\n",
    "        l = loss(x, y)\n",
    "        l.backward()\n",
    "        # print('\\tweights: ', w.data.cpu().numpy())\n",
    "        # print('\\tgradient: ', w.grad.data.cpu().numpy())\n",
    "        w.data = w.data - learning_rate * w.grad.data\n",
    "        w.grad.data.zero_()\n",
    "        # input(pause)\n",
    "    losses.append(l)\n",
    "    if epoch % 10 == 0:\n",
    "        print('epoch:', epoch, l.data)"
   ]
  },
  {
   "cell_type": "code",
   "execution_count": 89,
   "metadata": {},
   "outputs": [
    {
     "data": {
      "image/png": "[encoded data removed]",
      "text/plain": [
       "<matplotlib.figure.Figure at 0x1a2e5ba240>"
      ]
     },
     "metadata": {},
     "output_type": "display_data"
    }
   ],
   "source": [
    "plt.plot(losses);"
   ]
  },
  {
   "cell_type": "code",
   "execution_count": 90,
   "metadata": {},
   "outputs": [
    {
     "name": "stdout",
     "output_type": "stream",
     "text": [
      "test mean loss:  1.3510154\n"
     ]
    }
   ],
   "source": [
    "if logflag == True:\n",
    "    print('test mean loss for log: ', loss(test.dataset[:,:-1],(test.dataset[:,-1]), True).mean().data.numpy())\n",
    "else:\n",
    "    print('test mean loss: ', loss(test.dataset[:,:-1],test.dataset[:,-1]).mean().data.numpy())"
   ]
  },
  {
   "cell_type": "markdown",
   "metadata": {},
   "source": [
    "***"
   ]
  },
  {
   "cell_type": "code",
   "execution_count": 96,
   "metadata": {},
   "outputs": [
    {
     "data": {
      "text/html": [
       "<div>\n",
       "<style>\n",
       "    .dataframe thead tr:only-child th {\n",
       "        text-align: right;\n",
       "    }\n",
       "\n",
       "    .dataframe thead th {\n",
       "        text-align: left;\n",
       "    }\n",
       "\n",
       "    .dataframe tbody tr th {\n",
       "        vertical-align: top;\n",
       "    }\n",
       "</style>\n",
       "<table border=\"1\" class=\"dataframe\">\n",
       "  <thead>\n",
       "    <tr style=\"text-align: right;\">\n",
       "      <th></th>\n",
       "      <th>0</th>\n",
       "      <th>1</th>\n",
       "      <th>2</th>\n",
       "      <th>3</th>\n",
       "      <th>4</th>\n",
       "      <th>5</th>\n",
       "      <th>6</th>\n",
       "      <th>7</th>\n",
       "      <th>8</th>\n",
       "      <th>9</th>\n",
       "      <th>10</th>\n",
       "      <th>11</th>\n",
       "      <th>12</th>\n",
       "      <th>13</th>\n",
       "    </tr>\n",
       "  </thead>\n",
       "  <tbody>\n",
       "    <tr>\n",
       "      <th>predicted</th>\n",
       "      <td>2.060446</td>\n",
       "      <td>2.010136</td>\n",
       "      <td>2.112690</td>\n",
       "      <td>2.176996</td>\n",
       "      <td>2.323048</td>\n",
       "      <td>1.982591</td>\n",
       "      <td>2.315854</td>\n",
       "      <td>2.081381</td>\n",
       "      <td>1.939706</td>\n",
       "      <td>2.038269</td>\n",
       "      <td>2.054031</td>\n",
       "      <td>2.324924</td>\n",
       "      <td>2.151175</td>\n",
       "      <td>2.128786</td>\n",
       "    </tr>\n",
       "    <tr>\n",
       "      <th>expected</th>\n",
       "      <td>1.932000</td>\n",
       "      <td>2.754000</td>\n",
       "      <td>1.331000</td>\n",
       "      <td>1.153000</td>\n",
       "      <td>5.000010</td>\n",
       "      <td>4.072000</td>\n",
       "      <td>1.042000</td>\n",
       "      <td>1.542000</td>\n",
       "      <td>2.212000</td>\n",
       "      <td>1.640000</td>\n",
       "      <td>5.000010</td>\n",
       "      <td>5.000010</td>\n",
       "      <td>0.567000</td>\n",
       "      <td>0.750000</td>\n",
       "    </tr>\n",
       "    <tr>\n",
       "      <th>mean</th>\n",
       "      <td>2.068558</td>\n",
       "      <td>2.068558</td>\n",
       "      <td>2.068558</td>\n",
       "      <td>2.068558</td>\n",
       "      <td>2.068558</td>\n",
       "      <td>2.068558</td>\n",
       "      <td>2.068558</td>\n",
       "      <td>2.068558</td>\n",
       "      <td>2.068558</td>\n",
       "      <td>2.068558</td>\n",
       "      <td>2.068558</td>\n",
       "      <td>2.068558</td>\n",
       "      <td>2.068558</td>\n",
       "      <td>2.068558</td>\n",
       "    </tr>\n",
       "  </tbody>\n",
       "</table>\n",
       "</div>"
      ],
      "text/plain": [
       "                 0         1         2         3         4         5   \\\n",
       "predicted  2.060446  2.010136  2.112690  2.176996  2.323048  1.982591   \n",
       "expected   1.932000  2.754000  1.331000  1.153000  5.000010  4.072000   \n",
       "mean       2.068558  2.068558  2.068558  2.068558  2.068558  2.068558   \n",
       "\n",
       "                 6         7         8         9         10        11  \\\n",
       "predicted  2.315854  2.081381  1.939706  2.038269  2.054031  2.324924   \n",
       "expected   1.042000  1.542000  2.212000  1.640000  5.000010  5.000010   \n",
       "mean       2.068558  2.068558  2.068558  2.068558  2.068558  2.068558   \n",
       "\n",
       "                 12        13  \n",
       "predicted  2.151175  2.128786  \n",
       "expected   0.567000  0.750000  \n",
       "mean       2.068558  2.068558  "
      ]
     },
     "execution_count": 96,
     "metadata": {},
     "output_type": "execute_result"
    }
   ],
   "source": [
    "girth = 14\n",
    "sample = test.dataset[torch.randperm(test.dataset.size(0))[:girth]]\n",
    "x = sample[:,:-1]\n",
    "y = sample[:,-1]\n",
    "result = pd.DataFrame()\n",
    "result = result.assign(predicted = forward(x).view(1,-1).detach().numpy()[0])\n",
    "result = result.assign(expected = y.numpy())\n",
    "result = result.assign(mean = data.Price.mean())\n",
    "result.T"
   ]
  }
 ],
 "metadata": {
  "kernelspec": {
   "display_name": "Python 3",
   "language": "python",
   "name": "python3"
  },
  "language_info": {
   "codemirror_mode": {
    "name": "ipython",
    "version": 3
   },
   "file_extension": ".py",
   "mimetype": "text/x-python",
   "name": "python",
   "nbconvert_exporter": "python",
   "pygments_lexer": "ipython3",
   "version": "3.6.3"
  }
 },
 "nbformat": 4,
 "nbformat_minor": 2
}
