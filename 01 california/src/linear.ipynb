{
 "cells": [
  {
   "cell_type": "code",
   "execution_count": 2,
   "metadata": {
    "collapsed": true
   },
   "outputs": [],
   "source": [
    "import torch\n",
    "import torchvision\n",
    "import numpy as np\n",
    "import pandas as pd\n",
    "import sklearn.datasets\n",
    "import matplotlib.pyplot as plt\n",
    "\n",
    "from torch.autograd import Variable\n",
    "from sklearn.model_selection import train_test_split\n",
    "\n",
    "%matplotlib inline"
   ]
  },
  {
   "cell_type": "code",
   "execution_count": 9,
   "metadata": {},
   "outputs": [
    {
     "data": {
      "text/html": [
       "<div>\n",
       "<style>\n",
       "    .dataframe thead tr:only-child th {\n",
       "        text-align: right;\n",
       "    }\n",
       "\n",
       "    .dataframe thead th {\n",
       "        text-align: left;\n",
       "    }\n",
       "\n",
       "    .dataframe tbody tr th {\n",
       "        vertical-align: top;\n",
       "    }\n",
       "</style>\n",
       "<table border=\"1\" class=\"dataframe\">\n",
       "  <thead>\n",
       "    <tr style=\"text-align: right;\">\n",
       "      <th></th>\n",
       "      <th>MedInc</th>\n",
       "      <th>HouseAge</th>\n",
       "      <th>AveRooms</th>\n",
       "      <th>AveBedrms</th>\n",
       "      <th>Population</th>\n",
       "      <th>AveOccup</th>\n",
       "      <th>Latitude</th>\n",
       "      <th>Longitude</th>\n",
       "      <th>Price</th>\n",
       "    </tr>\n",
       "  </thead>\n",
       "  <tbody>\n",
       "    <tr>\n",
       "      <th>0</th>\n",
       "      <td>8.3252</td>\n",
       "      <td>41.0</td>\n",
       "      <td>6.984127</td>\n",
       "      <td>1.023810</td>\n",
       "      <td>322.0</td>\n",
       "      <td>2.555556</td>\n",
       "      <td>37.88</td>\n",
       "      <td>-122.23</td>\n",
       "      <td>4.526</td>\n",
       "    </tr>\n",
       "    <tr>\n",
       "      <th>1</th>\n",
       "      <td>8.3014</td>\n",
       "      <td>21.0</td>\n",
       "      <td>6.238137</td>\n",
       "      <td>0.971880</td>\n",
       "      <td>2401.0</td>\n",
       "      <td>2.109842</td>\n",
       "      <td>37.86</td>\n",
       "      <td>-122.22</td>\n",
       "      <td>3.585</td>\n",
       "    </tr>\n",
       "    <tr>\n",
       "      <th>2</th>\n",
       "      <td>7.2574</td>\n",
       "      <td>52.0</td>\n",
       "      <td>8.288136</td>\n",
       "      <td>1.073446</td>\n",
       "      <td>496.0</td>\n",
       "      <td>2.802260</td>\n",
       "      <td>37.85</td>\n",
       "      <td>-122.24</td>\n",
       "      <td>3.521</td>\n",
       "    </tr>\n",
       "    <tr>\n",
       "      <th>3</th>\n",
       "      <td>5.6431</td>\n",
       "      <td>52.0</td>\n",
       "      <td>5.817352</td>\n",
       "      <td>1.073059</td>\n",
       "      <td>558.0</td>\n",
       "      <td>2.547945</td>\n",
       "      <td>37.85</td>\n",
       "      <td>-122.25</td>\n",
       "      <td>3.413</td>\n",
       "    </tr>\n",
       "    <tr>\n",
       "      <th>4</th>\n",
       "      <td>3.8462</td>\n",
       "      <td>52.0</td>\n",
       "      <td>6.281853</td>\n",
       "      <td>1.081081</td>\n",
       "      <td>565.0</td>\n",
       "      <td>2.181467</td>\n",
       "      <td>37.85</td>\n",
       "      <td>-122.25</td>\n",
       "      <td>3.422</td>\n",
       "    </tr>\n",
       "  </tbody>\n",
       "</table>\n",
       "</div>"
      ],
      "text/plain": [
       "   MedInc  HouseAge  AveRooms  AveBedrms  Population  AveOccup  Latitude  \\\n",
       "0  8.3252      41.0  6.984127   1.023810       322.0  2.555556     37.88   \n",
       "1  8.3014      21.0  6.238137   0.971880      2401.0  2.109842     37.86   \n",
       "2  7.2574      52.0  8.288136   1.073446       496.0  2.802260     37.85   \n",
       "3  5.6431      52.0  5.817352   1.073059       558.0  2.547945     37.85   \n",
       "4  3.8462      52.0  6.281853   1.081081       565.0  2.181467     37.85   \n",
       "\n",
       "   Longitude  Price  \n",
       "0    -122.23  4.526  \n",
       "1    -122.22  3.585  \n",
       "2    -122.24  3.521  \n",
       "3    -122.25  3.413  \n",
       "4    -122.25  3.422  "
      ]
     },
     "execution_count": 9,
     "metadata": {},
     "output_type": "execute_result"
    }
   ],
   "source": [
    "houses = sklearn.datasets.fetch_california_housing('../data')\n",
    "data = pd.DataFrame(houses.data, columns=houses.feature_names)\n",
    "data = data.assign(Price = houses.target)\n",
    "cols = list(data.columns)\n",
    "cols.remove('Price')\n",
    "data.head()"
   ]
  },
  {
   "cell_type": "code",
   "execution_count": 10,
   "metadata": {
    "collapsed": true
   },
   "outputs": [],
   "source": [
    "std = data.describe().loc['mean':'std',:]\n",
    "for col in cols:\n",
    "    data[col] = (data[col]-std[col]['mean'])/std[col]['std']"
   ]
  },
  {
   "cell_type": "code",
   "execution_count": 11,
   "metadata": {
    "collapsed": true
   },
   "outputs": [],
   "source": [
    "logflag = False\n",
    "if logflag == True:\n",
    "    data['Price'] = np.log(data['Price'])"
   ]
  },
  {
   "cell_type": "code",
   "execution_count": 12,
   "metadata": {
    "scrolled": true
   },
   "outputs": [
    {
     "data": {
      "text/html": [
       "<div>\n",
       "<style>\n",
       "    .dataframe thead tr:only-child th {\n",
       "        text-align: right;\n",
       "    }\n",
       "\n",
       "    .dataframe thead th {\n",
       "        text-align: left;\n",
       "    }\n",
       "\n",
       "    .dataframe tbody tr th {\n",
       "        vertical-align: top;\n",
       "    }\n",
       "</style>\n",
       "<table border=\"1\" class=\"dataframe\">\n",
       "  <thead>\n",
       "    <tr style=\"text-align: right;\">\n",
       "      <th></th>\n",
       "      <th>Bias</th>\n",
       "      <th>MedInc</th>\n",
       "      <th>HouseAge</th>\n",
       "      <th>AveRooms</th>\n",
       "      <th>AveBedrms</th>\n",
       "      <th>Population</th>\n",
       "      <th>AveOccup</th>\n",
       "      <th>Latitude</th>\n",
       "      <th>Longitude</th>\n",
       "      <th>Price</th>\n",
       "    </tr>\n",
       "  </thead>\n",
       "  <tbody>\n",
       "    <tr>\n",
       "      <th>0</th>\n",
       "      <td>1</td>\n",
       "      <td>2.344709</td>\n",
       "      <td>0.982119</td>\n",
       "      <td>0.628544</td>\n",
       "      <td>-0.153754</td>\n",
       "      <td>-0.974405</td>\n",
       "      <td>-0.049595</td>\n",
       "      <td>1.052523</td>\n",
       "      <td>-1.327803</td>\n",
       "      <td>4.526</td>\n",
       "    </tr>\n",
       "    <tr>\n",
       "      <th>1</th>\n",
       "      <td>1</td>\n",
       "      <td>2.332181</td>\n",
       "      <td>-0.607004</td>\n",
       "      <td>0.327033</td>\n",
       "      <td>-0.263329</td>\n",
       "      <td>0.861418</td>\n",
       "      <td>-0.092510</td>\n",
       "      <td>1.043159</td>\n",
       "      <td>-1.322812</td>\n",
       "      <td>3.585</td>\n",
       "    </tr>\n",
       "    <tr>\n",
       "      <th>2</th>\n",
       "      <td>1</td>\n",
       "      <td>1.782656</td>\n",
       "      <td>1.856137</td>\n",
       "      <td>1.155592</td>\n",
       "      <td>-0.049015</td>\n",
       "      <td>-0.820757</td>\n",
       "      <td>-0.025842</td>\n",
       "      <td>1.038478</td>\n",
       "      <td>-1.332794</td>\n",
       "      <td>3.521</td>\n",
       "    </tr>\n",
       "    <tr>\n",
       "      <th>3</th>\n",
       "      <td>1</td>\n",
       "      <td>0.932945</td>\n",
       "      <td>1.856137</td>\n",
       "      <td>0.156962</td>\n",
       "      <td>-0.049832</td>\n",
       "      <td>-0.766010</td>\n",
       "      <td>-0.050328</td>\n",
       "      <td>1.038478</td>\n",
       "      <td>-1.337785</td>\n",
       "      <td>3.413</td>\n",
       "    </tr>\n",
       "    <tr>\n",
       "      <th>4</th>\n",
       "      <td>1</td>\n",
       "      <td>-0.012881</td>\n",
       "      <td>1.856137</td>\n",
       "      <td>0.344702</td>\n",
       "      <td>-0.032905</td>\n",
       "      <td>-0.759828</td>\n",
       "      <td>-0.085614</td>\n",
       "      <td>1.038478</td>\n",
       "      <td>-1.337785</td>\n",
       "      <td>3.422</td>\n",
       "    </tr>\n",
       "  </tbody>\n",
       "</table>\n",
       "</div>"
      ],
      "text/plain": [
       "   Bias    MedInc  HouseAge  AveRooms  AveBedrms  Population  AveOccup  \\\n",
       "0     1  2.344709  0.982119  0.628544  -0.153754   -0.974405 -0.049595   \n",
       "1     1  2.332181 -0.607004  0.327033  -0.263329    0.861418 -0.092510   \n",
       "2     1  1.782656  1.856137  1.155592  -0.049015   -0.820757 -0.025842   \n",
       "3     1  0.932945  1.856137  0.156962  -0.049832   -0.766010 -0.050328   \n",
       "4     1 -0.012881  1.856137  0.344702  -0.032905   -0.759828 -0.085614   \n",
       "\n",
       "   Latitude  Longitude  Price  \n",
       "0  1.052523  -1.327803  4.526  \n",
       "1  1.043159  -1.322812  3.585  \n",
       "2  1.038478  -1.332794  3.521  \n",
       "3  1.038478  -1.337785  3.413  \n",
       "4  1.038478  -1.337785  3.422  "
      ]
     },
     "execution_count": 12,
     "metadata": {},
     "output_type": "execute_result"
    }
   ],
   "source": [
    "data = data.assign(Bias = 1)\n",
    "data = data[['Bias'] + cols + ['Price']]\n",
    "data.head()"
   ]
  },
  {
   "cell_type": "code",
   "execution_count": 13,
   "metadata": {
    "collapsed": true
   },
   "outputs": [],
   "source": [
    "train, test = train_test_split(data, test_size=0.25)\n",
    "\n",
    "batch_size = 100\n",
    "train = torch.utils.data.DataLoader(dataset=torch.Tensor(train.values), batch_size=batch_size, shuffle=False)\n",
    "test = torch.utils.data.DataLoader(dataset=torch.Tensor(test.values), batch_size=batch_size, shuffle=False)\n",
    "w = Variable(torch.Tensor(len(cols)+1).uniform_(), requires_grad=True)"
   ]
  },
  {
   "cell_type": "code",
   "execution_count": 14,
   "metadata": {
    "collapsed": true
   },
   "outputs": [],
   "source": [
    "def forward(x):\n",
    "    return torch.mm(x, w.view(-1,1))\n",
    "\n",
    "def loss(x, y, exponentiate_prediction = False):\n",
    "    prediction = torch.exp(forward(x)) if exponentiate_prediction == True else forward(x)\n",
    "    return ((y - prediction) ** 2).mean()"
   ]
  },
  {
   "cell_type": "code",
   "execution_count": 15,
   "metadata": {
    "scrolled": false
   },
   "outputs": [
    {
     "name": "stdout",
     "output_type": "stream",
     "text": [
      "epoch: 0 tensor(3.6541)\n",
      "epoch: 10 tensor(2.3511)\n",
      "epoch: 20 tensor(1.7792)\n",
      "epoch: 30 tensor(1.5076)\n",
      "epoch: 40 tensor(1.3727)\n",
      "epoch: 50 tensor(1.3044)\n",
      "epoch: 60 tensor(1.2696)\n",
      "epoch: 70 tensor(1.2521)\n",
      "epoch: 80 tensor(1.2435)\n",
      "epoch: 90 tensor(1.2392)\n",
      "epoch: 100 tensor(1.2372)\n",
      "epoch: 110 tensor(1.2363)\n",
      "epoch: 120 tensor(1.2357)\n",
      "epoch: 130 tensor(1.2353)\n",
      "epoch: 140 tensor(1.2349)\n",
      "epoch: 150 tensor(1.2345)\n",
      "epoch: 160 tensor(1.2341)\n",
      "epoch: 170 tensor(1.2336)\n",
      "epoch: 180 tensor(1.2330)\n",
      "epoch: 190 tensor(1.2325)\n",
      "epoch: 200 tensor(1.2319)\n"
     ]
    }
   ],
   "source": [
    "pause = '\\n'\n",
    "losses = []\n",
    "np.set_printoptions(suppress=True, formatter={'float_kind':'{:0.3f}'.format})\n",
    "learning_rate = 1e-4\n",
    "for epoch in range(0,201):\n",
    "    for index, batch in enumerate(train, 0):\n",
    "        x = batch[:,:-1]\n",
    "        y = batch[:,-1]\n",
    "        l = loss(x, y)\n",
    "        l.backward()\n",
    "        # print('\\tweights: ', w.data.cpu().numpy())\n",
    "        # print('\\tgradient: ', w.grad.data.cpu().numpy())\n",
    "        w.data = w.data - learning_rate * w.grad.data\n",
    "        w.grad.data.zero_()\n",
    "        # input(pause)\n",
    "    losses.append(l)\n",
    "    if epoch % 10 == 0:\n",
    "        print('epoch:', epoch, l.data)"
   ]
  },
  {
   "cell_type": "code",
   "execution_count": 16,
   "metadata": {},
   "outputs": [
    {
     "data": {
      "image/png": "[encoded data removed]",
      "text/plain": [
       "<matplotlib.figure.Figure at 0x1a20b2f0b8>"
      ]
     },
     "metadata": {},
     "output_type": "display_data"
    }
   ],
   "source": [
    "plt.plot(losses);"
   ]
  },
  {
   "cell_type": "code",
   "execution_count": 18,
   "metadata": {},
   "outputs": [
    {
     "name": "stdout",
     "output_type": "stream",
     "text": [
      "mean loss:  1.3285686\n"
     ]
    }
   ],
   "source": [
    "if logflag == True:\n",
    "    print('mean loss for log: ', loss(test.dataset[:,:-1],(test.dataset[:,-1]), True).mean().data.numpy())\n",
    "else:\n",
    "    print('mean loss: ', loss(test.dataset[:,:-1],test.dataset[:,-1]).mean().data.numpy())"
   ]
  },
  {
   "cell_type": "markdown",
   "metadata": {},
   "source": [
    "***"
   ]
  },
  {
   "cell_type": "code",
   "execution_count": 19,
   "metadata": {},
   "outputs": [
    {
     "data": {
      "text/html": [
       "<div>\n",
       "<style>\n",
       "    .dataframe thead tr:only-child th {\n",
       "        text-align: right;\n",
       "    }\n",
       "\n",
       "    .dataframe thead th {\n",
       "        text-align: left;\n",
       "    }\n",
       "\n",
       "    .dataframe tbody tr th {\n",
       "        vertical-align: top;\n",
       "    }\n",
       "</style>\n",
       "<table border=\"1\" class=\"dataframe\">\n",
       "  <thead>\n",
       "    <tr style=\"text-align: right;\">\n",
       "      <th></th>\n",
       "      <th>0</th>\n",
       "      <th>1</th>\n",
       "      <th>2</th>\n",
       "      <th>3</th>\n",
       "      <th>4</th>\n",
       "      <th>5</th>\n",
       "      <th>6</th>\n",
       "      <th>7</th>\n",
       "      <th>8</th>\n",
       "      <th>9</th>\n",
       "      <th>10</th>\n",
       "      <th>11</th>\n",
       "      <th>12</th>\n",
       "      <th>13</th>\n",
       "    </tr>\n",
       "  </thead>\n",
       "  <tbody>\n",
       "    <tr>\n",
       "      <th>predicted</th>\n",
       "      <td>2.113753</td>\n",
       "      <td>1.906858</td>\n",
       "      <td>2.249956</td>\n",
       "      <td>2.248877</td>\n",
       "      <td>2.217803</td>\n",
       "      <td>1.917841</td>\n",
       "      <td>2.097530</td>\n",
       "      <td>2.061664</td>\n",
       "      <td>1.980256</td>\n",
       "      <td>2.057099</td>\n",
       "      <td>2.046047</td>\n",
       "      <td>2.412630</td>\n",
       "      <td>2.135172</td>\n",
       "      <td>2.039695</td>\n",
       "    </tr>\n",
       "    <tr>\n",
       "      <th>expected</th>\n",
       "      <td>4.442000</td>\n",
       "      <td>2.190000</td>\n",
       "      <td>1.674000</td>\n",
       "      <td>2.019000</td>\n",
       "      <td>0.923000</td>\n",
       "      <td>0.764000</td>\n",
       "      <td>0.513000</td>\n",
       "      <td>1.176000</td>\n",
       "      <td>2.357000</td>\n",
       "      <td>0.857000</td>\n",
       "      <td>1.125000</td>\n",
       "      <td>1.238000</td>\n",
       "      <td>1.469000</td>\n",
       "      <td>3.908000</td>\n",
       "    </tr>\n",
       "    <tr>\n",
       "      <th>random</th>\n",
       "      <td>0.655103</td>\n",
       "      <td>0.292957</td>\n",
       "      <td>1.127155</td>\n",
       "      <td>1.325338</td>\n",
       "      <td>0.846193</td>\n",
       "      <td>0.239573</td>\n",
       "      <td>0.788535</td>\n",
       "      <td>0.550576</td>\n",
       "      <td>0.016226</td>\n",
       "      <td>0.823005</td>\n",
       "      <td>0.415803</td>\n",
       "      <td>2.966288</td>\n",
       "      <td>0.761598</td>\n",
       "      <td>0.497815</td>\n",
       "    </tr>\n",
       "  </tbody>\n",
       "</table>\n",
       "</div>"
      ],
      "text/plain": [
       "                 0         1         2         3         4         5   \\\n",
       "predicted  2.113753  1.906858  2.249956  2.248877  2.217803  1.917841   \n",
       "expected   4.442000  2.190000  1.674000  2.019000  0.923000  0.764000   \n",
       "random     0.655103  0.292957  1.127155  1.325338  0.846193  0.239573   \n",
       "\n",
       "                 6         7         8         9         10        11  \\\n",
       "predicted  2.097530  2.061664  1.980256  2.057099  2.046047  2.412630   \n",
       "expected   0.513000  1.176000  2.357000  0.857000  1.125000  1.238000   \n",
       "random     0.788535  0.550576  0.016226  0.823005  0.415803  2.966288   \n",
       "\n",
       "                 12        13  \n",
       "predicted  2.135172  2.039695  \n",
       "expected   1.469000  3.908000  \n",
       "random     0.761598  0.497815  "
      ]
     },
     "execution_count": 19,
     "metadata": {},
     "output_type": "execute_result"
    }
   ],
   "source": [
    "girth = 14\n",
    "sample = test.dataset[torch.randperm(test.dataset.size(0))[:girth]]\n",
    "x = sample[:,:-1]\n",
    "y = sample[:,-1]\n",
    "r = torch.Tensor(x.size(1)).uniform_()\n",
    "result = pd.DataFrame()\n",
    "result = result.assign(predicted = forward(x).view(1,-1).detach().numpy()[0])\n",
    "result = result.assign(expected = y.numpy())\n",
    "result = result.assign(random = torch.mv(x, r).numpy())\n",
    "result.T"
   ]
  }
 ],
 "metadata": {
  "kernelspec": {
   "display_name": "Python 3",
   "language": "python",
   "name": "python3"
  },
  "language_info": {
   "codemirror_mode": {
    "name": "ipython",
    "version": 3
   },
   "file_extension": ".py",
   "mimetype": "text/x-python",
   "name": "python",
   "nbconvert_exporter": "python",
   "pygments_lexer": "ipython3",
   "version": "3.6.3"
  }
 },
 "nbformat": 4,
 "nbformat_minor": 2
}
