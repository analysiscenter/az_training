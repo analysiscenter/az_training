{
 "cells": [
  {
   "cell_type": "code",
   "execution_count": 1,
   "metadata": {},
   "outputs": [],
   "source": [
    "import sys\n",
    "import warnings\n",
    "warnings.filterwarnings(\"ignore\")\n",
    "\n",
    "sys.path.append('../../../batchflow')\n",
    "\n",
    "from batchflow import Config"
   ]
  },
  {
   "cell_type": "code",
   "execution_count": 24,
   "metadata": {},
   "outputs": [],
   "source": [
    "pep = Config([('a', 1), ('b/a', 2), ('b', 3), ('a/b', 4)])"
   ]
  },
  {
   "cell_type": "code",
   "execution_count": 25,
   "metadata": {},
   "outputs": [
    {
     "data": {
      "text/plain": [
       "Config({'a': {'b': 4}, 'b': 3})"
      ]
     },
     "execution_count": 25,
     "metadata": {},
     "output_type": "execute_result"
    }
   ],
   "source": [
    "pep"
   ]
  },
  {
   "cell_type": "code",
   "execution_count": 78,
   "metadata": {},
   "outputs": [],
   "source": [
    "def test_init():\n",
    "    dict_input = {'a' : 1, 'b/a' : 2, 'b' : 3, 'a/b' : 4}\n",
    "    processed_config = Config(dict_input)\n",
    "    expected_config = Config({'a/b' : 4, 'b' : 3})\n",
    "    assert expected_config.config == processed_config.config"
   ]
  },
  {
   "cell_type": "code",
   "execution_count": 77,
   "metadata": {},
   "outputs": [
    {
     "data": {
      "text/plain": [
       "True"
      ]
     },
     "execution_count": 77,
     "metadata": {},
     "output_type": "execute_result"
    }
   ],
   "source": []
  },
  {
   "cell_type": "code",
   "execution_count": 76,
   "metadata": {},
   "outputs": [
    {
     "data": {
      "text/plain": [
       "{'a': {'b': 4}, 'b': 3}"
      ]
     },
     "execution_count": 76,
     "metadata": {},
     "output_type": "execute_result"
    }
   ],
   "source": []
  },
  {
   "cell_type": "code",
   "execution_count": 29,
   "metadata": {},
   "outputs": [],
   "source": [
    "import numpy as np"
   ]
  },
  {
   "cell_type": "code",
   "execution_count": 34,
   "metadata": {},
   "outputs": [
    {
     "data": {
      "text/plain": [
       "array([[[  0,   0,   0, ..., 255,   0, 255],\n",
       "        [255, 255,   0, ..., 255,   0, 255],\n",
       "        [255,   0, 255, ...,   0,   0, 255],\n",
       "        ...,\n",
       "        [255,   0, 255, ...,   0,   0,   0],\n",
       "        [  0,   0,   0, ...,   0,   0, 255],\n",
       "        [255, 255,   0, ...,   0, 255, 255]],\n",
       "\n",
       "       [[  0,   0,   0, ...,   0,   0,   0],\n",
       "        [255, 255,   0, ...,   0,   0, 255],\n",
       "        [  0, 255,   0, ...,   0,   0,   0],\n",
       "        ...,\n",
       "        [255, 255,   0, ..., 255, 255, 255],\n",
       "        [255, 255, 255, ...,   0, 255, 255],\n",
       "        [  0,   0, 255, ..., 255,   0, 255]],\n",
       "\n",
       "       [[  0, 255,   0, ...,   0, 255,   0],\n",
       "        [  0,   0, 255, ..., 255,   0,   0],\n",
       "        [  0,   0,   0, ...,   0,   0, 255],\n",
       "        ...,\n",
       "        [  0, 255, 255, ...,   0,   0, 255],\n",
       "        [255,   0,   0, ...,   0, 255,   0],\n",
       "        [  0, 255,   0, ..., 255,   0, 255]]])"
      ]
     },
     "execution_count": 34,
     "metadata": {},
     "output_type": "execute_result"
    }
   ],
   "source": [
    "origin = np.random.choice((0,255), size=(3,1000,1000))\n",
    "origin"
   ]
  },
  {
   "cell_type": "code",
   "execution_count": 35,
   "metadata": {},
   "outputs": [
    {
     "data": {
      "text/plain": [
       "array([[[0, 0, 0, ..., 1, 0, 1],\n",
       "        [1, 1, 0, ..., 1, 0, 1],\n",
       "        [1, 0, 1, ..., 0, 0, 1],\n",
       "        ...,\n",
       "        [1, 0, 1, ..., 0, 0, 0],\n",
       "        [0, 0, 0, ..., 0, 0, 1],\n",
       "        [1, 1, 0, ..., 0, 1, 1]],\n",
       "\n",
       "       [[0, 0, 0, ..., 0, 0, 0],\n",
       "        [1, 1, 0, ..., 0, 0, 1],\n",
       "        [0, 1, 0, ..., 0, 0, 0],\n",
       "        ...,\n",
       "        [1, 1, 0, ..., 1, 1, 1],\n",
       "        [1, 1, 1, ..., 0, 1, 1],\n",
       "        [0, 0, 1, ..., 1, 0, 1]],\n",
       "\n",
       "       [[0, 1, 0, ..., 0, 1, 0],\n",
       "        [0, 0, 1, ..., 1, 0, 0],\n",
       "        [0, 0, 0, ..., 0, 0, 1],\n",
       "        ...,\n",
       "        [0, 1, 1, ..., 0, 0, 1],\n",
       "        [1, 0, 0, ..., 0, 1, 0],\n",
       "        [0, 1, 0, ..., 1, 0, 1]]])"
      ]
     },
     "execution_count": 35,
     "metadata": {},
     "output_type": "execute_result"
    }
   ],
   "source": [
    "divided = origin // 255 \n",
    "divided"
   ]
  },
  {
   "cell_type": "code",
   "execution_count": 40,
   "metadata": {},
   "outputs": [
    {
     "data": {
      "text/plain": [
       "array([[0, 1, 0, ..., 4, 1, 4],\n",
       "       [6, 6, 1, ..., 5, 0, 6],\n",
       "       [4, 2, 4, ..., 0, 0, 5],\n",
       "       ...,\n",
       "       [6, 3, 5, ..., 2, 2, 3],\n",
       "       [3, 2, 2, ..., 0, 3, 6],\n",
       "       [4, 5, 2, ..., 3, 4, 7]])"
      ]
     },
     "execution_count": 40,
     "metadata": {},
     "output_type": "execute_result"
    }
   ],
   "source": [
    "divided[0]*4+divided[1]*2+divided[2]"
   ]
  },
  {
   "cell_type": "code",
   "execution_count": 73,
   "metadata": {},
   "outputs": [
    {
     "data": {
      "text/plain": [
       "array([[3, 4, 0, ..., 1, 6, 6],\n",
       "       [7, 5, 2, ..., 2, 2, 2],\n",
       "       [3, 1, 0, ..., 1, 3, 4],\n",
       "       ...,\n",
       "       [5, 7, 3, ..., 7, 1, 7],\n",
       "       [2, 5, 0, ..., 6, 5, 6],\n",
       "       [0, 1, 5, ..., 1, 2, 6]])"
      ]
     },
     "execution_count": 73,
     "metadata": {},
     "output_type": "execute_result"
    }
   ],
   "source": [
    "n = 3\n",
    "origin = np.random.choice((0,255), size=(3,1000,1000))\n",
    "converter = 2 ** np.reshape(np.arange(n), (3,1,1))\n",
    "(origin // 255 * converter).sum(axis=0)"
   ]
  },
  {
   "cell_type": "code",
   "execution_count": null,
   "metadata": {},
   "outputs": [],
   "source": []
  }
 ],
 "metadata": {
  "kernelspec": {
   "display_name": "Python 3",
   "language": "python",
   "name": "python3"
  },
  "language_info": {
   "codemirror_mode": {
    "name": "ipython",
    "version": 3
   },
   "file_extension": ".py",
   "mimetype": "text/x-python",
   "name": "python",
   "nbconvert_exporter": "python",
   "pygments_lexer": "ipython3",
   "version": "3.6.3"
  }
 },
 "nbformat": 4,
 "nbformat_minor": 2
}
