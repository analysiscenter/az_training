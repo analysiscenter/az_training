{
 "cells": [
  {
   "cell_type": "code",
   "execution_count": 5,
   "metadata": {
    "collapsed": true
   },
   "outputs": [],
   "source": [
    "a = {'a':2, 'c':2, 'd':4}\n",
    "z = {'a':1, 'c':2, 'z':4}"
   ]
  },
  {
   "cell_type": "code",
   "execution_count": 6,
   "metadata": {},
   "outputs": [
    {
     "data": {
      "text/plain": [
       "{'a': 2, 'c': 2, 'd': 4, 'z': 4}"
      ]
     },
     "execution_count": 6,
     "metadata": {},
     "output_type": "execute_result"
    }
   ],
   "source": [
    "{**z, **a}"
   ]
  },
  {
   "cell_type": "code",
   "execution_count": 26,
   "metadata": {
    "collapsed": true
   },
   "outputs": [],
   "source": [
    "import os\n",
    "import blosc\n",
    "import tensorflow as tf\n",
    "\n",
    "import numpy as np\n",
    "import matplotlib.pyplot as plt\n",
    "from tqdm import tqdm_notebook as tqn\n",
    "%matplotlib inline"
   ]
  },
  {
   "cell_type": "code",
   "execution_count": 2,
   "metadata": {
    "collapsed": true
   },
   "outputs": [],
   "source": [
    "src = './../MNIST_data'\n",
    "with open(os.path.join(src, 'mnist_pics.blk'), 'rb') as file:\n",
    "    images = blosc.unpack_array(file.read()).reshape(-1, 28, 28)\n",
    "with open(os.path.join(src, 'mnist_labels.blk'), 'rb') as file:\n",
    "    labels = blosc.unpack_array(file.read())"
   ]
  },
  {
   "cell_type": "code",
   "execution_count": 3,
   "metadata": {
    "collapsed": true
   },
   "outputs": [],
   "source": [
    "def create_train(opt, src, global_step, loss, it):\n",
    "    def learning_rate(last, src):\n",
    "        last = int(last)\n",
    "        bound = list(np.linspace(0, last, len(range(2, last+1)), dtype=np.int32))\n",
    "        values = [0.5 * 0.1/last * (1 + np.cos(np.pi * i / last)) for i in range(2, last+1)]\n",
    "        var = [i for i in tf.trainable_variables() if src in i.name or 'dense' in i.name]\n",
    "        \n",
    "        return bound, values, var\n",
    "    \n",
    "    b, v, var = learning_rate(it, src)\n",
    "    learning_rate = tf.train.piecewise_constant(global_step, b, v)\n",
    "    \n",
    "    return opt(learning_rate, 0.9, use_nesterov=True).minimize(loss, global_step, var)"
   ]
  },
  {
   "cell_type": "markdown",
   "metadata": {},
   "source": [
    "## VGG-7 with FreezeOut "
   ]
  },
  {
   "cell_type": "code",
   "execution_count": 4,
   "metadata": {
    "scrolled": true
   },
   "outputs": [
    {
     "data": {
      "application/vnd.jupyter.widget-view+json": {
       "model_id": "636f953b6526455ea9fceaffd0ee2787"
      }
     },
     "metadata": {},
     "output_type": "display_data"
    },
    {
     "name": "stdout",
     "output_type": "stream",
     "text": [
      "\n"
     ]
    }
   ],
   "source": [
    "it = 800\n",
    "x = tf.placeholder(tf.float32, [None, 784], name='x')\n",
    "x_as_pics = tf.reshape(x, shape=[-1, 28, 28, 1])\n",
    "\n",
    "\n",
    "net1 = tf.layers.conv2d(x_as_pics, 64, (3, 3), (1, 1), name='Conv1', padding='SAME', \\\n",
    "                           kernel_initializer=tf.contrib.layers.xavier_initializer_conv2d())\n",
    "\n",
    "net1 = tf.layers.conv2d(net1, 64, (3, 3), (1, 1), name='Conv2', padding='SAME', \\\n",
    "                           kernel_initializer=tf.contrib.layers.xavier_initializer_conv2d())\n",
    "net1 = tf.layers.max_pooling2d(net1, 2, 2)\n",
    "\n",
    "net1 = tf.layers.conv2d(net1, 128, (3, 3), (1, 1), name='Conv3', padding='SAME', \\\n",
    "                           kernel_initializer=tf.contrib.layers.xavier_initializer_conv2d())\n",
    "net1 = tf.layers.conv2d(net1, 128, (3, 3), (1, 1), name='Conv4', padding='SAME', \\\n",
    "                           kernel_initializer=tf.contrib.layers.xavier_initializer_conv2d())\n",
    "net1 = tf.layers.max_pooling2d(net1, 2, 2)\n",
    "\n",
    "\n",
    "net1 = tf.layers.conv2d(net1, 256, (3, 3), (1, 1), name='Conv5', padding='SAME', \\\n",
    "                           kernel_initializer=tf.contrib.layers.xavier_initializer_conv2d())\n",
    "net1 = tf.layers.conv2d(net1, 256, (3, 3), (1, 1), name='Conv6', padding='SAME', \\\n",
    "                           kernel_initializer=tf.contrib.layers.xavier_initializer_conv2d())\n",
    "net1 = tf.layers.conv2d(net1, 256, (3, 3), (1, 1), name='Conv7', padding='SAME', \\\n",
    "                           kernel_initializer=tf.contrib.layers.xavier_initializer_conv2d())\n",
    "net1 = tf.layers.max_pooling2d(net1, 2, 2)\n",
    "\n",
    "with tf.variable_scope('dense'):\n",
    "    flat = tf.contrib.layers.flatten(net1)\n",
    "    fc4 = tf.layers.dense(flat, 512, activation=tf.nn.relu, name='fc4')\n",
    "\n",
    "    fc5 = tf.layers.dense(fc4, 10, name='fc5')\n",
    "\n",
    "    y = tf.placeholder(tf.float32, [None, 10])\n",
    "\n",
    "prob = tf.nn.softmax(fc5)\n",
    "\n",
    "loss = tf.reduce_mean(tf.nn.softmax_cross_entropy_with_logits(logits=fc5, labels=y, name='loss'))\n",
    "\n",
    "train = []\n",
    "global_steps = []\n",
    "for i in tqn(range(7)):\n",
    "    global_steps.append(tf.Variable(0, trainable=False))\n",
    "    train.append(create_train(tf.train.MomentumOptimizer, 'Conv' + str(i), \\\n",
    "                              global_steps[-1], loss, it*(i/10 + 0.5)))\n",
    "\n",
    "lables_hat = tf.cast(tf.argmax(fc5, axis=1), tf.float32, name='lables_hat')\n",
    "lables = tf.cast(tf.argmax(y, axis=1), tf.float32, name='lables')\n",
    "accuracy = tf.reduce_mean(tf.cast(tf.equal(lables_hat, lables), tf.float32), name='acc')"
   ]
  },
  {
   "cell_type": "markdown",
   "metadata": {},
   "source": [
    "### Traning network"
   ]
  },
  {
   "cell_type": "code",
   "execution_count": 5,
   "metadata": {
    "collapsed": true,
    "scrolled": false
   },
   "outputs": [],
   "source": [
    "sess = tf.Session()\n",
    "sess.run(tf.global_variables_initializer())\n",
    "\n",
    "los, acc = [], []\n",
    "var_i = []\n",
    "for i in tqn(range(1, 900)):\n",
    "    var, a, b = sess.run([train, tf.global_variables()[0], loss, accuracy],feed_dict={x:images[:100].reshape(-1, 784),\n",
    "                                                                          y:labels[:100].reshape(-1,10)})[-3:]\n",
    "    var_i.append(var)\n",
    "    los.append(a)\n",
    "    acc.append(b)"
   ]
  },
  {
   "cell_type": "markdown",
   "metadata": {},
   "source": [
    "## VGG-7 without FreezeOut"
   ]
  },
  {
   "cell_type": "code",
   "execution_count": 9,
   "metadata": {
    "collapsed": true,
    "scrolled": false
   },
   "outputs": [],
   "source": [
    "x1 = tf.placeholder(tf.float32, [None, 784], name='x')\n",
    "\n",
    "\n",
    "with tf.variable_scope('net2'):\n",
    "    x_as_pics1 = tf.reshape(x1, shape=[-1, 28, 28, 1])\n",
    "    \n",
    "    net2 = tf.layers.conv2d(x_as_pics1, 64, (3, 3), (1, 1), name='Conv1', padding='SAME', \\\n",
    "                               kernel_initializer=tf.contrib.layers.xavier_initializer_conv2d())\n",
    "\n",
    "    net2 = tf.layers.conv2d(net2, 64, (3, 3), (1, 1), name='Conv2', padding='SAME', \\\n",
    "                               kernel_initializer=tf.contrib.layers.xavier_initializer_conv2d())\n",
    "    net2 = tf.layers.max_pooling2d(net2, 2, 2)\n",
    "\n",
    "    net2 = tf.layers.conv2d(net2, 128, (3, 3), (1, 1), name='Conv3', padding='SAME', \\\n",
    "                               kernel_initializer=tf.contrib.layers.xavier_initializer_conv2d())\n",
    "    net2 = tf.layers.conv2d(net2, 128, (3, 3), (1, 1), name='Conv4', padding='SAME', \\\n",
    "                               kernel_initializer=tf.contrib.layers.xavier_initializer_conv2d())\n",
    "    net2 = tf.layers.max_pooling2d(net2, 2, 2)\n",
    "\n",
    "\n",
    "    net2 = tf.layers.conv2d(net2, 256, (3, 3), (1, 1), name='Conv5', padding='SAME', \\\n",
    "                               kernel_initializer=tf.contrib.layers.xavier_initializer_conv2d())\n",
    "    net2 = tf.layers.conv2d(net2, 256, (3, 3), (1, 1), name='Conv6', padding='SAME', \\\n",
    "                               kernel_initializer=tf.contrib.layers.xavier_initializer_conv2d())\n",
    "    net2 = tf.layers.conv2d(net2, 256, (3, 3), (1, 1), name='Conv7', padding='SAME', \\\n",
    "                               kernel_initializer=tf.contrib.layers.xavier_initializer_conv2d())\n",
    "    net2 = tf.layers.max_pooling2d(net2, 2, 2)\n",
    "\n",
    "with tf.variable_scope('dense2'):\n",
    "    flat2 = tf.contrib.layers.flatten(net2)\n",
    "    fc24 = tf.layers.dense(flat2, 512, activation=tf.nn.relu, name='fc24')\n",
    "\n",
    "    fc25 = tf.layers.dense(fc24, 10, name='fc25')\n",
    "\n",
    "    y2 = tf.placeholder(tf.float32, [None, 10])\n",
    "\n",
    "prob2 = tf.nn.softmax(fc25)\n",
    "\n",
    "loss2 = tf.reduce_mean(tf.nn.softmax_cross_entropy_with_logits(logits=fc25, labels=y2, name='loss2'))\n",
    "\n",
    "train2 = tf.train.MomentumOptimizer(0.001, 0.9, use_nesterov=True).minimize(loss2)\n",
    "\n",
    "lables_hat2 = tf.cast(tf.argmax(fc25, axis=1), tf.float32, name='lables_hat2')\n",
    "lables2 = tf.cast(tf.argmax(y2, axis=1), tf.float32, name='lables2')\n",
    "accuracy2 = tf.reduce_mean(tf.cast(tf.equal(lables_hat2, lables2), tf.float32), name='acc2')"
   ]
  },
  {
   "cell_type": "markdown",
   "metadata": {},
   "source": [
    "### Train network"
   ]
  },
  {
   "cell_type": "code",
   "execution_count": 10,
   "metadata": {
    "scrolled": false
   },
   "outputs": [
    {
     "data": {
      "application/vnd.jupyter.widget-view+json": {
       "model_id": "dc584123318c46bf8a4106fef4209e2e"
      }
     },
     "metadata": {},
     "output_type": "display_data"
    },
    {
     "name": "stdout",
     "output_type": "stream",
     "text": [
      "\n"
     ]
    }
   ],
   "source": [
    "sess = tf.Session()\n",
    "sess.run(tf.global_variables_initializer())\n",
    "los2, acc2 = [], []\n",
    "for i in tqn(range(1, 600)):\n",
    "    a, b = sess.run([train2, loss2, accuracy2],feed_dict={x1:images[:100].reshape(-1, 784),\n",
    "                                                                          y2:labels[:100].reshape(-1,10)})[-2:]\n",
    "    los2.append(a)\n",
    "    acc2.append(b)"
   ]
  },
  {
   "cell_type": "markdown",
   "metadata": {},
   "source": [
    "## Results"
   ]
  },
  {
   "cell_type": "code",
   "execution_count": 51,
   "metadata": {},
   "outputs": [
    {
     "data": {
      "text/plain": [
       "<matplotlib.legend.Legend at 0x7fc36d6c2d30>"
      ]
     },
     "execution_count": 51,
     "metadata": {},
     "output_type": "execute_result"
    },
    {
     "data": {
      "image/png": "[encoded data removed]",
      "text/plain": [
       "<matplotlib.figure.Figure at 0x7fc36d4ec358>"
      ]
     },
     "metadata": {},
     "output_type": "display_data"
    }
   ],
   "source": [
    "plt.figure(figsize = (10, 8))\n",
    "plt.grid()\n",
    "plt.title('Loss graph', fontsize=18)\n",
    "plt.plot(los2, label='no FreezeOut')\n",
    "plt.plot(los, label='FreezeOut')\n",
    "plt.xlabel('iteration', fontsize=18)\n",
    "plt.ylabel('loss', fontsize=18)\n",
    "plt.legend(fontsize=15)"
   ]
  },
  {
   "cell_type": "code",
   "execution_count": 52,
   "metadata": {},
   "outputs": [
    {
     "data": {
      "text/plain": [
       "<matplotlib.legend.Legend at 0x7fc36d6a0080>"
      ]
     },
     "execution_count": 52,
     "metadata": {},
     "output_type": "execute_result"
    },
    {
     "data": {
      "image/png": "[encoded data removed]",
      "text/plain": [
       "<matplotlib.figure.Figure at 0x7fc36d47d0f0>"
      ]
     },
     "metadata": {},
     "output_type": "display_data"
    }
   ],
   "source": [
    "plt.figure(figsize = (10, 8))\n",
    "plt.grid()\n",
    "plt.title('Accuracy graph', fontsize=18)\n",
    "plt.plot(acc2, label='no FreezeOut')\n",
    "plt.plot(acc, label='FreezeOut')\n",
    "plt.xlabel('iteration', fontsize=18)\n",
    "plt.ylabel('accuracy', fontsize=18)\n",
    "plt.legend(fontsize=15)"
   ]
  }
 ],
 "metadata": {
  "kernelspec": {
   "display_name": "Python 3",
   "language": "python",
   "name": "python3"
  },
  "language_info": {
   "codemirror_mode": {
    "name": "ipython",
    "version": 3
   },
   "file_extension": ".py",
   "mimetype": "text/x-python",
   "name": "python",
   "nbconvert_exporter": "python",
   "pygments_lexer": "ipython3",
   "version": "3.5.2"
  }
 },
 "nbformat": 4,
 "nbformat_minor": 2
}
