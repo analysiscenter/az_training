{
 "cells": [
  {
   "cell_type": "code",
   "execution_count": 1,
   "metadata": {},
   "outputs": [],
   "source": [
    "import mnist\n",
    "import os\n",
    "import blosc\n",
    "import tensorflow as tf\n",
    "import numpy as np\n",
    "import matplotlib.pyplot as plt\n",
    "from tqdm import tqdm_notebook as tqn\n",
    "%matplotlib inline"
   ]
  },
  {
   "cell_type": "code",
   "execution_count": 2,
   "metadata": {},
   "outputs": [],
   "source": [
    "src = './../MNIST_data'\n",
    "with open(os.path.join(src, 'mnist_pics.blk'), 'rb') as file:\n",
    "    images = blosc.unpack_array(file.read()).reshape(-1, 28, 28)\n",
    "with open(os.path.join(src, 'mnist_labels.blk'), 'rb') as file:\n",
    "    labels = blosc.unpack_array(file.read())"
   ]
  },
  {
   "cell_type": "code",
   "execution_count": 3,
   "metadata": {
    "collapsed": true
   },
   "outputs": [],
   "source": [
    "def create_train(opt, src, global_step, loss, it):\n",
    "    def learning_rate(last, src):\n",
    "        last = int(last)\n",
    "        bound = list(np.linspace(0, last, len(range(2, last+1)), dtype=np.float32))\n",
    "        values = [0.5 * 0.1/last* (1 + np.cos(np.pi * i / last)) for i in range(2, last+1)]\n",
    "        var = [i for i in tf.trainable_variables() if src in i.name or 'dense' in i.name]\n",
    "        return bound, values, var\n",
    "    \n",
    "    b, v, var = learning_rate(it, src)\n",
    "    learning_rate = tf.train.piecewise_constant(global_step, b, v)\n",
    "    \n",
    "    return opt(learning_rate).minimize(loss, global_step, var)"
   ]
  },
  {
   "cell_type": "code",
   "execution_count": 4,
   "metadata": {},
   "outputs": [
    {
     "data": {
      "application/vnd.jupyter.widget-view+json": {
       "model_id": "06a63d8bc5c942ae890d7754ba4d911a"
      }
     },
     "metadata": {},
     "output_type": "display_data"
    },
    {
     "name": "stdout",
     "output_type": "stream",
     "text": [
      "\n"
     ]
    }
   ],
   "source": [
    "it = 100\n",
    "x = tf.placeholder(tf.float32, [None, 784], name='x')\n",
    "x_as_pics = tf.reshape(x, shape=[-1, 28, 28, 1])\n",
    "\n",
    "\n",
    "conv1_1 = tf.layers.conv2d(x_as_pics, 64, (3, 3), (1, 1), name='Conv1', padding='SAME', \\\n",
    "                           kernel_initializer=tf.contrib.layers.xavier_initializer_conv2d())\n",
    "\n",
    "conv1_2 = tf.layers.conv2d(x_as_pics, 64, (3, 3), (1, 1), name='Conv2', padding='SAME', \\\n",
    "                           kernel_initializer=tf.contrib.layers.xavier_initializer_conv2d())\n",
    "pool1 = tf.layers.max_pooling2d(conv1_2, 2, 2)\n",
    "\n",
    "conv2_1 = tf.layers.conv2d(x_as_pics, 128, (3, 3), (1, 1), name='Conv3', padding='SAME', \\\n",
    "                           kernel_initializer=tf.contrib.layers.xavier_initializer_conv2d())\n",
    "conv2_2 = tf.layers.conv2d(x_as_pics, 128, (3, 3), (1, 1), name='Conv4', padding='SAME', \\\n",
    "                           kernel_initializer=tf.contrib.layers.xavier_initializer_conv2d())\n",
    "pool2 = tf.layers.max_pooling2d(conv2_2, 2, 2)\n",
    "\n",
    "\n",
    "conv3_1 = tf.layers.conv2d(x_as_pics, 256, (3, 3), (1, 1), name='Conv5', padding='SAME', \\\n",
    "                           kernel_initializer=tf.contrib.layers.xavier_initializer_conv2d())\n",
    "conv3_2 = tf.layers.conv2d(x_as_pics, 256, (3, 3), (1, 1), name='Conv6', padding='SAME', \\\n",
    "                           kernel_initializer=tf.contrib.layers.xavier_initializer_conv2d())\n",
    "conv3_3 = tf.layers.conv2d(x_as_pics, 256, (3, 3), (1, 1), name='Conv7', padding='SAME', \\\n",
    "                           kernel_initializer=tf.contrib.layers.xavier_initializer_conv2d())\n",
    "pool3 = tf.layers.max_pooling2d(conv3_3, 2, 2)\n",
    "\n",
    "with tf.variable_scope('dense'):\n",
    "    flat = tf.contrib.layers.flatten(pool3)\n",
    "    fc4 = tf.layers.dense(flat, 512, activation=tf.nn.relu, name='fc4')\n",
    "\n",
    "    fc5 = tf.layers.dense(fc4, 10, name='fc5')\n",
    "\n",
    "    y = tf.placeholder(tf.float32, [None, 10])\n",
    "\n",
    "prob = tf.nn.softmax(fc5)\n",
    "\n",
    "loss = tf.reduce_mean(tf.nn.softmax_cross_entropy_with_logits(logits=fc5, labels=y, name='loss'))\n",
    "\n",
    "train = []\n",
    "global_steps = []\n",
    "for i in tqn(range(7)):\n",
    "    global_steps.append(tf.Variable(0., trainable=False))\n",
    "    train.append(create_train(tf.train.GradientDescentOptimizer, 'Conv' + str(i), \\\n",
    "                              global_steps[-1], loss, it*(i/10 + 0.4)))\n",
    "\n",
    "lables_hat = tf.cast(tf.argmax(fc5, axis=1), tf.float32, name='lables_hat')\n",
    "lables = tf.cast(tf.argmax(y, axis=1), tf.float32, name='lables')\n",
    "accuracy = tf.reduce_mean(tf.cast(tf.equal(lables_hat, lables), tf.float32), name='acc')"
   ]
  },
  {
   "cell_type": "code",
   "execution_count": 5,
   "metadata": {},
   "outputs": [
    {
     "data": {
      "text/plain": [
       "[<tf.Variable 'Conv1/kernel:0' shape=(3, 3, 1, 64) dtype=float32_ref>,\n",
       " <tf.Variable 'Conv1/bias:0' shape=(64,) dtype=float32_ref>,\n",
       " <tf.Variable 'Conv2/kernel:0' shape=(3, 3, 1, 64) dtype=float32_ref>,\n",
       " <tf.Variable 'Conv2/bias:0' shape=(64,) dtype=float32_ref>,\n",
       " <tf.Variable 'Conv3/kernel:0' shape=(3, 3, 1, 128) dtype=float32_ref>,\n",
       " <tf.Variable 'Conv3/bias:0' shape=(128,) dtype=float32_ref>,\n",
       " <tf.Variable 'Conv4/kernel:0' shape=(3, 3, 1, 128) dtype=float32_ref>,\n",
       " <tf.Variable 'Conv4/bias:0' shape=(128,) dtype=float32_ref>,\n",
       " <tf.Variable 'Conv5/kernel:0' shape=(3, 3, 1, 256) dtype=float32_ref>,\n",
       " <tf.Variable 'Conv5/bias:0' shape=(256,) dtype=float32_ref>,\n",
       " <tf.Variable 'Conv6/kernel:0' shape=(3, 3, 1, 256) dtype=float32_ref>,\n",
       " <tf.Variable 'Conv6/bias:0' shape=(256,) dtype=float32_ref>,\n",
       " <tf.Variable 'Conv7/kernel:0' shape=(3, 3, 1, 256) dtype=float32_ref>,\n",
       " <tf.Variable 'Conv7/bias:0' shape=(256,) dtype=float32_ref>,\n",
       " <tf.Variable 'dense/fc4/kernel:0' shape=(50176, 512) dtype=float32_ref>,\n",
       " <tf.Variable 'dense/fc4/bias:0' shape=(512,) dtype=float32_ref>,\n",
       " <tf.Variable 'dense/fc5/kernel:0' shape=(512, 10) dtype=float32_ref>,\n",
       " <tf.Variable 'dense/fc5/bias:0' shape=(10,) dtype=float32_ref>,\n",
       " <tf.Variable 'Variable:0' shape=() dtype=float32_ref>,\n",
       " <tf.Variable 'Variable_1:0' shape=() dtype=float32_ref>,\n",
       " <tf.Variable 'Variable_2:0' shape=() dtype=float32_ref>,\n",
       " <tf.Variable 'Variable_3:0' shape=() dtype=float32_ref>,\n",
       " <tf.Variable 'Variable_4:0' shape=() dtype=float32_ref>,\n",
       " <tf.Variable 'Variable_5:0' shape=() dtype=float32_ref>,\n",
       " <tf.Variable 'Variable_6:0' shape=() dtype=float32_ref>]"
      ]
     },
     "execution_count": 5,
     "metadata": {},
     "output_type": "execute_result"
    }
   ],
   "source": [
    "tf.global_variables()"
   ]
  },
  {
   "cell_type": "code",
   "execution_count": 6,
   "metadata": {
    "scrolled": false
   },
   "outputs": [],
   "source": [
    "sess = tf.Session()\n",
    "sess.run(tf.global_variables_initializer())"
   ]
  },
  {
   "cell_type": "code",
   "execution_count": 7,
   "metadata": {},
   "outputs": [
    {
     "data": {
      "text/plain": [
       "[<tf.Operation 'GradientDescent' type=AssignAdd>,\n",
       " <tf.Operation 'GradientDescent_1' type=AssignAdd>,\n",
       " <tf.Operation 'GradientDescent_2' type=AssignAdd>,\n",
       " <tf.Operation 'GradientDescent_3' type=AssignAdd>,\n",
       " <tf.Operation 'GradientDescent_4' type=AssignAdd>,\n",
       " <tf.Operation 'GradientDescent_5' type=AssignAdd>,\n",
       " <tf.Operation 'GradientDescent_6' type=AssignAdd>]"
      ]
     },
     "execution_count": 7,
     "metadata": {},
     "output_type": "execute_result"
    }
   ],
   "source": [
    "train"
   ]
  },
  {
   "cell_type": "code",
   "execution_count": 8,
   "metadata": {},
   "outputs": [
    {
     "data": {
      "application/vnd.jupyter.widget-view+json": {
       "model_id": "938404b28ee743b294bc54a7861eca34"
      }
     },
     "metadata": {},
     "output_type": "display_data"
    },
    {
     "name": "stdout",
     "output_type": "stream",
     "text": [
      "\n"
     ]
    }
   ],
   "source": [
    "los, acc = [], []\n",
    "var_i = []\n",
    "for i in tqn(range(1, 300)):\n",
    "    var, a, b = sess.run([train, tf.global_variables()[2], loss, accuracy],feed_dict={x:images[:100].reshape(-1, 784),\n",
    "                                                                          y:labels[:100].reshape(-1,10)})[-3:]\n",
    "    var_i.append(var)\n",
    "    los.append(a)\n",
    "    acc.append(b)"
   ]
  },
  {
   "cell_type": "code",
   "execution_count": 16,
   "metadata": {
    "scrolled": true
   },
   "outputs": [
    {
     "data": {
      "text/plain": [
       "array([[[[-0.00576056,  0.06357543,  0.09219205, -0.06201024,  0.05394873,\n",
       "          -0.10050302,  0.08456382,  0.05643585, -0.07541488, -0.02778126,\n",
       "           0.08650297,  0.04588746,  0.01799192, -0.00793448, -0.07020709,\n",
       "          -0.04403694, -0.07210925, -0.01665167,  0.06930965, -0.00397625,\n",
       "           0.07011312, -0.02427269,  0.03587863, -0.00466742, -0.0072226 ,\n",
       "           0.09073447,  0.05912074, -0.08433963, -0.00763493,  0.08266579,\n",
       "           0.02519651, -0.01569062, -0.00177366, -0.02790462,  0.08718875,\n",
       "          -0.05709758,  0.04896122, -0.0739859 ,  0.03200246, -0.01742278,\n",
       "          -0.09575906,  0.023845  , -0.00882014,  0.06762896, -0.01909646,\n",
       "           0.01112334, -0.10041129,  0.08173253, -0.04724248,  0.07760817,\n",
       "           0.02601275,  0.08434238, -0.03633991,  0.03569429, -0.09829092,\n",
       "          -0.06170098,  0.04473381, -0.05113357, -0.01835804, -0.00695038,\n",
       "           0.04092313,  0.05257763,  0.03481248, -0.02756178]],\n",
       "\n",
       "        [[-0.01224048,  0.00701526,  0.00445015,  0.02159642, -0.00650506,\n",
       "          -0.06399931,  0.07223561, -0.07650448,  0.01434883, -0.01588816,\n",
       "           0.02394417, -0.00095701, -0.03519681, -0.09848865, -0.09816398,\n",
       "          -0.08525342,  0.0398124 , -0.01271494,  0.1001749 , -0.08787639,\n",
       "          -0.02571751, -0.03326081, -0.01966158,  0.00894548,  0.00406744,\n",
       "          -0.01700091, -0.0062885 ,  0.00588249,  0.0162501 , -0.09949955,\n",
       "          -0.08845442, -0.06850012,  0.09201147, -0.00448891, -0.06018636,\n",
       "          -0.01118185, -0.05222162,  0.06454319,  0.065484  ,  0.0560372 ,\n",
       "           0.07143132,  0.07764067, -0.09441338,  0.09335449, -0.02430183,\n",
       "          -0.08049151,  0.05474496, -0.08804315, -0.0243111 , -0.08258397,\n",
       "          -0.08010156, -0.05939784,  0.07125634,  0.08900426,  0.08819507,\n",
       "          -0.0400598 , -0.02217306, -0.01455103, -0.0853719 , -0.09488108,\n",
       "          -0.03409512, -0.00547798, -0.00845096,  0.02437113]],\n",
       "\n",
       "        [[-0.0310273 , -0.02830993,  0.0836882 , -0.05981698,  0.06152382,\n",
       "           0.02688126,  0.07204787,  0.02693245, -0.06493255, -0.06299258,\n",
       "          -0.02602037, -0.0425905 ,  0.08232303,  0.0199557 , -0.00914603,\n",
       "           0.05964485,  0.06924506,  0.07879075, -0.06203941,  0.05274153,\n",
       "           0.04880075, -0.000967  ,  0.01091919,  0.00866387, -0.07010874,\n",
       "           0.09101817, -0.07895605,  0.02059641, -0.01496927,  0.03772968,\n",
       "           0.01926424, -0.07052176, -0.01657612, -0.06348394, -0.00545101,\n",
       "          -0.07744174,  0.07197723,  0.01223877, -0.00174222, -0.07283249,\n",
       "          -0.02924489, -0.00126646, -0.09206894, -0.01737922,  0.00869084,\n",
       "           0.04685953, -0.0206072 ,  0.03432411, -0.00916547,  0.05481043,\n",
       "           0.09677412,  0.04751934, -0.06889816, -0.04880454, -0.02471501,\n",
       "           0.08524553,  0.08632638,  0.08798386, -0.07283749, -0.07830188,\n",
       "           0.0529006 , -0.05878659,  0.09456763,  0.09373096]]],\n",
       "\n",
       "\n",
       "       [[[-0.0158503 , -0.00079084,  0.09838784, -0.01730277,  0.04116158,\n",
       "          -0.05709864, -0.00402524,  0.01738147,  0.08824179, -0.04000972,\n",
       "           0.0089469 ,  0.07264091,  0.08657673, -0.09354278, -0.08932777,\n",
       "          -0.05395902,  0.02701694, -0.00250284, -0.04763167,  0.04109003,\n",
       "           0.05324648, -0.06369263, -0.02697509, -0.08561202,  0.08699092,\n",
       "           0.06914343, -0.09543715, -0.00803319, -0.04489901,  0.03496511,\n",
       "           0.06939311,  0.00547537, -0.08339275, -0.0345003 , -0.0938173 ,\n",
       "           0.0513594 ,  0.07462996, -0.05042072,  0.01855953,  0.00077222,\n",
       "           0.02103153, -0.01122982, -0.08756557, -0.09262586, -0.09467857,\n",
       "          -0.029716  , -0.05509173,  0.00761472,  0.09147409, -0.07090139,\n",
       "          -0.0266405 ,  0.04065861,  0.06803401, -0.08545346,  0.02285293,\n",
       "          -0.08541678, -0.00948873,  0.02555294,  0.04410286,  0.02442896,\n",
       "           0.07092243,  0.0884839 ,  0.0845734 ,  0.05023381]],\n",
       "\n",
       "        [[-0.06125325,  0.07369067,  0.0275937 ,  0.08321297,  0.0859571 ,\n",
       "           0.05443694,  0.03524286,  0.00182198,  0.04413635, -0.0915784 ,\n",
       "           0.00986026, -0.01371916,  0.06214741,  0.053886  ,  0.08338337,\n",
       "           0.06408218,  0.02541238,  0.01098156,  0.00935733, -0.01036976,\n",
       "           0.01642837, -0.06405419, -0.09177089,  0.09504239, -0.04617774,\n",
       "           0.04167683,  0.05589387,  0.02730779, -0.04708684, -0.03120177,\n",
       "           0.00648084, -0.02583662,  0.02939646, -0.09042716,  0.03519565,\n",
       "          -0.02975893,  0.00325603,  0.00049339, -0.05977564,  0.06992993,\n",
       "           0.02634101,  0.0074917 , -0.01527441, -0.05996627,  0.03844468,\n",
       "          -0.0720373 , -0.00836664, -0.02812809, -0.08599707, -0.07491314,\n",
       "          -0.00650144,  0.08259875,  0.01906423, -0.04196569, -0.09606928,\n",
       "           0.01073457, -0.03188737, -0.0883265 ,  0.06623389, -0.06205629,\n",
       "          -0.07489817, -0.08122257, -0.07481626, -0.00074941]],\n",
       "\n",
       "        [[ 0.05076361, -0.02469271,  0.09721395, -0.0336018 , -0.02881933,\n",
       "           0.06665173,  0.04989152, -0.00232044, -0.07720318,  0.00708243,\n",
       "          -0.08119301,  0.0573089 ,  0.07745703,  0.02453583, -0.01188494,\n",
       "           0.0220143 ,  0.09514135,  0.00126047, -0.0575945 , -0.04463087,\n",
       "           0.05003263,  0.04109879,  0.08947551,  0.03318809, -0.00935379,\n",
       "           0.03413156,  0.095751  ,  0.05506256, -0.01932364,  0.0794577 ,\n",
       "          -0.04895381, -0.09715567,  0.05235739,  0.03983457, -0.07887813,\n",
       "           0.09845929, -0.05736521, -0.02669363, -0.05578498, -0.09270781,\n",
       "          -0.09581713, -0.03860426,  0.08998556, -0.04379962, -0.08627844,\n",
       "          -0.09826801,  0.09679022,  0.07653652,  0.0834925 ,  0.08466725,\n",
       "          -0.08925965,  0.06257966, -0.05264059,  0.01434569,  0.02640997,\n",
       "          -0.08501618,  0.09954773, -0.04062478,  0.04111016,  0.00747241,\n",
       "          -0.02598201,  0.07575953,  0.0197814 ,  0.09593967]]],\n",
       "\n",
       "\n",
       "       [[[ 0.05647814,  0.03173769, -0.06473244,  0.08403483,  0.04697427,\n",
       "           0.00178781, -0.09513509, -0.06179863,  0.09023762, -0.00397178,\n",
       "          -0.09395524,  0.03768875, -0.09058206,  0.04698762, -0.04535677,\n",
       "          -0.0353646 ,  0.00461347,  0.08959734, -0.09512457,  0.03718074,\n",
       "          -0.05338232, -0.05708019,  0.07438517, -0.05617551, -0.07902156,\n",
       "           0.00984553,  0.0203118 , -0.0456121 , -0.09973381,  0.08462664,\n",
       "           0.0879889 ,  0.09435019,  0.03774777,  0.0784784 , -0.01957837,\n",
       "           0.04282372,  0.00107955,  0.06066932,  0.09280466, -0.05114458,\n",
       "           0.0161547 , -0.00998765, -0.01976606,  0.06443413, -0.09481391,\n",
       "          -0.01529973,  0.0798223 , -0.07899461,  0.01942312, -0.07499364,\n",
       "           0.062224  ,  0.05541299,  0.02924468,  0.03001   , -0.08656457,\n",
       "          -0.04622301,  0.04645194, -0.07481901,  0.00714968, -0.00312446,\n",
       "          -0.06232795, -0.02002008, -0.05801982, -0.05251011]],\n",
       "\n",
       "        [[ 0.0122636 , -0.0276783 ,  0.02847141, -0.06922805, -0.00017028,\n",
       "           0.04275462,  0.02552524,  0.02967466,  0.02463405,  0.09646472,\n",
       "           0.00939304, -0.08760051,  0.05617715,  0.00689538, -0.03520275,\n",
       "           0.09357546,  0.05611029, -0.05597418,  0.05417864,  0.00362215,\n",
       "          -0.08148687,  0.0197538 , -0.07542893, -0.04275925, -0.03380484,\n",
       "          -0.06322604, -0.0623978 ,  0.03732277, -0.04275807,  0.02293358,\n",
       "           0.03033414,  0.02811041,  0.00146279, -0.02927107, -0.00411549,\n",
       "           0.00270764,  0.05038701, -0.08498958,  0.02594279, -0.04975515,\n",
       "          -0.02657712, -0.0361551 , -0.0837198 ,  0.00328131, -0.02191149,\n",
       "          -0.08494621, -0.00080275,  0.09418882,  0.03078616, -0.03667922,\n",
       "          -0.0581715 , -0.096641  ,  0.0867897 , -0.05413417, -0.02725597,\n",
       "          -0.03004976, -0.09115025,  0.01069534, -0.07703848,  0.01337519,\n",
       "           0.01187512, -0.00053313,  0.04708317, -0.08075794]],\n",
       "\n",
       "        [[-0.07556038, -0.02244876, -0.0336666 ,  0.00767581,  0.02642485,\n",
       "          -0.03274012, -0.0938575 , -0.09431627,  0.00252529,  0.00887954,\n",
       "          -0.03639457,  0.06384057,  0.02061079,  0.00523742, -0.05635607,\n",
       "           0.0749318 ,  0.07860258, -0.0135083 , -0.02011195,  0.0034513 ,\n",
       "           0.05825613, -0.04661492, -0.04429144,  0.04420516,  0.01116272,\n",
       "           0.02779445, -0.02444316,  0.09567858,  0.00373434, -0.04572358,\n",
       "           0.07332906,  0.03411011, -0.09818671, -0.08883294, -0.01037067,\n",
       "           0.00147042,  0.08410628, -0.08726252,  0.00278131, -0.03186735,\n",
       "           0.00309129,  0.0175813 ,  0.07530431,  0.09875466, -0.01627415,\n",
       "          -0.05332416,  0.05070081, -0.04946441,  0.09426138,  0.08496727,\n",
       "          -0.06347378,  0.03484045,  0.09413911, -0.05138683, -0.01100167,\n",
       "           0.0443743 ,  0.04887673, -0.05585102, -0.05453588, -0.0727622 ,\n",
       "          -0.0302558 ,  0.05971083,  0.04819372, -0.08795441]]]], dtype=float32)"
      ]
     },
     "execution_count": 16,
     "metadata": {},
     "output_type": "execute_result"
    }
   ],
   "source": [
    "var_i[1]"
   ]
  },
  {
   "cell_type": "code",
   "execution_count": 10,
   "metadata": {
    "scrolled": true
   },
   "outputs": [
    {
     "data": {
      "text/plain": [
       "[<matplotlib.lines.Line2D at 0x7f0600787e10>]"
      ]
     },
     "execution_count": 10,
     "metadata": {},
     "output_type": "execute_result"
    },
    {
     "data": {
      "image/png": "[encoded data removed]",
      "text/plain": [
       "<matplotlib.figure.Figure at 0x7f0631338ef0>"
      ]
     },
     "metadata": {},
     "output_type": "display_data"
    }
   ],
   "source": [
    "plt.plot(los)"
   ]
  },
  {
   "cell_type": "code",
   "execution_count": 11,
   "metadata": {},
   "outputs": [
    {
     "data": {
      "text/plain": [
       "[<matplotlib.lines.Line2D at 0x7f0600730908>]"
      ]
     },
     "execution_count": 11,
     "metadata": {},
     "output_type": "execute_result"
    },
    {
     "data": {
      "image/png": "[encoded data removed]",
      "text/plain": [
       "<matplotlib.figure.Figure at 0x7f0600756780>"
      ]
     },
     "metadata": {},
     "output_type": "display_data"
    }
   ],
   "source": [
    "plt.plot(acc)"
   ]
  },
  {
   "cell_type": "code",
   "execution_count": null,
   "metadata": {
    "collapsed": true
   },
   "outputs": [],
   "source": []
  }
 ],
 "metadata": {
  "kernelspec": {
   "display_name": "Python 3",
   "language": "python",
   "name": "python3"
  },
  "language_info": {
   "codemirror_mode": {
    "name": "ipython",
    "version": 3
   },
   "file_extension": ".py",
   "mimetype": "text/x-python",
   "name": "python",
   "nbconvert_exporter": "python",
   "pygments_lexer": "ipython3",
   "version": "3.5.2"
  }
 },
 "nbformat": 4,
 "nbformat_minor": 2
}
