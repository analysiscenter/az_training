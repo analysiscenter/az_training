{
 "cells": [
  {
   "cell_type": "markdown",
   "metadata": {},
   "source": [
    "# LinkNet: нейронная сеть для семантической сегментации изображений"
   ]
  },
  {
   "cell_type": "markdown",
   "metadata": {},
   "source": [
    "Abhishek Chaurasia, Eugenio Culurciello, Jun 2017, https://arxiv.org/abs/1707.03718"
   ]
  },
  {
   "cell_type": "markdown",
   "metadata": {},
   "source": [
    "Воспользуемся LinkNet для сегментации изображений $128 \\times 128$, в которых в случайном месте располагается изображение MNIST $28 \\times 28$ и добавлен шум из обрезков других картинок из базы."
   ]
  },
  {
   "cell_type": "code",
   "execution_count": 1,
   "metadata": {
    "collapsed": true
   },
   "outputs": [],
   "source": [
    "import sys\n",
    "import os\n",
    "import numpy as np\n",
    "import tensorflow as tf\n",
    "import pickle\n",
    "from tqdm import tqdm_notebook as tqm\n",
    "from time import time\n",
    "import math\n",
    "\n",
    "import matplotlib.pyplot as plt\n",
    "\n",
    "sys.path.append(os.path.join('..','..'))\n",
    "\n",
    "from az_training.dataset import Dataset, DatasetIndex\n",
    "from az_training.task_02.linknet import LinkNetBatch\n",
    "from az_training.task_02.plot_functions import plot_example_interactive, plot_examples\n",
    "\n",
    "%matplotlib inline"
   ]
  },
  {
   "cell_type": "code",
   "execution_count": 2,
   "metadata": {
    "collapsed": true
   },
   "outputs": [],
   "source": [
    "MNIST_SIZE = 65000\n",
    "BATCH_SIZE = 512\n",
    "MAX_ITER = 300"
   ]
  },
  {
   "cell_type": "code",
   "execution_count": 3,
   "metadata": {
    "collapsed": true
   },
   "outputs": [],
   "source": [
    "# создадим индекс и датасет для построения пайплайна\n",
    "\n",
    "ind = DatasetIndex(np.arange(MNIST_SIZE))\n",
    "mnistset = Dataset(ind, batch_class=LinkNetBatch)\n",
    "mnistset.cv_split([0.9, 0.1])"
   ]
  },
  {
   "cell_type": "code",
   "execution_count": 4,
   "metadata": {
    "collapsed": true
   },
   "outputs": [],
   "source": [
    "sess = tf.Session()\n",
    "sess.run(tf.global_variables_initializer())\n",
    "sess.run(tf.local_variables_initializer())"
   ]
  },
  {
   "cell_type": "code",
   "execution_count": 5,
   "metadata": {
    "collapsed": true
   },
   "outputs": [],
   "source": [
    "prediction = []\n",
    "test_loss = []\n",
    "train_loss = []"
   ]
  },
  {
   "cell_type": "code",
   "execution_count": 6,
   "metadata": {
    "collapsed": true
   },
   "outputs": [],
   "source": [
    "# пайплайны для обучения и контроля\n",
    "\n",
    "level = 1\n",
    "n_fragments = 80\n",
    "size = 8\n",
    "distr = 'uniform'\n",
    "\n",
    "ppl = mnistset.train.pipeline()\\\n",
    "        .load_images()\\\n",
    "        .random_location() \\\n",
    "        .create_mask()\\\n",
    "        .add_noise('mnist_noise', level, n_fragments, size, distr)\\\n",
    "        .train(sess)\\\n",
    "        .get_stat(sess, train_loss, True)\\\n",
    "        \n",
    "ppl_test = mnistset.test.pipeline()\\\n",
    "            .load_images()\\\n",
    "            .random_location() \\\n",
    "            .create_mask()\\\n",
    "            .add_noise('mnist_noise', level, n_fragments, size, distr)"
   ]
  },
  {
   "cell_type": "code",
   "execution_count": 7,
   "metadata": {},
   "outputs": [
    {
     "data": {
      "image/png": "[encoded data removed]",
      "text/plain": [
       "<matplotlib.figure.Figure at 0x7f6a8bcd0c88>"
      ]
     },
     "metadata": {},
     "output_type": "display_data"
    }
   ],
   "source": [
    "images = []\n",
    "masks = []\n",
    "ppl_test.get_images(images, masks).next_batch(100, n_epochs=None)\n",
    "plt.subplot(121)\n",
    "plt.imshow(images[0][0])\n",
    "plt.subplot(122)\n",
    "plt.imshow(masks[0][0])\n",
    "plt.show()"
   ]
  },
  {
   "cell_type": "code",
   "execution_count": null,
   "metadata": {},
   "outputs": [
    {
     "name": "stdout",
     "output_type": "stream",
     "text": [
      "Iter 10: Train loss: 0.5718832612037659, test loss: 0.5636698007583618\n"
     ]
    }
   ],
   "source": [
    "# обучение\n",
    "\n",
    "start = time()\n",
    "for i in range(MAX_ITER):\n",
    "    ppl.next_batch(BATCH_SIZE, n_epochs=None)\n",
    "    ppl_test.get_stat(sess, test_loss, False).next_batch(100, n_epochs=None)\n",
    "    if (i+1) % 10 == 0:\n",
    "        print(\"Iter {}: Train loss: {}, test loss: {}\".format(i+1, train_loss[-1], test_loss[-1]))\n",
    "stop = time()\n",
    "print(\"Train time: {} min\".format((stop-start)/60))"
   ]
  },
  {
   "cell_type": "code",
   "execution_count": 8,
   "metadata": {},
   "outputs": [
    {
     "data": {
      "image/png": "[encoded data removed]",
      "text/plain": [
       "<matplotlib.figure.Figure at 0x7fb1ec5a1b70>"
      ]
     },
     "metadata": {},
     "output_type": "display_data"
    }
   ],
   "source": [
    "plt1, = plt.plot(train_loss,  label='Train loss')\n",
    "plt2, = plt.plot(test_loss, label='Test loss')\n",
    "plt.legend(handles=[plt1, plt2])\n",
    "plt.show()"
   ]
  },
  {
   "cell_type": "code",
   "execution_count": 10,
   "metadata": {
    "collapsed": true
   },
   "outputs": [],
   "source": [
    "with open('with_bn.pkl', 'wb') as file:\n",
    "    pickle.dump([train_loss, test_loss], file, pickle.HIGHEST_PROTOCOL)"
   ]
  },
  {
   "cell_type": "code",
   "execution_count": 15,
   "metadata": {
    "collapsed": true
   },
   "outputs": [],
   "source": [
    "with open('with_bn.pkl', 'rb') as file:\n",
    "    a, b = pickle.load(file)"
   ]
  },
  {
   "cell_type": "code",
   "execution_count": 9,
   "metadata": {},
   "outputs": [
    {
     "data": {
      "text/plain": [
       "<az_training.task_02.linknet.LinkNetBatch at 0x7fb2078f8cf8>"
      ]
     },
     "execution_count": 9,
     "metadata": {},
     "output_type": "execute_result"
    }
   ],
   "source": [
    "prediction = []\n",
    "images = []\n",
    "masks = []\n",
    "ppl_test.get_images(images, masks)\\\n",
    "        .predict_proba(sess, prediction).next_batch(10, n_epochs=None)"
   ]
  },
  {
   "cell_type": "code",
   "execution_count": 12,
   "metadata": {
    "collapsed": true
   },
   "outputs": [],
   "source": [
    "with open('predictions128.pkl', 'wb') as output:\n",
    "    pickle.dump([prediction, images, masks], output, pickle.HIGHEST_PROTOCOL)"
   ]
  },
  {
   "cell_type": "code",
   "execution_count": 3,
   "metadata": {
    "collapsed": true
   },
   "outputs": [],
   "source": [
    "with open('predictions128.pkl', 'rb') as inp:\n",
    "    prediction, images, masks = pickle.load(inp)"
   ]
  },
  {
   "cell_type": "code",
   "execution_count": null,
   "metadata": {
    "collapsed": true,
    "scrolled": false
   },
   "outputs": [],
   "source": [
    "plot_examples(images, masks, prediction)"
   ]
  },
  {
   "cell_type": "code",
   "execution_count": null,
   "metadata": {
    "collapsed": true
   },
   "outputs": [],
   "source": []
  }
 ],
 "metadata": {
  "kernelspec": {
   "display_name": "Python 3",
   "language": "python",
   "name": "python3"
  },
  "language_info": {
   "codemirror_mode": {
    "name": "ipython",
    "version": 3
   },
   "file_extension": ".py",
   "mimetype": "text/x-python",
   "name": "python",
   "nbconvert_exporter": "python",
   "pygments_lexer": "ipython3",
   "version": "3.5.2"
  }
 },
 "nbformat": 4,
 "nbformat_minor": 2
}
