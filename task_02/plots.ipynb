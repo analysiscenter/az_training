{
 "cells": [
  {
   "cell_type": "code",
   "execution_count": 2,
   "metadata": {
    "collapsed": true
   },
   "outputs": [],
   "source": [
    "import pickle\n",
    "from plot_functions import plot_example_interactive, plot_examples\n",
    "%matplotlib inline"
   ]
  },
  {
   "cell_type": "code",
   "execution_count": 70,
   "metadata": {},
   "outputs": [],
   "source": [
    "with open('predictions.pkl', 'rb') as inp:\n",
    "    prediction = pickle.load(inp)"
   ]
  },
  {
   "cell_type": "code",
   "execution_count": 75,
   "metadata": {},
   "outputs": [],
   "source": [
    "import matplotlib.pyplot as plt\n",
    "def plot_examples(prediction):\n",
    "    images, masks, proba = prediction[0]\n",
    "    IMAGE_SIZE = prediction[0][2][2].shape[0]\n",
    "    n_examples = len(images)\n",
    "    if IMAGE_SIZE == 64:\n",
    "        fig = plt.figure(figsize = (12, 3*n_examples))\n",
    "    else:\n",
    "        fig = plt.figure(figsize = (12, 3*n_examples))\n",
    "    for i in range(n_examples):\n",
    "        plt.subplot(n_examples, 4, i*4 + 1)\n",
    "        plt.title('Image')\n",
    "        plt.imshow(images[i].reshape([IMAGE_SIZE, IMAGE_SIZE]), vmin=0, vmax=1)\n",
    "        plt.subplot(n_examples, 4 , i*4 + 2)\n",
    "        plt.title('Mask')\n",
    "        plt.imshow(masks[i].reshape([IMAGE_SIZE, IMAGE_SIZE]))\n",
    "        plt.subplot(n_examples, 4, i*4 + 3)\n",
    "        plt.title('Prediction')\n",
    "        plt.imshow(proba[i][:,:,1].reshape([IMAGE_SIZE, IMAGE_SIZE]) > 0.5)\n",
    "        plt.subplot(n_examples, 4, i*4 + 4)\n",
    "        plt.title('Predicted probability')\n",
    "        plt.imshow(proba[i][:,:,1].reshape([IMAGE_SIZE, IMAGE_SIZE]), vmin=0, vmax=1)\n",
    "\n",
    "\n",
    "    plt.subplots_adjust(bottom=0.1, right=0.8, top=0.9)\n",
    "    cax = plt.axes([0.1, 0.95, 0.75, 0.01])\n",
    "    plt.colorbar(cax=cax, orientation='horizontal')\n",
    "    plt.show()"
   ]
  },
  {
   "cell_type": "code",
   "execution_count": null,
   "metadata": {},
   "outputs": [],
   "source": [
    "plot_examples(prediction)"
   ]
  },
  {
   "cell_type": "code",
   "execution_count": 73,
   "metadata": {},
   "outputs": [
    {
     "data": {
      "application/vnd.jupyter.widget-view+json": {
       "model_id": "a98ec2a27825436eabca837330c5f4db",
       "version_major": 2,
       "version_minor": 0
      },
      "text/plain": [
       "A Jupyter Widget"
      ]
     },
     "metadata": {},
     "output_type": "display_data"
    }
   ],
   "source": [
    "plot_example_interactive(prediction, 9)"
   ]
  }
 ],
 "metadata": {
  "kernelspec": {
   "display_name": "Python 3",
   "language": "python",
   "name": "python3"
  }
 },
 "nbformat": 4,
 "nbformat_minor": 2
}
