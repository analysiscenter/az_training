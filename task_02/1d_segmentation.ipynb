{
 "cells": [
  {
   "cell_type": "code",
   "execution_count": 1,
   "metadata": {
    "collapsed": true
   },
   "outputs": [],
   "source": [
    "import sys\n",
    "from time import time\n",
    "import numpy as np\n",
    "import tensorflow as tf\n",
    "import matplotlib.pyplot as plt\n",
    "from tqdm import tqdm\n",
    "\n",
    "sys.path.append(\"..\")\n",
    "sys.path.append(\"../base_networks/segmentation/\")\n",
    "from dataset import Pipeline, DatasetIndex, Dataset, B, C, F, V\n",
    "\n",
    "from linknet import LinkNetModel                                  # TFModel subclass with LinkNet\n",
    "from nmnist import NoisedMnist                                          # Batch subclass with loading and noise actions\n",
    "from plot_functions import plot_noised_image, plot_examples_highlighted # plot functions to demonstrate result \n",
    "\n",
    "%matplotlib inline"
   ]
  },
  {
   "cell_type": "code",
   "execution_count": 2,
   "metadata": {
    "collapsed": true
   },
   "outputs": [],
   "source": [
    "BATCH_SIZE = 256   # batch size for NN training\n",
    "MAX_ITER = 100     # number of iterations for NN training\n",
    "SIZE = 50000\n",
    "IMAGE_SIZE = 64"
   ]
  },
  {
   "cell_type": "code",
   "execution_count": 3,
   "metadata": {},
   "outputs": [
    {
     "name": "stderr",
     "output_type": "stream",
     "text": [
      "100%|█████████████████████████████████| 50000/50000 [00:00<00:00, 55040.98it/s]\n"
     ]
    }
   ],
   "source": [
    "images = []\n",
    "masks = []\n",
    "for i in tqdm(range(SIZE)):\n",
    "    data = np.sin(np.random.uniform(0, 2*np.pi) + np.arange(0, IMAGE_SIZE) / IMAGE_SIZE * 2*np.pi )\n",
    "    mask = data > 0.25\n",
    "    images.append(data)\n",
    "    masks.append(mask)\n",
    "images = np.array(images)\n",
    "masks = np.array(masks)\n",
    "masks = np.stack([1-masks, masks], axis=2)"
   ]
  },
  {
   "cell_type": "code",
   "execution_count": 4,
   "metadata": {
    "collapsed": true
   },
   "outputs": [],
   "source": [
    "ind = DatasetIndex(np.arange(SIZE))          # index for images\n",
    "dset = Dataset(ind, batch_class=NoisedMnist)   # Dataset with transform actions in NoisedMnist class\n",
    "dset.cv_split([0.9, 0.1])                      # divide it into train and test"
   ]
  },
  {
   "cell_type": "code",
   "execution_count": 5,
   "metadata": {
    "collapsed": true
   },
   "outputs": [],
   "source": [
    "load_template = Pipeline().load(src=(images, masks), components=('images', 'masks'))"
   ]
  },
  {
   "cell_type": "code",
   "execution_count": 6,
   "metadata": {
    "collapsed": true
   },
   "outputs": [],
   "source": [
    "placeholders_config = {\n",
    "                       'images': {'shape': (IMAGE_SIZE, 1),\n",
    "                                  'type': 'float32',\n",
    "                                  'data_format': 'channels_last'},\n",
    "                \n",
    "                       'masks': {'shape': (IMAGE_SIZE, 2),\n",
    "                                 'type': 'int32',\n",
    "                                 'data_format': 'channels_last',\n",
    "                                 'name': 'targets'}\n",
    "                       }"
   ]
  },
  {
   "cell_type": "code",
   "execution_count": 7,
   "metadata": {
    "collapsed": true
   },
   "outputs": [],
   "source": [
    "model_config = {'inputs': placeholders_config,\n",
    "                'n_classes': 2,\n",
    "                'batch_norm': False,\n",
    "                'loss': 'softmax_cross_entropy',\n",
    "                'optimizer': 'Adam'}"
   ]
  },
  {
   "cell_type": "code",
   "execution_count": 8,
   "metadata": {
    "collapsed": true
   },
   "outputs": [],
   "source": [
    "train_feed_dict = {'images': B('images'),\n",
    "                   'masks': B('masks')}        \n",
    "\n",
    "test_feed_dict = {'images': B('images'),\n",
    "                  'masks': B('masks')}"
   ]
  },
  {
   "cell_type": "code",
   "execution_count": 9,
   "metadata": {
    "scrolled": true
   },
   "outputs": [
    {
     "name": "stdout",
     "output_type": "stream",
     "text": [
      "Tensor(\"predictions:0\", shape=(?, 64, 2), dtype=float32)\n"
     ]
    }
   ],
   "source": [
    "ppl_train = ((load_template << dset.train)\n",
    "            .init_variable('train_loss_history', init_on_each_run=list)\n",
    "            .init_model('static',                                          # model mode\n",
    "                        LinkNetModel,                                      # TFModel subclass with LinkNet\n",
    "                        'linknet',                                         # model name\n",
    "                        config=model_config)\n",
    "            .train_model('linknet',                                        # model name\n",
    "                         fetches='loss',                                   # tensors to get value \n",
    "                         feed_dict=train_feed_dict,\n",
    "                         save_to=[V('train_loss_history')], mode='a'))                  # name of pipeline variable to save loss value\n",
    "\n",
    "ppl_test = ((load_template << dset.test)\n",
    "            .import_model('linknet', ppl_train)\n",
    "            .init_variable('test_loss_history', init_on_each_run=list)\n",
    "            .predict_model('linknet', \n",
    "                           fetches='loss',\n",
    "                           feed_dict=test_feed_dict,\n",
    "                           save_to=[V('test_loss_history')], mode='a'))"
   ]
  },
  {
   "cell_type": "code",
   "execution_count": 10,
   "metadata": {},
   "outputs": [
    {
     "name": "stdout",
     "output_type": "stream",
     "text": [
      "Iter   1: train 1.385 test 1.379\n",
      "Iter   2: train 1.380 test 1.371\n",
      "Iter   3: train 1.372 test 1.359\n",
      "Iter   4: train 1.358 test 1.338\n",
      "Iter   5: train 1.337 test 1.306\n",
      "Iter   6: train 1.304 test 1.261\n",
      "Iter   7: train 1.253 test 1.197\n",
      "Iter   8: train 1.190 test 1.126\n",
      "Iter   9: train 1.115 test 1.057\n",
      "Iter  10: train 1.040 test 0.996\n",
      "Iter  11: train 0.975 test 0.909\n",
      "Iter  12: train 0.917 test 0.869\n",
      "Iter  13: train 0.866 test 0.836\n",
      "Iter  14: train 0.837 test 0.805\n",
      "Iter  15: train 0.803 test 0.784\n",
      "Iter  16: train 0.780 test 0.767\n",
      "Iter  17: train 0.763 test 0.750\n",
      "Iter  18: train 0.745 test 0.731\n",
      "Iter  19: train 0.737 test 0.719\n",
      "Iter  20: train 0.719 test 0.710\n",
      "Iter  21: train 0.706 test 0.696\n",
      "Iter  22: train 0.696 test 0.693\n",
      "Iter  23: train 0.681 test 0.674\n",
      "Iter  24: train 0.674 test 0.669\n",
      "Iter  25: train 0.669 test 0.665\n",
      "Iter  26: train 0.662 test 0.653\n",
      "Iter  27: train 0.658 test 0.655\n",
      "Iter  28: train 0.653 test 0.641\n",
      "Iter  29: train 0.648 test 0.641\n",
      "Iter  30: train 0.644 test 0.635\n",
      "Iter  31: train 0.639 test 0.630\n",
      "Iter  32: train 0.630 test 0.623\n",
      "Iter  33: train 0.628 test 0.625\n",
      "Iter  34: train 0.620 test 0.615\n",
      "Iter  35: train 0.612 test 0.605\n",
      "Iter  36: train 0.610 test 0.601\n",
      "Iter  37: train 0.604 test 0.602\n",
      "Iter  38: train 0.597 test 0.590\n",
      "Iter  39: train 0.591 test 0.592\n",
      "Iter  40: train 0.586 test 0.577\n",
      "Iter  41: train 0.573 test 0.571\n",
      "Iter  42: train 0.573 test 0.567\n",
      "Iter  43: train 0.562 test 0.554\n",
      "Iter  44: train 0.552 test 0.545\n",
      "Iter  45: train 0.545 test 0.527\n",
      "Iter  46: train 0.529 test 0.498\n",
      "Iter  47: train 0.500 test 0.490\n",
      "Iter  48: train 0.488 test 0.455\n",
      "Iter  49: train 0.452 test 0.372\n",
      "Iter  50: train 0.374 test 0.311\n",
      "Iter  51: train 0.312 test 0.343\n",
      "Iter  52: train 0.322 test 0.532\n",
      "Iter  53: train 0.596 test 0.285\n",
      "Iter  54: train 0.315 test 0.422\n",
      "Iter  55: train 0.398 test 0.143\n",
      "Iter  56: train 0.167 test 0.264\n",
      "Iter  57: train 0.264 test 0.256\n",
      "Iter  58: train 0.262 test 0.132\n",
      "Iter  59: train 0.131 test 0.121\n",
      "Iter  60: train 0.126 test 0.166\n",
      "Iter  61: train 0.178 test 0.147\n",
      "Iter  62: train 0.154 test 0.101\n",
      "Iter  63: train 0.105 test 0.108\n",
      "Iter  64: train 0.109 test 0.113\n",
      "Iter  65: train 0.103 test 0.106\n",
      "Iter  66: train 0.098 test 0.089\n",
      "Iter  67: train 0.086 test 0.097\n",
      "Iter  68: train 0.090 test 0.087\n",
      "Iter  69: train 0.090 test 0.075\n",
      "Iter  70: train 0.075 test 0.061\n",
      "Iter  71: train 0.067 test 0.059\n",
      "Iter  72: train 0.063 test 0.070\n",
      "Iter  73: train 0.072 test 0.053\n",
      "Iter  74: train 0.056 test 0.063\n",
      "Iter  75: train 0.055 test 0.049\n",
      "Iter  76: train 0.050 test 0.051\n",
      "Iter  77: train 0.057 test 0.048\n",
      "Iter  78: train 0.045 test 0.046\n",
      "Iter  79: train 0.047 test 0.051\n",
      "Iter  80: train 0.051 test 0.039\n",
      "Iter  81: train 0.043 test 0.038\n",
      "Iter  82: train 0.040 test 0.037\n",
      "Iter  83: train 0.038 test 0.044\n",
      "Iter  84: train 0.042 test 0.035\n",
      "Iter  85: train 0.032 test 0.035\n",
      "Iter  86: train 0.034 test 0.038\n",
      "Iter  87: train 0.036 test 0.028\n",
      "Iter  88: train 0.029 test 0.026\n",
      "Iter  89: train 0.032 test 0.033\n",
      "Iter  90: train 0.031 test 0.031\n",
      "Iter  91: train 0.032 test 0.029\n",
      "Iter  92: train 0.029 test 0.029\n",
      "Iter  93: train 0.033 test 0.034\n",
      "Iter  94: train 0.028 test 0.032\n",
      "Iter  95: train 0.039 test 0.032\n",
      "Iter  96: train 0.029 test 0.031\n",
      "Iter  97: train 0.030 test 0.030\n",
      "Iter  98: train 0.030 test 0.026\n",
      "Iter  99: train 0.024 test 0.033\n",
      "Iter 100: train 0.024 test 0.029\n",
      "Train time: 5.872 min\n"
     ]
    }
   ],
   "source": [
    "# training of the model\n",
    "\n",
    "start = time()\n",
    "\n",
    "for i in range(MAX_ITER):\n",
    "    ppl_train.next_batch(BATCH_SIZE, n_epochs=None)                              # training step\n",
    "    ppl_test.next_batch(100, n_epochs=None)                                      # compute test loss\n",
    "    \n",
    "    train_loss = ppl_train.get_variable('train_loss_history')[-1]                # get current iteration train loss\n",
    "    test_loss = ppl_test.get_variable('test_loss_history')[-1]                   # get current iteration test loss\n",
    "    \n",
    "    if (i+1) % 1 == 0:\n",
    "        print(\"Iter {:3d}: train {:05.3f} test {:05.3f}\".format(i+1, train_loss, test_loss))\n",
    "        \n",
    "stop = time()\n",
    "\n",
    "print(\"Train time: {:05.3f} min\".format((stop-start)/60))"
   ]
  },
  {
   "cell_type": "code",
   "execution_count": 11,
   "metadata": {},
   "outputs": [
    {
     "data": {
      "image/png": "[encoded data removed]",
      "text/plain": [
       "<matplotlib.figure.Figure at 0xc8793c8>"
      ]
     },
     "metadata": {},
     "output_type": "display_data"
    }
   ],
   "source": [
    "plt.plot(ppl_train.get_variable('train_loss_history'), label='Train loss')\n",
    "plt.plot(ppl_test.get_variable('test_loss_history'), label='Test loss')\n",
    "plt.legend()\n",
    "plt.show()"
   ]
  }
 ],
 "metadata": {
  "kernelspec": {
   "display_name": "Python 3",
   "language": "python",
   "name": "python3"
  },
  "language_info": {
   "codemirror_mode": {
    "name": "ipython",
    "version": 3
   },
   "file_extension": ".py",
   "mimetype": "text/x-python",
   "name": "python",
   "nbconvert_exporter": "python",
   "pygments_lexer": "ipython3",
   "version": "3.6.2"
  }
 },
 "nbformat": 4,
 "nbformat_minor": 2
}
