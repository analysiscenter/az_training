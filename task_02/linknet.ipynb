{
 "cells": [
  {
   "cell_type": "code",
   "execution_count": 1,
   "metadata": {},
   "outputs": [],
   "source": [
    "import numpy\n",
    "import sys\n",
    "import numpy as np\n",
    "import tensorflow as tf\n",
    "import pickle\n",
    "from tqdm import tqdm_notebook as tqm\n",
    "from time import time\n",
    "import math\n",
    "\n",
    "import matplotlib.pyplot as plt\n",
    "\n",
    "sys.path.append('..')\n",
    "\n",
    "from linknet import LinkNetBatch\n",
    "from dataset import Dataset, DatasetIndex\n",
    "from plot_functions import plot_example_interactive, plot_examples\n",
    "\n",
    "%matplotlib inline"
   ]
  },
  {
   "cell_type": "code",
   "execution_count": 2,
   "metadata": {},
   "outputs": [
    {
     "name": "stdout",
     "output_type": "stream",
     "text": [
      "Wed Oct 11 09:44:38 2017       \r\n",
      "+-----------------------------------------------------------------------------+\r\n",
      "| NVIDIA-SMI 375.26                 Driver Version: 375.26                    |\r\n",
      "|-------------------------------+----------------------+----------------------+\r\n",
      "| GPU  Name        Persistence-M| Bus-Id        Disp.A | Volatile Uncorr. ECC |\r\n",
      "| Fan  Temp  Perf  Pwr:Usage/Cap|         Memory-Usage | GPU-Util  Compute M. |\r\n",
      "|===============================+======================+======================|\r\n",
      "|   0  GeForce GTX 1080    Off  | 0000:02:00.0     Off |                  N/A |\r\n",
      "|  0%   41C    P8    14W / 200W |      0MiB /  8113MiB |      0%      Default |\r\n",
      "+-------------------------------+----------------------+----------------------+\r\n",
      "|   1  GeForce GTX 1080    Off  | 0000:03:00.0     Off |                  N/A |\r\n",
      "|  0%   41C    P8    15W / 200W |    317MiB /  8112MiB |      0%      Default |\r\n",
      "+-------------------------------+----------------------+----------------------+\r\n",
      "                                                                               \r\n",
      "+-----------------------------------------------------------------------------+\r\n",
      "| Processes:                                                       GPU Memory |\r\n",
      "|  GPU       PID  Type  Process name                               Usage      |\r\n",
      "|=============================================================================|\r\n",
      "+-----------------------------------------------------------------------------+\r\n"
     ]
    }
   ],
   "source": [
    "! nvidia-smi"
   ]
  },
  {
   "cell_type": "code",
   "execution_count": 3,
   "metadata": {
    "collapsed": true
   },
   "outputs": [],
   "source": [
    "IMAGE_SIZE = 64\n",
    "MNIST_SIZE = 65000\n",
    "BATCH_SIZE = 500\n",
    "N_EPOCHS = 10\n",
    "MAX_ITER = 100"
   ]
  },
  {
   "cell_type": "code",
   "execution_count": 4,
   "metadata": {
    "collapsed": true
   },
   "outputs": [],
   "source": [
    "ind = DatasetIndex(np.arange(MNIST_SIZE))\n",
    "mnistset = Dataset(ind, batch_class=LinkNetBatch)\n",
    "mnistset.cv_split([0.9, 0.1])"
   ]
  },
  {
   "cell_type": "code",
   "execution_count": 5,
   "metadata": {
    "collapsed": true
   },
   "outputs": [],
   "source": [
    "sess = tf.Session()\n",
    "sess.run(tf.global_variables_initializer())\n",
    "sess.run(tf.local_variables_initializer())"
   ]
  },
  {
   "cell_type": "code",
   "execution_count": 6,
   "metadata": {
    "collapsed": true
   },
   "outputs": [],
   "source": [
    "prediction = []\n",
    "test_log = []\n",
    "train_log = []"
   ]
  },
  {
   "cell_type": "code",
   "execution_count": 7,
   "metadata": {},
   "outputs": [],
   "source": [
    "ppl = mnistset.train.pipeline()\\\n",
    "        .load()\\\n",
    "        .noise_and_mask()\\\n",
    "        .train(sess)\\\n",
    "        .get_stat(sess, train_log, True)\n",
    "        \n",
    "ppl_test = mnistset.test.pipeline()\\\n",
    "            .load()\\\n",
    "            .noise_and_mask()\\"
   ]
  },
  {
   "cell_type": "code",
   "execution_count": null,
   "metadata": {},
   "outputs": [
    {
     "name": "stdout",
     "output_type": "stream",
     "text": [
      "Iter 1: Train loss: 0.1469142735004425, test loss: 0.14695057272911072\n",
      "Iter 2: Train loss: 0.11813417077064514, test loss: 0.11891777813434601\n",
      "Iter 3: Train loss: 0.11189179122447968, test loss: 0.11036872118711472\n",
      "Iter 4: Train loss: 0.12250470370054245, test loss: 0.12200377136468887\n",
      "Iter 5: Train loss: 0.14273791015148163, test loss: 0.14052750170230865\n",
      "Iter 6: Train loss: 0.14759287238121033, test loss: 0.14465239644050598\n",
      "Iter 7: Train loss: 0.1401948183774948, test loss: 0.13919857144355774\n",
      "Iter 8: Train loss: 0.12966954708099365, test loss: 0.12857356667518616\n",
      "Iter 9: Train loss: 0.12378361076116562, test loss: 0.12369325011968613\n",
      "Iter 10: Train loss: 0.12183193117380142, test loss: 0.12241683900356293\n",
      "Iter 11: Train loss: 0.12164999544620514, test loss: 0.12167559564113617\n",
      "Iter 12: Train loss: 0.12090954184532166, test loss: 0.12136216461658478\n",
      "Iter 13: Train loss: 0.11808637529611588, test loss: 0.11939098685979843\n",
      "Iter 14: Train loss: 0.11450246721506119, test loss: 0.11492328345775604\n",
      "Iter 15: Train loss: 0.10780702531337738, test loss: 0.10809765756130219\n",
      "Iter 16: Train loss: 0.10160369426012039, test loss: 0.10157887637615204\n",
      "Iter 17: Train loss: 0.09313449263572693, test loss: 0.09475204348564148\n",
      "Iter 18: Train loss: 0.08737707138061523, test loss: 0.08708938956260681\n",
      "Iter 19: Train loss: 0.07778597623109818, test loss: 0.08027443289756775\n",
      "Iter 20: Train loss: 0.0711861103773117, test loss: 0.07363555580377579\n",
      "Iter 21: Train loss: 0.06398353725671768, test loss: 0.06432695686817169\n",
      "Iter 22: Train loss: 0.0595770888030529, test loss: 0.05888986214995384\n",
      "Iter 23: Train loss: 0.054104361683130264, test loss: 0.05388649180531502\n",
      "Iter 24: Train loss: 0.047781262546777725, test loss: 0.04912484064698219\n",
      "Iter 25: Train loss: 0.044110704213380814, test loss: 0.04241303727030754\n",
      "Iter 26: Train loss: 0.0427139587700367, test loss: 0.04181769862771034\n",
      "Iter 27: Train loss: 0.04068570211529732, test loss: 0.0407194159924984\n",
      "Iter 28: Train loss: 0.0388207770884037, test loss: 0.039100274443626404\n",
      "Iter 29: Train loss: 0.03742052987217903, test loss: 0.03754504770040512\n",
      "Iter 30: Train loss: 0.03483769670128822, test loss: 0.035431839525699615\n",
      "Iter 31: Train loss: 0.03411584720015526, test loss: 0.03440352901816368\n",
      "Iter 32: Train loss: 0.0333867110311985, test loss: 0.03098299540579319\n",
      "Iter 33: Train loss: 0.030945459380745888, test loss: 0.030967431142926216\n",
      "Iter 34: Train loss: 0.030455704778432846, test loss: 0.02911221981048584\n",
      "Iter 35: Train loss: 0.02853546105325222, test loss: 0.02880037948489189\n",
      "Iter 36: Train loss: 0.027396852150559425, test loss: 0.027764635160565376\n",
      "Iter 37: Train loss: 0.02719847299158573, test loss: 0.02729969285428524\n",
      "Iter 38: Train loss: 0.026281921193003654, test loss: 0.02577790431678295\n",
      "Iter 39: Train loss: 0.025338852778077126, test loss: 0.023222647607326508\n",
      "Iter 40: Train loss: 0.0239655040204525, test loss: 0.023949408903717995\n",
      "Iter 41: Train loss: 0.02295108139514923, test loss: 0.022305607795715332\n",
      "Iter 42: Train loss: 0.022419923916459084, test loss: 0.02093389816582203\n",
      "Iter 43: Train loss: 0.021254565566778183, test loss: 0.022584881633520126\n",
      "Iter 44: Train loss: 0.020881861448287964, test loss: 0.021070042625069618\n",
      "Iter 45: Train loss: 0.02021772414445877, test loss: 0.01927400939166546\n",
      "Iter 46: Train loss: 0.019441401585936546, test loss: 0.02137013152241707\n",
      "Iter 47: Train loss: 0.019454771652817726, test loss: 0.020116934552788734\n",
      "Iter 48: Train loss: 0.018898459151387215, test loss: 0.01974177360534668\n",
      "Iter 49: Train loss: 0.01857578568160534, test loss: 0.018995625898241997\n",
      "Iter 50: Train loss: 0.018173523247241974, test loss: 0.01887102983891964\n",
      "Iter 51: Train loss: 0.017303921282291412, test loss: 0.017956499010324478\n",
      "Iter 52: Train loss: 0.017233071848750114, test loss: 0.01748942770063877\n",
      "Iter 53: Train loss: 0.016996169462800026, test loss: 0.016193408519029617\n",
      "Iter 54: Train loss: 0.017162805423140526, test loss: 0.01614215411245823\n",
      "Iter 55: Train loss: 0.016555584967136383, test loss: 0.016199573874473572\n",
      "Iter 56: Train loss: 0.015663623809814453, test loss: 0.014547240920364857\n",
      "Iter 57: Train loss: 0.015574480406939983, test loss: 0.015211602672934532\n",
      "Iter 58: Train loss: 0.01501471921801567, test loss: 0.015481089241802692\n",
      "Iter 59: Train loss: 0.014552710577845573, test loss: 0.014180349186062813\n",
      "Iter 60: Train loss: 0.014379537664353848, test loss: 0.013846782967448235\n",
      "Iter 61: Train loss: 0.013620393350720406, test loss: 0.01480634231120348\n",
      "Iter 62: Train loss: 0.013985761441290379, test loss: 0.01409835647791624\n",
      "Iter 63: Train loss: 0.013299363665282726, test loss: 0.013501385226845741\n",
      "Iter 64: Train loss: 0.013712354935705662, test loss: 0.012841634452342987\n",
      "Iter 65: Train loss: 0.012620564550161362, test loss: 0.013937119394540787\n",
      "Iter 66: Train loss: 0.012261933647096157, test loss: 0.01258080918341875\n",
      "Iter 67: Train loss: 0.012569495476782322, test loss: 0.011964659206569195\n",
      "Iter 68: Train loss: 0.011816374026238918, test loss: 0.013182755559682846\n",
      "Iter 69: Train loss: 0.011696327477693558, test loss: 0.011775415390729904\n",
      "Iter 70: Train loss: 0.011890779249370098, test loss: 0.011769325472414494\n",
      "Iter 71: Train loss: 0.010904133319854736, test loss: 0.013304336927831173\n",
      "Iter 72: Train loss: 0.011671184562146664, test loss: 0.011468877084553242\n",
      "Iter 73: Train loss: 0.011281865648925304, test loss: 0.009895355440676212\n",
      "Iter 74: Train loss: 0.010844779200851917, test loss: 0.010036068968474865\n",
      "Iter 75: Train loss: 0.010447886772453785, test loss: 0.010024555958807468\n",
      "Iter 76: Train loss: 0.011127579025924206, test loss: 0.010288717225193977\n",
      "Iter 77: Train loss: 0.009903740137815475, test loss: 0.010868963785469532\n",
      "Iter 78: Train loss: 0.009635773487389088, test loss: 0.009738692082464695\n",
      "Iter 79: Train loss: 0.010200507007539272, test loss: 0.01039445586502552\n",
      "Iter 80: Train loss: 0.00943642295897007, test loss: 0.009620856493711472\n",
      "Iter 81: Train loss: 0.009108994156122208, test loss: 0.009157625958323479\n",
      "Iter 82: Train loss: 0.009030204266309738, test loss: 0.009812888689339161\n",
      "Iter 83: Train loss: 0.0094664441421628, test loss: 0.009677102789282799\n",
      "Iter 84: Train loss: 0.008496434427797794, test loss: 0.008271790109574795\n",
      "Iter 85: Train loss: 0.00931053888052702, test loss: 0.00906053464859724\n",
      "Iter 86: Train loss: 0.0083267567679286, test loss: 0.009729825891554356\n",
      "Iter 87: Train loss: 0.00850434135645628, test loss: 0.008289733901619911\n",
      "Iter 88: Train loss: 0.007979902438819408, test loss: 0.007965638302266598\n"
     ]
    }
   ],
   "source": [
    "start = time()\n",
    "for i in range(MAX_ITER):\n",
    "    ppl.next_batch(BATCH_SIZE, n_epochs=None)\n",
    "    ppl_test.get_stat(sess, test_log, False).next_batch(100, n_epochs=None)\n",
    "    if (i+1) % 1 == 0:\n",
    "        print(\"Iter {}: Train loss: {}, test loss: {}\".format(i+1, train_log[-1][0], test_log[-1][0]))\n",
    "stop = time()\n",
    "print(\"Train time: {} min\".format((stop-start)/60))"
   ]
  },
  {
   "cell_type": "code",
   "execution_count": 15,
   "metadata": {},
   "outputs": [],
   "source": [
    "test_loss, test_iou = list(zip(*test_log))\n",
    "train_loss, train_iou = list(zip(*train_log))\n",
    "test_iou = list(zip(*test_iou))[0]\n",
    "train_iou = list(zip(*train_iou))[0]"
   ]
  },
  {
   "cell_type": "code",
   "execution_count": 16,
   "metadata": {},
   "outputs": [
    {
     "data": {
      "image/png": "[encoded data removed]",
      "text/plain": [
       "<matplotlib.figure.Figure at 0x7f272c6eff98>"
      ]
     },
     "metadata": {},
     "output_type": "display_data"
    }
   ],
   "source": [
    "plt1, = plt.plot(train_loss,  label='Train loss')\n",
    "plt2, = plt.plot(test_loss, label='Test loss')\n",
    "plt.legend(handles=[plt1, plt2])\n",
    "plt.show()"
   ]
  },
  {
   "cell_type": "code",
   "execution_count": 17,
   "metadata": {},
   "outputs": [
    {
     "data": {
      "text/plain": [
       "<linknet.LinkNetBatch at 0x7f272c6efb70>"
      ]
     },
     "execution_count": 17,
     "metadata": {},
     "output_type": "execute_result"
    }
   ],
   "source": [
    "prediction = []\n",
    "ppl_test.predict_proba(sess, prediction).next_batch(10, n_epochs=None)"
   ]
  },
  {
   "cell_type": "code",
   "execution_count": 18,
   "metadata": {},
   "outputs": [],
   "source": [
    "with open('predictions.pkl', 'wb') as output:\n",
    "    pickle.dump(prediction, output, pickle.HIGHEST_PROTOCOL)"
   ]
  },
  {
   "cell_type": "code",
   "execution_count": null,
   "metadata": {},
   "outputs": [],
   "source": [
    "plot_examples(prediction)"
   ]
  },
  {
   "cell_type": "code",
   "execution_count": null,
   "metadata": {
    "collapsed": true
   },
   "outputs": [],
   "source": []
  }
 ],
 "metadata": {
  "kernelspec": {
   "display_name": "Python 3",
   "language": "python",
   "name": "python3"
  },
  "language_info": {
   "codemirror_mode": {
    "name": "ipython",
    "version": 3
   },
   "file_extension": ".py",
   "mimetype": "text/x-python",
   "name": "python",
   "nbconvert_exporter": "python",
   "pygments_lexer": "ipython3",
   "version": "3.5.2"
  }
 },
 "nbformat": 4,
 "nbformat_minor": 2
}
