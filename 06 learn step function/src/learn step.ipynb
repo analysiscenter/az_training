{
 "cells": [
  {
   "cell_type": "markdown",
   "metadata": {},
   "source": [
    "Попробуем выучить \"ступеньку\" на действительной прямой."
   ]
  },
  {
   "cell_type": "code",
   "execution_count": 1,
   "metadata": {},
   "outputs": [],
   "source": [
    "import sys\n",
    "import warnings\n",
    "warnings.filterwarnings(\"ignore\")\n",
    "\n",
    "import numpy as np\n",
    "import matplotlib.pyplot as plt\n",
    "%matplotlib inline\n",
    "\n",
    "sys.path.append('../Github')\n",
    "\n",
    "from batchflow import B, V, Pipeline, Config, Batch, Dataset\n",
    "from batchflow.models.metrics import ClassificationMetrics\n",
    "from batchflow.models.torch import TorchModel\n",
    "\n",
    "from torch import Tensor"
   ]
  },
  {
   "cell_type": "code",
   "execution_count": 2,
   "metadata": {},
   "outputs": [],
   "source": [
    "class MyBatch(Batch):\n",
    "    components = 'features', 'labels'"
   ]
  },
  {
   "cell_type": "markdown",
   "metadata": {},
   "source": [
    "Генерируем равномерно распределённую на [-1,1] случайную величину. <br>\n",
    "Отрицательным значениям ставим в соответствие метку 10, остальным — 20."
   ]
  },
  {
   "cell_type": "code",
   "execution_count": 3,
   "metadata": {},
   "outputs": [],
   "source": [
    "def generate_data(size):\n",
    "    x = np.random.uniform(low=-1, high=+1, size=size).astype('float32')\n",
    "    y = np.where(x < 0, 10, 20).astype('float32')\n",
    "    return x, y"
   ]
  },
  {
   "cell_type": "markdown",
   "metadata": {},
   "source": [
    "Создаём и заполняем датасет."
   ]
  },
  {
   "cell_type": "code",
   "execution_count": 4,
   "metadata": {},
   "outputs": [
    {
     "data": {
      "image/png": "[encoded data removed]",
      "text/plain": [
       "<Figure size 432x288 with 1 Axes>"
      ]
     },
     "metadata": {
      "needs_background": "light"
     },
     "output_type": "display_data"
    }
   ],
   "source": [
    "size = 1000\n",
    "data = generate_data(size)\n",
    "dataset = Dataset(index=size, batch_class=MyBatch, preloaded=data)\n",
    "dataset.split()\n",
    "\n",
    "plt.plot(data[0], data[1], 'g.');"
   ]
  },
  {
   "cell_type": "markdown",
   "metadata": {},
   "source": [
    "Разность Relu(x+$\\varepsilon$) и Relu(x) как раз должна давать искомую \"ступеньку\". <br>\n",
    "Исходя из этого и определяем архитектуру сети."
   ]
  },
  {
   "cell_type": "code",
   "execution_count": 5,
   "metadata": {},
   "outputs": [],
   "source": [
    "config = {\n",
    "    'inputs': dict(features={'shape': (1)},\n",
    "                   labels={'shape': (1)}),\n",
    "    'loss': 'MSE',\n",
    "    'optimizer': 'Adam',\n",
    "    'initial_block/inputs': 'features',\n",
    "    'body/units': [2, 1],\n",
    "    'body/activation' : 'Relu',\n",
    "    'body/layout': 'fa f',\n",
    "}"
   ]
  },
  {
   "cell_type": "code",
   "execution_count": 6,
   "metadata": {},
   "outputs": [],
   "source": [
    "train_pipeline = (dataset.train.p\n",
    "    .init_variable('losses', init_on_each_run=list)\n",
    "    .init_model('dynamic', TorchModel, 'model', config)\n",
    "    .train_model('model', B('features'), B('labels'), fetches='loss', save_to=V('losses'), mode='a'))"
   ]
  },
  {
   "cell_type": "code",
   "execution_count": 7,
   "metadata": {},
   "outputs": [
    {
     "data": {
      "text/plain": [
       "ConvBlock(\n",
       "  (block): Sequential(\n",
       "    (0): Dense(\n",
       "      (linear): Linear(in_features=1, out_features=2, bias=True)\n",
       "    )\n",
       "    (1): Activation(\n",
       "      (activation): ReLU(inplace)\n",
       "    )\n",
       "    (2): Dense(\n",
       "      (linear): Linear(in_features=2, out_features=1, bias=True)\n",
       "    )\n",
       "  )\n",
       ")"
      ]
     },
     "execution_count": 7,
     "metadata": {},
     "output_type": "execute_result"
    }
   ],
   "source": [
    "model = train_pipeline.get_model_by_name('model').model[0]\n",
    "model"
   ]
  },
  {
   "cell_type": "markdown",
   "metadata": {},
   "source": [
    "Веса по умолчанию:"
   ]
  },
  {
   "cell_type": "code",
   "execution_count": 8,
   "metadata": {},
   "outputs": [
    {
     "data": {
      "text/plain": [
       "OrderedDict([('block.0.linear.weight', tensor([[ 0.0259],\n",
       "                      [-0.3994]])),\n",
       "             ('block.0.linear.bias', tensor([-0.4833,  0.1413])),\n",
       "             ('block.2.linear.weight', tensor([[-0.4025,  0.0804]])),\n",
       "             ('block.2.linear.bias', tensor([-0.1185]))])"
      ]
     },
     "execution_count": 8,
     "metadata": {},
     "output_type": "execute_result"
    }
   ],
   "source": [
    "model.state_dict()"
   ]
  },
  {
   "cell_type": "markdown",
   "metadata": {},
   "source": [
    "Запускаем."
   ]
  },
  {
   "cell_type": "code",
   "execution_count": 9,
   "metadata": {
    "scrolled": true
   },
   "outputs": [
    {
     "name": "stderr",
     "output_type": "stream",
     "text": [
      "100%|█████████▉| 3999/4000 [00:03<00:00, 1098.71it/s]\n"
     ]
    },
    {
     "data": {
      "image/png": "[encoded data removed]",
      "text/plain": [
       "<Figure size 432x288 with 1 Axes>"
      ]
     },
     "metadata": {
      "needs_background": "light"
     },
     "output_type": "display_data"
    }
   ],
   "source": [
    "train_pipeline.run(batch_size=1, n_epochs=5, shuffle=True, bar=True)\n",
    "plt.plot(train_pipeline.get_variable('losses'), '.');"
   ]
  },
  {
   "cell_type": "markdown",
   "metadata": {},
   "source": [
    "Лосс сомнительный. Посмотрим, что выучилось."
   ]
  },
  {
   "cell_type": "code",
   "execution_count": 10,
   "metadata": {},
   "outputs": [],
   "source": [
    "def plot_model(model, left=-1, right=1):\n",
    "    domain = Tensor([np.linspace(left, right)]).transpose(0,1)\n",
    "    image = model.forward(domain)\n",
    "    x = domain.detach().numpy()\n",
    "    y = image.detach().numpy()\n",
    "    plt.plot(x, y);"
   ]
  },
  {
   "cell_type": "code",
   "execution_count": 11,
   "metadata": {},
   "outputs": [
    {
     "data": {
      "image/png": "[encoded data removed]",
      "text/plain": [
       "<Figure size 432x288 with 1 Axes>"
      ]
     },
     "metadata": {
      "needs_background": "light"
     },
     "output_type": "display_data"
    }
   ],
   "source": [
    "plot_model(model)"
   ]
  },
  {
   "cell_type": "markdown",
   "metadata": {},
   "source": [
    "Meh. Зададим веса вручную."
   ]
  },
  {
   "cell_type": "code",
   "execution_count": 12,
   "metadata": {},
   "outputs": [
    {
     "data": {
      "image/png": "[encoded data removed]",
      "text/plain": [
       "<Figure size 432x288 with 1 Axes>"
      ]
     },
     "metadata": {
      "needs_background": "light"
     },
     "output_type": "display_data"
    }
   ],
   "source": [
    "eps = 1e-1\n",
    "new_params = [Tensor([[1.], [1.]]),\n",
    "              Tensor([-eps, eps]),\n",
    "              Tensor([-5./eps, 5./eps]),\n",
    "              Tensor([10.])]\n",
    "\n",
    "for i, param in enumerate(model.parameters()):\n",
    "    param.data.copy_(new_params[i])\n",
    "    \n",
    "plot_model(model)"
   ]
  },
  {
   "cell_type": "markdown",
   "metadata": {},
   "source": [
    "Что будет, если дать модели дообучиться? <br>\n",
    "Сможет она уменьшить $\\varepsilon$?"
   ]
  },
  {
   "cell_type": "code",
   "execution_count": 13,
   "metadata": {},
   "outputs": [
    {
     "name": "stderr",
     "output_type": "stream",
     "text": [
      "100%|█████████▉| 3999/4000 [00:03<00:00, 1097.73it/s]\n"
     ]
    },
    {
     "data": {
      "image/png": "[encoded data removed]",
      "text/plain": [
       "<Figure size 432x288 with 1 Axes>"
      ]
     },
     "metadata": {
      "needs_background": "light"
     },
     "output_type": "display_data"
    }
   ],
   "source": [
    "train_pipeline.run(batch_size=1, n_epochs=5, bar=True)\n",
    "plt.plot(train_pipeline.get_variable('losses'), '.');"
   ]
  },
  {
   "cell_type": "code",
   "execution_count": 14,
   "metadata": {},
   "outputs": [
    {
     "data": {
      "image/png": "[encoded data removed]",
      "text/plain": [
       "<Figure size 432x288 with 1 Axes>"
      ]
     },
     "metadata": {
      "needs_background": "light"
     },
     "output_type": "display_data"
    }
   ],
   "source": [
    "plot_model(model, -100, 100)"
   ]
  },
  {
   "cell_type": "markdown",
   "metadata": {},
   "source": [
    "Не только не выучилась, но и испортила хорошую ступеньку :c"
   ]
  }
 ],
 "metadata": {
  "kernelspec": {
   "display_name": "Python 3",
   "language": "python",
   "name": "python3"
  },
  "language_info": {
   "codemirror_mode": {
    "name": "ipython",
    "version": 3
   },
   "file_extension": ".py",
   "mimetype": "text/x-python",
   "name": "python",
   "nbconvert_exporter": "python",
   "pygments_lexer": "ipython3",
   "version": "3.6.3"
  }
 },
 "nbformat": 4,
 "nbformat_minor": 2
}
