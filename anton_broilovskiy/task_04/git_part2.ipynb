{
 "cells": [
  {
   "cell_type": "markdown",
   "metadata": {},
   "source": [
    "<img src=\"pictures/master_com.png\">"
   ]
  },
  {
   "cell_type": "markdown",
   "metadata": {},
   "source": [
    "### Создадим новую ветку, в которой сделаем коммит с новым файлом."
   ]
  },
  {
   "cell_type": "code",
   "execution_count": 128,
   "metadata": {},
   "outputs": [
    {
     "name": "stdout",
     "output_type": "stream",
     "text": [
      "Switched to a new branch 'newbranch'\r\n"
     ]
    }
   ],
   "source": [
    "!git checkout -b newbranch"
   ]
  },
  {
   "cell_type": "code",
   "execution_count": 129,
   "metadata": {},
   "outputs": [
    {
     "name": "stdout",
     "output_type": "stream",
     "text": [
      "[newbranch 19dbfaa] Added \"hello\" function\n",
      " 1 file changed, 2 insertions(+)\n",
      " create mode 100644 task_04/some_py.py\n"
     ]
    }
   ],
   "source": [
    "%%bash\n",
    "subl some_py.py\n",
    "git add some_py.py\n",
    "git commit -m 'Added \"hello\" function'"
   ]
  },
  {
   "cell_type": "markdown",
   "metadata": {},
   "source": [
    "<img src=\"pictures/added.png\">"
   ]
  },
  {
   "cell_type": "markdown",
   "metadata": {},
   "source": [
    "### Соеденим ветки master и newbranch.\n",
    "### Для этого перейдем в ветку master и присоеденим к ней ветку newbranch. Результатом слияния будет новый коммит. Указатель master переместится на этот коммит, а указатель newbranch останется на месте\n",
    "\n",
    "### Такое слияние называется fast-forward"
   ]
  },
  {
   "cell_type": "code",
   "execution_count": 130,
   "metadata": {},
   "outputs": [
    {
     "name": "stdout",
     "output_type": "stream",
     "text": [
      "Switched to branch 'master'\r\n",
      "Your branch is up-to-date with 'origin/master'.\r\n"
     ]
    }
   ],
   "source": [
    "!git checkout master"
   ]
  },
  {
   "cell_type": "code",
   "execution_count": 131,
   "metadata": {},
   "outputs": [
    {
     "name": "stdout",
     "output_type": "stream",
     "text": [
      "Updating 064188d..19dbfaa\r\n",
      "Fast-forward\r\n",
      " task_04/some_py.py | 2 \u001b[32m++\u001b[m\r\n",
      " 1 file changed, 2 insertions(+)\r\n",
      " create mode 100644 task_04/some_py.py\r\n"
     ]
    }
   ],
   "source": [
    "!git merge newbranch"
   ]
  },
  {
   "cell_type": "markdown",
   "metadata": {},
   "source": [
    "### Посмотрим на наше дерево"
   ]
  },
  {
   "cell_type": "code",
   "execution_count": 133,
   "metadata": {},
   "outputs": [
    {
     "name": "stdout",
     "output_type": "stream",
     "text": [
      "* \u001b[33m19dbfaa\u001b[m Added \"hello\" function\r\n",
      "* \u001b[33m064188d\u001b[m Update shippable.yml\r\n",
      "* \u001b[33m85c8f1c\u001b[m Create pylintrc\r\n",
      "* \u001b[33mf72f889\u001b[m Added shippable\r\n",
      "* \u001b[33mc8a91fd\u001b[m Initial commit\r\n"
     ]
    }
   ],
   "source": [
    "!git log master --abbrev-commit --pretty=oneline --graph "
   ]
  },
  {
   "cell_type": "markdown",
   "metadata": {},
   "source": [
    "### По графу можно заметить, что в данном случае коммит, который был сделан в ветку newbranch просто перешел в ветку master"
   ]
  },
  {
   "cell_type": "markdown",
   "metadata": {},
   "source": [
    "<img src='pictures/ff.png'>"
   ]
  },
  {
   "cell_type": "markdown",
   "metadata": {},
   "source": [
    "### У команды git merge есть несколько стратегий слияния:\n",
    "* resolve\n",
    "* recursive\n",
    "* ours\n",
    "* octopus\n",
    "* subtree\n",
    "### Чтобы смоделировать эту ситуацию, необходимо удалить ветку newbranch и вернуть ветку master в исходное состояние. "
   ]
  },
  {
   "cell_type": "code",
   "execution_count": 151,
   "metadata": {},
   "outputs": [
    {
     "name": "stdout",
     "output_type": "stream",
     "text": [
      "Deleted branch newbranch (was 6ce8bc8).\r\n"
     ]
    }
   ],
   "source": [
    "!git branch -D newbranch"
   ]
  },
  {
   "cell_type": "code",
   "execution_count": 116,
   "metadata": {
    "scrolled": true
   },
   "outputs": [
    {
     "name": "stdout",
     "output_type": "stream",
     "text": [
      "On branch master\r\n",
      "Your branch is ahead of 'origin/master' by 3 commits.\r\n",
      "  (use \"git push\" to publish your local commits)\r\n",
      "Untracked files:\r\n",
      "  (use \"git add <file>...\" to include in what will be committed)\r\n",
      "\r\n",
      "\t\u001b[31m../MNIST_data/\u001b[m\r\n",
      "\t\u001b[31m../dataset/\u001b[m\r\n",
      "\t\u001b[31mgit_part1.ipynb\u001b[m\r\n",
      "\t\u001b[31mgit_part2.ipynb\u001b[m\r\n",
      "\t\u001b[31mpictures/\u001b[m\r\n",
      "\r\n",
      "nothing added to commit but untracked files present (use \"git add\" to track)\r\n"
     ]
    }
   ],
   "source": [
    "!git status"
   ]
  },
  {
   "cell_type": "markdown",
   "metadata": {},
   "source": [
    "### А теперь откатимся до предыдущего коммита. И переместим HEAD на этот коммит."
   ]
  },
  {
   "cell_type": "code",
   "execution_count": 152,
   "metadata": {
    "collapsed": true
   },
   "outputs": [],
   "source": [
    "!git reset 064188"
   ]
  },
  {
   "cell_type": "code",
   "execution_count": 153,
   "metadata": {},
   "outputs": [
    {
     "name": "stdout",
     "output_type": "stream",
     "text": [
      "  anton_broilovskiy\u001b[m 7c7c8e4 [\u001b[34morigin/anton_broilovskiy\u001b[m] Merge branch 'anton_broilovskiy' of https://github.com/analysiscenter/az_training into anton_broilovskiy\r\n",
      "* \u001b[32mmaster           \u001b[m 064188d [\u001b[34morigin/master\u001b[m] Update shippable.yml\r\n"
     ]
    }
   ],
   "source": [
    "!git branch -vv"
   ]
  },
  {
   "cell_type": "markdown",
   "metadata": {},
   "source": [
    "### Создадим ветку newbranch заново, но не будем переходить в неё, а сделаем коммит в ветку master, а затем перейдем в ветку newbranch с сделаем коммит туда."
   ]
  },
  {
   "cell_type": "code",
   "execution_count": 165,
   "metadata": {
    "collapsed": true
   },
   "outputs": [],
   "source": [
    "!git branch newbranch"
   ]
  },
  {
   "cell_type": "code",
   "execution_count": 166,
   "metadata": {},
   "outputs": [
    {
     "name": "stdout",
     "output_type": "stream",
     "text": [
      "[master e25dd74] Create file some_master.py\n",
      " 1 file changed, 2 insertions(+)\n",
      " create mode 100644 task_04/some_master.py\n"
     ]
    }
   ],
   "source": [
    "%%bash\n",
    "subl some_master.py\n",
    "git add some_master.py\n",
    "git commit -m 'Create file some_master.py'"
   ]
  },
  {
   "cell_type": "code",
   "execution_count": 167,
   "metadata": {},
   "outputs": [
    {
     "name": "stdout",
     "output_type": "stream",
     "text": [
      "[newbranch f1e5eec] Create file some_new.py\n",
      " 1 file changed, 2 insertions(+)\n",
      " create mode 100644 task_04/some_new.py\n"
     ]
    },
    {
     "name": "stderr",
     "output_type": "stream",
     "text": [
      "Switched to branch 'newbranch'\n"
     ]
    }
   ],
   "source": [
    "%%bash\n",
    "git checkout newbranch\n",
    "subl some_new.py\n",
    "git add some_new.py\n",
    "git commit -m 'Create file some_new.py'"
   ]
  },
  {
   "cell_type": "markdown",
   "metadata": {},
   "source": [
    "### Затем снова сольем ветку newbranch в ветку master."
   ]
  },
  {
   "cell_type": "markdown",
   "metadata": {},
   "source": [
    "<img src='pictures/merge3.png'>"
   ]
  },
  {
   "cell_type": "code",
   "execution_count": 113,
   "metadata": {},
   "outputs": [
    {
     "name": "stdout",
     "output_type": "stream",
     "text": [
      "Switched to branch 'master'\r\n",
      "Your branch is ahead of 'origin/master' by 1 commit.\r\n",
      "  (use \"git push\" to publish your local commits)\r\n"
     ]
    }
   ],
   "source": [
    "!git checkout master"
   ]
  },
  {
   "cell_type": "markdown",
   "metadata": {},
   "source": [
    "### Сделаем слияния по стратегии recurcsive"
   ]
  },
  {
   "cell_type": "code",
   "execution_count": 114,
   "metadata": {},
   "outputs": [
    {
     "name": "stdout",
     "output_type": "stream",
     "text": [
      "Merge made by the 'recursive' strategy.\r\n",
      " task_04/some_new.py | 2 \u001b[32m++\u001b[m\r\n",
      " 1 file changed, 2 insertions(+)\r\n",
      " create mode 100644 task_04/some_new.py\r\n"
     ]
    }
   ],
   "source": [
    "!git merge newbranch -s recursive -m 'Merge branch \"newbranch\"'"
   ]
  },
  {
   "cell_type": "markdown",
   "metadata": {},
   "source": [
    "### Посмотрим на наше дерево"
   ]
  },
  {
   "cell_type": "code",
   "execution_count": 115,
   "metadata": {},
   "outputs": [
    {
     "name": "stdout",
     "output_type": "stream",
     "text": [
      "*   \u001b[33maff8a87\u001b[m Merge branch \"newbranch\"\r\n",
      "\u001b[31m|\u001b[m\u001b[32m\\\u001b[m  \r\n",
      "\u001b[31m|\u001b[m * \u001b[33mffa2430\u001b[m Create file some_new.py\r\n",
      "* \u001b[32m|\u001b[m \u001b[33m6e468b2\u001b[m Create file some_master.py\r\n",
      "\u001b[32m|\u001b[m\u001b[32m/\u001b[m  \r\n",
      "* \u001b[33m064188d\u001b[m Update shippable.yml\r\n",
      "* \u001b[33m85c8f1c\u001b[m Create pylintrc\r\n",
      "* \u001b[33mf72f889\u001b[m Added shippable\r\n",
      "* \u001b[33mc8a91fd\u001b[m Initial commit\r\n"
     ]
    }
   ],
   "source": [
    "!git log master --abbrev-commit --pretty=oneline --graph "
   ]
  },
  {
   "cell_type": "markdown",
   "metadata": {},
   "source": [
    "### Не всегда соедениение двух веток проходит гладко. \n",
    "\n",
    "### Если мы изменим один и тот же файл в двух разных ветках, а потом попробуем их слить, git не сможет сделать этого сам. Он предоставит возможность нам решать как именно производить слияние."
   ]
  },
  {
   "cell_type": "code",
   "execution_count": 141,
   "metadata": {},
   "outputs": [
    {
     "name": "stdout",
     "output_type": "stream",
     "text": [
      "Auto-merging task_04/some_py.py\r\n",
      "CONFLICT (add/add): Merge conflict in task_04/some_py.py\r\n",
      "Automatic merge failed; fix conflicts and then commit the result.\r\n"
     ]
    }
   ],
   "source": [
    "!git merge newbranch"
   ]
  },
  {
   "cell_type": "code",
   "execution_count": 142,
   "metadata": {},
   "outputs": [
    {
     "name": "stdout",
     "output_type": "stream",
     "text": [
      "On branch master\r\n",
      "Your branch is ahead of 'origin/master' by 1 commit.\r\n",
      "  (use \"git push\" to publish your local commits)\r\n",
      "You have unmerged paths.\r\n",
      "  (fix conflicts and run \"git commit\")\r\n",
      "\r\n",
      "Unmerged paths:\r\n",
      "  (use \"git add <file>...\" to mark resolution)\r\n",
      "\r\n",
      "\t\u001b[31mboth added:      some_py.py\u001b[m\r\n",
      "\r\n",
      "Untracked files:\r\n",
      "  (use \"git add <file>...\" to include in what will be committed)\r\n",
      "\r\n",
      "\t\u001b[31m../MNIST_data/\u001b[m\r\n",
      "\t\u001b[31m../dataset/\u001b[m\r\n",
      "\t\u001b[31mgit_part1.ipynb\u001b[m\r\n",
      "\t\u001b[31mgit_part2.ipynb\u001b[m\r\n",
      "\t\u001b[31mpictures/\u001b[m\r\n",
      "\t\u001b[31msome_master.py\u001b[m\r\n",
      "\t\u001b[31msome_new.py\u001b[m\r\n",
      "\r\n",
      "no changes added to commit (use \"git add\" and/or \"git commit -a\")\r\n"
     ]
    }
   ],
   "source": [
    "!git status"
   ]
  },
  {
   "cell_type": "markdown",
   "metadata": {},
   "source": [
    "### Решить конфликт нам поможет git mergetool"
   ]
  },
  {
   "cell_type": "code",
   "execution_count": null,
   "metadata": {
    "collapsed": true
   },
   "outputs": [],
   "source": [
    "!git mergetool"
   ]
  },
  {
   "cell_type": "markdown",
   "metadata": {},
   "source": [
    "<img src='./pictures/mergetool.png'>"
   ]
  },
  {
   "cell_type": "markdown",
   "metadata": {},
   "source": [
    "### После выхода из mergetool, если изменения были успешны, файл автоматически индексируется и подготавливается к коммиту"
   ]
  },
  {
   "cell_type": "code",
   "execution_count": 146,
   "metadata": {},
   "outputs": [
    {
     "name": "stdout",
     "output_type": "stream",
     "text": [
      "On branch master\r\n",
      "Your branch is ahead of 'origin/master' by 1 commit.\r\n",
      "  (use \"git push\" to publish your local commits)\r\n",
      "All conflicts fixed but you are still merging.\r\n",
      "  (use \"git commit\" to conclude merge)\r\n",
      "\r\n",
      "Changes to be committed:\r\n",
      "\r\n",
      "\t\u001b[32mmodified:   some_py.py\u001b[m\r\n",
      "\r\n",
      "Untracked files:\r\n",
      "  (use \"git add <file>...\" to include in what will be committed)\r\n",
      "\r\n",
      "\t\u001b[31m../MNIST_data/\u001b[m\r\n",
      "\t\u001b[31m../dataset/\u001b[m\r\n",
      "\t\u001b[31mgit_part1.ipynb\u001b[m\r\n",
      "\t\u001b[31mgit_part2.ipynb\u001b[m\r\n",
      "\t\u001b[31mpictures/\u001b[m\r\n",
      "\t\u001b[31msome_master.py\u001b[m\r\n",
      "\t\u001b[31msome_new.py\u001b[m\r\n",
      "\t\u001b[31msome_py.py.orig\u001b[m\r\n",
      "\r\n"
     ]
    }
   ],
   "source": [
    "!git status"
   ]
  },
  {
   "cell_type": "code",
   "execution_count": 147,
   "metadata": {},
   "outputs": [
    {
     "name": "stdout",
     "output_type": "stream",
     "text": [
      "[master 5047e45] Add some_py after megre\r\n"
     ]
    }
   ],
   "source": [
    "!git commit -m 'Add some_py after megre'"
   ]
  },
  {
   "cell_type": "markdown",
   "metadata": {},
   "source": [
    "### Построим наше дерево"
   ]
  },
  {
   "cell_type": "code",
   "execution_count": 148,
   "metadata": {},
   "outputs": [
    {
     "name": "stdout",
     "output_type": "stream",
     "text": [
      "*   \u001b[33m5047e45\u001b[m Add some_py after megre\r\n",
      "\u001b[31m|\u001b[m\u001b[32m\\\u001b[m  \r\n",
      "\u001b[31m|\u001b[m * \u001b[33m6ce8bc8\u001b[m add some_py with new_hello func\r\n",
      "* \u001b[32m|\u001b[m \u001b[33me150b46\u001b[m add some_py with hello function\r\n",
      "\u001b[32m|\u001b[m\u001b[32m/\u001b[m  \r\n",
      "* \u001b[33m064188d\u001b[m Update shippable.yml\r\n",
      "* \u001b[33m85c8f1c\u001b[m Create pylintrc\r\n",
      "* \u001b[33mf72f889\u001b[m Added shippable\r\n",
      "* \u001b[33mc8a91fd\u001b[m Initial commit\r\n"
     ]
    }
   ],
   "source": [
    "!git log master --abbrev-commit --pretty=oneline --graph "
   ]
  },
  {
   "cell_type": "markdown",
   "metadata": {},
   "source": [
    "### Git так же поддерживает автоматическое решение конфликтов.\n",
    "### C помощью флага -X можно указать:\n",
    "* ours/ theirs:\n",
    "    * ours - Решать конфликты в сторону ветки, в которой мы находимся.\n",
    "    * theirs - В сторону ветки с которой сливаем.\n",
    "* ignore-space-change/ ignore-all-space/ ignore-space-at-eol\n",
    "    * ignore-space-change — игнорируются различия в количестве пробелов, идущих подряд, а так же пробелы в конце строки.\n",
    "    * ignore-all-space — пробелы абсолютно игнорируются при сравнении.\n",
    "    * ignore-space-at-eol — игнорируются различия в пробелах в конце строки.\n",
    "* rename-threshold\n",
    "    * Данная опция задает порог, по достижении которого файл может считаться не новым, а переименованным файлом."
   ]
  },
  {
   "cell_type": "markdown",
   "metadata": {},
   "source": [
    "### Поговорим подробнее о git reset. Мы его уже использовали выше, теперь разберемся, что же мы сделали.\n",
    "### Git reset перемещает ветку на которую указывает HEAD (в отличии от checkout, который перемещает сам HEAD, а ветку не трогает), на указанный коммит. Есть несколько вариантов это сделать:\n",
    "### 1. Переместить только HEAD, без изменения индексации."
   ]
  },
  {
   "cell_type": "code",
   "execution_count": 176,
   "metadata": {},
   "outputs": [
    {
     "name": "stdout",
     "output_type": "stream",
     "text": [
      "\u001b[33me25dd74\u001b[m Create file some_master.py\r\n",
      "\u001b[33m064188d\u001b[m Update shippable.yml\r\n",
      "\u001b[33m85c8f1c\u001b[m Create pylintrc\r\n",
      "\u001b[33mf72f889\u001b[m Added shippable\r\n",
      "\u001b[33mc8a91fd\u001b[m Initial commit\r\n"
     ]
    }
   ],
   "source": [
    "!git log --oneline"
   ]
  },
  {
   "cell_type": "code",
   "execution_count": 180,
   "metadata": {
    "collapsed": true
   },
   "outputs": [],
   "source": [
    "!git reset --soft HEAD~"
   ]
  },
  {
   "cell_type": "code",
   "execution_count": 181,
   "metadata": {},
   "outputs": [
    {
     "name": "stdout",
     "output_type": "stream",
     "text": [
      "\u001b[33m064188d\u001b[m Update shippable.yml\r\n",
      "\u001b[33m85c8f1c\u001b[m Create pylintrc\r\n",
      "\u001b[33mf72f889\u001b[m Added shippable\r\n",
      "\u001b[33mc8a91fd\u001b[m Initial commit\r\n"
     ]
    }
   ],
   "source": [
    "!git log --oneline"
   ]
  },
  {
   "cell_type": "markdown",
   "metadata": {},
   "source": [
    "### Коммит исчез, но индексация осталась."
   ]
  },
  {
   "cell_type": "code",
   "execution_count": 182,
   "metadata": {
    "scrolled": false
   },
   "outputs": [
    {
     "name": "stdout",
     "output_type": "stream",
     "text": [
      "On branch master\r\n",
      "Your branch is up-to-date with 'origin/master'.\r\n",
      "Changes to be committed:\r\n",
      "  (use \"git reset HEAD <file>...\" to unstage)\r\n",
      "\r\n",
      "\t\u001b[32mnew file:   some_master.py\u001b[m\r\n",
      "\r\n",
      "Untracked files:\r\n",
      "  (use \"git add <file>...\" to include in what will be committed)\r\n",
      "\r\n",
      "\t\u001b[31m../MNIST_data/\u001b[m\r\n",
      "\t\u001b[31m../dataset/\u001b[m\r\n",
      "\t\u001b[31m.some_py.py.swp\u001b[m\r\n",
      "\t\u001b[31m.some_py_LOCAL_12298.py.swp\u001b[m\r\n",
      "\t\u001b[31m.some_py_REMOTE_12298.py.swp\u001b[m\r\n",
      "\t\u001b[31mgit_part1.ipynb\u001b[m\r\n",
      "\t\u001b[31mgit_part2.ipynb\u001b[m\r\n",
      "\t\u001b[31mpictures/\u001b[m\r\n",
      "\t\u001b[31msome_py.py\u001b[m\r\n",
      "\t\u001b[31msome_py.py.orig\u001b[m\r\n",
      "\t\u001b[31msome_py_BACKUP_12298.py\u001b[m\r\n",
      "\t\u001b[31msome_py_BASE_12298.py\u001b[m\r\n",
      "\t\u001b[31msome_py_LOCAL_12298.py\u001b[m\r\n",
      "\t\u001b[31msome_py_REMOTE_12298.py\u001b[m\r\n",
      "\r\n"
     ]
    }
   ],
   "source": [
    "!git status"
   ]
  },
  {
   "cell_type": "markdown",
   "metadata": {},
   "source": [
    "### 2. Переместить HEAD с изменением индексации, без изменения рабочей директории."
   ]
  },
  {
   "cell_type": "code",
   "execution_count": 189,
   "metadata": {
    "collapsed": true
   },
   "outputs": [],
   "source": [
    "!git reset --mixed HEAD~"
   ]
  },
  {
   "cell_type": "code",
   "execution_count": 190,
   "metadata": {},
   "outputs": [
    {
     "name": "stdout",
     "output_type": "stream",
     "text": [
      "\u001b[33m064188d\u001b[m Update shippable.yml\r\n",
      "\u001b[33m85c8f1c\u001b[m Create pylintrc\r\n",
      "\u001b[33mf72f889\u001b[m Added shippable\r\n",
      "\u001b[33mc8a91fd\u001b[m Initial commit\r\n"
     ]
    }
   ],
   "source": [
    "!git log --oneline"
   ]
  },
  {
   "cell_type": "code",
   "execution_count": 191,
   "metadata": {},
   "outputs": [
    {
     "name": "stdout",
     "output_type": "stream",
     "text": [
      "On branch master\r\n",
      "Your branch is up-to-date with 'origin/master'.\r\n",
      "Untracked files:\r\n",
      "  (use \"git add <file>...\" to include in what will be committed)\r\n",
      "\r\n",
      "\t\u001b[31m../MNIST_data/\u001b[m\r\n",
      "\t\u001b[31m../dataset/\u001b[m\r\n",
      "\t\u001b[31m./\u001b[m\r\n",
      "\r\n",
      "nothing added to commit but untracked files present (use \"git add\" to track)\r\n"
     ]
    }
   ],
   "source": [
    "!git status"
   ]
  },
  {
   "cell_type": "code",
   "execution_count": 193,
   "metadata": {},
   "outputs": [
    {
     "name": "stdout",
     "output_type": "stream",
     "text": [
      "git_part1.ipynb  some_py_BACKUP_12298.py  some_py.py.orig\r\n",
      "git_part2.ipynb  some_py_BASE_12298.py\t  some_py_REMOTE_12298.py\r\n",
      "pictures\t some_py_LOCAL_12298.py\r\n",
      "some_master.py\t some_py.py\r\n"
     ]
    }
   ],
   "source": [
    "!ls"
   ]
  },
  {
   "cell_type": "markdown",
   "metadata": {},
   "source": [
    "### 3. Перемещение HEAD с полным изменением рабочей директории до стостояния, в котором она была во время коммита, к которому мы переходим."
   ]
  },
  {
   "cell_type": "code",
   "execution_count": 195,
   "metadata": {
    "scrolled": true
   },
   "outputs": [
    {
     "name": "stdout",
     "output_type": "stream",
     "text": [
      "\u001b[33me25dd74\u001b[m Create file some_master.py\r\n",
      "\u001b[33m064188d\u001b[m Update shippable.yml\r\n",
      "\u001b[33m85c8f1c\u001b[m Create pylintrc\r\n",
      "\u001b[33mf72f889\u001b[m Added shippable\r\n",
      "\u001b[33mc8a91fd\u001b[m Initial commit\r\n"
     ]
    }
   ],
   "source": [
    "!git log --oneline"
   ]
  },
  {
   "cell_type": "code",
   "execution_count": 196,
   "metadata": {},
   "outputs": [
    {
     "name": "stdout",
     "output_type": "stream",
     "text": [
      "HEAD is now at 064188d Update shippable.yml\r\n"
     ]
    }
   ],
   "source": [
    "!git reset --hard HEAD~"
   ]
  },
  {
   "cell_type": "code",
   "execution_count": 197,
   "metadata": {},
   "outputs": [
    {
     "name": "stdout",
     "output_type": "stream",
     "text": [
      "On branch master\r\n",
      "Your branch is up-to-date with 'origin/master'.\r\n",
      "Untracked files:\r\n",
      "  (use \"git add <file>...\" to include in what will be committed)\r\n",
      "\r\n",
      "\t\u001b[31m../MNIST_data/\u001b[m\r\n",
      "\t\u001b[31m../dataset/\u001b[m\r\n",
      "\t\u001b[31m./\u001b[m\r\n",
      "\r\n",
      "nothing added to commit but untracked files present (use \"git add\" to track)\r\n"
     ]
    }
   ],
   "source": [
    "!git status"
   ]
  },
  {
   "cell_type": "code",
   "execution_count": 199,
   "metadata": {},
   "outputs": [
    {
     "name": "stdout",
     "output_type": "stream",
     "text": [
      "git_part1.ipynb  some_py_BACKUP_12298.py  some_py.py\r\n",
      "git_part2.ipynb  some_py_BASE_12298.py\t  some_py.py.orig\r\n",
      "pictures\t some_py_LOCAL_12298.py   some_py_REMOTE_12298.py\r\n"
     ]
    }
   ],
   "source": [
    "!ls"
   ]
  },
  {
   "cell_type": "markdown",
   "metadata": {},
   "source": [
    "### Так же команда reset позволяет переходить не только к предыдущим коммитам, но и менять отдельно версии файлов. Для этого изменим some_master и сделаем commit изменений."
   ]
  },
  {
   "cell_type": "code",
   "execution_count": 204,
   "metadata": {},
   "outputs": [
    {
     "name": "stdout",
     "output_type": "stream",
     "text": [
      "[master 36ec357] Added square func\n",
      " 1 file changed, 3 insertions(+), 1 deletion(-)\n"
     ]
    }
   ],
   "source": [
    "%%bash\n",
    "#subl some_master.py\n",
    "git add some_master.py\n",
    "git commit -m 'Added square func'"
   ]
  },
  {
   "cell_type": "code",
   "execution_count": 207,
   "metadata": {},
   "outputs": [
    {
     "name": "stdout",
     "output_type": "stream",
     "text": [
      "\u001b[33m36ec357\u001b[m Added square func\r\n",
      "\u001b[33me25dd74\u001b[m Create file some_master.py\r\n",
      "\u001b[33m064188d\u001b[m Update shippable.yml\r\n",
      "\u001b[33m85c8f1c\u001b[m Create pylintrc\r\n",
      "\u001b[33mf72f889\u001b[m Added shippable\r\n",
      "\u001b[33mc8a91fd\u001b[m Initial commit\r\n"
     ]
    }
   ],
   "source": [
    "!git log --oneline"
   ]
  },
  {
   "cell_type": "markdown",
   "metadata": {},
   "source": [
    "### Теперь вернемся к предыдущей верисии файла. Внимание! Рабочаяя директория не поменяется! Поменятся ТОЛЬКО индексация, теперь индексированный файл это файл из коммита e25dd74. "
   ]
  },
  {
   "cell_type": "code",
   "execution_count": 216,
   "metadata": {},
   "outputs": [
    {
     "name": "stdout",
     "output_type": "stream",
     "text": [
      "Unstaged changes after reset:\r\n",
      "M\ttask_04/some_master.py\r\n"
     ]
    }
   ],
   "source": [
    "!git reset e25dd74 some_master.py"
   ]
  },
  {
   "cell_type": "code",
   "execution_count": 217,
   "metadata": {},
   "outputs": [
    {
     "name": "stdout",
     "output_type": "stream",
     "text": [
      "On branch master\r\n",
      "Your branch is ahead of 'origin/master' by 2 commits.\r\n",
      "  (use \"git push\" to publish your local commits)\r\n",
      "Changes to be committed:\r\n",
      "  (use \"git reset HEAD <file>...\" to unstage)\r\n",
      "\r\n",
      "\t\u001b[32mmodified:   some_master.py\u001b[m\r\n",
      "\r\n",
      "Changes not staged for commit:\r\n",
      "  (use \"git add <file>...\" to update what will be committed)\r\n",
      "  (use \"git checkout -- <file>...\" to discard changes in working directory)\r\n",
      "\r\n",
      "\t\u001b[31mmodified:   some_master.py\u001b[m\r\n",
      "\r\n",
      "Untracked files:\r\n",
      "  (use \"git add <file>...\" to include in what will be committed)\r\n",
      "\r\n",
      "\t\u001b[31m../MNIST_data/\u001b[m\r\n",
      "\t\u001b[31m../dataset/\u001b[m\r\n",
      "\t\u001b[31m.some_py.py.swp\u001b[m\r\n",
      "\t\u001b[31m.some_py_LOCAL_12298.py.swp\u001b[m\r\n",
      "\t\u001b[31m.some_py_REMOTE_12298.py.swp\u001b[m\r\n",
      "\t\u001b[31mgit_part1.ipynb\u001b[m\r\n",
      "\t\u001b[31mgit_part2.ipynb\u001b[m\r\n",
      "\t\u001b[31mpictures/\u001b[m\r\n",
      "\t\u001b[31msome_py.py\u001b[m\r\n",
      "\t\u001b[31msome_py.py.orig\u001b[m\r\n",
      "\t\u001b[31msome_py_BACKUP_12298.py\u001b[m\r\n",
      "\t\u001b[31msome_py_BASE_12298.py\u001b[m\r\n",
      "\t\u001b[31msome_py_LOCAL_12298.py\u001b[m\r\n",
      "\t\u001b[31msome_py_REMOTE_12298.py\u001b[m\r\n",
      "\r\n"
     ]
    }
   ],
   "source": [
    "!git status"
   ]
  },
  {
   "cell_type": "code",
   "execution_count": 218,
   "metadata": {},
   "outputs": [
    {
     "name": "stdout",
     "output_type": "stream",
     "text": [
      "def master():\r\n",
      "\tprint('master')\r\n",
      "def square(a):\r\n",
      "\treturn a**2"
     ]
    }
   ],
   "source": [
    "!cat some_master.py"
   ]
  },
  {
   "cell_type": "markdown",
   "metadata": {},
   "source": [
    "#### оффтоп. Полезная табличка про отличие reset от checkout"
   ]
  },
  {
   "cell_type": "markdown",
   "metadata": {},
   "source": [
    "<img src='pictures/table.png'>"
   ]
  },
  {
   "cell_type": "markdown",
   "metadata": {},
   "source": [
    "### Есть и другой путь слияния веток. Git rebase берет изменения из нашей ветки и применят их \"поверх\" ветки с которой мы сливаемся.\n",
    "### Его главное отличие в том, что мы никак не пересекам ветки, а просто наследуем изменения из нужной нам ветки и можем продолжать разработку на текущей ветке дальше, никак не именяя ветки, откуда мы взяли изменения."
   ]
  },
  {
   "cell_type": "code",
   "execution_count": 228,
   "metadata": {},
   "outputs": [
    {
     "name": "stdout",
     "output_type": "stream",
     "text": [
      "Switched to branch 'newbranch'\r\n"
     ]
    }
   ],
   "source": [
    "!git checkout newbranch"
   ]
  },
  {
   "cell_type": "code",
   "execution_count": 229,
   "metadata": {},
   "outputs": [
    {
     "name": "stdout",
     "output_type": "stream",
     "text": [
      "First, rewinding head to replay your work on top of it...\n",
      "Applying: Create file some_new.py\n"
     ]
    }
   ],
   "source": [
    "!git rebase master"
   ]
  },
  {
   "cell_type": "code",
   "execution_count": 230,
   "metadata": {},
   "outputs": [
    {
     "name": "stdout",
     "output_type": "stream",
     "text": [
      "\u001b[33m36ec357\u001b[m Added square func\r\n",
      "\u001b[33me25dd74\u001b[m Create file some_master.py\r\n",
      "\u001b[33m064188d\u001b[m Update shippable.yml\r\n",
      "\u001b[33m85c8f1c\u001b[m Create pylintrc\r\n",
      "\u001b[33mf72f889\u001b[m Added shippable\r\n",
      "\u001b[33mc8a91fd\u001b[m Initial commit\r\n"
     ]
    }
   ],
   "source": [
    "!git log --oneline master"
   ]
  },
  {
   "cell_type": "markdown",
   "metadata": {},
   "source": [
    "### После выполнения слияния ветки не соединились и указатель master остался на своем месте, изменился только указатель newbranch."
   ]
  },
  {
   "cell_type": "code",
   "execution_count": 231,
   "metadata": {},
   "outputs": [
    {
     "name": "stdout",
     "output_type": "stream",
     "text": [
      "\u001b[33mc31bd02\u001b[m Create file some_new.py\r\n",
      "\u001b[33m36ec357\u001b[m Added square func\r\n",
      "\u001b[33me25dd74\u001b[m Create file some_master.py\r\n",
      "\u001b[33m064188d\u001b[m Update shippable.yml\r\n",
      "\u001b[33m85c8f1c\u001b[m Create pylintrc\r\n",
      "\u001b[33mf72f889\u001b[m Added shippable\r\n",
      "\u001b[33mc8a91fd\u001b[m Initial commit\r\n"
     ]
    }
   ],
   "source": [
    "!git log --oneline newbranch"
   ]
  },
  {
   "cell_type": "markdown",
   "metadata": {},
   "source": [
    "### После этого можно сделать fastforward слияние из master."
   ]
  },
  {
   "cell_type": "markdown",
   "metadata": {},
   "source": [
    "### Можно сделать то же самое, без переключеня на другую ветку."
   ]
  },
  {
   "cell_type": "code",
   "execution_count": 250,
   "metadata": {},
   "outputs": [
    {
     "name": "stdout",
     "output_type": "stream",
     "text": [
      "First, rewinding head to replay your work on top of it...\r\n",
      "Applying: Create file some_new.py\r\n"
     ]
    }
   ],
   "source": [
    "!git rebase master newbranch"
   ]
  },
  {
   "cell_type": "code",
   "execution_count": 254,
   "metadata": {},
   "outputs": [
    {
     "name": "stdout",
     "output_type": "stream",
     "text": [
      "\u001b[33m4962aae\u001b[m Create file some_new.py\r\n",
      "\u001b[33m36ec357\u001b[m Added square func\r\n",
      "\u001b[33me25dd74\u001b[m Create file some_master.py\r\n",
      "\u001b[33m064188d\u001b[m Update shippable.yml\r\n",
      "\u001b[33m85c8f1c\u001b[m Create pylintrc\r\n",
      "\u001b[33mf72f889\u001b[m Added shippable\r\n",
      "\u001b[33mc8a91fd\u001b[m Initial commit\r\n"
     ]
    }
   ],
   "source": [
    "!git log --oneline newbranch"
   ]
  },
  {
   "cell_type": "markdown",
   "metadata": {},
   "source": [
    "<img src='./pictures/rebase.png'>"
   ]
  }
 ],
 "metadata": {
  "kernelspec": {
   "display_name": "Python 3",
   "language": "python",
   "name": "python3"
  },
  "language_info": {
   "codemirror_mode": {
    "name": "ipython",
    "version": 3
   },
   "file_extension": ".py",
   "mimetype": "text/x-python",
   "name": "python",
   "nbconvert_exporter": "python",
   "pygments_lexer": "ipython3",
   "version": "3.5.2"
  }
 },
 "nbformat": 4,
 "nbformat_minor": 2
}
