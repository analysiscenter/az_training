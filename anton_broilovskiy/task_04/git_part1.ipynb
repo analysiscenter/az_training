{
 "cells": [
  {
   "cell_type": "markdown",
   "metadata": {},
   "source": [
    "<img src=\"./pictures/master_com.png\">"
   ]
  },
  {
   "cell_type": "code",
   "execution_count": 12,
   "metadata": {
    "scrolled": false
   },
   "outputs": [
    {
     "name": "stdout",
     "output_type": "stream",
     "text": [
      "\u001b[33mcommit 064188dc886a08320d5f50b655cb57e8808b364e\u001b[m\r\n",
      "Author: Roman Kh <roman-kh@users.noreply.github.com>\r\n",
      "Date:   Wed Jul 19 19:25:11 2017 +0300\r\n",
      "\r\n",
      "    Update shippable.yml\r\n",
      "\r\n",
      "\u001b[33mcommit 85c8f1c805ae8c2814745f5617a5aee698dd1238\u001b[m\r\n",
      "Author: Roman Kh <roman-kh@users.noreply.github.com>\r\n",
      "Date:   Tue Jul 18 08:12:36 2017 +0300\r\n",
      "\r\n",
      "    Create pylintrc\r\n",
      "\r\n",
      "\u001b[33mcommit f72f889ed04ee3bfba5fc30205d483d597363af3\u001b[m\r\n",
      "Author: Roman Kh <roman-kh@users.noreply.github.com>\r\n",
      "Date:   Tue Jul 18 08:10:50 2017 +0300\r\n",
      "\r\n",
      "    Added shippable\r\n",
      "\r\n",
      "\u001b[33mcommit c8a91fdcdf112afab18e81814edf5a38a7eb7a8b\u001b[m\r\n",
      "Author: Roman Kh <roman-kh@users.noreply.github.com>\r\n",
      "Date:   Tue Jul 18 07:57:23 2017 +0300\r\n",
      "\r\n",
      "    Initial commit\r\n"
     ]
    }
   ],
   "source": [
    "!git log master"
   ]
  },
  {
   "cell_type": "code",
   "execution_count": 105,
   "metadata": {},
   "outputs": [
    {
     "name": "stdout",
     "output_type": "stream",
     "text": [
      "  anton_broilovskiy\u001b[m\r\n",
      "* \u001b[32mmaster\u001b[m\r\n"
     ]
    }
   ],
   "source": [
    "!git branch "
   ]
  },
  {
   "cell_type": "markdown",
   "metadata": {},
   "source": [
    "### Создадим новую ветку"
   ]
  },
  {
   "cell_type": "code",
   "execution_count": 106,
   "metadata": {
    "collapsed": true
   },
   "outputs": [],
   "source": [
    "!git branch newbranch"
   ]
  },
  {
   "cell_type": "code",
   "execution_count": 107,
   "metadata": {
    "scrolled": true
   },
   "outputs": [
    {
     "name": "stdout",
     "output_type": "stream",
     "text": [
      "Switched to branch 'newbranch'\r\n"
     ]
    }
   ],
   "source": [
    "!git checkout newbranch"
   ]
  },
  {
   "cell_type": "markdown",
   "metadata": {},
   "source": [
    "<img src=\"./pictures/new_branch.png\">"
   ]
  },
  {
   "cell_type": "markdown",
   "metadata": {},
   "source": [
    "### Выведем все локальные ветки"
   ]
  },
  {
   "cell_type": "code",
   "execution_count": 108,
   "metadata": {
    "scrolled": false
   },
   "outputs": [
    {
     "name": "stdout",
     "output_type": "stream",
     "text": [
      "  anton_broilovskiy\u001b[m\r\n",
      "  master\u001b[m\r\n",
      "* \u001b[32mnewbranch\u001b[m\r\n"
     ]
    }
   ],
   "source": [
    "!git branch "
   ]
  },
  {
   "cell_type": "markdown",
   "metadata": {},
   "source": [
    "### Выведем все глобальные ветки"
   ]
  },
  {
   "cell_type": "code",
   "execution_count": 109,
   "metadata": {},
   "outputs": [
    {
     "name": "stdout",
     "output_type": "stream",
     "text": [
      "  \u001b[31morigin/HEAD\u001b[m -> origin/master\r\n",
      "  \u001b[31morigin/anton_broilovskiy\u001b[m\r\n",
      "  \u001b[31morigin/darima_mylzenova\u001b[m\r\n",
      "  \u001b[31morigin/master\u001b[m\r\n"
     ]
    }
   ],
   "source": [
    "!git branch -r"
   ]
  },
  {
   "cell_type": "markdown",
   "metadata": {},
   "source": [
    "### Выведем и те, и другие"
   ]
  },
  {
   "cell_type": "code",
   "execution_count": 110,
   "metadata": {
    "scrolled": false
   },
   "outputs": [
    {
     "name": "stdout",
     "output_type": "stream",
     "text": [
      "  anton_broilovskiy\u001b[m\r\n",
      "  master\u001b[m\r\n",
      "* \u001b[32mnewbranch\u001b[m\r\n",
      "  \u001b[31mremotes/origin/HEAD\u001b[m -> origin/master\r\n",
      "  \u001b[31mremotes/origin/anton_broilovskiy\u001b[m\r\n",
      "  \u001b[31mremotes/origin/darima_mylzenova\u001b[m\r\n",
      "  \u001b[31mremotes/origin/master\u001b[m\r\n"
     ]
    }
   ],
   "source": [
    "!git branch -a"
   ]
  },
  {
   "cell_type": "markdown",
   "metadata": {},
   "source": [
    "### Так же можно вывести не только названия веток, но и информацию о последнем коммите в эту ветку"
   ]
  },
  {
   "cell_type": "code",
   "execution_count": 111,
   "metadata": {
    "scrolled": false
   },
   "outputs": [
    {
     "name": "stdout",
     "output_type": "stream",
     "text": [
      "  anton_broilovskiy\u001b[m 34df6f6 [\u001b[34morigin/anton_broilovskiy\u001b[m] Change early stopping in task_3\r\n",
      "  master           \u001b[m 064188d [\u001b[34morigin/master\u001b[m] Update shippable.yml\r\n",
      "* \u001b[32mnewbranch        \u001b[m 064188d Update shippable.yml\r\n"
     ]
    }
   ],
   "source": [
    "!git branch -vv"
   ]
  },
  {
   "cell_type": "markdown",
   "metadata": {},
   "source": [
    "### А таким образом, можно проветить в каких ветках содержится данный коммит"
   ]
  },
  {
   "cell_type": "code",
   "execution_count": 112,
   "metadata": {
    "scrolled": true
   },
   "outputs": [
    {
     "name": "stdout",
     "output_type": "stream",
     "text": [
      "  anton_broilovskiy\u001b[m\r\n",
      "  master\u001b[m\r\n",
      "* \u001b[32mnewbranch\u001b[m\r\n"
     ]
    }
   ],
   "source": [
    "!git branch --contains 06418"
   ]
  },
  {
   "cell_type": "markdown",
   "metadata": {},
   "source": [
    "### Удаление ветки"
   ]
  },
  {
   "cell_type": "code",
   "execution_count": null,
   "metadata": {
    "collapsed": true
   },
   "outputs": [],
   "source": [
    "!git branch -d newbranch (-D) # delete local branch\n",
    "!git branch -rd <namebranch>  # delete remote branch\n"
   ]
  },
  {
   "cell_type": "markdown",
   "metadata": {},
   "source": [
    "### Создание ветки, которая будет следить за изменениями в глобальной ветке"
   ]
  },
  {
   "cell_type": "code",
   "execution_count": 113,
   "metadata": {},
   "outputs": [
    {
     "name": "stdout",
     "output_type": "stream",
     "text": [
      "Branch trackbr set up to track remote branch anton_broilovskiy from origin.\r\n"
     ]
    }
   ],
   "source": [
    "!git branch -t trackbr origin/anton_broilovskiy"
   ]
  },
  {
   "cell_type": "code",
   "execution_count": 114,
   "metadata": {},
   "outputs": [
    {
     "name": "stdout",
     "output_type": "stream",
     "text": [
      "  anton_broilovskiy\u001b[m 34df6f6 [\u001b[34morigin/anton_broilovskiy\u001b[m] Change early stopping in task_3\r\n",
      "  master           \u001b[m 064188d [\u001b[34morigin/master\u001b[m] Update shippable.yml\r\n",
      "* \u001b[32mnewbranch        \u001b[m 064188d Update shippable.yml\r\n",
      "  trackbr          \u001b[m 34df6f6 [\u001b[34morigin/anton_broilovskiy\u001b[m] Change early stopping in task_3\r\n"
     ]
    }
   ],
   "source": [
    "!git branch -vv"
   ]
  },
  {
   "cell_type": "markdown",
   "metadata": {},
   "source": [
    "# git checkout\n",
    "### Предназначен для переключения между ветками."
   ]
  },
  {
   "cell_type": "code",
   "execution_count": 183,
   "metadata": {},
   "outputs": [
    {
     "name": "stdout",
     "output_type": "stream",
     "text": [
      "Switched to branch 'newbranch'\r\n"
     ]
    }
   ],
   "source": [
    "!git checkout newbranch"
   ]
  },
  {
   "cell_type": "markdown",
   "metadata": {},
   "source": [
    "### Git checkout может создавать новые ветки и сразу же на них переключаться."
   ]
  },
  {
   "cell_type": "code",
   "execution_count": null,
   "metadata": {
    "collapsed": true
   },
   "outputs": [],
   "source": [
    "#same\n",
    "!git checkout -b newbranch\n",
    "!git checkout -B newbranch # if newbranch is create, than reset"
   ]
  },
  {
   "cell_type": "code",
   "execution_count": 118,
   "metadata": {
    "scrolled": true
   },
   "outputs": [
    {
     "name": "stdout",
     "output_type": "stream",
     "text": [
      "[newbranch 00a486d] Create file with square function\n",
      " 1 file changed, 2 insertions(+)\n",
      " create mode 100644 task_04/some_file.py\n"
     ]
    }
   ],
   "source": [
    "%%bash\n",
    "subl some_file.py\n",
    "git add some_file.py\n",
    "git commit -m 'Create file with square function'"
   ]
  },
  {
   "cell_type": "markdown",
   "metadata": {},
   "source": [
    "<img src='new_file'>"
   ]
  },
  {
   "cell_type": "markdown",
   "metadata": {},
   "source": [
    "### Возможности checkout не ограничиваются переключением между ветками. Так же checkout способна востанавливать удаленные файлы."
   ]
  },
  {
   "cell_type": "code",
   "execution_count": 119,
   "metadata": {
    "collapsed": true
   },
   "outputs": [],
   "source": [
    "!rm some_file.py"
   ]
  },
  {
   "cell_type": "code",
   "execution_count": 120,
   "metadata": {},
   "outputs": [
    {
     "name": "stdout",
     "output_type": "stream",
     "text": [
      "git.ipynb  master_com.png  new_branch.png  new_file  README.txt\r\n"
     ]
    }
   ],
   "source": [
    "!ls"
   ]
  },
  {
   "cell_type": "code",
   "execution_count": 123,
   "metadata": {
    "collapsed": true
   },
   "outputs": [],
   "source": [
    "!git checkout some_file.py"
   ]
  },
  {
   "cell_type": "code",
   "execution_count": 124,
   "metadata": {},
   "outputs": [
    {
     "name": "stdout",
     "output_type": "stream",
     "text": [
      "git.ipynb  master_com.png  new_branch.png  new_file  README.txt  some_file.py\r\n"
     ]
    }
   ],
   "source": [
    "!ls"
   ]
  },
  {
   "cell_type": "markdown",
   "metadata": {},
   "source": [
    "### Можно восстанавливать все файлы с расширенем .py"
   ]
  },
  {
   "cell_type": "code",
   "execution_count": 125,
   "metadata": {
    "collapsed": true
   },
   "outputs": [],
   "source": [
    "!git checkout -- '*.py'"
   ]
  },
  {
   "cell_type": "markdown",
   "metadata": {},
   "source": [
    "### Так же как и branch -t, checkout может создавать \"следящие\" ветки."
   ]
  },
  {
   "cell_type": "code",
   "execution_count": 128,
   "metadata": {},
   "outputs": [
    {
     "name": "stdout",
     "output_type": "stream",
     "text": [
      "fatal: A branch named 'master' already exists.\r\n"
     ]
    }
   ],
   "source": [
    "!git checkout --track origin/master"
   ]
  },
  {
   "cell_type": "code",
   "execution_count": 155,
   "metadata": {},
   "outputs": [
    {
     "name": "stdout",
     "output_type": "stream",
     "text": [
      "On branch newbranch\r\n",
      "Changes not staged for commit:\r\n",
      "  (use \"git add <file>...\" to update what will be committed)\r\n",
      "  (use \"git checkout -- <file>...\" to discard changes in working directory)\r\n",
      "\r\n",
      "\t\u001b[31mmodified:   some_file.py\u001b[m\r\n",
      "\r\n",
      "Untracked files:\r\n",
      "  (use \"git add <file>...\" to include in what will be committed)\r\n",
      "\r\n",
      "\t\u001b[31m../MNIST_data/\u001b[m\r\n",
      "\t\u001b[31m../dataset/\u001b[m\r\n",
      "\t\u001b[31m../task_02/\u001b[m\r\n",
      "\t\u001b[31mREADME.txt\u001b[m\r\n",
      "\t\u001b[31mgit.ipynb\u001b[m\r\n",
      "\t\u001b[31mmaster_com.png\u001b[m\r\n",
      "\t\u001b[31mnew_branch.png\u001b[m\r\n",
      "\t\u001b[31mnew_file\u001b[m\r\n",
      "\r\n",
      "no changes added to commit (use \"git add\" and/or \"git commit -a\")\r\n"
     ]
    }
   ],
   "source": [
    "!git status"
   ]
  },
  {
   "cell_type": "markdown",
   "metadata": {},
   "source": [
    "### checkout позволяет перейти к версиям файлов в предыдущих коммитах"
   ]
  },
  {
   "cell_type": "code",
   "execution_count": 156,
   "metadata": {
    "collapsed": true
   },
   "outputs": [],
   "source": [
    "!git checkout -- some_file.py"
   ]
  },
  {
   "cell_type": "code",
   "execution_count": 157,
   "metadata": {},
   "outputs": [
    {
     "name": "stdout",
     "output_type": "stream",
     "text": [
      "On branch newbranch\r\n",
      "Untracked files:\r\n",
      "  (use \"git add <file>...\" to include in what will be committed)\r\n",
      "\r\n",
      "\t\u001b[31m../MNIST_data/\u001b[m\r\n",
      "\t\u001b[31m../dataset/\u001b[m\r\n",
      "\t\u001b[31m../task_02/\u001b[m\r\n",
      "\t\u001b[31mREADME.txt\u001b[m\r\n",
      "\t\u001b[31mgit.ipynb\u001b[m\r\n",
      "\t\u001b[31mmaster_com.png\u001b[m\r\n",
      "\t\u001b[31mnew_branch.png\u001b[m\r\n",
      "\t\u001b[31mnew_file\u001b[m\r\n",
      "\r\n",
      "nothing added to commit but untracked files present (use \"git add\" to track)\r\n"
     ]
    }
   ],
   "source": [
    "!git status"
   ]
  },
  {
   "cell_type": "markdown",
   "metadata": {},
   "source": [
    "### Так же эта команда может перемещать указатель HEAD на указанный коммит."
   ]
  },
  {
   "cell_type": "code",
   "execution_count": 17,
   "metadata": {},
   "outputs": [
    {
     "name": "stdout",
     "output_type": "stream",
     "text": [
      "\u001b[33m4962aae\u001b[m Create file some_new.py\r\n",
      "\u001b[33m36ec357\u001b[m Added square func\r\n",
      "\u001b[33me25dd74\u001b[m Create file some_master.py\r\n",
      "\u001b[33m064188d\u001b[m Update shippable.yml\r\n",
      "\u001b[33m85c8f1c\u001b[m Create pylintrc\r\n",
      "\u001b[33mf72f889\u001b[m Added shippable\r\n",
      "\u001b[33mc8a91fd\u001b[m Initial commit\r\n"
     ]
    }
   ],
   "source": [
    "!git log --oneline"
   ]
  },
  {
   "cell_type": "code",
   "execution_count": 18,
   "metadata": {},
   "outputs": [
    {
     "name": "stdout",
     "output_type": "stream",
     "text": [
      "Note: checking out '36ec357'.\r\n",
      "\r\n",
      "You are in 'detached HEAD' state. You can look around, make experimental\r\n",
      "changes and commit them, and you can discard any commits you make in this\r\n",
      "state without impacting any branches by performing another checkout.\r\n",
      "\r\n",
      "If you want to create a new branch to retain commits you create, you may\r\n",
      "do so (now or later) by using -b with the checkout command again. Example:\r\n",
      "\r\n",
      "  git checkout -b <new-branch-name>\r\n",
      "\r\n",
      "HEAD is now at 36ec357... Added square func\r\n"
     ]
    }
   ],
   "source": [
    "!git checkout 36ec357"
   ]
  },
  {
   "cell_type": "code",
   "execution_count": 20,
   "metadata": {},
   "outputs": [
    {
     "name": "stdout",
     "output_type": "stream",
     "text": [
      "\u001b[33m36ec357\u001b[m Added square func\r\n",
      "\u001b[33me25dd74\u001b[m Create file some_master.py\r\n",
      "\u001b[33m064188d\u001b[m Update shippable.yml\r\n",
      "\u001b[33m85c8f1c\u001b[m Create pylintrc\r\n",
      "\u001b[33mf72f889\u001b[m Added shippable\r\n",
      "\u001b[33mc8a91fd\u001b[m Initial commit\r\n"
     ]
    }
   ],
   "source": [
    "!git log --oneline"
   ]
  },
  {
   "cell_type": "markdown",
   "metadata": {},
   "source": [
    "### Но в то же самое время, указатель на ветку newbranch останется на месте"
   ]
  },
  {
   "cell_type": "code",
   "execution_count": 21,
   "metadata": {},
   "outputs": [
    {
     "name": "stdout",
     "output_type": "stream",
     "text": [
      "\u001b[33m4962aae\u001b[m Create file some_new.py\r\n",
      "\u001b[33m36ec357\u001b[m Added square func\r\n",
      "\u001b[33me25dd74\u001b[m Create file some_master.py\r\n",
      "\u001b[33m064188d\u001b[m Update shippable.yml\r\n",
      "\u001b[33m85c8f1c\u001b[m Create pylintrc\r\n",
      "\u001b[33mf72f889\u001b[m Added shippable\r\n",
      "\u001b[33mc8a91fd\u001b[m Initial commit\r\n"
     ]
    }
   ],
   "source": [
    "!git log --oneline newbranch"
   ]
  },
  {
   "cell_type": "markdown",
   "metadata": {},
   "source": [
    "# git stash\n",
    "\n",
    "### Позволяет \"прятать\" изменения в текущей ветке."
   ]
  },
  {
   "cell_type": "code",
   "execution_count": 204,
   "metadata": {
    "scrolled": false
   },
   "outputs": [
    {
     "name": "stdout",
     "output_type": "stream",
     "text": [
      "On branch newbranch\r\n",
      "Changes to be committed:\r\n",
      "  (use \"git reset HEAD <file>...\" to unstage)\r\n",
      "\r\n",
      "\t\u001b[32mmodified:   some_file.py\u001b[m\r\n",
      "\r\n",
      "Changes not staged for commit:\r\n",
      "  (use \"git add <file>...\" to update what will be committed)\r\n",
      "  (use \"git checkout -- <file>...\" to discard changes in working directory)\r\n",
      "\r\n",
      "\t\u001b[31mmodified:   some_file.py\u001b[m\r\n",
      "\r\n",
      "Untracked files:\r\n",
      "  (use \"git add <file>...\" to include in what will be committed)\r\n",
      "\r\n",
      "\t\u001b[31m../MNIST_data/\u001b[m\r\n",
      "\t\u001b[31m../dataset/\u001b[m\r\n",
      "\t\u001b[31m../task_02/\u001b[m\r\n",
      "\t\u001b[31mREADME.txt\u001b[m\r\n",
      "\t\u001b[31mgit.ipynb\u001b[m\r\n",
      "\t\u001b[31mmaster_com.png\u001b[m\r\n",
      "\t\u001b[31mnew_branch.png\u001b[m\r\n",
      "\t\u001b[31mnew_file\u001b[m\r\n",
      "\r\n"
     ]
    }
   ],
   "source": [
    "!git status"
   ]
  },
  {
   "cell_type": "markdown",
   "metadata": {},
   "source": [
    "### Допустим, мы внесли очень важные изменения в файл some_file.py, которые пока не хотим выкладывать, а нам необходимо срочно переключиться на ветку master для исправления ошибки."
   ]
  },
  {
   "cell_type": "code",
   "execution_count": 198,
   "metadata": {
    "scrolled": true
   },
   "outputs": [
    {
     "name": "stdout",
     "output_type": "stream",
     "text": [
      "error: Your local changes to the following files would be overwritten by checkout:\r\n",
      "\ttask_04/some_file.py\r\n",
      "Please, commit your changes or stash them before you can switch branches.\r\n",
      "Aborting\r\n"
     ]
    }
   ],
   "source": [
    "!git checkout master"
   ]
  },
  {
   "cell_type": "markdown",
   "metadata": {},
   "source": [
    "### На прямую git не даст нам этого сделать. Для того, чтобы сохранить наши изменения и перейти на другую ветку, можно их запомнить."
   ]
  },
  {
   "cell_type": "code",
   "execution_count": 205,
   "metadata": {
    "scrolled": true
   },
   "outputs": [
    {
     "name": "stdout",
     "output_type": "stream",
     "text": [
      "Saved working directory and index state WIP on newbranch: 00a486d Create file with square function\r\n",
      "HEAD is now at 00a486d Create file with square function\r\n"
     ]
    }
   ],
   "source": [
    "!git stash"
   ]
  },
  {
   "cell_type": "code",
   "execution_count": 236,
   "metadata": {
    "scrolled": false
   },
   "outputs": [
    {
     "name": "stdout",
     "output_type": "stream",
     "text": [
      "On branch anton_broilovskiy\r\n",
      "Your branch is up-to-date with 'origin/anton_broilovskiy'.\r\n",
      "Unmerged paths:\r\n",
      "  (use \"git reset HEAD <file>...\" to unstage)\r\n",
      "  (use \"git add/rm <file>...\" as appropriate to mark resolution)\r\n",
      "\r\n",
      "\t\u001b[31mdeleted by us:   some_file.py\u001b[m\r\n",
      "\r\n",
      "Changes not staged for commit:\r\n",
      "  (use \"git add <file>...\" to update what will be committed)\r\n",
      "  (use \"git checkout -- <file>...\" to discard changes in working directory)\r\n",
      "  (commit or discard the untracked or modified content in submodules)\r\n",
      "\r\n",
      "\t\u001b[31mmodified:   ../dataset\u001b[m (modified content)\r\n",
      "\r\n",
      "Untracked files:\r\n",
      "  (use \"git add <file>...\" to include in what will be committed)\r\n",
      "\r\n",
      "\t\u001b[31m../MNIST_data/\u001b[m\r\n",
      "\t\u001b[31m../task_02/Part1.ipynb\u001b[m\r\n",
      "\t\u001b[31m../task_02/Part2.ipynb\u001b[m\r\n",
      "\t\u001b[31mREADME.txt\u001b[m\r\n",
      "\t\u001b[31madd_come.png\u001b[m\r\n",
      "\t\u001b[31mformat.png\u001b[m\r\n",
      "\t\u001b[31mgit.ipynb\u001b[m\r\n",
      "\t\u001b[31mgraph.png\u001b[m\r\n",
      "\t\u001b[31mmaster_com.png\u001b[m\r\n",
      "\t\u001b[31mnew_branch.png\u001b[m\r\n",
      "\t\u001b[31mnew_file\u001b[m\r\n",
      "\r\n",
      "no changes added to commit (use \"git add\" and/or \"git commit -a\")\r\n"
     ]
    }
   ],
   "source": [
    "!git status"
   ]
  },
  {
   "cell_type": "code",
   "execution_count": 206,
   "metadata": {},
   "outputs": [
    {
     "name": "stdout",
     "output_type": "stream",
     "text": [
      "stash@{0}: WIP on newbranch: 00a486d Create file with square function\r\n",
      "stash@{1}: WIP on newbranch: 00a486d Create file with square function\r\n",
      "stash@{2}: WIP on newbranch: 00a486d Create file with square function\r\n",
      "stash@{3}: WIP on newbranch: 00a486d Create file with square function\r\n",
      "stash@{4}: WIP on newbranch: 00a486d Create file with square function\r\n",
      "stash@{5}: WIP on anton_broilovskiy: 34df6f6 Change early stopping in task_3\r\n"
     ]
    }
   ],
   "source": [
    "!git stash list"
   ]
  },
  {
   "cell_type": "markdown",
   "metadata": {},
   "source": [
    "### После, мы можем восстановить наши изменения. Не трудно заметить, что вы восстановили рабочую директорию, а индексированный вариант - нет."
   ]
  },
  {
   "cell_type": "code",
   "execution_count": 202,
   "metadata": {
    "scrolled": false
   },
   "outputs": [
    {
     "name": "stdout",
     "output_type": "stream",
     "text": [
      "On branch newbranch\r\n",
      "Changes not staged for commit:\r\n",
      "  (use \"git add <file>...\" to update what will be committed)\r\n",
      "  (use \"git checkout -- <file>...\" to discard changes in working directory)\r\n",
      "\r\n",
      "\t\u001b[31mmodified:   some_file.py\u001b[m\r\n",
      "\r\n",
      "Untracked files:\r\n",
      "  (use \"git add <file>...\" to include in what will be committed)\r\n",
      "\r\n",
      "\t\u001b[31m../MNIST_data/\u001b[m\r\n",
      "\t\u001b[31m../dataset/\u001b[m\r\n",
      "\t\u001b[31m../task_02/\u001b[m\r\n",
      "\t\u001b[31mREADME.txt\u001b[m\r\n",
      "\t\u001b[31mgit.ipynb\u001b[m\r\n",
      "\t\u001b[31mmaster_com.png\u001b[m\r\n",
      "\t\u001b[31mnew_branch.png\u001b[m\r\n",
      "\t\u001b[31mnew_file\u001b[m\r\n",
      "\r\n",
      "no changes added to commit (use \"git add\" and/or \"git commit -a\")\r\n"
     ]
    }
   ],
   "source": [
    "!git stash apply"
   ]
  },
  {
   "cell_type": "markdown",
   "metadata": {},
   "source": [
    "### Чтобы этого не происходило есть флаг --index, который говорит о том, что надо вытащить исдексированный вариант."
   ]
  },
  {
   "cell_type": "code",
   "execution_count": 207,
   "metadata": {},
   "outputs": [
    {
     "name": "stdout",
     "output_type": "stream",
     "text": [
      "On branch newbranch\r\n",
      "Changes to be committed:\r\n",
      "  (use \"git reset HEAD <file>...\" to unstage)\r\n",
      "\r\n",
      "\t\u001b[32mmodified:   some_file.py\u001b[m\r\n",
      "\r\n",
      "Changes not staged for commit:\r\n",
      "  (use \"git add <file>...\" to update what will be committed)\r\n",
      "  (use \"git checkout -- <file>...\" to discard changes in working directory)\r\n",
      "\r\n",
      "\t\u001b[31mmodified:   some_file.py\u001b[m\r\n",
      "\r\n",
      "Untracked files:\r\n",
      "  (use \"git add <file>...\" to include in what will be committed)\r\n",
      "\r\n",
      "\t\u001b[31m../MNIST_data/\u001b[m\r\n",
      "\t\u001b[31m../dataset/\u001b[m\r\n",
      "\t\u001b[31m../task_02/\u001b[m\r\n",
      "\t\u001b[31mREADME.txt\u001b[m\r\n",
      "\t\u001b[31mgit.ipynb\u001b[m\r\n",
      "\t\u001b[31mmaster_com.png\u001b[m\r\n",
      "\t\u001b[31mnew_branch.png\u001b[m\r\n",
      "\t\u001b[31mnew_file\u001b[m\r\n",
      "\r\n"
     ]
    }
   ],
   "source": [
    "!git stash apply --index"
   ]
  },
  {
   "cell_type": "markdown",
   "metadata": {},
   "source": [
    "### Можно восстанавливать не только последний stash"
   ]
  },
  {
   "cell_type": "code",
   "execution_count": 235,
   "metadata": {},
   "outputs": [
    {
     "name": "stdout",
     "output_type": "stream",
     "text": [
      "task_04/some_file.py: needs merge\r\n",
      "unable to refresh index\r\n"
     ]
    }
   ],
   "source": [
    "!git stash apply stash@\\{0\\}"
   ]
  },
  {
   "cell_type": "markdown",
   "metadata": {},
   "source": [
    "### Так же существует возможность восстанавливать в изменения в другую ветку"
   ]
  },
  {
   "cell_type": "code",
   "execution_count": 187,
   "metadata": {
    "scrolled": false
   },
   "outputs": [
    {
     "name": "stdout",
     "output_type": "stream",
     "text": [
      "Switched to a new branch 'changes'\n",
      "On branch changes\n",
      "Changes not staged for commit:\n",
      "  (use \"git add <file>...\" to update what will be committed)\n",
      "  (use \"git checkout -- <file>...\" to discard changes in working directory)\n",
      "\n",
      "\t\u001b[31mmodified:   some_file.py\u001b[m\n",
      "\n",
      "Untracked files:\n",
      "  (use \"git add <file>...\" to include in what will be committed)\n",
      "\n",
      "\t\u001b[31m../MNIST_data/\u001b[m\n",
      "\t\u001b[31m../dataset/\u001b[m\n",
      "\t\u001b[31m../task_02/\u001b[m\n",
      "\t\u001b[31mREADME.txt\u001b[m\n",
      "\t\u001b[31mgit.ipynb\u001b[m\n",
      "\t\u001b[31mmaster_com.png\u001b[m\n",
      "\t\u001b[31mnew_branch.png\u001b[m\n",
      "\t\u001b[31mnew_file\u001b[m\n",
      "\n",
      "no changes added to commit (use \"git add\" and/or \"git commit -a\")\n",
      "Dropped refs/stash@{0} (2711fd818b90de69d94fb5791fa426f8ce479b06)\n"
     ]
    }
   ],
   "source": [
    "!git stash branch changes"
   ]
  },
  {
   "cell_type": "markdown",
   "metadata": {},
   "source": [
    "# git log\n",
    "\n",
    "### Предназначен для составления log файлов и вывода истории коммитов в ветку."
   ]
  },
  {
   "cell_type": "markdown",
   "metadata": {},
   "source": [
    "<img src='add_come.png'>"
   ]
  },
  {
   "cell_type": "code",
   "execution_count": 208,
   "metadata": {
    "scrolled": false
   },
   "outputs": [
    {
     "name": "stdout",
     "output_type": "stream",
     "text": [
      "\u001b[33mcommit b605802e11372a0e975018a23b8527c044a5c362\u001b[m\r\n",
      "Author: Anton <ziliboba753@gmail.com>\r\n",
      "Date:   Fri Aug 4 11:49:38 2017 +0300\r\n",
      "\r\n",
      "    new changes in some_file.py\r\n",
      "\r\n",
      "\u001b[33mcommit 00a486d356efa84eacd54128be05afff651ab853\u001b[m\r\n",
      "Author: Anton <ziliboba753@gmail.com>\r\n",
      "Date:   Fri Aug 4 11:17:56 2017 +0300\r\n",
      "\r\n",
      "    Create file with square function\r\n",
      "\r\n",
      "\u001b[33mcommit 064188dc886a08320d5f50b655cb57e8808b364e\u001b[m\r\n",
      "Author: Roman Kh <roman-kh@users.noreply.github.com>\r\n",
      "Date:   Wed Jul 19 19:25:11 2017 +0300\r\n",
      "\r\n",
      "    Update shippable.yml\r\n",
      "\r\n",
      "\u001b[33mcommit 85c8f1c805ae8c2814745f5617a5aee698dd1238\u001b[m\r\n",
      "Author: Roman Kh <roman-kh@users.noreply.github.com>\r\n",
      "Date:   Tue Jul 18 08:12:36 2017 +0300\r\n",
      "\r\n",
      "    Create pylintrc\r\n",
      "\r\n",
      "\u001b[33mcommit f72f889ed04ee3bfba5fc30205d483d597363af3\u001b[m\r\n",
      "Author: Roman Kh <roman-kh@users.noreply.github.com>\r\n",
      "Date:   Tue Jul 18 08:10:50 2017 +0300\r\n",
      "\r\n",
      "    Added shippable\r\n",
      "\r\n",
      "\u001b[33mcommit c8a91fdcdf112afab18e81814edf5a38a7eb7a8b\u001b[m\r\n",
      "Author: Roman Kh <roman-kh@users.noreply.github.com>\r\n",
      "Date:   Tue Jul 18 07:57:23 2017 +0300\r\n",
      "\r\n",
      "    Initial commit\r\n"
     ]
    }
   ],
   "source": [
    "!git log"
   ]
  },
  {
   "cell_type": "markdown",
   "metadata": {},
   "source": [
    "### Более сокращенный вариант"
   ]
  },
  {
   "cell_type": "code",
   "execution_count": 210,
   "metadata": {
    "scrolled": false
   },
   "outputs": [
    {
     "name": "stdout",
     "output_type": "stream",
     "text": [
      "\u001b[33mb605802\u001b[m new changes in some_file.py\r\n",
      "\u001b[33m00a486d\u001b[m Create file with square function\r\n",
      "\u001b[33m064188d\u001b[m Update shippable.yml\r\n",
      "\u001b[33m85c8f1c\u001b[m Create pylintrc\r\n",
      "\u001b[33mf72f889\u001b[m Added shippable\r\n",
      "\u001b[33mc8a91fd\u001b[m Initial commit\r\n"
     ]
    }
   ],
   "source": [
    "!git log --abbrev-commit --pretty=oneline"
   ]
  },
  {
   "cell_type": "code",
   "execution_count": 215,
   "metadata": {
    "scrolled": true
   },
   "outputs": [
    {
     "name": "stdout",
     "output_type": "stream",
     "text": [
      "b605802 - Anton, 5 minutes ago : new changes in some_file.py\r\n",
      "00a486d - Anton, 37 minutes ago : Create file with square function\r\n",
      "064188d - Roman Kh, 2 weeks ago : Update shippable.yml\r\n",
      "85c8f1c - Roman Kh, 2 weeks ago : Create pylintrc\r\n",
      "f72f889 - Roman Kh, 2 weeks ago : Added shippable\r\n",
      "c8a91fd - Roman Kh, 2 weeks ago : Initial commit"
     ]
    }
   ],
   "source": [
    "!git log --pretty=format:\"%h - %an, %ar : %s\""
   ]
  },
  {
   "cell_type": "markdown",
   "metadata": {},
   "source": [
    "<img src='format.png'>"
   ]
  },
  {
   "cell_type": "code",
   "execution_count": 26,
   "metadata": {},
   "outputs": [
    {
     "name": "stdout",
     "output_type": "stream",
     "text": [
      "No local changes to save\r\n"
     ]
    }
   ],
   "source": [
    "!git "
   ]
  },
  {
   "cell_type": "code",
   "execution_count": 28,
   "metadata": {},
   "outputs": [
    {
     "name": "stdout",
     "output_type": "stream",
     "text": [
      "M\tdataset\r\n",
      "Previous HEAD position was 36ec357... Added square func\r\n",
      "Switched to branch 'anton_broilovskiy'\r\n",
      "Your branch is up-to-date with 'origin/anton_broilovskiy'.\r\n"
     ]
    }
   ],
   "source": [
    "!git checkout anton_broilovskiy"
   ]
  },
  {
   "cell_type": "markdown",
   "metadata": {},
   "source": [
    "### Можно выводить граф коммитов"
   ]
  },
  {
   "cell_type": "code",
   "execution_count": 29,
   "metadata": {
    "scrolled": false
   },
   "outputs": [
    {
     "name": "stdout",
     "output_type": "stream",
     "text": [
      "* d40a272 Update all task_04 and added git_part2\r\n",
      "*   7c7c8e4 Merge branch 'anton_broilovskiy' of https://github.com/analysiscenter/az_training into anton_broilovskiy\r\n",
      "\u001b[32m|\u001b[m\u001b[33m\\\u001b[m  \r\n",
      "\u001b[32m|\u001b[m * cc2d363 Update task_3.ipynb\r\n",
      "* \u001b[33m|\u001b[m 8b57861 Add task_04 with git task\r\n",
      "\u001b[33m|\u001b[m\u001b[33m/\u001b[m  \r\n",
      "* 34df6f6 Change early stopping in task_3\r\n",
      "* d15b520 Added visual notebook\r\n",
      "* 13cecad Added class file to task №3 and update dataset\r\n",
      "* 37f8e97 Remove data\r\n",
      "* 73bfaec Added task_02\r\n",
      "* d49cc1a add args __init__\r\n",
      "* ba65b5e add args __init__\r\n",
      "* 649f173 Change calc percentage\r\n",
      "*   6a306ff Merge branch 'anton_broilovskiy' of https://github.com/analysiscenter/az_training into anton_broilovskiy\r\n",
      "\u001b[34m|\u001b[m\u001b[35m\\\u001b[m  \r\n",
      "\u001b[34m|\u001b[m * b33c7dc Delete train_and_show.ipynb\r\n",
      "\u001b[34m|\u001b[m * c5e4864 Delete results.py\r\n",
      "* \u001b[35m|\u001b[m 3058a66 End of task\r\n",
      "\u001b[35m|\u001b[m\u001b[35m/\u001b[m  \r\n",
      "* 795dc19 del invalud arg in __init__\r\n",
      "* 626e43b add __init__\r\n",
      "* 12922e2 Changed all methods,but Poisson does not work\r\n",
      "* 3323d16 add __init__\r\n",
      "* 7ffa7a4 Generate new data to regression, del useless components, change __init__\r\n",
      "*   d445769 Merge branch 'anton_broilovskiy' of https://github.com/analysiscenter/az_training into anton_broilovskiy\r\n",
      "\u001b[36m|\u001b[m\u001b[1;31m\\\u001b[m  \r\n",
      "\u001b[36m|\u001b[m *   b130674 Merge branch 'master' into anton_broilovskiy\r\n",
      "\u001b[36m|\u001b[m \u001b[1;32m|\u001b[m\u001b[1;33m\\\u001b[m  \r\n",
      "\u001b[36m|\u001b[m \u001b[1;32m|\u001b[m * 064188d Update shippable.yml\r\n",
      "* \u001b[1;32m|\u001b[m \u001b[1;33m|\u001b[m d259637 Fix method load in myBatch class and add method generate_batch\r\n",
      "\u001b[1;32m|\u001b[m\u001b[1;32m/\u001b[m \u001b[1;33m/\u001b[m  \r\n",
      "* \u001b[1;33m|\u001b[m ed7f3b9 new mybatch\r\n",
      "* \u001b[1;33m|\u001b[m be40f17 Fix poisson regression\r\n",
      "* \u001b[1;33m|\u001b[m 5ab3fb1 Fix graph in train_and_show\r\n",
      "* \u001b[1;33m|\u001b[m 6b3a68f Fix errors\r\n",
      "* \u001b[1;33m|\u001b[m 11609c5 Fix errors\r\n",
      "* \u001b[1;33m|\u001b[m 0689fea Added __init__ file\r\n",
      "* \u001b[1;33m|\u001b[m 619ae2a new shippable\r\n",
      "* \u001b[1;33m|\u001b[m 86b04e7 new shippable\r\n",
      "* \u001b[1;33m|\u001b[m b11a036 new shippable\r\n",
      "* \u001b[1;33m|\u001b[m fd22dc8 new shippable\r\n",
      "* \u001b[1;33m|\u001b[m 8185702 new shippable\r\n",
      "* \u001b[1;33m|\u001b[m d7a2e5d Fix errors\r\n",
      "* \u001b[1;33m|\u001b[m 5922596 Fix errors\r\n",
      "* \u001b[1;33m|\u001b[m d1d32a0 Fix errors\r\n",
      "* \u001b[1;33m|\u001b[m 21e9498 Fix errors\r\n",
      "* \u001b[1;33m|\u001b[m bd5ce6e Error сorrection\r\n",
      "* \u001b[1;33m|\u001b[m 75bc5c6 Create .py file with comments and show jupyter notebook\r\n",
      "* \u001b[1;33m|\u001b[m 934b480 Delete linear.ipynb\r\n",
      "* \u001b[1;33m|\u001b[m bb7f1ef Delete regressions.ipynb\r\n",
      "* \u001b[1;33m|\u001b[m 766dc99 Update shippable.yml\r\n",
      "* \u001b[1;33m|\u001b[m 15be6a6 add poisson\r\n",
      "* \u001b[1;33m|\u001b[m 126ca86 add poisson\r\n",
      "* \u001b[1;33m|\u001b[m ad405d5 Add logistic regression\r\n",
      "* \u001b[1;33m|\u001b[m f7a8b01 Added linear regression\r\n",
      "* \u001b[1;33m|\u001b[m 0c1805e New dataset\r\n",
      "* \u001b[1;33m|\u001b[m 467d3fb Create branch 'anton_broilovskiy'\r\n",
      "\u001b[1;33m|\u001b[m\u001b[1;33m/\u001b[m  \r\n",
      "* 85c8f1c Create pylintrc\r\n",
      "* f72f889 Added shippable\r\n",
      "* c8a91fd Initial commit"
     ]
    }
   ],
   "source": [
    "!git log --pretty=format:\"%h %s\" --graph"
   ]
  },
  {
   "cell_type": "markdown",
   "metadata": {},
   "source": [
    "<img src='graph.png'>"
   ]
  },
  {
   "cell_type": "markdown",
   "metadata": {},
   "source": [
    "### 2 последних коммита."
   ]
  },
  {
   "cell_type": "code",
   "execution_count": null,
   "metadata": {},
   "outputs": [],
   "source": [
    "!git log -p -2"
   ]
  },
  {
   "cell_type": "markdown",
   "metadata": {},
   "source": [
    "### Статистика коммитов."
   ]
  },
  {
   "cell_type": "code",
   "execution_count": 5,
   "metadata": {
    "scrolled": false
   },
   "outputs": [
    {
     "name": "stdout",
     "output_type": "stream",
     "text": [
      "\u001b[33mcommit d5b5b3fd7c0dd094065bec441670125a0cab1cb9\u001b[m\r\n",
      "Author: anton-br <ziliboba753@gmail.com>\r\n",
      "Date:   Wed Nov 22 17:28:41 2017 +0300\r\n",
      "\r\n",
      "    Update task_03\r\n",
      "\r\n",
      " anton_broilovskiy/task_03/simple_conv_model.py |  53 \u001b[32m++++\u001b[m\r\n",
      " anton_broilovskiy/task_03/task_3.ipynb         | 362 \u001b[32m+++++++++++++++++++++++++\u001b[m\r\n",
      " task_03/task_3.ipynb                           | 346 \u001b[31m-----------------------\u001b[m\r\n",
      " 3 files changed, 415 insertions(+), 346 deletions(-)\r\n"
     ]
    }
   ],
   "source": [
    "!git log --stat -1"
   ]
  },
  {
   "cell_type": "markdown",
   "metadata": {},
   "source": [
    "### Коммиты, которые есть в одной ветке, но нет в другой."
   ]
  },
  {
   "cell_type": "code",
   "execution_count": 249,
   "metadata": {},
   "outputs": [
    {
     "name": "stdout",
     "output_type": "stream",
     "text": [
      "\u001b[33mcommit b605802e11372a0e975018a23b8527c044a5c362\u001b[m\r\n",
      "Author: Anton <ziliboba753@gmail.com>\r\n",
      "Date:   Fri Aug 4 11:49:38 2017 +0300\r\n",
      "\r\n",
      "    new changes in some_file.py\r\n",
      "\r\n",
      "\u001b[33mcommit 00a486d356efa84eacd54128be05afff651ab853\u001b[m\r\n",
      "Author: Anton <ziliboba753@gmail.com>\r\n",
      "Date:   Fri Aug 4 11:17:56 2017 +0300\r\n",
      "\r\n",
      "    Create file with square function\r\n"
     ]
    }
   ],
   "source": [
    "!git log master...newbranch"
   ]
  },
  {
   "cell_type": "markdown",
   "metadata": {},
   "source": [
    "# git show\n",
    "### Показывает изменения в коммите."
   ]
  },
  {
   "cell_type": "code",
   "execution_count": 24,
   "metadata": {
    "scrolled": true
   },
   "outputs": [
    {
     "name": "stdout",
     "output_type": "stream",
     "text": [
      "\u001b[33mcommit 738207f4056f12f4954ab62201ce487cfd01e649\u001b[m\r\n",
      "Author: Anton <ziliboba753@gmail.com>\r\n",
      "Date:   Fri Aug 4 07:56:10 2017 +0300\r\n",
      "\r\n",
      "    Create file with square function\r\n",
      "\r\n",
      "\u001b[1mdiff --git a/task_04/some_file.py b/task_04/some_file.py\u001b[m\r\n",
      "\u001b[1mnew file mode 100644\u001b[m\r\n",
      "\u001b[1mindex 0000000..b0e8837\u001b[m\r\n",
      "\u001b[1m--- /dev/null\u001b[m\r\n",
      "\u001b[1m+++ b/task_04/some_file.py\u001b[m\r\n",
      "\u001b[36m@@ -0,0 +1,2 @@\u001b[m\r\n",
      "\u001b[32m+\u001b[m\u001b[32mdef square(a):\u001b[m\r\n",
      "\u001b[32m+\u001b[m\u001b[32m    return a**2\u001b[m\r\n",
      "\\ No newline at end of file\u001b[m\r\n"
     ]
    }
   ],
   "source": [
    "!git show 738207f4056f12f4954ab62201ce487cfd01e649"
   ]
  },
  {
   "cell_type": "markdown",
   "metadata": {},
   "source": [
    "### Не обязательно всегда писать весь sha хеш полностью."
   ]
  },
  {
   "cell_type": "code",
   "execution_count": 29,
   "metadata": {},
   "outputs": [
    {
     "name": "stdout",
     "output_type": "stream",
     "text": [
      "\u001b[33mcommit 738207f4056f12f4954ab62201ce487cfd01e649\u001b[m\r\n",
      "Author: Anton <ziliboba753@gmail.com>\r\n",
      "Date:   Fri Aug 4 07:56:10 2017 +0300\r\n",
      "\r\n",
      "    Create file with square function\r\n",
      "\r\n",
      "\u001b[1mdiff --git a/task_04/some_file.py b/task_04/some_file.py\u001b[m\r\n",
      "\u001b[1mnew file mode 100644\u001b[m\r\n",
      "\u001b[1mindex 0000000..b0e8837\u001b[m\r\n",
      "\u001b[1m--- /dev/null\u001b[m\r\n",
      "\u001b[1m+++ b/task_04/some_file.py\u001b[m\r\n",
      "\u001b[36m@@ -0,0 +1,2 @@\u001b[m\r\n",
      "\u001b[32m+\u001b[m\u001b[32mdef square(a):\u001b[m\r\n",
      "\u001b[32m+\u001b[m\u001b[32m    return a**2\u001b[m\r\n",
      "\\ No newline at end of file\u001b[m\r\n"
     ]
    }
   ],
   "source": [
    "!git show 738207f"
   ]
  },
  {
   "cell_type": "markdown",
   "metadata": {},
   "source": [
    "### Последние изменения в ветке.\n"
   ]
  },
  {
   "cell_type": "code",
   "execution_count": 230,
   "metadata": {
    "scrolled": false
   },
   "outputs": [
    {
     "name": "stdout",
     "output_type": "stream",
     "text": [
      "\u001b[33mcommit 34df6f6d968a5a2003b2b6c2264281e5083b2d66\u001b[m\r\n",
      "Author: Anton <ziliboba753@gmail.com>\r\n",
      "Date:   Wed Aug 2 16:08:40 2017 +0300\r\n",
      "\r\n",
      "    Change early stopping in task_3\r\n",
      "\r\n",
      "\u001b[1mdiff --git a/task_03/task_3.ipynb b/task_03/task_3.ipynb\u001b[m\r\n",
      "\u001b[1mindex aede7d1..d239184 100644\u001b[m\r\n",
      "\u001b[1m--- a/task_03/task_3.ipynb\u001b[m\r\n",
      "\u001b[1m+++ b/task_03/task_3.ipynb\u001b[m\r\n",
      "\u001b[36m@@ -38,7 +38,6 @@\u001b[m\r\n",
      "     \"import blosc\\n\",\u001b[m\r\n",
      "     \"\\n\",\u001b[m\r\n",
      "     \"import numpy as np\\n\",\u001b[m\r\n",
      "\u001b[31m-    \"import scipy\\n\",\u001b[m\r\n",
      "     \"import tensorflow as tf\\n\",\u001b[m\r\n",
      "     \"from tqdm import tqdm_notebook as tqn\\n\",\u001b[m\r\n",
      "     \"from matplotlib import pyplot as plt\\n\",\u001b[m\r\n",
      "\u001b[36m@@ -52,7 +51,7 @@\u001b[m\r\n",
      "    \"cell_type\": \"markdown\",\u001b[m\r\n",
      "    \"metadata\": {},\u001b[m\r\n",
      "    \"source\": [\u001b[m\r\n",
      "\u001b[31m-    \"### Create dataset and split it on train/tast samples.\"\u001b[m\r\n",
      "\u001b[32m+\u001b[m\u001b[32m    \"### Create dataset and split it on train / tast / validation samples.\"\u001b[m\r\n",
      "    ]\u001b[m\r\n",
      "   },\u001b[m\r\n",
      "   {\u001b[m\r\n",
      "\u001b[36m@@ -65,7 +64,7 @@\u001b[m\r\n",
      "    \"source\": [\u001b[m\r\n",
      "     \"ix = DatasetIndex(range(65000))\\n\",\u001b[m\r\n",
      "     \"mnist = Dataset(ix, batch_class=MnistBatch)\\n\",\u001b[m\r\n",
      "\u001b[31m-    \"mnist.cv_split([0.8, 0.1])\"\u001b[m\r\n",
      "\u001b[32m+\u001b[m\u001b[32m    \"mnist.cv_split([0.8, 0.1, 0.1])\"\u001b[m\r\n",
      "    ]\u001b[m\r\n",
      "   },\u001b[m\r\n",
      "   {\u001b[m\r\n",
      "\u001b[36m@@ -107,7 +106,7 @@\u001b[m\r\n",
      "     \"                  p.\\n\",\u001b[m\r\n",
      "     \"                  load(src='./../MNIST_data', fmt='blosc').\\n\",\u001b[m\r\n",
      "     \"                  random_rotate(p=1, angle=(-30, 30), preserve_shape=True). #random rotate with angle \\n\",\u001b[m\r\n",
      "\u001b[31m-    \"                                                                              # from -90 degrees to 90 degrees\\n\",\u001b[m\r\n",
      "\u001b[32m+\u001b[m\u001b[32m    \"                                                                              # from -30 degrees to 30 degrees\\n\",\u001b[m\r\n",
      "     \"                  random_scale(p=1, factor=(.8, 1.2)). # Resizing from 100% to random in (80% - 120%)\\n\",\u001b[m\r\n",
      "     \"                  train_conv(sess, train_loss))\"\u001b[m\r\n",
      "    ]\u001b[m\r\n",
      "\u001b[36m@@ -132,7 +131,7 @@\u001b[m\r\n",
      "     \"                 p.\\n\",\u001b[m\r\n",
      "     \"                 load(src='./../MNIST_data', fmt='blosc').\\n\",\u001b[m\r\n",
      "     \"                 random_rotate(p=1, angle=(-30, 30), preserve_shape=True). # Random rotate with angle \\n\",\u001b[m\r\n",
      "\u001b[31m-    \"                                                                            # from -90 degrees to 90 degrees\\n\",\u001b[m\r\n",
      "\u001b[32m+\u001b[m\u001b[32m    \"                                                                            # from -30 degrees to 30 degrees\\n\",\u001b[m\r\n",
      "     \"                 random_scale(p=1, factor=(.8, 1.2)). # Resizing from 100% to random in (80% - 120%)\\n\",\u001b[m\r\n",
      "     \"                 update_stats(sess, stats))\"\u001b[m\r\n",
      "    ]\u001b[m\r\n",
      "\u001b[36m@@ -168,8 +167,6 @@\u001b[m\r\n",
      "     }\u001b[m\r\n",
      "    ],\u001b[m\r\n",
      "    \"source\": [\u001b[m\r\n",
      "\u001b[31m-    \"max_accuracy = 0\\n\",\u001b[m\r\n",
      "\u001b[31m-    \"max_acc_ind = 0\\n\",\u001b[m\r\n",
      "     \"MAX_ITER = 800\\n\",\u001b[m\r\n",
      "     \"window = 50\\n\",\u001b[m\r\n",
      "     \"average = [0]\\n\",\u001b[m\r\n",
      "\u001b[36m@@ -182,10 +179,10 @@\u001b[m\r\n",
      "     \"    \\n\",\u001b[m\r\n",
      "     \"    #Early stopping\\n\",\u001b[m\r\n",
      "     \"    if curr_iter % window == 0:\\n\",\u001b[m\r\n",
      "\u001b[31m-    \"        average.append(np.mean(stats[curr_iter - window]))\\n\",\u001b[m\r\n",
      "\u001b[32m+\u001b[m\u001b[32m    \"        average.append(np.mean(stats[curr_iter - window:]))\\n\",\u001b[m\r\n",
      "     \"        \\n\",\u001b[m\r\n",
      "\u001b[31m-    \"    if average[-1] > 0.99 and curr_iter - max_acc_ind > MAX_ITER // 4:\\n\",\u001b[m\r\n",
      "\u001b[31m-    \"        print('Early stop on {} iter. Max acc: {} on {} iter'.format(curr_iter, max_accuracy, max_acc_ind))\\n\",\u001b[m\r\n",
      "\u001b[32m+\u001b[m\u001b[32m    \"    if average[-1] > 0.99:\\n\",\u001b[m\r\n",
      "\u001b[32m+\u001b[m\u001b[32m    \"        print('Early stop on {} iter. Acc: {}'.format(curr_iter, stats[-1]))\\n\",\u001b[m\r\n",
      "     \"        break\"\u001b[m\r\n",
      "    ]\u001b[m\r\n",
      "   },\u001b[m\r\n",
      "\u001b[36m@@ -209,8 +206,8 @@\u001b[m\r\n",
      "     \"dict_pred = {'imgs': [], 'predict': [], 'answer': []}\\n\",\u001b[m\r\n",
      "     \"pred_pipeline = (mnist.validation.\\n\",\u001b[m\r\n",
      "     \"                p.\\n\",\u001b[m\r\n",
      "\u001b[31m-    \"                load(src=src, fmt='ndarray').\\n\",\u001b[m\r\n",
      "\u001b[31m-    \"                random_rotate(p=1, angle=(-45, 45), preserve_shape=True).\\n\",\u001b[m\r\n",
      "\u001b[32m+\u001b[m\u001b[32m    \"                load(src='./../MNIST_data', fmt='blosc'). \\n\",\u001b[m\r\n",
      "\u001b[32m+\u001b[m\u001b[32m    \"                random_rotate(p=1, angle=(-30, 30), preserve_shape=True).\\n\",\u001b[m\r\n",
      "     \"                random_scale(p=1, factor=(.8, 1.2)).\\n\",\u001b[m\r\n",
      "     \"                prediction(sess, dict_pred))\"\u001b[m\r\n",
      "    ]\u001b[m\r\n"
     ]
    }
   ],
   "source": [
    "!git show anton_broilovskiy"
   ]
  },
  {
   "cell_type": "markdown",
   "metadata": {},
   "source": [
    "### Можно смотреть изменения в определенных коммитах."
   ]
  },
  {
   "cell_type": "code",
   "execution_count": 233,
   "metadata": {},
   "outputs": [
    {
     "name": "stdout",
     "output_type": "stream",
     "text": [
      "\u001b[33mcommit 00a486d356efa84eacd54128be05afff651ab853\u001b[m\r\n",
      "Author: Anton <ziliboba753@gmail.com>\r\n",
      "Date:   Fri Aug 4 11:17:56 2017 +0300\r\n",
      "\r\n",
      "    Create file with square function\r\n",
      "\r\n",
      "\u001b[1mdiff --git a/task_04/some_file.py b/task_04/some_file.py\u001b[m\r\n",
      "\u001b[1mnew file mode 100644\u001b[m\r\n",
      "\u001b[1mindex 0000000..a2f120b\u001b[m\r\n",
      "\u001b[1m--- /dev/null\u001b[m\r\n",
      "\u001b[1m+++ b/task_04/some_file.py\u001b[m\r\n",
      "\u001b[36m@@ -0,0 +1,2 @@\u001b[m\r\n",
      "\u001b[32m+\u001b[m\u001b[32mdef square(a):\u001b[m\r\n",
      "\u001b[32m+\u001b[m\u001b[32m    return a**2\u001b[m\r\n"
     ]
    }
   ],
   "source": [
    "!git show HEAD@\\{4\\}"
   ]
  },
  {
   "cell_type": "code",
   "execution_count": 245,
   "metadata": {},
   "outputs": [
    {
     "name": "stdout",
     "output_type": "stream",
     "text": [
      "\u001b[33mcommit 00a486d356efa84eacd54128be05afff651ab853\u001b[m\r\n",
      "Author: Anton <ziliboba753@gmail.com>\r\n",
      "Date:   Fri Aug 4 11:17:56 2017 +0300\r\n",
      "\r\n",
      "    Create file with square function\r\n",
      "\r\n",
      "\u001b[1mdiff --git a/task_04/some_file.py b/task_04/some_file.py\u001b[m\r\n",
      "\u001b[1mnew file mode 100644\u001b[m\r\n",
      "\u001b[1mindex 0000000..a2f120b\u001b[m\r\n",
      "\u001b[1m--- /dev/null\u001b[m\r\n",
      "\u001b[1m+++ b/task_04/some_file.py\u001b[m\r\n",
      "\u001b[36m@@ -0,0 +1,2 @@\u001b[m\r\n",
      "\u001b[32m+\u001b[m\u001b[32mdef square(a):\u001b[m\r\n",
      "\u001b[32m+\u001b[m\u001b[32m    return a**2\u001b[m\r\n"
     ]
    }
   ],
   "source": [
    "!git show HEAD^#родитель head, вместо head может стоять хеш Коммита"
   ]
  },
  {
   "cell_type": "code",
   "execution_count": 246,
   "metadata": {},
   "outputs": [
    {
     "name": "stdout",
     "output_type": "stream",
     "text": [
      "\u001b[33mcommit 85c8f1c805ae8c2814745f5617a5aee698dd1238\u001b[m\r\n",
      "Author: Roman Kh <roman-kh@users.noreply.github.com>\r\n",
      "Date:   Tue Jul 18 08:12:36 2017 +0300\r\n",
      "\r\n",
      "    Create pylintrc\r\n",
      "\r\n",
      "\u001b[1mdiff --git a/pylintrc b/pylintrc\u001b[m\r\n",
      "\u001b[1mnew file mode 100644\u001b[m\r\n",
      "\u001b[1mindex 0000000..7ceb6a8\u001b[m\r\n",
      "\u001b[1m--- /dev/null\u001b[m\r\n",
      "\u001b[1m+++ b/pylintrc\u001b[m\r\n",
      "\u001b[36m@@ -0,0 +1,17 @@\u001b[m\r\n",
      "\u001b[32m+\u001b[m\u001b[32m[MASTER]\u001b[m\r\n",
      "\u001b[32m+\u001b[m\u001b[32mextension-pkg-whitelist=numpy\u001b[m\r\n",
      "\u001b[32m+\u001b[m\r\n",
      "\u001b[32m+\u001b[m\u001b[32m[FORMAT]\u001b[m\r\n",
      "\u001b[32m+\u001b[m\u001b[32mmax-line-length=120\u001b[m\r\n",
      "\u001b[32m+\u001b[m\u001b[32mmax-attributes=8\u001b[m\r\n",
      "\u001b[32m+\u001b[m\u001b[32mmax-args=8\u001b[m\r\n",
      "\u001b[32m+\u001b[m\u001b[32mmax-locals=20\u001b[m\r\n",
      "\u001b[32m+\u001b[m\r\n",
      "\u001b[32m+\u001b[m\u001b[32m[BASIC]\u001b[m\r\n",
      "\u001b[32m+\u001b[m\u001b[32mgood-names=_,x,y,z,i,j,k,l,m,n,p,r,u\u001b[m\r\n",
      "\u001b[32m+\u001b[m\r\n",
      "\u001b[32m+\u001b[m\u001b[32m[TYPECHECK]\u001b[m\r\n",
      "\u001b[32m+\u001b[m\u001b[32mignored-modules=numpy\u001b[m\r\n",
      "\u001b[32m+\u001b[m\r\n",
      "\u001b[32m+\u001b[m\u001b[32m[MISCELLANEOUS]\u001b[m\r\n",
      "\u001b[32m+\u001b[m\u001b[32mnotes=\u001b[m\r\n"
     ]
    }
   ],
   "source": [
    "!git show HEAD~3 #or(^^^)"
   ]
  }
 ],
 "metadata": {
  "kernelspec": {
   "display_name": "Python 3",
   "language": "python",
   "name": "python3"
  },
  "language_info": {
   "codemirror_mode": {
    "name": "ipython",
    "version": 3
   },
   "file_extension": ".py",
   "mimetype": "text/x-python",
   "name": "python",
   "nbconvert_exporter": "python",
   "pygments_lexer": "ipython3",
   "version": "3.5.2"
  }
 },
 "nbformat": 4,
 "nbformat_minor": 2
}
