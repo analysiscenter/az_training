{
 "cells": [
  {
   "cell_type": "markdown",
   "metadata": {},
   "source": [
    "### In this notebook we continue talk about dataset. Now we'll knows, how we can create a neural network and  train it on MNIST.  And check, how neural network reacts to displacement.\n",
    "How the inplenet class with neural network you'll see [here](https://github.com/analysiscenter/az_training/blob/anton_broilovskiy/task_02/simple_conv_model.py). And instead writing own batch, using MNIST batch. Implemetation you can see [here](https://github.com/analysiscenter/dataset/blob/master/dataset/opensets/mnist.py). "
   ]
  },
  {
   "cell_type": "code",
   "execution_count": 1,
   "metadata": {
    "collapsed": true
   },
   "outputs": [],
   "source": [
    "import sys\n",
    "\n",
    "import os\n",
    "import blosc\n",
    "import numpy as np\n",
    "import tensorflow as tf\n",
    "import matplotlib.pyplot as plt\n",
    "from tqdm import tqdm_notebook as tqn\n",
    "%matplotlib inline\n",
    "\n",
    "sys.path.append('..')\n",
    "import utils\n",
    "from my_batch import MnistBatch\n",
    "from simple_conv_model import ConvModel\n",
    "from dataset import DatasetIndex, Dataset, V, F, B"
   ]
  },
  {
   "cell_type": "markdown",
   "metadata": {},
   "source": [
    "On this example we load all the data in memory, and after it we load this data into the Dataset model. But this is not nesessery, you can create dataset and load data at once into batch. Read [this](https://github.com/analysiscenter/dataset/blob/master/doc/batch.md) to more understanding."
   ]
  },
  {
   "cell_type": "code",
   "execution_count": 2,
   "metadata": {
    "collapsed": true
   },
   "outputs": [],
   "source": [
    "src = '../MNIST_data/'\n",
    "with open(os.path.join(src, 'mnist_pics.blk'), 'rb') as file:\n",
    "    full_imgs = blosc.unpack_array(file.read()).reshape(-1, 28, 28)\n",
    "with open(os.path.join(src, 'mnist_labels.blk'), 'rb') as file:\n",
    "    full_labs = blosc.unpack_array(file.read())"
   ]
  },
  {
   "cell_type": "code",
   "execution_count": 3,
   "metadata": {
    "collapsed": true
   },
   "outputs": [],
   "source": [
    "src = (full_imgs, full_labs)"
   ]
  },
  {
   "cell_type": "markdown",
   "metadata": {},
   "source": [
    "First of all, we need to create [index](https://github.com/analysiscenter/dataset/blob/master/doc/index.md). In our case, the index is a list of indexes, because we know the length of the data set and can iterate on it."
   ]
  },
  {
   "cell_type": "code",
   "execution_count": 4,
   "metadata": {
    "collapsed": true
   },
   "outputs": [],
   "source": [
    "LEN_MNIST = 65000\n",
    "indy = DatasetIndex(np.arange(LEN_MNIST))"
   ]
  },
  {
   "cell_type": "code",
   "execution_count": 5,
   "metadata": {
    "collapsed": true
   },
   "outputs": [],
   "source": [
    "mnistset = Dataset(indy, batch_class=MnistBatch)\n",
    "mnistset.cv_split([0.9, 0.1])"
   ]
  },
  {
   "cell_type": "markdown",
   "metadata": {
    "collapsed": true
   },
   "source": [
    "Already familiar to us the construction to create the pipelines. Note, that in this time we have a load function, that load data in batch, but the rest of the design remained the same. This pipelines train NN on simple MNIST images, without shift."
   ]
  },
  {
   "cell_type": "code",
   "execution_count": 6,
   "metadata": {
    "collapsed": true,
    "scrolled": true
   },
   "outputs": [],
   "source": [
    "train_normal = (mnistset.train.p\n",
    "                .load(src)\n",
    "                .init_variable('shape')\n",
    "                .update_variable('shape', F(lambda batch: batch.images.shape[1:]))\n",
    "                .init_model('dynamic',\n",
    "                            ConvModel,\n",
    "                            'conv',\n",
    "                            config={'loss': 'softmax_cross_entropy',\n",
    "                                    'optimizer':'Adam',\n",
    "                                    'data_shape': V('shape')})\n",
    "                .train_model('conv',\n",
    "                             feed_dict={'input': B('images'),\n",
    "                                        'targets': B('labels'),\n",
    "                                        'dropout_rate': 0.4}))"
   ]
  },
  {
   "cell_type": "code",
   "execution_count": 7,
   "metadata": {
    "collapsed": true
   },
   "outputs": [],
   "source": [
    "test_normal = (mnistset.test.p\n",
    "                .import_model('conv', train_normal)\n",
    "                .load(src)\n",
    "                .init_variable('predict', init_on_each_run=int)\n",
    "                .predict_model('conv', \n",
    "                             fetches='accuracy',\n",
    "                             feed_dict={'input': B('images'),\n",
    "                                        'targets': B('labels'),\n",
    "                                        'dropout_rate': 0.},\n",
    "                             save_to=V('predict')))"
   ]
  },
  {
   "cell_type": "markdown",
   "metadata": {},
   "source": [
    "There are many ways to train pipeline, in this time, we using next_batch. If you want to see all methods, welcome [here](https://github.com/analysiscenter/dataset/blob/master/doc/pipeline.md)."
   ]
  },
  {
   "cell_type": "code",
   "execution_count": 8,
   "metadata": {
    "scrolled": false
   },
   "outputs": [
    {
     "name": "stderr",
     "output_type": "stream",
     "text": [
      "Widget Javascript not detected.  It may not be installed or enabled properly.\n"
     ]
    },
    {
     "data": {
      "application/vnd.jupyter.widget-view+json": {
       "model_id": "2507463f6dad4d6794058119f98a26ed"
      }
     },
     "metadata": {},
     "output_type": "display_data"
    },
    {
     "name": "stdout",
     "output_type": "stream",
     "text": [
      "\n"
     ]
    }
   ],
   "source": [
    "batch_size = 400\n",
    "for i in tqn(range(1200)):\n",
    "    train_normal.next_batch(batch_size, n_epochs=None)\n",
    "    test_normal.next_batch(batch_size, n_epochs=None)"
   ]
  },
  {
   "cell_type": "markdown",
   "metadata": {},
   "source": [
    "Get variable from pipeline and print accuracy on data without shift"
   ]
  },
  {
   "cell_type": "code",
   "execution_count": 9,
   "metadata": {},
   "outputs": [
    {
     "name": "stdout",
     "output_type": "stream",
     "text": [
      "Accuracy on normal data:  0.9925\n"
     ]
    }
   ],
   "source": [
    "acc = test_normal.get_variable('predict')\n",
    "\n",
    "print('Accuracy on normal data: ', acc)"
   ]
  },
  {
   "cell_type": "markdown",
   "metadata": {},
   "source": [
    "Now check, how change accuracy, if we test first model on shift data with parallel computing. In some case operations on data might be very difficult and take a lot of time. To reduce runtime you can use [parallelism](https://github.com/analysiscenter/dataset/blob/master/doc/parallel.md)."
   ]
  },
  {
   "cell_type": "code",
   "execution_count": 10,
   "metadata": {
    "collapsed": true
   },
   "outputs": [],
   "source": [
    "shift_pipe = (mnistset.test.p\n",
    "                .import_model('conv', train_normal)\n",
    "                .load(src)\n",
    "                .shift_flattened_pic()\n",
    "                .init_variable('predict', init_on_each_run=int)\n",
    "                .predict_model('conv', \n",
    "                             fetches='accuracy',\n",
    "                             feed_dict={'input': B('images'),\n",
    "                                        'targets': B('labels'),\n",
    "                                        'dropout_rate': 0.},\n",
    "                             save_to=V('predict'))\n",
    "               .run(batch_size, n_epochs=1))"
   ]
  },
  {
   "cell_type": "code",
   "execution_count": 11,
   "metadata": {},
   "outputs": [
    {
     "name": "stdout",
     "output_type": "stream",
     "text": [
      "Accuracy with shift:  0.62\n"
     ]
    }
   ],
   "source": [
    "print('Accuracy with shift: ',shift_pipe.get_variable('predict'))"
   ]
  },
  {
   "cell_type": "markdown",
   "metadata": {},
   "source": [
    "In order for the model to be able to predict the augmentation data, we will teach it on such data."
   ]
  },
  {
   "cell_type": "code",
   "execution_count": 12,
   "metadata": {
    "collapsed": true
   },
   "outputs": [],
   "source": [
    "train_shift =  (mnistset.train.p\n",
    "                .load(src)\n",
    "                .shift_flattened_pic()\n",
    "                .init_variable('shape')\n",
    "                .update_variable('shape', F(lambda batch: batch.images.shape[1:]))\n",
    "                .init_model('dynamic',\n",
    "                            ConvModel,\n",
    "                            'conv',\n",
    "                            config={'loss': 'softmax_cross_entropy',\n",
    "                                    'optimizer':'Adam',\n",
    "                                    'data_shape': V('shape')})\n",
    "                .train_model('conv',\n",
    "                             feed_dict={'input': B('images'),\n",
    "                                        'targets': B('labels'),\n",
    "                                        'dropout_rate': 0.4}))"
   ]
  },
  {
   "cell_type": "code",
   "execution_count": 13,
   "metadata": {},
   "outputs": [
    {
     "name": "stderr",
     "output_type": "stream",
     "text": [
      "Widget Javascript not detected.  It may not be installed or enabled properly.\n"
     ]
    },
    {
     "data": {
      "application/vnd.jupyter.widget-view+json": {
       "model_id": "b71d5f0b82ba4f9395b0f35893cc31af"
      }
     },
     "metadata": {},
     "output_type": "display_data"
    },
    {
     "name": "stdout",
     "output_type": "stream",
     "text": [
      "\n"
     ]
    }
   ],
   "source": [
    "for i in tqn(range(1200)):\n",
    "    train_shift.next_batch(batch_size, n_epochs=None)"
   ]
  },
  {
   "cell_type": "markdown",
   "metadata": {},
   "source": [
    "And now check, how change accuracy on shift data"
   ]
  },
  {
   "cell_type": "code",
   "execution_count": 14,
   "metadata": {
    "collapsed": true
   },
   "outputs": [],
   "source": [
    "test_shift = (mnistset.test.p\n",
    "                .import_model('conv', train_shift)\n",
    "                .load(src)\n",
    "                .shift_flattened_pic()\n",
    "                .init_variable('acc', init_on_each_run=list)\n",
    "                .init_variable('img', init_on_each_run=list)\n",
    "                .init_variable('predict', init_on_each_run=list)\n",
    "                .predict_model('conv', \n",
    "                             fetches=['accuracy', 'input', 'labels_hat'],\n",
    "                             feed_dict={'input': B('images'),\n",
    "                                        'targets': B('labels'),\n",
    "                                        'dropout_rate': 0.},\n",
    "                             save_to=[V('acc'), V('img'), V('predict')], mode='a')\n",
    "               .run(1, n_epochs=1))"
   ]
  },
  {
   "cell_type": "code",
   "execution_count": 15,
   "metadata": {},
   "outputs": [
    {
     "name": "stdout",
     "output_type": "stream",
     "text": [
      "Accuracy with shift:  0.874615\n"
     ]
    }
   ],
   "source": [
    "print('Accuracy with shift: ',np.mean(test_shift.get_variable('acc')))"
   ]
  },
  {
   "cell_type": "markdown",
   "metadata": {},
   "source": [
    "It's really better, than before."
   ]
  },
  {
   "cell_type": "markdown",
   "metadata": {},
   "source": [
    "Iteresting on what numbers we are wrong?"
   ]
  },
  {
   "cell_type": "code",
   "execution_count": 16,
   "metadata": {
    "collapsed": true
   },
   "outputs": [],
   "source": [
    "acc = test_shift.get_variable('acc')\n",
    "img = test_shift.get_variable('img')\n",
    "predict = test_shift.get_variable('predict')"
   ]
  },
  {
   "cell_type": "code",
   "execution_count": 17,
   "metadata": {
    "scrolled": false
   },
   "outputs": [
    {
     "data": {
      "image/png": "[encoded data removed]",
      "text/plain": [
       "<matplotlib.figure.Figure at 0x7f16f6d56160>"
      ]
     },
     "metadata": {},
     "output_type": "display_data"
    }
   ],
   "source": [
    "_, ax = plt.subplots(3, 4, figsize=(16, 16))\n",
    "ax = ax.reshape(-1)\n",
    "for i in range(12):\n",
    "    index = np.where(np.array(acc) == 0)[0][i]\n",
    "    ax[i].imshow(img[index].reshape(-1,28))\n",
    "    ax[i].set_xlabel('Predict: {}'.format(int(predict[index][0])), fontsize=18)\n",
    "    ax[i].grid()"
   ]
  },
  {
   "cell_type": "markdown",
   "metadata": {},
   "source": [
    "In most cases, the model is mistaken for examples in which the figures are heavily shifted, some of them are even hardly recognizable by eye."
   ]
  }
 ],
 "metadata": {
  "kernelspec": {
   "display_name": "Python 3",
   "language": "python",
   "name": "python3"
  },
  "language_info": {
   "codemirror_mode": {
    "name": "ipython",
    "version": 3
   },
   "file_extension": ".py",
   "mimetype": "text/x-python",
   "name": "python",
   "nbconvert_exporter": "python",
   "pygments_lexer": "ipython3",
   "version": "3.5.2"
  }
 },
 "nbformat": 4,
 "nbformat_minor": 2
}
