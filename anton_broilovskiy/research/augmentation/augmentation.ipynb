{
 "cells": [
  {
   "cell_type": "markdown",
   "metadata": {},
   "source": [
    "## Is Augmentation Necessary?\n",
    "In this notebook, we will check how the network trained on ordinary data copes with the augmented data and what will happen if it is learned from the augmented data.\n",
    "\n",
    "How the implement class with the neural network you'll see in [this](https://github.com/analysiscenter/az_training/blob/master/anton_broilovskiy/tutorials/Second_tutorial/simple_conv_model.py) file."
   ]
  },
  {
   "cell_type": "code",
   "execution_count": 1,
   "metadata": {
    "collapsed": true,
    "scrolled": true
   },
   "outputs": [],
   "source": [
    "import sys\n",
    "\n",
    "import numpy as np\n",
    "import matplotlib.pyplot as plt\n",
    "from tqdm import tqdm_notebook as tqn\n",
    "%matplotlib inline\n",
    "\n",
    "sys.path.append('../..')\n",
    "import utils\n",
    "from tutorials.Second_tutorial.my_batch import MnistBatch\n",
    "from tutorials.Second_tutorial.simple_conv_model import ConvModel\n",
    "from dataset import V, B\n",
    "from dataset.opensets import MNIST"
   ]
  },
  {
   "cell_type": "markdown",
   "metadata": {},
   "source": [
    "Create batch class depended from MnistBatch"
   ]
  },
  {
   "cell_type": "code",
   "execution_count": 2,
   "metadata": {},
   "outputs": [
    {
     "name": "stdout",
     "output_type": "stream",
     "text": [
      "ExtractingExtractingExtracting   /tmp/t10k-labels-idx1-ubyte.gz/tmp/train-images-idx3-ubyte.gz/tmp/t10k-images-idx3-ubyte.gz\n",
      "\n",
      "\n",
      "Extracting /tmp/train-labels-idx1-ubyte.gz\n"
     ]
    }
   ],
   "source": [
    "mnistset = MNIST(batch_class=MnistBatch)"
   ]
  },
  {
   "cell_type": "markdown",
   "metadata": {
    "collapsed": true
   },
   "source": [
    "Already familiar to us the construction to create the pipelines. These pipelines train NN on simple MNIST images, without shift."
   ]
  },
  {
   "cell_type": "code",
   "execution_count": 3,
   "metadata": {
    "collapsed": true,
    "scrolled": true
   },
   "outputs": [],
   "source": [
    "normal_train_ppl = (mnistset.train.p\n",
    "                    .init_model('dynamic',\n",
    "                                ConvModel,\n",
    "                                'conv',\n",
    "                                config={'inputs': dict(images={'shape': (28, 28, 1)},\n",
    "                                                       labels={'classes': (10), \n",
    "                                                               'transform': 'ohe', \n",
    "                                                               'name': 'targets'}),\n",
    "                                        'loss': 'softmax_cross_entropy',\n",
    "                                        'optimizer':'Adam',\n",
    "                                        'input_block/inputs': 'images',\n",
    "                                        'head/units': 10,\n",
    "                                        'output': dict(ops=['labels', 'proba', 'accuracy'])})\n",
    "                    .train_model('conv',\n",
    "                                 feed_dict={'images': B('images'),\n",
    "                                            'labels': B('labels')}))"
   ]
  },
  {
   "cell_type": "code",
   "execution_count": 4,
   "metadata": {
    "collapsed": true
   },
   "outputs": [],
   "source": [
    "normal_test_ppl = (mnistset.test.p\n",
    "                   .import_model('conv', normal_train_ppl)\n",
    "                   .init_variable('test_accuracy', init_on_each_run=int)\n",
    "                   .predict_model('conv', \n",
    "                                  fetches='accuracy',\n",
    "                                  feed_dict={'images': B('images'),\n",
    "                                             'labels': B('labels')},\n",
    "                                  save_to=V('test_accuracy'), \n",
    "                                  mode='w'))"
   ]
  },
  {
   "cell_type": "markdown",
   "metadata": {},
   "source": [
    "Train the model by using __next_batch__ method"
   ]
  },
  {
   "cell_type": "code",
   "execution_count": 5,
   "metadata": {
    "scrolled": false
   },
   "outputs": [
    {
     "data": {
      "application/vnd.jupyter.widget-view+json": {
       "model_id": "2a5d0d81f9a2446fb997ba39eccb9960"
      }
     },
     "metadata": {},
     "output_type": "display_data"
    },
    {
     "name": "stdout",
     "output_type": "stream",
     "text": [
      "\n"
     ]
    }
   ],
   "source": [
    "batch_size = 400\n",
    "for i in tqn(range(600)):\n",
    "    normal_train_ppl.next_batch(batch_size, n_epochs=None)\n",
    "    normal_test_ppl.next_batch(batch_size, n_epochs=None)"
   ]
  },
  {
   "cell_type": "markdown",
   "metadata": {},
   "source": [
    "Get variable from pipeline and print accuracy on data without shift"
   ]
  },
  {
   "cell_type": "code",
   "execution_count": 6,
   "metadata": {},
   "outputs": [
    {
     "name": "stdout",
     "output_type": "stream",
     "text": [
      "Accuracy on normal data:  0.98499995\n"
     ]
    }
   ],
   "source": [
    "acc = normal_test_ppl.get_variable('test_accuracy')\n",
    "print('Accuracy on normal data: ', acc)"
   ]
  },
  {
   "cell_type": "markdown",
   "metadata": {},
   "source": [
    "Now check, how change accuracy, if the first model testing on shift data"
   ]
  },
  {
   "cell_type": "code",
   "execution_count": 7,
   "metadata": {
    "collapsed": true,
    "scrolled": true
   },
   "outputs": [],
   "source": [
    "shift_test_ppl= (mnistset.test.p\n",
    "                 .import_model('conv', normal_train_ppl)\n",
    "                 .shift_flattened_pic()\n",
    "                 .init_variable('predict', init_on_each_run=int)\n",
    "                 .predict_model('conv', \n",
    "                                fetches='accuracy',\n",
    "                                feed_dict={'images': B('images'),\n",
    "                                           'labels': B('labels')},\n",
    "                                 save_to=V('predict'), \n",
    "                                 mode='w')\n",
    "                 .run(batch_size, n_epochs=1))"
   ]
  },
  {
   "cell_type": "code",
   "execution_count": 8,
   "metadata": {},
   "outputs": [
    {
     "name": "stdout",
     "output_type": "stream",
     "text": [
      "Accuracy with shift:  0.45499995\n"
     ]
    }
   ],
   "source": [
    "print('Accuracy with shift: ',shift_test_ppl.get_variable('predict'))"
   ]
  },
  {
   "cell_type": "markdown",
   "metadata": {},
   "source": [
    "In order for the model to be able to predict the augmentation data, we will teach it on such data"
   ]
  },
  {
   "cell_type": "code",
   "execution_count": 9,
   "metadata": {
    "collapsed": true
   },
   "outputs": [],
   "source": [
    "shift_train_ppl =  (mnistset.train.p\n",
    "                    .shift_flattened_pic()\n",
    "                    .init_model('dynamic',\n",
    "                                ConvModel,\n",
    "                                'conv',\n",
    "                                config={'inputs': dict(images={'shape': (28, 28, 1)},\n",
    "                                                       labels={'classes': (10), \n",
    "                                                               'transform': 'ohe', \n",
    "                                                               'name': 'targets'}),\n",
    "                                        'loss': 'softmax_cross_entropy',\n",
    "                                        'optimizer':'Adam',\n",
    "                                        'input_block/inputs': 'images',\n",
    "                                        'head/units': 10,\n",
    "                                        'output': dict(ops=['labels', 'proba', 'accuracy'])})\n",
    "                    .train_model('conv',\n",
    "                                 feed_dict={'images': B('images'),\n",
    "                                            'labels': B('labels')}))"
   ]
  },
  {
   "cell_type": "code",
   "execution_count": 10,
   "metadata": {
    "scrolled": true
   },
   "outputs": [
    {
     "data": {
      "application/vnd.jupyter.widget-view+json": {
       "model_id": "c8fc9b88f6aa42cc938861a805b81730"
      }
     },
     "metadata": {},
     "output_type": "display_data"
    },
    {
     "name": "stdout",
     "output_type": "stream",
     "text": [
      "\n"
     ]
    }
   ],
   "source": [
    "for i in tqn(range(600)):\n",
    "    shift_train_ppl.next_batch(batch_size, n_epochs=None)"
   ]
  },
  {
   "cell_type": "markdown",
   "metadata": {},
   "source": [
    "And now check, how change accuracy on shift data"
   ]
  },
  {
   "cell_type": "code",
   "execution_count": 11,
   "metadata": {
    "collapsed": true
   },
   "outputs": [],
   "source": [
    "shift_test_ppl = (mnistset.test.p\n",
    "                  .import_model('conv', shift_train_ppl)\n",
    "                  .shift_flattened_pic()\n",
    "                  .init_variable('acc', init_on_each_run=list)\n",
    "                  .init_variable('img', init_on_each_run=list)\n",
    "                  .init_variable('predict', init_on_each_run=list)\n",
    "                  .predict_model('conv', \n",
    "                                 fetches=['accuracy', 'inputs', 'predicted_proba'],\n",
    "                                 feed_dict={'images': B('images'),\n",
    "                                            'labels': B('labels')},\n",
    "                                 save_to=[V('acc'), V('img'), V('predict')],\n",
    "                                 mode='a')\n",
    "                  .run(1, n_epochs=1))"
   ]
  },
  {
   "cell_type": "code",
   "execution_count": 12,
   "metadata": {},
   "outputs": [
    {
     "name": "stdout",
     "output_type": "stream",
     "text": [
      "Accuracy with shift:  0.7943\n"
     ]
    }
   ],
   "source": [
    "print('Accuracy with shift: ',np.mean(shift_test_ppl.get_variable('acc')))"
   ]
  },
  {
   "cell_type": "markdown",
   "metadata": {},
   "source": [
    "It's really better than before.\n",
    "\n",
    "It is interesting, on what figures we are mistaken?"
   ]
  },
  {
   "cell_type": "code",
   "execution_count": 13,
   "metadata": {
    "collapsed": true
   },
   "outputs": [],
   "source": [
    "acc = shift_test_ppl.get_variable('acc')\n",
    "img = shift_test_ppl.get_variable('img')\n",
    "predict = shift_test_ppl.get_variable('predict')"
   ]
  },
  {
   "cell_type": "code",
   "execution_count": 14,
   "metadata": {
    "scrolled": false
   },
   "outputs": [
    {
     "data": {
      "image/png": "[encoded data removed]",
      "text/plain": [
       "<matplotlib.figure.Figure at 0x7f065c05bf28>"
      ]
     },
     "metadata": {},
     "output_type": "display_data"
    }
   ],
   "source": [
    "_, ax = plt.subplots(3, 4, figsize=(16, 16))\n",
    "ax = ax.reshape(-1)\n",
    "for i in range(12):\n",
    "    index = np.where(np.array(acc) == 0)[0][i]\n",
    "    ax[i].imshow(img[index]['images'].reshape(-1,28))\n",
    "    ax[i].set_xlabel('Predict: {}'.format(np.argmax(predict[index][0])), fontsize=18)\n",
    "    ax[i].grid()"
   ]
  },
  {
   "cell_type": "markdown",
   "metadata": {},
   "source": [
    "In most cases, the model is mistaken for examples in which the figures are heavily shifted, some of them are even hardly recognizable by eye."
   ]
  },
  {
   "cell_type": "markdown",
   "metadata": {},
   "source": [
    "### Сonclusion:\n",
    "* The network is not trained on the augmented data can not predict such figures with good quality. Therefore training on augmentation data are necessary.\n",
    "\n",
    "If you still have not completed our tutorial, you can fix it right [now](https://github.com/analysiscenter/az_training/tree/master/anton_broilovskiy/tutorials/First_tutorial/Dataset.ipynb)!\n",
    "### Other reuearch:\n",
    "* ResNet with [stochastic depth](https://github.com/analysiscenter/az_training/blob/master/anton_broilovskiy/research/stochastic_depth/stochastic_depth.ipynb)\n",
    "* Experiments with [weights](https://github.com/analysiscenter/az_training/blob/master/anton_broilovskiy/research/zeroing_of_weights/zeroing_of_weights.ipynb)\n",
    "* [FreezeOut](https://github.com/analysiscenter/az_training/blob/master/anton_broilovskiy/research/freezeout/freezeout.ipynb)\n",
    "* [Squeeze and excitation](https://github.com/analysiscenter/az_training/blob/master/anton_broilovskiy/research/squeeze_and_excitation/squeeze_and_excitation.ipynb) block in ResNet"
   ]
  }
 ],
 "metadata": {
  "kernelspec": {
   "display_name": "Python 3",
   "language": "python",
   "name": "python3"
  },
  "language_info": {
   "codemirror_mode": {
    "name": "ipython",
    "version": 3
   },
   "file_extension": ".py",
   "mimetype": "text/x-python",
   "name": "python",
   "nbconvert_exporter": "python",
   "pygments_lexer": "ipython3",
   "version": "3.5.2"
  }
 },
 "nbformat": 4,
 "nbformat_minor": 2
}
