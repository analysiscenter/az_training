{
 "cells": [
  {
   "cell_type": "markdown",
   "metadata": {},
   "source": [
    "# Stochastic depth\n",
    "\n",
    "[Dropout](http://www.jmlr.org/papers/volume15/srivastava14a/srivastava14a.pdf) proved to be working and that often improves the stability of the network. What if you throw out not just the weights from the layer, but the entire layer or even the whole block of layers? \n",
    "\n",
    "This question was asked by Gao Huang, Yu Sun, Zhuang Liu and described in an [article](https://arxiv.org/abs/1603.09382) \"Deep Networks with Stochastic Depth\".\n",
    "\n",
    "In this notebook, we will check the assumption that stochastic depth helps deep network predicts better than without it. \n",
    "\n",
    "Pay attention to the [file](https://github.com/analysiscenter/az_training/blob/master/anton_broilovskiy/research/stochastic_depth/resnet_with_stochastic_depth.py) with the model in which we inherit from the standard ResNet and change it to create stochastic depth ResNet.\n"
   ]
  },
  {
   "cell_type": "code",
   "execution_count": 1,
   "metadata": {
    "collapsed": true
   },
   "outputs": [],
   "source": [
    "import sys\n",
    "\n",
    "import matplotlib.pyplot as plt\n",
    "from tqdm import tqdm_notebook as tqn\n",
    "%matplotlib inline\n",
    "\n",
    "sys.path.append('../..')\n",
    "\n",
    "import utils\n",
    "from resnet_with_stochastic_depth import StochasticResNet\n",
    "from dataset import B,V,F\n",
    "from dataset.opensets import MNIST\n",
    "from dataset.models.tf import ResNet50"
   ]
  },
  {
   "cell_type": "markdown",
   "metadata": {},
   "source": [
    "For doing so we will work with MNIST dataset "
   ]
  },
  {
   "cell_type": "code",
   "execution_count": 2,
   "metadata": {},
   "outputs": [
    {
     "name": "stdout",
     "output_type": "stream",
     "text": [
      "Extracting ExtractingExtracting/tmp/train-labels-idx1-ubyte.gz \n",
      "/tmp/train-images-idx3-ubyte.gzExtracting /tmp/t10k-images-idx3-ubyte.gz\n",
      " \n",
      "/tmp/t10k-labels-idx1-ubyte.gz\n"
     ]
    }
   ],
   "source": [
    "dset = MNIST()"
   ]
  },
  {
   "cell_type": "markdown",
   "metadata": {},
   "source": [
    "And create config for our models"
   ]
  },
  {
   "cell_type": "code",
   "execution_count": 3,
   "metadata": {
    "collapsed": true
   },
   "outputs": [],
   "source": [
    "ResNet_config = {\n",
    "    'inputs': {'images': {'shape': (28, 28, 1)},\n",
    "               'labels': {'classes': (10),\n",
    "                          'transform': 'ohe',\n",
    "                          'dtype': 'int64',\n",
    "                          'name': 'targets'}},\n",
    "    'input_block/inputs': 'images',\n",
    "    'loss': 'softmax_cross_entropy',\n",
    "    'optimizer': 'Adam',\n",
    "    'output': dict(ops=['accuracy'])\n",
    "}\n",
    "\n",
    "Stochastic_config = {**ResNet_config}"
   ]
  },
  {
   "cell_type": "markdown",
   "metadata": {},
   "source": [
    "Now write pipelines to ResNet model"
   ]
  },
  {
   "cell_type": "code",
   "execution_count": 4,
   "metadata": {
    "collapsed": true
   },
   "outputs": [],
   "source": [
    "res_train_ppl = (dset.train.p\n",
    "                 .init_model('dynamic',\n",
    "                             ResNet50,\n",
    "                             'resnet',\n",
    "                             config=ResNet_config)\n",
    "                 .train_model('resnet',\n",
    "                              feed_dict={'images': B('images'),\n",
    "                                         'labels': B('labels')}))\n",
    "res_test_ppl = (dset.test.p\n",
    "                .init_variable('resacc', init_on_each_run=list)\n",
    "                .import_model('resnet', res_train_ppl)\n",
    "                .predict_model('resnet',\n",
    "                               fetches='output_accuracy',\n",
    "                               feed_dict={'images': B('images'),\n",
    "                                          'labels': B('labels')},\n",
    "                               save_to=V('resacc'), \n",
    "                               mode='a'))"
   ]
  },
  {
   "cell_type": "markdown",
   "metadata": {},
   "source": [
    "And create pipelines to Stochastic ResNet model"
   ]
  },
  {
   "cell_type": "code",
   "execution_count": 5,
   "metadata": {
    "collapsed": true
   },
   "outputs": [],
   "source": [
    "stochastic_train_ppl = (dset.train.p\n",
    "                        .init_model('dynamic',\n",
    "                                    StochasticResNet,\n",
    "                                    'stochastic',\n",
    "                                    config=Stochastic_config)\n",
    "                        .init_variable('stochasticacc', init_on_each_run=list)\n",
    "                        .train_model('stochastic',\n",
    "                                     feed_dict={'images': B('images'),\n",
    "                                                'labels': B('labels')}))\n",
    "stochastic_test_ppl = (dset.test.p\n",
    "                       .init_variable('stochasticacc', init_on_each_run=list)\n",
    "                       .import_model('stochastic', stochastic_train_ppl)\n",
    "                       .predict_model('stochastic',\n",
    "                                      fetches='output_accuracy',\n",
    "                                      feed_dict={'images': B('images'),\n",
    "                                                 'labels': B('labels')},\n",
    "                                      save_to=V('stochasticacc'),\n",
    "                                      mode='a'))"
   ]
  },
  {
   "cell_type": "markdown",
   "metadata": {},
   "source": [
    "Let's train our models"
   ]
  },
  {
   "cell_type": "code",
   "execution_count": 6,
   "metadata": {
    "scrolled": false
   },
   "outputs": [
    {
     "name": "stderr",
     "output_type": "stream",
     "text": [
      "Widget Javascript not detected.  It may not be installed or enabled properly.\n"
     ]
    },
    {
     "data": {
      "application/vnd.jupyter.widget-view+json": {
       "model_id": "a32cc70df5be491d91ec14b0d1519a1b"
      }
     },
     "metadata": {},
     "output_type": "display_data"
    },
    {
     "name": "stdout",
     "output_type": "stream",
     "text": [
      "\n"
     ]
    }
   ],
   "source": [
    "for i in tqn(range(1000)):\n",
    "    res_train_ppl.next_batch(400, n_epochs=None, shuffle=True)\n",
    "    res_test_ppl.next_batch(400, n_epochs=None, shuffle=True)\n",
    "    stochastic_train_ppl.next_batch(400, n_epochs=None, shuffle=True)\n",
    "    stochastic_test_ppl.next_batch(400, n_epochs=None, shuffle=True)"
   ]
  },
  {
   "cell_type": "markdown",
   "metadata": {},
   "source": [
    "Show test accuracy for all iterations"
   ]
  },
  {
   "cell_type": "code",
   "execution_count": 7,
   "metadata": {
    "scrolled": false
   },
   "outputs": [
    {
     "name": "stderr",
     "output_type": "stream",
     "text": [
      "../../utils.py:44: FutureWarning: pd.ewm_mean is deprecated for ndarrays and will be removed in a future version\n",
      "  firt_ewma = ewma(np.array(first), span=window, adjust=False)\n",
      "../../utils.py:45: FutureWarning: pd.ewm_mean is deprecated for ndarrays and will be removed in a future version\n",
      "  second_ewma = ewma(np.array(second), span=window, adjust=False) if second else None\n"
     ]
    },
    {
     "data": {
      "image/png": "[encoded data removed]",
      "text/plain": [
       "<matplotlib.figure.Figure at 0x7f56356fa828>"
      ]
     },
     "metadata": {},
     "output_type": "display_data"
    }
   ],
   "source": [
    "resnet_loss = res_test_ppl.get_variable('resacc')\n",
    "stochastic_loss = stochastic_test_ppl.get_variable('stochasticacc')\n",
    "utils.draw(resnet_loss, 'ResNet', stochastic_loss, 'Stochastic', window=20, type_data='accuracy')"
   ]
  },
  {
   "cell_type": "markdown",
   "metadata": {},
   "source": [
    "It can be seen from the plot that the model with stochastic depth has a big variance, but reaches a similar quality with the usual model"
   ]
  },
  {
   "cell_type": "markdown",
   "metadata": {},
   "source": [
    "### Conclusion:\n",
    "* Dropping blocks from the network strongly affects the variance of the output.\n",
    "* With the passage of time, this dispersion does not decrease.\n",
    "\n",
    "### And what's next?\n",
    "* In our experiment, we chose a certain shutdown threshold. You can choose another one to achieve better quality.\n",
    "* If you still have not completed our tutorial, you can fix it right [now](https://github.com/analysiscenter/az_training/tree/master/anton_broilovskiy/tutorials/I.Dataset/I.Dataset.ipynb)!\n",
    "* Read and apply another research:\n",
    "    * [Squeeze and excitation](https://github.com/analysiscenter/az_training/blob/master/anton_broilovskiy/research/squeeze_and_excitation/squeeze_and_excitation.ipynb) block in ResNet\n",
    "    * Experiments with [weights](https://github.com/analysiscenter/az_training/blob/master/anton_broilovskiy/research/zeroing_of_weights/zeroing_of_weights.ipynb)\n",
    "    * [FreezeOut](https://github.com/analysiscenter/az_training/blob/master/anton_broilovskiy/research/freezeout/freezeout.ipynb)\n",
    "    * Network response to [augmentation of data](https://github.com/analysiscenter/az_training/blob/master/anton_broilovskiy/research/augmentation/augmentation.ipynb)\n"
   ]
  }
 ],
 "metadata": {
  "kernelspec": {
   "display_name": "Python 3",
   "language": "python",
   "name": "python3"
  },
  "language_info": {
   "codemirror_mode": {
    "name": "ipython",
    "version": 3
   },
   "file_extension": ".py",
   "mimetype": "text/x-python",
   "name": "python",
   "nbconvert_exporter": "python",
   "pygments_lexer": "ipython3",
   "version": "3.5.2"
  }
 },
 "nbformat": 4,
 "nbformat_minor": 2
}
