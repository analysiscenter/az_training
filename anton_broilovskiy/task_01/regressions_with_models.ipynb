{
 "cells": [
  {
   "cell_type": "markdown",
   "metadata": {},
   "source": [
    "### In this notebook we'll acquaint with dataset library. For this purpose we'll write simple regression models. "
   ]
  },
  {
   "cell_type": "markdown",
   "metadata": {},
   "source": [
    "You can see the implementation of MyBatch class in [mybatch.py](https://github.com/analysiscenter/az_training/blob/master/anton_broilovskiy/task_01/mybatch.py),\n",
    "data generation function in [data_generator.py](https://github.com/analysiscenter/az_training/blob/master/anton_broilovskiy/task_01/data_generator.py), and models in [models.py](https://github.com/analysiscenter/az_training/blob/master/anton_broilovskiy/task_01/models.py)."
   ]
  },
  {
   "cell_type": "code",
   "execution_count": 1,
   "metadata": {
    "collapsed": true
   },
   "outputs": [],
   "source": [
    "import numpy as np\n",
    "import tensorflow as tf\n",
    "import matplotlib.pyplot as plt\n",
    "%matplotlib inline\n",
    "\n",
    "from mybatch import MyBatch\n",
    "from models import Regressions\n",
    "from data_generator import generate_linear_data, \\\n",
    "                           generate_logistic_data, \\\n",
    "                           generate_poisson_data\n",
    "from dataset import Dataset, DatasetIndex, V, F, B"
   ]
  },
  {
   "cell_type": "markdown",
   "metadata": {},
   "source": [
    "## First we consider linear regression, that allows solving tasks where answers are continuous variables.\n",
    "For this we generate data from uniform or normal distributions, multiply it normally distributed weights and add normally distributed noize and then we try to predict it."
   ]
  },
  {
   "cell_type": "code",
   "execution_count": 2,
   "metadata": {
    "collapsed": true
   },
   "outputs": [],
   "source": [
    "size = 1000\n",
    "linear_x, linear_y = generate_linear_data(size=size)"
   ]
  },
  {
   "cell_type": "markdown",
   "metadata": {},
   "source": [
    "Now we create dataset with our class named __MyBatch__ and split it into train/test. We need dataset to create batches in future, but now the dataset is empty until we load the data into it. First of all we create __Index__ for our dataset. __Index__ holds the sequence of data items' indices. This mechanism is needed to uniquely address each data item. You can read more about [using](https://analysiscenter.github.io/dataset/intro/intro.html) Dataset, Dataset [itself](https://analysiscenter.github.io/dataset/intro/dataset.html), and [Index](https://analysiscenter.github.io/dataset/intro/index.html)."
   ]
  },
  {
   "cell_type": "code",
   "execution_count": 3,
   "metadata": {
    "collapsed": true
   },
   "outputs": [],
   "source": [
    "ind = DatasetIndex(np.arange(size))\n",
    "linear_dset = Dataset(ind,batch_class=MyBatch)\n",
    "linear_dset.cv_split()"
   ]
  },
  {
   "cell_type": "markdown",
   "metadata": {},
   "source": [
    "As you may see, there are no input and output tensors in our model. They are created inside it, you can control it using 'inputs' key in __config__.\n",
    "\n",
    "To configure 'inputs' use another dict, which is named __inputs_config__ in the cell below. It's keys are:\n",
    "* __input__ - name of the placeholder for the input data.\n",
    "* __labels__ - name of the placeholder for the answers before all transformations.\n",
    "\n",
    "Values for these keys are dicts themselfs with the following parameters:\n",
    "* __shape__ - shape of the created placeholder, or in other words, shape of the input(output) to the model.\n",
    "* __name__ - name of the placeholder after transformations.\n",
    "\n",
    "For more information see [this](https://analysiscenter.github.io/dataset/api/dataset.models.tf.base.html#dataset.models.tf.TFModel._make_inputs)."
   ]
  },
  {
   "cell_type": "code",
   "execution_count": 4,
   "metadata": {
    "collapsed": true
   },
   "outputs": [],
   "source": [
    "inputs_config = {'input': {'shape': (13)},\n",
    "                 'labels': {'shape': (1),\n",
    "                            'name': 'targets'}}"
   ]
  },
  {
   "cell_type": "markdown",
   "metadata": {},
   "source": [
    " Before we talk about training our model, we will need to know how the parameters are formed for it. This occurs in the __config__ of the model. It looks like that: "
   ]
  },
  {
   "cell_type": "code",
   "execution_count": 5,
   "metadata": {
    "collapsed": true
   },
   "outputs": [],
   "source": [
    "config={'inputs': inputs_config,\n",
    "        'loss': 'mse',\n",
    "        'optimizer': {'name':'GradientDescentOptimizer',\n",
    "                      'learning_rate': 0.01},\n",
    "        'input_block/inputs': 'input',\n",
    "        'body/units': 1}"
   ]
  },
  {
   "cell_type": "markdown",
   "metadata": {},
   "source": [
    "config keys:\n",
    "* __inputs__ - was consider above\n",
    "* __optimizer__ - dist with optimizer and parameters for it\n",
    "* __loss__ - loss for our model, can be dict with parameters too\n",
    "* __input_block/inputs__ - name of tensor which is an input of input block\n",
    "* __body/units__ - number of filters on fully-connected layer. In our case there is one output filter.\n",
    "\n",
    "Нou can read [here](https://analysiscenter.github.io/dataset/intro/tf_models#configuration) and [here](https://analysiscenter.github.io/dataset/intro/models#configuring-a-model) about _config_ and how configurate model. "
   ]
  },
  {
   "cell_type": "markdown",
   "metadata": {},
   "source": [
    "After creating a dataset we need to load data and train linear regression model, that implemented into [model](https://github.com/analysiscenter/az_training/blob/master/anton_broilovskiy/task_01/models.py) class.\n",
    "We can train it on batch of generated data, which we preload before. For this we create __pipeline__, that allows using trained model in one line of code! You can read more [here](https://analysiscenter.github.io/dataset/intro/pipeline.html)."
   ]
  },
  {
   "cell_type": "markdown",
   "metadata": {},
   "source": [
    "In __pipeline__ we create a linear regression model and train it use train_model function. You can read how it works [here](https://analysiscenter.github.io/dataset/intro/tf_models). About train_model you can read [this](https://analysiscenter.github.io/dataset/intro/models.html#training-a-model)."
   ]
  },
  {
   "cell_type": "code",
   "execution_count": 6,
   "metadata": {
    "scrolled": false
   },
   "outputs": [
    {
     "name": "stderr",
     "output_type": "stream",
     "text": [
      "WARNING:root:conv_block: layout is empty, so there is nothing to do, just returning inputs.\n"
     ]
    }
   ],
   "source": [
    "BATCH_SIZE = 100\n",
    "train_linear = (linear_dset.train.p\n",
    "                .load((linear_x, linear_y))\n",
    "                .init_variable('loss_values', init_on_each_run=list)\n",
    "                .init_model('dynamic',\n",
    "                            Regressions,\n",
    "                            'linear',\n",
    "                            config=config)\n",
    "                .train_model('linear',\n",
    "                             fetches='loss',\n",
    "                             feed_dict={'input': B('input_data'),\n",
    "                                        'labels': B('labels')},\n",
    "                            save_to=V('loss_values'), mode='a')\n",
    "                .run(BATCH_SIZE, shuffle=True, n_epochs=100))"
   ]
  },
  {
   "cell_type": "markdown",
   "metadata": {},
   "source": [
    "And pipeline to predict test data. About predict_model read [this](https://analysiscenter.github.io/dataset/intro/models.html#predicting-with-a-model)."
   ]
  },
  {
   "cell_type": "code",
   "execution_count": 7,
   "metadata": {
    "collapsed": true,
    "scrolled": false
   },
   "outputs": [],
   "source": [
    "BATCH_SIZE = 1\n",
    "test_linear = (linear_dset.test.p\n",
    "                .import_model('linear', train_linear)\n",
    "                .load((linear_x, linear_y))\n",
    "                .init_variable('predict', init_on_each_run=list)\n",
    "                .predict_model('linear', \n",
    "                             fetches='Regressions/predictions',\n",
    "                             feed_dict={'input': B('input_data'),\n",
    "                                        'labels': B('labels')},\n",
    "                             save_to=V('predict'), mode='a')\n",
    "                .run(BATCH_SIZE, shuffle=False, n_epochs=1))"
   ]
  },
  {
   "cell_type": "markdown",
   "metadata": {},
   "source": [
    "In last __pipeline__ we test our model. Let's see, how good to do it."
   ]
  },
  {
   "cell_type": "code",
   "execution_count": 8,
   "metadata": {
    "scrolled": true
   },
   "outputs": [
    {
     "name": "stdout",
     "output_type": "stream",
     "text": [
      "Percentage of errors: 0.767%\n"
     ]
    }
   ],
   "source": [
    "predict = np.array(test_linear.get_variable('predict')).reshape(-1)\n",
    "target = np.array(linear_y[linear_dset.test.indices]).reshape(-1)\n",
    "\n",
    "percent = np.mean(np.abs((target - predict) * 100 / target))\n",
    "\n",
    "print('Percentage of errors: {}%'.format(round(percent, 3)))"
   ]
  },
  {
   "cell_type": "markdown",
   "metadata": {},
   "source": [
    "# Logistic regression \n",
    "It solve the task in the case where answer is binary (0 or 1, -1 or 1 and etc).\n",
    "In this case we generate two clouds of points with different classes and fit logistic regression to predict points class."
   ]
  },
  {
   "cell_type": "code",
   "execution_count": 9,
   "metadata": {
    "collapsed": true
   },
   "outputs": [],
   "source": [
    "size = 500\n",
    "logistic_x, logistic_y = generate_logistic_data(size, [[1,2],[[15,0],[0,15]]], [[10,17],[[15,0],[0,15]]])"
   ]
  },
  {
   "cell_type": "code",
   "execution_count": 10,
   "metadata": {},
   "outputs": [
    {
     "data": {
      "text/plain": [
       "<matplotlib.text.Text at 0x7f07c80fe400>"
      ]
     },
     "execution_count": 10,
     "metadata": {},
     "output_type": "execute_result"
    },
    {
     "data": {
      "image/png": "[encoded data removed]",
      "text/plain": [
       "<matplotlib.figure.Figure at 0x7f07cf19ef28>"
      ]
     },
     "metadata": {},
     "output_type": "display_data"
    }
   ],
   "source": [
    "plt.scatter(logistic_x[:,0], logistic_x[:,1], c=logistic_y)\n",
    "plt.title('Cloud point distribution', fontsize=18)"
   ]
  },
  {
   "cell_type": "markdown",
   "metadata": {},
   "source": [
    "One of the most important thing that you need to know is that it really dosen't matter, which model you want to train and what data you will use for it.The interface always be the same. And now we are going to see it.\n",
    "\n",
    "First of all, we, as in the previues time, create dataset and split it. Only in the preloaded data and the size of dataset are difference. "
   ]
  },
  {
   "cell_type": "code",
   "execution_count": 11,
   "metadata": {
    "collapsed": true
   },
   "outputs": [],
   "source": [
    "logistic_dset = Dataset(np.arange(size), batch_class=MyBatch)\n",
    "logistic_dset.cv_split()"
   ]
  },
  {
   "cell_type": "markdown",
   "metadata": {
    "collapsed": true
   },
   "source": [
    "As you can see, structure of pipeline was the same, name of methods, that contains model and name of this model, changes only."
   ]
  },
  {
   "cell_type": "code",
   "execution_count": 12,
   "metadata": {
    "collapsed": true
   },
   "outputs": [],
   "source": [
    "inputs_config = {'input': {'shape': (2)},\n",
    "                 'labels': {'shape': (1),\n",
    "                            'name': 'targets'}}"
   ]
  },
  {
   "cell_type": "code",
   "execution_count": 13,
   "metadata": {
    "scrolled": true
   },
   "outputs": [
    {
     "name": "stderr",
     "output_type": "stream",
     "text": [
      "WARNING:root:conv_block: layout is empty, so there is nothing to do, just returning inputs.\n"
     ]
    },
    {
     "name": "stdout",
     "output_type": "stream",
     "text": [
      "INFO:tensorflow:logits.dtype=<dtype: 'float32'>.\n"
     ]
    },
    {
     "name": "stderr",
     "output_type": "stream",
     "text": [
      "INFO:tensorflow:logits.dtype=<dtype: 'float32'>.\n"
     ]
    },
    {
     "name": "stdout",
     "output_type": "stream",
     "text": [
      "INFO:tensorflow:multi_class_labels.dtype=<dtype: 'float32'>.\n"
     ]
    },
    {
     "name": "stderr",
     "output_type": "stream",
     "text": [
      "INFO:tensorflow:multi_class_labels.dtype=<dtype: 'float32'>.\n"
     ]
    },
    {
     "name": "stdout",
     "output_type": "stream",
     "text": [
      "INFO:tensorflow:losses.dtype=<dtype: 'float32'>.\n"
     ]
    },
    {
     "name": "stderr",
     "output_type": "stream",
     "text": [
      "INFO:tensorflow:losses.dtype=<dtype: 'float32'>.\n"
     ]
    }
   ],
   "source": [
    "BATCH_SIZE=10\n",
    "train_logistic = (logistic_dset.train.p\n",
    "                .load((logistic_x, logistic_y))\n",
    "                .init_variable('current_loss', init_on_each_run=list)\n",
    "                .init_model('dynamic',\n",
    "                            Regressions,\n",
    "                            'logistic',\n",
    "                            config={'inputs': inputs_config,\n",
    "                                    'loss': 'sigmoid_cross_entropy',\n",
    "                                    'optimizer': {'name':'Adam', \n",
    "                                                  'learning_rate':0.01},\n",
    "                                    'input_block/inputs': 'input',\n",
    "                                    'body/units': 1,\n",
    "                                    'output': dict(ops=['proba', 'labels'])})\n",
    "                .train_model('logistic',\n",
    "                             fetches='loss',\n",
    "                             feed_dict={'input': B('input_data'),\n",
    "                                        'labels': B('labels')},\n",
    "                            save_to=V('current_loss'), mode='a', use_lock=True)\n",
    "                .run(BATCH_SIZE, shuffle=True, n_epochs=10))"
   ]
  },
  {
   "cell_type": "code",
   "execution_count": 14,
   "metadata": {
    "collapsed": true,
    "scrolled": true
   },
   "outputs": [],
   "source": [
    "BATCH_SIZE = 1\n",
    "test_logistic = (logistic_dset.test.p\n",
    "                .import_model('logistic', train_logistic)\n",
    "                .load((logistic_x, logistic_y))\n",
    "                .init_variable('probability', init_on_each_run=list)\n",
    "                .predict_model('logistic', \n",
    "                             fetches='Regressions/sigmoid' ,\n",
    "                             feed_dict={'input': B('input_data'),\n",
    "                                        'labels': B('labels')},\n",
    "                             save_to=V('probability'), mode='a')\n",
    "                .run(BATCH_SIZE, shuffle=False, n_epochs=1))"
   ]
  },
  {
   "cell_type": "code",
   "execution_count": 15,
   "metadata": {},
   "outputs": [
    {
     "name": "stdout",
     "output_type": "stream",
     "text": [
      "Percentage of true values: 0.98%\n"
     ]
    }
   ],
   "source": [
    "prob = np.array(test_logistic.get_variable('probability')).reshape(-1)\n",
    "predict = np.array([0 if i < 0.5 else 1 for i in prob])\n",
    "target = np.array(logistic_y[logistic_dset.test.indices].reshape(-1), dtype=np.int32)\n",
    "\n",
    "percentage = len(np.where(target == predict)[0]) / len(target)\n",
    "print('Percentage of true values: {}%'.format(round(percentage, 2)))"
   ]
  },
  {
   "cell_type": "markdown",
   "metadata": {},
   "source": [
    "# Poisson regression is being used if the answer is count. \n",
    "Example shows how we can train poisson regression by using generated data from poisson regression."
   ]
  },
  {
   "cell_type": "code",
   "execution_count": 16,
   "metadata": {
    "collapsed": true
   },
   "outputs": [],
   "source": [
    "size = 1000\n",
    "NUM_DIM = 13\n",
    "poisson_x, poisson_y = generate_poisson_data(np.random.random(NUM_DIM), size)"
   ]
  },
  {
   "cell_type": "markdown",
   "metadata": {},
   "source": [
    "Below you can see the same cell, as previously, but with different names in models."
   ]
  },
  {
   "cell_type": "code",
   "execution_count": 17,
   "metadata": {
    "collapsed": true
   },
   "outputs": [],
   "source": [
    "poisson_dset = Dataset(np.arange(size), batch_class=MyBatch)\n",
    "poisson_dset.cv_split()"
   ]
  },
  {
   "cell_type": "markdown",
   "metadata": {},
   "source": [
    "We can create our own loss function and use it to train model."
   ]
  },
  {
   "cell_type": "code",
   "execution_count": 18,
   "metadata": {
    "collapsed": true
   },
   "outputs": [],
   "source": [
    "def loss_poisson(target, predictions):\n",
    "    return tf.reduce_mean(tf.nn.log_poisson_loss(target, predictions))"
   ]
  },
  {
   "cell_type": "code",
   "execution_count": 19,
   "metadata": {
    "collapsed": true
   },
   "outputs": [],
   "source": [
    "inputs_config = {'input': {'shape': (13)},\n",
    "                 'labels': {'shape': (1),\n",
    "                            'name': 'targets'}}"
   ]
  },
  {
   "cell_type": "code",
   "execution_count": 20,
   "metadata": {
    "scrolled": false
   },
   "outputs": [
    {
     "name": "stderr",
     "output_type": "stream",
     "text": [
      "WARNING:root:conv_block: layout is empty, so there is nothing to do, just returning inputs.\n"
     ]
    }
   ],
   "source": [
    "BATCH_SIZE=100\n",
    "train_poisson = (poisson_dset.train.p\n",
    "                .load((poisson_x, poisson_y))\n",
    "                .init_variable('shape')\n",
    "                .init_model('dynamic', \n",
    "                            Regressions, \n",
    "                            'poisson',\n",
    "                            config={'inputs': inputs_config,\n",
    "                                    'loss': loss_poisson,\n",
    "                                    'optimizer': {'name': 'Adam', \n",
    "                                                  'learning_rate': 0.02},\n",
    "                                    'input_block/inputs': 'input',\n",
    "                                    'body/units': 1,\n",
    "                                    'output': dict(ops=['labels'])})\n",
    "                .train_model('poisson',\n",
    "                             fetches='loss',\n",
    "                             feed_dict={'input': B('input_data'),\n",
    "                                        'labels': B('labels')})\n",
    "                .run(BATCH_SIZE, shuffle=True, n_epochs=150))"
   ]
  },
  {
   "cell_type": "code",
   "execution_count": 21,
   "metadata": {
    "collapsed": true,
    "scrolled": false
   },
   "outputs": [],
   "source": [
    "test_poisson = ((poisson_dset.test.p\n",
    "                .load((poisson_x, poisson_y))\n",
    "                .import_model('poisson', train_poisson)\n",
    "                .init_variable('all_predictions', init_on_each_run=list)\n",
    "                .init_variable('answers', init_on_each_run=list)\n",
    "                .predict_model('poisson', \n",
    "                               fetches=['Regressions/predicted_poisson_answer', 'labels'],\n",
    "                               feed_dict={'input': B('input_data'),\n",
    "                                          'labels': B('labels')},\n",
    "                               save_to=[V('all_predictions'), V('answers')], mode='a'))\n",
    "                .run(BATCH_SIZE, shuffle=True, n_epochs=1))"
   ]
  },
  {
   "cell_type": "code",
   "execution_count": 22,
   "metadata": {
    "scrolled": true
   },
   "outputs": [
    {
     "name": "stdout",
     "output_type": "stream",
     "text": [
      "Percentage of errors: 16.693% Variance ratio: 0.736\n"
     ]
    }
   ],
   "source": [
    "pred = np.array(test_poisson.get_variable('all_predictions')).reshape(-1)\n",
    "target = np.array(test_poisson.get_variable('answers')).reshape(-1)\n",
    "\n",
    "\n",
    "true_var = np.mean((target - np.mean(target))**2)\n",
    "predict_var = np.mean((pred - np.mean(pred))**2)\n",
    "\n",
    "percent = np.mean(np.abs(pred - target))/np.mean(target)*100\n",
    "print('Percentage of errors: {}%'.format(round(percent, 3)), 'Variance ratio: %.3f' % (predict_var / true_var))"
   ]
  },
  {
   "cell_type": "markdown",
   "metadata": {},
   "source": [
    "As you can see, we use three different model to train regressions and prediction. And use one batch class for it. It is like that because we want to show you, no matter what you want to train and what data you want to use for it, dataset always be the same."
   ]
  }
 ],
 "metadata": {
  "kernelspec": {
   "display_name": "Python 3",
   "language": "python",
   "name": "python3"
  },
  "language_info": {
   "codemirror_mode": {
    "name": "ipython",
    "version": 3
   },
   "file_extension": ".py",
   "mimetype": "text/x-python",
   "name": "python",
   "nbconvert_exporter": "python",
   "pygments_lexer": "ipython3",
   "version": "3.5.2"
  }
 },
 "nbformat": 4,
 "nbformat_minor": 2
}
