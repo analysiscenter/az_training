{
 "cells": [
  {
   "cell_type": "code",
   "execution_count": 5,
   "metadata": {},
   "outputs": [],
   "source": [
    "%matplotlib inline\n",
    "from matplotlib import pyplot as plt\n",
    "import numpy as np\n",
    "import os\n",
    "import sys\n",
    "import urllib as urllib\n",
    "from tqdm import tqdm_notebook as tqdm\n",
    "import gzip\n",
    "from sklearn.linear_model import Ridge\n",
    "import timeit\n",
    "from MNISTBatch import AugmentedMNISTBatch\n",
    "\n",
    "sys.path.append(os.path.abspath('..\\\\dataset'))\n",
    "sys.path.append(os.path.abspath('..'))\n",
    "import dataset as ds\n",
    "from dataset.models.tf import VGG16, ResNet50, DenseNet121, Inception_v1\n",
    "from dataset.opensets import MNIST\n",
    "from dataset import B, V\n",
    "PATH_TO_MNIST = os.path.join('..', 'datasets', 'MNIST')"
   ]
  },
  {
   "cell_type": "code",
   "execution_count": 6,
   "metadata": {},
   "outputs": [
    {
     "name": "stdout",
     "output_type": "stream",
     "text": [
      "ExtractingExtracting ExtractingExtracting   C:\\Users\\ROMANK~1\\AppData\\Local\\Temp\\train-images-idx3-ubyte.gzC:\\Users\\ROMANK~1\\AppData\\Local\\Temp\\train-labels-idx1-ubyte.gzC:\\Users\\ROMANK~1\\AppData\\Local\\Temp\\t10k-images-idx3-ubyte.gz\n",
      "C:\\Users\\ROMANK~1\\AppData\\Local\\Temp\\t10k-labels-idx1-ubyte.gz\n",
      "\n",
      "\n"
     ]
    }
   ],
   "source": [
    "mnist_set = MNIST(batch_class = AugmentedMNISTBatch)"
   ]
  },
  {
   "cell_type": "code",
   "execution_count": 4,
   "metadata": {},
   "outputs": [],
   "source": [
    "placeholders_config = {'images': {'shape':(28,28,1),\n",
    "                                  'name': 'images'},\n",
    "                       'labels': {'classes' : 10,\n",
    "                                  'transform': 'ohe',\n",
    "                                  'name': 'targets'}}\n",
    "\n",
    "config = {}\n",
    "config['inputs'] = placeholders_config\n",
    "config['loss'] = 'ce'\n",
    "config['input_block/inputs'] =  'images'\n",
    "config['output'] =  dict(ops=['labels', 'accuracy'],\n",
    "                         data_format='channels_last')"
   ]
  },
  {
   "cell_type": "code",
   "execution_count": null,
   "metadata": {},
   "outputs": [],
   "source": [
    "mnist_set.train.p\n",
    "             .init_variable('acc_history', init_on_each_run=list)\n",
    "             .init_model('dynamic', model, 'model', config=config)\n",
    "             .random_rotate(p=0.7)\n",
    "             .random_scale(p=0.7, factor = (0.7, 1.3))\n",
    "             .train_model('model', fetches='accuracy', feed_dict={'images': B('images'),\n",
    "                                                                  'labels': B('labels')},\n",
    "                          save_to=V('acc_history'), mode='a')"
   ]
  }
 ],
 "metadata": {
  "kernelspec": {
   "display_name": "Python 3",
   "language": "python",
   "name": "python3"
  },
  "language_info": {
   "codemirror_mode": {
    "name": "ipython",
    "version": 3
   },
   "file_extension": ".py",
   "mimetype": "text/x-python",
   "name": "python",
   "nbconvert_exporter": "python",
   "pygments_lexer": "ipython3",
   "version": "3.6.3"
  }
 },
 "nbformat": 4,
 "nbformat_minor": 2
}
