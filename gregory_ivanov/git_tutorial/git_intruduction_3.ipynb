{
 "cells": [
  {
   "cell_type": "markdown",
   "metadata": {},
   "source": [
    "# Работа с удаленным репозиторием\n",
    "\n",
    "\n",
    "В основном работа происходит в команде, причем удобно хранить рабочую версию проекта на каком-то общем сервере. git предоставляет удобный инстремент для работы с удаленными репозиториями."
   ]
  },
  {
   "cell_type": "code",
   "execution_count": null,
   "metadata": {},
   "outputs": [],
   "source": [
    "# создадим репозиторий...\n",
    "import os\n",
    "if not os.path.isdir('folder'):\n",
    "    os.mkdir('folder')\n",
    "!git init folder"
   ]
  },
  {
   "cell_type": "code",
   "execution_count": null,
   "metadata": {
    "collapsed": true
   },
   "outputs": [],
   "source": [
    "# Напилним его содержимым...\n",
    "with open('folder/file', 'w') as file:\n",
    "    file.write('some text\\n')\n",
    "os.chdir('folder')\n",
    "!git add file\n",
    "!git commit -m \"added file\""
   ]
  },
  {
   "cell_type": "code",
   "execution_count": null,
   "metadata": {
    "collapsed": true
   },
   "outputs": [],
   "source": [
    "# вернемся обратно\n",
    "os.chdir('..')"
   ]
  },
  {
   "cell_type": "markdown",
   "metadata": {},
   "source": [
    "## git remote"
   ]
  },
  {
   "cell_type": "code",
   "execution_count": null,
   "metadata": {
    "collapsed": true
   },
   "outputs": [],
   "source": [
    "!git clone folder folder_local"
   ]
  },
  {
   "cell_type": "code",
   "execution_count": null,
   "metadata": {
    "collapsed": true
   },
   "outputs": [],
   "source": [
    "import os\n",
    "os.chdir('folder_local/')"
   ]
  },
  {
   "cell_type": "markdown",
   "metadata": {},
   "source": [
    "Если набрать команду без флагов, то гит покажет, какие удаленные сервера мы сконфигурировали"
   ]
  },
  {
   "cell_type": "code",
   "execution_count": null,
   "metadata": {
    "collapsed": true
   },
   "outputs": [],
   "source": [
    "!git remote"
   ]
  },
  {
   "cell_type": "markdown",
   "metadata": {},
   "source": [
    "Посмотрим, что за origin\n",
    "\n",
    "- fetch -- откуда получаем\n",
    "- push -- куда загружаем"
   ]
  },
  {
   "cell_type": "code",
   "execution_count": null,
   "metadata": {
    "collapsed": true
   },
   "outputs": [],
   "source": [
    "!git remote -v"
   ]
  },
  {
   "cell_type": "markdown",
   "metadata": {},
   "source": [
    "У репозитория может быть несколько ремотов (что ничему не противоречит)\n",
    "\n",
    "Если хотим добавить remote, пишем \n",
    "\n",
    "$ git remote add remote_name remote_url\n",
    "\n",
    "При клонировании автоматически конфигурируется origin\n",
    "\n",
    "Флаги\n",
    "- -f -- сразу сделать fetch\n",
    "- rename old new -- переименовать remote\n",
    "- rm == remove\n",
    "- show -- информация о remote"
   ]
  },
  {
   "cell_type": "code",
   "execution_count": null,
   "metadata": {
    "collapsed": true
   },
   "outputs": [],
   "source": [
    "!git remote show origin"
   ]
  },
  {
   "cell_type": "code",
   "execution_count": null,
   "metadata": {
    "collapsed": true
   },
   "outputs": [],
   "source": [
    "!git remote add another_remote ../folder"
   ]
  },
  {
   "cell_type": "code",
   "execution_count": null,
   "metadata": {
    "collapsed": true
   },
   "outputs": [],
   "source": [
    "!git remote -v"
   ]
  },
  {
   "cell_type": "code",
   "execution_count": null,
   "metadata": {
    "collapsed": true
   },
   "outputs": [],
   "source": [
    "!git remote rm another_remote\n",
    "!git remote -v"
   ]
  },
  {
   "cell_type": "markdown",
   "metadata": {},
   "source": [
    "## git fetch\n",
    "\n",
    "Загружает коммиты и ветки с указаных remotes\n",
    "\n",
    "Если ничего не указать, то обновления текущей ветки загрузятся с origin"
   ]
  },
  {
   "cell_type": "code",
   "execution_count": null,
   "metadata": {
    "collapsed": true
   },
   "outputs": [],
   "source": [
    "os.chdir('../folder')\n",
    "with open('file', 'a') as file:\n",
    "    file.write('text\\n')\n",
    "!git add file\n",
    "!git commit -m \"added file\""
   ]
  },
  {
   "cell_type": "code",
   "execution_count": null,
   "metadata": {
    "collapsed": true
   },
   "outputs": [],
   "source": [
    "os.chdir('../folder_local')\n",
    "with open('file', 'a') as file:\n",
    "    file.write('text_local\\n')\n",
    "!git add file\n",
    "!git commit -m \"added file\""
   ]
  },
  {
   "cell_type": "code",
   "execution_count": null,
   "metadata": {
    "collapsed": true
   },
   "outputs": [],
   "source": [
    "!git fetch"
   ]
  },
  {
   "cell_type": "code",
   "execution_count": null,
   "metadata": {
    "collapsed": true
   },
   "outputs": [],
   "source": [
    "!git status"
   ]
  },
  {
   "cell_type": "code",
   "execution_count": null,
   "metadata": {
    "collapsed": true
   },
   "outputs": [],
   "source": [
    "!git branch"
   ]
  },
  {
   "cell_type": "markdown",
   "metadata": {},
   "source": [
    "Что-то не видно remote веток. Чтобы их увидеть, добавим флаг -a == -all"
   ]
  },
  {
   "cell_type": "code",
   "execution_count": null,
   "metadata": {
    "collapsed": true
   },
   "outputs": [],
   "source": [
    "!git branch --all"
   ]
  },
  {
   "cell_type": "code",
   "execution_count": null,
   "metadata": {
    "collapsed": true
   },
   "outputs": [],
   "source": [
    "!git merge origin/HEAD"
   ]
  },
  {
   "cell_type": "markdown",
   "metadata": {},
   "source": [
    "идем делаем merge...\n",
    "\n",
    "- \\$ vim file\n",
    "- делаем merge\n",
    "- \\$ git add file\n",
    "- \\$ git commit -m \"fixed merge issues\""
   ]
  },
  {
   "cell_type": "code",
   "execution_count": null,
   "metadata": {
    "collapsed": true
   },
   "outputs": [],
   "source": [
    "!git diff HEAD~1"
   ]
  },
  {
   "cell_type": "markdown",
   "metadata": {},
   "source": [
    "Флаги:\n",
    "\n",
    "- --all -- fetch all remotes\n",
    "- --dry-run\n",
    "- --prune -- удалить ветки, которых нет на remote"
   ]
  },
  {
   "cell_type": "markdown",
   "metadata": {},
   "source": [
    "## git pull\n",
    "\n",
    "Сокращение от git fetch + git merge\n",
    "\n",
    "Чтобы вместо merge сделать rebase, нужно передать флаг --rebase"
   ]
  },
  {
   "cell_type": "markdown",
   "metadata": {},
   "source": [
    "## git push\n",
    "\n",
    "Добавляем локальные изменения в remote\n",
    "\n",
    "$ git push remote branch\n",
    "\n",
    "если вызвать git push, то git\n",
    "<ol>\n",
    "  <li> [нет remote] Посмотрит, на какой remote загружать, в переменнй branch.name.remote для текущей ветки. Если такой нет, то берется origin.</li>\n",
    "  <li> [нет веток] Затем смотрит, что пушить, в переменной remote.name.push. Если ничего не нашел, то смотрит push.default. Если ее тоже нет, то считается, что push.default=simple, и git пытается запушить текущую ветку (tracking branch) в upstream branch, если их названия совпадают  </li>\n",
    "</ol>\n",
    "\n",
    "Флаги:\n",
    "- --all -- запушить все ветки\n",
    "- --prune -- удалить ветки из remote, которые не существуют более на локальной машине\n",
    "\n"
   ]
  },
  {
   "cell_type": "markdown",
   "metadata": {
    "collapsed": true
   },
   "source": [
    "На самом деле, команда чуть более хитрая. Что будет, если сделаем так:\n",
    "\n",
    "$ git push origin :master\n",
    "\n",
    "Правильно, удалиться ветка master из origin! Но лучше вызывать\n",
    "\n",
    "$ git push origin --delete master\n",
    "\n",
    "Вот синтаксис:\n",
    "\n",
    "$ git push somewhere [+]\\*src:dst\n",
    "\n",
    "Причем src и dst могут быть пустыми.\n",
    "\n",
    "\n",
    "- src -- имя ветки, которую хотим запушить (можно всякие master~n)\n",
    "- :dst -- имя ветки, которую хотим обновить на remote (если не указана, то попробует обновить src на remote)\n",
    "- \\+ перед src -- если обновление dst не будет fast-forward, то добавление плюсика все равно заставит обновить dst (без плюсика гит ругнется) (ОСТОРОЖНО, тут можно накосячить. Почему?)"
   ]
  },
  {
   "cell_type": "markdown",
   "metadata": {},
   "source": [
    "# Кастомизация git\n",
    "\n",
    "\n",
    "\n",
    "Что делать, если хочется красивый вывод diff'a? Или если не хочется, чтобы файлы с логом загружались в репозиторий? Или хочется писать коммитты в любимом редакторе? Здесь речь пойдет о настройке окружения git и кастомизации его поведения."
   ]
  },
  {
   "cell_type": "markdown",
   "metadata": {},
   "source": [
    "## git config\n",
    "\n",
    "Это представляет собой обычный конфигурационный файл, в котором записаны такие вещи, как ваше имя, почта, ваш любимый редактор и тп...\n",
    "\n",
    "Существует три уровня иерархии:\n",
    "- /etc/gitconfig -- конфиг для всех пользователей локальной машины (для windows этот файл лежит в C:\\ProgramData\\Git\\config)\n",
    "- ~/.gitconfig -- настройки для специфичного пользователя (для windows это C:\\Users\\$USER/.gitconfig)\n",
    "- .git/config -- специфичные настройки для проекта\n",
    "\n",
    "Переменные из нижнего уровня имеют высший приоритет перед таковыми из верхнего"
   ]
  },
  {
   "cell_type": "markdown",
   "metadata": {},
   "source": [
    "Получим текущее состояние конфига:"
   ]
  },
  {
   "cell_type": "code",
   "execution_count": null,
   "metadata": {
    "collapsed": true,
    "scrolled": true
   },
   "outputs": [],
   "source": [
    "!git config --list"
   ]
  },
  {
   "cell_type": "markdown",
   "metadata": {},
   "source": [
    "#### Чтобы посмотреть конфиг для системы, юзера, репозитория, можно воспользоваться флагами --system, --global, --file path (или --local, что стоит по дефолту) соответственно"
   ]
  },
  {
   "cell_type": "code",
   "execution_count": null,
   "metadata": {
    "collapsed": true,
    "scrolled": true
   },
   "outputs": [],
   "source": [
    "!git config --system --list"
   ]
  },
  {
   "cell_type": "code",
   "execution_count": null,
   "metadata": {
    "collapsed": true
   },
   "outputs": [],
   "source": [
    "!git config --global --list"
   ]
  },
  {
   "cell_type": "code",
   "execution_count": null,
   "metadata": {
    "collapsed": true
   },
   "outputs": [],
   "source": [
    "!git config --file ../.git/config --list"
   ]
  },
  {
   "cell_type": "markdown",
   "metadata": {},
   "source": [
    "#### Что будет, если поставить одну и ту же переменную на разных уровнях:"
   ]
  },
  {
   "cell_type": "code",
   "execution_count": null,
   "metadata": {
    "collapsed": true
   },
   "outputs": [],
   "source": [
    "!git config --global user.nick itisgrisha\n",
    "!git config --file ../.git/config user.nick newgrisha"
   ]
  },
  {
   "cell_type": "code",
   "execution_count": null,
   "metadata": {
    "collapsed": true
   },
   "outputs": [],
   "source": [
    "!git config --list | grep -i nick"
   ]
  },
  {
   "cell_type": "markdown",
   "metadata": {},
   "source": [
    "Встречается два раза в списке. А git использует последнее значение переменной:"
   ]
  },
  {
   "cell_type": "code",
   "execution_count": null,
   "metadata": {
    "collapsed": true
   },
   "outputs": [],
   "source": [
    "!git config user.nick"
   ]
  },
  {
   "cell_type": "markdown",
   "metadata": {},
   "source": [
    "Если хочется понять, откуда в переменной это значение, можно это спросить у git'a"
   ]
  },
  {
   "cell_type": "code",
   "execution_count": null,
   "metadata": {
    "collapsed": true
   },
   "outputs": [],
   "source": [
    "!git config --show-origin user.nick"
   ]
  },
  {
   "cell_type": "markdown",
   "metadata": {},
   "source": [
    "### фишки конфига:\n",
    "\n",
    "#### создание aliases"
   ]
  },
  {
   "cell_type": "code",
   "execution_count": null,
   "metadata": {
    "collapsed": true
   },
   "outputs": [],
   "source": [
    "!git config --replace-all alias.a \"add --all\"\n",
    "!git config --replace-all alias.st \"status -s\""
   ]
  },
  {
   "cell_type": "code",
   "execution_count": null,
   "metadata": {
    "collapsed": true
   },
   "outputs": [],
   "source": [
    "!git config --local --list"
   ]
  },
  {
   "cell_type": "code",
   "execution_count": null,
   "metadata": {
    "collapsed": true
   },
   "outputs": [],
   "source": [
    "!git st"
   ]
  },
  {
   "cell_type": "markdown",
   "metadata": {},
   "source": [
    "#### commit.template -- указываем шаблон для сообщения коммита"
   ]
  },
  {
   "cell_type": "markdown",
   "metadata": {},
   "source": [
    "$ git config --global commit.template path-to-template.txt\n"
   ]
  },
  {
   "cell_type": "markdown",
   "metadata": {},
   "source": [
    "#### в зависимости от ОС могут быть ненужные файлы, специфичные для этой системы. Их можно исключить следующей переменной:"
   ]
  },
  {
   "cell_type": "markdown",
   "metadata": {},
   "source": [
    "$ git config --global core.excludesfile path-to-gitignore.txt "
   ]
  },
  {
   "cell_type": "markdown",
   "metadata": {},
   "source": [
    "### в конфиге можно менять цвет вывода, указывать программку для просмотра diff-ов, и многое другое\n",
    "\n",
    "### полезный файл с конфигом лежит [тут](https://gist.github.com/pksunkara/988716)"
   ]
  },
  {
   "cell_type": "markdown",
   "metadata": {},
   "source": [
    "## gitattributes\n",
    "\n",
    "Иногда некоторые настройки хочется применить только к специфичной папке проекта. Такие настройки называются аттрибутами. Также с ними можно указать, как мерджить определенные типы файлов, как смотреть diff для нетекстовых файлов, или что делать с разными символами переноса каретки\n",
    "\n",
    "Есть две версии конфига:\n",
    "- .gitattributes в рабочей директории -- если нужно шарить между проектами\n",
    "- .git/info/attributes -- если не хотим шарить\n",
    "\n",
    "\n",
    "На самом деле, почти все, что можно делать в аттрибутах, можно запихнуть в конфиг. Но лучше будет, если в конфиг писать общие настройки для пользователя\\проекта, а в аттрибуты -- специфичные настройки (аттрибуты) для определенных файлов."
   ]
  },
  {
   "cell_type": "markdown",
   "metadata": {},
   "source": [
    "Указываем, что файл бинарный:\n",
    "\n",
    "*.foo binary\n",
    "\n",
    "Теперь git не будет пытаться считать дифф между этими файлами, или конвертировать переводы каретки"
   ]
  },
  {
   "cell_type": "code",
   "execution_count": null,
   "metadata": {
    "collapsed": true
   },
   "outputs": [],
   "source": [
    "# пишем в аттрибуты\n",
    "with open('../.gitattributes', 'w') as file:\n",
    "    file.write('*.foo binary\\n')"
   ]
  },
  {
   "cell_type": "code",
   "execution_count": null,
   "metadata": {
    "collapsed": true
   },
   "outputs": [],
   "source": [
    "# добавляем бинарный файл\n",
    "with open('../bar.foo', 'w') as file:\n",
    "    file.write('foo\\n')\n",
    "\n",
    "\n",
    "!git add .\n",
    "!git commit -m \"added attributes and bar.foo\""
   ]
  },
  {
   "cell_type": "code",
   "execution_count": null,
   "metadata": {
    "collapsed": true
   },
   "outputs": [],
   "source": [
    "# модифицируем файл\n",
    "with open('../bar.foo','a') as file:\n",
    "    file.write('bar\\n')"
   ]
  },
  {
   "cell_type": "code",
   "execution_count": null,
   "metadata": {
    "collapsed": true,
    "scrolled": true
   },
   "outputs": [],
   "source": [
    "!git diff"
   ]
  },
  {
   "cell_type": "markdown",
   "metadata": {},
   "source": [
    "Скажем гиту, чтобы сам решал, что делать с crlf:\n",
    "\n",
    "- \\* text=auto\n",
    "\n",
    "А виндовый файл пусть будет с crlf:\n",
    "\n",
    "- *.some_windows_extension text eol=crlf"
   ]
  },
  {
   "cell_type": "code",
   "execution_count": null,
   "metadata": {
    "collapsed": true
   },
   "outputs": [],
   "source": [
    "with open('../.gitattributes', 'a') as file:\n",
    "    file.write('* text=auto\\n')"
   ]
  },
  {
   "cell_type": "markdown",
   "metadata": {},
   "source": [
    "Допустим, что мы хотим, чтобы при коммите файл как-то обрабатывался. Пусть у нас есть программка tab2spaces, которая конвертирует табы в пробелы в текстовом файле. Тогда можно сделать такой фильтр:\n",
    "\n",
    ">filter.t2s.clean tab2spaces\n",
    "\n",
    "\n",
    ">filter.t2s.smudge cat\n",
    "\n",
    "t2s -- название фильтра\n",
    "\n",
    "Теперь скажем в аттрибутах, что хотим обрабатывать питоновские файлы перед коммитом:\n",
    "\n",
    ">\\*.py t2s\n",
    "\n",
    "![](https://git-scm.com/book/en/v2/images/smudge.png)\n",
    "\n",
    "\n",
    "### больше про аттрибуты [тут](https://git-scm.com/book/en/v2/Customizing-Git-Git-Attributes#filters_a)"
   ]
  },
  {
   "cell_type": "markdown",
   "metadata": {},
   "source": [
    "## gitignore\n",
    "\n",
    "Файл, в котором указано, какие файлы\\папки нужно игнорировать (логи, мусор и тп).\n",
    "\n",
    "Тут также есть иерархическая структура конфигов:\n",
    "\n",
    "- переменная core.excludesFile\n",
    "> паттерны, которые должны игнорироваться всегда (например, мусор от любимого редактора юзера)\n",
    "- .git/info/exclude\n",
    "> паттерны, специфичные для конкретного репозитория (например, на локальной машине)\n",
    "- .gitignore (лежит в папке проекта вместе с .git)\n",
    "> расшаренные паттерны, которые должны быть доступны всем, кто пользуется репозиторием (копируется с clone)\n",
    "- Паттерны, переданные в команды, которые поддерживают игнорирование файлов\n",
    "\n",
    "\n",
    "### Базовые правила написания фильтров:\n",
    "\n",
    "- пустые строки и те, что начинаются с #, игнорируются (\\#, чтобы включить хеш в паттерн)\n",
    "- хвостовые пробелы игнорирутеся, если только перед ними не ставить \"\\\"\n",
    "- ! -- отрицание фильтра. Однако, нельзя включить файл, который лежит в исключенной директории. И вообще, git вообще не обращает внимания на файли в исключенных директориях, поэтому бессмысленно писать для них фильтры. Если очень хочется, то можно написать:"
   ]
  },
  {
   "cell_type": "code",
   "execution_count": null,
   "metadata": {
    "collapsed": true
   },
   "outputs": [],
   "source": [
    "#  !/foo\n",
    "#  /foo/*\n",
    "#  !/foo/bar"
   ]
  },
  {
   "cell_type": "markdown",
   "metadata": {},
   "source": [
    "- foo/ -- директория foo (/bar/foo все еще включена!)\n",
    "- \\*\\*/foo/ -- теперь foo/ игнорируется везде\n",
    "- Если в паттерне нет слеша, то git будет игнорировать эти файлы везде (т е foo == \\*\\*/foo)\n",
    "- foo/** -- все внутри foo\n",
    "- a/\\*\\*/b -- любой уровень между a и b"
   ]
  },
  {
   "cell_type": "markdown",
   "metadata": {},
   "source": [
    "### полезный [сборник](https://github.com/github/gitignore) фалов gitignore"
   ]
  },
  {
   "cell_type": "code",
   "execution_count": null,
   "metadata": {
    "collapsed": true
   },
   "outputs": [],
   "source": []
  }
 ],
 "metadata": {
  "kernelspec": {
   "display_name": "Python 3",
   "language": "python",
   "name": "python3"
  },
  "language_info": {
   "codemirror_mode": {
    "name": "ipython",
    "version": 3
   },
   "file_extension": ".py",
   "mimetype": "text/x-python",
   "name": "python",
   "nbconvert_exporter": "python",
   "pygments_lexer": "ipython3",
   "version": "3.6.3"
  }
 },
 "nbformat": 4,
 "nbformat_minor": 2
}
