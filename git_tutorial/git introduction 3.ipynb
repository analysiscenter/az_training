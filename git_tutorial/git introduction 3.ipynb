{
 "cells": [
  {
   "cell_type": "markdown",
   "metadata": {},
   "source": [
    "# Работа с удаленным репозиторием\n",
    "\n",
    "git pull, git push\n",
    "\n",
    "В основном работа происходит в команде, причем удобно хранить рабочую версию проекта на каком-то общем сервере. git предоставляет удобный инстремент для работы с удаленными репозиториями."
   ]
  },
  {
   "cell_type": "markdown",
   "metadata": {},
   "source": [
    "## git remote"
   ]
  },
  {
   "cell_type": "code",
   "execution_count": 3,
   "metadata": {},
   "outputs": [
    {
     "name": "stderr",
     "output_type": "stream",
     "text": [
      "Cloning into 'folder_local'...\n",
      "done.\n"
     ]
    }
   ],
   "source": [
    "!git clone folder folder_local"
   ]
  },
  {
   "cell_type": "code",
   "execution_count": 4,
   "metadata": {},
   "outputs": [],
   "source": [
    "import os\n",
    "os.chdir('folder_local/')"
   ]
  },
  {
   "cell_type": "markdown",
   "metadata": {},
   "source": [
    "Если набрать команду без флагов, то гит покажет, какие удаленные сервера мы сконфигурировали"
   ]
  },
  {
   "cell_type": "code",
   "execution_count": 9,
   "metadata": {},
   "outputs": [
    {
     "name": "stdout",
     "output_type": "stream",
     "text": [
      "origin\n"
     ]
    }
   ],
   "source": [
    "!git remote"
   ]
  },
  {
   "cell_type": "markdown",
   "metadata": {},
   "source": [
    "Посмотрим, что за origin\n",
    "\n",
    "- fetch -- откуда получаем\n",
    "- push -- куда загружаем"
   ]
  },
  {
   "cell_type": "code",
   "execution_count": 11,
   "metadata": {},
   "outputs": [
    {
     "name": "stdout",
     "output_type": "stream",
     "text": [
      "origin\tC:/Users/Roman Khudorozhkov/Documents/az_training/git_tutorial/folder (fetch)\n",
      "origin\tC:/Users/Roman Khudorozhkov/Documents/az_training/git_tutorial/folder (push)\n"
     ]
    }
   ],
   "source": [
    "!git remote -v"
   ]
  },
  {
   "cell_type": "markdown",
   "metadata": {},
   "source": [
    "У репозитория может быть несколько ремотов (что ничему не противоречит)\n",
    "\n",
    "Если хотим добавить remote, пишем \n",
    "\n",
    "$ git remote add remote_name remote_url\n",
    "\n",
    "При клонировании автоматически конфигурируется origin\n",
    "\n",
    "Флаги\n",
    "- -f -- сразу сделать fetch\n",
    "- rename old new -- переименовать remote\n",
    "- rm == remove\n",
    "- show -- информация о последних коммитах"
   ]
  },
  {
   "cell_type": "code",
   "execution_count": 22,
   "metadata": {},
   "outputs": [
    {
     "name": "stdout",
     "output_type": "stream",
     "text": [
      "commit 6414b58fe99aea76e3d2e3b226c6d6cc5c6aab05\n",
      "Author: GregoryIvanov <g.ivanov@analysiscenter.ru>\n",
      "Date:   Wed Nov 29 13:18:14 2017 +0300\n",
      "\n",
      "    add3ed file\n",
      "\n",
      "diff --git a/some_file_1.txt b/some_file_1.txt\n",
      "new file mode 100644\n",
      "index 0000000..17399f9\n",
      "--- /dev/null\n",
      "+++ b/some_file_1.txt\n",
      "@@ -0,0 +1,2 @@\n",
      "+work\n",
      "+hard\n"
     ]
    }
   ],
   "source": [
    "!git show origin"
   ]
  },
  {
   "cell_type": "markdown",
   "metadata": {},
   "source": [
    "## git fetch"
   ]
  },
  {
   "cell_type": "code",
   "execution_count": 12,
   "metadata": {},
   "outputs": [],
   "source": [
    "!git remote add another_remote ../folder"
   ]
  },
  {
   "cell_type": "code",
   "execution_count": null,
   "metadata": {},
   "outputs": [],
   "source": []
  },
  {
   "cell_type": "code",
   "execution_count": null,
   "metadata": {},
   "outputs": [],
   "source": []
  },
  {
   "cell_type": "code",
   "execution_count": null,
   "metadata": {},
   "outputs": [],
   "source": []
  },
  {
   "cell_type": "code",
   "execution_count": null,
   "metadata": {},
   "outputs": [],
   "source": []
  },
  {
   "cell_type": "code",
   "execution_count": null,
   "metadata": {},
   "outputs": [],
   "source": []
  },
  {
   "cell_type": "markdown",
   "metadata": {},
   "source": [
    "# Кастомизация git\n",
    "\n",
    "\n",
    "\n",
    "Что делать, если хочется красивый вывод diff'a? Или если не хочется, чтобы файлы с логом загружались в репозиторий? Или хочется писать коммитты в любимом редакторе? Здесь речь пойдет о настройке окружения git и кастомизации его поведения."
   ]
  },
  {
   "cell_type": "markdown",
   "metadata": {},
   "source": [
    "## git config\n",
    "\n",
    "Это представляет собой обычный конфигурационный файл, в котором записаны такие вещи, как ваше имя, почта, ваш любимый редактор и тп...\n",
    "\n",
    "Существует три уровня иерархии:\n",
    "- /etc/gitconfig -- конфиг для всех пользователей локальной машины (для windows этот файл лежит в C:\\ProgramData\\Git\\config)\n",
    "- ~/.gitconfig -- настройки для специфичного пользователя (для windows это C:\\Users\\$USER/.gitconfig)\n",
    "- .git/config -- специфичные настройки для проекта\n",
    "\n",
    "Переменные из нижнего уровня имеют высший приоритет перед таковыми из верхнего"
   ]
  },
  {
   "cell_type": "markdown",
   "metadata": {},
   "source": [
    "Получим текущее состояние конфига:"
   ]
  },
  {
   "cell_type": "code",
   "execution_count": 1,
   "metadata": {
    "scrolled": true
   },
   "outputs": [
    {
     "name": "stdout",
     "output_type": "stream",
     "text": [
      "core.symlinks=true\n",
      "core.autocrlf=input\n",
      "core.fscache=true\n",
      "color.diff=auto\n",
      "color.status=auto\n",
      "color.branch=auto\n",
      "color.interactive=true\n",
      "help.format=html\n",
      "rebase.autosquash=true\n",
      "http.sslcainfo=C:/Program Files/Git/mingw64/ssl/certs/ca-bundle.crt\n",
      "http.sslbackend=openssl\n",
      "diff.astextplain.textconv=astextplain\n",
      "filter.lfs.clean=git-lfs clean -- %f\n",
      "filter.lfs.smudge=git-lfs smudge -- %f\n",
      "filter.lfs.process=git-lfs filter-process\n",
      "filter.lfs.required=true\n",
      "credential.helper=manager\n",
      "user.email=g.ivanov@analysiscenter.ru\n",
      "user.name=GregoryIvanov\n",
      "user.nick=itisgrisha\n",
      "core.repositoryformatversion=0\n",
      "core.filemode=false\n",
      "core.bare=false\n",
      "core.logallrefupdates=true\n",
      "core.ignorecase=true\n",
      "core.editor=C:\\Program Files\\Sublime Text 3\\subl.exe\n",
      "remote.origin.url=https://github.com/analysiscenter/az_training.git\n",
      "remote.origin.fetch=+refs/heads/*:refs/remotes/origin/*\n",
      "branch.master.remote=origin\n",
      "branch.master.merge=refs/heads/master\n",
      "submodule.dataset.url=https://github.com/analysiscenter/dataset.git\n",
      "submodule.dataset.active=true\n",
      "user.nick=newgrisha\n",
      "alias.st=status -s\n",
      "alias.a=add --all\n"
     ]
    }
   ],
   "source": [
    "!git config --list"
   ]
  },
  {
   "cell_type": "markdown",
   "metadata": {},
   "source": [
    "#### Чтобы посмотреть конфиг для системы, юзера, репозитория, можно воспользоваться флагами --system, --global, --file path (или --local, что стоит по дефолту) соответственно"
   ]
  },
  {
   "cell_type": "code",
   "execution_count": 10,
   "metadata": {
    "scrolled": true
   },
   "outputs": [
    {
     "name": "stdout",
     "output_type": "stream",
     "text": [
      "http.sslcainfo=C:/Program Files/Git/mingw64/ssl/certs/ca-bundle.crt\n",
      "http.sslbackend=openssl\n",
      "diff.astextplain.textconv=astextplain\n",
      "filter.lfs.clean=git-lfs clean -- %f\n",
      "filter.lfs.smudge=git-lfs smudge -- %f\n",
      "filter.lfs.process=git-lfs filter-process\n",
      "filter.lfs.required=true\n",
      "credential.helper=manager\n"
     ]
    }
   ],
   "source": [
    "!git config --system --list"
   ]
  },
  {
   "cell_type": "code",
   "execution_count": 3,
   "metadata": {},
   "outputs": [
    {
     "name": "stdout",
     "output_type": "stream",
     "text": [
      "user.email=g.ivanov@analysiscenter.ru\n",
      "user.name=GregoryIvanov\n",
      "user.nick=itisgrisha\n"
     ]
    }
   ],
   "source": [
    "!git config --global --list"
   ]
  },
  {
   "cell_type": "code",
   "execution_count": 4,
   "metadata": {},
   "outputs": [
    {
     "name": "stdout",
     "output_type": "stream",
     "text": [
      "core.repositoryformatversion=0\n",
      "core.filemode=false\n",
      "core.bare=false\n",
      "core.logallrefupdates=true\n",
      "core.ignorecase=true\n",
      "core.editor=C:\\Program Files\\Sublime Text 3\\subl.exe\n",
      "remote.origin.url=https://github.com/analysiscenter/az_training.git\n",
      "remote.origin.fetch=+refs/heads/*:refs/remotes/origin/*\n",
      "branch.master.remote=origin\n",
      "branch.master.merge=refs/heads/master\n",
      "submodule.dataset.url=https://github.com/analysiscenter/dataset.git\n",
      "submodule.dataset.active=true\n",
      "user.nick=newgrisha\n",
      "alias.st=status -s\n",
      "alias.a=add --all\n"
     ]
    }
   ],
   "source": [
    "!git config --file ../.git/config --list"
   ]
  },
  {
   "cell_type": "markdown",
   "metadata": {},
   "source": [
    "#### Что будет, если поставить одну и ту же переменную на разных уровнях:"
   ]
  },
  {
   "cell_type": "code",
   "execution_count": 5,
   "metadata": {},
   "outputs": [],
   "source": [
    "!git config --global user.nick itisgrisha\n",
    "!git config --file ../.git/config user.nick newgrisha"
   ]
  },
  {
   "cell_type": "code",
   "execution_count": 7,
   "metadata": {},
   "outputs": [
    {
     "name": "stdout",
     "output_type": "stream",
     "text": [
      "user.nick=itisgrisha\n",
      "user.nick=newgrisha\n"
     ]
    }
   ],
   "source": [
    "!git config --list | grep -i nick"
   ]
  },
  {
   "cell_type": "markdown",
   "metadata": {},
   "source": [
    "Встречается два раза в списке. А git использует последнее значение переменной:"
   ]
  },
  {
   "cell_type": "code",
   "execution_count": 22,
   "metadata": {},
   "outputs": [
    {
     "name": "stdout",
     "output_type": "stream",
     "text": [
      "newgrisha\n"
     ]
    }
   ],
   "source": [
    "!git config user.nick"
   ]
  },
  {
   "cell_type": "markdown",
   "metadata": {},
   "source": [
    "Если хочется понять, откуда в переменной это значение, можно это спросить у git'a"
   ]
  },
  {
   "cell_type": "code",
   "execution_count": 23,
   "metadata": {},
   "outputs": [
    {
     "name": "stdout",
     "output_type": "stream",
     "text": [
      "file:.git/config\tnewgrisha\n"
     ]
    }
   ],
   "source": [
    "!git config --show-origin user.nick"
   ]
  },
  {
   "cell_type": "markdown",
   "metadata": {},
   "source": [
    "### фишки конфига:\n",
    "\n",
    "#### создание aliases"
   ]
  },
  {
   "cell_type": "code",
   "execution_count": 44,
   "metadata": {},
   "outputs": [],
   "source": [
    "!git config --replace-all alias.a \"add --all\"\n",
    "!git config --replace-all alias.st \"status -s\""
   ]
  },
  {
   "cell_type": "code",
   "execution_count": 45,
   "metadata": {},
   "outputs": [
    {
     "name": "stdout",
     "output_type": "stream",
     "text": [
      "core.repositoryformatversion=0\n",
      "core.filemode=false\n",
      "core.bare=false\n",
      "core.logallrefupdates=true\n",
      "core.ignorecase=true\n",
      "core.editor=C:\\Program Files\\Sublime Text 3\\subl.exe\n",
      "remote.origin.url=https://github.com/analysiscenter/az_training.git\n",
      "remote.origin.fetch=+refs/heads/*:refs/remotes/origin/*\n",
      "branch.master.remote=origin\n",
      "branch.master.merge=refs/heads/master\n",
      "submodule.dataset.url=https://github.com/analysiscenter/dataset.git\n",
      "submodule.dataset.active=true\n",
      "user.nick=newgrisha\n",
      "alias.st=status -s\n",
      "alias.a=add --all\n"
     ]
    }
   ],
   "source": [
    "!git config --local --list"
   ]
  },
  {
   "cell_type": "code",
   "execution_count": 47,
   "metadata": {},
   "outputs": [],
   "source": [
    "!git st"
   ]
  },
  {
   "cell_type": "markdown",
   "metadata": {},
   "source": [
    "#### commit.template -- указываем шаблон для сообщения коммита"
   ]
  },
  {
   "cell_type": "markdown",
   "metadata": {},
   "source": [
    "$ git config --global commit.template path-to-template.txt\n"
   ]
  },
  {
   "cell_type": "markdown",
   "metadata": {},
   "source": [
    "#### в зависимости от ОС могут быть ненужные файлы, специфичные для этой системы. Их можно исключить следующей переменной:"
   ]
  },
  {
   "cell_type": "markdown",
   "metadata": {},
   "source": [
    "$ git config --global core.excludesfile path-to-gitignore.txt "
   ]
  },
  {
   "cell_type": "markdown",
   "metadata": {},
   "source": [
    "### в конфиге можно менять цвет вывода, указывать программку для просмотра diff-ов, и многое другое\n",
    "\n",
    "### полезный файл с конфигом лежит [тут](https://gist.github.com/pksunkara/988716)"
   ]
  },
  {
   "cell_type": "markdown",
   "metadata": {},
   "source": [
    "## gitattributes\n",
    "\n",
    "Иногда некоторые настройки хочется применить только к специфичной папке проекта. Такие настройки называются аттрибутами. Также с ними можно указать, как мерджить определенные типы файлов, как смотреть diff для нетекстовых файлов, или что делать с разными символами переноса каретки\n",
    "\n",
    "Есть две версии конфига:\n",
    "- .gitattributes в рабочей директории -- если нужно шарить между проектами\n",
    "- .git/info/attributes -- если не хотим шарить\n",
    "\n",
    "\n",
    "На самом деле, почти все, что можно делать в аттрибутах, можно запихнуть в конфиг. Но лучше будет, если в конфиг писать общие настройки для пользователя\\проекта, а в аттрибуты -- специфичные настройки (аттрибуты) для определенных файлов."
   ]
  },
  {
   "cell_type": "markdown",
   "metadata": {},
   "source": [
    "Указываем, что файл бинарный:\n",
    "\n",
    "*.foo binary\n",
    "\n",
    "Теперь git не будет пытаться считать дифф между этими файлами, или конвертировать переводы каретки"
   ]
  },
  {
   "cell_type": "code",
   "execution_count": 1,
   "metadata": {},
   "outputs": [
    {
     "name": "stderr",
     "output_type": "stream",
     "text": [
      "warning: LF will be replaced by CRLF in git_tutorial/git introduction 3.ipynb.\n",
      "The file will have its original line endings in your working directory.\n"
     ]
    },
    {
     "name": "stdout",
     "output_type": "stream",
     "text": [
      "[g.ivanov 20630db] added attributes and bar.foo\n",
      " 1 file changed, 37 insertions(+), 22 deletions(-)\n"
     ]
    }
   ],
   "source": [
    "with open('../.gitattributes', 'w') as file:\n",
    "    file.write('*.foo binary\\n')\n",
    "with open('../bar.foo', 'w') as file:\n",
    "    file.write('foo\\n')\n",
    "!git add .\n",
    "!git commit -m \"added attributes and bar.foo\"\n",
    "with open('../bar.foo','a') as file:\n",
    "    file.write('bar\\n')\n"
   ]
  },
  {
   "cell_type": "code",
   "execution_count": 2,
   "metadata": {
    "scrolled": true
   },
   "outputs": [
    {
     "name": "stdout",
     "output_type": "stream",
     "text": [
      "diff --git a/bar.foo b/bar.foo\n",
      "index 3252819..477674a 100644\n",
      "Binary files a/bar.foo and b/bar.foo differ\n"
     ]
    }
   ],
   "source": [
    "!git diff"
   ]
  },
  {
   "cell_type": "markdown",
   "metadata": {},
   "source": [
    "Скажем гиту, чтобы сам решал, что делать с crlf:\n",
    "\n",
    "- \\* text=auto\n",
    "\n",
    "А виндовый файл пусть будет с crlf:\n",
    "\n",
    "- *.some_windows_extension text eol=crlf"
   ]
  },
  {
   "cell_type": "code",
   "execution_count": 3,
   "metadata": {},
   "outputs": [],
   "source": [
    "with open('../.gitattributes', 'a') as file:\n",
    "    file.write('* text=auto\\n')"
   ]
  },
  {
   "cell_type": "markdown",
   "metadata": {},
   "source": [
    "Важно заметить, что фильтры из аттрибутов будут применятся, когда файл чекаутится, а при коммите будут делаться \"обратные\" преобразования"
   ]
  },
  {
   "cell_type": "markdown",
   "metadata": {},
   "source": [
    "Допустим, что мы хотим, чтобы при коммите файл как-то обрабатывался. Пусть у нас есть программка tab2spaces, которая конвертирует табы в пробелы в текстовом файле. Тогда можно сделать такой фильтр:\n",
    "\n",
    ">filter.t2s.clean tab2spaces\n",
    "\n",
    "\n",
    ">filter.t2s.smudge cat\n",
    "\n",
    "t2s -- название фильтра\n",
    "\n",
    "Теперь скажем в аттрибутах, что хотим обрабатывать питоновские файлы перед коммитом:\n",
    "\n",
    ">\\*.py t2s\n",
    "\n",
    "![](https://git-scm.com/book/en/v2/images/smudge.png)\n",
    "\n",
    "\n",
    "### больше про аттрибуты [тут](https://git-scm.com/book/en/v2/Customizing-Git-Git-Attributes#filters_a)"
   ]
  },
  {
   "cell_type": "markdown",
   "metadata": {},
   "source": [
    "## gitignore\n",
    "\n",
    "Файл, в котором указано, какие файлы\\папки нужно игнорировать (логи, мусор и тп).\n",
    "\n",
    "Тут также есть иерархическая структура конфигов:\n",
    "\n",
    "- переменная core.excludesFile\n",
    "> паттерны, которые должны игнорироваться всегда (например, мусор от любимого редактора юзера)\n",
    "- .git/info/exclude\n",
    "> паттерны, специфичные для конкретного репозитория (например, на локальной машине)\n",
    "- .gitignore (лежит в папке проекта вместе с .git)\n",
    "> расшаренные паттерны, которые должны быть доступны всем, кто пользуется репозиторием (копируется с clone)\n",
    "- Паттерны, переданные в команды, которые поддерживают игнорирование файлов\n",
    "\n",
    "\n",
    "### Базовые правила написания фильтров:\n",
    "\n",
    "- пустые строки и те, что начинаются с #, игнорируются (\\#, чтобы включить хеш в паттерн)\n",
    "- хвостовые пробелы игнорирутеся, если только перед ними не ставить \"\\\"\n",
    "- ! -- отрицание фильтра. Однако, нельзя включить файл, который лежит в исключенной директории. И вообще, git вообще не обращает внимания на файли в исключенных директориях, поэтому бессмысленно писать для них фильтры. Если очень хочется, то можно написать:"
   ]
  },
  {
   "cell_type": "code",
   "execution_count": 1,
   "metadata": {},
   "outputs": [],
   "source": [
    "#  !/foo\n",
    "#  /foo/*\n",
    "#  !/foo/bar"
   ]
  },
  {
   "cell_type": "markdown",
   "metadata": {},
   "source": [
    "- foo/ -- директория foo (/bar/foo все еще включена!)\n",
    "- \\*\\*/foo/ -- теперь foo/ игнорируется везде\n",
    "- Если в паттерне нет слеша, то git будет игнорировать эти файлы везде (т е foo == \\*\\*/foo)\n",
    "- foo/** -- все внутри foo\n",
    "- a/\\*\\*/b -- любой уровень между a и b"
   ]
  },
  {
   "cell_type": "markdown",
   "metadata": {},
   "source": [
    "### полезный [сборник](https://github.com/github/gitignore) фалов gitignore"
   ]
  },
  {
   "cell_type": "code",
   "execution_count": null,
   "metadata": {},
   "outputs": [],
   "source": []
  }
 ],
 "metadata": {
  "kernelspec": {
   "display_name": "Python 3",
   "language": "python",
   "name": "python3"
  },
  "language_info": {
   "codemirror_mode": {
    "name": "ipython",
    "version": 3
   },
   "file_extension": ".py",
   "mimetype": "text/x-python",
   "name": "python",
   "nbconvert_exporter": "python",
   "pygments_lexer": "ipython3",
   "version": "3.6.3"
  }
 },
 "nbformat": 4,
 "nbformat_minor": 2
}
