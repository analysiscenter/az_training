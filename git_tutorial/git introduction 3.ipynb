{
 "cells": [
  {
   "cell_type": "markdown",
   "metadata": {},
   "source": [
    "# Работа с удаленным репозиторием\n",
    "\n",
    "git remote, git fetch, git pull, git push\n",
    "\n",
    "В основном работа происходит в команде, причем удобно хранить рабочую версию проекта на каком-то общем сервере. git предоставляет удобный инстремент для работы с удаленными репозиториями."
   ]
  },
  {
   "cell_type": "markdown",
   "metadata": {},
   "source": [
    "# Кастомизация git\n",
    "\n",
    "\n",
    "\n",
    "Что делать, если хочется красивый вывод diff'a? Или если не хочется, чтобы файлы с логом загружались в репозиторий? Или хочется писать коммитты в любимом редакторе? Здесь речь пойдет о настройке окружения git и кастомизации его поведения."
   ]
  },
  {
   "cell_type": "markdown",
   "metadata": {},
   "source": [
    "## git config\n",
    "\n",
    "Это представляет собой обычный конфигурационный файл, в котором записаны такие вещи, как ваше имя, почта, ваш любимый редактор и тп...\n",
    "\n",
    "Существует три уровня иерархии:\n",
    "- /etc/gitconfig -- конфиг для всех пользователей локальной машины (для windows этот файл лежит в C:\\ProgramData\\Git\\config)\n",
    "- ~/.gitconfig -- настройки для специфичного пользователя (для windows это C:\\Users\\$USER/.gitconfig)\n",
    "- .git/config -- специфичные настройки для проекта\n",
    "\n",
    "Переменные из нижнего уровня имеют высший приоритет перед таковыми из верхнего"
   ]
  },
  {
   "cell_type": "markdown",
   "metadata": {},
   "source": [
    "Получим текущее состояние конфига:"
   ]
  },
  {
   "cell_type": "code",
   "execution_count": 1,
   "metadata": {
    "scrolled": true
   },
   "outputs": [
    {
     "name": "stdout",
     "output_type": "stream",
     "text": [
      "core.symlinks=true\n",
      "core.autocrlf=input\n",
      "core.fscache=true\n",
      "color.diff=auto\n",
      "color.status=auto\n",
      "color.branch=auto\n",
      "color.interactive=true\n",
      "help.format=html\n",
      "rebase.autosquash=true\n",
      "http.sslcainfo=C:/Program Files/Git/mingw64/ssl/certs/ca-bundle.crt\n",
      "http.sslbackend=openssl\n",
      "diff.astextplain.textconv=astextplain\n",
      "filter.lfs.clean=git-lfs clean -- %f\n",
      "filter.lfs.smudge=git-lfs smudge -- %f\n",
      "filter.lfs.process=git-lfs filter-process\n",
      "filter.lfs.required=true\n",
      "credential.helper=manager\n",
      "user.email=g.ivanov@analysiscenter.ru\n",
      "user.name=GregoryIvanov\n",
      "user.nick=itisgrisha\n",
      "core.repositoryformatversion=0\n",
      "core.filemode=false\n",
      "core.bare=false\n",
      "core.logallrefupdates=true\n",
      "core.ignorecase=true\n",
      "core.editor=C:\\Program Files\\Sublime Text 3\\subl.exe\n",
      "remote.origin.url=https://github.com/analysiscenter/az_training.git\n",
      "remote.origin.fetch=+refs/heads/*:refs/remotes/origin/*\n",
      "branch.master.remote=origin\n",
      "branch.master.merge=refs/heads/master\n",
      "submodule.dataset.url=https://github.com/analysiscenter/dataset.git\n",
      "submodule.dataset.active=true\n",
      "user.nick=newgrisha\n",
      "alias.st=status -s\n",
      "alias.a=add --all\n"
     ]
    }
   ],
   "source": [
    "!git config --list"
   ]
  },
  {
   "cell_type": "markdown",
   "metadata": {},
   "source": [
    "#### Чтобы посмотреть конфиг для системы, юзера, репозитория, можно воспользоваться флагами --system, --global, --file path (или --local, что стоит по дефолту) соответственно"
   ]
  },
  {
   "cell_type": "code",
   "execution_count": 10,
   "metadata": {
    "scrolled": true
   },
   "outputs": [
    {
     "name": "stdout",
     "output_type": "stream",
     "text": [
      "http.sslcainfo=C:/Program Files/Git/mingw64/ssl/certs/ca-bundle.crt\n",
      "http.sslbackend=openssl\n",
      "diff.astextplain.textconv=astextplain\n",
      "filter.lfs.clean=git-lfs clean -- %f\n",
      "filter.lfs.smudge=git-lfs smudge -- %f\n",
      "filter.lfs.process=git-lfs filter-process\n",
      "filter.lfs.required=true\n",
      "credential.helper=manager\n"
     ]
    }
   ],
   "source": [
    "!git config --system --list"
   ]
  },
  {
   "cell_type": "code",
   "execution_count": 3,
   "metadata": {},
   "outputs": [
    {
     "name": "stdout",
     "output_type": "stream",
     "text": [
      "user.email=g.ivanov@analysiscenter.ru\n",
      "user.name=GregoryIvanov\n",
      "user.nick=itisgrisha\n"
     ]
    }
   ],
   "source": [
    "!git config --global --list"
   ]
  },
  {
   "cell_type": "code",
   "execution_count": 4,
   "metadata": {},
   "outputs": [
    {
     "name": "stdout",
     "output_type": "stream",
     "text": [
      "core.repositoryformatversion=0\n",
      "core.filemode=false\n",
      "core.bare=false\n",
      "core.logallrefupdates=true\n",
      "core.ignorecase=true\n",
      "core.editor=C:\\Program Files\\Sublime Text 3\\subl.exe\n",
      "remote.origin.url=https://github.com/analysiscenter/az_training.git\n",
      "remote.origin.fetch=+refs/heads/*:refs/remotes/origin/*\n",
      "branch.master.remote=origin\n",
      "branch.master.merge=refs/heads/master\n",
      "submodule.dataset.url=https://github.com/analysiscenter/dataset.git\n",
      "submodule.dataset.active=true\n",
      "user.nick=newgrisha\n",
      "alias.st=status -s\n",
      "alias.a=add --all\n"
     ]
    }
   ],
   "source": [
    "!git config --file ../.git/config --list"
   ]
  },
  {
   "cell_type": "markdown",
   "metadata": {},
   "source": [
    "#### Что будет, если поставить одну и ту же переменную на разных уровнях:"
   ]
  },
  {
   "cell_type": "code",
   "execution_count": 5,
   "metadata": {},
   "outputs": [],
   "source": [
    "!git config --global user.nick itisgrisha\n",
    "!git config --file ../.git/config user.nick newgrisha"
   ]
  },
  {
   "cell_type": "code",
   "execution_count": 7,
   "metadata": {},
   "outputs": [
    {
     "name": "stdout",
     "output_type": "stream",
     "text": [
      "user.nick=itisgrisha\n",
      "user.nick=newgrisha\n"
     ]
    }
   ],
   "source": [
    "!git config --list | grep -i nick"
   ]
  },
  {
   "cell_type": "markdown",
   "metadata": {},
   "source": [
    "Встречается два раза в списке. А git использует последнее значение переменной:"
   ]
  },
  {
   "cell_type": "code",
   "execution_count": 22,
   "metadata": {},
   "outputs": [
    {
     "name": "stdout",
     "output_type": "stream",
     "text": [
      "newgrisha\n"
     ]
    }
   ],
   "source": [
    "!git config user.nick"
   ]
  },
  {
   "cell_type": "markdown",
   "metadata": {},
   "source": [
    "Если хочется понять, откуда в переменной это значение, можно это спросить у git'a"
   ]
  },
  {
   "cell_type": "code",
   "execution_count": 23,
   "metadata": {},
   "outputs": [
    {
     "name": "stdout",
     "output_type": "stream",
     "text": [
      "file:.git/config\tnewgrisha\n"
     ]
    }
   ],
   "source": [
    "!git config --show-origin user.nick"
   ]
  },
  {
   "cell_type": "markdown",
   "metadata": {},
   "source": [
    "### фишки конфига:\n",
    "\n",
    "#### создание aliases (важны двойные кавычки!)"
   ]
  },
  {
   "cell_type": "code",
   "execution_count": 44,
   "metadata": {},
   "outputs": [],
   "source": [
    "!git  config --replace-all alias.a \"add --all\"\n",
    "!git config --replace-all alias.st \"status -s\""
   ]
  },
  {
   "cell_type": "code",
   "execution_count": 45,
   "metadata": {},
   "outputs": [
    {
     "name": "stdout",
     "output_type": "stream",
     "text": [
      "core.repositoryformatversion=0\n",
      "core.filemode=false\n",
      "core.bare=false\n",
      "core.logallrefupdates=true\n",
      "core.ignorecase=true\n",
      "core.editor=C:\\Program Files\\Sublime Text 3\\subl.exe\n",
      "remote.origin.url=https://github.com/analysiscenter/az_training.git\n",
      "remote.origin.fetch=+refs/heads/*:refs/remotes/origin/*\n",
      "branch.master.remote=origin\n",
      "branch.master.merge=refs/heads/master\n",
      "submodule.dataset.url=https://github.com/analysiscenter/dataset.git\n",
      "submodule.dataset.active=true\n",
      "user.nick=newgrisha\n",
      "alias.st=status -s\n",
      "alias.a=add --all\n"
     ]
    }
   ],
   "source": [
    "!git config --local --list"
   ]
  },
  {
   "cell_type": "code",
   "execution_count": 47,
   "metadata": {},
   "outputs": [],
   "source": [
    "!git st"
   ]
  },
  {
   "cell_type": "markdown",
   "metadata": {},
   "source": [
    "#### commit.template -- указываем шаблон для сообщения коммита"
   ]
  },
  {
   "cell_type": "markdown",
   "metadata": {},
   "source": [
    "$ git config --global commit.template path-to-template.txt\n"
   ]
  },
  {
   "cell_type": "markdown",
   "metadata": {},
   "source": [
    "#### в зависимости от ОС могут быть ненужные файлы, специфичные для этой системы. Их можно исключить следующей переменной:"
   ]
  },
  {
   "cell_type": "markdown",
   "metadata": {},
   "source": [
    "$ git config --global core.excludesfile path-to-gitignore.txt "
   ]
  },
  {
   "cell_type": "markdown",
   "metadata": {},
   "source": [
    "### в конфиге можно менять цвет вывода, указывать программку для просмотра diff-ов, и многое другое\n",
    "\n",
    "### полезный файл с конфигом лежит [тут](https://gist.github.com/pksunkara/988716)"
   ]
  },
  {
   "cell_type": "markdown",
   "metadata": {},
   "source": [
    "## gitattributes\n",
    "\n",
    "Иногда некоторые настройки хочется применить только к специфичной папке проекта. Такие настройки называются аттрибутами. Также с ними можно указать, как мерджить определенные типы файлов, как смотреть diff для нетекстовых файлов\n",
    "\n",
    "Есть две версии конфига:\n",
    "- .gitattributes в рабочей директории -- если нужно шарить между проектами\n",
    "- .git/info/attributes -- если не хотим шарить\n",
    "\n",
    "\n"
   ]
  },
  {
   "cell_type": "markdown",
   "metadata": {},
   "source": [
    "Указываем, что файл бинарный:\n",
    "\n",
    "*.json binary\n",
    "\n",
    "Теперь git не будет пытаться считать дифф между этими файлами, или конвертировать переводы каретки"
   ]
  },
  {
   "cell_type": "code",
   "execution_count": null,
   "metadata": {},
   "outputs": [],
   "source": []
  },
  {
   "cell_type": "markdown",
   "metadata": {},
   "source": []
  },
  {
   "cell_type": "markdown",
   "metadata": {},
   "source": [
    "## gitignore\n",
    "\n",
    "Файл, в котором указано, какие файлы\\папки нужно игнорировать (логи, мусор и тп).\n",
    "\n",
    "Тут также есть иерархическая структура конфигов:\n",
    "\n",
    "- переменная core.excludesFile\n",
    "> паттерны, которые должны игнорироваться всегда (например, мусор от любимого редактора юзера)\n",
    "- .git/info/exclude\n",
    "> паттерны, специфичные для конкретного репозитория (например, на локальной машине)\n",
    "- .gitignore (лежит в папке проекта вместе с .git)\n",
    "> расшаренные паттерны, которые должны быть доступны всем, кто пользуется репозиторием (копируется с clone)\n",
    "- Паттерны, переданные в команды, которые поддерживают игнорирование файлов"
   ]
  },
  {
   "cell_type": "markdown",
   "metadata": {},
   "source": [
    "### полезный [сборник](https://github.com/github/gitignore) фалов gitignore"
   ]
  },
  {
   "cell_type": "code",
   "execution_count": null,
   "metadata": {},
   "outputs": [],
   "source": []
  }
 ],
 "metadata": {
  "kernelspec": {
   "display_name": "Python 3",
   "language": "python",
   "name": "python3"
  },
  "language_info": {
   "codemirror_mode": {
    "name": "ipython",
    "version": 3
   },
   "file_extension": ".py",
   "mimetype": "text/x-python",
   "name": "python",
   "nbconvert_exporter": "python",
   "pygments_lexer": "ipython3",
   "version": "3.6.3"
  }
 },
 "nbformat": 4,
 "nbformat_minor": 2
}
