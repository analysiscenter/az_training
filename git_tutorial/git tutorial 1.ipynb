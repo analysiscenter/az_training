{
 "cells": [
  {
   "cell_type": "markdown",
   "metadata": {},
   "source": [
    "#  Введение в git\n",
    "\n",
    "\n",
    "Что происходит в наш с вами типичный рабочий день:\n",
    "\n",
    "- Добавление новых фич\n",
    "> Как это сделать? Можно изменять непосредственно рабочий проект, набажить, забыть, как было раньше, все испортить. Можно скопировать проект (не забыть осознанно назвать папку), добавить фичу в копии, потом мучительно \"слиять\", потому что кто-то уже изменил рабочий проект, а это затронуло вещи, используемые новой фичей. Каша, неразбериха.\n",
    "- Фикс багов\n",
    "> Копируем проект, фиксим баг, сливаем обратно. Все это с теми же проблемами.\n",
    "- Развитие альтернативных версий проекта\n",
    "> Копируем проект, долго разрабатываем. При слиянии еще больше кошмаров.\n",
    "\n",
    "\n",
    "Все эти кейсы становятся много менее кошмарными при использовании git. В этом ноутбуке поговим о его базовой структуре и командах.\n",
    "\n",
    "\n",
    "\n",
    "## Базовое устройство\n",
    "\n",
    "Здесь будет описано устройство репозитория, а именно что, где и как все хранится, это будет нужно для понимания, что на самом деле делают все команды.\n",
    "\n",
    "#### На каждой машине хранится копия всего репозитория.\n",
    "\n",
    "\n",
    "#### В самом репозитории хранятся снапшоты -- \"слепки\" (сжатые копии) всей файловой системы в каком-то состоянии проекта.\n",
    "\n",
    "- В каждом снапшоте хранятся копии(!) рабочей директории (а не diff-ы) \n",
    "- Если в новом снапшоте файл остался неизменным, то будет хранится ссылка на файл в предыдущем слепке.\n",
    "\n",
    "![snapshots](https://git-scm.com/book/en/v2/images/snapshots.png)\n",
    "\n",
    "#### Снапшоты индексируются коммитами\n",
    "\n",
    "- Коммит - объект, содержащий ссылку на слепок, информацию об авторе коммита, комментарий, а также ссылки на предыдущий коммит (или несколько ссылок, если этот коммит -- результат слияния веток).\n",
    "\n",
    "![commits_snapshots](https://git-scm.com/book/en/v2/images/commits-and-parents.png)\n",
    "\n",
    "\n",
    "#### Ветка -- это указатель на коммит.\n",
    "\n",
    "- На машине она представляет собой лишь файл, содержащий чек-сумму коммита\n",
    "- На текущую (рабочую) ветку указывает указатель HEAD\n",
    "- Переключение между ветками пердставляет собой просто перенос указателя.\n",
    "\n",
    "![branch](https://git-scm.com/book/en/v2/images/advance-master.png)\n",
    "\n",
    "---\n",
    "\n",
    "## Основные принципы\n",
    "\n",
    "Осознанавание базовых принципов работы с файлами проекта, отслеживаемого git'ом, позволит избежать большинства ошибок и сэкономит много времени.\n",
    "\n",
    "\n",
    "#### Файлы в репозитории могут находиться в трех различных состояниях: commited, modified, staged.\n",
    "\n",
    "- Commited - файлы сохранены в локальной БД\n",
    "- Modified - файлы изменены, но изменения не внесены в локальную БД\n",
    "- Staged - файлы помечены, будут включены в следующий коммит\n",
    "\n",
    "\n",
    "\n",
    "#### Соответственно, в гите есть три разных \"пространства\":  repository, working directory, staging area \n",
    " \n",
    "- Repository -- Хранятся метаданные и БД репозитория.\n",
    "- Working directory -- локальная копия рабочей версии проекта\n",
    "- Staging area (или index) -- файлы, которые войдут в следующий коммит\n",
    "\n",
    "![states](https://git-scm.com/book/en/v2/images/areas.png)\n",
    "\n",
    "#### Рабочий процесс\n",
    "\n",
    "\n",
    "- Меняем файлы в working directory\n",
    "- Указываем в staging area, какие именно изменения будут учтены при следующем коммите\n",
    "- Делаем коммит (записываем снапшот в БД и создаем коммит-объект)\n",
    "\n",
    "![](https://git-scm.com/book/en/v2/images/lifecycle.png)\n",
    "\n",
    "---\n"
   ]
  },
  {
   "cell_type": "markdown",
   "metadata": {},
   "source": [
    "# Базовые команды"
   ]
  },
  {
   "cell_type": "markdown",
   "metadata": {},
   "source": [
    "\n",
    "## Создание репозитория\n"
   ]
  },
  {
   "cell_type": "markdown",
   "metadata": {},
   "source": [
    "\n",
    "\n",
    "\n",
    "### Создание локального репозитория\n",
    "\n",
    "#### git init\n",
    "\n",
    "git init folder\n",
    "\n",
    "Внутри folder создается папка .git -- сам репозиторий."
   ]
  },
  {
   "cell_type": "code",
   "execution_count": 1,
   "metadata": {},
   "outputs": [
    {
     "name": "stdout",
     "output_type": "stream",
     "text": [
      "Initialized empty Git repository in C:/Users/Roman Khudorozhkov/Documents/az_training/git_tutorial/folder/.git/\n",
      " Volume in drive C is OS\n",
      " Volume Serial Number is 2CFE-F62B\n",
      "\n",
      " Directory of C:\\Users\\Roman Khudorozhkov\\Documents\\az_training\\git_tutorial\\folder\\.git\n",
      "\n",
      "28.11.2017  15:31               112 config\n",
      "28.11.2017  15:31                73 description\n",
      "28.11.2017  15:31                23 HEAD\n",
      "28.11.2017  15:31    <DIR>          hooks\n",
      "28.11.2017  15:31    <DIR>          info\n",
      "28.11.2017  15:31    <DIR>          objects\n",
      "28.11.2017  15:31    <DIR>          refs\n",
      "               3 File(s)            208 bytes\n",
      "               4 Dir(s)  138Â 259Â 832Â 832 bytes free\n"
     ]
    }
   ],
   "source": [
    "!if not exist folder mkdir folder\n",
    "!git init folder\n",
    "!dir folder\\.git"
   ]
  },
  {
   "cell_type": "markdown",
   "metadata": {},
   "source": [
    "Указатель HEAD:"
   ]
  },
  {
   "cell_type": "code",
   "execution_count": 2,
   "metadata": {},
   "outputs": [
    {
     "name": "stdout",
     "output_type": "stream",
     "text": [
      "ref: refs/heads/master\n"
     ]
    }
   ],
   "source": [
    "!type folder\\.git\\HEAD"
   ]
  },
  {
   "cell_type": "markdown",
   "metadata": {},
   "source": [
    "\n",
    "### Клонирование\n",
    "\n",
    "#### git clone\n",
    "\n",
    "git clone url folder -- клонирует репозиторий по адресу url в folder, делает чекаут активной ветки проекта."
   ]
  },
  {
   "cell_type": "code",
   "execution_count": 3,
   "metadata": {},
   "outputs": [
    {
     "name": "stderr",
     "output_type": "stream",
     "text": [
      "Cloning into 'folder_clone'...\n",
      "warning: You appear to have cloned an empty repository.\n",
      "done.\n"
     ]
    }
   ],
   "source": [
    "!git clone folder folder_clone"
   ]
  },
  {
   "cell_type": "markdown",
   "metadata": {},
   "source": [
    "Флаги:\n",
    "- -n == --no-checkout -- никуда не ставить HEAD (не делать чекаутов)\n",
    "- -b == --branch name -- сделать чекаут ветки name"
   ]
  },
  {
   "cell_type": "markdown",
   "metadata": {},
   "source": [
    "## Работа с репозиторием\n",
    "\n",
    "### Работа с локальной копией\n",
    "\n",
    "\n",
    "\n",
    "\n",
    "\n"
   ]
  },
  {
   "cell_type": "code",
   "execution_count": 3,
   "metadata": {},
   "outputs": [],
   "source": [
    "import os\n",
    "os.chdir('folder')"
   ]
  },
  {
   "cell_type": "markdown",
   "metadata": {},
   "source": [
    "## git status\n",
    "\n",
    "узнать текущий статус репозитория"
   ]
  },
  {
   "cell_type": "code",
   "execution_count": 4,
   "metadata": {},
   "outputs": [
    {
     "name": "stdout",
     "output_type": "stream",
     "text": [
      "On branch master\n",
      "\n",
      "No commits yet\n",
      "\n",
      "nothing to commit (create/copy files and use \"git add\" to track)\n"
     ]
    }
   ],
   "source": [
    "!git status"
   ]
  },
  {
   "cell_type": "markdown",
   "metadata": {},
   "source": [
    "Флаги:\n",
    "- -s == --short короткий вывод (о нем позднее)\n",
    "- --porcelain -- вывод, удобный для парсинга скриптами\n",
    "- --long -- длинный вывод (включен по дефолту) \n",
    "- -u == --untracked mode -- как показывать неотслеживаемые файлы (no - не показывать)"
   ]
  },
  {
   "cell_type": "markdown",
   "metadata": {},
   "source": [
    "Сделаем видимость работы...."
   ]
  },
  {
   "cell_type": "code",
   "execution_count": 5,
   "metadata": {},
   "outputs": [],
   "source": [
    "with open('some_file.txt', 'w') as file:\n",
    "    file.writelines(['work\\n','hard\\n'])"
   ]
  },
  {
   "cell_type": "code",
   "execution_count": 6,
   "metadata": {},
   "outputs": [
    {
     "name": "stdout",
     "output_type": "stream",
     "text": [
      "On branch master\n",
      "\n",
      "No commits yet\n",
      "\n",
      "Untracked files:\n",
      "  (use \"git add <file>...\" to include in what will be committed)\n",
      "\n",
      "\tsome_file.txt\n",
      "\n",
      "nothing added to commit but untracked files present (use \"git add\" to track)\n"
     ]
    }
   ],
   "source": [
    "!git status"
   ]
  },
  {
   "cell_type": "code",
   "execution_count": 7,
   "metadata": {},
   "outputs": [
    {
     "name": "stdout",
     "output_type": "stream",
     "text": [
      "On branch master\n",
      "\n",
      "No commits yet\n",
      "\n",
      "nothing to commit (create/copy files and use \"git add\" to track)\n"
     ]
    }
   ],
   "source": [
    "!git status -u no"
   ]
  },
  {
   "cell_type": "code",
   "execution_count": 8,
   "metadata": {},
   "outputs": [
    {
     "name": "stdout",
     "output_type": "stream",
     "text": [
      "?? some_file.txt\n"
     ]
    }
   ],
   "source": [
    "!git status -s"
   ]
  },
  {
   "cell_type": "code",
   "execution_count": 9,
   "metadata": {},
   "outputs": [
    {
     "name": "stdout",
     "output_type": "stream",
     "text": [
      "?? some_file.txt\n"
     ]
    }
   ],
   "source": [
    "!git status --porcelain"
   ]
  },
  {
   "cell_type": "markdown",
   "metadata": {},
   "source": [
    "В чем разница между двумя последними флагами? Ни в чем, но вывод последней не зависит от настроек пользователя и версий git"
   ]
  },
  {
   "cell_type": "markdown",
   "metadata": {},
   "source": [
    "## git add\n",
    "\n",
    "Хотим включить some_file в следующий коммит. git советует воспользоваться add:"
   ]
  },
  {
   "cell_type": "code",
   "execution_count": 10,
   "metadata": {},
   "outputs": [
    {
     "name": "stdout",
     "output_type": "stream",
     "text": [
      "On branch master\n",
      "\n",
      "No commits yet\n",
      "\n",
      "Untracked files:\n",
      "  (use \"git add <file>...\" to include in what will be committed)\n",
      "\n",
      "\tsome_file.txt\n",
      "\n",
      "nothing added to commit but untracked files present (use \"git add\" to track)\n"
     ]
    }
   ],
   "source": [
    "!git status"
   ]
  },
  {
   "cell_type": "markdown",
   "metadata": {},
   "source": [
    "#### Если только хотим посмотреть на то, что добавим, то сделаем с флагом --dry-run == -n:"
   ]
  },
  {
   "cell_type": "code",
   "execution_count": 11,
   "metadata": {},
   "outputs": [
    {
     "name": "stdout",
     "output_type": "stream",
     "text": [
      "add 'some_file.txt'\n"
     ]
    },
    {
     "name": "stderr",
     "output_type": "stream",
     "text": [
      "warning: CRLF will be replaced by LF in some_file.txt.\n",
      "The file will have its original line endings in your working directory.\n"
     ]
    }
   ],
   "source": [
    "!git add -n some_file.txt"
   ]
  },
  {
   "cell_type": "code",
   "execution_count": 12,
   "metadata": {},
   "outputs": [
    {
     "name": "stderr",
     "output_type": "stream",
     "text": [
      "warning: CRLF will be replaced by LF in some_file.txt.\n",
      "The file will have its original line endings in your working directory.\n"
     ]
    }
   ],
   "source": [
    "!git add some_file.txt"
   ]
  },
  {
   "cell_type": "code",
   "execution_count": 13,
   "metadata": {},
   "outputs": [
    {
     "name": "stdout",
     "output_type": "stream",
     "text": [
      "On branch master\n",
      "\n",
      "No commits yet\n",
      "\n",
      "Changes to be committed:\n",
      "  (use \"git rm --cached <file>...\" to unstage)\n",
      "\n",
      "\tnew file:   some_file.txt\n",
      "\n"
     ]
    }
   ],
   "source": [
    "!git status "
   ]
  },
  {
   "cell_type": "code",
   "execution_count": 14,
   "metadata": {},
   "outputs": [
    {
     "name": "stdout",
     "output_type": "stream",
     "text": [
      "A  some_file.txt\n"
     ]
    }
   ],
   "source": [
    "!git status -s"
   ]
  },
  {
   "cell_type": "markdown",
   "metadata": {},
   "source": [
    "Теперь some_file находится в состоянии staged и находится в индексе (index, staging area)\n",
    "\n",
    "Что будет, если мы опять изменим файл?"
   ]
  },
  {
   "cell_type": "code",
   "execution_count": 15,
   "metadata": {},
   "outputs": [],
   "source": [
    "with open('some_file.txt', 'a') as file:\n",
    "    file.write('work harder! \\n')"
   ]
  },
  {
   "cell_type": "code",
   "execution_count": 16,
   "metadata": {},
   "outputs": [
    {
     "name": "stdout",
     "output_type": "stream",
     "text": [
      "On branch master\n",
      "\n",
      "No commits yet\n",
      "\n",
      "Changes to be committed:\n",
      "  (use \"git rm --cached <file>...\" to unstage)\n",
      "\n",
      "\tnew file:   some_file.txt\n",
      "\n",
      "Changes not staged for commit:\n",
      "  (use \"git add <file>...\" to update what will be committed)\n",
      "  (use \"git checkout -- <file>...\" to discard changes in working directory)\n",
      "\n",
      "\tmodified:   some_file.txt\n",
      "\n"
     ]
    }
   ],
   "source": [
    "!git status"
   ]
  },
  {
   "cell_type": "code",
   "execution_count": 17,
   "metadata": {},
   "outputs": [
    {
     "name": "stdout",
     "output_type": "stream",
     "text": [
      "AM some_file.txt\n"
     ]
    }
   ],
   "source": [
    "!git status -s"
   ]
  },
  {
   "cell_type": "markdown",
   "metadata": {},
   "source": [
    "Обратите внимание, что в следующий коммит пойдет только первая версия файла! Заодно разберемся с флагом -s: неотслеживаемые файлы обозначены ??. Левая колонка отвечает за staging area, правая -- за working tree. А == added, M == modified."
   ]
  },
  {
   "cell_type": "code",
   "execution_count": 18,
   "metadata": {},
   "outputs": [
    {
     "name": "stderr",
     "output_type": "stream",
     "text": [
      "warning: CRLF will be replaced by LF in some_file.txt.\n",
      "The file will have its original line endings in your working directory.\n"
     ]
    }
   ],
   "source": [
    "!git add some_file.txt"
   ]
  },
  {
   "cell_type": "code",
   "execution_count": 19,
   "metadata": {},
   "outputs": [
    {
     "name": "stdout",
     "output_type": "stream",
     "text": [
      "On branch master\n",
      "\n",
      "No commits yet\n",
      "\n",
      "Changes to be committed:\n",
      "  (use \"git rm --cached <file>...\" to unstage)\n",
      "\n",
      "\tnew file:   some_file.txt\n",
      "\n"
     ]
    }
   ],
   "source": [
    "!git status"
   ]
  },
  {
   "cell_type": "code",
   "execution_count": 20,
   "metadata": {},
   "outputs": [
    {
     "name": "stdout",
     "output_type": "stream",
     "text": [
      "A  some_file.txt\n"
     ]
    }
   ],
   "source": [
    "!git status -s"
   ]
  },
  {
   "cell_type": "markdown",
   "metadata": {},
   "source": [
    "Теперь в коммит пойдет последняя версия файла"
   ]
  },
  {
   "cell_type": "markdown",
   "metadata": {},
   "source": [
    "## git commit\n",
    "\n",
    "Теперь хотим записать изменения в репозиторий. Для этого нужно сделать коммит:"
   ]
  },
  {
   "cell_type": "code",
   "execution_count": 21,
   "metadata": {},
   "outputs": [],
   "source": [
    "from subprocess import call\n",
    "call([\"git\", \"commit\", '-m', 'added some file']);"
   ]
  },
  {
   "cell_type": "code",
   "execution_count": 22,
   "metadata": {},
   "outputs": [
    {
     "name": "stdout",
     "output_type": "stream",
     "text": [
      "On branch master\n",
      "nothing to commit, working tree clean\n"
     ]
    }
   ],
   "source": [
    "!git status"
   ]
  },
  {
   "cell_type": "markdown",
   "metadata": {},
   "source": [
    "#### Писать add, а потом commit иногда бессмысленно, первый этап можно пропустить:"
   ]
  },
  {
   "cell_type": "code",
   "execution_count": 23,
   "metadata": {},
   "outputs": [],
   "source": [
    "with open('some_file.txt', 'a') as file:\n",
    "    file.write('i\\'m tired')"
   ]
  },
  {
   "cell_type": "code",
   "execution_count": 24,
   "metadata": {},
   "outputs": [
    {
     "name": "stdout",
     "output_type": "stream",
     "text": [
      " M some_file.txt\n"
     ]
    }
   ],
   "source": [
    "!git status -s"
   ]
  },
  {
   "cell_type": "code",
   "execution_count": 25,
   "metadata": {},
   "outputs": [],
   "source": [
    "call([\"git\", \"commit\", '-a', '-m', 'modified some file']);"
   ]
  },
  {
   "cell_type": "markdown",
   "metadata": {},
   "source": [
    "также флаг -а удалит из индекса все файлы, которые были удалены из рабочей директории"
   ]
  },
  {
   "cell_type": "code",
   "execution_count": 26,
   "metadata": {},
   "outputs": [
    {
     "name": "stdout",
     "output_type": "stream",
     "text": [
      "On branch master\n",
      "nothing to commit, working tree clean\n"
     ]
    }
   ],
   "source": [
    "!git status"
   ]
  },
  {
   "cell_type": "markdown",
   "metadata": {},
   "source": [
    "Если хотим изменить содержание коммита предыдущего сообщения, то набираем\n",
    "\n",
    "$ git commit --amend\n",
    "\n",
    "откроется редактор, в котором можно будет все исправить.\n",
    "\n",
    "Добавление этого флага также учтет все произошедшие изменения в staging area. Это способ \"поправить\" последний коммит, если не хочется ими \"спамить\" (на самом деле создастся новый коммит, который заменит предыдущий)\n",
    "\n",
    "Для dry run нужно добавить флаг --dry-run"
   ]
  },
  {
   "cell_type": "markdown",
   "metadata": {},
   "source": [
    "## откаты"
   ]
  },
  {
   "cell_type": "markdown",
   "metadata": {},
   "source": [
    "## unstaging"
   ]
  },
  {
   "cell_type": "code",
   "execution_count": 27,
   "metadata": {},
   "outputs": [],
   "source": [
    "with open('file.txt', 'a') as file:\n",
    "    file.write('i\\'m useless')"
   ]
  },
  {
   "cell_type": "code",
   "execution_count": 28,
   "metadata": {},
   "outputs": [],
   "source": [
    "!git add file.txt"
   ]
  },
  {
   "cell_type": "code",
   "execution_count": 29,
   "metadata": {},
   "outputs": [
    {
     "name": "stdout",
     "output_type": "stream",
     "text": [
      "On branch master\n",
      "Changes to be committed:\n",
      "  (use \"git reset HEAD <file>...\" to unstage)\n",
      "\n",
      "\tnew file:   file.txt\n",
      "\n"
     ]
    }
   ],
   "source": [
    "!git status"
   ]
  },
  {
   "cell_type": "markdown",
   "metadata": {},
   "source": [
    "\n",
    "#### git подсказывает, что если хотим файл \"забрать\" из staging area (файл вернется в то состояние, в котором он был), нужно набрать"
   ]
  },
  {
   "cell_type": "code",
   "execution_count": 30,
   "metadata": {},
   "outputs": [],
   "source": [
    "!git reset HEAD file.txt"
   ]
  },
  {
   "cell_type": "code",
   "execution_count": 31,
   "metadata": {},
   "outputs": [
    {
     "name": "stdout",
     "output_type": "stream",
     "text": [
      "?? file.txt\n"
     ]
    }
   ],
   "source": [
    "!git status -s"
   ]
  },
  {
   "cell_type": "code",
   "execution_count": 32,
   "metadata": {},
   "outputs": [],
   "source": [
    "with open('file.txt', 'a') as file:\n",
    "    file.write('i\\'m so useless....')"
   ]
  },
  {
   "cell_type": "code",
   "execution_count": 33,
   "metadata": {},
   "outputs": [
    {
     "name": "stdout",
     "output_type": "stream",
     "text": [
      "On branch master\n",
      "Untracked files:\n",
      "  (use \"git add <file>...\" to include in what will be committed)\n",
      "\n",
      "\tfile.txt\n",
      "\n",
      "nothing added to commit but untracked files present (use \"git add\" to track)\n"
     ]
    }
   ],
   "source": [
    "!git status"
   ]
  },
  {
   "cell_type": "code",
   "execution_count": 34,
   "metadata": {},
   "outputs": [],
   "source": [
    "!git add file.txt"
   ]
  },
  {
   "cell_type": "code",
   "execution_count": 35,
   "metadata": {},
   "outputs": [
    {
     "name": "stdout",
     "output_type": "stream",
     "text": [
      "On branch master\n",
      "Changes to be committed:\n",
      "  (use \"git reset HEAD <file>...\" to unstage)\n",
      "\n",
      "\tnew file:   file.txt\n",
      "\n"
     ]
    }
   ],
   "source": [
    "!git status "
   ]
  },
  {
   "cell_type": "code",
   "execution_count": 36,
   "metadata": {},
   "outputs": [],
   "source": [
    "call([\"git\", \"commit\", '-m', 'added file']);"
   ]
  },
  {
   "cell_type": "code",
   "execution_count": 37,
   "metadata": {},
   "outputs": [],
   "source": [
    "with open('file.txt', 'a') as file:\n",
    "    file.write('i\\'m so useless....')"
   ]
  },
  {
   "cell_type": "code",
   "execution_count": 38,
   "metadata": {},
   "outputs": [
    {
     "name": "stdout",
     "output_type": "stream",
     "text": [
      "On branch master\n",
      "Changes not staged for commit:\n",
      "  (use \"git add <file>...\" to update what will be committed)\n",
      "  (use \"git checkout -- <file>...\" to discard changes in working directory)\n",
      "\n",
      "\tmodified:   file.txt\n",
      "\n",
      "no changes added to commit (use \"git add\" and/or \"git commit -a\")\n"
     ]
    }
   ],
   "source": [
    "!git status"
   ]
  },
  {
   "cell_type": "markdown",
   "metadata": {},
   "source": [
    "#### Вернем файл в то состояние, в котором был сделан коммит"
   ]
  },
  {
   "cell_type": "code",
   "execution_count": 39,
   "metadata": {},
   "outputs": [],
   "source": [
    "!git checkout -- file.txt"
   ]
  },
  {
   "cell_type": "code",
   "execution_count": 40,
   "metadata": {},
   "outputs": [
    {
     "name": "stdout",
     "output_type": "stream",
     "text": [
      "On branch master\n",
      "nothing to commit, working tree clean\n"
     ]
    }
   ],
   "source": [
    "!git status"
   ]
  },
  {
   "cell_type": "markdown",
   "metadata": {},
   "source": [
    "### git rm\n",
    "\n",
    "Удаляет файл из индекса и рабочей директории\n",
    "\n",
    "- -r - рекурсивное удаление\n",
    "- --dry-run"
   ]
  },
  {
   "cell_type": "code",
   "execution_count": 41,
   "metadata": {},
   "outputs": [
    {
     "name": "stdout",
     "output_type": "stream",
     "text": [
      "rm 'file.txt'\n"
     ]
    }
   ],
   "source": [
    "!git rm file.txt"
   ]
  },
  {
   "cell_type": "code",
   "execution_count": 42,
   "metadata": {},
   "outputs": [
    {
     "name": "stdout",
     "output_type": "stream",
     "text": [
      "On branch master\n",
      "Changes to be committed:\n",
      "  (use \"git reset HEAD <file>...\" to unstage)\n",
      "\n",
      "\tdeleted:    file.txt\n",
      "\n"
     ]
    }
   ],
   "source": [
    "!git status"
   ]
  },
  {
   "cell_type": "code",
   "execution_count": 43,
   "metadata": {},
   "outputs": [],
   "source": [
    "call(['git', 'commit', '-m', 'deleted file']);"
   ]
  },
  {
   "cell_type": "code",
   "execution_count": 44,
   "metadata": {},
   "outputs": [
    {
     "name": "stdout",
     "output_type": "stream",
     "text": [
      "On branch master\n",
      "nothing to commit, working tree clean\n"
     ]
    }
   ],
   "source": [
    "!git status"
   ]
  },
  {
   "cell_type": "code",
   "execution_count": 45,
   "metadata": {},
   "outputs": [
    {
     "name": "stdout",
     "output_type": "stream",
     "text": [
      " Volume in drive C is OS\n",
      " Volume Serial Number is 2CFE-F62B\n",
      "\n",
      " Directory of C:\\Users\\Roman Khudorozhkov\\Documents\\az_training\\git_tutorial\\folder\n",
      "\n",
      "28.11.2017  15:32    <DIR>          .\n",
      "28.11.2017  15:32    <DIR>          ..\n",
      "28.11.2017  15:32                36 some_file.txt\n",
      "               1 File(s)             36 bytes\n",
      "               2 Dir(s)  138Â 259Â 689Â 472 bytes free\n"
     ]
    }
   ],
   "source": [
    "!dir"
   ]
  },
  {
   "cell_type": "markdown",
   "metadata": {},
   "source": [
    "#### Если мы сделали файл staged, а потом передумали, то можно вызвать rm с флагом --cached (удалит из индекса, но не с машины)"
   ]
  },
  {
   "cell_type": "code",
   "execution_count": 46,
   "metadata": {},
   "outputs": [
    {
     "name": "stdout",
     "output_type": "stream",
     "text": [
      "A  file.txt\n"
     ]
    }
   ],
   "source": [
    "with open('file.txt', 'a') as file:\n",
    "    file.write('i\\'m so useless....')\n",
    "    \n",
    "!git add file.txt\n",
    "!git status -s"
   ]
  },
  {
   "cell_type": "code",
   "execution_count": 47,
   "metadata": {},
   "outputs": [
    {
     "name": "stdout",
     "output_type": "stream",
     "text": [
      "rm 'file.txt'\n"
     ]
    }
   ],
   "source": [
    "!git rm --cached file.txt"
   ]
  },
  {
   "cell_type": "code",
   "execution_count": 48,
   "metadata": {},
   "outputs": [
    {
     "name": "stdout",
     "output_type": "stream",
     "text": [
      "On branch master\n",
      "Untracked files:\n",
      "  (use \"git add <file>...\" to include in what will be committed)\n",
      "\n",
      "\tfile.txt\n",
      "\n",
      "nothing added to commit but untracked files present (use \"git add\" to track)\n"
     ]
    }
   ],
   "source": [
    "!git status"
   ]
  },
  {
   "cell_type": "code",
   "execution_count": 49,
   "metadata": {},
   "outputs": [],
   "source": [
    "!git add file.txt\n",
    "call(['git', 'commit', '-m', 'added file']);"
   ]
  },
  {
   "cell_type": "markdown",
   "metadata": {},
   "source": [
    "\n",
    "#### Что будет, если просто удалить файл из working tree:"
   ]
  },
  {
   "cell_type": "code",
   "execution_count": 50,
   "metadata": {},
   "outputs": [],
   "source": [
    "!del file.txt"
   ]
  },
  {
   "cell_type": "code",
   "execution_count": 51,
   "metadata": {},
   "outputs": [
    {
     "name": "stdout",
     "output_type": "stream",
     "text": [
      "On branch master\n",
      "Changes not staged for commit:\n",
      "  (use \"git add/rm <file>...\" to update what will be committed)\n",
      "  (use \"git checkout -- <file>...\" to discard changes in working directory)\n",
      "\n",
      "\tdeleted:    file.txt\n",
      "\n",
      "no changes added to commit (use \"git add\" and/or \"git commit -a\")\n"
     ]
    }
   ],
   "source": [
    "!git status"
   ]
  },
  {
   "cell_type": "code",
   "execution_count": 52,
   "metadata": {},
   "outputs": [],
   "source": [
    "call(['git', 'commit', '-a', '-m', 'deleted file']);"
   ]
  },
  {
   "cell_type": "code",
   "execution_count": 53,
   "metadata": {},
   "outputs": [
    {
     "name": "stdout",
     "output_type": "stream",
     "text": [
      "On branch master\n",
      "nothing to commit, working tree clean\n"
     ]
    }
   ],
   "source": [
    "!git status"
   ]
  },
  {
   "cell_type": "code",
   "execution_count": 54,
   "metadata": {},
   "outputs": [
    {
     "name": "stdout",
     "output_type": "stream",
     "text": [
      " Volume in drive C is OS\n",
      " Volume Serial Number is 2CFE-F62B\n",
      "\n",
      " Directory of C:\\Users\\Roman Khudorozhkov\\Documents\\az_training\\git_tutorial\\folder\n",
      "\n",
      "28.11.2017  15:32    <DIR>          .\n",
      "28.11.2017  15:32    <DIR>          ..\n",
      "28.11.2017  15:32                36 some_file.txt\n",
      "               1 File(s)             36 bytes\n",
      "               2 Dir(s)  138Â 259Â 681Â 280 bytes free\n"
     ]
    }
   ],
   "source": [
    "!dir"
   ]
  },
  {
   "cell_type": "markdown",
   "metadata": {},
   "source": [
    "## просмотр изменений"
   ]
  },
  {
   "cell_type": "markdown",
   "metadata": {},
   "source": [
    "## git diff"
   ]
  },
  {
   "cell_type": "code",
   "execution_count": 55,
   "metadata": {},
   "outputs": [
    {
     "name": "stdout",
     "output_type": "stream",
     "text": [
      " Volume in drive C is OS\n",
      " Volume Serial Number is 2CFE-F62B\n",
      "\n",
      " Directory of C:\\Users\\Roman Khudorozhkov\\Documents\\az_training\\git_tutorial\\folder\n",
      "\n",
      "28.11.2017  15:32    <DIR>          .\n",
      "28.11.2017  15:32    <DIR>          ..\n",
      "28.11.2017  15:32                36 some_file.txt\n",
      "               1 File(s)             36 bytes\n",
      "               2 Dir(s)  138Â 259Â 681Â 280 bytes free\n"
     ]
    }
   ],
   "source": [
    "!dir"
   ]
  },
  {
   "cell_type": "code",
   "execution_count": 56,
   "metadata": {},
   "outputs": [],
   "source": [
    "with open('some_file.txt','a') as file:\n",
    "    file.write('lalala\\n')"
   ]
  },
  {
   "cell_type": "code",
   "execution_count": 116,
   "metadata": {},
   "outputs": [
    {
     "name": "stdout",
     "output_type": "stream",
     "text": [
      " M some_file.txt\n"
     ]
    }
   ],
   "source": [
    "!git status -s"
   ]
  },
  {
   "cell_type": "code",
   "execution_count": 117,
   "metadata": {},
   "outputs": [
    {
     "name": "stdout",
     "output_type": "stream",
     "text": [
      "diff --git a/some_file.txt b/some_file.txt\n",
      "index c933383..e769960 100644\n",
      "--- a/some_file.txt\n",
      "+++ b/some_file.txt\n",
      "@@ -1,4 +1,4 @@\n",
      " work\n",
      " hard\n",
      " work harder! \n",
      "-i'm tired\n",
      "\\ No newline at end of file\n",
      "+i'm tiredlalala\n"
     ]
    },
    {
     "name": "stderr",
     "output_type": "stream",
     "text": [
      "warning: CRLF will be replaced by LF in some_file.txt.\n",
      "The file will have its original line endings in your working directory.\n"
     ]
    }
   ],
   "source": [
    "!git diff"
   ]
  },
  {
   "cell_type": "code",
   "execution_count": 118,
   "metadata": {},
   "outputs": [
    {
     "name": "stderr",
     "output_type": "stream",
     "text": [
      "warning: CRLF will be replaced by LF in some_file.txt.\n",
      "The file will have its original line endings in your working directory.\n"
     ]
    }
   ],
   "source": [
    "!git add some_file.txt"
   ]
  },
  {
   "cell_type": "code",
   "execution_count": 119,
   "metadata": {},
   "outputs": [],
   "source": [
    "!git diff\n"
   ]
  },
  {
   "cell_type": "markdown",
   "metadata": {},
   "source": [
    "#### чтобы посмотреть разницу между файлами в последнем коммите и staged, нужно передать флаг cached (или staged):"
   ]
  },
  {
   "cell_type": "code",
   "execution_count": 124,
   "metadata": {},
   "outputs": [
    {
     "name": "stdout",
     "output_type": "stream",
     "text": [
      "diff --git a/some_file.txt b/some_file.txt\n",
      "index c933383..e769960 100644\n",
      "--- a/some_file.txt\n",
      "+++ b/some_file.txt\n",
      "@@ -1,4 +1,4 @@\n",
      " work\n",
      " hard\n",
      " work harder! \n",
      "-i'm tired\n",
      "\\ No newline at end of file\n",
      "+i'm tiredlalala\n"
     ]
    }
   ],
   "source": [
    "!git diff --staged"
   ]
  },
  {
   "cell_type": "markdown",
   "metadata": {},
   "source": [
    "#### посмотреть разность staged с другой веткой (подставь вместо HEAD имя ветки):"
   ]
  },
  {
   "cell_type": "code",
   "execution_count": 121,
   "metadata": {},
   "outputs": [
    {
     "name": "stdout",
     "output_type": "stream",
     "text": [
      "diff --git a/some_file.txt b/some_file.txt\n",
      "index c933383..e769960 100644\n",
      "--- a/some_file.txt\n",
      "+++ b/some_file.txt\n",
      "@@ -1,4 +1,4 @@\n",
      " work\n",
      " hard\n",
      " work harder! \n",
      "-i'm tired\n",
      "\\ No newline at end of file\n",
      "+i'm tiredlalala\n"
     ]
    }
   ],
   "source": [
    "!git diff HEAD"
   ]
  }
 ],
 "metadata": {
  "kernelspec": {
   "display_name": "Python 3",
   "language": "python",
   "name": "python3"
  },
  "language_info": {
   "codemirror_mode": {
    "name": "ipython",
    "version": 3
   },
   "file_extension": ".py",
   "mimetype": "text/x-python",
   "name": "python",
   "nbconvert_exporter": "python",
   "pygments_lexer": "ipython3",
   "version": "3.6.3"
  }
 },
 "nbformat": 4,
 "nbformat_minor": 2
}
