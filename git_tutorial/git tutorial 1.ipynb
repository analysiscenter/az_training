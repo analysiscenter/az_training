{
 "cells": [
  {
   "cell_type": "markdown",
   "metadata": {},
   "source": [
    "#  Введение в git\n",
    "\n",
    "\n",
    "Что происходит в наш с вами типичный рабочий день:\n",
    "\n",
    "- Добавление новых фич\n",
    "> Как это сделать? Можно изменять непосредственно рабочий проект, набажить, забыть, как было раньше, все испортить. Можно скопировать проект (не забыть осознанно назвать папку), добавить фичу в копии, потом мучительно \"слиять\", потому что кто-то уже изменил рабочий проект, а это затронуло вещи, используемые новой фичей. Каша, неразбериха.\n",
    "- Фикс багов\n",
    "> Копируем проект, фиксим баг, сливаем обратно. Все это с теми же проблемами.\n",
    "- Развитие альтернативных версий проекта\n",
    "> Копируем проект, долго разрабатываем. При слиянии еще больше кошмаров.\n",
    "\n",
    "\n",
    "Все эти кейсы становятся много менее кошмарными при использовании git. В этом ноутбуке поговим о его базовой структуре и командах.\n",
    "\n",
    "\n",
    "\n",
    "## Базовое устройство\n",
    "\n",
    "Здесь будет описано устройство репозитория, а именно что, где и как все хранится, это будет нужно для понимания, что на самом деле делают все команды.\n",
    "\n",
    "#### На каждой машине хранится копия всего репозитория.\n",
    "\n",
    "\n",
    "#### В самом репозитории хранятся снапшоты -- \"слепки\" (сжатые копии) всей файловой системы в каком-то состоянии проекта.\n",
    "\n",
    "- В каждом снапшоте хранятся копии(!) рабочей директории (а не diff-ы) \n",
    "- Если в новом снапшоте файл остался неизменным, то будет хранится ссылка на файл в предыдущем слепке.\n",
    "\n",
    "![snapshots](https://git-scm.com/book/en/v2/images/snapshots.png)\n",
    "\n",
    "#### Снапшоты индексируются коммитами\n",
    "\n",
    "- Коммит - объект, содержащий ссылку на слепок, информацию об авторе коммита, комментарий, а также ссылки на предыдущий коммит (или несколько ссылок, если этот коммит -- результат слияния веток).\n",
    "\n",
    "![commits_snapshots](https://git-scm.com/book/en/v2/images/commits-and-parents.png)\n",
    "\n",
    "\n",
    "#### Ветка -- это указатель на коммит.\n",
    "\n",
    "- На машине она представляет собой лишь файл, содержащий чек-сумму коммита\n",
    "- На текущую (рабочую) ветку указывает указатель HEAD (но он может указывать и на коммит)\n",
    "- Переключение между ветками пердставляет собой просто перенос указателя.\n",
    "\n",
    "![branch](https://git-scm.com/book/en/v2/images/advance-master.png)\n",
    "\n",
    "---\n",
    "\n",
    "## Основные принципы\n",
    "\n",
    "Осознанавание базовых принципов работы с файлами проекта, отслеживаемого git'ом, позволит избежать большинства ошибок и сэкономит много времени.\n",
    "\n",
    "\n",
    "#### Файлы в репозитории могут находиться в трех различных состояниях: commited, modified, staged.\n",
    "\n",
    "- Commited - файлы сохранены в локальной БД\n",
    "- Modified - файлы изменены, но изменения не внесены в локальную БД\n",
    "- Staged - файлы помечены, будут включены в следующий коммит\n",
    "\n",
    "\n",
    "\n",
    "#### Соответственно, в гите есть три разных \"пространства\":  repository, working directory, staging area \n",
    " \n",
    "- Repository -- Хранятся метаданные и БД репозитория.\n",
    "- Working directory -- локальная копия рабочей версии проекта\n",
    "- Staging area (или index) -- файлы, которые войдут в следующий коммит\n",
    "\n",
    "![states](https://git-scm.com/book/en/v2/images/areas.png)\n",
    "\n",
    "#### Рабочий процесс\n",
    "\n",
    "\n",
    "- Меняем файлы в working directory\n",
    "- Указываем в staging area, какие именно изменения будут учтены при следующем коммите\n",
    "- Делаем коммит (записываем снапшот в БД и создаем коммит-объект)\n",
    "\n",
    "![](https://git-scm.com/book/en/v2/images/lifecycle.png)\n",
    "\n",
    "---\n"
   ]
  },
  {
   "cell_type": "markdown",
   "metadata": {},
   "source": [
    "# Базовые команды"
   ]
  },
  {
   "cell_type": "markdown",
   "metadata": {},
   "source": [
    "\n",
    "## Создание репозитория\n"
   ]
  },
  {
   "cell_type": "markdown",
   "metadata": {},
   "source": [
    "\n",
    "\n",
    "\n",
    "### Создание локального репозитория\n",
    "\n",
    "#### git init\n",
    "\n"
   ]
  },
  {
   "cell_type": "code",
   "execution_count": null,
   "metadata": {},
   "outputs": [],
   "source": [
    "!git init folder"
   ]
  },
  {
   "cell_type": "markdown",
   "metadata": {},
   "source": [
    "Внутри folder создается папка .git -- сам репозиторий. Внутри нее содержатся коммиты, HEAD, конфиг и тп."
   ]
  },
  {
   "cell_type": "markdown",
   "metadata": {},
   "source": [
    "\n",
    "### Клонирование\n",
    "\n",
    "#### git clone\n",
    "\n",
    "git clone url folder -- клонирует репозиторий по адресу url в folder, делает чекаут активной ветки проекта."
   ]
  },
  {
   "cell_type": "code",
   "execution_count": null,
   "metadata": {},
   "outputs": [],
   "source": [
    "!git clone folder folder_clone"
   ]
  },
  {
   "cell_type": "markdown",
   "metadata": {},
   "source": [
    "Флаги:\n",
    "- -n == --no-checkout -- никуда не ставить HEAD (не делать чекаутов)\n",
    "- -b == --branch name -- сделать чекаут ветки name"
   ]
  },
  {
   "cell_type": "markdown",
   "metadata": {},
   "source": [
    "## Работа с репозиторием\n",
    "\n",
    "### Работа с локальной копией\n",
    "\n",
    "\n",
    "\n",
    "\n",
    "\n"
   ]
  },
  {
   "cell_type": "code",
   "execution_count": null,
   "metadata": {},
   "outputs": [],
   "source": [
    "import os\n",
    "os.chdir('folder')"
   ]
  },
  {
   "cell_type": "markdown",
   "metadata": {},
   "source": [
    "## git status\n",
    "\n",
    "узнать текущий статус репозитория"
   ]
  },
  {
   "cell_type": "code",
   "execution_count": null,
   "metadata": {},
   "outputs": [],
   "source": [
    "!git status"
   ]
  },
  {
   "cell_type": "markdown",
   "metadata": {},
   "source": [
    "Флаги:\n",
    "- -s == --short короткий вывод (о нем позднее)\n",
    "- --porcelain -- вывод, удобный для парсинга скриптами\n",
    "- --long -- длинный вывод (включен по дефолту) \n",
    "- -u == --untracked mode -- как показывать неотслеживаемые файлы (no - не показывать)"
   ]
  },
  {
   "cell_type": "markdown",
   "metadata": {},
   "source": [
    "Сделаем видимость работы...."
   ]
  },
  {
   "cell_type": "code",
   "execution_count": null,
   "metadata": {},
   "outputs": [],
   "source": [
    "with open('some_file.txt', 'w') as file:\n",
    "    file.writelines(['work\\n','hard\\n'])"
   ]
  },
  {
   "cell_type": "code",
   "execution_count": null,
   "metadata": {},
   "outputs": [],
   "source": [
    "!git status"
   ]
  },
  {
   "cell_type": "code",
   "execution_count": null,
   "metadata": {},
   "outputs": [],
   "source": [
    "!git status -u no"
   ]
  },
  {
   "cell_type": "code",
   "execution_count": null,
   "metadata": {},
   "outputs": [],
   "source": [
    "!git status -s"
   ]
  },
  {
   "cell_type": "markdown",
   "metadata": {},
   "source": [
    " -s: неотслеживаемые файлы обозначены ??. Левая колонка отвечает за staging area, правая -- за working tree. А == added, M == modified, D == deleted, ..."
   ]
  },
  {
   "cell_type": "code",
   "execution_count": null,
   "metadata": {},
   "outputs": [],
   "source": [
    "!git status --porcelain"
   ]
  },
  {
   "cell_type": "markdown",
   "metadata": {},
   "source": [
    "В чем разница между двумя последними флагами? Ни в чем, но вывод последней не зависит от настроек пользователя и версий git"
   ]
  },
  {
   "cell_type": "markdown",
   "metadata": {},
   "source": [
    "## git add\n",
    "\n",
    "Хотим включить some_file в следующий коммит. git советует воспользоваться add:"
   ]
  },
  {
   "cell_type": "code",
   "execution_count": null,
   "metadata": {
    "scrolled": true
   },
   "outputs": [],
   "source": [
    "!git add some_file.txt"
   ]
  },
  {
   "cell_type": "markdown",
   "metadata": {},
   "source": [
    "#### Если хотим посмотреть на то, что произойдет после выхова команды, то нужно поставить флаг --dry-run == -n:"
   ]
  },
  {
   "cell_type": "code",
   "execution_count": null,
   "metadata": {},
   "outputs": [],
   "source": [
    "!git add -n some_file.txt"
   ]
  },
  {
   "cell_type": "markdown",
   "metadata": {},
   "source": [
    "Теперь some_file находится в состоянии staged и находится в индексе (index, staging area)\n",
    "\n",
    "Что будет, если мы опять изменим файл?"
   ]
  },
  {
   "cell_type": "code",
   "execution_count": null,
   "metadata": {},
   "outputs": [],
   "source": [
    "with open('some_file.txt', 'a') as file:\n",
    "    file.write('work harder! \\n')"
   ]
  },
  {
   "cell_type": "code",
   "execution_count": null,
   "metadata": {},
   "outputs": [],
   "source": [
    "!git status"
   ]
  },
  {
   "cell_type": "markdown",
   "metadata": {},
   "source": [
    "Обратите внимание, что в следующий коммит пойдет только первая версия файла!"
   ]
  },
  {
   "cell_type": "code",
   "execution_count": null,
   "metadata": {},
   "outputs": [],
   "source": [
    "!git add some_file.txt"
   ]
  },
  {
   "cell_type": "code",
   "execution_count": null,
   "metadata": {
    "scrolled": true
   },
   "outputs": [],
   "source": [
    "!git status -s"
   ]
  },
  {
   "cell_type": "markdown",
   "metadata": {},
   "source": [
    "Теперь в коммит пойдет последняя версия файла"
   ]
  },
  {
   "cell_type": "markdown",
   "metadata": {},
   "source": [
    "## git commit\n",
    "\n",
    "Теперь хотим записать изменения в репозиторий. Для этого нужно сделать коммит:"
   ]
  },
  {
   "cell_type": "code",
   "execution_count": null,
   "metadata": {},
   "outputs": [],
   "source": [
    "!git commit -m \"added some file\""
   ]
  },
  {
   "cell_type": "markdown",
   "metadata": {},
   "source": [
    "#### Писать add, а потом commit иногда бессмысленно, первый этап можно пропустить:"
   ]
  },
  {
   "cell_type": "code",
   "execution_count": null,
   "metadata": {},
   "outputs": [],
   "source": [
    "with open('some_file.txt', 'a') as file:\n",
    "    file.write('i\\'m tired')"
   ]
  },
  {
   "cell_type": "code",
   "execution_count": null,
   "metadata": {},
   "outputs": [],
   "source": [
    "!git commit -a -m \"modified some file\""
   ]
  },
  {
   "cell_type": "markdown",
   "metadata": {},
   "source": [
    "также флаг -а удалит из индекса все файлы, которые были удалены из рабочей директории"
   ]
  },
  {
   "cell_type": "markdown",
   "metadata": {},
   "source": [
    "Если хотим изменить содержание коммита предыдущего сообщения, то набираем\n",
    "\n",
    "$ git commit --amend\n",
    "\n",
    "откроется редактор, в котором можно будет все исправить (или ставим флаг -m \"текст коммита\").\n",
    "\n",
    "Добавление этого флага также учтет все произошедшие изменения в staging area. Это способ \"поправить\" последний коммит, если не хочется ими \"спамить\" (на самом деле создастся новый коммит, который заменит предыдущий)\n",
    "\n",
    "Для dry run нужно добавить флаг --dry-run"
   ]
  },
  {
   "cell_type": "markdown",
   "metadata": {},
   "source": [
    "### git rm\n",
    "\n",
    "Удаляет файл из индекса и рабочей директории\n",
    "\n",
    "- -r - рекурсивное удаление\n",
    "- --dry-run"
   ]
  },
  {
   "cell_type": "code",
   "execution_count": null,
   "metadata": {},
   "outputs": [],
   "source": [
    "!git rm file.txt\n",
    "!git status -s"
   ]
  },
  {
   "cell_type": "code",
   "execution_count": null,
   "metadata": {},
   "outputs": [],
   "source": [
    "!git commit -m \"deleted file\""
   ]
  },
  {
   "cell_type": "code",
   "execution_count": null,
   "metadata": {},
   "outputs": [],
   "source": [
    "!dir"
   ]
  },
  {
   "cell_type": "markdown",
   "metadata": {},
   "source": [
    "#### Если мы сделали файл staged, а потом передумали, то можно вызвать rm с флагом --cached (удалит из индекса, но не с машины)"
   ]
  },
  {
   "cell_type": "code",
   "execution_count": null,
   "metadata": {},
   "outputs": [],
   "source": [
    "with open('file.txt', 'a') as file:\n",
    "    file.write('i\\'m so useless....')\n",
    "    \n",
    "!git add file.txt\n",
    "!git status -s"
   ]
  },
  {
   "cell_type": "code",
   "execution_count": null,
   "metadata": {},
   "outputs": [],
   "source": [
    "!git rm --cached file.txt"
   ]
  },
  {
   "cell_type": "code",
   "execution_count": null,
   "metadata": {},
   "outputs": [],
   "source": [
    "!git status -s"
   ]
  },
  {
   "cell_type": "markdown",
   "metadata": {},
   "source": [
    "\n",
    "#### Что будет, если просто удалить файл из working tree:"
   ]
  },
  {
   "cell_type": "code",
   "execution_count": null,
   "metadata": {},
   "outputs": [],
   "source": [
    "!git add file.txt\n",
    "!git commit -m \"added file\""
   ]
  },
  {
   "cell_type": "code",
   "execution_count": null,
   "metadata": {},
   "outputs": [],
   "source": [
    "!del file.txt"
   ]
  },
  {
   "cell_type": "code",
   "execution_count": null,
   "metadata": {},
   "outputs": [],
   "source": [
    "!git status"
   ]
  },
  {
   "cell_type": "code",
   "execution_count": null,
   "metadata": {},
   "outputs": [],
   "source": [
    "!git commit -a -m \"deleted file\""
   ]
  },
  {
   "cell_type": "code",
   "execution_count": null,
   "metadata": {},
   "outputs": [],
   "source": [
    "!git status"
   ]
  },
  {
   "cell_type": "code",
   "execution_count": null,
   "metadata": {},
   "outputs": [],
   "source": [
    "!dir"
   ]
  },
  {
   "cell_type": "markdown",
   "metadata": {},
   "source": [
    "## просмотр изменений"
   ]
  },
  {
   "cell_type": "markdown",
   "metadata": {},
   "source": [
    "## git diff"
   ]
  },
  {
   "cell_type": "code",
   "execution_count": null,
   "metadata": {},
   "outputs": [],
   "source": [
    "!dir"
   ]
  },
  {
   "cell_type": "code",
   "execution_count": null,
   "metadata": {},
   "outputs": [],
   "source": [
    "with open('some_file.txt','a') as file:\n",
    "    file.write('lalala\\n')"
   ]
  },
  {
   "cell_type": "code",
   "execution_count": null,
   "metadata": {},
   "outputs": [],
   "source": [
    "!git diff"
   ]
  },
  {
   "cell_type": "code",
   "execution_count": null,
   "metadata": {},
   "outputs": [],
   "source": [
    "!git add some_file.txt"
   ]
  },
  {
   "cell_type": "code",
   "execution_count": null,
   "metadata": {},
   "outputs": [],
   "source": [
    "!git diff"
   ]
  },
  {
   "cell_type": "markdown",
   "metadata": {},
   "source": [
    "#### чтобы посмотреть разницу между файлами в последнем коммите и staged, нужно передать флаг cached (или staged):"
   ]
  },
  {
   "cell_type": "code",
   "execution_count": null,
   "metadata": {},
   "outputs": [],
   "source": [
    "!git diff --staged"
   ]
  },
  {
   "cell_type": "markdown",
   "metadata": {},
   "source": [
    "#### посмотреть разность staged с другой веткой (подставь вместо HEAD имя ветки):"
   ]
  },
  {
   "cell_type": "code",
   "execution_count": null,
   "metadata": {},
   "outputs": [],
   "source": [
    "!git diff HEAD"
   ]
  }
 ],
 "metadata": {
  "kernelspec": {
   "display_name": "Python 3",
   "language": "python",
   "name": "python3"
  },
  "language_info": {
   "codemirror_mode": {
    "name": "ipython",
    "version": 3
   },
   "file_extension": ".py",
   "mimetype": "text/x-python",
   "name": "python",
   "nbconvert_exporter": "python",
   "pygments_lexer": "ipython3",
   "version": "3.6.3"
  }
 },
 "nbformat": 4,
 "nbformat_minor": 2
}
