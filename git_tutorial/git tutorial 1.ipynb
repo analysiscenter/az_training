{
 "cells": [
  {
   "cell_type": "markdown",
   "metadata": {},
   "source": [
    "#  Введение в git\n",
    "\n",
    "\n",
    "Что происходит в наш с вами типичный рабочий день:\n",
    "\n",
    "- Добавление новых фич\n",
    "> Как это сделать? Можно изменять непосредственно рабочий проект, набажить, забыть, как было раньше, все испортить. Можно скопировать проект (не забыть осознанно назвать папку), добавить фичу в копии, потом мучительно \"слиять\", потому что кто-то уже изменил рабочий проект, а это затронуло вещи, используемые новой фичей. Каша, неразбериха.\n",
    "- Фикс багов\n",
    "> Копируем проект, фиксим баг, сливаем обратно. Все это с теми же проблемами.\n",
    "- Развитие альтернативных версий проекта\n",
    "> Копируем проект, долго разрабатываем. При слиянии еще больше кошмаров.\n",
    "\n",
    "\n",
    "Все эти кейсы становятся много менее кошмарными при использовании git. В этом ноутбуке поговим о его базовой структуре и командах.\n",
    "\n",
    "\n",
    "\n",
    "## Базовое устройство\n",
    "\n",
    "Здесь будет описано устройство репозитория, а именно что, где и как все хранится, это будет нужно для понимания, что на самом деле делают все команды.\n",
    "\n",
    "#### На каждой машине хранится копия всего репозитория.\n",
    "\n",
    "\n",
    "#### В самом репозитории хранятся снапшоты -- \"слепки\" (сжатые копии) всей файловой системы в каком-то состоянии проекта.\n",
    "\n",
    "- В каждом снапшоте хранятся копии(!) рабочей директории (а не diff-ы) \n",
    "- Если в новом снапшоте файл остался неизменным, то будет хранится ссылка на файл в предыдущем слепке.\n",
    "\n",
    "![snapshots](https://git-scm.com/book/en/v2/images/snapshots.png)\n",
    "\n",
    "#### Снапшоты индексируются коммитами\n",
    "\n",
    "- Коммит - объект, содержащий ссылку на слепок, информацию об авторе коммита, комментарий, а также ссылки на предыдущий коммит (или несколько ссылок, если этот коммит -- результат слияния веток).\n",
    "\n",
    "![commits_snapshots](https://git-scm.com/book/en/v2/images/commits-and-parents.png)\n",
    "\n",
    "\n",
    "#### Ветка -- это указатель на коммит.\n",
    "\n",
    "- На машине она представляет собой лишь файл, содержащий чек-сумму коммита\n",
    "- На текущую (рабочую) ветку указывает указатель HEAD (но он может указывать и на коммит)\n",
    "- Переключение между ветками пердставляет собой просто перенос указателя.\n",
    "\n",
    "![branch](https://git-scm.com/book/en/v2/images/advance-master.png)\n",
    "\n",
    "---\n",
    "\n",
    "## Основные принципы\n",
    "\n",
    "Осознанавание базовых принципов работы с файлами проекта, отслеживаемого git'ом, позволит избежать большинства ошибок и сэкономит много времени.\n",
    "\n",
    "\n",
    "#### Файлы в репозитории могут находиться в трех различных состояниях: commited, modified, staged.\n",
    "\n",
    "- Commited - файлы сохранены в локальной БД\n",
    "- Modified - файлы изменены, но изменения не внесены в локальную БД\n",
    "- Staged - файлы помечены, будут включены в следующий коммит\n",
    "\n",
    "\n",
    "\n",
    "#### Соответственно, в гите есть три разных \"пространства\":  repository, working directory, staging area \n",
    " \n",
    "- Repository -- Хранятся метаданные и БД репозитория.\n",
    "- Working directory -- локальная копия рабочей версии проекта\n",
    "- Staging area (или index) -- файлы, которые войдут в следующий коммит\n",
    "\n",
    "![states](https://git-scm.com/book/en/v2/images/areas.png)\n",
    "\n",
    "#### Рабочий процесс\n",
    "\n",
    "\n",
    "- Меняем файлы в working directory\n",
    "- Указываем в staging area, какие именно изменения будут учтены при следующем коммите\n",
    "- Делаем коммит (записываем снапшот в БД и создаем коммит-объект)\n",
    "\n",
    "![](https://git-scm.com/book/en/v2/images/lifecycle.png)\n",
    "\n",
    "---\n"
   ]
  },
  {
   "cell_type": "markdown",
   "metadata": {},
   "source": [
    "# Базовые команды"
   ]
  },
  {
   "cell_type": "markdown",
   "metadata": {},
   "source": [
    "\n",
    "## Создание репозитория\n"
   ]
  },
  {
   "cell_type": "markdown",
   "metadata": {},
   "source": [
    "\n",
    "\n",
    "\n",
    "### Создание локального репозитория\n",
    "\n",
    "#### git init\n",
    "\n"
   ]
  },
  {
   "cell_type": "code",
   "execution_count": 1,
   "metadata": {},
   "outputs": [
    {
     "name": "stdout",
     "output_type": "stream",
     "text": [
      "Initialized empty Git repository in C:/Users/Roman Khudorozhkov/Documents/az_training/git_tutorial/folder/.git/\n"
     ]
    }
   ],
   "source": [
    "!git init folder"
   ]
  },
  {
   "cell_type": "markdown",
   "metadata": {},
   "source": [
    "Внутри folder создается папка .git -- сам репозиторий. Внутри нее содержатся коммиты, HEAD, конфиг и тп."
   ]
  },
  {
   "cell_type": "markdown",
   "metadata": {},
   "source": [
    "\n",
    "### Клонирование\n",
    "\n",
    "#### git clone\n",
    "\n",
    "git clone url folder -- клонирует репозиторий по адресу url в folder, делает чекаут активной ветки проекта."
   ]
  },
  {
   "cell_type": "code",
   "execution_count": null,
   "metadata": {},
   "outputs": [],
   "source": [
    "!git clone folder folder_clone"
   ]
  },
  {
   "cell_type": "markdown",
   "metadata": {},
   "source": [
    "Флаги:\n",
    "- -n == --no-checkout -- никуда не ставить HEAD (не делать чекаутов)\n",
    "- -b == --branch name -- сделать чекаут ветки name"
   ]
  },
  {
   "cell_type": "markdown",
   "metadata": {},
   "source": [
    "## Работа с репозиторием\n",
    "\n",
    "### Работа с локальной копией\n",
    "\n",
    "\n",
    "\n",
    "\n",
    "\n"
   ]
  },
  {
   "cell_type": "code",
   "execution_count": 2,
   "metadata": {},
   "outputs": [],
   "source": [
    "import os\n",
    "os.chdir('folder')"
   ]
  },
  {
   "cell_type": "markdown",
   "metadata": {},
   "source": [
    "## git status\n",
    "\n",
    "узнать текущий статус репозитория"
   ]
  },
  {
   "cell_type": "code",
   "execution_count": 3,
   "metadata": {},
   "outputs": [
    {
     "name": "stdout",
     "output_type": "stream",
     "text": [
      "On branch master\n",
      "\n",
      "No commits yet\n",
      "\n",
      "nothing to commit (create/copy files and use \"git add\" to track)\n"
     ]
    }
   ],
   "source": [
    "!git status"
   ]
  },
  {
   "cell_type": "markdown",
   "metadata": {},
   "source": [
    "Флаги:\n",
    "- -s == --short короткий вывод (о нем позднее)\n",
    "- --porcelain -- вывод, удобный для парсинга скриптами\n",
    "- --long -- длинный вывод (включен по дефолту) \n",
    "- -u == --untracked mode -- как показывать неотслеживаемые файлы (no - не показывать)"
   ]
  },
  {
   "cell_type": "markdown",
   "metadata": {},
   "source": [
    "Сделаем видимость работы...."
   ]
  },
  {
   "cell_type": "code",
   "execution_count": 14,
   "metadata": {},
   "outputs": [],
   "source": [
    "with open('some_file_1.txt', 'w') as file:\n",
    "    file.writelines(['work\\n','hard\\n'])"
   ]
  },
  {
   "cell_type": "code",
   "execution_count": 5,
   "metadata": {},
   "outputs": [
    {
     "name": "stdout",
     "output_type": "stream",
     "text": [
      "On branch master\n",
      "\n",
      "No commits yet\n",
      "\n",
      "Untracked files:\n",
      "  (use \"git add <file>...\" to include in what will be committed)\n",
      "\n",
      "\tsome_file.txt\n",
      "\n",
      "nothing added to commit but untracked files present (use \"git add\" to track)\n"
     ]
    }
   ],
   "source": [
    "!git status"
   ]
  },
  {
   "cell_type": "code",
   "execution_count": 6,
   "metadata": {},
   "outputs": [
    {
     "name": "stdout",
     "output_type": "stream",
     "text": [
      "On branch master\n",
      "\n",
      "No commits yet\n",
      "\n",
      "nothing to commit (create/copy files and use \"git add\" to track)\n"
     ]
    }
   ],
   "source": [
    "!git status -u no"
   ]
  },
  {
   "cell_type": "code",
   "execution_count": 7,
   "metadata": {},
   "outputs": [
    {
     "name": "stdout",
     "output_type": "stream",
     "text": [
      "?? some_file.txt\n"
     ]
    }
   ],
   "source": [
    "!git status -s"
   ]
  },
  {
   "cell_type": "markdown",
   "metadata": {},
   "source": [
    " -s: неотслеживаемые файлы обозначены ??. Левая колонка отвечает за staging area, правая -- за working tree. А == added, M == modified, D == deleted, ..."
   ]
  },
  {
   "cell_type": "code",
   "execution_count": 8,
   "metadata": {},
   "outputs": [
    {
     "name": "stdout",
     "output_type": "stream",
     "text": [
      "?? some_file.txt\n"
     ]
    }
   ],
   "source": [
    "!git status --porcelain"
   ]
  },
  {
   "cell_type": "markdown",
   "metadata": {},
   "source": [
    "В чем разница между двумя последними флагами? Ни в чем, но вывод последней не зависит от настроек пользователя и версий git"
   ]
  },
  {
   "cell_type": "markdown",
   "metadata": {},
   "source": [
    "## git add\n",
    "\n",
    "Хотим включить some_file в следующий коммит. git советует воспользоваться add:"
   ]
  },
  {
   "cell_type": "code",
   "execution_count": 9,
   "metadata": {
    "scrolled": true
   },
   "outputs": [],
   "source": [
    "!git add some_file.txt"
   ]
  },
  {
   "cell_type": "code",
   "execution_count": 12,
   "metadata": {},
   "outputs": [
    {
     "name": "stdout",
     "output_type": "stream",
     "text": [
      "On branch master\n",
      "\n",
      "No commits yet\n",
      "\n",
      "Changes to be committed:\n",
      "  (use \"git rm --cached <file>...\" to unstage)\n",
      "\n",
      "\tnew file:   some_file.txt\n",
      "\n"
     ]
    }
   ],
   "source": [
    "!git status"
   ]
  },
  {
   "cell_type": "markdown",
   "metadata": {},
   "source": [
    "#### Если хотим посмотреть на то, что произойдет после выхова команды, то нужно поставить флаг --dry-run == -n:"
   ]
  },
  {
   "cell_type": "code",
   "execution_count": 15,
   "metadata": {
    "scrolled": true
   },
   "outputs": [
    {
     "name": "stdout",
     "output_type": "stream",
     "text": [
      "add 'some_file_1.txt'\n"
     ]
    }
   ],
   "source": [
    "!git add -n some_file_1.txt"
   ]
  },
  {
   "cell_type": "markdown",
   "metadata": {},
   "source": [
    "Теперь some_file находится в состоянии staged и находится в индексе (index, staging area)\n",
    "\n",
    "Что будет, если мы опять изменим файл?"
   ]
  },
  {
   "cell_type": "code",
   "execution_count": 16,
   "metadata": {},
   "outputs": [],
   "source": [
    "with open('some_file.txt', 'a') as file:\n",
    "    file.write('work harder! \\n')"
   ]
  },
  {
   "cell_type": "code",
   "execution_count": 17,
   "metadata": {},
   "outputs": [
    {
     "name": "stdout",
     "output_type": "stream",
     "text": [
      "On branch master\n",
      "\n",
      "No commits yet\n",
      "\n",
      "Changes to be committed:\n",
      "  (use \"git rm --cached <file>...\" to unstage)\n",
      "\n",
      "\tnew file:   some_file.txt\n",
      "\n",
      "Changes not staged for commit:\n",
      "  (use \"git add <file>...\" to update what will be committed)\n",
      "  (use \"git checkout -- <file>...\" to discard changes in working directory)\n",
      "\n",
      "\tmodified:   some_file.txt\n",
      "\n",
      "Untracked files:\n",
      "  (use \"git add <file>...\" to include in what will be committed)\n",
      "\n",
      "\tsome_file_1.txt\n",
      "\n"
     ]
    }
   ],
   "source": [
    "!git status"
   ]
  },
  {
   "cell_type": "markdown",
   "metadata": {},
   "source": [
    "Обратите внимание, что в следующий коммит пойдет только первая версия файла!"
   ]
  },
  {
   "cell_type": "code",
   "execution_count": 18,
   "metadata": {},
   "outputs": [],
   "source": [
    "!git add some_file.txt"
   ]
  },
  {
   "cell_type": "code",
   "execution_count": 19,
   "metadata": {
    "scrolled": true
   },
   "outputs": [
    {
     "name": "stdout",
     "output_type": "stream",
     "text": [
      "A  some_file.txt\n",
      "?? some_file_1.txt\n"
     ]
    }
   ],
   "source": [
    "!git status -s"
   ]
  },
  {
   "cell_type": "markdown",
   "metadata": {},
   "source": [
    "Теперь в коммит пойдет последняя версия файла"
   ]
  },
  {
   "cell_type": "markdown",
   "metadata": {},
   "source": [
    "## git commit\n",
    "\n",
    "Теперь хотим записать изменения в репозиторий. Для этого нужно сделать коммит:"
   ]
  },
  {
   "cell_type": "code",
   "execution_count": 20,
   "metadata": {},
   "outputs": [
    {
     "name": "stdout",
     "output_type": "stream",
     "text": [
      "[master (root-commit) f495808] added some file\n",
      " 1 file changed, 3 insertions(+)\n",
      " create mode 100644 some_file.txt\n"
     ]
    }
   ],
   "source": [
    "!git commit -m \"added some file\""
   ]
  },
  {
   "cell_type": "markdown",
   "metadata": {},
   "source": [
    "#### Писать add, а потом commit иногда бессмысленно, первый этап можно пропустить:"
   ]
  },
  {
   "cell_type": "code",
   "execution_count": 21,
   "metadata": {},
   "outputs": [],
   "source": [
    "with open('some_file.txt', 'a') as file:\n",
    "    file.write('i\\'m tired')"
   ]
  },
  {
   "cell_type": "code",
   "execution_count": 22,
   "metadata": {},
   "outputs": [
    {
     "name": "stdout",
     "output_type": "stream",
     "text": [
      "[master c263a9e] modified some file\n",
      " 1 file changed, 1 insertion(+)\n"
     ]
    }
   ],
   "source": [
    "!git commit -a -m \"modified some file\""
   ]
  },
  {
   "cell_type": "markdown",
   "metadata": {},
   "source": [
    "также флаг -а удалит из индекса все файлы, которые были удалены из рабочей директории"
   ]
  },
  {
   "cell_type": "markdown",
   "metadata": {},
   "source": [
    "Если хотим изменить содержание коммита предыдущего сообщения, то набираем\n",
    "\n",
    "$ git commit --amend\n",
    "\n",
    "откроется редактор, в котором можно будет все исправить (или ставим флаг -m \"текст коммита\").\n",
    "\n",
    "Добавление этого флага также учтет все произошедшие изменения в staging area. Это способ \"поправить\" последний коммит, если не хочется ими \"спамить\" (на самом деле создастся новый коммит, который заменит предыдущий)\n",
    "\n",
    "Для dry run нужно добавить флаг --dry-run"
   ]
  },
  {
   "cell_type": "markdown",
   "metadata": {},
   "source": [
    "### git rm\n",
    "\n",
    "Удаляет файл из индекса и рабочей директории\n",
    "\n",
    "- -r - рекурсивное удаление\n",
    "- --dry-run"
   ]
  },
  {
   "cell_type": "code",
   "execution_count": 26,
   "metadata": {},
   "outputs": [
    {
     "name": "stderr",
     "output_type": "stream",
     "text": [
      "fatal: pathspec 'some_file.txt' did not match any files\n"
     ]
    },
    {
     "name": "stdout",
     "output_type": "stream",
     "text": [
      "On branch master\n",
      "Changes to be committed:\n",
      "  (use \"git reset HEAD <file>...\" to unstage)\n",
      "\n",
      "\tdeleted:    some_file.txt\n",
      "\n",
      "Untracked files:\n",
      "  (use \"git add <file>...\" to include in what will be committed)\n",
      "\n",
      "\tsome_file_1.txt\n",
      "\n"
     ]
    }
   ],
   "source": [
    "!git rm some_file.txt\n",
    "!git status"
   ]
  },
  {
   "cell_type": "code",
   "execution_count": 27,
   "metadata": {},
   "outputs": [
    {
     "name": "stdout",
     "output_type": "stream",
     "text": [
      "[master 8c85397] deleted file\n",
      " 1 file changed, 4 deletions(-)\n",
      " delete mode 100644 some_file.txt\n"
     ]
    }
   ],
   "source": [
    "!git commit -m \"deleted file\""
   ]
  },
  {
   "cell_type": "code",
   "execution_count": 28,
   "metadata": {},
   "outputs": [
    {
     "name": "stdout",
     "output_type": "stream",
     "text": [
      " Volume in drive C is OS\n",
      " Volume Serial Number is 2CFE-F62B\n",
      "\n",
      " Directory of C:\\Users\\Roman Khudorozhkov\\Documents\\az_training\\git_tutorial\\folder\n",
      "\n",
      "29.11.2017  13:15    <DIR>          .\n",
      "29.11.2017  13:15    <DIR>          ..\n",
      "29.11.2017  13:11                12 some_file_1.txt\n",
      "               1 File(s)             12 bytes\n",
      "               2 Dir(s)  138Â 311Â 942Â 144 bytes free\n"
     ]
    }
   ],
   "source": [
    "!dir"
   ]
  },
  {
   "cell_type": "markdown",
   "metadata": {},
   "source": [
    "#### Если мы сделали файл staged, а потом передумали, то можно вызвать rm с флагом --cached (удалит из индекса, но не с машины)"
   ]
  },
  {
   "cell_type": "code",
   "execution_count": 29,
   "metadata": {},
   "outputs": [
    {
     "name": "stdout",
     "output_type": "stream",
     "text": [
      "A  file.txt\n",
      "?? some_file_1.txt\n"
     ]
    }
   ],
   "source": [
    "with open('file.txt', 'a') as file:\n",
    "    file.write('i\\'m so useless....')\n",
    "    \n",
    "!git add file.txt\n",
    "!git status -s"
   ]
  },
  {
   "cell_type": "code",
   "execution_count": 30,
   "metadata": {},
   "outputs": [
    {
     "name": "stdout",
     "output_type": "stream",
     "text": [
      "rm 'file.txt'\n"
     ]
    }
   ],
   "source": [
    "!git rm --cached file.txt"
   ]
  },
  {
   "cell_type": "code",
   "execution_count": 31,
   "metadata": {},
   "outputs": [
    {
     "name": "stdout",
     "output_type": "stream",
     "text": [
      "?? file.txt\n",
      "?? some_file_1.txt\n"
     ]
    }
   ],
   "source": [
    "!git status -s"
   ]
  },
  {
   "cell_type": "markdown",
   "metadata": {},
   "source": [
    "\n",
    "#### Что будет, если просто удалить файл из working tree:"
   ]
  },
  {
   "cell_type": "code",
   "execution_count": 32,
   "metadata": {},
   "outputs": [
    {
     "name": "stdout",
     "output_type": "stream",
     "text": [
      "[master 995b178] added file\n",
      " 1 file changed, 1 insertion(+)\n",
      " create mode 100644 file.txt\n"
     ]
    }
   ],
   "source": [
    "!git add file.txt\n",
    "!git commit -m \"added file\""
   ]
  },
  {
   "cell_type": "code",
   "execution_count": 33,
   "metadata": {},
   "outputs": [],
   "source": [
    "!del file.txt"
   ]
  },
  {
   "cell_type": "code",
   "execution_count": 34,
   "metadata": {},
   "outputs": [
    {
     "name": "stdout",
     "output_type": "stream",
     "text": [
      "On branch master\n",
      "Changes not staged for commit:\n",
      "  (use \"git add/rm <file>...\" to update what will be committed)\n",
      "  (use \"git checkout -- <file>...\" to discard changes in working directory)\n",
      "\n",
      "\tdeleted:    file.txt\n",
      "\n",
      "Untracked files:\n",
      "  (use \"git add <file>...\" to include in what will be committed)\n",
      "\n",
      "\tsome_file_1.txt\n",
      "\n",
      "no changes added to commit (use \"git add\" and/or \"git commit -a\")\n"
     ]
    }
   ],
   "source": [
    "!git status"
   ]
  },
  {
   "cell_type": "code",
   "execution_count": 35,
   "metadata": {},
   "outputs": [
    {
     "name": "stdout",
     "output_type": "stream",
     "text": [
      "[master cc9f9c1] deleted file\n",
      " 1 file changed, 1 deletion(-)\n",
      " delete mode 100644 file.txt\n"
     ]
    }
   ],
   "source": [
    "!git commit -a -m \"deleted file\""
   ]
  },
  {
   "cell_type": "code",
   "execution_count": 36,
   "metadata": {},
   "outputs": [
    {
     "name": "stdout",
     "output_type": "stream",
     "text": [
      "On branch master\n",
      "Untracked files:\n",
      "  (use \"git add <file>...\" to include in what will be committed)\n",
      "\n",
      "\tsome_file_1.txt\n",
      "\n",
      "nothing added to commit but untracked files present (use \"git add\" to track)\n"
     ]
    }
   ],
   "source": [
    "!git status"
   ]
  },
  {
   "cell_type": "code",
   "execution_count": 37,
   "metadata": {},
   "outputs": [
    {
     "name": "stdout",
     "output_type": "stream",
     "text": [
      " Volume in drive C is OS\n",
      " Volume Serial Number is 2CFE-F62B\n",
      "\n",
      " Directory of C:\\Users\\Roman Khudorozhkov\\Documents\\az_training\\git_tutorial\\folder\n",
      "\n",
      "29.11.2017  13:16    <DIR>          .\n",
      "29.11.2017  13:16    <DIR>          ..\n",
      "29.11.2017  13:11                12 some_file_1.txt\n",
      "               1 File(s)             12 bytes\n",
      "               2 Dir(s)  138Â 311Â 933Â 952 bytes free\n"
     ]
    }
   ],
   "source": [
    "!dir"
   ]
  },
  {
   "cell_type": "markdown",
   "metadata": {},
   "source": [
    "## просмотр изменений"
   ]
  },
  {
   "cell_type": "markdown",
   "metadata": {},
   "source": [
    "## git diff"
   ]
  },
  {
   "cell_type": "code",
   "execution_count": 40,
   "metadata": {},
   "outputs": [
    {
     "name": "stdout",
     "output_type": "stream",
     "text": [
      " Volume in drive C is OS\n",
      " Volume Serial Number is 2CFE-F62B\n",
      "\n",
      " Directory of C:\\Users\\Roman Khudorozhkov\\Documents\\az_training\\git_tutorial\\folder\n",
      "\n",
      "29.11.2017  13:16    <DIR>          .\n",
      "29.11.2017  13:16    <DIR>          ..\n",
      "29.11.2017  13:11                12 some_file_1.txt\n",
      "               1 File(s)             12 bytes\n",
      "               2 Dir(s)  138Â 311Â 929Â 856 bytes free\n",
      "On branch master\n",
      "Untracked files:\n",
      "  (use \"git add <file>...\" to include in what will be committed)\n",
      "\n",
      "\tsome_file_1.txt\n",
      "\n",
      "nothing added to commit but untracked files present (use \"git add\" to track)\n",
      "[master 6414b58] add3ed file\n",
      " 1 file changed, 2 insertions(+)\n",
      " create mode 100644 some_file_1.txt\n"
     ]
    }
   ],
   "source": [
    "!dir\n",
    "!git status\n",
    "!git add some_file_1.txt\n",
    "!git commit -m \"add3ed file\""
   ]
  },
  {
   "cell_type": "code",
   "execution_count": 41,
   "metadata": {},
   "outputs": [],
   "source": [
    "with open('some_file_1.txt','a') as file:\n",
    "    file.write('lalala\\n')"
   ]
  },
  {
   "cell_type": "code",
   "execution_count": 42,
   "metadata": {},
   "outputs": [
    {
     "name": "stdout",
     "output_type": "stream",
     "text": [
      "diff --git a/some_file_1.txt b/some_file_1.txt\n",
      "index 17399f9..0545a3f 100644\n",
      "--- a/some_file_1.txt\n",
      "+++ b/some_file_1.txt\n",
      "@@ -1,2 +1,3 @@\n",
      " work\n",
      " hard\n",
      "+lalala\n"
     ]
    }
   ],
   "source": [
    "!git diff"
   ]
  },
  {
   "cell_type": "code",
   "execution_count": 43,
   "metadata": {},
   "outputs": [],
   "source": [
    "!git add some_file_1.txt"
   ]
  },
  {
   "cell_type": "code",
   "execution_count": 44,
   "metadata": {},
   "outputs": [],
   "source": [
    "!git diff"
   ]
  },
  {
   "cell_type": "markdown",
   "metadata": {},
   "source": [
    "#### чтобы посмотреть разницу между файлами в последнем коммите и staged, нужно передать флаг cached (или staged):"
   ]
  },
  {
   "cell_type": "code",
   "execution_count": 46,
   "metadata": {},
   "outputs": [
    {
     "name": "stdout",
     "output_type": "stream",
     "text": [
      "diff --git a/some_file_1.txt b/some_file_1.txt\n",
      "index 17399f9..0545a3f 100644\n",
      "--- a/some_file_1.txt\n",
      "+++ b/some_file_1.txt\n",
      "@@ -1,2 +1,3 @@\n",
      " work\n",
      " hard\n",
      "+lalala\n"
     ]
    }
   ],
   "source": [
    "!git diff --staged"
   ]
  },
  {
   "cell_type": "markdown",
   "metadata": {},
   "source": [
    "#### посмотреть разность staged с другой веткой (подставь вместо HEAD имя ветки):"
   ]
  },
  {
   "cell_type": "code",
   "execution_count": 48,
   "metadata": {},
   "outputs": [
    {
     "name": "stdout",
     "output_type": "stream",
     "text": [
      "diff --git a/file.txt b/file.txt\n",
      "deleted file mode 100644\n",
      "index 403ce25..0000000\n",
      "--- a/file.txt\n",
      "+++ /dev/null\n",
      "@@ -1 +0,0 @@\n",
      "-i'm so useless....\n",
      "\\ No newline at end of file\n",
      "diff --git a/some_file_1.txt b/some_file_1.txt\n",
      "new file mode 100644\n",
      "index 0000000..0545a3f\n",
      "--- /dev/null\n",
      "+++ b/some_file_1.txt\n",
      "@@ -0,0 +1,3 @@\n",
      "+work\n",
      "+hard\n",
      "+lalala\n"
     ]
    }
   ],
   "source": [
    "!git diff HEAD~2"
   ]
  },
  {
   "cell_type": "code",
   "execution_count": null,
   "metadata": {},
   "outputs": [],
   "source": []
  }
 ],
 "metadata": {
  "kernelspec": {
   "display_name": "Python 3",
   "language": "python",
   "name": "python3"
  },
  "language_info": {
   "codemirror_mode": {
    "name": "ipython",
    "version": 3
   },
   "file_extension": ".py",
   "mimetype": "text/x-python",
   "name": "python",
   "nbconvert_exporter": "python",
   "pygments_lexer": "ipython3",
   "version": "3.6.3"
  }
 },
 "nbformat": 4,
 "nbformat_minor": 2
}
