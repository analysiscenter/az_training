{
 "cells": [
  {
   "cell_type": "markdown",
   "metadata": {},
   "source": [
    "# Туториал по git\n",
    "\n",
    "\n",
    "\n",
    "###  git -- это распределенная система контроля версий.\n",
    "---\n",
    "\n",
    "## Общее устройство\n",
    "\n",
    "#### На каждой машине хранится копия всего репозитория. \n",
    "\n",
    "\n",
    "\n",
    "#### Для каждой версии проекта хранятся снапшоты -- копии всей файловой системы.\n",
    "\n",
    "- Если в новой версии файл остался неизменным, то будет хранится ссылка на файл в предыдущей версии.\n",
    "\n",
    "![snapshots](https://git-scm.com/book/en/v2/images/snapshots.png)\n",
    "\n",
    "---\n",
    "\n",
    "## Основные принципы\n",
    "\n",
    "#### Файлы в репозитории могут находиться в трех различных состояниях: commited, modified, staged.\n",
    "\n",
    "- Commited - файлы сохранены в локальной БД\n",
    "- Modified - файлы изменены, но изменения не внесены в локальную БД\n",
    "- Staged - файлы помечены, будут включены в следующий коммит\n",
    "\n",
    "\n",
    "\n",
    "\n",
    "#### Соответственно, в гите есть три разных \"пространства\":  repository, working directory, staging area \n",
    " \n",
    "- Repository -- Хранятся метаданные и БД репозитория.\n",
    "- Working directory -- локальная копия рабочей версии проекта\n",
    "- Staging area (или index) -- файлы, которые войдут в следующий коммит\n",
    "\n",
    "![states](https://git-scm.com/book/en/v2/images/areas.png)\n",
    "\n",
    "#### Рабочий процесс\n",
    "\n",
    "\n",
    "- Меняем файлы в working directory\n",
    "- Указываем в staging area, какие именно изменения будут учтены при следующем коммите\n",
    "- Делаем коммит (записываем снапшот из staging area в БД)\n",
    "\n",
    "---\n"
   ]
  },
  {
   "cell_type": "markdown",
   "metadata": {},
   "source": [
    "# Базовые команды"
   ]
  },
  {
   "cell_type": "markdown",
   "metadata": {},
   "source": [
    "## помощь\n",
    "\n",
    "есть вопрос по команде? набираем\n",
    "\n",
    "\\$ git help <имя команды> -- откроет помощь в браузере\n",
    " \n",
    " \n",
    "\\$ git <имя команды> -h -- покажет короткую справку в терминале"
   ]
  },
  {
   "cell_type": "code",
   "execution_count": 4,
   "metadata": {},
   "outputs": [],
   "source": [
    "!git help help"
   ]
  },
  {
   "cell_type": "code",
   "execution_count": 3,
   "metadata": {},
   "outputs": [
    {
     "name": "stdout",
     "output_type": "stream",
     "text": [
      "usage: git help [--all] [--guides] [--man | --web | --info] [<command>]\n",
      "\n",
      "    -a, --all             print all available commands\n",
      "    -g, --guides          print list of useful guides\n",
      "    -m, --man             show man page\n",
      "    -w, --web             show manual in web browser\n",
      "    -i, --info            show info page\n",
      "\n"
     ]
    }
   ],
   "source": [
    "!git help -h"
   ]
  },
  {
   "cell_type": "markdown",
   "metadata": {},
   "source": [
    "## настройка окружения"
   ]
  },
  {
   "cell_type": "markdown",
   "metadata": {},
   "source": [
    "Прежде чем начать работать с гитом, нужно настроить окружение\n",
    "\n",
    "Для этого есть git config -- утилита для управления переменными окружения (имя пользователя и тп). Настроим имя пользователя и почту -- это будет включено в каждый совершенный коммит (global означает, что переменные будут использоваться всегда и везде, если хочется сменить их для специфичного проекта, просто опусти его):\n",
    "\n",
    "\\$ git config --global user.name \"John Doe\"\n",
    "\n",
    "\n",
    "\\$ git config --global user.email johndoe@example.com"
   ]
  },
  {
   "cell_type": "markdown",
   "metadata": {},
   "source": [
    "Посмотрим на текущую конфигурацию:"
   ]
  },
  {
   "cell_type": "code",
   "execution_count": 7,
   "metadata": {},
   "outputs": [
    {
     "name": "stdout",
     "output_type": "stream",
     "text": [
      "core.symlinks=true\n",
      "core.autocrlf=input\n",
      "core.fscache=true\n",
      "color.diff=auto\n",
      "color.status=auto\n",
      "color.branch=auto\n",
      "color.interactive=true\n",
      "help.format=html\n",
      "rebase.autosquash=true\n",
      "http.sslcainfo=C:/Program Files/Git/mingw64/ssl/certs/ca-bundle.crt\n",
      "http.sslbackend=openssl\n",
      "diff.astextplain.textconv=astextplain\n",
      "filter.lfs.clean=git-lfs clean -- %f\n",
      "filter.lfs.smudge=git-lfs smudge -- %f\n",
      "filter.lfs.process=git-lfs filter-process\n",
      "filter.lfs.required=true\n",
      "credential.helper=manager\n",
      "user.email=g.ivanov@analysiscenter.ru\n",
      "user.name=GregoryIvanov\n",
      "core.repositoryformatversion=0\n",
      "core.filemode=false\n",
      "core.bare=false\n",
      "core.logallrefupdates=true\n",
      "core.ignorecase=true\n",
      "remote.origin.url=https://github.com/analysiscenter/az_training.git\n",
      "remote.origin.fetch=+refs/heads/*:refs/remotes/origin/*\n",
      "branch.master.remote=origin\n",
      "branch.master.merge=refs/heads/master\n",
      "submodule.dataset.url=https://github.com/analysiscenter/dataset.git\n",
      "submodule.dataset.active=true\n"
     ]
    }
   ],
   "source": [
    "!git config --list"
   ]
  },
  {
   "cell_type": "markdown",
   "metadata": {},
   "source": [
    "## Как создать репозиторий"
   ]
  },
  {
   "cell_type": "markdown",
   "metadata": {},
   "source": [
    "- можно зайти в папку и сказать, что теперь это репозиторий"
   ]
  },
  {
   "cell_type": "code",
   "execution_count": 13,
   "metadata": {},
   "outputs": [],
   "source": [
    "!if not exist folder mkdir folder\n",
    "!cd folder"
   ]
  },
  {
   "cell_type": "code",
   "execution_count": 11,
   "metadata": {},
   "outputs": [
    {
     "name": "stdout",
     "output_type": "stream",
     "text": [
      " Volume in drive C is OS\n",
      " Volume Serial Number is 2CFE-F62B\n",
      "\n",
      " Directory of C:\\Users\\Roman Khudorozhkov\\Documents\\az_training\\git_tutorial\n",
      "\n",
      "27.11.2017  14:06    <DIR>          .\n",
      "27.11.2017  14:06    <DIR>          ..\n",
      "27.11.2017  13:38    <DIR>          .ipynb_checkpoints\n",
      "27.11.2017  14:06    <DIR>          folder\n",
      "27.11.2017  14:06             9 589 git tutorial 1.ipynb\n",
      "27.11.2017  13:36            13 238 git.md\n",
      "               2 File(s)         22 827 bytes\n",
      "               4 Dir(s)  137 220 476 928 bytes free\n"
     ]
    }
   ],
   "source": [
    "!dir"
   ]
  },
  {
   "cell_type": "code",
   "execution_count": null,
   "metadata": {},
   "outputs": [],
   "source": []
  }
 ],
 "metadata": {
  "kernelspec": {
   "display_name": "Python 3",
   "language": "python",
   "name": "python3"
  },
  "language_info": {
   "codemirror_mode": {
    "name": "ipython",
    "version": 3
   },
   "file_extension": ".py",
   "mimetype": "text/x-python",
   "name": "python",
   "nbconvert_exporter": "python",
   "pygments_lexer": "ipython3",
   "version": "3.6.3"
  }
 },
 "nbformat": 4,
 "nbformat_minor": 2
}
