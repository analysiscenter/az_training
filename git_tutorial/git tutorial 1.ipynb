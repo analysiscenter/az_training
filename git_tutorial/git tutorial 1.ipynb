{
 "cells": [
  {
   "cell_type": "markdown",
   "metadata": {},
   "source": [
    "#  Введение в git\n",
    "\n",
    "\n",
    "В этом ноутбуке будет дано введение в git, который позволяет отслеживать изменения файлов проекта, делать \"откаты\" и параллельно вести сразу несколько веток проекта.\n",
    "\n",
    "\n",
    "\n",
    "## Базовое устройство\n",
    "\n",
    "Здесь будет описано устройство репозитория, а именно что, где и как все хранится, это будет нужно для понимания, что на самом деле делают все команды.\n",
    "\n",
    "#### На каждой машине хранится копия всего репозитория.\n",
    "\n",
    "\n",
    "#### В самом репозитории хранятся снапшоты -- \"слепки\" (сжатые копии) всей файловой системы в каком-то состоянии проекта.\n",
    "\n",
    "- В каждом снапшоте хранятся копии(!) рабочей директории (а не diff-ы) \n",
    "- Если в новом снапшоте файл остался неизменным, то будет хранится ссылка на файл в предыдущем слепке.\n",
    "\n",
    "![snapshots](https://git-scm.com/book/en/v2/images/snapshots.png)\n",
    "\n",
    "#### Снапшоты индексируются коммитами\n",
    "\n",
    "- Коммит - объект, содержащий ссылку на слепок, информацию об авторе коммита, комментарий, а также ссылки на предыдущий коммит (или несколько ссылок, если этот коммит -- результат слияния веток).\n",
    "\n",
    "![commits_snapshots](https://git-scm.com/book/en/v2/images/commits-and-parents.png)\n",
    "\n",
    "\n",
    "#### Ветка -- это указатель на коммит.\n",
    "\n",
    "- На машине она представляет собой лишь файл, содержащий чек-сумму коммита\n",
    "- На текущую (рабочую) ветку указывает указатель HEAD\n",
    "- Переключение между ветками пердставляет собой просто перенос указателя.\n",
    "\n",
    "![branch](https://git-scm.com/book/en/v2/images/advance-master.png)\n",
    "\n",
    "---\n",
    "\n",
    "## Основные принципы\n",
    "\n",
    "Осознанавание базовых принципов работы с файлами проекта, отслеживаемого git'ом, позволит избежать большинства ошибок и сэкономит много времени.\n",
    "\n",
    "\n",
    "#### Файлы в репозитории могут находиться в трех различных состояниях: commited, modified, staged.\n",
    "\n",
    "- Commited - файлы сохранены в локальной БД\n",
    "- Modified - файлы изменены, но изменения не внесены в локальную БД\n",
    "- Staged - файлы помечены, будут включены в следующий коммит\n",
    "\n",
    "\n",
    "#### Соответственно, в гите есть три разных \"пространства\":  repository, working directory, staging area \n",
    " \n",
    "- Repository -- Хранятся метаданные и БД репозитория.\n",
    "- Working directory -- локальная копия рабочей версии проекта\n",
    "- Staging area (или index) -- файлы, которые войдут в следующий коммит\n",
    "\n",
    "![states](https://git-scm.com/book/en/v2/images/areas.png)\n",
    "\n",
    "#### Рабочий процесс\n",
    "\n",
    "\n",
    "- Меняем файлы в working directory\n",
    "- Указываем в staging area, какие именно изменения будут учтены при следующем коммите\n",
    "- Делаем коммит (записываем снапшот в БД и создаем коммит-объект)\n",
    "\n",
    "---\n"
   ]
  },
  {
   "cell_type": "markdown",
   "metadata": {},
   "source": [
    "# Базовые команды\n",
    "\n",
    "\n",
    "\n",
    "---\n",
    "\n",
    "\n",
    "\n",
    "\n",
    "## Создание репозитория\n",
    "\n",
    "\n",
    "\n",
    "### Создание локального репозитория\n",
    "\n",
    "#### git init\n",
    "\n",
    "### Клонирование\n",
    "\n",
    "#### git clone\n",
    "\n",
    "\n",
    "---\n",
    "\n",
    "\n",
    "---\n",
    "\n",
    "\n",
    "\n",
    "\n",
    "## Конфигурация репозитория\n",
    "\n",
    "#### git config\n",
    "\n",
    "#### .gitattributes\n",
    "\n",
    "#### .gitignore\n",
    "\n",
    "\n",
    "---\n",
    "\n",
    "\n",
    "---\n",
    "\n",
    "\n",
    "\n",
    "## Работа с репозиторием\n",
    "\n",
    "\n",
    "### Работа с локальной копией\n",
    "\n",
    "#### git add\n",
    "\n",
    "#### git commit\n",
    "\n",
    "#### git rm\n",
    "\n",
    "### Работа с удаленным репозиторием\n",
    "\n",
    "#### git remote\n",
    "\n",
    "#### git fetch\n",
    "\n",
    "#### git pull\n",
    "\n",
    "#### git push\n",
    "\n",
    "### Просмотр изменений и состояния репозитория\n",
    "\n",
    "#### git status + (-s)\n",
    "\n",
    "#### git diff"
   ]
  },
  {
   "cell_type": "markdown",
   "metadata": {},
   "source": [
    "\n",
    "## Создание репозитория\n"
   ]
  },
  {
   "cell_type": "markdown",
   "metadata": {},
   "source": [
    "\n",
    "\n",
    "\n",
    "### Создание локального репозитория\n",
    "\n",
    "#### git init\n",
    "\n",
    "git init folder\n",
    "\n",
    "Внутри folder создается папка .git -- репозиторий."
   ]
  },
  {
   "cell_type": "code",
   "execution_count": 25,
   "metadata": {},
   "outputs": [
    {
     "name": "stdout",
     "output_type": "stream",
     "text": [
      "Reinitialized existing Git repository in C:/Users/Roman Khudorozhkov/Documents/az_training/git_tutorial/folder/.git/\n"
     ]
    }
   ],
   "source": [
    "!if not exist folder mkdir folder\n",
    "!git init folder"
   ]
  },
  {
   "cell_type": "code",
   "execution_count": 27,
   "metadata": {},
   "outputs": [
    {
     "name": "stdout",
     "output_type": "stream",
     "text": [
      " Volume in drive C is OS\n",
      " Volume Serial Number is 2CFE-F62B\n",
      "\n",
      " Directory of C:\\Users\\Roman Khudorozhkov\\Documents\\az_training\\git_tutorial\\folder\n",
      "\n",
      "27.11.2017  16:02    <DIR>          .\n",
      "27.11.2017  16:02    <DIR>          ..\n",
      "               0 File(s)              0 bytes\n",
      "               2 Dir(s)  137 254 375 424 bytes free\n"
     ]
    }
   ],
   "source": [
    "!dir folder"
   ]
  },
  {
   "cell_type": "markdown",
   "metadata": {},
   "source": [
    "\n",
    "### Клонирование\n",
    "\n",
    "#### git clone\n",
    "\n",
    "git clone url folder -- клонирует репозиторий по адресу url в folder, делает чекаут активной ветки проекта."
   ]
  },
  {
   "cell_type": "code",
   "execution_count": 22,
   "metadata": {},
   "outputs": [
    {
     "name": "stderr",
     "output_type": "stream",
     "text": [
      "Cloning into 'folder_clone'...\n",
      "warning: You appear to have cloned an empty repository.\n",
      "done.\n"
     ]
    }
   ],
   "source": [
    "!git clone folder folder_clone"
   ]
  },
  {
   "cell_type": "code",
   "execution_count": 24,
   "metadata": {},
   "outputs": [
    {
     "name": "stdout",
     "output_type": "stream",
     "text": [
      " Volume in drive C is OS\n",
      " Volume Serial Number is 2CFE-F62B\n",
      "\n",
      " Directory of C:\\Users\\Roman Khudorozhkov\\Documents\\az_training\\git_tutorial\n",
      "\n",
      "27.11.2017  16:08    <DIR>          .\n",
      "27.11.2017  16:08    <DIR>          ..\n",
      "27.11.2017  14:07    <DIR>          -p\n",
      "27.11.2017  13:38    <DIR>          .ipynb_checkpoints\n",
      "27.11.2017  16:02    <DIR>          folder\n",
      "27.11.2017  16:06    <DIR>          folder_clone\n",
      "27.11.2017  16:08             6 930 git tutorial 1.ipynb\n",
      "27.11.2017  13:36            13 238 git.md\n",
      "               2 File(s)         20 168 bytes\n",
      "               6 Dir(s)  137 221 922 816 bytes free\n"
     ]
    }
   ],
   "source": [
    "!dir"
   ]
  },
  {
   "cell_type": "code",
   "execution_count": null,
   "metadata": {},
   "outputs": [],
   "source": []
  }
 ],
 "metadata": {
  "kernelspec": {
   "display_name": "Python 3",
   "language": "python",
   "name": "python3"
  },
  "language_info": {
   "codemirror_mode": {
    "name": "ipython",
    "version": 3
   },
   "file_extension": ".py",
   "mimetype": "text/x-python",
   "name": "python",
   "nbconvert_exporter": "python",
   "pygments_lexer": "ipython3",
   "version": "3.6.3"
  }
 },
 "nbformat": 4,
 "nbformat_minor": 2
}
