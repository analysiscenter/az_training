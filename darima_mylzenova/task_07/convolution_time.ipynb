{
 "cells": [
  {
   "cell_type": "markdown",
   "metadata": {},
   "source": [
    "# Let's see if there is difference in convolutions' multiplications time on GPU depending on the format of the data (both input images and matrices weights)."
   ]
  },
  {
   "cell_type": "code",
   "execution_count": 1,
   "metadata": {
    "collapsed": true
   },
   "outputs": [],
   "source": [
    "import sys\n",
    "\n",
    "import numpy as np\n",
    "import os\n",
    "import blosc\n",
    "\n",
    "import tensorflow as tf\n",
    "import matplotlib.pyplot as plt\n",
    "\n",
    "import os\n",
    "import blosc\n",
    "import time\n",
    "\n",
    "import numpy as np\n",
    "import tensorflow as tf\n",
    "import matplotlib.pyplot as plt\n",
    "from tqdm import tqdm\n",
    "sys.path.append(\"..\")\n",
    "\n",
    "\n",
    "from dataset import DatasetIndex, Dataset\n",
    "\n",
    "from dataset import Batch, action, model, inbatch_parallel, ImagesBatch"
   ]
  },
  {
   "cell_type": "code",
   "execution_count": 2,
   "metadata": {
    "collapsed": true
   },
   "outputs": [],
   "source": [
    "%matplotlib inline\n",
    "# %env CUDA_VISIBLE_DEVICES = 1"
   ]
  },
  {
   "cell_type": "code",
   "execution_count": 57,
   "metadata": {},
   "outputs": [
    {
     "data": {
      "text/plain": [
       "[name: \"/cpu:0\"\n",
       " device_type: \"CPU\"\n",
       " memory_limit: 268435456\n",
       " locality {\n",
       " }\n",
       " incarnation: 12010139642555102748, name: \"/gpu:0\"\n",
       " device_type: \"GPU\"\n",
       " memory_limit: 14680064\n",
       " locality {\n",
       "   bus_id: 1\n",
       " }\n",
       " incarnation: 6580488357207528323\n",
       " physical_device_desc: \"device: 0, name: GeForce GTX 1050, pci bus id: 0000:01:00.0\"]"
      ]
     },
     "execution_count": 57,
     "metadata": {},
     "output_type": "execute_result"
    }
   ],
   "source": [
    "from tensorflow.python.client import device_lib\n",
    "\n",
    "device_lib.list_local_devices()"
   ]
  },
  {
   "cell_type": "code",
   "execution_count": 144,
   "metadata": {
    "collapsed": true
   },
   "outputs": [],
   "source": [
    "def many_convs(d_type):\n",
    "    if d_type == 'float64':\n",
    "        d_type = tf.float64\n",
    "    if d_type == 'float32':\n",
    "        d_type = tf.float32\n",
    "    \n",
    "    x = tf.placeholder(d_type, [None, 256, 256])\n",
    "\n",
    "    x_as_pics = tf.reshape(x, shape=[-1, 256, 256, 1])\n",
    "    net = tf.layers.conv2d(x_as_pics, filters=3, kernel_size=(5,5), strides=(1, 1), kernel_initializer=tf.truncated_normal_initializer(0.0, 1, dtype = d_type), padding='same')\n",
    "    net = tf.layers.conv2d(net, filters=3, kernel_size=(3,3), strides=(1, 1), kernel_initializer=tf.truncated_normal_initializer(0.0, 1, dtype = d_type), padding='same')\n",
    "    net = tf.layers.conv2d(net, filters=3, kernel_size=(3,3), strides=(1, 1), kernel_initializer=tf.truncated_normal_initializer(0.0, 1, dtype = d_type), padding='same')\n",
    "    net = tf.layers.conv2d(net, filters=3, kernel_size=(3,3), strides=(1, 1), kernel_initializer=tf.truncated_normal_initializer(0.0, 1, dtype = d_type), padding='same')\n",
    "    net = tf.layers.conv2d(net, filters=3, kernel_size=(3,3), strides=(1, 1), kernel_initializer=tf.truncated_normal_initializer(0.0, 1, dtype = d_type), padding='same')\n",
    "    net = tf.layers.conv2d(net, filters=3, kernel_size=(3,3), strides=(1, 1), kernel_initializer=tf.truncated_normal_initializer(0.0, 1, dtype = d_type), padding='same')\n",
    "    net = tf.layers.conv2d(net, filters=3, kernel_size=(3,3), strides=(1, 1), kernel_initializer=tf.truncated_normal_initializer(0.0, 1, dtype = d_type), padding='same')\n",
    "    net = tf.layers.conv2d(net, filters=3, kernel_size=(3,3), strides=(1, 1), kernel_initializer=tf.truncated_normal_initializer(0.0, 1, dtype = d_type), padding='same')\n",
    "    net = tf.layers.conv2d(net, filters=3, kernel_size=(3,3), strides=(1, 1), kernel_initializer=tf.truncated_normal_initializer(0.0, 1, dtype = d_type), padding='same')\n",
    "    net = tf.layers.conv2d(net, filters=3, kernel_size=(3,3), strides=(1, 1), kernel_initializer=tf.truncated_normal_initializer(0.0, 1, dtype = d_type), padding='same')\n",
    "    net = tf.layers.conv2d(net, filters=3, kernel_size=(3,3), strides=(1, 1), kernel_initializer=tf.truncated_normal_initializer(0.0, 1, dtype = d_type), padding='same')\n",
    "    net = tf.layers.conv2d(net, filters=3, kernel_size=(3,3), strides=(1, 1), kernel_initializer=tf.truncated_normal_initializer(0.0, 1, dtype = d_type), padding='same')\n",
    "    net = tf.layers.conv2d(net, filters=3, kernel_size=(3,3), strides=(1, 1), kernel_initializer=tf.truncated_normal_initializer(0.0, 1, dtype = d_type), padding='same')\n",
    "    net = tf.layers.conv2d(net, filters=3, kernel_size=(3,3), strides=(1, 1), kernel_initializer=tf.truncated_normal_initializer(0.0, 1, dtype = d_type), padding='same')\n",
    "    return x, net"
   ]
  },
  {
   "cell_type": "code",
   "execution_count": 2,
   "metadata": {
    "collapsed": true
   },
   "outputs": [],
   "source": [
    "def many_convs_second(d_type):\n",
    "    if d_type == 'float16':\n",
    "        d_type = tf.float16\n",
    "    if d_type == 'float32':\n",
    "        d_type = tf.float32\n",
    "    \n",
    "    \n",
    "    x = tf.placeholder(d_type, [None, 256, 256])\n",
    "\n",
    "    x_as_pics = tf.reshape(x, shape=[-1, 256, 256, 1])\n",
    "    kernel_conv = (5, 5)\n",
    "    filter_shape = tuple(kernel_conv) + (1, ) + (3, )\n",
    "    filter_weights = tf.Variable(tf.truncated_normal(shape=filter_shape, stddev=1, dtype=d_type))\n",
    "    net = tf.nn.convolution(x_as_pics, filter=filter_weights, padding='SAME')\n",
    "    \n",
    "    kernel_conv = (3, 3)\n",
    "    filter_shape = tuple(kernel_conv) + (3, ) + (3, )\n",
    "    filter_weights = tf.Variable(tf.truncated_normal(shape=filter_shape, stddev=1, dtype=d_type))\n",
    "    net = tf.nn.convolution(net, filter=filter_weights, padding='SAME')\n",
    "    \n",
    "    kernel_conv = (3, 3)\n",
    "    filter_shape = tuple(kernel_conv) + (3, ) + (3, )\n",
    "    filter_weights = tf.Variable(tf.truncated_normal(shape=filter_shape, stddev=1, dtype=d_type))\n",
    "    net = tf.nn.convolution(net, filter=filter_weights, padding='SAME')\n",
    "    \n",
    "    kernel_conv = (3, 3)\n",
    "    filter_shape = tuple(kernel_conv) + (3, ) + (3, )\n",
    "    filter_weights = tf.Variable(tf.truncated_normal(shape=filter_shape, stddev=1, dtype=d_type))\n",
    "    net = tf.nn.convolution(net, filter=filter_weights, padding='SAME')\n",
    "    \n",
    "    kernel_conv = (3, 3)\n",
    "    filter_shape = tuple(kernel_conv) + (3, ) + (3, )\n",
    "    filter_weights = tf.Variable(tf.truncated_normal(shape=filter_shape, stddev=1, dtype=d_type))\n",
    "    net = tf.nn.convolution(net, filter=filter_weights, padding='SAME')\n",
    "    \n",
    "    kernel_conv = (3, 3)\n",
    "    filter_shape = tuple(kernel_conv) + (3, ) + (3, )\n",
    "    filter_weights = tf.Variable(tf.truncated_normal(shape=filter_shape, stddev=1, dtype=d_type))\n",
    "    net = tf.nn.convolution(net, filter=filter_weights, padding='SAME')\n",
    "    \n",
    "    kernel_conv = (3, 3)\n",
    "    filter_shape = tuple(kernel_conv) + (3, ) + (3, )\n",
    "    filter_weights = tf.Variable(tf.truncated_normal(shape=filter_shape, stddev=1, dtype=d_type))\n",
    "    net = tf.nn.convolution(net, filter=filter_weights, padding='SAME')\n",
    "\n",
    "    kernel_conv = (3, 3)\n",
    "    filter_shape = tuple(kernel_conv) + (3, ) + (3, )\n",
    "    filter_weights = tf.Variable(tf.truncated_normal(shape=filter_shape, stddev=1, dtype=d_type))\n",
    "    net = tf.nn.convolution(net, filter=filter_weights, padding='SAME')\n",
    "\n",
    "    kernel_conv = (3, 3)\n",
    "    filter_shape = tuple(kernel_conv) + (3, ) + (3, )\n",
    "    filter_weights = tf.Variable(tf.truncated_normal(shape=filter_shape, stddev=1, dtype=d_type))\n",
    "    net = tf.nn.convolution(net, filter=filter_weights, padding='SAME')\n",
    "\n",
    "    kernel_conv = (3, 3)\n",
    "    filter_shape = tuple(kernel_conv) + (3, ) + (3, )\n",
    "    filter_weights = tf.Variable(tf.truncated_normal(shape=filter_shape, stddev=1, dtype=d_type))\n",
    "    net = tf.nn.convolution(net, filter=filter_weights, padding='SAME')\n",
    "\n",
    "    kernel_conv = (3, 3)\n",
    "    filter_shape = tuple(kernel_conv) + (3, ) + (3, )\n",
    "    filter_weights = tf.Variable(tf.truncated_normal(shape=filter_shape, stddev=1, dtype=d_type))\n",
    "    net = tf.nn.convolution(net, filter=filter_weights, padding='SAME')\n",
    "\n",
    "    kernel_conv = (3, 3)\n",
    "    filter_shape = tuple(kernel_conv) + (3, ) + (3, )\n",
    "    filter_weights = tf.Variable(tf.truncated_normal(shape=filter_shape, stddev=1, dtype=d_type))\n",
    "    net = tf.nn.convolution(net, filter=filter_weights, padding='SAME')\n",
    "\n",
    "    kernel_conv = (3, 3)\n",
    "    filter_shape = tuple(kernel_conv) + (3, ) + (3, )\n",
    "    filter_weights = tf.Variable(tf.truncated_normal(shape=filter_shape, stddev=1, dtype=d_type))\n",
    "    net = tf.nn.convolution(net, filter=filter_weights, padding='SAME')\n",
    "    \n",
    "    kernel_conv = (3, 3)\n",
    "    filter_shape = tuple(kernel_conv) + (3, ) + (3, )\n",
    "    filter_weights = tf.Variable(tf.truncated_normal(shape=filter_shape, stddev=1, dtype=d_type))\n",
    "    net = tf.nn.convolution(net, filter=filter_weights, padding='SAME')\n",
    "    \n",
    "    kernel_conv = (3, 3)\n",
    "    filter_shape = tuple(kernel_conv) + (3, ) + (3, )\n",
    "    filter_weights = tf.Variable(tf.truncated_normal(shape=filter_shape, stddev=1, dtype=d_type))\n",
    "    net = tf.nn.convolution(net, filter=filter_weights, padding='SAME')\n",
    "\n",
    "    kernel_conv = (3, 3)\n",
    "    filter_shape = tuple(kernel_conv) + (3, ) + (3, )\n",
    "    filter_weights = tf.Variable(tf.truncated_normal(shape=filter_shape, stddev=1, dtype=d_type))\n",
    "    net = tf.nn.convolution(net, filter=filter_weights, padding='SAME')\n",
    "\n",
    "    kernel_conv = (3, 3)\n",
    "    filter_shape = tuple(kernel_conv) + (3, ) + (3, )\n",
    "    filter_weights = tf.Variable(tf.truncated_normal(shape=filter_shape, stddev=1, dtype=d_type))\n",
    "    net = tf.nn.convolution(net, filter=filter_weights, padding='SAME')\n",
    "\n",
    "\n",
    "    kernel_conv = (3, 3)\n",
    "    filter_shape = tuple(kernel_conv) + (3, ) + (3, )\n",
    "    filter_weights = tf.Variable(tf.truncated_normal(shape=filter_shape, stddev=1, dtype=d_type))\n",
    "    net = tf.nn.convolution(net, filter=filter_weights, padding='SAME')\n",
    "\n",
    "    kernel_conv = (3, 3)\n",
    "    filter_shape = tuple(kernel_conv) + (3, ) + (3, )\n",
    "    filter_weights = tf.Variable(tf.truncated_normal(shape=filter_shape, stddev=1, dtype=d_type))\n",
    "    net = tf.nn.convolution(net, filter=filter_weights, padding='SAME')\n",
    "\n",
    "    kernel_conv = (3, 3)\n",
    "    filter_shape = tuple(kernel_conv) + (3, ) + (3, )\n",
    "    filter_weights = tf.Variable(tf.truncated_normal(shape=filter_shape, stddev=1, dtype=d_type))\n",
    "    net = tf.nn.convolution(net, filter=filter_weights, padding='SAME')\n",
    " \n",
    "    return x, net"
   ]
  },
  {
   "cell_type": "code",
   "execution_count": 3,
   "metadata": {},
   "outputs": [
    {
     "name": "stdout",
     "output_type": "stream",
     "text": [
      "env: TF_FP16_MATMUL_USE_FP32_COMPUTE=\"False\"\n"
     ]
    }
   ],
   "source": [
    "%env TF_FP16_MATMUL_USE_FP32_COMPUTE=\"False\""
   ]
  },
  {
   "cell_type": "code",
   "execution_count": 4,
   "metadata": {
    "collapsed": true
   },
   "outputs": [],
   "source": [
    "imgs_rand_16 = np.random.normal(size=(150, 256, 256)).astype('float16')"
   ]
  },
  {
   "cell_type": "code",
   "execution_count": 120,
   "metadata": {
    "collapsed": true
   },
   "outputs": [],
   "source": [
    "def measure_fp16():\n",
    "    times = []\n",
    "    for i in range(10):\n",
    "        first_graph = tf.Graph()\n",
    "        with first_graph.as_default():\n",
    "            sess = tf.Session()\n",
    "\n",
    "            start_time = time.clock()\n",
    "            with tf.device('/gpu:0'):\n",
    "                x, net = many_convs_second('float16')\n",
    "                sess.run(tf.global_variables_initializer())\n",
    "                result = sess.run(net, feed_dict={x: imgs_rand_16})\n",
    "\n",
    "            end_time = time.clock()\n",
    "            times.append(end_time - start_time)\n",
    "            # print ('time: %s  seconds' % (end_time - start_time))\n",
    "    print (np.mean(np.array(times)))\n",
    "    return np.mean(np.array(times))"
   ]
  },
  {
   "cell_type": "code",
   "execution_count": 121,
   "metadata": {},
   "outputs": [
    {
     "name": "stdout",
     "output_type": "stream",
     "text": [
      "1.00821609735\n",
      "0.993104598879\n",
      "0.997061764503\n",
      "1.00150022427\n",
      "1.16349286519\n",
      "1.00389593719\n",
      "1.0059263946\n",
      "1.30398896502\n",
      "1.57751176979\n",
      "1.00265944373\n"
     ]
    }
   ],
   "source": [
    "t_1 = []\n",
    "for i in range(10):\n",
    "    t_1.append(measure_fp16())"
   ]
  },
  {
   "cell_type": "code",
   "execution_count": 122,
   "metadata": {},
   "outputs": [
    {
     "name": "stdout",
     "output_type": "stream",
     "text": [
      "1.10573580605\n",
      "0.184673158062\n"
     ]
    }
   ],
   "source": [
    "print (np.mean(np.array(t_1)))\n",
    "print (np.std(np.array(t_1)))"
   ]
  },
  {
   "cell_type": "code",
   "execution_count": 14,
   "metadata": {
    "collapsed": true
   },
   "outputs": [],
   "source": [
    "imgs_rand_32 = np.random.normal(size=(150, 256, 256)).astype('float32')"
   ]
  },
  {
   "cell_type": "code",
   "execution_count": 128,
   "metadata": {
    "collapsed": true
   },
   "outputs": [],
   "source": [
    "def measure_fp32():\n",
    "    times = []\n",
    "\n",
    "    for i in range(10):\n",
    "        second_graph = tf.Graph()\n",
    "        with second_graph.as_default():\n",
    "            sess = tf.Session()\n",
    "\n",
    "            start_time = time.clock()\n",
    "            with tf.device('/gpu:0'):\n",
    "                x, net = many_convs_second('float32')\n",
    "                sess.run(tf.global_variables_initializer())\n",
    "                result = sess.run(net, feed_dict={x: imgs_rand_32})\n",
    "\n",
    "            end_time = time.clock()\n",
    "            times.append(end_time - start_time)\n",
    "            # print ('time: %s  seconds' % (end_time - start_time))\n",
    "    print (np.mean(np.array(times)))\n",
    "    return (np.mean(np.array(times)))"
   ]
  },
  {
   "cell_type": "code",
   "execution_count": 131,
   "metadata": {},
   "outputs": [
    {
     "name": "stdout",
     "output_type": "stream",
     "text": [
      "1.24069207458\n",
      "1.86945583639\n",
      "1.37160364526\n",
      "1.9665473946\n",
      "1.99382096062\n",
      "1.84998049005\n",
      "1.47892487391\n",
      "1.02915600305\n",
      "1.12878629854\n",
      "1.23611824855\n"
     ]
    }
   ],
   "source": [
    "t_2 = []\n",
    "for i in range(10):\n",
    "    t_2.append(measure_fp32())"
   ]
  },
  {
   "cell_type": "code",
   "execution_count": 132,
   "metadata": {},
   "outputs": [
    {
     "name": "stdout",
     "output_type": "stream",
     "text": [
      "1.51650858256\n",
      "0.350867764753\n"
     ]
    }
   ],
   "source": [
    "print (np.mean(np.array(t_2)))\n",
    "print (np.std(np.array(t_2)))"
   ]
  },
  {
   "cell_type": "code",
   "execution_count": 98,
   "metadata": {
    "collapsed": true
   },
   "outputs": [],
   "source": [
    "def many_convs_third(d_type):\n",
    "    if d_type == 'int8':\n",
    "        d_type = tf.int8\n",
    "    if d_type == 'int16':\n",
    "        d_type = tf.int16\n",
    "    \n",
    "    \n",
    "    x = tf.placeholder(d_type, [None, 500])\n",
    "    \n",
    "    \n",
    "    n_outs = 256\n",
    "    n_ins = x.shape.as_list()[-1]\n",
    "    W = tf.placeholder(d_type, [500, 256])\n",
    "    b = tf.placeholder(d_type, [n_outs])\n",
    "    net = tf.matmul(x, W)\n",
    "    \n",
    "#     net = tf.nn.xw_plus_b(x, W,  biases=b)\n",
    "    \n",
    "#     W = tf.Variable(tf.random_uniform(minval=0, maxval=100, shape=[n_ins, n_outs], dtype=d_type))\n",
    "#     net = tf.nn.xw_plus_b(x, W, biases=tf.Variable(tf.zeros([n_outs], dtype=d_type)))\n",
    "# #     net = tf.layers.dense(x, 128, kernel_initializer=tf.random_uniform_initializer(minval=0, maxval=100, dtype=d_type))\n",
    "\n",
    "    return x, W, b, net"
   ]
  },
  {
   "cell_type": "code",
   "execution_count": 96,
   "metadata": {
    "collapsed": true
   },
   "outputs": [],
   "source": [
    "imgs_int8 = np.random.randint(0, 20, size=(150, 500)).astype('int8')"
   ]
  },
  {
   "cell_type": "code",
   "execution_count": 65,
   "metadata": {},
   "outputs": [
    {
     "data": {
      "text/plain": [
       "(150, 500)"
      ]
     },
     "execution_count": 65,
     "metadata": {},
     "output_type": "execute_result"
    }
   ],
   "source": [
    "imgs_int8.shape"
   ]
  },
  {
   "cell_type": "code",
   "execution_count": 99,
   "metadata": {},
   "outputs": [
    {
     "ename": "TypeError",
     "evalue": "Value passed to parameter 'a' has DataType int8 not in list of allowed values: float16, float32, float64, int32, complex64, complex128",
     "output_type": "error",
     "traceback": [
      "\u001b[1;31m---------------------------------------------------------------------------\u001b[0m",
      "\u001b[1;31mTypeError\u001b[0m                                 Traceback (most recent call last)",
      "\u001b[1;32m<ipython-input-99-4eab675ed853>\u001b[0m in \u001b[0;36m<module>\u001b[1;34m()\u001b[0m\n\u001b[0;32m      7\u001b[0m         \u001b[0mstart_time\u001b[0m \u001b[1;33m=\u001b[0m \u001b[0mtime\u001b[0m\u001b[1;33m.\u001b[0m\u001b[0mclock\u001b[0m\u001b[1;33m(\u001b[0m\u001b[1;33m)\u001b[0m\u001b[1;33m\u001b[0m\u001b[0m\n\u001b[0;32m      8\u001b[0m         \u001b[1;32mwith\u001b[0m \u001b[0mtf\u001b[0m\u001b[1;33m.\u001b[0m\u001b[0mdevice\u001b[0m\u001b[1;33m(\u001b[0m\u001b[1;34m'/gpu:0'\u001b[0m\u001b[1;33m)\u001b[0m\u001b[1;33m:\u001b[0m\u001b[1;33m\u001b[0m\u001b[0m\n\u001b[1;32m----> 9\u001b[1;33m             \u001b[0mx\u001b[0m\u001b[1;33m,\u001b[0m \u001b[0mW\u001b[0m\u001b[1;33m,\u001b[0m \u001b[0mb\u001b[0m\u001b[1;33m,\u001b[0m \u001b[0mnet\u001b[0m \u001b[1;33m=\u001b[0m \u001b[0mmany_convs_third\u001b[0m\u001b[1;33m(\u001b[0m\u001b[1;34m'int8'\u001b[0m\u001b[1;33m)\u001b[0m\u001b[1;33m\u001b[0m\u001b[0m\n\u001b[0m\u001b[0;32m     10\u001b[0m             \u001b[0msess\u001b[0m\u001b[1;33m.\u001b[0m\u001b[0mrun\u001b[0m\u001b[1;33m(\u001b[0m\u001b[0mtf\u001b[0m\u001b[1;33m.\u001b[0m\u001b[0mglobal_variables_initializer\u001b[0m\u001b[1;33m(\u001b[0m\u001b[1;33m)\u001b[0m\u001b[1;33m)\u001b[0m\u001b[1;33m\u001b[0m\u001b[0m\n\u001b[0;32m     11\u001b[0m             \u001b[0mbias\u001b[0m \u001b[1;33m=\u001b[0m \u001b[0mnp\u001b[0m\u001b[1;33m.\u001b[0m\u001b[0mzeros\u001b[0m\u001b[1;33m(\u001b[0m\u001b[1;36m256\u001b[0m\u001b[1;33m,\u001b[0m \u001b[0mdtype\u001b[0m\u001b[1;33m=\u001b[0m\u001b[0mint8\u001b[0m\u001b[1;33m)\u001b[0m\u001b[1;33m\u001b[0m\u001b[0m\n",
      "\u001b[1;32m<ipython-input-98-5938d849af63>\u001b[0m in \u001b[0;36mmany_convs_third\u001b[1;34m(d_type)\u001b[0m\n\u001b[0;32m     13\u001b[0m     \u001b[0mW\u001b[0m \u001b[1;33m=\u001b[0m \u001b[0mtf\u001b[0m\u001b[1;33m.\u001b[0m\u001b[0mplaceholder\u001b[0m\u001b[1;33m(\u001b[0m\u001b[0md_type\u001b[0m\u001b[1;33m,\u001b[0m \u001b[1;33m[\u001b[0m\u001b[1;36m500\u001b[0m\u001b[1;33m,\u001b[0m \u001b[1;36m256\u001b[0m\u001b[1;33m]\u001b[0m\u001b[1;33m)\u001b[0m\u001b[1;33m\u001b[0m\u001b[0m\n\u001b[0;32m     14\u001b[0m     \u001b[0mb\u001b[0m \u001b[1;33m=\u001b[0m \u001b[0mtf\u001b[0m\u001b[1;33m.\u001b[0m\u001b[0mplaceholder\u001b[0m\u001b[1;33m(\u001b[0m\u001b[0md_type\u001b[0m\u001b[1;33m,\u001b[0m \u001b[1;33m[\u001b[0m\u001b[0mn_outs\u001b[0m\u001b[1;33m]\u001b[0m\u001b[1;33m)\u001b[0m\u001b[1;33m\u001b[0m\u001b[0m\n\u001b[1;32m---> 15\u001b[1;33m     \u001b[0mnet\u001b[0m \u001b[1;33m=\u001b[0m \u001b[0mtf\u001b[0m\u001b[1;33m.\u001b[0m\u001b[0mmatmul\u001b[0m\u001b[1;33m(\u001b[0m\u001b[0mx\u001b[0m\u001b[1;33m,\u001b[0m \u001b[0mW\u001b[0m\u001b[1;33m)\u001b[0m\u001b[1;33m\u001b[0m\u001b[0m\n\u001b[0m\u001b[0;32m     16\u001b[0m \u001b[1;33m\u001b[0m\u001b[0m\n\u001b[0;32m     17\u001b[0m \u001b[1;31m#     net = tf.nn.xw_plus_b(x, W,  biases=b)\u001b[0m\u001b[1;33m\u001b[0m\u001b[1;33m\u001b[0m\u001b[0m\n",
      "\u001b[1;32mC:\\Users\\Dari\\Anaconda3\\lib\\site-packages\\tensorflow\\python\\ops\\math_ops.py\u001b[0m in \u001b[0;36mmatmul\u001b[1;34m(a, b, transpose_a, transpose_b, adjoint_a, adjoint_b, a_is_sparse, b_is_sparse, name)\u001b[0m\n\u001b[0;32m   1814\u001b[0m     \u001b[1;32melse\u001b[0m\u001b[1;33m:\u001b[0m\u001b[1;33m\u001b[0m\u001b[0m\n\u001b[0;32m   1815\u001b[0m       return gen_math_ops._mat_mul(\n\u001b[1;32m-> 1816\u001b[1;33m           a, b, transpose_a=transpose_a, transpose_b=transpose_b, name=name)\n\u001b[0m\u001b[0;32m   1817\u001b[0m \u001b[1;33m\u001b[0m\u001b[0m\n\u001b[0;32m   1818\u001b[0m \u001b[1;33m\u001b[0m\u001b[0m\n",
      "\u001b[1;32mC:\\Users\\Dari\\Anaconda3\\lib\\site-packages\\tensorflow\\python\\ops\\gen_math_ops.py\u001b[0m in \u001b[0;36m_mat_mul\u001b[1;34m(a, b, transpose_a, transpose_b, name)\u001b[0m\n\u001b[0;32m   1215\u001b[0m   \"\"\"\n\u001b[0;32m   1216\u001b[0m   result = _op_def_lib.apply_op(\"MatMul\", a=a, b=b, transpose_a=transpose_a,\n\u001b[1;32m-> 1217\u001b[1;33m                                 transpose_b=transpose_b, name=name)\n\u001b[0m\u001b[0;32m   1218\u001b[0m   \u001b[1;32mreturn\u001b[0m \u001b[0mresult\u001b[0m\u001b[1;33m\u001b[0m\u001b[0m\n\u001b[0;32m   1219\u001b[0m \u001b[1;33m\u001b[0m\u001b[0m\n",
      "\u001b[1;32mC:\\Users\\Dari\\Anaconda3\\lib\\site-packages\\tensorflow\\python\\framework\\op_def_library.py\u001b[0m in \u001b[0;36mapply_op\u001b[1;34m(self, op_type_name, name, **keywords)\u001b[0m\n\u001b[0;32m    587\u001b[0m               _SatisfiesTypeConstraint(base_type,\n\u001b[0;32m    588\u001b[0m                                        \u001b[0m_Attr\u001b[0m\u001b[1;33m(\u001b[0m\u001b[0mop_def\u001b[0m\u001b[1;33m,\u001b[0m \u001b[0minput_arg\u001b[0m\u001b[1;33m.\u001b[0m\u001b[0mtype_attr\u001b[0m\u001b[1;33m)\u001b[0m\u001b[1;33m,\u001b[0m\u001b[1;33m\u001b[0m\u001b[0m\n\u001b[1;32m--> 589\u001b[1;33m                                        param_name=input_name)\n\u001b[0m\u001b[0;32m    590\u001b[0m             \u001b[0mattrs\u001b[0m\u001b[1;33m[\u001b[0m\u001b[0minput_arg\u001b[0m\u001b[1;33m.\u001b[0m\u001b[0mtype_attr\u001b[0m\u001b[1;33m]\u001b[0m \u001b[1;33m=\u001b[0m \u001b[0mattr_value\u001b[0m\u001b[1;33m\u001b[0m\u001b[0m\n\u001b[0;32m    591\u001b[0m             \u001b[0minferred_from\u001b[0m\u001b[1;33m[\u001b[0m\u001b[0minput_arg\u001b[0m\u001b[1;33m.\u001b[0m\u001b[0mtype_attr\u001b[0m\u001b[1;33m]\u001b[0m \u001b[1;33m=\u001b[0m \u001b[0minput_name\u001b[0m\u001b[1;33m\u001b[0m\u001b[0m\n",
      "\u001b[1;32mC:\\Users\\Dari\\Anaconda3\\lib\\site-packages\\tensorflow\\python\\framework\\op_def_library.py\u001b[0m in \u001b[0;36m_SatisfiesTypeConstraint\u001b[1;34m(dtype, attr_def, param_name)\u001b[0m\n\u001b[0;32m     58\u001b[0m           \u001b[1;34m\"allowed values: %s\"\u001b[0m \u001b[1;33m%\u001b[0m\u001b[1;33m\u001b[0m\u001b[0m\n\u001b[0;32m     59\u001b[0m           (param_name, dtypes.as_dtype(dtype).name,\n\u001b[1;32m---> 60\u001b[1;33m            \", \".join(dtypes.as_dtype(x).name for x in allowed_list)))\n\u001b[0m\u001b[0;32m     61\u001b[0m \u001b[1;33m\u001b[0m\u001b[0m\n\u001b[0;32m     62\u001b[0m \u001b[1;33m\u001b[0m\u001b[0m\n",
      "\u001b[1;31mTypeError\u001b[0m: Value passed to parameter 'a' has DataType int8 not in list of allowed values: float16, float32, float64, int32, complex64, complex128"
     ]
    }
   ],
   "source": [
    "times = []\n",
    "for i in range(10):\n",
    "    first_graph = tf.Graph()\n",
    "    with first_graph.as_default():\n",
    "        sess = tf.Session()\n",
    "\n",
    "        start_time = time.clock()\n",
    "        with tf.device('/gpu:0'):\n",
    "            x, W, b, net = many_convs_third('int8')\n",
    "            sess.run(tf.global_variables_initializer())\n",
    "            bias = np.zeros(256, dtype=int8)\n",
    "            weights = np.random.randint(0, 20, size=(500, 256)).astype('int8')\n",
    "            result = sess.run(net, feed_dict={x: imgs_int8, W:weights, b:bias})\n",
    "\n",
    "        end_time = time.clock()\n",
    "        times.append(end_time - start_time)\n",
    "        print ('time: %s  seconds' % (end_time - start_time))\n",
    "print (np.mean(np.array(times)))"
   ]
  },
  {
   "cell_type": "code",
   "execution_count": 100,
   "metadata": {
    "collapsed": true
   },
   "outputs": [],
   "source": [
    "def many_convs_third(d_type):\n",
    "    if d_type == 'int8':\n",
    "        d_type = tf.int32\n",
    "    if d_type == 'int16':\n",
    "        d_type = tf.int16\n",
    "    \n",
    "    \n",
    "    x = tf.placeholder(d_type, [None, 500])\n",
    "    \n",
    "    \n",
    "    n_outs = 256\n",
    "    n_ins = x.shape.as_list()[-1]\n",
    "    W = tf.placeholder(d_type, [500, 256])\n",
    "    b = tf.placeholder(d_type, [n_outs])\n",
    "    net = tf.matmul(x, W)\n",
    "    \n",
    "#     net = tf.nn.xw_plus_b(x, W,  biases=b)\n",
    "    \n",
    "#     W = tf.Variable(tf.random_uniform(minval=0, maxval=100, shape=[n_ins, n_outs], dtype=d_type))\n",
    "#     net = tf.nn.xw_plus_b(x, W, biases=tf.Variable(tf.zeros([n_outs], dtype=d_type)))\n",
    "# #     net = tf.layers.dense(x, 128, kernel_initializer=tf.random_uniform_initializer(minval=0, maxval=100, dtype=d_type))\n",
    "\n",
    "    return x, W, b, net"
   ]
  },
  {
   "cell_type": "code",
   "execution_count": null,
   "metadata": {
    "collapsed": true
   },
   "outputs": [],
   "source": []
  },
  {
   "cell_type": "code",
   "execution_count": 101,
   "metadata": {},
   "outputs": [
    {
     "ename": "InvalidArgumentError",
     "evalue": "Cannot assign a device for operation 'MatMul': Could not satisfy explicit device specification '/device:GPU:0' because no supported kernel for GPU devices is available.\n\t [[Node: MatMul = MatMul[T=DT_INT32, transpose_a=false, transpose_b=false, _device=\"/device:GPU:0\"](Placeholder, Placeholder_1)]]\n\nCaused by op 'MatMul', defined at:\n  File \"C:\\Users\\Dari\\Anaconda3\\lib\\runpy.py\", line 193, in _run_module_as_main\n    \"__main__\", mod_spec)\n  File \"C:\\Users\\Dari\\Anaconda3\\lib\\runpy.py\", line 85, in _run_code\n    exec(code, run_globals)\n  File \"C:\\Users\\Dari\\Anaconda3\\lib\\site-packages\\ipykernel_launcher.py\", line 16, in <module>\n    app.launch_new_instance()\n  File \"C:\\Users\\Dari\\Anaconda3\\lib\\site-packages\\traitlets\\config\\application.py\", line 658, in launch_instance\n    app.start()\n  File \"C:\\Users\\Dari\\Anaconda3\\lib\\site-packages\\ipykernel\\kernelapp.py\", line 477, in start\n    ioloop.IOLoop.instance().start()\n  File \"C:\\Users\\Dari\\Anaconda3\\lib\\site-packages\\zmq\\eventloop\\ioloop.py\", line 177, in start\n    super(ZMQIOLoop, self).start()\n  File \"C:\\Users\\Dari\\Anaconda3\\lib\\site-packages\\tornado\\ioloop.py\", line 888, in start\n    handler_func(fd_obj, events)\n  File \"C:\\Users\\Dari\\Anaconda3\\lib\\site-packages\\tornado\\stack_context.py\", line 277, in null_wrapper\n    return fn(*args, **kwargs)\n  File \"C:\\Users\\Dari\\Anaconda3\\lib\\site-packages\\zmq\\eventloop\\zmqstream.py\", line 440, in _handle_events\n    self._handle_recv()\n  File \"C:\\Users\\Dari\\Anaconda3\\lib\\site-packages\\zmq\\eventloop\\zmqstream.py\", line 472, in _handle_recv\n    self._run_callback(callback, msg)\n  File \"C:\\Users\\Dari\\Anaconda3\\lib\\site-packages\\zmq\\eventloop\\zmqstream.py\", line 414, in _run_callback\n    callback(*args, **kwargs)\n  File \"C:\\Users\\Dari\\Anaconda3\\lib\\site-packages\\tornado\\stack_context.py\", line 277, in null_wrapper\n    return fn(*args, **kwargs)\n  File \"C:\\Users\\Dari\\Anaconda3\\lib\\site-packages\\ipykernel\\kernelbase.py\", line 283, in dispatcher\n    return self.dispatch_shell(stream, msg)\n  File \"C:\\Users\\Dari\\Anaconda3\\lib\\site-packages\\ipykernel\\kernelbase.py\", line 235, in dispatch_shell\n    handler(stream, idents, msg)\n  File \"C:\\Users\\Dari\\Anaconda3\\lib\\site-packages\\ipykernel\\kernelbase.py\", line 399, in execute_request\n    user_expressions, allow_stdin)\n  File \"C:\\Users\\Dari\\Anaconda3\\lib\\site-packages\\ipykernel\\ipkernel.py\", line 196, in do_execute\n    res = shell.run_cell(code, store_history=store_history, silent=silent)\n  File \"C:\\Users\\Dari\\Anaconda3\\lib\\site-packages\\ipykernel\\zmqshell.py\", line 533, in run_cell\n    return super(ZMQInteractiveShell, self).run_cell(*args, **kwargs)\n  File \"C:\\Users\\Dari\\Anaconda3\\lib\\site-packages\\IPython\\core\\interactiveshell.py\", line 2717, in run_cell\n    interactivity=interactivity, compiler=compiler, result=result)\n  File \"C:\\Users\\Dari\\Anaconda3\\lib\\site-packages\\IPython\\core\\interactiveshell.py\", line 2821, in run_ast_nodes\n    if self.run_code(code, result):\n  File \"C:\\Users\\Dari\\Anaconda3\\lib\\site-packages\\IPython\\core\\interactiveshell.py\", line 2881, in run_code\n    exec(code_obj, self.user_global_ns, self.user_ns)\n  File \"<ipython-input-101-4eab675ed853>\", line 9, in <module>\n    x, W, b, net = many_convs_third('int8')\n  File \"<ipython-input-100-4bae046189ab>\", line 15, in many_convs_third\n    net = tf.matmul(x, W)\n  File \"C:\\Users\\Dari\\Anaconda3\\lib\\site-packages\\tensorflow\\python\\ops\\math_ops.py\", line 1816, in matmul\n    a, b, transpose_a=transpose_a, transpose_b=transpose_b, name=name)\n  File \"C:\\Users\\Dari\\Anaconda3\\lib\\site-packages\\tensorflow\\python\\ops\\gen_math_ops.py\", line 1217, in _mat_mul\n    transpose_b=transpose_b, name=name)\n  File \"C:\\Users\\Dari\\Anaconda3\\lib\\site-packages\\tensorflow\\python\\framework\\op_def_library.py\", line 767, in apply_op\n    op_def=op_def)\n  File \"C:\\Users\\Dari\\Anaconda3\\lib\\site-packages\\tensorflow\\python\\framework\\ops.py\", line 2506, in create_op\n    original_op=self._default_original_op, op_def=op_def)\n  File \"C:\\Users\\Dari\\Anaconda3\\lib\\site-packages\\tensorflow\\python\\framework\\ops.py\", line 1269, in __init__\n    self._traceback = _extract_stack()\n\nInvalidArgumentError (see above for traceback): Cannot assign a device for operation 'MatMul': Could not satisfy explicit device specification '/device:GPU:0' because no supported kernel for GPU devices is available.\n\t [[Node: MatMul = MatMul[T=DT_INT32, transpose_a=false, transpose_b=false, _device=\"/device:GPU:0\"](Placeholder, Placeholder_1)]]\n",
     "output_type": "error",
     "traceback": [
      "\u001b[1;31m---------------------------------------------------------------------------\u001b[0m",
      "\u001b[1;31mInvalidArgumentError\u001b[0m                      Traceback (most recent call last)",
      "\u001b[1;32mC:\\Users\\Dari\\Anaconda3\\lib\\site-packages\\tensorflow\\python\\client\\session.py\u001b[0m in \u001b[0;36m_do_call\u001b[1;34m(self, fn, *args)\u001b[0m\n\u001b[0;32m   1138\u001b[0m     \u001b[1;32mtry\u001b[0m\u001b[1;33m:\u001b[0m\u001b[1;33m\u001b[0m\u001b[0m\n\u001b[1;32m-> 1139\u001b[1;33m       \u001b[1;32mreturn\u001b[0m \u001b[0mfn\u001b[0m\u001b[1;33m(\u001b[0m\u001b[1;33m*\u001b[0m\u001b[0margs\u001b[0m\u001b[1;33m)\u001b[0m\u001b[1;33m\u001b[0m\u001b[0m\n\u001b[0m\u001b[0;32m   1140\u001b[0m     \u001b[1;32mexcept\u001b[0m \u001b[0merrors\u001b[0m\u001b[1;33m.\u001b[0m\u001b[0mOpError\u001b[0m \u001b[1;32mas\u001b[0m \u001b[0me\u001b[0m\u001b[1;33m:\u001b[0m\u001b[1;33m\u001b[0m\u001b[0m\n",
      "\u001b[1;32mC:\\Users\\Dari\\Anaconda3\\lib\\site-packages\\tensorflow\\python\\client\\session.py\u001b[0m in \u001b[0;36m_run_fn\u001b[1;34m(session, feed_dict, fetch_list, target_list, options, run_metadata)\u001b[0m\n\u001b[0;32m   1116\u001b[0m       \u001b[1;31m# Ensure any changes to the graph are reflected in the runtime.\u001b[0m\u001b[1;33m\u001b[0m\u001b[1;33m\u001b[0m\u001b[0m\n\u001b[1;32m-> 1117\u001b[1;33m       \u001b[0mself\u001b[0m\u001b[1;33m.\u001b[0m\u001b[0m_extend_graph\u001b[0m\u001b[1;33m(\u001b[0m\u001b[1;33m)\u001b[0m\u001b[1;33m\u001b[0m\u001b[0m\n\u001b[0m\u001b[0;32m   1118\u001b[0m       \u001b[1;32mwith\u001b[0m \u001b[0merrors\u001b[0m\u001b[1;33m.\u001b[0m\u001b[0mraise_exception_on_not_ok_status\u001b[0m\u001b[1;33m(\u001b[0m\u001b[1;33m)\u001b[0m \u001b[1;32mas\u001b[0m \u001b[0mstatus\u001b[0m\u001b[1;33m:\u001b[0m\u001b[1;33m\u001b[0m\u001b[0m\n",
      "\u001b[1;32mC:\\Users\\Dari\\Anaconda3\\lib\\site-packages\\tensorflow\\python\\client\\session.py\u001b[0m in \u001b[0;36m_extend_graph\u001b[1;34m(self)\u001b[0m\n\u001b[0;32m   1165\u001b[0m           tf_session.TF_ExtendGraph(\n\u001b[1;32m-> 1166\u001b[1;33m               self._session, graph_def.SerializeToString(), status)\n\u001b[0m\u001b[0;32m   1167\u001b[0m         \u001b[0mself\u001b[0m\u001b[1;33m.\u001b[0m\u001b[0m_opened\u001b[0m \u001b[1;33m=\u001b[0m \u001b[1;32mTrue\u001b[0m\u001b[1;33m\u001b[0m\u001b[0m\n",
      "\u001b[1;32mC:\\Users\\Dari\\Anaconda3\\lib\\contextlib.py\u001b[0m in \u001b[0;36m__exit__\u001b[1;34m(self, type, value, traceback)\u001b[0m\n\u001b[0;32m     88\u001b[0m             \u001b[1;32mtry\u001b[0m\u001b[1;33m:\u001b[0m\u001b[1;33m\u001b[0m\u001b[0m\n\u001b[1;32m---> 89\u001b[1;33m                 \u001b[0mnext\u001b[0m\u001b[1;33m(\u001b[0m\u001b[0mself\u001b[0m\u001b[1;33m.\u001b[0m\u001b[0mgen\u001b[0m\u001b[1;33m)\u001b[0m\u001b[1;33m\u001b[0m\u001b[0m\n\u001b[0m\u001b[0;32m     90\u001b[0m             \u001b[1;32mexcept\u001b[0m \u001b[0mStopIteration\u001b[0m\u001b[1;33m:\u001b[0m\u001b[1;33m\u001b[0m\u001b[0m\n",
      "\u001b[1;32mC:\\Users\\Dari\\Anaconda3\\lib\\site-packages\\tensorflow\\python\\framework\\errors_impl.py\u001b[0m in \u001b[0;36mraise_exception_on_not_ok_status\u001b[1;34m()\u001b[0m\n\u001b[0;32m    465\u001b[0m           \u001b[0mcompat\u001b[0m\u001b[1;33m.\u001b[0m\u001b[0mas_text\u001b[0m\u001b[1;33m(\u001b[0m\u001b[0mpywrap_tensorflow\u001b[0m\u001b[1;33m.\u001b[0m\u001b[0mTF_Message\u001b[0m\u001b[1;33m(\u001b[0m\u001b[0mstatus\u001b[0m\u001b[1;33m)\u001b[0m\u001b[1;33m)\u001b[0m\u001b[1;33m,\u001b[0m\u001b[1;33m\u001b[0m\u001b[0m\n\u001b[1;32m--> 466\u001b[1;33m           pywrap_tensorflow.TF_GetCode(status))\n\u001b[0m\u001b[0;32m    467\u001b[0m   \u001b[1;32mfinally\u001b[0m\u001b[1;33m:\u001b[0m\u001b[1;33m\u001b[0m\u001b[0m\n",
      "\u001b[1;31mInvalidArgumentError\u001b[0m: Cannot assign a device for operation 'MatMul': Could not satisfy explicit device specification '/device:GPU:0' because no supported kernel for GPU devices is available.\n\t [[Node: MatMul = MatMul[T=DT_INT32, transpose_a=false, transpose_b=false, _device=\"/device:GPU:0\"](Placeholder, Placeholder_1)]]",
      "\nDuring handling of the above exception, another exception occurred:\n",
      "\u001b[1;31mInvalidArgumentError\u001b[0m                      Traceback (most recent call last)",
      "\u001b[1;32m<ipython-input-101-4eab675ed853>\u001b[0m in \u001b[0;36m<module>\u001b[1;34m()\u001b[0m\n\u001b[0;32m      8\u001b[0m         \u001b[1;32mwith\u001b[0m \u001b[0mtf\u001b[0m\u001b[1;33m.\u001b[0m\u001b[0mdevice\u001b[0m\u001b[1;33m(\u001b[0m\u001b[1;34m'/gpu:0'\u001b[0m\u001b[1;33m)\u001b[0m\u001b[1;33m:\u001b[0m\u001b[1;33m\u001b[0m\u001b[0m\n\u001b[0;32m      9\u001b[0m             \u001b[0mx\u001b[0m\u001b[1;33m,\u001b[0m \u001b[0mW\u001b[0m\u001b[1;33m,\u001b[0m \u001b[0mb\u001b[0m\u001b[1;33m,\u001b[0m \u001b[0mnet\u001b[0m \u001b[1;33m=\u001b[0m \u001b[0mmany_convs_third\u001b[0m\u001b[1;33m(\u001b[0m\u001b[1;34m'int8'\u001b[0m\u001b[1;33m)\u001b[0m\u001b[1;33m\u001b[0m\u001b[0m\n\u001b[1;32m---> 10\u001b[1;33m             \u001b[0msess\u001b[0m\u001b[1;33m.\u001b[0m\u001b[0mrun\u001b[0m\u001b[1;33m(\u001b[0m\u001b[0mtf\u001b[0m\u001b[1;33m.\u001b[0m\u001b[0mglobal_variables_initializer\u001b[0m\u001b[1;33m(\u001b[0m\u001b[1;33m)\u001b[0m\u001b[1;33m)\u001b[0m\u001b[1;33m\u001b[0m\u001b[0m\n\u001b[0m\u001b[0;32m     11\u001b[0m             \u001b[0mbias\u001b[0m \u001b[1;33m=\u001b[0m \u001b[0mnp\u001b[0m\u001b[1;33m.\u001b[0m\u001b[0mzeros\u001b[0m\u001b[1;33m(\u001b[0m\u001b[1;36m256\u001b[0m\u001b[1;33m,\u001b[0m \u001b[0mdtype\u001b[0m\u001b[1;33m=\u001b[0m\u001b[0mint8\u001b[0m\u001b[1;33m)\u001b[0m\u001b[1;33m\u001b[0m\u001b[0m\n\u001b[0;32m     12\u001b[0m             \u001b[0mweights\u001b[0m \u001b[1;33m=\u001b[0m \u001b[0mnp\u001b[0m\u001b[1;33m.\u001b[0m\u001b[0mrandom\u001b[0m\u001b[1;33m.\u001b[0m\u001b[0mrandint\u001b[0m\u001b[1;33m(\u001b[0m\u001b[1;36m0\u001b[0m\u001b[1;33m,\u001b[0m \u001b[1;36m20\u001b[0m\u001b[1;33m,\u001b[0m \u001b[0msize\u001b[0m\u001b[1;33m=\u001b[0m\u001b[1;33m(\u001b[0m\u001b[1;36m500\u001b[0m\u001b[1;33m,\u001b[0m \u001b[1;36m256\u001b[0m\u001b[1;33m)\u001b[0m\u001b[1;33m)\u001b[0m\u001b[1;33m.\u001b[0m\u001b[0mastype\u001b[0m\u001b[1;33m(\u001b[0m\u001b[1;34m'int8'\u001b[0m\u001b[1;33m)\u001b[0m\u001b[1;33m\u001b[0m\u001b[0m\n",
      "\u001b[1;32mC:\\Users\\Dari\\Anaconda3\\lib\\site-packages\\tensorflow\\python\\client\\session.py\u001b[0m in \u001b[0;36mrun\u001b[1;34m(self, fetches, feed_dict, options, run_metadata)\u001b[0m\n\u001b[0;32m    787\u001b[0m     \u001b[1;32mtry\u001b[0m\u001b[1;33m:\u001b[0m\u001b[1;33m\u001b[0m\u001b[0m\n\u001b[0;32m    788\u001b[0m       result = self._run(None, fetches, feed_dict, options_ptr,\n\u001b[1;32m--> 789\u001b[1;33m                          run_metadata_ptr)\n\u001b[0m\u001b[0;32m    790\u001b[0m       \u001b[1;32mif\u001b[0m \u001b[0mrun_metadata\u001b[0m\u001b[1;33m:\u001b[0m\u001b[1;33m\u001b[0m\u001b[0m\n\u001b[0;32m    791\u001b[0m         \u001b[0mproto_data\u001b[0m \u001b[1;33m=\u001b[0m \u001b[0mtf_session\u001b[0m\u001b[1;33m.\u001b[0m\u001b[0mTF_GetBuffer\u001b[0m\u001b[1;33m(\u001b[0m\u001b[0mrun_metadata_ptr\u001b[0m\u001b[1;33m)\u001b[0m\u001b[1;33m\u001b[0m\u001b[0m\n",
      "\u001b[1;32mC:\\Users\\Dari\\Anaconda3\\lib\\site-packages\\tensorflow\\python\\client\\session.py\u001b[0m in \u001b[0;36m_run\u001b[1;34m(self, handle, fetches, feed_dict, options, run_metadata)\u001b[0m\n\u001b[0;32m    995\u001b[0m     \u001b[1;32mif\u001b[0m \u001b[0mfinal_fetches\u001b[0m \u001b[1;32mor\u001b[0m \u001b[0mfinal_targets\u001b[0m\u001b[1;33m:\u001b[0m\u001b[1;33m\u001b[0m\u001b[0m\n\u001b[0;32m    996\u001b[0m       results = self._do_run(handle, final_targets, final_fetches,\n\u001b[1;32m--> 997\u001b[1;33m                              feed_dict_string, options, run_metadata)\n\u001b[0m\u001b[0;32m    998\u001b[0m     \u001b[1;32melse\u001b[0m\u001b[1;33m:\u001b[0m\u001b[1;33m\u001b[0m\u001b[0m\n\u001b[0;32m    999\u001b[0m       \u001b[0mresults\u001b[0m \u001b[1;33m=\u001b[0m \u001b[1;33m[\u001b[0m\u001b[1;33m]\u001b[0m\u001b[1;33m\u001b[0m\u001b[0m\n",
      "\u001b[1;32mC:\\Users\\Dari\\Anaconda3\\lib\\site-packages\\tensorflow\\python\\client\\session.py\u001b[0m in \u001b[0;36m_do_run\u001b[1;34m(self, handle, target_list, fetch_list, feed_dict, options, run_metadata)\u001b[0m\n\u001b[0;32m   1130\u001b[0m     \u001b[1;32mif\u001b[0m \u001b[0mhandle\u001b[0m \u001b[1;32mis\u001b[0m \u001b[1;32mNone\u001b[0m\u001b[1;33m:\u001b[0m\u001b[1;33m\u001b[0m\u001b[0m\n\u001b[0;32m   1131\u001b[0m       return self._do_call(_run_fn, self._session, feed_dict, fetch_list,\n\u001b[1;32m-> 1132\u001b[1;33m                            target_list, options, run_metadata)\n\u001b[0m\u001b[0;32m   1133\u001b[0m     \u001b[1;32melse\u001b[0m\u001b[1;33m:\u001b[0m\u001b[1;33m\u001b[0m\u001b[0m\n\u001b[0;32m   1134\u001b[0m       return self._do_call(_prun_fn, self._session, handle, feed_dict,\n",
      "\u001b[1;32mC:\\Users\\Dari\\Anaconda3\\lib\\site-packages\\tensorflow\\python\\client\\session.py\u001b[0m in \u001b[0;36m_do_call\u001b[1;34m(self, fn, *args)\u001b[0m\n\u001b[0;32m   1150\u001b[0m         \u001b[1;32mexcept\u001b[0m \u001b[0mKeyError\u001b[0m\u001b[1;33m:\u001b[0m\u001b[1;33m\u001b[0m\u001b[0m\n\u001b[0;32m   1151\u001b[0m           \u001b[1;32mpass\u001b[0m\u001b[1;33m\u001b[0m\u001b[0m\n\u001b[1;32m-> 1152\u001b[1;33m       \u001b[1;32mraise\u001b[0m \u001b[0mtype\u001b[0m\u001b[1;33m(\u001b[0m\u001b[0me\u001b[0m\u001b[1;33m)\u001b[0m\u001b[1;33m(\u001b[0m\u001b[0mnode_def\u001b[0m\u001b[1;33m,\u001b[0m \u001b[0mop\u001b[0m\u001b[1;33m,\u001b[0m \u001b[0mmessage\u001b[0m\u001b[1;33m)\u001b[0m\u001b[1;33m\u001b[0m\u001b[0m\n\u001b[0m\u001b[0;32m   1153\u001b[0m \u001b[1;33m\u001b[0m\u001b[0m\n\u001b[0;32m   1154\u001b[0m   \u001b[1;32mdef\u001b[0m \u001b[0m_extend_graph\u001b[0m\u001b[1;33m(\u001b[0m\u001b[0mself\u001b[0m\u001b[1;33m)\u001b[0m\u001b[1;33m:\u001b[0m\u001b[1;33m\u001b[0m\u001b[0m\n",
      "\u001b[1;31mInvalidArgumentError\u001b[0m: Cannot assign a device for operation 'MatMul': Could not satisfy explicit device specification '/device:GPU:0' because no supported kernel for GPU devices is available.\n\t [[Node: MatMul = MatMul[T=DT_INT32, transpose_a=false, transpose_b=false, _device=\"/device:GPU:0\"](Placeholder, Placeholder_1)]]\n\nCaused by op 'MatMul', defined at:\n  File \"C:\\Users\\Dari\\Anaconda3\\lib\\runpy.py\", line 193, in _run_module_as_main\n    \"__main__\", mod_spec)\n  File \"C:\\Users\\Dari\\Anaconda3\\lib\\runpy.py\", line 85, in _run_code\n    exec(code, run_globals)\n  File \"C:\\Users\\Dari\\Anaconda3\\lib\\site-packages\\ipykernel_launcher.py\", line 16, in <module>\n    app.launch_new_instance()\n  File \"C:\\Users\\Dari\\Anaconda3\\lib\\site-packages\\traitlets\\config\\application.py\", line 658, in launch_instance\n    app.start()\n  File \"C:\\Users\\Dari\\Anaconda3\\lib\\site-packages\\ipykernel\\kernelapp.py\", line 477, in start\n    ioloop.IOLoop.instance().start()\n  File \"C:\\Users\\Dari\\Anaconda3\\lib\\site-packages\\zmq\\eventloop\\ioloop.py\", line 177, in start\n    super(ZMQIOLoop, self).start()\n  File \"C:\\Users\\Dari\\Anaconda3\\lib\\site-packages\\tornado\\ioloop.py\", line 888, in start\n    handler_func(fd_obj, events)\n  File \"C:\\Users\\Dari\\Anaconda3\\lib\\site-packages\\tornado\\stack_context.py\", line 277, in null_wrapper\n    return fn(*args, **kwargs)\n  File \"C:\\Users\\Dari\\Anaconda3\\lib\\site-packages\\zmq\\eventloop\\zmqstream.py\", line 440, in _handle_events\n    self._handle_recv()\n  File \"C:\\Users\\Dari\\Anaconda3\\lib\\site-packages\\zmq\\eventloop\\zmqstream.py\", line 472, in _handle_recv\n    self._run_callback(callback, msg)\n  File \"C:\\Users\\Dari\\Anaconda3\\lib\\site-packages\\zmq\\eventloop\\zmqstream.py\", line 414, in _run_callback\n    callback(*args, **kwargs)\n  File \"C:\\Users\\Dari\\Anaconda3\\lib\\site-packages\\tornado\\stack_context.py\", line 277, in null_wrapper\n    return fn(*args, **kwargs)\n  File \"C:\\Users\\Dari\\Anaconda3\\lib\\site-packages\\ipykernel\\kernelbase.py\", line 283, in dispatcher\n    return self.dispatch_shell(stream, msg)\n  File \"C:\\Users\\Dari\\Anaconda3\\lib\\site-packages\\ipykernel\\kernelbase.py\", line 235, in dispatch_shell\n    handler(stream, idents, msg)\n  File \"C:\\Users\\Dari\\Anaconda3\\lib\\site-packages\\ipykernel\\kernelbase.py\", line 399, in execute_request\n    user_expressions, allow_stdin)\n  File \"C:\\Users\\Dari\\Anaconda3\\lib\\site-packages\\ipykernel\\ipkernel.py\", line 196, in do_execute\n    res = shell.run_cell(code, store_history=store_history, silent=silent)\n  File \"C:\\Users\\Dari\\Anaconda3\\lib\\site-packages\\ipykernel\\zmqshell.py\", line 533, in run_cell\n    return super(ZMQInteractiveShell, self).run_cell(*args, **kwargs)\n  File \"C:\\Users\\Dari\\Anaconda3\\lib\\site-packages\\IPython\\core\\interactiveshell.py\", line 2717, in run_cell\n    interactivity=interactivity, compiler=compiler, result=result)\n  File \"C:\\Users\\Dari\\Anaconda3\\lib\\site-packages\\IPython\\core\\interactiveshell.py\", line 2821, in run_ast_nodes\n    if self.run_code(code, result):\n  File \"C:\\Users\\Dari\\Anaconda3\\lib\\site-packages\\IPython\\core\\interactiveshell.py\", line 2881, in run_code\n    exec(code_obj, self.user_global_ns, self.user_ns)\n  File \"<ipython-input-101-4eab675ed853>\", line 9, in <module>\n    x, W, b, net = many_convs_third('int8')\n  File \"<ipython-input-100-4bae046189ab>\", line 15, in many_convs_third\n    net = tf.matmul(x, W)\n  File \"C:\\Users\\Dari\\Anaconda3\\lib\\site-packages\\tensorflow\\python\\ops\\math_ops.py\", line 1816, in matmul\n    a, b, transpose_a=transpose_a, transpose_b=transpose_b, name=name)\n  File \"C:\\Users\\Dari\\Anaconda3\\lib\\site-packages\\tensorflow\\python\\ops\\gen_math_ops.py\", line 1217, in _mat_mul\n    transpose_b=transpose_b, name=name)\n  File \"C:\\Users\\Dari\\Anaconda3\\lib\\site-packages\\tensorflow\\python\\framework\\op_def_library.py\", line 767, in apply_op\n    op_def=op_def)\n  File \"C:\\Users\\Dari\\Anaconda3\\lib\\site-packages\\tensorflow\\python\\framework\\ops.py\", line 2506, in create_op\n    original_op=self._default_original_op, op_def=op_def)\n  File \"C:\\Users\\Dari\\Anaconda3\\lib\\site-packages\\tensorflow\\python\\framework\\ops.py\", line 1269, in __init__\n    self._traceback = _extract_stack()\n\nInvalidArgumentError (see above for traceback): Cannot assign a device for operation 'MatMul': Could not satisfy explicit device specification '/device:GPU:0' because no supported kernel for GPU devices is available.\n\t [[Node: MatMul = MatMul[T=DT_INT32, transpose_a=false, transpose_b=false, _device=\"/device:GPU:0\"](Placeholder, Placeholder_1)]]\n"
     ]
    }
   ],
   "source": [
    "times = []\n",
    "for i in range(10):\n",
    "    first_graph = tf.Graph()\n",
    "    with first_graph.as_default():\n",
    "        sess = tf.Session()\n",
    "\n",
    "        start_time = time.clock()\n",
    "        with tf.device('/gpu:0'):\n",
    "            x, W, b, net = many_convs_third('int8')\n",
    "            sess.run(tf.global_variables_initializer())\n",
    "            bias = np.zeros(256, dtype=int8)\n",
    "            weights = np.random.randint(0, 20, size=(500, 256)).astype('int8')\n",
    "            result = sess.run(net, feed_dict={x: imgs_int8, W:weights, b:bias})\n",
    "\n",
    "        end_time = time.clock()\n",
    "        times.append(end_time - start_time)\n",
    "        print ('time: %s  seconds' % (end_time - start_time))\n",
    "print (np.mean(np.array(times)))"
   ]
  },
  {
   "cell_type": "code",
   "execution_count": 107,
   "metadata": {},
   "outputs": [
    {
     "ename": "TypeError",
     "evalue": "Value passed to parameter 'a' has DataType int8 not in list of allowed values: float16, float32, float64, int32, complex64, complex128",
     "output_type": "error",
     "traceback": [
      "\u001b[1;31m---------------------------------------------------------------------------\u001b[0m",
      "\u001b[1;31mTypeError\u001b[0m                                 Traceback (most recent call last)",
      "\u001b[1;32m<ipython-input-107-c1252031042b>\u001b[0m in \u001b[0;36m<module>\u001b[1;34m()\u001b[0m\n\u001b[0;32m      1\u001b[0m \u001b[0ma\u001b[0m \u001b[1;33m=\u001b[0m \u001b[0mtf\u001b[0m\u001b[1;33m.\u001b[0m\u001b[0mplaceholder\u001b[0m\u001b[1;33m(\u001b[0m\u001b[0mtf\u001b[0m\u001b[1;33m.\u001b[0m\u001b[0mint8\u001b[0m\u001b[1;33m,\u001b[0m \u001b[0mshape\u001b[0m\u001b[1;33m=\u001b[0m\u001b[1;33m[\u001b[0m\u001b[1;36m2\u001b[0m\u001b[1;33m,\u001b[0m\u001b[1;36m2\u001b[0m\u001b[1;33m]\u001b[0m\u001b[1;33m)\u001b[0m\u001b[1;33m\u001b[0m\u001b[0m\n\u001b[0;32m      2\u001b[0m \u001b[0mb\u001b[0m \u001b[1;33m=\u001b[0m \u001b[0mtf\u001b[0m\u001b[1;33m.\u001b[0m\u001b[0mplaceholder\u001b[0m\u001b[1;33m(\u001b[0m\u001b[0mtf\u001b[0m\u001b[1;33m.\u001b[0m\u001b[0mint8\u001b[0m\u001b[1;33m,\u001b[0m \u001b[0mshape\u001b[0m\u001b[1;33m=\u001b[0m\u001b[1;33m[\u001b[0m\u001b[1;36m2\u001b[0m\u001b[1;33m,\u001b[0m\u001b[1;36m2\u001b[0m\u001b[1;33m]\u001b[0m\u001b[1;33m)\u001b[0m\u001b[1;33m\u001b[0m\u001b[0m\n\u001b[1;32m----> 3\u001b[1;33m \u001b[0mc\u001b[0m \u001b[1;33m=\u001b[0m \u001b[0mtf\u001b[0m\u001b[1;33m.\u001b[0m\u001b[0mmatmul\u001b[0m\u001b[1;33m(\u001b[0m\u001b[0ma\u001b[0m\u001b[1;33m,\u001b[0m \u001b[0mb\u001b[0m\u001b[1;33m)\u001b[0m\u001b[1;33m\u001b[0m\u001b[0m\n\u001b[0m\u001b[0;32m      4\u001b[0m \u001b[1;33m\u001b[0m\u001b[0m\n\u001b[0;32m      5\u001b[0m \u001b[0mmy_sess\u001b[0m \u001b[1;33m=\u001b[0m \u001b[0mtf\u001b[0m\u001b[1;33m.\u001b[0m\u001b[0mSession\u001b[0m\u001b[1;33m(\u001b[0m\u001b[1;33m)\u001b[0m\u001b[1;33m\u001b[0m\u001b[0m\n",
      "\u001b[1;32mC:\\Users\\Dari\\Anaconda3\\lib\\site-packages\\tensorflow\\python\\ops\\math_ops.py\u001b[0m in \u001b[0;36mmatmul\u001b[1;34m(a, b, transpose_a, transpose_b, adjoint_a, adjoint_b, a_is_sparse, b_is_sparse, name)\u001b[0m\n\u001b[0;32m   1814\u001b[0m     \u001b[1;32melse\u001b[0m\u001b[1;33m:\u001b[0m\u001b[1;33m\u001b[0m\u001b[0m\n\u001b[0;32m   1815\u001b[0m       return gen_math_ops._mat_mul(\n\u001b[1;32m-> 1816\u001b[1;33m           a, b, transpose_a=transpose_a, transpose_b=transpose_b, name=name)\n\u001b[0m\u001b[0;32m   1817\u001b[0m \u001b[1;33m\u001b[0m\u001b[0m\n\u001b[0;32m   1818\u001b[0m \u001b[1;33m\u001b[0m\u001b[0m\n",
      "\u001b[1;32mC:\\Users\\Dari\\Anaconda3\\lib\\site-packages\\tensorflow\\python\\ops\\gen_math_ops.py\u001b[0m in \u001b[0;36m_mat_mul\u001b[1;34m(a, b, transpose_a, transpose_b, name)\u001b[0m\n\u001b[0;32m   1215\u001b[0m   \"\"\"\n\u001b[0;32m   1216\u001b[0m   result = _op_def_lib.apply_op(\"MatMul\", a=a, b=b, transpose_a=transpose_a,\n\u001b[1;32m-> 1217\u001b[1;33m                                 transpose_b=transpose_b, name=name)\n\u001b[0m\u001b[0;32m   1218\u001b[0m   \u001b[1;32mreturn\u001b[0m \u001b[0mresult\u001b[0m\u001b[1;33m\u001b[0m\u001b[0m\n\u001b[0;32m   1219\u001b[0m \u001b[1;33m\u001b[0m\u001b[0m\n",
      "\u001b[1;32mC:\\Users\\Dari\\Anaconda3\\lib\\site-packages\\tensorflow\\python\\framework\\op_def_library.py\u001b[0m in \u001b[0;36mapply_op\u001b[1;34m(self, op_type_name, name, **keywords)\u001b[0m\n\u001b[0;32m    587\u001b[0m               _SatisfiesTypeConstraint(base_type,\n\u001b[0;32m    588\u001b[0m                                        \u001b[0m_Attr\u001b[0m\u001b[1;33m(\u001b[0m\u001b[0mop_def\u001b[0m\u001b[1;33m,\u001b[0m \u001b[0minput_arg\u001b[0m\u001b[1;33m.\u001b[0m\u001b[0mtype_attr\u001b[0m\u001b[1;33m)\u001b[0m\u001b[1;33m,\u001b[0m\u001b[1;33m\u001b[0m\u001b[0m\n\u001b[1;32m--> 589\u001b[1;33m                                        param_name=input_name)\n\u001b[0m\u001b[0;32m    590\u001b[0m             \u001b[0mattrs\u001b[0m\u001b[1;33m[\u001b[0m\u001b[0minput_arg\u001b[0m\u001b[1;33m.\u001b[0m\u001b[0mtype_attr\u001b[0m\u001b[1;33m]\u001b[0m \u001b[1;33m=\u001b[0m \u001b[0mattr_value\u001b[0m\u001b[1;33m\u001b[0m\u001b[0m\n\u001b[0;32m    591\u001b[0m             \u001b[0minferred_from\u001b[0m\u001b[1;33m[\u001b[0m\u001b[0minput_arg\u001b[0m\u001b[1;33m.\u001b[0m\u001b[0mtype_attr\u001b[0m\u001b[1;33m]\u001b[0m \u001b[1;33m=\u001b[0m \u001b[0minput_name\u001b[0m\u001b[1;33m\u001b[0m\u001b[0m\n",
      "\u001b[1;32mC:\\Users\\Dari\\Anaconda3\\lib\\site-packages\\tensorflow\\python\\framework\\op_def_library.py\u001b[0m in \u001b[0;36m_SatisfiesTypeConstraint\u001b[1;34m(dtype, attr_def, param_name)\u001b[0m\n\u001b[0;32m     58\u001b[0m           \u001b[1;34m\"allowed values: %s\"\u001b[0m \u001b[1;33m%\u001b[0m\u001b[1;33m\u001b[0m\u001b[0m\n\u001b[0;32m     59\u001b[0m           (param_name, dtypes.as_dtype(dtype).name,\n\u001b[1;32m---> 60\u001b[1;33m            \", \".join(dtypes.as_dtype(x).name for x in allowed_list)))\n\u001b[0m\u001b[0;32m     61\u001b[0m \u001b[1;33m\u001b[0m\u001b[0m\n\u001b[0;32m     62\u001b[0m \u001b[1;33m\u001b[0m\u001b[0m\n",
      "\u001b[1;31mTypeError\u001b[0m: Value passed to parameter 'a' has DataType int8 not in list of allowed values: float16, float32, float64, int32, complex64, complex128"
     ]
    }
   ],
   "source": [
    "a = tf.placeholder(tf.int8, shape=[2,2])\n",
    "b = tf.placeholder(tf.int8, shape=[2,2])\n",
    "c = tf.matmul(a, b)\n",
    "\n",
    "my_sess = tf.Session()\n",
    "my_sess.run(tf.global_variables_initializer())"
   ]
  },
  {
   "cell_type": "code",
   "execution_count": 119,
   "metadata": {},
   "outputs": [
    {
     "name": "stdout",
     "output_type": "stream",
     "text": [
      "[[2 2]\n",
      " [3 3]]\n"
     ]
    }
   ],
   "source": [
    "a = tf.placeholder(tf.int32, shape=[2,2])\n",
    "b = tf.placeholder(tf.int32, shape=[2,2])\n",
    "c = tf.matmul(a, b)\n",
    "with tf.device('/gpu:0'):\n",
    "\n",
    "    my_sess = tf.Session()\n",
    "    my_sess.run(tf.global_variables_initializer())\n",
    "    ar = np.array([[1,0], [0,1]], dtype=np.int8)\n",
    "    br = np.array([[2, 2], [3, 3]], dtype=np.int8)\n",
    "    print (my_sess.run(c, feed_dict={a:ar, b:br}))"
   ]
  }
 ],
 "metadata": {
  "kernelspec": {
   "display_name": "Python 3",
   "language": "python",
   "name": "python3"
  },
  "language_info": {
   "codemirror_mode": {
    "name": "ipython",
    "version": 3
   },
   "file_extension": ".py",
   "mimetype": "text/x-python",
   "name": "python",
   "nbconvert_exporter": "python",
   "pygments_lexer": "ipython3",
   "version": "3.6.1"
  }
 },
 "nbformat": 4,
 "nbformat_minor": 2
}
