{
 "cells": [
  {
   "cell_type": "markdown",
   "metadata": {},
   "source": [
    "# Let's see if there is difference in neural net's training time on GPU depending on the format of the input images.\n",
    "## We will compare images in\n",
    "##           - fp32 format\n",
    "##           - int8 format"
   ]
  },
  {
   "cell_type": "code",
   "execution_count": 1,
   "metadata": {
    "collapsed": true
   },
   "outputs": [],
   "source": [
    "import os\n",
    "\n",
    "import sys\n",
    "import blosc\n",
    "import time \n",
    "\n",
    "import numpy as np\n",
    "import tensorflow as tf\n",
    "import matplotlib.pyplot as plt\n",
    "from tqdm import tqdm\n",
    "\n",
    "sys.path.append(\"..\")\n",
    "from my_batch import MnistBatch\n",
    "from dataset import DatasetIndex, Dataset\n",
    "from mnist import MNIST"
   ]
  },
  {
   "cell_type": "markdown",
   "metadata": {},
   "source": [
    "## Load data"
   ]
  },
  {
   "cell_type": "markdown",
   "metadata": {},
   "source": [
    "Let us load all data at once instead of doing this for every batch because it can all be loaded in memory."
   ]
  },
  {
   "cell_type": "code",
   "execution_count": 2,
   "metadata": {
    "collapsed": true
   },
   "outputs": [],
   "source": [
    "src = 'C:\\\\Users\\\\Dari\\\\Documents\\\\az_training\\\\task_03'\n",
    "\n",
    "with open(os.path.join(src, 'mnist_pics.blk'), 'rb') as file:\n",
    "    full_imgs = blosc.unpack_array(file.read())\n",
    "    \n",
    "with open(os.path.join(src, 'mnist_labels.blk'), 'rb') as file:\n",
    "    full_labs = blosc.unpack_array(file.read())\n",
    "    \n",
    "src = (np.reshape(full_imgs, (65000, 28, 28)), full_labs)\n",
    "# src = (full_imgs, full_labs)"
   ]
  },
  {
   "cell_type": "code",
   "execution_count": 3,
   "metadata": {
    "collapsed": true
   },
   "outputs": [],
   "source": [
    "LEN_MNIST = 65000\n",
    "indy = DatasetIndex(np.arange(LEN_MNIST))\n",
    "\n",
    "mnistset = Dataset(indy, batch_class=MnistBatch)\n",
    "mnistset.cv_split([0.9, 0.1])"
   ]
  },
  {
   "cell_type": "markdown",
   "metadata": {},
   "source": [
    "## Train on fp32 input image:"
   ]
  },
  {
   "cell_type": "code",
   "execution_count": 4,
   "metadata": {
    "collapsed": true
   },
   "outputs": [],
   "source": [
    "def measure_tf32():\n",
    "    time_list = []\n",
    "    ppl = (mnistset.train.pipeline().\n",
    "       load(src=src, fmt='ndarray').\n",
    "       resize(shape=(400, 400)).\n",
    "       train_convy_float(time_list))\n",
    "    \n",
    "    ppl.next_batch(100, n_epochs=None)\n",
    "    ppl = None\n",
    "    return time_list[0]"
   ]
  },
  {
   "cell_type": "code",
   "execution_count": 5,
   "metadata": {},
   "outputs": [
    {
     "data": {
      "text/plain": [
       "3.860091022139239"
      ]
     },
     "execution_count": 5,
     "metadata": {},
     "output_type": "execute_result"
    }
   ],
   "source": [
    "measure_tf32()"
   ]
  },
  {
   "cell_type": "code",
   "execution_count": null,
   "metadata": {
    "collapsed": true
   },
   "outputs": [],
   "source": [
    "measure_tf32()"
   ]
  },
  {
   "cell_type": "code",
   "execution_count": 6,
   "metadata": {},
   "outputs": [
    {
     "name": "stdout",
     "output_type": "stream",
     "text": [
      "0.9826095201280722\n",
      "0.999001892647847\n",
      "1.0019816278230174\n",
      "0.9890259245347703\n",
      "0.9986955681407927\n",
      "1.0059146156903793\n",
      "0.9895196904663806\n",
      "0.9963117070662513\n",
      "0.9925833002089561\n",
      "0.993459971774385\n"
     ]
    }
   ],
   "source": [
    "times_fp = []\n",
    "for i in range(10):\n",
    "    current_time = measure_tf32()\n",
    "    times_fp.append(current_time)\n",
    "#     if i % 10 == 0:\n",
    "    print (current_time)"
   ]
  },
  {
   "cell_type": "markdown",
   "metadata": {},
   "source": [
    "## Mean and std of measured time for one iteration with fp32 input image"
   ]
  },
  {
   "cell_type": "code",
   "execution_count": 7,
   "metadata": {},
   "outputs": [
    {
     "name": "stdout",
     "output_type": "stream",
     "text": [
      "0.994910381848\n",
      "0.0065317997458\n"
     ]
    }
   ],
   "source": [
    "print (np.mean(np.array(times_fp)))\n",
    "print (np.std(np.array(times_fp)))"
   ]
  },
  {
   "cell_type": "markdown",
   "metadata": {},
   "source": [
    "## Train on int8 input image:"
   ]
  },
  {
   "cell_type": "code",
   "execution_count": 4,
   "metadata": {
    "collapsed": true
   },
   "outputs": [],
   "source": [
    "src_int = (src[0]*256 - 128).astype(np.int8), src[1]"
   ]
  },
  {
   "cell_type": "code",
   "execution_count": 5,
   "metadata": {
    "collapsed": true
   },
   "outputs": [],
   "source": [
    "def measure_int8():\n",
    "    time_list = []\n",
    "    ppl = (mnistset.train.pipeline().\n",
    "       load(src=src_int, fmt='ndarray').\n",
    "       resize(shape=(400, 400)).\n",
    "       train_convy_int(time_list))\n",
    "    \n",
    "    ppl.next_batch(100, n_epochs=None)\n",
    "    ppl = None\n",
    "    return time_list[0]"
   ]
  },
  {
   "cell_type": "code",
   "execution_count": 6,
   "metadata": {},
   "outputs": [
    {
     "data": {
      "text/plain": [
       "3.866162082131435"
      ]
     },
     "execution_count": 6,
     "metadata": {},
     "output_type": "execute_result"
    }
   ],
   "source": [
    "measure_int8()"
   ]
  },
  {
   "cell_type": "code",
   "execution_count": 7,
   "metadata": {},
   "outputs": [
    {
     "name": "stdout",
     "output_type": "stream",
     "text": [
      "1.0290563381822153\n",
      "0.9836590462367667\n",
      "0.9831572575204746\n",
      "0.9823152297980755\n",
      "0.986119488438078\n",
      "0.9865833512630502\n",
      "0.9984789529536897\n",
      "0.9930577385229071\n",
      "0.9938180797100244\n",
      "0.9971650396216205\n"
     ]
    }
   ],
   "source": [
    "times_int = []\n",
    "for i in range(10):\n",
    "    current_time = measure_int8()\n",
    "    times_int.append(current_time)\n",
    "#     if i % 10 == 0:\n",
    "    print (current_time)"
   ]
  },
  {
   "cell_type": "markdown",
   "metadata": {},
   "source": [
    "## Mean and std of measured time for one iteration with int8 input image"
   ]
  },
  {
   "cell_type": "code",
   "execution_count": 7,
   "metadata": {},
   "outputs": [
    {
     "name": "stdout",
     "output_type": "stream",
     "text": [
      "0.993341052225\n",
      "0.0131671848052\n"
     ]
    }
   ],
   "source": [
    "print (np.mean(np.array(times_int)))\n",
    "print (np.std(np.array(times_int)))"
   ]
  },
  {
   "cell_type": "markdown",
   "metadata": {},
   "source": [
    "## We discovered that there isn't any significant difference in training time for different input images' formats. Particularly we were interested in time of transfering data to gpu. "
   ]
  }
 ],
 "metadata": {
  "kernelspec": {
   "display_name": "Python 3",
   "language": "python",
   "name": "python3"
  },
  "language_info": {
   "codemirror_mode": {
    "name": "ipython",
    "version": 3
   },
   "file_extension": ".py",
   "mimetype": "text/x-python",
   "name": "python",
   "nbconvert_exporter": "python",
   "pygments_lexer": "ipython3",
   "version": "3.6.1"
  }
 },
 "nbformat": 4,
 "nbformat_minor": 2
}
