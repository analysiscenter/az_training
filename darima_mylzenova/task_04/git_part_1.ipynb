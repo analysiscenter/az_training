{
 "cells": [
  {
   "cell_type": "markdown",
   "metadata": {},
   "source": [
    "## Содержание:\n",
    "\n",
    "git init, git add, git rm, git commit, git status, git diff\n",
    "    \n",
    "    "
   ]
  },
  {
   "cell_type": "markdown",
   "metadata": {},
   "source": [
    "## 1. Git init - создание git-репозитория"
   ]
  },
  {
   "cell_type": "code",
   "execution_count": 3,
   "metadata": {},
   "outputs": [
    {
     "name": "stdout",
     "output_type": "stream",
     "text": [
      "Initialized empty Git repository in C:/Users/Dari/Documents/Repos/git_training/git_exersise/.git/\n"
     ]
    }
   ],
   "source": [
    "!git init"
   ]
  },
  {
   "cell_type": "markdown",
   "metadata": {},
   "source": [
    "Эта команда создает в текущей директории скрытую папку\n",
    ".git, где и будет в дальнейшем храниться вся информация об истории коммитов,\n",
    "тегах — ходе разработки проекта"
   ]
  },
  {
   "cell_type": "code",
   "execution_count": 4,
   "metadata": {},
   "outputs": [
    {
     "name": "stdout",
     "output_type": "stream",
     "text": [
      " Volume in drive C has no label.\n",
      " Volume Serial Number is 4EA5-496A\n",
      "\n",
      " Directory of C:\\Users\\Dari\\Documents\\Repos\\git_training\\git_exersise\n",
      "\n",
      "08/04/2017  12:29 PM    <DIR>          .git\n",
      "               0 File(s)              0 bytes\n",
      "               1 Dir(s)  178,039,783,424 bytes free\n"
     ]
    }
   ],
   "source": [
    "!dir /ah"
   ]
  },
  {
   "cell_type": "code",
   "execution_count": 6,
   "metadata": {},
   "outputs": [
    {
     "name": "stdout",
     "output_type": "stream",
     "text": [
      " Volume in drive C has no label.\n",
      " Volume Serial Number is 4EA5-496A\n",
      "\n",
      " Directory of C:\\Users\\Dari\\Documents\\Repos\\git_training\\git_exersise\\.git\n",
      "\n",
      "08/04/2017  12:29 PM               130 config\n",
      "08/04/2017  12:29 PM                73 description\n",
      "08/04/2017  12:29 PM                23 HEAD\n",
      "08/04/2017  12:29 PM    <DIR>          hooks\n",
      "08/04/2017  12:29 PM    <DIR>          info\n",
      "08/04/2017  12:29 PM    <DIR>          objects\n",
      "08/04/2017  12:29 PM    <DIR>          refs\n",
      "               3 File(s)            226 bytes\n",
      "               4 Dir(s)  178,039,848,960 bytes free\n"
     ]
    }
   ],
   "source": [
    "!dir .git\\*.*"
   ]
  },
  {
   "cell_type": "markdown",
   "metadata": {},
   "source": [
    "## 2. Git status отображает информацию о текущем состоянии репозитория"
   ]
  },
  {
   "cell_type": "code",
   "execution_count": 10,
   "metadata": {},
   "outputs": [
    {
     "name": "stdout",
     "output_type": "stream",
     "text": [
      "On branch master\n",
      "\n",
      "Initial commit\n",
      "\n",
      "Untracked files:\n",
      "  (use \"git add <file>...\" to include in what will be committed)\n",
      "\n",
      "\t.ipynb_checkpoints/\n",
      "\tUntitled.ipynb\n",
      "\thello.txt\n",
      "\n",
      "nothing added to commit but untracked files present (use \"git add\" to track)\n"
     ]
    }
   ],
   "source": [
    "!git status"
   ]
  },
  {
   "cell_type": "markdown",
   "metadata": {},
   "source": [
    "## 3. Git add добавляет файл для индексирования\n"
   ]
  },
  {
   "cell_type": "code",
   "execution_count": 11,
   "metadata": {},
   "outputs": [
    {
     "name": "stderr",
     "output_type": "stream",
     "text": [
      "warning: LF will be replaced by CRLF in hello.txt.\n",
      "The file will have its original line endings in your working directory.\n"
     ]
    }
   ],
   "source": [
    "!git add hello.txt"
   ]
  },
  {
   "cell_type": "code",
   "execution_count": 12,
   "metadata": {},
   "outputs": [
    {
     "name": "stdout",
     "output_type": "stream",
     "text": [
      "On branch master\n",
      "\n",
      "Initial commit\n",
      "\n",
      "Changes to be committed:\n",
      "  (use \"git rm --cached <file>...\" to unstage)\n",
      "\n",
      "\tnew file:   hello.txt\n",
      "\n",
      "Untracked files:\n",
      "  (use \"git add <file>...\" to include in what will be committed)\n",
      "\n",
      "\t.ipynb_checkpoints/\n",
      "\tUntitled.ipynb\n",
      "\n"
     ]
    }
   ],
   "source": [
    "!git status "
   ]
  },
  {
   "cell_type": "code",
   "execution_count": 18,
   "metadata": {},
   "outputs": [
    {
     "name": "stderr",
     "output_type": "stream",
     "text": [
      "warning: LF will be replaced by CRLF in Untitled.ipynb.\n",
      "The file will have its original line endings in your working directory.\n"
     ]
    }
   ],
   "source": [
    "!git add Untitled.ipynb"
   ]
  },
  {
   "cell_type": "code",
   "execution_count": 17,
   "metadata": {},
   "outputs": [
    {
     "name": "stdout",
     "output_type": "stream",
     "text": [
      "On branch master\n",
      "Changes to be committed:\n",
      "  (use \"git reset HEAD <file>...\" to unstage)\n",
      "\n",
      "\tdeleted:    Untitled.ipynb\n",
      "\n",
      "Untracked files:\n",
      "  (use \"git add <file>...\" to include in what will be committed)\n",
      "\n",
      "\t.ipynb_checkpoints/\n",
      "\tUntitled.ipynb\n",
      "\n"
     ]
    }
   ],
   "source": [
    "!git status"
   ]
  },
  {
   "cell_type": "markdown",
   "metadata": {},
   "source": [
    "## 4. Git commit \n",
    "фиксирует состояние нашего репозитория на определенный момент времени."
   ]
  },
  {
   "cell_type": "code",
   "execution_count": null,
   "metadata": {},
   "outputs": [],
   "source": [
    "!git commit -m \"Initial commit\""
   ]
  },
  {
   "cell_type": "markdown",
   "metadata": {},
   "source": [
    "## 5. Git rm удаляет файлы и папки из репозитория и из индексирования.\n",
    "\n",
    "Если мы просто хотим перестать отслеживать файл, т.е. удалить из индексирования, но оставить в рабочей директории, то следует использовать флаг  --cached:\n",
    "\n"
   ]
  },
  {
   "cell_type": "code",
   "execution_count": 20,
   "metadata": {},
   "outputs": [
    {
     "name": "stdout",
     "output_type": "stream",
     "text": [
      "rm 'Untitled.ipynb'\n"
     ]
    }
   ],
   "source": [
    "!git rm --cached  Untitled.ipynb"
   ]
  },
  {
   "cell_type": "code",
   "execution_count": 19,
   "metadata": {},
   "outputs": [
    {
     "name": "stdout",
     "output_type": "stream",
     "text": [
      "[master 9b2c357] Delete nb\n",
      " 1 file changed, 29 insertions(+), 23 deletions(-)\n"
     ]
    }
   ],
   "source": [
    "!git commit -m \"Delete nb\""
   ]
  },
  {
   "cell_type": "code",
   "execution_count": 26,
   "metadata": {},
   "outputs": [
    {
     "name": "stdout",
     "output_type": "stream",
     "text": [
      "On branch master\n",
      "Untracked files:\n",
      "  (use \"git add <file>...\" to include in what will be committed)\n",
      "\n",
      "\t.ipynb_checkpoints/\n",
      "\tUntitled.ipynb\n",
      "\n",
      "nothing added to commit but untracked files present (use \"git add\" to track)\n"
     ]
    }
   ],
   "source": [
    "!git status"
   ]
  },
  {
   "cell_type": "markdown",
   "metadata": {},
   "source": [
    "## Допустим, мы внесли какие-то изменения в файл  hello.txt и хотим их закоммитить"
   ]
  },
  {
   "cell_type": "code",
   "execution_count": 29,
   "metadata": {},
   "outputs": [
    {
     "name": "stderr",
     "output_type": "stream",
     "text": [
      "warning: LF will be replaced by CRLF in hello.txt.\n",
      "The file will have its original line endings in your working directory.\n"
     ]
    }
   ],
   "source": [
    "!git add hello.txt"
   ]
  },
  {
   "cell_type": "code",
   "execution_count": 30,
   "metadata": {},
   "outputs": [
    {
     "name": "stdout",
     "output_type": "stream",
     "text": [
      "[master 083b147] Add important changes\n",
      " 1 file changed, 1 insertion(+)\n"
     ]
    }
   ],
   "source": [
    "!git commit -m \"Fixed errors\""
   ]
  },
  {
   "cell_type": "markdown",
   "metadata": {},
   "source": [
    "## Но только после того, как коммит уже был сделан, вспомнили, как следует писать коммит сообщения:\n",
    "\n",
    "1. Выбрать единый стиль, например:\n",
    "\n",
    "  Что сделать + для какой сущности + подробности (необязательно)\n",
    "2. Не использовать прошедшее время. Чем проще, тем лучше. Прошедшее время слишком усложняет чтение сообщений.\n",
    "\n",
    "3. Указываем тип коммита\n",
    "\n",
    "  Есть несколько заранее определенных типов: \n",
    "\n",
    "        feature — используется при добавлении новой функциональности уровня приложения\n",
    "\n",
    "        fix — если исправили какую-то серьезную багу\n",
    "\n",
    "        docs — всё, что касается документации\n",
    "\n",
    "        style — исправляем опечатки, исправляем форматирование\n",
    "\n",
    "        refactor — рефакторинг кода приложения\n",
    "\n",
    "        test — всё, что связано с тестированием\n",
    "\n",
    "        chore — обычное обслуживание кода\n",
    "\n",
    "\n",
    "Понятно, что мы теперь хотим исправить сообщение к последнему коммиту:\n"
   ]
  },
  {
   "cell_type": "code",
   "execution_count": null,
   "metadata": {
    "collapsed": true
   },
   "outputs": [],
   "source": [
    "!git commit --amend -m 'style hello.txt pip-8 mistakes'"
   ]
  },
  {
   "cell_type": "markdown",
   "metadata": {},
   "source": [
    "Индексировать изменения в отслеживаемых файлах и сделать коммит:"
   ]
  },
  {
   "cell_type": "code",
   "execution_count": null,
   "metadata": {
    "collapsed": true
   },
   "outputs": [],
   "source": [
    "!git commit -a text.txt -m \"Commit message\""
   ]
  },
  {
   "cell_type": "markdown",
   "metadata": {},
   "source": [
    "## Git log - история коммитов "
   ]
  },
  {
   "cell_type": "code",
   "execution_count": 1,
   "metadata": {
    "scrolled": true
   },
   "outputs": [
    {
     "name": "stdout",
     "output_type": "stream",
     "text": [
      "commit 083b14779ad4669ed9e3170b1c7f423708d77211\n",
      "Author: Darima Mylzenova <d.mylzenova@analysiscentre.ru>\n",
      "Date:   Fri Aug 4 12:42:00 2017 +0300\n",
      "\n",
      "    Add important changes\n",
      "\n",
      "commit 9202c53a8798da7f6d3154ab452b66e56e6c8947\n",
      "Author: Darima Mylzenova <d.mylzenova@analysiscentre.ru>\n",
      "Date:   Fri Aug 4 12:36:21 2017 +0300\n",
      "\n",
      "    Add goodbye message\n",
      "\n",
      "commit 9b2c3574c91273525118bcc3743042c98d0dda28\n",
      "Author: Darima Mylzenova <d.mylzenova@analysiscentre.ru>\n",
      "Date:   Fri Aug 4 12:33:54 2017 +0300\n",
      "\n",
      "    Delete nb\n",
      "\n",
      "commit 94e8eaca0ea0b52f9d59261548172109dc2bff07\n",
      "Author: Darima Mylzenova <d.mylzenova@analysiscentre.ru>\n",
      "Date:   Fri Aug 4 12:32:37 2017 +0300\n",
      "\n",
      "    Initial commit\n"
     ]
    }
   ],
   "source": [
    "!git log"
   ]
  },
  {
   "cell_type": "markdown",
   "metadata": {},
   "source": [
    "## 6. Git diff - отслеживание изменений между коммитами"
   ]
  },
  {
   "cell_type": "code",
   "execution_count": 32,
   "metadata": {},
   "outputs": [
    {
     "name": "stdout",
     "output_type": "stream",
     "text": [
      "diff --git a/hello.txt b/hello.txt\n",
      "index 7da017a..b8c63ab 100644\n",
      "--- a/hello.txt\n",
      "+++ b/hello.txt\n",
      "@@ -1,2 +1,3 @@\n",
      " Hello, world!\n",
      " Goodye, world!\n",
      "+More important chages\n"
     ]
    }
   ],
   "source": [
    "!git diff 9202 083b"
   ]
  },
  {
   "cell_type": "code",
   "execution_count": 28,
   "metadata": {},
   "outputs": [
    {
     "name": "stdout",
     "output_type": "stream",
     "text": [
      "diff --git a/hello.txt b/hello.txt\n",
      "index fe9fc5a..3bd5c13 100644\n",
      "--- a/hello.txt\n",
      "+++ b/hello.txt\n",
      "@@ -1,2 +1,3 @@\n",
      " Hello, world!\n",
      "-Goodbye, world!\n",
      "+// more 'important changes'\n",
      "+\n"
     ]
    }
   ],
   "source": [
    "!git diff 9003 c626"
   ]
  },
  {
   "cell_type": "markdown",
   "metadata": {},
   "source": [
    "### git diff HEAD — изменения в проекте по сравнению с последним коммитом\n",
    "### git diff HEAD^ — предпоследним коммитом\n",
    "\n",
    "### git diff master..experimental - сравнение «головы» веток master и experimental\n",
    "\n"
   ]
  },
  {
   "cell_type": "markdown",
   "metadata": {},
   "source": [
    "## Посмотреть diff в текстовом редакторе:"
   ]
  },
  {
   "cell_type": "code",
   "execution_count": null,
   "metadata": {
    "collapsed": true
   },
   "outputs": [],
   "source": [
    "!git difftool f024 5b6c"
   ]
  }
 ],
 "metadata": {
  "kernelspec": {
   "display_name": "Python 3",
   "language": "python",
   "name": "python3"
  },
  "language_info": {
   "codemirror_mode": {
    "name": "ipython",
    "version": 3
   },
   "file_extension": ".py",
   "mimetype": "text/x-python",
   "name": "python",
   "nbconvert_exporter": "python",
   "pygments_lexer": "ipython3",
   "version": "3.6.1"
  }
 },
 "nbformat": 4,
 "nbformat_minor": 2
}
