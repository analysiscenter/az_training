{
 "cells": [
  {
   "cell_type": "markdown",
   "metadata": {},
   "source": [
    "# GIT"
   ]
  },
  {
   "cell_type": "markdown",
   "metadata": {},
   "source": [
    "## 1. Git config"
   ]
  },
  {
   "cell_type": "markdown",
   "metadata": {},
   "source": [
    "### git config --system\n",
    "\n",
    "Изменяет файл /etc/gitconfig , содержащий значения, действующие для всех пользователей системы и всех их репозиториев"
   ]
  },
  {
   "cell_type": "markdown",
   "metadata": {},
   "source": [
    "### git config --global\n",
    "\n",
    "Изменяет файл ~/.gitconfig - личный для каждого пользователя"
   ]
  },
  {
   "cell_type": "markdown",
   "metadata": {},
   "source": [
    "### git config\n",
    "Значения для текущего репозитория лежат в .git/config\n",
    "\n",
    "Значения настроек на новом уровне переписывают значения, заданные на предыдущем уровне. \n",
    "\n",
    "Поэтому, например, значения из .git/config перебивают значения в /etc/gitconfig."
   ]
  },
  {
   "cell_type": "code",
   "execution_count": null,
   "metadata": {
    "collapsed": true
   },
   "outputs": [],
   "source": [
    "!git config --global user.name 'DariMylzenova @home'"
   ]
  },
  {
   "cell_type": "code",
   "execution_count": null,
   "metadata": {
    "collapsed": true
   },
   "outputs": [],
   "source": [
    "!git config --global user.email darimamylzenova@gmail.com"
   ]
  },
  {
   "cell_type": "code",
   "execution_count": 19,
   "metadata": {
    "collapsed": true
   },
   "outputs": [],
   "source": [
    "! git config --global core.editor --add vim"
   ]
  },
  {
   "cell_type": "code",
   "execution_count": 35,
   "metadata": {
    "collapsed": true
   },
   "outputs": [],
   "source": [
    "!git config core.excludesfile list_of_excluded.txt\n"
   ]
  },
  {
   "cell_type": "code",
   "execution_count": 22,
   "metadata": {},
   "outputs": [
    {
     "name": "stderr",
     "output_type": "stream",
     "text": [
      "warning: LF will be replaced by CRLF in list_of_excluded.txt.\n",
      "The file will have its original line endings in your working directory.\n",
      "warning: LF will be replaced by CRLF in task_04/Untitled.ipynb.\n",
      "The file will have its original line endings in your working directory.\n"
     ]
    }
   ],
   "source": [
    "!git add -A"
   ]
  },
  {
   "cell_type": "markdown",
   "metadata": {},
   "source": [
    "crlf = win-style: символ переноса строки и символ возврата каретки\n",
    "\n",
    "lf = unix-style: символ переноса строки"
   ]
  },
  {
   "cell_type": "raw",
   "metadata": {},
   "source": [
    "core.autocrlf=true:    core.autocrlf=input:      core.autocrlf=false:\n",
    "\n",
    "       repo    a                 repo                    repo\n",
    "     ^      V                 ^      V                ^      V\n",
    "    /        \\               /        \\              /        \\\n",
    "crlf->lf    lf->crlf     crlf->lf       \\          /            \\      \n",
    " /              \\        /                \\      /                \\"
   ]
  },
  {
   "cell_type": "code",
   "execution_count": 46,
   "metadata": {
    "collapsed": true
   },
   "outputs": [],
   "source": [
    "! git config --global core.autocrlf false"
   ]
  },
  {
   "cell_type": "code",
   "execution_count": 47,
   "metadata": {
    "collapsed": true
   },
   "outputs": [],
   "source": [
    "!git add -A"
   ]
  },
  {
   "cell_type": "markdown",
   "metadata": {},
   "source": [
    "Но поскольку я на windows, следует оставить core.autocrlf=true:"
   ]
  },
  {
   "cell_type": "code",
   "execution_count": null,
   "metadata": {
    "collapsed": true
   },
   "outputs": [],
   "source": [
    "! git config --global core.autocrlf true"
   ]
  },
  {
   "cell_type": "markdown",
   "metadata": {},
   "source": [
    "## Git remote"
   ]
  },
  {
   "cell_type": "code",
   "execution_count": 50,
   "metadata": {},
   "outputs": [
    {
     "name": "stdout",
     "output_type": "stream",
     "text": [
      "origin\thttps://github.com/analysiscenter/az_training.git (fetch)\n",
      "origin\thttps://github.com/analysiscenter/az_training.git (push)\n"
     ]
    }
   ],
   "source": [
    "!git remote -v"
   ]
  },
  {
   "cell_type": "code",
   "execution_count": 51,
   "metadata": {
    "collapsed": true
   },
   "outputs": [],
   "source": [
    "!git remote add ds https://github.com/analysiscenter/dataset.git"
   ]
  },
  {
   "cell_type": "code",
   "execution_count": 52,
   "metadata": {},
   "outputs": [
    {
     "name": "stdout",
     "output_type": "stream",
     "text": [
      "ds\thttps://github.com/analysiscenter/dataset.git (fetch)\n",
      "ds\thttps://github.com/analysiscenter/dataset.git (push)\n",
      "origin\thttps://github.com/analysiscenter/az_training.git (fetch)\n",
      "origin\thttps://github.com/analysiscenter/az_training.git (push)\n"
     ]
    }
   ],
   "source": [
    "!git remote -v"
   ]
  },
  {
   "cell_type": "code",
   "execution_count": 3,
   "metadata": {},
   "outputs": [
    {
     "name": "stdout",
     "output_type": "stream",
     "text": [
      "* remote origin\n",
      "  Fetch URL: https://github.com/analysiscenter/az_training.git\n",
      "  Push  URL: https://github.com/analysiscenter/az_training.git\n",
      "  HEAD branch: master\n",
      "  Remote branches:\n",
      "    anton_broilovskiy tracked\n",
      "    darima_mylzenova  tracked\n",
      "    master            tracked\n",
      "  Local branches configured for 'git pull':\n",
      "    darima_mylzenova merges with remote darima_mylzenova\n",
      "    master           merges with remote master\n",
      "  Local refs configured for 'git push':\n",
      "    darima_mylzenova pushes to darima_mylzenova (up to date)\n",
      "    master           pushes to master           (up to date)\n"
     ]
    }
   ],
   "source": [
    "! git remote show origin"
   ]
  },
  {
   "cell_type": "code",
   "execution_count": 4,
   "metadata": {
    "collapsed": true
   },
   "outputs": [],
   "source": [
    "! git remote rm ds"
   ]
  },
  {
   "cell_type": "markdown",
   "metadata": {},
   "source": [
    "## Git fetch"
   ]
  },
  {
   "cell_type": "code",
   "execution_count": 53,
   "metadata": {},
   "outputs": [
    {
     "name": "stderr",
     "output_type": "stream",
     "text": [
      "warning: no common commits\n",
      "From https://github.com/analysiscenter/dataset\n",
      " * [new branch]      bugs       -> ds/bugs\n",
      " * [new branch]      doc        -> ds/doc\n",
      " * [new branch]      imagebatch -> ds/imagebatch\n",
      " * [new branch]      master     -> ds/master\n",
      " * [new branch]      opensets   -> ds/opensets\n"
     ]
    }
   ],
   "source": [
    "!git fetch ds"
   ]
  },
  {
   "cell_type": "markdown",
   "metadata": {},
   "source": [
    "## Git pull"
   ]
  },
  {
   "cell_type": "markdown",
   "metadata": {},
   "source": [
    "= fetch + merge c текущей веткой (если есть ветка, настроенная на отслеживание удалённой ветки) "
   ]
  },
  {
   "cell_type": "code",
   "execution_count": null,
   "metadata": {
    "collapsed": true
   },
   "outputs": [],
   "source": [
    "!git pull"
   ]
  },
  {
   "cell_type": "markdown",
   "metadata": {},
   "source": [
    "## Git push"
   ]
  },
  {
   "cell_type": "code",
   "execution_count": null,
   "metadata": {
    "collapsed": true
   },
   "outputs": [],
   "source": [
    "! git push origin darima_mylzenova"
   ]
  },
  {
   "cell_type": "markdown",
   "metadata": {
    "collapsed": true
   },
   "source": [
    "## Git - аттрибуты"
   ]
  },
  {
   "cell_type": "code",
   "execution_count": 6,
   "metadata": {},
   "outputs": [
    {
     "name": "stdout",
     "output_type": "stream",
     "text": [
      " Volume in drive C is Windows\n",
      " Volume Serial Number is 1037-30FE\n",
      "\n",
      " Directory of C:\\Users\\Dari\\Documents\\Repos\\az_training\n",
      "\n",
      "07.08.2017  12:08    <DIR>          .\n",
      "07.08.2017  12:08    <DIR>          ..\n",
      "07.08.2017  10:06             1я258 .gitignore\n",
      "07.08.2017  11:03               210 .gitmodules\n",
      "07.08.2017  11:17    <DIR>          .ipynb_checkpoints\n",
      "07.08.2017  11:03    <DIR>          dataset\n",
      "07.08.2017  12:08             8я571 git2.ipynb\n",
      "07.08.2017  11:03             3я271 linear.py\n",
      "07.08.2017  11:43                36 list_of_excluded.txt\n",
      "07.08.2017  11:03    <DIR>          mnist_task\n",
      "07.08.2017  11:03               317 pylintrc\n",
      "07.08.2017  10:06                13 README.md\n",
      "07.08.2017  11:03               610 shippable.yml\n",
      "07.08.2017  11:03    <DIR>          task_01\n",
      "07.08.2017  11:17    <DIR>          task_04\n",
      "               8 File(s)         14я286 bytes\n",
      "               7 Dir(s)  31я398я760я448 bytes free\n"
     ]
    }
   ],
   "source": [
    "!dir "
   ]
  }
 ],
 "metadata": {
  "kernelspec": {
   "display_name": "Python 3",
   "language": "python",
   "name": "python3"
  },
  "language_info": {
   "codemirror_mode": {
    "name": "ipython",
    "version": 3
   },
   "file_extension": ".py",
   "mimetype": "text/x-python",
   "name": "python",
   "nbconvert_exporter": "python",
   "pygments_lexer": "ipython3",
   "version": "3.6.1"
  }
 },
 "nbformat": 4,
 "nbformat_minor": 2
}
