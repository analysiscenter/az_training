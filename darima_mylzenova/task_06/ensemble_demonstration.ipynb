{
 "cells": [
  {
   "cell_type": "markdown",
   "metadata": {},
   "source": [
    "# Snapshot Ensembles experiments"
   ]
  },
  {
   "cell_type": "markdown",
   "metadata": {},
   "source": [
    "Построим ансамбль моделей для классификации MNIST, воспользовавшись концепцией 'Train 1, get M for free', описанной в статье https://arxiv.org/abs/1704.00109"
   ]
  },
  {
   "cell_type": "markdown",
   "metadata": {},
   "source": [
    "![title](1.png)"
   ]
  },
  {
   "cell_type": "markdown",
   "metadata": {},
   "source": [
    "В стандартном подходе модель заканчивает обучение, сойдясь к некоторому локальному миинимуму (на рисунке слева). Для построения ансамбля весь процесс обучения несколько раз с нуля.\n",
    "\n",
    "Авторы Snapshot Ensembling используют циклический лернинг рейт, что позволяет модели посетить несколько различных локальных минимумов на протяжении обучения (на рисунке справа).  В этих точках сохраняются \"слепки\" модели, которые будут использоваться на тесте для построения ансамбля."
   ]
  },
  {
   "cell_type": "code",
   "execution_count": 1,
   "metadata": {},
   "outputs": [
    {
     "name": "stdout",
     "output_type": "stream",
     "text": [
      "env: CUDA_VISIBLE_DEVICES=1\n"
     ]
    }
   ],
   "source": [
    "%matplotlib inline\n",
    "%env CUDA_VISIBLE_DEVICES = 1"
   ]
  },
  {
   "cell_type": "code",
   "execution_count": 2,
   "metadata": {
    "collapsed": true
   },
   "outputs": [],
   "source": [
    "import sys\n",
    "\n",
    "import numpy as np\n",
    "import os\n",
    "import blosc\n",
    "\n",
    "import tensorflow as tf\n",
    "import matplotlib.pyplot as plt\n",
    "\n",
    "import os\n",
    "import blosc\n",
    "\n",
    "import numpy as np\n",
    "import tensorflow as tf\n",
    "import matplotlib.pyplot as plt\n",
    "from tqdm import tqdm_notebook as tqdm\n",
    "\n",
    "sys.path.append(\"..\")\n",
    "\n",
    "from dataset import DatasetIndex, Dataset\n",
    "from dataset import Batch, action, model, inbatch_parallel\n",
    "from ensemble_resnet_batch import MnistBatch\n",
    "from ensemble_resnet_batch import draw_stats"
   ]
  },
  {
   "cell_type": "markdown",
   "metadata": {},
   "source": [
    "## Загрузим данные MNIST"
   ]
  },
  {
   "cell_type": "code",
   "execution_count": 3,
   "metadata": {
    "collapsed": true
   },
   "outputs": [],
   "source": [
    "src = './../task_03//'\n",
    "\n",
    "with open(os.path.join(src, 'mnist_pics.blk'), 'rb') as file:\n",
    "    full_imgs = blosc.unpack_array(file.read())\n",
    "    \n",
    "with open(os.path.join(src, 'mnist_labels.blk'), 'rb') as file:\n",
    "    full_labs = blosc.unpack_array(file.read())\n",
    "    \n",
    "src = (np.reshape(full_imgs, (65000, 28, 28)), full_labs)\n",
    "\n",
    "# LEN_MNIST = 65000\n",
    "# indy = DatasetIndex(np.arange(LEN_MNIST))\n",
    "\n",
    "# mnistset = Dataset(indy, batch_class=MnistBatch)\n",
    "# mnistset.cv_split([0.9, 0.1])\n",
    "\n",
    "ix = DatasetIndex(range(58500))\n",
    "train_dataset = Dataset(ix, MnistBatch)\n"
   ]
  },
  {
   "cell_type": "markdown",
   "metadata": {},
   "source": [
    "## Обучим модель на протяжении 2000 итераций с периодическим лернинг рейтом:"
   ]
  },
  {
   "cell_type": "markdown",
   "metadata": {},
   "source": [
    "\\begin{align}\n",
    "\\alpha(t) = \\frac{\\alpha_0}{2} \\left( \\cos \\left( \\frac{\\pi mod(t-1, [T/M])}{[T/M]} \\right) + 1 \\right) \\in [\\alpha_0, 0]\n",
    "\\end{align}"
   ]
  },
  {
   "cell_type": "markdown",
   "metadata": {},
   "source": [
    "## И сохраним $m$ промежуточных моделей на диск"
   ]
  },
  {
   "cell_type": "code",
   "execution_count": 4,
   "metadata": {
    "collapsed": true
   },
   "outputs": [],
   "source": [
    "stats = []\n",
    "loss_history = []\n",
    "train_accs = []\n",
    "train_loss_history = []"
   ]
  },
  {
   "cell_type": "code",
   "execution_count": 5,
   "metadata": {
    "collapsed": true
   },
   "outputs": [],
   "source": [
    "alpha = 0.1\n",
    "period = 400\n",
    "n_iterations = 3200"
   ]
  },
  {
   "cell_type": "code",
   "execution_count": 6,
   "metadata": {
    "collapsed": true
   },
   "outputs": [],
   "source": [
    "config = {'resnet':{'period':period, 'n_iterations':n_iterations, 'alpha':alpha}}"
   ]
  },
  {
   "cell_type": "code",
   "execution_count": 7,
   "metadata": {
    "collapsed": true
   },
   "outputs": [],
   "source": [
    "# pipeline for train\n",
    "ppl = (train_dataset.pipeline(config=config).\n",
    "#        load(src=src, fmt='ndarray').\n",
    "       train_res(train_loss_history, train_accs, src[0][:58500], full_labs[:58500]))\n",
    "\n",
    "# # pipeline for test\n",
    "# ppl_test = (mnistset.test.pipeline().\n",
    "#             load(src=src, fmt='ndarray').\n",
    "#             update_stats(sess, stats, loss_history))"
   ]
  },
  {
   "cell_type": "code",
   "execution_count": 8,
   "metadata": {},
   "outputs": [
    {
     "data": {
      "application/vnd.jupyter.widget-view+json": {
       "model_id": "c5bd3b1893ce42798937ff3806740ec5"
      }
     },
     "metadata": {},
     "output_type": "display_data"
    },
    {
     "name": "stdout",
     "output_type": "stream",
     "text": [
      "\n"
     ]
    }
   ],
   "source": [
    "for i in tqdm(range(n_iterations)):\n",
    "    ppl.next_batch(100, n_epochs=None, shuffle=2)"
   ]
  },
  {
   "cell_type": "markdown",
   "metadata": {},
   "source": [
    "## Loss на train:"
   ]
  },
  {
   "cell_type": "code",
   "execution_count": 9,
   "metadata": {},
   "outputs": [
    {
     "data": {
      "image/png": "[encoded data removed]",
      "text/plain": [
       "<matplotlib.figure.Figure at 0x2128f14ca58>"
      ]
     },
     "metadata": {},
     "output_type": "display_data"
    }
   ],
   "source": [
    "draw_stats(train_accs, '')"
   ]
  },
  {
   "cell_type": "code",
   "execution_count": 10,
   "metadata": {},
   "outputs": [
    {
     "data": {
      "image/png": "[encoded data removed]",
      "text/plain": [
       "<matplotlib.figure.Figure at 0x2130f4a6828>"
      ]
     },
     "metadata": {},
     "output_type": "display_data"
    }
   ],
   "source": [
    "plt.title('title')\n",
    "plt.plot(train_loss_history[:] )\n",
    "# for i in range(7):\n",
    "#     plt.axvline(x=i*10, c='r')\n",
    "plt.xlabel('iteration')\n",
    "plt.ylabel('accuracy')\n",
    "plt.show()"
   ]
  },
  {
   "cell_type": "markdown",
   "metadata": {},
   "source": [
    "## Для получения результатов ансамбля $m$ моделей, загрузим сохраненные модели и усредним выходы $softmax$ слоев каждой модели"
   ]
  },
  {
   "cell_type": "code",
   "execution_count": 11,
   "metadata": {
    "collapsed": true
   },
   "outputs": [],
   "source": [
    "ix_test = DatasetIndex(range(65000 - 58500))\n",
    "test_dataset = Dataset(ix_test, MnistBatch)"
   ]
  },
  {
   "cell_type": "code",
   "execution_count": 12,
   "metadata": {
    "collapsed": true
   },
   "outputs": [],
   "source": [
    "ensemble_stats = []\n",
    "ensemble_loss_history = []\n",
    "\n",
    "# pipeline for ensemble test\n",
    "ppl_ens_test = (test_dataset.pipeline(config).\n",
    "            update_stats_ensemble(config, ensemble_stats, ensemble_loss_history, src[0][58500:], src[1][58500:]))"
   ]
  },
  {
   "cell_type": "code",
   "execution_count": 13,
   "metadata": {},
   "outputs": [
    {
     "data": {
      "application/vnd.jupyter.widget-view+json": {
       "model_id": "cd08770b19e84459b9f1eeb1ef9a43a3"
      }
     },
     "metadata": {},
     "output_type": "display_data"
    },
    {
     "name": "stdout",
     "output_type": "stream",
     "text": [
      "currently loading trained+400/model-400.meta\n",
      "INFO:tensorflow:Restoring parameters from trained+400/model-400\n",
      "currently loading trained+800/model-800.meta\n",
      "INFO:tensorflow:Restoring parameters from trained+800/model-800\n",
      "currently loading trained+1200/model-1200.meta\n",
      "INFO:tensorflow:Restoring parameters from trained+1200/model-1200\n",
      "currently loading trained+1600/model-1600.meta\n",
      "INFO:tensorflow:Restoring parameters from trained+1600/model-1600\n",
      "currently loading trained+2000/model-2000.meta\n",
      "INFO:tensorflow:Restoring parameters from trained+2000/model-2000\n",
      "currently loading trained+2400/model-2400.meta\n",
      "INFO:tensorflow:Restoring parameters from trained+2400/model-2400\n",
      "currently loading trained+2800/model-2800.meta\n",
      "INFO:tensorflow:Restoring parameters from trained+2800/model-2800\n",
      "currently loading trained+3200/model-3200.meta\n",
      "INFO:tensorflow:Restoring parameters from trained+3200/model-3200\n",
      "\n"
     ]
    }
   ],
   "source": [
    "for i in tqdm(range(65)):\n",
    "    ppl_ens_test.next_batch(100, n_epochs=None)"
   ]
  },
  {
   "cell_type": "markdown",
   "metadata": {},
   "source": [
    "## В итоге лосс ансамбля моделей (исключая 400-ую итерацию) (после красной черты) не слишком улучшает результат:"
   ]
  },
  {
   "cell_type": "code",
   "execution_count": 14,
   "metadata": {},
   "outputs": [
    {
     "data": {
      "image/png": "[encoded data removed]",
      "text/plain": [
       "<matplotlib.figure.Figure at 0x212fa99e128>"
      ]
     },
     "metadata": {},
     "output_type": "display_data"
    }
   ],
   "source": [
    "plt.title('title')\n",
    "plt.plot(train_accs + ensemble_stats)\n",
    "plt.axvline(x=1601, c='r')\n",
    "plt.xlabel('iteration')\n",
    "plt.ylabel('accuracy')\n",
    "plt.show()"
   ]
  },
  {
   "cell_type": "code",
   "execution_count": 18,
   "metadata": {},
   "outputs": [
    {
     "data": {
      "text/plain": [
       "0.78680003"
      ]
     },
     "execution_count": 18,
     "metadata": {},
     "output_type": "execute_result"
    }
   ],
   "source": [
    "np.mean(np.array(train_accs[1500:1550]))"
   ]
  },
  {
   "cell_type": "code",
   "execution_count": 19,
   "metadata": {},
   "outputs": [
    {
     "data": {
      "text/plain": [
       "0.7712307"
      ]
     },
     "execution_count": 19,
     "metadata": {},
     "output_type": "execute_result"
    }
   ],
   "source": [
    "np.mean(np.array(ensemble_stats))"
   ]
  },
  {
   "cell_type": "code",
   "execution_count": 15,
   "metadata": {},
   "outputs": [
    {
     "data": {
      "image/png": "[encoded data removed]",
      "text/plain": [
       "<matplotlib.figure.Figure at 0x212fae1f630>"
      ]
     },
     "metadata": {},
     "output_type": "display_data"
    }
   ],
   "source": [
    "plt.title('train_loss_history+ensemble_loss_history')\n",
    "plt.plot(train_loss_history + ensemble_loss_history)\n",
    "plt.axvline(x=1601, c='r')\n",
    "plt.xlabel('iteration')\n",
    "plt.ylabel('accuracy')\n",
    "plt.show()"
   ]
  },
  {
   "cell_type": "markdown",
   "metadata": {},
   "source": [
    "## Вопреки ожиданиям усреднение нескольких глобальных минимумов не улучшило, а напротив, ухудшило результат. Думаю, стоит попробовать другой способ агрегирования результатов нескольких моделей (например, максимум).\n"
   ]
  }
 ],
 "metadata": {
  "kernelspec": {
   "display_name": "Python 3",
   "language": "python",
   "name": "python3"
  },
  "language_info": {
   "codemirror_mode": {
    "name": "ipython",
    "version": 3
   },
   "file_extension": ".py",
   "mimetype": "text/x-python",
   "name": "python",
   "nbconvert_exporter": "python",
   "pygments_lexer": "ipython3",
   "version": "3.6.1"
  }
 },
 "nbformat": 4,
 "nbformat_minor": 2
}
