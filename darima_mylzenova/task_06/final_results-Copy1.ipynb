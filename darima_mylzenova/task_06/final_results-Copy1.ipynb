{
 "cells": [
  {
   "cell_type": "markdown",
   "metadata": {},
   "source": [
    "# Snapshot Ensembles experiments"
   ]
  },
  {
   "cell_type": "markdown",
   "metadata": {},
   "source": [
    "### Построим ансамбль моделей для классификации MNIST, воспользовавшись концепцией 'Train 1, get M for free', описанной в статье https://arxiv.org/abs/1704.00109"
   ]
  },
  {
   "cell_type": "markdown",
   "metadata": {},
   "source": [
    "![title](1.png)"
   ]
  },
  {
   "cell_type": "markdown",
   "metadata": {},
   "source": [
    "### В стандартном подходе модель заканчивает обучение, сойдясь к некоторому локальному миинимуму (на рисунке слева). Для построения ансамбля весь процесс обучения несколько раз с нуля.\n",
    "\n",
    "### Авторы Snapshot Ensembling используют циклический лернинг рейт, что позволяет модели посетить несколько различных локальных минимумов на протяжении обучения (на рисунке справа).  В этих точках сохраняются \"слепки\" модели, которые будут использоваться на тесте для построения ансамбля."
   ]
  },
  {
   "cell_type": "code",
   "execution_count": 1,
   "metadata": {},
   "outputs": [
    {
     "name": "stdout",
     "output_type": "stream",
     "text": [
      "env: CUDA_VISIBLE_DEVICES=1\n"
     ]
    }
   ],
   "source": [
    "%matplotlib inline\n",
    "%env CUDA_VISIBLE_DEVICES = 1"
   ]
  },
  {
   "cell_type": "code",
   "execution_count": 3,
   "metadata": {
    "collapsed": true
   },
   "outputs": [],
   "source": [
    "import sys\n",
    "\n",
    "import numpy as np\n",
    "import os\n",
    "import blosc\n",
    "\n",
    "import tensorflow as tf\n",
    "import matplotlib.pyplot as plt\n",
    "\n",
    "import os\n",
    "import blosc\n",
    "\n",
    "import numpy as np\n",
    "import tensorflow as tf\n",
    "import matplotlib.pyplot as plt\n",
    "from tqdm import tqdm_notebook as tqdm\n",
    "\n",
    "sys.path.append(\"..\")\n",
    "\n",
    "from dataset import DatasetIndex, Dataset\n",
    "from dataset import Batch, action, model, inbatch_parallel\n",
    "from ensemble_max import MnistBatch\n",
    "from ensemble_max import draw_stats"
   ]
  },
  {
   "cell_type": "markdown",
   "metadata": {},
   "source": [
    "## Загрузим данные MNIST"
   ]
  },
  {
   "cell_type": "code",
   "execution_count": 4,
   "metadata": {
    "collapsed": true
   },
   "outputs": [],
   "source": [
    "src = 'C:/Users/Dari/Documents/az_training/task_03'\n",
    "\n",
    "with open(os.path.join(src, 'mnist_pics.blk'), 'rb') as file:\n",
    "    full_imgs = blosc.unpack_array(file.read())\n",
    "    \n",
    "with open(os.path.join(src, 'mnist_labels.blk'), 'rb') as file:\n",
    "    full_labs = blosc.unpack_array(file.read())\n",
    "    \n",
    "src = (np.reshape(full_imgs, (65000, 28, 28)), full_labs)\n",
    "\n",
    "# LEN_MNIST = 65000\n",
    "# indy = DatasetIndex(np.arange(LEN_MNIST))\n",
    "\n",
    "# mnistset = Dataset(indy, batch_class=MnistBatch)\n",
    "# mnistset.cv_split([0.9, 0.1])\n",
    "\n",
    "ix = DatasetIndex(range(58500))\n",
    "train_dataset = Dataset(ix, MnistBatch)\n"
   ]
  },
  {
   "cell_type": "code",
   "execution_count": 5,
   "metadata": {},
   "outputs": [
    {
     "data": {
      "text/plain": [
       "58500"
      ]
     },
     "execution_count": 5,
     "metadata": {},
     "output_type": "execute_result"
    }
   ],
   "source": [
    "len(train_dataset)"
   ]
  },
  {
   "cell_type": "markdown",
   "metadata": {},
   "source": [
    "## Обучим модель на протяжении 2000 итераций с периодическим лернинг рейтом:"
   ]
  },
  {
   "cell_type": "markdown",
   "metadata": {},
   "source": [
    "\\begin{align}\n",
    "\\alpha(t) = \\frac{\\alpha_0}{2} \\left( \\cos \\left( \\frac{\\pi mod(t-1, [T/M])}{[T/M]} \\right) + 1 \\right) \\in [\\alpha_0, 0]\n",
    "\\end{align}"
   ]
  },
  {
   "cell_type": "markdown",
   "metadata": {},
   "source": [
    "## И сохраним $m$ промежуточных моделей на диск"
   ]
  },
  {
   "cell_type": "code",
   "execution_count": 6,
   "metadata": {
    "collapsed": true
   },
   "outputs": [],
   "source": [
    "# sess = tf.Session()\n",
    "# sess.run(tf.global_variables_initializer())\n",
    "stats = []\n",
    "loss_history = []\n",
    "train_accs = []\n",
    "train_loss_history = []"
   ]
  },
  {
   "cell_type": "code",
   "execution_count": 7,
   "metadata": {
    "collapsed": true
   },
   "outputs": [],
   "source": [
    "# alpha = 0.0001\n",
    "# period = 200\n",
    "# n_iterations = 401"
   ]
  },
  {
   "cell_type": "code",
   "execution_count": 8,
   "metadata": {
    "collapsed": true
   },
   "outputs": [],
   "source": [
    "alpha = 0.1\n",
    "period = 400\n",
    "n_iterations = 1601"
   ]
  },
  {
   "cell_type": "code",
   "execution_count": 9,
   "metadata": {
    "collapsed": true
   },
   "outputs": [],
   "source": [
    "config = {'resnet':{'period':period, 'n_iterations':n_iterations, 'alpha':alpha}}"
   ]
  },
  {
   "cell_type": "code",
   "execution_count": 10,
   "metadata": {
    "collapsed": true
   },
   "outputs": [],
   "source": [
    "# pipeline for train\n",
    "ppl = (train_dataset.pipeline(config=config).\n",
    "#        load(src=src, fmt='ndarray').\n",
    "       train_res(train_loss_history, train_accs, src[0][:58500], full_labs[:58500]))\n",
    "\n",
    "# # pipeline for test\n",
    "# ppl_test = (mnistset.test.pipeline().\n",
    "#             load(src=src, fmt='ndarray').\n",
    "#             update_stats(sess, stats, loss_history))"
   ]
  },
  {
   "cell_type": "code",
   "execution_count": 11,
   "metadata": {},
   "outputs": [
    {
     "data": {
      "application/vnd.jupyter.widget-view+json": {
       "model_id": "37c87c448fe44fefaaecef56c99b762e"
      }
     },
     "metadata": {},
     "output_type": "display_data"
    },
    {
     "name": "stdout",
     "output_type": "stream",
     "text": [
      "0 current stat [0.079999998]\n",
      "50 current stat [0.13, 0.15000001, 0.11, 0.17, 0.07, 0.11, 0.14, 0.11, 0.13, 0.079999998]\n",
      "100 current stat [0.18000001, 0.11, 0.23, 0.2, 0.25999999, 0.25999999, 0.18000001, 0.31, 0.25999999, 0.25]\n",
      "150 current stat [0.20999999, 0.31, 0.28, 0.31999999, 0.27000001, 0.18000001, 0.25999999, 0.2, 0.25, 0.30000001]\n",
      "200 current stat [0.23999999, 0.28, 0.27000001, 0.30000001, 0.25999999, 0.25, 0.25999999, 0.33000001, 0.18000001, 0.23999999]\n",
      "250 current stat [0.19, 0.28999999, 0.27000001, 0.20999999, 0.27000001, 0.30000001, 0.28, 0.23, 0.31, 0.28]\n",
      "300 current stat [0.31999999, 0.28999999, 0.28, 0.33000001, 0.38, 0.31, 0.28, 0.41, 0.31999999, 0.30000001]\n",
      "350 current stat [0.33000001, 0.31999999, 0.40000001, 0.38, 0.43000001, 0.37, 0.47, 0.41, 0.43000001, 0.40000001]\n",
      "entered\n",
      "400 400.0\n",
      "hey\n",
      "400 current stat [0.34999999, 0.36000001, 0.38, 0.31, 0.40000001, 0.34999999, 0.34, 0.37, 0.31999999, 0.31]\n",
      "450 current stat [0.22, 0.23, 0.25, 0.17, 0.23999999, 0.2, 0.28999999, 0.25, 0.23, 0.18000001]\n",
      "500 current stat [0.27000001, 0.37, 0.41999999, 0.44999999, 0.27000001, 0.41999999, 0.30000001, 0.12, 0.34999999, 0.38]\n",
      "550 current stat [0.30000001, 0.13, 0.18000001, 0.18000001, 0.23999999, 0.30000001, 0.5, 0.47, 0.46000001, 0.43000001]\n",
      "600 current stat [0.50999999, 0.47, 0.5, 0.44999999, 0.44999999, 0.38, 0.40000001, 0.43000001, 0.41999999, 0.43000001]\n",
      "650 current stat [0.34999999, 0.43000001, 0.63999999, 0.58999997, 0.55000001, 0.44, 0.56999999, 0.67000002, 0.64999998, 0.60000002]\n",
      "700 current stat [0.61000001, 0.68000001, 0.67000002, 0.70999998, 0.69999999, 0.67000002, 0.68000001, 0.54000002, 0.63, 0.75]\n",
      "750 current stat [0.67000002, 0.67000002, 0.75, 0.79000002, 0.75999999, 0.75999999, 0.74000001, 0.70999998, 0.76999998, 0.73000002]\n",
      "entered\n",
      "800 400.0\n",
      "hey\n",
      "800 current stat [0.75, 0.76999998, 0.74000001, 0.69, 0.83999997, 0.75, 0.69, 0.79000002, 0.63999999, 0.74000001]\n",
      "850 current stat [0.31, 0.38, 0.34, 0.25, 0.31, 0.30000001, 0.30000001, 0.20999999, 0.34, 0.16]\n",
      "900 current stat [0.40000001, 0.31999999, 0.36000001, 0.30000001, 0.31, 0.41999999, 0.41999999, 0.33000001, 0.37, 0.38]\n",
      "950 current stat [0.55000001, 0.63999999, 0.61000001, 0.63999999, 0.64999998, 0.69, 0.56, 0.64999998, 0.64999998, 0.68000001]\n",
      "1000 current stat [0.68000001, 0.61000001, 0.57999998, 0.69, 0.63999999, 0.69, 0.75999999, 0.74000001, 0.69999999, 0.69]\n",
      "1050 current stat [0.79000002, 0.73000002, 0.72000003, 0.63999999, 0.80000001, 0.81999999, 0.83999997, 0.80000001, 0.75999999, 0.87]\n",
      "1100 current stat [0.87, 0.81999999, 0.75, 0.83999997, 0.81, 0.88999999, 0.81, 0.76999998, 0.86000001, 0.80000001]\n",
      "1150 current stat [0.83999997, 0.87, 0.76999998, 0.87, 0.83999997, 0.74000001, 0.82999998, 0.81, 0.83999997, 0.87]\n",
      "entered\n",
      "1200 400.0\n",
      "hey\n",
      "1200 current stat [0.87, 0.85000002, 0.82999998, 0.79000002, 0.87, 0.87, 0.83999997, 0.88999999, 0.87, 0.88]\n",
      "1250 current stat [0.2, 0.15000001, 0.2, 0.23999999, 0.16, 0.23, 0.22, 0.23999999, 0.23, 0.12]\n",
      "1300 current stat [0.23, 0.30000001, 0.23, 0.27000001, 0.28, 0.28, 0.23999999, 0.28, 0.27000001, 0.23]\n",
      "1350 current stat [0.25999999, 0.28999999, 0.28999999, 0.27000001, 0.25, 0.18000001, 0.34, 0.33000001, 0.27000001, 0.30000001]\n",
      "1400 current stat [0.14, 0.31999999, 0.25999999, 0.34999999, 0.31, 0.30000001, 0.30000001, 0.37, 0.36000001, 0.36000001]\n",
      "1450 current stat [0.34999999, 0.40000001, 0.40000001, 0.40000001, 0.28999999, 0.43000001, 0.54000002, 0.38999999, 0.44, 0.41999999]\n",
      "1500 current stat [0.47, 0.44, 0.41999999, 0.55000001, 0.49000001, 0.47999999, 0.50999999, 0.5, 0.46000001, 0.43000001]\n",
      "1550 current stat [0.56, 0.60000002, 0.56999999, 0.52999997, 0.54000002, 0.60000002, 0.5, 0.58999997, 0.55000001, 0.57999998]\n",
      "entered\n",
      "1600 400.0\n",
      "hey\n",
      "1600 current stat [0.54000002, 0.51999998, 0.50999999, 0.62, 0.61000001, 0.5, 0.54000002, 0.55000001, 0.47, 0.51999998]\n",
      "\n"
     ]
    }
   ],
   "source": [
    "for i in tqdm(range(n_iterations)):\n",
    "    ppl.next_batch(100, n_epochs=None, shuffle=2)\n",
    "    if i % 50 == 0:\n",
    "        print(i, 'current stat', train_accs[-10:])"
   ]
  },
  {
   "cell_type": "markdown",
   "metadata": {},
   "source": [
    "## Loss на train:"
   ]
  },
  {
   "cell_type": "code",
   "execution_count": 13,
   "metadata": {},
   "outputs": [
    {
     "data": {
      "image/png": "[encoded data removed]",
      "text/plain": [
       "<matplotlib.figure.Figure at 0x1cfc8a4ee10>"
      ]
     },
     "metadata": {},
     "output_type": "display_data"
    }
   ],
   "source": [
    "draw_stats(train_accs, '')"
   ]
  },
  {
   "cell_type": "code",
   "execution_count": 14,
   "metadata": {},
   "outputs": [
    {
     "data": {
      "image/png": "[encoded data removed]",
      "text/plain": [
       "<matplotlib.figure.Figure at 0x1cfd4bc3940>"
      ]
     },
     "metadata": {},
     "output_type": "display_data"
    }
   ],
   "source": [
    "plt.title('title')\n",
    "plt.plot(train_loss_history[:] )\n",
    "# for i in range(7):\n",
    "#     plt.axvline(x=i*10, c='r')\n",
    "plt.xlabel('iteration')\n",
    "plt.ylabel('accuracy')\n",
    "plt.show()"
   ]
  },
  {
   "cell_type": "markdown",
   "metadata": {},
   "source": [
    "## Для получения результатов ансамбля $m$ моделей, загрузим сохраненные модели и усредним выходы $softmax$ слоев каждой модели"
   ]
  },
  {
   "cell_type": "code",
   "execution_count": 15,
   "metadata": {
    "collapsed": true
   },
   "outputs": [],
   "source": [
    "ix_test = DatasetIndex(range(65000 - 58500))\n",
    "test_dataset = Dataset(ix_test, MnistBatch)"
   ]
  },
  {
   "cell_type": "code",
   "execution_count": 16,
   "metadata": {
    "collapsed": true
   },
   "outputs": [],
   "source": [
    "ensemble_stats = []\n",
    "ensemble_loss_history = []\n",
    "\n",
    "# pipeline for ensemble test\n",
    "ppl_ens_test = (test_dataset.pipeline(config).\n",
    "            update_stats_ensemble(config, ensemble_stats, ensemble_loss_history, src[0][58500:], src[1][58500:]))"
   ]
  },
  {
   "cell_type": "code",
   "execution_count": 17,
   "metadata": {},
   "outputs": [
    {
     "data": {
      "application/vnd.jupyter.widget-view+json": {
       "model_id": "bccf2967cb7b46389a45054e4fd81ba3"
      }
     },
     "metadata": {},
     "output_type": "display_data"
    },
    {
     "name": "stdout",
     "output_type": "stream",
     "text": [
      "currently loading trained+400/model-400.meta\n",
      "INFO:tensorflow:Restoring parameters from trained+400/model-400\n",
      "currently loading trained+800/model-800.meta\n",
      "INFO:tensorflow:Restoring parameters from trained+800/model-800\n",
      "currently loading trained+1200/model-1200.meta\n",
      "INFO:tensorflow:Restoring parameters from trained+1200/model-1200\n",
      "currently loading trained+1600/model-1600.meta\n",
      "INFO:tensorflow:Restoring parameters from trained+1600/model-1600\n",
      "\n"
     ]
    }
   ],
   "source": [
    "for i in tqdm(range(65)):\n",
    "    ppl_ens_test.next_batch(100, n_epochs=None)"
   ]
  },
  {
   "cell_type": "markdown",
   "metadata": {},
   "source": [
    ".## В итоге лосс ансамбля моделей (исключая 400-ую итерацию) (после красной черты) не слишком улучшает результат:"
   ]
  },
  {
   "cell_type": "code",
   "execution_count": 18,
   "metadata": {},
   "outputs": [
    {
     "data": {
      "image/png": "[encoded data removed]",
      "text/plain": [
       "<matplotlib.figure.Figure at 0x1cfbb8e8128>"
      ]
     },
     "metadata": {},
     "output_type": "display_data"
    }
   ],
   "source": [
    "plt.title('title')\n",
    "plt.plot(train_accs + ensemble_stats)\n",
    "plt.axvline(x=1601, c='r')\n",
    "plt.xlabel('iteration')\n",
    "plt.ylabel('accuracy')\n",
    "plt.show()"
   ]
  },
  {
   "cell_type": "code",
   "execution_count": 19,
   "metadata": {},
   "outputs": [
    {
     "data": {
      "image/png": "[encoded data removed]",
      "text/plain": [
       "<matplotlib.figure.Figure at 0x1cfbb964400>"
      ]
     },
     "metadata": {},
     "output_type": "display_data"
    }
   ],
   "source": [
    "plt.title('train_loss_history+ensemble_loss_history')\n",
    "plt.plot(train_loss_history + ensemble_loss_history)\n",
    "plt.axvline(x=1601, c='r')\n",
    "plt.xlabel('iteration')\n",
    "plt.ylabel('accuracy')\n",
    "plt.show()"
   ]
  },
  {
   "cell_type": "markdown",
   "metadata": {},
   "source": [
    "## Вопреки ожиданиям усреднение нескольких глобальных минимумов не улучшило, а напротив, ухудшило результат. Думаю, стоит попробовать другой способ агрегирования результатов нескольких моделей (например, максимум).\n"
   ]
  },
  {
   "cell_type": "code",
   "execution_count": 2,
   "metadata": {},
   "outputs": [
    {
     "data": {
      "text/plain": [
       "array([1, 3])"
      ]
     },
     "execution_count": 2,
     "metadata": {},
     "output_type": "execute_result"
    }
   ],
   "source": [
    "import numpy as np\n",
    "a = [[1, 2], [0, 3]]\n",
    "np.max(a, axis=0)"
   ]
  }
 ],
 "metadata": {
  "kernelspec": {
   "display_name": "Python 3",
   "language": "python",
   "name": "python3"
  },
  "language_info": {
   "codemirror_mode": {
    "name": "ipython",
    "version": 3
   },
   "file_extension": ".py",
   "mimetype": "text/x-python",
   "name": "python",
   "nbconvert_exporter": "python",
   "pygments_lexer": "ipython3",
   "version": "3.6.1"
  }
 },
 "nbformat": 4,
 "nbformat_minor": 2
}
