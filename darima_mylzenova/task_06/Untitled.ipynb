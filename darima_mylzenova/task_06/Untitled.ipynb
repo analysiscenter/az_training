{
 "cells": [
  {
   "cell_type": "code",
   "execution_count": 6,
   "metadata": {},
   "outputs": [],
   "source": [
    "\"\"\" Custom batch class for storing mnist batch and models\n",
    "\n",
    "\"\"\"\n",
    "import sys\n",
    "\n",
    "import numpy as np\n",
    "import os\n",
    "import blosc\n",
    "\n",
    "import tensorflow as tf\n",
    "import matplotlib.pyplot as plt\n",
    "\n",
    "import os\n",
    "import blosc\n",
    "\n",
    "import numpy as np\n",
    "import tensorflow as tf\n",
    "import matplotlib.pyplot as plt\n",
    "from tqdm import tqdm\n",
    "sys.path.append(\"..\")\n",
    "\n",
    "\n",
    "from dataset import DatasetIndex, Dataset\n",
    "\n",
    "from dataset import Batch, action, model, inbatch_parallel\n",
    "from dataset.dataset.image import ImagesBatch"
   ]
  },
  {
   "cell_type": "code",
   "execution_count": 7,
   "metadata": {
    "collapsed": true
   },
   "outputs": [],
   "source": [
    "class MnistBatch(ImagesBatch):\n",
    "    \"\"\" Mnist batch and models\n",
    "    \"\"\"\n",
    "    def __init__(self, index, *args, **kwargs):\n",
    "        \"\"\" Init func, inherited from base batch\n",
    "        \"\"\"\n",
    "        super().__init__(index, *args, **kwargs)\n",
    "        self.images = None\n",
    "        self.labels = None\n",
    "\n",
    "\n",
    "\n",
    "    def post_function(self, list_results):\n",
    "        '''Post function for parallel shift, gathers results of every worker'''\n",
    "        result_batch = np.array(list_results)\n",
    "        self.images = result_batch\n",
    "        return self\n",
    "\n",
    "    def init_function(self):\n",
    "        '''Init function for parallel shift\n",
    "        returns list of indices, each of them will be sent to the worker separately\n",
    "        '''\n",
    "        return range(self.images.shape[0])\n",
    "\n",
    "    @action\n",
    "    @inbatch_parallel(init='init_function', post='post_function', target='threads')\n",
    "    def shift_flattened_pic(self, idx, max_margin=8):\n",
    "        \"\"\" Apply random shift to a flattened pic\n",
    "        \n",
    "        Args:\n",
    "            pic: ndarray of shape=(784) representing a pic to be flattened\n",
    "        Return:\n",
    "            flattened shifted pic\n",
    "        \"\"\"\n",
    "        \n",
    "        pic = self.images[idx]\n",
    "        padded = np.pad(pic, pad_width=[[max_margin, max_margin], [max_margin, max_margin]], \n",
    "                        mode='minimum')\n",
    "        left_lower = np.random.randint(2 * max_margin, size=2)\n",
    "        slicing = (slice(left_lower[0], left_lower[0] + 28),\n",
    "                   slice(left_lower[1], left_lower[1] + 28))\n",
    "        res = padded[slicing]\n",
    "        return res\n",
    "\n",
    "    \n",
    "    @property\n",
    "    def components(self):\n",
    "        \"\"\" Components of mnist-batch\n",
    "        \"\"\"\n",
    "        return 'images', 'labels'\n",
    "\n",
    "    @action\n",
    "    def load(self, src, fmt='blosc'):\n",
    "        \"\"\" Load mnist pics with specifed indices\n",
    "\n",
    "        Args:\n",
    "            fmt: format of source. Can be either 'blosc' or 'ndarray'\n",
    "            src: if fmt='blosc', then src is a path to dir with blosc-packed\n",
    "                mnist images and labels are stored.\n",
    "                if fmt='ndarray' - this is a tuple with arrays of images and labels\n",
    "\n",
    "        Return:\n",
    "            self\n",
    "        \"\"\"\n",
    "        if fmt == 'blosc':     \n",
    "            # read blosc images, labels\n",
    "            with open('mnist_pics.blk', 'rb') as file:\n",
    "                self.images = blosc.unpack_array(file.read())[self.indices]\n",
    "                self.images = np.reshape(self.images, (65000, 28, 28))\n",
    "\n",
    "            with open('mnist_labels.blk', 'rb') as file:\n",
    "                self.labels = blosc.unpack_array(file.read())[self.indices]\n",
    "        elif fmt == 'ndarray':\n",
    "            all_images, all_labels = src\n",
    "            self.images = all_images[self.indices]\n",
    "            self.labels = all_labels[self.indices]\n",
    "\n",
    "        return self\n",
    "\n",
    "    @model()\n",
    "    def convy():\n",
    "        \"\"\" Conv-net mnist classifier\n",
    "\n",
    "        Args:\n",
    "            ___\n",
    "        Return:\n",
    "            [[placeholder for input, ph for true labels, loss, train_step],\n",
    "             [true categorical labels, categorical_hat labels, accuracy]]\n",
    "        \"\"\"\n",
    "        # build the net\n",
    "        training = tf.placeholder(tf.bool, shape=[], name='mode')\n",
    "        x = tf.placeholder(tf.float32, [None, 28, 28], name='x')\n",
    "        x_as_pics = tf.reshape(x, shape=[-1, 28, 28, 1])\n",
    "        \n",
    "        \n",
    "        net = tf.layers.conv2d(x_as_pics, filters=4, kernel_size=(7,7), strides=(1, 1), padding='same')\n",
    "        net = tf.layers.max_pooling2d(net, pool_size=(6, 6), strides=(2, 2), padding='same')\n",
    "        net = tf.layers.batch_normalization(net, training=training)\n",
    "        net = tf.nn.relu(net)\n",
    "        \n",
    "        net = tf.layers.conv2d(net, filters=16, kernel_size=(5, 5), strides=(1, 1), padding='same')\n",
    "        net = tf.layers.max_pooling2d(net, pool_size=(5, 5), strides=(2, 2), padding='same')\n",
    "        net = tf.layers.batch_normalization(net, training=training)\n",
    "        net = tf.nn.relu(net)\n",
    "\n",
    "\n",
    "        net = tf.layers.conv2d(net, filters=32, kernel_size=(3, 3), strides=(1, 1), padding='same')\n",
    "        net = tf.layers.max_pooling2d(net, pool_size=(2, 2), strides=(2, 2), padding='same')\n",
    "        net = tf.layers.batch_normalization(net, training=training)\n",
    "        net = tf.nn.relu(net)\n",
    "\n",
    "        \n",
    "        net = tf.contrib.layers.flatten(net)\n",
    "\n",
    "        # dropout \n",
    "        keep_prob = tf.placeholder(tf.float32)\n",
    "        # net = tf.nn.dropout(net, keep_prob)\n",
    "\n",
    "\n",
    "        net = tf.layers.dense(net, 128, kernel_initializer=tf.truncated_normal_initializer(0.0, 1))\n",
    "#         net = tf.layers.dense(net, 128, kernel_initializer=tf.contrib.layers.xavier_initializer(uniform=False))\n",
    "\n",
    "        net = tf.nn.relu(net)\n",
    "        \n",
    "        net = tf.layers.dense(net, 10, kernel_initializer=tf.truncated_normal_initializer(0.0, 1))\n",
    "#         net = tf.layers.dense(net, 10, kernel_initializer=tf.contrib.layers.xavier_initializer(uniform=False))\n",
    "\n",
    "        probs = tf.nn.softmax(logits=net, name='softmax_output')\n",
    "    \n",
    "        # placeholder for correct labels\n",
    "        y_ = tf.placeholder(tf.float32, [None, 10], name='y_')\n",
    "\n",
    "        # loss\n",
    "#         loss = tf.nn.softmax_cross_entropy_with_logits(logits=net, labels=y_, name='loss')\n",
    "        loss = tf.reduce_mean(tf.nn.softmax_cross_entropy_with_logits(logits=net, labels=y_, name='loss'))\n",
    "    \n",
    "        global_step = tf.Variable(0, trainable=False)\n",
    "        starter_learning_rate = 0.0001\n",
    "        \n",
    "        learning_rate = tf.placeholder(tf.float32, shape=[], name='lr')\n",
    "        # learning_rate = tf.train.exponential_decay(starter_learning_rate, global_step,\n",
    "        #                                           100, 0.85, staircase=True)\n",
    "\n",
    "        # optimization step\n",
    "        update_ops = tf.get_collection(tf.GraphKeys.UPDATE_OPS)\n",
    "        with tf.control_dependencies(update_ops):\n",
    "            train_step = (\n",
    "                tf.train.GradientDescentOptimizer(learning_rate)\n",
    "                .minimize(loss, global_step=global_step)\n",
    "                )\n",
    "\n",
    "        # stats\n",
    "        labels_hat = tf.cast(tf.argmax(net, axis=1), tf.float32, name='labels_hat')\n",
    "        labels = tf.cast(tf.argmax(y_, axis=1), tf.float32, name='labels')\n",
    "        accuracy = tf.reduce_mean(tf.cast(tf.equal(labels_hat, labels), tf.float32), name='accuracy')\n",
    "        \n",
    "        softmax = tf.placeholder(tf.float32, [None, 10], name='softmax')\n",
    "        \n",
    "        predicts = tf.placeholder(tf.float32, [None, 10], name='predicts')\n",
    "        test_acc = tf.reduce_mean(tf.cast(tf.equal(predicts, labels), tf.float32), name='accuracy')\n",
    "        \n",
    "        print_loss = tf.reduce_mean(tf.nn.softmax_cross_entropy_with_logits(logits=softmax, labels=y_, name='print_loss'))\n",
    "        \n",
    "        return [[x, y_, loss, train_step, training, keep_prob], [labels, labels_hat, accuracy], [probs], [learning_rate, global_step, print_loss], [softmax, predicts, test_acc]]\n",
    "\n",
    "    @action(model='convy')\n",
    "    def predict(self, model, sess, pics, y_true, y_predict, probabilities):\n",
    "        ''' Predict labels '''\n",
    "        x, y_, _, _, training, keep_prob = model[0]\n",
    "        labels, labels_hat, _ = model[1]\n",
    "        probs = model[2][0]\n",
    "        probabilities.append(sess.run(probs, feed_dict={x:self.images, training: False, keep_prob: 1.0}))\n",
    "        y_predict.append(sess.run(labels_hat, feed_dict={x:self.images, training: False, keep_prob: 1.0}))\n",
    "        y_true.append(sess.run(labels, feed_dict={y_:self.labels}))\n",
    "        pics.append(self.images)\n",
    "        return self\n",
    "\n",
    "    @action(model='convy')\n",
    "    def train_convy(self, model, sess, alpha, period, n_iterations, accs, loss_history):\n",
    "        \"\"\" Train-action for convy-model\n",
    "\n",
    "        Args:\n",
    "            model: do not supply this arg, always the output of convy-model defined above\n",
    "            sess: tf-session in which learning variables are to be updated\n",
    "        \"\"\"        \n",
    "        \n",
    "        x, y_, loss, train_step, training, keep_prob = model[0]\n",
    "        learning_rate, global_step, _ = model[3]\n",
    "        \n",
    "        _, _, accuracy = model[1]\n",
    "\n",
    "        alpha = tf.cast(alpha, tf.float32)\n",
    "        \n",
    "        global_step = sess.run(global_step)\n",
    "    \n",
    "        period = tf.cast(period, tf.float32)\n",
    "        n_iterations = tf.cast(n_iterations, tf.float32)\n",
    "        n_cycles = n_iterations // period\n",
    "        \n",
    "        \n",
    "        cyclic_learning_rate = alpha / tf.cast(2.0, tf.float32) * (tf.cos(tf.cast(np.pi, tf.float32) * ((tf.cast(global_step, tf.float32) - 1) % (period)) / (period)) + 1)          \n",
    "        cyclic_learning_rate = sess.run(cyclic_learning_rate)\n",
    "        # print ('HHHHHHHHEEEEEEEEEEEY', cyclic_learning_rate)\n",
    "        sess.run(train_step, feed_dict={x: self.images, y_: self.labels, training: True, keep_prob: 0.7, learning_rate:cyclic_learning_rate})        \n",
    "        \n",
    "        period = sess.run(period)\n",
    "        \n",
    "        if (global_step) % period == 0:\n",
    "            if global_step == 0:\n",
    "                pass\n",
    "            else:\n",
    "                print ('hey')\n",
    "                saver = tf.train.Saver()\n",
    "                saver.save(sess, 'trained/model', global_step=global_step)\n",
    "        \n",
    "#         if global_step == (n_iterations - 1):\n",
    "#             print ('hey')\n",
    "#             saver = tf.train.Saver()\n",
    "#             saver.save(sess, 'trained/model', global_step=global_step)\n",
    "\n",
    "        \n",
    "        loss_history.append(sess.run(loss, feed_dict={x: self.images, y_: self.labels, training: False, keep_prob: 1.0}))\n",
    "\n",
    "        accs.append(sess.run(accuracy, feed_dict={x: self.images, y_: self.labels, training: False, keep_prob: 1.0}))\n",
    "\n",
    "        return self\n",
    "\n",
    "\n",
    "    @action(model='convy')\n",
    "    def update_stats(self, model, sess, period, n_iterations, accs, loss_history):\n",
    "        \"\"\" Append accuracy that is obtained by convy-model given weights stored in sess Tf-session\n",
    "\n",
    "        Args:\n",
    "            model: do not supply this arg, always the output of convy-model defined above\n",
    "            sess: tf-session with trained (to some extent) weights\n",
    "            accs: list with accuracies\n",
    "        \"\"\"\n",
    "        \n",
    "        n_cycles = n_iterations // period\n",
    "        results = []\n",
    "        for i in range(1, n_cycles + 1):\n",
    "            address = 'trained/model' + '-' + str(i*period) + '.meta'\n",
    "\n",
    "            grapphy_2 = tf.Graph()\n",
    "            with grapphy_2.as_default():\n",
    "                new_sess = tf.Session()\n",
    "\n",
    "                new_saver = tf.train.import_meta_graph(address)\n",
    "                new_saver.restore(new_sess, tf.train.latest_checkpoint('trained/'))\n",
    "                training = grapphy_2.get_tensor_by_name('mode:0')\n",
    "                x = grapphy_2.get_tensor_by_name('x:0')\n",
    "                softmax_output = grapphy_2.get_tensor_by_name('softmax_output:0')\n",
    "\n",
    "                res = new_sess.run(softmax_output, feed_dict={x:imgs, training:False})\n",
    "                results.append(res)\n",
    "            \n",
    "        avg_softmax = np.average(results, axis=0)\n",
    "        my_predicts = np.argmax(a, axis=1)\n",
    "        \n",
    "        \n",
    "        labels = np.argmax(self.labels, axis=1)\n",
    "        \n",
    "        \n",
    "        _, _, accuracy = model[1]\n",
    "        x, y_, _, _, training, keep_prob = model[0]\n",
    "        _, _, print_loss = model[3]\n",
    "        softmax, predicts, test_acc = model[4]\n",
    "        \n",
    "        loss_history.append(sess.run(print_loss, feed_dict={softmax: avg_softmax, y_: self.labels, training: False, keep_prob: 1.0}))\n",
    "\n",
    "        accs.append(sess.run(accuracy, feed_dict={predicts: my_predicts, y_: self.labels, training: False, keep_prob: 1.0}))\n",
    "        return self\n",
    "\n",
    "    \n",
    "#     @action(model='convy')\n",
    "#     def update_stats(self, model, sess, accs, loss_history):\n",
    "#         \"\"\" Append accuracy that is obtained by convy-model given weights stored in sess Tf-session\n",
    "\n",
    "#         Args:\n",
    "#             model: do not supply this arg, always the output of convy-model defined above\n",
    "#             sess: tf-session with trained (to some extent) weights\n",
    "#             accs: list with accuracies\n",
    "#         \"\"\"\n",
    "        \n",
    "        \n",
    "#         _, _, accuracy = model[1]\n",
    "#         x, y_, _, _, training, keep_prob = model[0]\n",
    "#         _, _, print_loss = model[3]\n",
    "#         loss_history.append(sess.run(print_loss, feed_dict={x: self.images, y_: self.labels, training: False, keep_prob: 1.0}))\n",
    "\n",
    "#         accs.append(sess.run(accuracy, feed_dict={x: self.images, y_: self.labels, training: False, keep_prob: 1.0}))\n",
    "#         return self\n",
    "\n",
    "\n",
    "def draw_stats(stats, title):\n",
    "    plt.title(title)\n",
    "    plt.plot(stats)\n",
    "    plt.xlabel('iteration')\n",
    "    plt.ylabel('accuracy')\n",
    "    plt.show()"
   ]
  },
  {
   "cell_type": "code",
   "execution_count": 8,
   "metadata": {
    "collapsed": true
   },
   "outputs": [],
   "source": [
    "# \"\"\" Custom batch class for storing mnist batch and models\n",
    "# \"\"\"\n",
    "# import sys\n",
    "\n",
    "# import numpy as np\n",
    "# import os\n",
    "# import blosc\n",
    "\n",
    "# import tensorflow as tf\n",
    "# import matplotlib.pyplot as plt\n",
    "\n",
    "# from dataset import Batch, action, model, inbatch_parallel, ImagesBatch\n",
    "\n",
    "\n",
    "# class MnistBatch(ImagesBatch):\n",
    "#     \"\"\" Mnist batch and models\n",
    "#     \"\"\"\n",
    "#     def __init__(self, index, *args, **kwargs):\n",
    "#         \"\"\" Init func, inherited from base batch\n",
    "#         \"\"\"\n",
    "#         super().__init__(index, *args, **kwargs)\n",
    "#         self.images = None\n",
    "#         self.labels = None\n",
    "\n",
    "\n",
    "\n",
    "#     def post_function(self, list_results):\n",
    "#         '''Post function for parallel shift, gathers results of every worker'''\n",
    "#         result_batch = np.array(list_results)\n",
    "#         self.images = result_batch\n",
    "#         return self\n",
    "\n",
    "#     def init_function(self):\n",
    "#         '''Init function for parallel shift\n",
    "#         returns list of indices, each of them will be sent to the worker separately\n",
    "#         '''\n",
    "#         return range(self.images.shape[0])\n",
    "\n",
    "#     @action\n",
    "#     @inbatch_parallel(init='init_function', post='post_function', target='threads')\n",
    "#     def shift_flattened_pic(self, idx, max_margin=8):\n",
    "#         \"\"\" Apply random shift to a flattened pic\n",
    "        \n",
    "#         Args:\n",
    "#             pic: ndarray of shape=(784) representing a pic to be flattened\n",
    "#         Return:\n",
    "#             flattened shifted pic\n",
    "#         \"\"\"\n",
    "        \n",
    "#         pic = self.images[idx]\n",
    "#         padded = np.pad(pic, pad_width=[[max_margin, max_margin], [max_margin, max_margin]], \n",
    "#                         mode='minimum')\n",
    "#         left_lower = np.random.randint(2 * max_margin, size=2)\n",
    "#         slicing = (slice(left_lower[0], left_lower[0] + 28),\n",
    "#                    slice(left_lower[1], left_lower[1] + 28))\n",
    "#         res = padded[slicing]\n",
    "#         return res\n",
    "\n",
    "    \n",
    "#     @property\n",
    "#     def components(self):\n",
    "#         \"\"\" Components of mnist-batch\n",
    "#         \"\"\"\n",
    "#         return 'images', 'labels'\n",
    "\n",
    "#     @action\n",
    "#     def load(self, src, fmt='blosc'):\n",
    "#         \"\"\" Load mnist pics with specifed indices\n",
    "\n",
    "#         Args:\n",
    "#             fmt: format of source. Can be either 'blosc' or 'ndarray'\n",
    "#             src: if fmt='blosc', then src is a path to dir with blosc-packed\n",
    "#                 mnist images and labels are stored.\n",
    "#                 if fmt='ndarray' - this is a tuple with arrays of images and labels\n",
    "\n",
    "#         Return:\n",
    "#             self\n",
    "#         \"\"\"\n",
    "#         if fmt == 'blosc':     \n",
    "#             # read blosc images, labels\n",
    "#             with open('mnist_pics.blk', 'rb') as file:\n",
    "#                 self.images = blosc.unpack_array(file.read())[self.indices]\n",
    "#                 self.images = np.reshape(self.images, (65000, 28, 28))\n",
    "\n",
    "#             with open('mnist_labels.blk', 'rb') as file:\n",
    "#                 self.labels = blosc.unpack_array(file.read())[self.indices]\n",
    "#         elif fmt == 'ndarray':\n",
    "#             all_images, all_labels = src\n",
    "#             self.images = all_images[self.indices]\n",
    "#             self.labels = all_labels[self.indices]\n",
    "\n",
    "#         return self\n",
    "\n",
    "#     @model()\n",
    "#     def convy():\n",
    "#         \"\"\" Conv-net mnist classifier\n",
    "\n",
    "#         Args:\n",
    "#             ___\n",
    "#         Return:\n",
    "#             [[placeholder for input, ph for true labels, loss, train_step],\n",
    "#              [true categorical labels, categorical_hat labels, accuracy]]\n",
    "#         \"\"\"\n",
    "#         # build the net\n",
    "#         training = tf.placeholder(tf.bool, shape=[], name='mode')\n",
    "#         x = tf.placeholder(tf.float32, [None, 28, 28])\n",
    "#         x_as_pics = tf.reshape(x, shape=[-1, 28, 28, 1])\n",
    "        \n",
    "        \n",
    "#         net = tf.layers.conv2d(x_as_pics, filters=4, kernel_size=(7,7), strides=(1, 1), padding='same')\n",
    "#         net = tf.layers.max_pooling2d(net, pool_size=(6, 6), strides=(2, 2), padding='same')\n",
    "#         net = tf.layers.batch_normalization(net, training=training)\n",
    "#         net = tf.nn.relu(net)\n",
    "        \n",
    "#         net = tf.layers.conv2d(net, filters=16, kernel_size=(5, 5), strides=(1, 1), padding='same')\n",
    "#         net = tf.layers.max_pooling2d(net, pool_size=(5, 5), strides=(2, 2), padding='same')\n",
    "#         net = tf.layers.batch_normalization(net, training=training)\n",
    "#         net = tf.nn.relu(net)\n",
    "\n",
    "\n",
    "#         net = tf.layers.conv2d(net, filters=32, kernel_size=(3, 3), strides=(1, 1), padding='same')\n",
    "#         net = tf.layers.max_pooling2d(net, pool_size=(2, 2), strides=(2, 2), padding='same')\n",
    "#         net = tf.layers.batch_normalization(net, training=training)\n",
    "#         net = tf.nn.relu(net)\n",
    "\n",
    "        \n",
    "#         net = tf.contrib.layers.flatten(net)\n",
    "\n",
    "#         # dropout \n",
    "#         keep_prob = tf.placeholder(tf.float32)\n",
    "#         # net = tf.nn.dropout(net, keep_prob)\n",
    "\n",
    "\n",
    "#         net = tf.layers.dense(net, 128, kernel_initializer=tf.truncated_normal_initializer(0.0, 1))\n",
    "\n",
    "#         net = tf.nn.relu(net)\n",
    "        \n",
    "#         net = tf.layers.dense(net, 10, kernel_initializer=tf.truncated_normal_initializer(0.0, 1))\n",
    "\n",
    "\n",
    "#         probs = tf.nn.softmax(logits=net)\n",
    "#         # placeholder for correct labels\n",
    "#         y_ = tf.placeholder(tf.float32, [None, 10])\n",
    "\n",
    "#         # loss\n",
    "#         loss = tf.reduce_mean(tf.nn.softmax_cross_entropy_with_logits(logits=net, labels=y_, name='loss'))\n",
    "# #         loss = tf.nn.softmax_cross_entropy_with_logits(logits=net, labels=y_, name='loss')\n",
    "        \n",
    "#         global_step = tf.Variable(0, trainable=False)\n",
    "#         starter_learning_rate = 0.0001\n",
    "#         learning_rate = tf.train.exponential_decay(starter_learning_rate, global_step,\n",
    "#                                                    100, 0.96, staircase=True)\n",
    "\n",
    "#         # optimization step\n",
    "#         update_ops = tf.get_collection(tf.GraphKeys.UPDATE_OPS)\n",
    "#         with tf.control_dependencies(update_ops):\n",
    "#             train_step = (\n",
    "#                 tf.train.GradientDescentOptimizer(learning_rate)\n",
    "#                 .minimize(loss, global_step=global_step)\n",
    "#                 )\n",
    "\n",
    "#         # stats\n",
    "#         labels_hat = tf.cast(tf.argmax(net, axis=1), tf.float32, name='labels_hat')\n",
    "#         labels = tf.cast(tf.argmax(y_, axis=1), tf.float32, name='labels')\n",
    "#         accuracy = tf.reduce_mean(tf.cast(tf.equal(labels_hat, labels), tf.float32), name='accuracy')\n",
    "        \n",
    "#         print_loss = tf.reduce_mean(tf.nn.softmax_cross_entropy_with_logits(logits=net, labels=y_, name='print_loss'))\n",
    "\n",
    "#         return [[x, y_, loss, train_step, training, keep_prob], [labels, labels_hat, accuracy], [probs], [learning_rate], [loss]]\n",
    "\n",
    "#     @action(model='convy')\n",
    "#     def predict(self, model, sess, pics, y_true, y_predict, probabilities):\n",
    "#         ''' Predict labels '''\n",
    "#         x, y_, _, _, training, keep_prob = model[0]\n",
    "#         labels, labels_hat, _ = model[1]\n",
    "#         probs = model[2][0]\n",
    "#         probabilities.append(sess.run(probs, feed_dict={x:self.images, training: False, keep_prob: 1.0}))\n",
    "#         y_predict.append(sess.run(labels_hat, feed_dict={x:self.images, training: False, keep_prob: 1.0}))\n",
    "#         y_true.append(sess.run(labels, feed_dict={y_:self.labels}))\n",
    "#         pics.append(self.images)\n",
    "#         return self\n",
    "\n",
    "#     @action(model='convy')\n",
    "#     def train_convy(self, model, sess):\n",
    "#         \"\"\" Train-action for convy-model\n",
    "\n",
    "#         Args:\n",
    "#             model: do not supply this arg, always the output of convy-model defined above\n",
    "#             sess: tf-session in which learning variables are to be updated\n",
    "#         \"\"\"\n",
    "        \n",
    "#         x, y_, _, train_step, training, keep_prob = model[0]\n",
    "#         sess.run(train_step, feed_dict={x: self.images, y_: self.labels, training: True, keep_prob: 0.7})        \n",
    "#         return self\n",
    "\n",
    "#     @action(model='convy')\n",
    "#     def update_stats(self, model, sess, accs, loss_history):\n",
    "#         \"\"\" Append accuracy that is obtained by convy-model given weights stored in sess Tf-session\n",
    "\n",
    "#         Args:\n",
    "#             model: do not supply this arg, always the output of convy-model defined above\n",
    "#             sess: tf-session with trained (to some extent) weights\n",
    "#             accs: list with accuracies\n",
    "#         \"\"\"\n",
    "#         _, _, accuracy = model[1]\n",
    "#         x, y_, _, _, training, keep_prob = model[0]\n",
    "#         learning_rate = model[3]\n",
    "#         print_loss = model[4]\n",
    "#         loss_history.append(sess.run(print_loss, feed_dict={x: self.images, y_: self.labels, training: False, keep_prob: 1.0}))\n",
    "\n",
    "#         accs.append(sess.run(accuracy, feed_dict={x: self.images, y_: self.labels, training: False, keep_prob: 1.0}))\n",
    "#         return self\n",
    "\n",
    "# def draw_stats(stats, title):\n",
    "#     plt.title(title)\n",
    "#     plt.plot(stats)\n",
    "#     plt.xlabel('iteration')\n",
    "#     plt.ylabel('accuracy')\n",
    "#     plt.show()"
   ]
  },
  {
   "cell_type": "code",
   "execution_count": 9,
   "metadata": {},
   "outputs": [
    {
     "name": "stdout",
     "output_type": "stream",
     "text": [
      "env: CUDA_VISIBLE_DEVICES=1\n"
     ]
    }
   ],
   "source": [
    "%matplotlib inline\n",
    "%env CUDA_VISIBLE_DEVICES = 1\n",
    "\n",
    "src = 'C:/Users/Dari/Documents/az_training/task_03'\n",
    "\n",
    "with open(os.path.join(src, 'mnist_pics.blk'), 'rb') as file:\n",
    "    full_imgs = blosc.unpack_array(file.read())\n",
    "    \n",
    "with open(os.path.join(src, 'mnist_labels.blk'), 'rb') as file:\n",
    "    full_labs = blosc.unpack_array(file.read())\n",
    "    \n",
    "src = (np.reshape(full_imgs, (65000, 28, 28)), full_labs)\n",
    "# src = (full_imgs, full_labs)"
   ]
  },
  {
   "cell_type": "code",
   "execution_count": 10,
   "metadata": {},
   "outputs": [],
   "source": [
    "LEN_MNIST = 65000\n",
    "indy = DatasetIndex(np.arange(LEN_MNIST))\n",
    "\n",
    "mnistset = Dataset(indy, batch_class=MnistBatch)\n",
    "mnistset.cv_split([0.9, 0.1])\n",
    "\n",
    "bch = MnistBatch(indy.create_subset(indy.indices[1:5]))"
   ]
  },
  {
   "cell_type": "code",
   "execution_count": 11,
   "metadata": {
    "collapsed": true
   },
   "outputs": [],
   "source": [
    "sess = tf.Session()\n",
    "sess.run(tf.global_variables_initializer())\n",
    "stats = []\n",
    "loss_history = []"
   ]
  },
  {
   "cell_type": "code",
   "execution_count": 12,
   "metadata": {
    "collapsed": true
   },
   "outputs": [],
   "source": [
    "alpha = 0.001\n",
    "period = 200\n",
    "n_iterations = 401"
   ]
  },
  {
   "cell_type": "code",
   "execution_count": 32,
   "metadata": {},
   "outputs": [
    {
     "name": "stdout",
     "output_type": "stream",
     "text": [
      "Thu Aug 17 23:28:25 2017       \n",
      "+-----------------------------------------------------------------------------+\n",
      "| NVIDIA-SMI 384.94                 Driver Version: 384.94                    |\n",
      "|-------------------------------+----------------------+----------------------+\n",
      "| GPU  Name            TCC/WDDM | Bus-Id        Disp.A | Volatile Uncorr. ECC |\n",
      "| Fan  Temp  Perf  Pwr:Usage/Cap|         Memory-Usage | GPU-Util  Compute M. |\n",
      "|===============================+======================+======================|\n",
      "|   0  GeForce GTX 1050   WDDM  | 00000000:01:00.0 Off |                  N/A |\n",
      "| N/A   40C    P8    N/A /  N/A |   3219MiB /  4096MiB |      0%      Default |\n",
      "+-------------------------------+----------------------+----------------------+\n",
      "                                                                               \n",
      "+-----------------------------------------------------------------------------+\n",
      "| Processes:                                                       GPU Memory |\n",
      "|  GPU       PID  Type  Process name                               Usage      |\n",
      "|=============================================================================|\n",
      "|    0     15124    C   C:\\Users\\Dari\\Anaconda3\\python.exe           N/A      |\n",
      "+-----------------------------------------------------------------------------+\n"
     ]
    }
   ],
   "source": [
    "!nvidia-smi"
   ]
  },
  {
   "cell_type": "code",
   "execution_count": 2,
   "metadata": {},
   "outputs": [
    {
     "data": {
      "text/plain": [
       "3"
      ]
     },
     "execution_count": 2,
     "metadata": {},
     "output_type": "execute_result"
    }
   ],
   "source": [
    "900 // 300"
   ]
  },
  {
   "cell_type": "code",
   "execution_count": 7,
   "metadata": {
    "collapsed": true
   },
   "outputs": [],
   "source": [
    "# pipeline for train\n",
    "ppl = (mnistset.train.pipeline().\n",
    "       load(src=src, fmt='ndarray').\n",
    "       train_convy(sess))\n",
    "\n",
    "# pipeline for test\n",
    "ppl_test = (mnistset.test.pipeline().\n",
    "            load(src=src, fmt='ndarray').\n",
    "            update_stats(sess, stats, loss_history))"
   ]
  },
  {
   "cell_type": "code",
   "execution_count": null,
   "metadata": {
    "collapsed": true
   },
   "outputs": [],
   "source": []
  },
  {
   "cell_type": "code",
   "execution_count": 8,
   "metadata": {},
   "outputs": [
    {
     "name": "stderr",
     "output_type": "stream",
     "text": [
      "100%|████████████████████████████████████████████████████████████████████████████████| 500/500 [00:09<00:00, 54.57it/s]\n"
     ]
    }
   ],
   "source": [
    "for i in tqdm(range(n_iterations)):\n",
    "    ppl.next_batch(100, n_epochs=None)\n",
    "    ppl_test.next_batch(100, n_epochs=None)"
   ]
  },
  {
   "cell_type": "code",
   "execution_count": 9,
   "metadata": {},
   "outputs": [
    {
     "data": {
      "image/png": "[encoded data removed]",
      "text/plain": [
       "<matplotlib.figure.Figure at 0x1cd23a94e48>"
      ]
     },
     "metadata": {},
     "output_type": "display_data"
    }
   ],
   "source": [
    "plt.title('Test on on the original data')\n",
    "plt.plot(stats)\n",
    "plt.xlabel('iter')\n",
    "plt.ylabel('aaccuracy')\n",
    "plt.show()"
   ]
  },
  {
   "cell_type": "code",
   "execution_count": 10,
   "metadata": {},
   "outputs": [
    {
     "data": {
      "image/png": "[encoded data removed]",
      "text/plain": [
       "<matplotlib.figure.Figure at 0x1cd36ae0400>"
      ]
     },
     "metadata": {},
     "output_type": "display_data"
    }
   ],
   "source": [
    "plt.title('Test on on the original data')\n",
    "plt.plot(loss_history)\n",
    "plt.xlabel('iter')\n",
    "plt.ylabel('aaccuracy')\n",
    "plt.show()"
   ]
  },
  {
   "cell_type": "code",
   "execution_count": null,
   "metadata": {
    "collapsed": true
   },
   "outputs": [],
   "source": []
  },
  {
   "cell_type": "code",
   "execution_count": null,
   "metadata": {
    "collapsed": true
   },
   "outputs": [],
   "source": []
  },
  {
   "cell_type": "code",
   "execution_count": null,
   "metadata": {
    "collapsed": true
   },
   "outputs": [],
   "source": []
  },
  {
   "cell_type": "code",
   "execution_count": 9,
   "metadata": {},
   "outputs": [
    {
     "data": {
      "image/png": "[encoded data removed]",
      "text/plain": [
       "<matplotlib.figure.Figure at 0x2132b2e3c88>"
      ]
     },
     "metadata": {},
     "output_type": "display_data"
    }
   ],
   "source": [
    "plt.title('Test on on the original data')\n",
    "plt.plot(stats)\n",
    "plt.xlabel('iter')\n",
    "plt.ylabel('aaccuracy')\n",
    "plt.show()"
   ]
  },
  {
   "cell_type": "code",
   "execution_count": 10,
   "metadata": {},
   "outputs": [
    {
     "data": {
      "image/png": "[encoded data removed]",
      "text/plain": [
       "<matplotlib.figure.Figure at 0x2133e3b3048>"
      ]
     },
     "metadata": {},
     "output_type": "display_data"
    }
   ],
   "source": [
    "plt.title('Test on on the original data')\n",
    "plt.plot(loss_history)\n",
    "plt.xlabel('iter')\n",
    "plt.ylabel('aaccuracy')\n",
    "plt.show()"
   ]
  },
  {
   "cell_type": "code",
   "execution_count": 13,
   "metadata": {
    "collapsed": true
   },
   "outputs": [],
   "source": [
    "train_loss_history = [] \n",
    "train_stats = []"
   ]
  },
  {
   "cell_type": "code",
   "execution_count": null,
   "metadata": {
    "collapsed": true
   },
   "outputs": [],
   "source": []
  },
  {
   "cell_type": "code",
   "execution_count": 14,
   "metadata": {
    "collapsed": true
   },
   "outputs": [],
   "source": [
    "# !nvidia-smi"
   ]
  },
  {
   "cell_type": "code",
   "execution_count": 15,
   "metadata": {
    "collapsed": true
   },
   "outputs": [],
   "source": [
    "# pipeline for train\n",
    "ppl = (mnistset.train.pipeline().\n",
    "       load(src=src, fmt='ndarray').\n",
    "       train_convy(sess,  alpha, period, n_iterations, train_stats, train_loss_history))\n",
    "\n",
    "# pipeline for test\n",
    "ppl_test = (mnistset.test.pipeline().\n",
    "            load(src=src, fmt='ndarray').\n",
    "            update_stats(sess, period, n_iterations, stats, loss_history))"
   ]
  },
  {
   "cell_type": "code",
   "execution_count": 16,
   "metadata": {},
   "outputs": [
    {
     "name": "stderr",
     "output_type": "stream",
     "text": [
      " 13%|██████████▋                                                                      | 53/401 [00:09<01:04,  5.42it/s]\n"
     ]
    },
    {
     "ename": "KeyboardInterrupt",
     "evalue": "",
     "output_type": "error",
     "traceback": [
      "\u001b[1;31m---------------------------------------------------------------------------\u001b[0m",
      "\u001b[1;31mKeyboardInterrupt\u001b[0m                         Traceback (most recent call last)",
      "\u001b[1;32m<ipython-input-16-da74457821ee>\u001b[0m in \u001b[0;36m<module>\u001b[1;34m()\u001b[0m\n\u001b[0;32m      1\u001b[0m \u001b[1;32mfor\u001b[0m \u001b[0mi\u001b[0m \u001b[1;32min\u001b[0m \u001b[0mtqdm\u001b[0m\u001b[1;33m(\u001b[0m\u001b[0mrange\u001b[0m\u001b[1;33m(\u001b[0m\u001b[0mn_iterations\u001b[0m\u001b[1;33m)\u001b[0m\u001b[1;33m)\u001b[0m\u001b[1;33m:\u001b[0m\u001b[1;33m\u001b[0m\u001b[0m\n\u001b[1;32m----> 2\u001b[1;33m     \u001b[0mppl\u001b[0m\u001b[1;33m.\u001b[0m\u001b[0mnext_batch\u001b[0m\u001b[1;33m(\u001b[0m\u001b[1;36m100\u001b[0m\u001b[1;33m,\u001b[0m \u001b[0mn_epochs\u001b[0m\u001b[1;33m=\u001b[0m\u001b[1;32mNone\u001b[0m\u001b[1;33m)\u001b[0m\u001b[1;33m\u001b[0m\u001b[0m\n\u001b[0m\u001b[0;32m      3\u001b[0m     \u001b[1;31m# ppl_tebst.next_batch(100, n_epochs=None)\u001b[0m\u001b[1;33m\u001b[0m\u001b[1;33m\u001b[0m\u001b[0m\n",
      "\u001b[1;32mC:\\Users\\Dari\\Documents\\az_training\\dataset\\dataset\\pipeline.py\u001b[0m in \u001b[0;36mnext_batch\u001b[1;34m(self, *args, **kwargs)\u001b[0m\n\u001b[0;32m    706\u001b[0m                 \u001b[0mself\u001b[0m\u001b[1;33m.\u001b[0m\u001b[0m_lazy_run\u001b[0m \u001b[1;33m=\u001b[0m \u001b[0margs\u001b[0m\u001b[1;33m,\u001b[0m \u001b[0mkwargs\u001b[0m\u001b[1;33m\u001b[0m\u001b[0m\n\u001b[0;32m    707\u001b[0m                 \u001b[0mself\u001b[0m\u001b[1;33m.\u001b[0m\u001b[0m_batch_generator\u001b[0m \u001b[1;33m=\u001b[0m \u001b[0mself\u001b[0m\u001b[1;33m.\u001b[0m\u001b[0mgen_batch\u001b[0m\u001b[1;33m(\u001b[0m\u001b[1;33m*\u001b[0m\u001b[0margs\u001b[0m\u001b[1;33m,\u001b[0m \u001b[1;33m**\u001b[0m\u001b[0mkwargs\u001b[0m\u001b[1;33m)\u001b[0m\u001b[1;33m\u001b[0m\u001b[0m\n\u001b[1;32m--> 708\u001b[1;33m             \u001b[0mbatch_res\u001b[0m \u001b[1;33m=\u001b[0m \u001b[0mnext\u001b[0m\u001b[1;33m(\u001b[0m\u001b[0mself\u001b[0m\u001b[1;33m.\u001b[0m\u001b[0m_batch_generator\u001b[0m\u001b[1;33m)\u001b[0m\u001b[1;33m\u001b[0m\u001b[0m\n\u001b[0m\u001b[0;32m    709\u001b[0m         \u001b[1;32melse\u001b[0m\u001b[1;33m:\u001b[0m\u001b[1;33m\u001b[0m\u001b[0m\n\u001b[0;32m    710\u001b[0m             \u001b[0mself\u001b[0m\u001b[1;33m.\u001b[0m\u001b[0m_lazy_run\u001b[0m \u001b[1;33m=\u001b[0m \u001b[0margs\u001b[0m\u001b[1;33m,\u001b[0m \u001b[0mkwargs\u001b[0m\u001b[1;33m\u001b[0m\u001b[0m\n",
      "\u001b[1;32mC:\\Users\\Dari\\Documents\\az_training\\dataset\\dataset\\pipeline.py\u001b[0m in \u001b[0;36mgen_batch\u001b[1;34m(self, batch_size, shuffle, n_epochs, drop_last, prefetch, *args, **kwargs)\u001b[0m\n\u001b[0;32m    682\u001b[0m             \u001b[1;32mfor\u001b[0m \u001b[0mbatch\u001b[0m \u001b[1;32min\u001b[0m \u001b[0mbatch_generator\u001b[0m\u001b[1;33m:\u001b[0m\u001b[1;33m\u001b[0m\u001b[0m\n\u001b[0;32m    683\u001b[0m                 \u001b[1;32mtry\u001b[0m\u001b[1;33m:\u001b[0m\u001b[1;33m\u001b[0m\u001b[0m\n\u001b[1;32m--> 684\u001b[1;33m                     \u001b[0mbatch_res\u001b[0m \u001b[1;33m=\u001b[0m \u001b[0mself\u001b[0m\u001b[1;33m.\u001b[0m\u001b[0m_exec\u001b[0m\u001b[1;33m(\u001b[0m\u001b[0mbatch\u001b[0m\u001b[1;33m)\u001b[0m\u001b[1;33m\u001b[0m\u001b[0m\n\u001b[0m\u001b[0;32m    685\u001b[0m                 \u001b[1;32mexcept\u001b[0m \u001b[0mSkipBatchException\u001b[0m\u001b[1;33m:\u001b[0m\u001b[1;33m\u001b[0m\u001b[0m\n\u001b[0;32m    686\u001b[0m                     \u001b[1;32mpass\u001b[0m\u001b[1;33m\u001b[0m\u001b[0m\n",
      "\u001b[1;32mC:\\Users\\Dari\\Documents\\az_training\\dataset\\dataset\\pipeline.py\u001b[0m in \u001b[0;36m_exec\u001b[1;34m(self, batch, new_loop)\u001b[0m\n\u001b[0;32m    435\u001b[0m             \u001b[0masyncio\u001b[0m\u001b[1;33m.\u001b[0m\u001b[0mset_event_loop\u001b[0m\u001b[1;33m(\u001b[0m\u001b[0masyncio\u001b[0m\u001b[1;33m.\u001b[0m\u001b[0mnew_event_loop\u001b[0m\u001b[1;33m(\u001b[0m\u001b[1;33m)\u001b[0m\u001b[1;33m)\u001b[0m\u001b[1;33m\u001b[0m\u001b[0m\n\u001b[0;32m    436\u001b[0m         \u001b[0mbatch\u001b[0m\u001b[1;33m.\u001b[0m\u001b[0mpipeline\u001b[0m \u001b[1;33m=\u001b[0m \u001b[0mself\u001b[0m\u001b[1;33m\u001b[0m\u001b[0m\n\u001b[1;32m--> 437\u001b[1;33m         \u001b[0mbatch_res\u001b[0m \u001b[1;33m=\u001b[0m \u001b[0mself\u001b[0m\u001b[1;33m.\u001b[0m\u001b[0m_exec_all_actions\u001b[0m\u001b[1;33m(\u001b[0m\u001b[0mbatch\u001b[0m\u001b[1;33m)\u001b[0m\u001b[1;33m\u001b[0m\u001b[0m\n\u001b[0m\u001b[0;32m    438\u001b[0m         \u001b[0mbatch_res\u001b[0m\u001b[1;33m.\u001b[0m\u001b[0mpipeline\u001b[0m \u001b[1;33m=\u001b[0m \u001b[0mself\u001b[0m\u001b[1;33m\u001b[0m\u001b[0m\n\u001b[0;32m    439\u001b[0m         \u001b[1;32mreturn\u001b[0m \u001b[0mbatch_res\u001b[0m\u001b[1;33m\u001b[0m\u001b[0m\n",
      "\u001b[1;32mC:\\Users\\Dari\\Documents\\az_training\\dataset\\dataset\\pipeline.py\u001b[0m in \u001b[0;36m_exec_all_actions\u001b[1;34m(self, batch, action_list)\u001b[0m\n\u001b[0;32m    419\u001b[0m                     \u001b[0mjoin_batches\u001b[0m \u001b[1;33m=\u001b[0m \u001b[1;32mNone\u001b[0m\u001b[1;33m\u001b[0m\u001b[0m\n\u001b[0;32m    420\u001b[0m \u001b[1;33m\u001b[0m\u001b[0m\n\u001b[1;32m--> 421\u001b[1;33m                 \u001b[0mbatch\u001b[0m \u001b[1;33m=\u001b[0m \u001b[0mself\u001b[0m\u001b[1;33m.\u001b[0m\u001b[0m_exec_one_action\u001b[0m\u001b[1;33m(\u001b[0m\u001b[0mbatch\u001b[0m\u001b[1;33m,\u001b[0m \u001b[0m_action\u001b[0m\u001b[1;33m,\u001b[0m \u001b[0m_action_args\u001b[0m\u001b[1;33m,\u001b[0m \u001b[0m_action\u001b[0m\u001b[1;33m[\u001b[0m\u001b[1;34m'kwargs'\u001b[0m\u001b[1;33m]\u001b[0m\u001b[1;33m)\u001b[0m\u001b[1;33m\u001b[0m\u001b[0m\n\u001b[0m\u001b[0;32m    422\u001b[0m \u001b[1;33m\u001b[0m\u001b[0m\n\u001b[0;32m    423\u001b[0m                 \u001b[1;32mif\u001b[0m \u001b[1;34m'tf_queue'\u001b[0m \u001b[1;32min\u001b[0m \u001b[0m_action\u001b[0m\u001b[1;33m:\u001b[0m\u001b[1;33m\u001b[0m\u001b[0m\n",
      "\u001b[1;32mC:\\Users\\Dari\\Documents\\az_training\\dataset\\dataset\\pipeline.py\u001b[0m in \u001b[0;36m_exec_one_action\u001b[1;34m(self, batch, action, args, kwargs)\u001b[0m\n\u001b[0;32m    374\u001b[0m                 \u001b[0mbatch\u001b[0m\u001b[1;33m.\u001b[0m\u001b[0mpipeline\u001b[0m \u001b[1;33m=\u001b[0m \u001b[0mself\u001b[0m\u001b[1;33m\u001b[0m\u001b[0m\n\u001b[0;32m    375\u001b[0m                 \u001b[0maction_method\u001b[0m\u001b[1;33m,\u001b[0m \u001b[0m_\u001b[0m \u001b[1;33m=\u001b[0m \u001b[0mself\u001b[0m\u001b[1;33m.\u001b[0m\u001b[0m_get_action_method\u001b[0m\u001b[1;33m(\u001b[0m\u001b[0mbatch\u001b[0m\u001b[1;33m,\u001b[0m \u001b[0maction\u001b[0m\u001b[1;33m[\u001b[0m\u001b[1;34m'name'\u001b[0m\u001b[1;33m]\u001b[0m\u001b[1;33m)\u001b[0m\u001b[1;33m\u001b[0m\u001b[0m\n\u001b[1;32m--> 376\u001b[1;33m                 \u001b[0mbatch\u001b[0m \u001b[1;33m=\u001b[0m \u001b[0maction_method\u001b[0m\u001b[1;33m(\u001b[0m\u001b[1;33m*\u001b[0m\u001b[0margs\u001b[0m\u001b[1;33m,\u001b[0m \u001b[1;33m**\u001b[0m\u001b[0mkwargs\u001b[0m\u001b[1;33m)\u001b[0m\u001b[1;33m\u001b[0m\u001b[0m\n\u001b[0m\u001b[0;32m    377\u001b[0m                 \u001b[0mbatch\u001b[0m\u001b[1;33m.\u001b[0m\u001b[0mpipeline\u001b[0m \u001b[1;33m=\u001b[0m \u001b[0mself\u001b[0m\u001b[1;33m\u001b[0m\u001b[0m\n\u001b[0;32m    378\u001b[0m         \u001b[1;32mreturn\u001b[0m \u001b[0mbatch\u001b[0m\u001b[1;33m\u001b[0m\u001b[0m\n",
      "\u001b[1;32mC:\\Users\\Dari\\Documents\\az_training\\dataset\\dataset\\decorators.py\u001b[0m in \u001b[0;36m_action_wrapper\u001b[1;34m(action_self, *args, **kwargs)\u001b[0m\n\u001b[0;32m    292\u001b[0m             \u001b[0m_model_spec\u001b[0m \u001b[1;33m=\u001b[0m \u001b[0m_model_method\u001b[0m\u001b[1;33m(\u001b[0m\u001b[1;33m)\u001b[0m\u001b[1;33m\u001b[0m\u001b[0m\n\u001b[0;32m    293\u001b[0m \u001b[1;33m\u001b[0m\u001b[0m\n\u001b[1;32m--> 294\u001b[1;33m             \u001b[0m_res\u001b[0m \u001b[1;33m=\u001b[0m \u001b[0maction_method\u001b[0m\u001b[1;33m(\u001b[0m\u001b[0maction_self\u001b[0m\u001b[1;33m,\u001b[0m \u001b[0m_model_spec\u001b[0m\u001b[1;33m,\u001b[0m \u001b[1;33m*\u001b[0m\u001b[0margs\u001b[0m\u001b[1;33m,\u001b[0m \u001b[1;33m**\u001b[0m\u001b[0mkwargs\u001b[0m\u001b[1;33m)\u001b[0m\u001b[1;33m\u001b[0m\u001b[0m\n\u001b[0m\u001b[0;32m    295\u001b[0m \u001b[1;33m\u001b[0m\u001b[0m\n\u001b[0;32m    296\u001b[0m         \u001b[1;32mif\u001b[0m \u001b[0m_use_lock\u001b[0m \u001b[1;32mis\u001b[0m \u001b[1;32mnot\u001b[0m \u001b[1;32mNone\u001b[0m\u001b[1;33m:\u001b[0m\u001b[1;33m\u001b[0m\u001b[0m\n",
      "\u001b[1;32m<ipython-input-7-940b69070812>\u001b[0m in \u001b[0;36mtrain_convy\u001b[1;34m(self, model, sess, alpha, period, n_iterations, accs, loss_history)\u001b[0m\n\u001b[0;32m    192\u001b[0m         \u001b[0malpha\u001b[0m \u001b[1;33m=\u001b[0m \u001b[0mtf\u001b[0m\u001b[1;33m.\u001b[0m\u001b[0mcast\u001b[0m\u001b[1;33m(\u001b[0m\u001b[0malpha\u001b[0m\u001b[1;33m,\u001b[0m \u001b[0mtf\u001b[0m\u001b[1;33m.\u001b[0m\u001b[0mfloat32\u001b[0m\u001b[1;33m)\u001b[0m\u001b[1;33m\u001b[0m\u001b[0m\n\u001b[0;32m    193\u001b[0m \u001b[1;33m\u001b[0m\u001b[0m\n\u001b[1;32m--> 194\u001b[1;33m         \u001b[0mglobal_step\u001b[0m \u001b[1;33m=\u001b[0m \u001b[0msess\u001b[0m\u001b[1;33m.\u001b[0m\u001b[0mrun\u001b[0m\u001b[1;33m(\u001b[0m\u001b[0mglobal_step\u001b[0m\u001b[1;33m)\u001b[0m\u001b[1;33m\u001b[0m\u001b[0m\n\u001b[0m\u001b[0;32m    195\u001b[0m \u001b[1;33m\u001b[0m\u001b[0m\n\u001b[0;32m    196\u001b[0m         \u001b[0mperiod\u001b[0m \u001b[1;33m=\u001b[0m \u001b[0mtf\u001b[0m\u001b[1;33m.\u001b[0m\u001b[0mcast\u001b[0m\u001b[1;33m(\u001b[0m\u001b[0mperiod\u001b[0m\u001b[1;33m,\u001b[0m \u001b[0mtf\u001b[0m\u001b[1;33m.\u001b[0m\u001b[0mfloat32\u001b[0m\u001b[1;33m)\u001b[0m\u001b[1;33m\u001b[0m\u001b[0m\n",
      "\u001b[1;32mC:\\Users\\Dari\\Anaconda3\\lib\\site-packages\\tensorflow\\python\\client\\session.py\u001b[0m in \u001b[0;36mrun\u001b[1;34m(self, fetches, feed_dict, options, run_metadata)\u001b[0m\n\u001b[0;32m    787\u001b[0m     \u001b[1;32mtry\u001b[0m\u001b[1;33m:\u001b[0m\u001b[1;33m\u001b[0m\u001b[0m\n\u001b[0;32m    788\u001b[0m       result = self._run(None, fetches, feed_dict, options_ptr,\n\u001b[1;32m--> 789\u001b[1;33m                          run_metadata_ptr)\n\u001b[0m\u001b[0;32m    790\u001b[0m       \u001b[1;32mif\u001b[0m \u001b[0mrun_metadata\u001b[0m\u001b[1;33m:\u001b[0m\u001b[1;33m\u001b[0m\u001b[0m\n\u001b[0;32m    791\u001b[0m         \u001b[0mproto_data\u001b[0m \u001b[1;33m=\u001b[0m \u001b[0mtf_session\u001b[0m\u001b[1;33m.\u001b[0m\u001b[0mTF_GetBuffer\u001b[0m\u001b[1;33m(\u001b[0m\u001b[0mrun_metadata_ptr\u001b[0m\u001b[1;33m)\u001b[0m\u001b[1;33m\u001b[0m\u001b[0m\n",
      "\u001b[1;32mC:\\Users\\Dari\\Anaconda3\\lib\\site-packages\\tensorflow\\python\\client\\session.py\u001b[0m in \u001b[0;36m_run\u001b[1;34m(self, handle, fetches, feed_dict, options, run_metadata)\u001b[0m\n\u001b[0;32m    995\u001b[0m     \u001b[1;32mif\u001b[0m \u001b[0mfinal_fetches\u001b[0m \u001b[1;32mor\u001b[0m \u001b[0mfinal_targets\u001b[0m\u001b[1;33m:\u001b[0m\u001b[1;33m\u001b[0m\u001b[0m\n\u001b[0;32m    996\u001b[0m       results = self._do_run(handle, final_targets, final_fetches,\n\u001b[1;32m--> 997\u001b[1;33m                              feed_dict_string, options, run_metadata)\n\u001b[0m\u001b[0;32m    998\u001b[0m     \u001b[1;32melse\u001b[0m\u001b[1;33m:\u001b[0m\u001b[1;33m\u001b[0m\u001b[0m\n\u001b[0;32m    999\u001b[0m       \u001b[0mresults\u001b[0m \u001b[1;33m=\u001b[0m \u001b[1;33m[\u001b[0m\u001b[1;33m]\u001b[0m\u001b[1;33m\u001b[0m\u001b[0m\n",
      "\u001b[1;32mC:\\Users\\Dari\\Anaconda3\\lib\\site-packages\\tensorflow\\python\\client\\session.py\u001b[0m in \u001b[0;36m_do_run\u001b[1;34m(self, handle, target_list, fetch_list, feed_dict, options, run_metadata)\u001b[0m\n\u001b[0;32m   1130\u001b[0m     \u001b[1;32mif\u001b[0m \u001b[0mhandle\u001b[0m \u001b[1;32mis\u001b[0m \u001b[1;32mNone\u001b[0m\u001b[1;33m:\u001b[0m\u001b[1;33m\u001b[0m\u001b[0m\n\u001b[0;32m   1131\u001b[0m       return self._do_call(_run_fn, self._session, feed_dict, fetch_list,\n\u001b[1;32m-> 1132\u001b[1;33m                            target_list, options, run_metadata)\n\u001b[0m\u001b[0;32m   1133\u001b[0m     \u001b[1;32melse\u001b[0m\u001b[1;33m:\u001b[0m\u001b[1;33m\u001b[0m\u001b[0m\n\u001b[0;32m   1134\u001b[0m       return self._do_call(_prun_fn, self._session, handle, feed_dict,\n",
      "\u001b[1;32mC:\\Users\\Dari\\Anaconda3\\lib\\site-packages\\tensorflow\\python\\client\\session.py\u001b[0m in \u001b[0;36m_do_call\u001b[1;34m(self, fn, *args)\u001b[0m\n\u001b[0;32m   1137\u001b[0m   \u001b[1;32mdef\u001b[0m \u001b[0m_do_call\u001b[0m\u001b[1;33m(\u001b[0m\u001b[0mself\u001b[0m\u001b[1;33m,\u001b[0m \u001b[0mfn\u001b[0m\u001b[1;33m,\u001b[0m \u001b[1;33m*\u001b[0m\u001b[0margs\u001b[0m\u001b[1;33m)\u001b[0m\u001b[1;33m:\u001b[0m\u001b[1;33m\u001b[0m\u001b[0m\n\u001b[0;32m   1138\u001b[0m     \u001b[1;32mtry\u001b[0m\u001b[1;33m:\u001b[0m\u001b[1;33m\u001b[0m\u001b[0m\n\u001b[1;32m-> 1139\u001b[1;33m       \u001b[1;32mreturn\u001b[0m \u001b[0mfn\u001b[0m\u001b[1;33m(\u001b[0m\u001b[1;33m*\u001b[0m\u001b[0margs\u001b[0m\u001b[1;33m)\u001b[0m\u001b[1;33m\u001b[0m\u001b[0m\n\u001b[0m\u001b[0;32m   1140\u001b[0m     \u001b[1;32mexcept\u001b[0m \u001b[0merrors\u001b[0m\u001b[1;33m.\u001b[0m\u001b[0mOpError\u001b[0m \u001b[1;32mas\u001b[0m \u001b[0me\u001b[0m\u001b[1;33m:\u001b[0m\u001b[1;33m\u001b[0m\u001b[0m\n\u001b[0;32m   1141\u001b[0m       \u001b[0mmessage\u001b[0m \u001b[1;33m=\u001b[0m \u001b[0mcompat\u001b[0m\u001b[1;33m.\u001b[0m\u001b[0mas_text\u001b[0m\u001b[1;33m(\u001b[0m\u001b[0me\u001b[0m\u001b[1;33m.\u001b[0m\u001b[0mmessage\u001b[0m\u001b[1;33m)\u001b[0m\u001b[1;33m\u001b[0m\u001b[0m\n",
      "\u001b[1;32mC:\\Users\\Dari\\Anaconda3\\lib\\site-packages\\tensorflow\\python\\client\\session.py\u001b[0m in \u001b[0;36m_run_fn\u001b[1;34m(session, feed_dict, fetch_list, target_list, options, run_metadata)\u001b[0m\n\u001b[0;32m   1115\u001b[0m                 run_metadata):\n\u001b[0;32m   1116\u001b[0m       \u001b[1;31m# Ensure any changes to the graph are reflected in the runtime.\u001b[0m\u001b[1;33m\u001b[0m\u001b[1;33m\u001b[0m\u001b[0m\n\u001b[1;32m-> 1117\u001b[1;33m       \u001b[0mself\u001b[0m\u001b[1;33m.\u001b[0m\u001b[0m_extend_graph\u001b[0m\u001b[1;33m(\u001b[0m\u001b[1;33m)\u001b[0m\u001b[1;33m\u001b[0m\u001b[0m\n\u001b[0m\u001b[0;32m   1118\u001b[0m       \u001b[1;32mwith\u001b[0m \u001b[0merrors\u001b[0m\u001b[1;33m.\u001b[0m\u001b[0mraise_exception_on_not_ok_status\u001b[0m\u001b[1;33m(\u001b[0m\u001b[1;33m)\u001b[0m \u001b[1;32mas\u001b[0m \u001b[0mstatus\u001b[0m\u001b[1;33m:\u001b[0m\u001b[1;33m\u001b[0m\u001b[0m\n\u001b[0;32m   1119\u001b[0m         return tf_session.TF_Run(session, options,\n",
      "\u001b[1;32mC:\\Users\\Dari\\Anaconda3\\lib\\site-packages\\tensorflow\\python\\client\\session.py\u001b[0m in \u001b[0;36m_extend_graph\u001b[1;34m(self)\u001b[0m\n\u001b[0;32m   1164\u001b[0m         \u001b[1;32mwith\u001b[0m \u001b[0merrors\u001b[0m\u001b[1;33m.\u001b[0m\u001b[0mraise_exception_on_not_ok_status\u001b[0m\u001b[1;33m(\u001b[0m\u001b[1;33m)\u001b[0m \u001b[1;32mas\u001b[0m \u001b[0mstatus\u001b[0m\u001b[1;33m:\u001b[0m\u001b[1;33m\u001b[0m\u001b[0m\n\u001b[0;32m   1165\u001b[0m           tf_session.TF_ExtendGraph(\n\u001b[1;32m-> 1166\u001b[1;33m               self._session, graph_def.SerializeToString(), status)\n\u001b[0m\u001b[0;32m   1167\u001b[0m         \u001b[0mself\u001b[0m\u001b[1;33m.\u001b[0m\u001b[0m_opened\u001b[0m \u001b[1;33m=\u001b[0m \u001b[1;32mTrue\u001b[0m\u001b[1;33m\u001b[0m\u001b[0m\n\u001b[0;32m   1168\u001b[0m \u001b[1;33m\u001b[0m\u001b[0m\n",
      "\u001b[1;31mKeyboardInterrupt\u001b[0m: "
     ]
    }
   ],
   "source": [
    "for i in tqdm(range(n_iterations)):\n",
    "    ppl.next_batch(100, n_epochs=None)\n",
    "    # ppl_tebst.next_batch(100, n_epochs=None)"
   ]
  },
  {
   "cell_type": "code",
   "execution_count": 11,
   "metadata": {},
   "outputs": [
    {
     "name": "stderr",
     "output_type": "stream",
     "text": [
      " 50%|███████████████████████████████████████▋                                        | 199/401 [01:22<01:35,  2.11it/s]"
     ]
    },
    {
     "name": "stdout",
     "output_type": "stream",
     "text": [
      "hey\n"
     ]
    },
    {
     "name": "stderr",
     "output_type": "stream",
     "text": [
      "100%|███████████████████████████████████████████████████████████████████████████████▌| 399/401 [03:13<00:01,  1.76it/s]"
     ]
    },
    {
     "name": "stdout",
     "output_type": "stream",
     "text": [
      "hey\n"
     ]
    },
    {
     "name": "stderr",
     "output_type": "stream",
     "text": [
      "100%|████████████████████████████████████████████████████████████████████████████████| 401/401 [03:22<00:00,  2.25s/it]\n"
     ]
    }
   ],
   "source": [
    "for i in tqdm(range(n_iterations)):\n",
    "    ppl.next_batch(100, n_epochs=None)\n",
    "    # ppl_tebst.next_batch(100, n_epochs=None)"
   ]
  },
  {
   "cell_type": "code",
   "execution_count": 15,
   "metadata": {},
   "outputs": [
    {
     "data": {
      "text/plain": [
       "[]"
      ]
     },
     "execution_count": 15,
     "metadata": {},
     "output_type": "execute_result"
    }
   ],
   "source": []
  },
  {
   "cell_type": "code",
   "execution_count": 12,
   "metadata": {},
   "outputs": [
    {
     "data": {
      "image/png": "[encoded data removed]",
      "text/plain": [
       "<matplotlib.figure.Figure at 0x1ab52485f28>"
      ]
     },
     "metadata": {},
     "output_type": "display_data"
    }
   ],
   "source": [
    "draw_stats(train_stats, 'accuracy on normal train')"
   ]
  },
  {
   "cell_type": "code",
   "execution_count": 27,
   "metadata": {},
   "outputs": [
    {
     "data": {
      "text/plain": [
       "0.8999005"
      ]
     },
     "execution_count": 27,
     "metadata": {},
     "output_type": "execute_result"
    }
   ],
   "source": [
    "np.average(train_stats[400:])"
   ]
  },
  {
   "cell_type": "code",
   "execution_count": 13,
   "metadata": {},
   "outputs": [
    {
     "data": {
      "image/png": "[encoded data removed]",
      "text/plain": [
       "<matplotlib.figure.Figure at 0x1ab0ff49da0>"
      ]
     },
     "metadata": {},
     "output_type": "display_data"
    }
   ],
   "source": [
    "draw_stats(train_loss_history, 'loss on normal train')"
   ]
  },
  {
   "cell_type": "code",
   "execution_count": 14,
   "metadata": {},
   "outputs": [
    {
     "data": {
      "image/png": "[encoded data removed]",
      "text/plain": [
       "<matplotlib.figure.Figure at 0x1ab02dff5f8>"
      ]
     },
     "metadata": {},
     "output_type": "display_data"
    },
    {
     "data": {
      "image/png": "[encoded data removed]",
      "text/plain": [
       "<matplotlib.figure.Figure at 0x1ab0c044240>"
      ]
     },
     "metadata": {},
     "output_type": "display_data"
    }
   ],
   "source": [
    "draw_stats(stats,  'acc on the ensemble')\n",
    "draw_stats(loss_history,  'loss on the ensemble')"
   ]
  },
  {
   "cell_type": "code",
   "execution_count": null,
   "metadata": {
    "collapsed": true
   },
   "outputs": [],
   "source": []
  },
  {
   "cell_type": "code",
   "execution_count": null,
   "metadata": {
    "collapsed": true
   },
   "outputs": [],
   "source": []
  },
  {
   "cell_type": "code",
   "execution_count": null,
   "metadata": {
    "collapsed": true
   },
   "outputs": [],
   "source": [
    "st_1 = []\n",
    "l_1 = []\n",
    "ppl_test_train_data = (mnistset.train.pipeline().\n",
    "            load(src=src, fmt='ndarray').\n",
    "            update_stats(sess, period, n_iterations, st_1, l_1))"
   ]
  },
  {
   "cell_type": "code",
   "execution_count": null,
   "metadata": {
    "collapsed": true
   },
   "outputs": [],
   "source": []
  },
  {
   "cell_type": "code",
   "execution_count": null,
   "metadata": {
    "collapsed": true
   },
   "outputs": [],
   "source": []
  },
  {
   "cell_type": "code",
   "execution_count": null,
   "metadata": {
    "collapsed": true
   },
   "outputs": [],
   "source": []
  },
  {
   "cell_type": "code",
   "execution_count": null,
   "metadata": {
    "collapsed": true
   },
   "outputs": [],
   "source": []
  },
  {
   "cell_type": "code",
   "execution_count": null,
   "metadata": {
    "collapsed": true
   },
   "outputs": [],
   "source": []
  },
  {
   "cell_type": "code",
   "execution_count": null,
   "metadata": {
    "collapsed": true
   },
   "outputs": [],
   "source": []
  },
  {
   "cell_type": "code",
   "execution_count": null,
   "metadata": {
    "collapsed": true
   },
   "outputs": [],
   "source": []
  },
  {
   "cell_type": "code",
   "execution_count": null,
   "metadata": {
    "collapsed": true
   },
   "outputs": [],
   "source": []
  },
  {
   "cell_type": "code",
   "execution_count": 19,
   "metadata": {
    "collapsed": true
   },
   "outputs": [],
   "source": [
    "test_batch = mnistset.test.p.load(src=src, fmt='ndarray').run(len(mnistset.test.indices))\n",
    "src = (np.reshape(full_imgs, (65000, 28, 28)), full_labs)"
   ]
  },
  {
   "cell_type": "code",
   "execution_count": 20,
   "metadata": {
    "collapsed": true
   },
   "outputs": [],
   "source": [
    "imgs, lbls = src\n",
    "imgs = imgs[:100, :, :]\n",
    "lbls = lbls[:100, :]"
   ]
  },
  {
   "cell_type": "code",
   "execution_count": 22,
   "metadata": {},
   "outputs": [
    {
     "name": "stdout",
     "output_type": "stream",
     "text": [
      "INFO:tensorflow:Restoring parameters from trained/model-800\n",
      "(100, 10)\n",
      "INFO:tensorflow:Restoring parameters from trained/model-800\n",
      "(100, 10)\n",
      "done\n"
     ]
    }
   ],
   "source": [
    "n_cycles = 2\n",
    "period = 200\n",
    "# for i in tqdm(range(n_iterations)):\n",
    "#     # ppl.next_batch(100, n_epochs=None)\n",
    "#     #ppl_test.next_batch(100, n_epochs=None)\n",
    "\n",
    "results = []\n",
    "for i in range(1, n_cycles + 1):\n",
    "#         with tf.variable_scope(str(n_cycles)):\n",
    "    address = 'trained/model' + '-' + str(i*period) + '.meta'\n",
    "#                 new_saver = tf.train.import_meta_graph(address)\n",
    "#                 new_saver.restore(new_sess, tf.train.latest_checkpoint('trained/'))\n",
    "\n",
    "    #address = 'trained/model-200.meta'\n",
    "    grapphy_2 = tf.Graph()\n",
    "    with grapphy_2.as_default():\n",
    "#                 new_sess = tf.Session(graph=grapphy_2)\n",
    "        new_sess = tf.Session()\n",
    "\n",
    "        new_saver = tf.train.import_meta_graph(address)\n",
    "        new_saver.restore(new_sess, tf.train.latest_checkpoint('trained/'))\n",
    "        training = grapphy_2.get_tensor_by_name('mode:0')\n",
    "        x = grapphy_2.get_tensor_by_name('x:0')\n",
    "        softmax_output = grapphy_2.get_tensor_by_name('softmax_output:0')\n",
    "        # new_sess.run(tf.global_variables_initializer())\n",
    "\n",
    "        res = new_sess.run(softmax_output, feed_dict={x:imgs, training:False})\n",
    "        results.append(res)\n",
    "        print (res.shape)\n",
    "print ('done')"
   ]
  },
  {
   "cell_type": "code",
   "execution_count": 23,
   "metadata": {
    "collapsed": true
   },
   "outputs": [],
   "source": [
    "results = np.array(results)"
   ]
  },
  {
   "cell_type": "code",
   "execution_count": 50,
   "metadata": {},
   "outputs": [
    {
     "data": {
      "text/plain": [
       "(2, 100, 10)"
      ]
     },
     "execution_count": 50,
     "metadata": {},
     "output_type": "execute_result"
    }
   ],
   "source": [
    "results.shape"
   ]
  },
  {
   "cell_type": "code",
   "execution_count": 24,
   "metadata": {},
   "outputs": [
    {
     "data": {
      "text/plain": [
       "array([2, 1, 4, 9, 1, 3, 6, 0, 8, 8, 6, 1, 6, 4, 6, 5, 2, 6, 2, 9, 3, 0, 5,\n",
       "       6, 0, 7, 3, 7, 0, 9, 4, 6, 6, 0, 6, 8, 1, 6, 9, 0, 7, 7, 5, 3, 7, 4,\n",
       "       2, 9, 1, 0, 4, 3, 3, 8, 8, 7, 1, 9, 1, 2, 1, 9, 9, 8, 5, 0, 3, 2, 2,\n",
       "       5, 7, 7, 3, 8, 8, 2, 1, 9, 0, 1, 1, 8, 7, 0, 8, 0, 4, 1, 2, 3, 3, 1,\n",
       "       1, 6, 2, 1, 8, 4, 8, 6], dtype=int64)"
      ]
     },
     "execution_count": 24,
     "metadata": {},
     "output_type": "execute_result"
    }
   ],
   "source": [
    "a = np.average(results, axis=0)\n",
    "b = np.argmax(a, axis=1)\n",
    "b"
   ]
  },
  {
   "cell_type": "code",
   "execution_count": 25,
   "metadata": {},
   "outputs": [
    {
     "data": {
      "text/plain": [
       "array([2, 1, 4, 9, 1, 3, 6, 0, 8, 8, 6, 1, 2, 4, 6, 5, 2, 6, 2, 4, 3, 0, 5,\n",
       "       6, 0, 7, 5, 7, 0, 9, 4, 6, 6, 0, 6, 8, 1, 6, 9, 0, 9, 7, 5, 3, 7, 4,\n",
       "       0, 9, 1, 0, 4, 3, 3, 8, 8, 7, 1, 9, 1, 8, 1, 9, 9, 8, 0, 0, 3, 2, 1,\n",
       "       5, 7, 3, 3, 8, 8, 2, 1, 9, 0, 1, 1, 8, 7, 0, 8, 0, 4, 1, 2, 3, 3, 1,\n",
       "       1, 6, 2, 1, 8, 4, 8, 6], dtype=int64)"
      ]
     },
     "execution_count": 25,
     "metadata": {},
     "output_type": "execute_result"
    }
   ],
   "source": [
    "c = np.argmax(lbls, axis=1)\n",
    "c"
   ]
  },
  {
   "cell_type": "code",
   "execution_count": 26,
   "metadata": {},
   "outputs": [
    {
     "data": {
      "text/plain": [
       "0.91000000000000003"
      ]
     },
     "execution_count": 26,
     "metadata": {},
     "output_type": "execute_result"
    }
   ],
   "source": [
    "from sklearn.metrics import accuracy_score\n",
    "accuracy_score(b, c)"
   ]
  },
  {
   "cell_type": "code",
   "execution_count": null,
   "metadata": {
    "collapsed": true
   },
   "outputs": [],
   "source": []
  },
  {
   "cell_type": "code",
   "execution_count": null,
   "metadata": {
    "collapsed": true
   },
   "outputs": [],
   "source": []
  },
  {
   "cell_type": "code",
   "execution_count": null,
   "metadata": {
    "collapsed": true
   },
   "outputs": [],
   "source": [
    "#### plt.title('Test on on the original data')\n",
    "plt.plot(train_stats)\n",
    "#plt.axvline(x=201, c='r')\n",
    "\n",
    "plt.xlabel('iter')\n",
    "plt.ylabel('aaccuracy')\n",
    "plt.show()"
   ]
  },
  {
   "cell_type": "code",
   "execution_count": 14,
   "metadata": {},
   "outputs": [
    {
     "data": {
      "image/png": "[encoded data removed]",
      "text/plain": [
       "<matplotlib.figure.Figure at 0x1f93626d550>"
      ]
     },
     "metadata": {},
     "output_type": "display_data"
    }
   ],
   "source": [
    "plt.title('Test on on the original data')\n",
    "plt.plot(train_loss_history)\n",
    "plt.xlabel('iter')\n",
    "plt.axvline(x=200, c='r')\n",
    "plt.axvline(x=400, c='r')\n",
    "\n",
    "plt.ylabel('loss')\n",
    "plt.show()"
   ]
  },
  {
   "cell_type": "code",
   "execution_count": 25,
   "metadata": {},
   "outputs": [
    {
     "data": {
      "image/png": "[encoded data removed]",
      "text/plain": [
       "<matplotlib.figure.Figure at 0x20d39edda20>"
      ]
     },
     "metadata": {},
     "output_type": "display_data"
    }
   ],
   "source": [
    "#### plt.title('Test on on the original data')\n",
    "plt.plot(stats)\n",
    "plt.xlabel('iter')\n",
    "plt.ylabel('aaccuracy')\n",
    "plt.axvline(x=301, c='r')\n",
    "plt.axvline(x=601, c='r')\n",
    "\n",
    "plt.show()"
   ]
  },
  {
   "cell_type": "code",
   "execution_count": 24,
   "metadata": {},
   "outputs": [
    {
     "data": {
      "image/png": "[encoded data removed]",
      "text/plain": [
       "<matplotlib.figure.Figure at 0x20d39e8a7b8>"
      ]
     },
     "metadata": {},
     "output_type": "display_data"
    }
   ],
   "source": [
    "plt.title('Test on on the original data')\n",
    "plt.plot(loss_history)\n",
    "plt.xlabel('iter')\n",
    "plt.ylabel('loss')\n",
    "plt.axvline(x=301, c='r')\n",
    "plt.axvline(x=601, c='r')\n",
    "\n",
    "plt.show()"
   ]
  },
  {
   "cell_type": "code",
   "execution_count": 38,
   "metadata": {
    "collapsed": true
   },
   "outputs": [],
   "source": [
    "bch.images"
   ]
  },
  {
   "cell_type": "code",
   "execution_count": 15,
   "metadata": {},
   "outputs": [
    {
     "name": "stdout",
     "output_type": "stream",
     "text": [
      "INFO:tensorflow:Restoring parameters from trained/model-400\n"
     ]
    },
    {
     "ename": "ValueError",
     "evalue": "Cannot feed value of shape () for Tensor 'x:0', which has shape '(?, 28, 28)'",
     "output_type": "error",
     "traceback": [
      "\u001b[1;31m---------------------------------------------------------------------------\u001b[0m",
      "\u001b[1;31mValueError\u001b[0m                                Traceback (most recent call last)",
      "\u001b[1;32m<ipython-input-15-b9c040cee202>\u001b[0m in \u001b[0;36m<module>\u001b[1;34m()\u001b[0m\n\u001b[0;32m     12\u001b[0m     \u001b[1;31m#new_sess.run(tf.global_variables_initializer())\u001b[0m\u001b[1;33m\u001b[0m\u001b[1;33m\u001b[0m\u001b[0m\n\u001b[0;32m     13\u001b[0m \u001b[1;33m\u001b[0m\u001b[0m\n\u001b[1;32m---> 14\u001b[1;33m     \u001b[0mres\u001b[0m \u001b[1;33m=\u001b[0m \u001b[0mnew_sess\u001b[0m\u001b[1;33m.\u001b[0m\u001b[0mrun\u001b[0m\u001b[1;33m(\u001b[0m\u001b[0msoftmax_output\u001b[0m\u001b[1;33m,\u001b[0m \u001b[0mfeed_dict\u001b[0m\u001b[1;33m=\u001b[0m\u001b[1;33m{\u001b[0m\u001b[0mx\u001b[0m\u001b[1;33m:\u001b[0m\u001b[0mbch\u001b[0m\u001b[1;33m.\u001b[0m\u001b[0mimages\u001b[0m\u001b[1;33m}\u001b[0m\u001b[1;33m)\u001b[0m\u001b[1;33m\u001b[0m\u001b[0m\n\u001b[0m\u001b[0;32m     15\u001b[0m     \u001b[0mprint\u001b[0m \u001b[1;33m(\u001b[0m\u001b[0mres\u001b[0m\u001b[1;33m)\u001b[0m\u001b[1;33m\u001b[0m\u001b[0m\n",
      "\u001b[1;32mC:\\Users\\Dari\\Anaconda3\\lib\\site-packages\\tensorflow\\python\\client\\session.py\u001b[0m in \u001b[0;36mrun\u001b[1;34m(self, fetches, feed_dict, options, run_metadata)\u001b[0m\n\u001b[0;32m    787\u001b[0m     \u001b[1;32mtry\u001b[0m\u001b[1;33m:\u001b[0m\u001b[1;33m\u001b[0m\u001b[0m\n\u001b[0;32m    788\u001b[0m       result = self._run(None, fetches, feed_dict, options_ptr,\n\u001b[1;32m--> 789\u001b[1;33m                          run_metadata_ptr)\n\u001b[0m\u001b[0;32m    790\u001b[0m       \u001b[1;32mif\u001b[0m \u001b[0mrun_metadata\u001b[0m\u001b[1;33m:\u001b[0m\u001b[1;33m\u001b[0m\u001b[0m\n\u001b[0;32m    791\u001b[0m         \u001b[0mproto_data\u001b[0m \u001b[1;33m=\u001b[0m \u001b[0mtf_session\u001b[0m\u001b[1;33m.\u001b[0m\u001b[0mTF_GetBuffer\u001b[0m\u001b[1;33m(\u001b[0m\u001b[0mrun_metadata_ptr\u001b[0m\u001b[1;33m)\u001b[0m\u001b[1;33m\u001b[0m\u001b[0m\n",
      "\u001b[1;32mC:\\Users\\Dari\\Anaconda3\\lib\\site-packages\\tensorflow\\python\\client\\session.py\u001b[0m in \u001b[0;36m_run\u001b[1;34m(self, handle, fetches, feed_dict, options, run_metadata)\u001b[0m\n\u001b[0;32m    973\u001b[0m                 \u001b[1;34m'Cannot feed value of shape %r for Tensor %r, '\u001b[0m\u001b[1;33m\u001b[0m\u001b[0m\n\u001b[0;32m    974\u001b[0m                 \u001b[1;34m'which has shape %r'\u001b[0m\u001b[1;33m\u001b[0m\u001b[0m\n\u001b[1;32m--> 975\u001b[1;33m                 % (np_val.shape, subfeed_t.name, str(subfeed_t.get_shape())))\n\u001b[0m\u001b[0;32m    976\u001b[0m           \u001b[1;32mif\u001b[0m \u001b[1;32mnot\u001b[0m \u001b[0mself\u001b[0m\u001b[1;33m.\u001b[0m\u001b[0mgraph\u001b[0m\u001b[1;33m.\u001b[0m\u001b[0mis_feedable\u001b[0m\u001b[1;33m(\u001b[0m\u001b[0msubfeed_t\u001b[0m\u001b[1;33m)\u001b[0m\u001b[1;33m:\u001b[0m\u001b[1;33m\u001b[0m\u001b[0m\n\u001b[0;32m    977\u001b[0m             \u001b[1;32mraise\u001b[0m \u001b[0mValueError\u001b[0m\u001b[1;33m(\u001b[0m\u001b[1;34m'Tensor %s may not be fed.'\u001b[0m \u001b[1;33m%\u001b[0m \u001b[0msubfeed_t\u001b[0m\u001b[1;33m)\u001b[0m\u001b[1;33m\u001b[0m\u001b[0m\n",
      "\u001b[1;31mValueError\u001b[0m: Cannot feed value of shape () for Tensor 'x:0', which has shape '(?, 28, 28)'"
     ]
    }
   ],
   "source": [
    "new_sess = tf.Session()\n",
    "address = 'trained/model-200.meta'\n",
    "grapphy_2 = tf.Graph()\n",
    "with grapphy_2.as_default():\n",
    "    new_sess = tf.Session()\n",
    "\n",
    "    new_saver = tf.train.import_meta_graph(address)\n",
    "    new_saver.restore(new_sess, tf.train.latest_checkpoint('trained/'))\n",
    "    \n",
    "    x = grapphy_2.get_tensor_by_name('x:0')\n",
    "    softmax_output = grapphy_2.get_tensor_by_name('softmax_output:0')\n",
    "    new_sess.run(tf.local_variables_initializer())\n",
    "\n",
    "    res = new_sess.run(softmax_output, feed_dict={x:bch.images})\n",
    "    print (res)"
   ]
  },
  {
   "cell_type": "code",
   "execution_count": 18,
   "metadata": {},
   "outputs": [
    {
     "name": "stdout",
     "output_type": "stream",
     "text": [
      "trained/model-200.meta\n"
     ]
    },
    {
     "ename": "error",
     "evalue": "invalid group reference 12 at position 1",
     "output_type": "error",
     "traceback": [
      "\u001b[1;31m---------------------------------------------------------------------------\u001b[0m",
      "\u001b[1;31merror\u001b[0m                                     Traceback (most recent call last)",
      "\u001b[1;32m<ipython-input-18-58b24f2b6913>\u001b[0m in \u001b[0;36m<module>\u001b[1;34m()\u001b[0m\n\u001b[0;32m      9\u001b[0m         \u001b[0maddress\u001b[0m \u001b[1;33m=\u001b[0m \u001b[1;34m'trained/model'\u001b[0m \u001b[1;33m+\u001b[0m \u001b[1;34m'-'\u001b[0m \u001b[1;33m+\u001b[0m \u001b[0mstr\u001b[0m\u001b[1;33m(\u001b[0m\u001b[0mn_cycles\u001b[0m\u001b[1;33m)\u001b[0m \u001b[1;33m+\u001b[0m \u001b[1;34m'00.meta'\u001b[0m\u001b[1;33m\u001b[0m\u001b[0m\n\u001b[0;32m     10\u001b[0m         \u001b[0mprint\u001b[0m \u001b[1;33m(\u001b[0m\u001b[0maddress\u001b[0m\u001b[1;33m)\u001b[0m\u001b[1;33m\u001b[0m\u001b[0m\n\u001b[1;32m---> 11\u001b[1;33m         \u001b[0mnew_saver\u001b[0m \u001b[1;33m=\u001b[0m \u001b[0mtf\u001b[0m\u001b[1;33m.\u001b[0m\u001b[0mtrain\u001b[0m\u001b[1;33m.\u001b[0m\u001b[0mimport_meta_graph\u001b[0m\u001b[1;33m(\u001b[0m\u001b[0maddress\u001b[0m\u001b[1;33m)\u001b[0m\u001b[1;33m\u001b[0m\u001b[0m\n\u001b[0m\u001b[0;32m     12\u001b[0m         \u001b[0mnew_saver\u001b[0m\u001b[1;33m.\u001b[0m\u001b[0mrestore\u001b[0m\u001b[1;33m(\u001b[0m\u001b[0mnew_sess\u001b[0m\u001b[1;33m,\u001b[0m \u001b[0mtf\u001b[0m\u001b[1;33m.\u001b[0m\u001b[0mtrain\u001b[0m\u001b[1;33m.\u001b[0m\u001b[0mlatest_checkpoint\u001b[0m\u001b[1;33m(\u001b[0m\u001b[1;34m'trained/'\u001b[0m\u001b[1;33m)\u001b[0m\u001b[1;33m)\u001b[0m\u001b[1;33m\u001b[0m\u001b[0m\n\u001b[0;32m     13\u001b[0m \u001b[1;33m\u001b[0m\u001b[0m\n",
      "\u001b[1;32mC:\\Users\\Dari\\Anaconda3\\lib\\site-packages\\tensorflow\\python\\training\\saver.py\u001b[0m in \u001b[0;36mimport_meta_graph\u001b[1;34m(meta_graph_or_file, clear_devices, import_scope, **kwargs)\u001b[0m\n\u001b[0;32m   1684\u001b[0m                                       \u001b[0mclear_devices\u001b[0m\u001b[1;33m=\u001b[0m\u001b[0mclear_devices\u001b[0m\u001b[1;33m,\u001b[0m\u001b[1;33m\u001b[0m\u001b[0m\n\u001b[0;32m   1685\u001b[0m                                       \u001b[0mimport_scope\u001b[0m\u001b[1;33m=\u001b[0m\u001b[0mimport_scope\u001b[0m\u001b[1;33m,\u001b[0m\u001b[1;33m\u001b[0m\u001b[0m\n\u001b[1;32m-> 1686\u001b[1;33m                                       **kwargs)\n\u001b[0m\u001b[0;32m   1687\u001b[0m   \u001b[1;32mif\u001b[0m \u001b[0mmeta_graph_def\u001b[0m\u001b[1;33m.\u001b[0m\u001b[0mHasField\u001b[0m\u001b[1;33m(\u001b[0m\u001b[1;34m\"saver_def\"\u001b[0m\u001b[1;33m)\u001b[0m\u001b[1;33m:\u001b[0m\u001b[1;33m\u001b[0m\u001b[0m\n\u001b[0;32m   1688\u001b[0m     \u001b[1;32mreturn\u001b[0m \u001b[0mSaver\u001b[0m\u001b[1;33m(\u001b[0m\u001b[0msaver_def\u001b[0m\u001b[1;33m=\u001b[0m\u001b[0mmeta_graph_def\u001b[0m\u001b[1;33m.\u001b[0m\u001b[0msaver_def\u001b[0m\u001b[1;33m,\u001b[0m \u001b[0mname\u001b[0m\u001b[1;33m=\u001b[0m\u001b[0mimport_scope\u001b[0m\u001b[1;33m)\u001b[0m\u001b[1;33m\u001b[0m\u001b[0m\n",
      "\u001b[1;32mC:\\Users\\Dari\\Anaconda3\\lib\\site-packages\\tensorflow\\python\\framework\\meta_graph.py\u001b[0m in \u001b[0;36mimport_scoped_meta_graph\u001b[1;34m(meta_graph_or_file, clear_devices, graph, import_scope, input_map, unbound_inputs_col_name, restore_collections_predicate)\u001b[0m\n\u001b[0;32m    528\u001b[0m           \u001b[0mproto\u001b[0m\u001b[1;33m.\u001b[0m\u001b[0mParseFromString\u001b[0m\u001b[1;33m(\u001b[0m\u001b[0mvalue\u001b[0m\u001b[1;33m)\u001b[0m\u001b[1;33m\u001b[0m\u001b[0m\n\u001b[0;32m    529\u001b[0m           graph.add_to_collection(\n\u001b[1;32m--> 530\u001b[1;33m               key, from_proto(proto, import_scope=scope_to_prepend_to_names))\n\u001b[0m\u001b[0;32m    531\u001b[0m       \u001b[1;32melse\u001b[0m\u001b[1;33m:\u001b[0m\u001b[1;33m\u001b[0m\u001b[0m\n\u001b[0;32m    532\u001b[0m         \u001b[0mfield\u001b[0m \u001b[1;33m=\u001b[0m \u001b[0mgetattr\u001b[0m\u001b[1;33m(\u001b[0m\u001b[0mcol_def\u001b[0m\u001b[1;33m,\u001b[0m \u001b[0mkind\u001b[0m\u001b[1;33m)\u001b[0m\u001b[1;33m\u001b[0m\u001b[0m\n",
      "\u001b[1;32mC:\\Users\\Dari\\Anaconda3\\lib\\site-packages\\tensorflow\\python\\ops\\resource_variable_ops.py\u001b[0m in \u001b[0;36m_from_proto_fn\u001b[1;34m(v, import_scope)\u001b[0m\n\u001b[0;32m    516\u001b[0m   \u001b[1;32mif\u001b[0m \u001b[0mv\u001b[0m\u001b[1;33m.\u001b[0m\u001b[0mis_resource\u001b[0m\u001b[1;33m:\u001b[0m\u001b[1;33m\u001b[0m\u001b[0m\n\u001b[0;32m    517\u001b[0m     \u001b[1;32mreturn\u001b[0m \u001b[0mResourceVariable\u001b[0m\u001b[1;33m.\u001b[0m\u001b[0mfrom_proto\u001b[0m\u001b[1;33m(\u001b[0m\u001b[0mv\u001b[0m\u001b[1;33m,\u001b[0m \u001b[0mimport_scope\u001b[0m\u001b[1;33m=\u001b[0m\u001b[0mimport_scope\u001b[0m\u001b[1;33m)\u001b[0m\u001b[1;33m\u001b[0m\u001b[0m\n\u001b[1;32m--> 518\u001b[1;33m   \u001b[1;32mreturn\u001b[0m \u001b[0mvariables\u001b[0m\u001b[1;33m.\u001b[0m\u001b[0mVariable\u001b[0m\u001b[1;33m.\u001b[0m\u001b[0mfrom_proto\u001b[0m\u001b[1;33m(\u001b[0m\u001b[0mv\u001b[0m\u001b[1;33m,\u001b[0m \u001b[0mimport_scope\u001b[0m\u001b[1;33m=\u001b[0m\u001b[0mimport_scope\u001b[0m\u001b[1;33m)\u001b[0m\u001b[1;33m\u001b[0m\u001b[0m\n\u001b[0m\u001b[0;32m    519\u001b[0m \u001b[1;33m\u001b[0m\u001b[0m\n\u001b[0;32m    520\u001b[0m \u001b[1;33m\u001b[0m\u001b[0m\n",
      "\u001b[1;32mC:\\Users\\Dari\\Anaconda3\\lib\\site-packages\\tensorflow\\python\\ops\\variables.py\u001b[0m in \u001b[0;36mfrom_proto\u001b[1;34m(variable_def, import_scope)\u001b[0m\n\u001b[0;32m    783\u001b[0m     \u001b[1;34m\"\"\"Returns a `Variable` object created from `variable_def`.\"\"\"\u001b[0m\u001b[1;33m\u001b[0m\u001b[0m\n\u001b[0;32m    784\u001b[0m     return Variable(variable_def=variable_def,\n\u001b[1;32m--> 785\u001b[1;33m                     import_scope=import_scope)\n\u001b[0m\u001b[0;32m    786\u001b[0m \u001b[1;33m\u001b[0m\u001b[0m\n\u001b[0;32m    787\u001b[0m   \u001b[1;32mclass\u001b[0m \u001b[0mSaveSliceInfo\u001b[0m\u001b[1;33m(\u001b[0m\u001b[0mobject\u001b[0m\u001b[1;33m)\u001b[0m\u001b[1;33m:\u001b[0m\u001b[1;33m\u001b[0m\u001b[0m\n",
      "\u001b[1;32mC:\\Users\\Dari\\Anaconda3\\lib\\site-packages\\tensorflow\\python\\ops\\variables.py\u001b[0m in \u001b[0;36m__init__\u001b[1;34m(self, initial_value, trainable, collections, validate_shape, caching_device, name, variable_def, dtype, expected_shape, import_scope)\u001b[0m\n\u001b[0;32m    187\u001b[0m         raise ValueError(\"variable_def and initial_value are mutually \"\n\u001b[0;32m    188\u001b[0m                          \"exclusive.\")\n\u001b[1;32m--> 189\u001b[1;33m       \u001b[0mself\u001b[0m\u001b[1;33m.\u001b[0m\u001b[0m_init_from_proto\u001b[0m\u001b[1;33m(\u001b[0m\u001b[0mvariable_def\u001b[0m\u001b[1;33m,\u001b[0m \u001b[0mimport_scope\u001b[0m\u001b[1;33m=\u001b[0m\u001b[0mimport_scope\u001b[0m\u001b[1;33m)\u001b[0m\u001b[1;33m\u001b[0m\u001b[0m\n\u001b[0m\u001b[0;32m    190\u001b[0m     \u001b[1;32melse\u001b[0m\u001b[1;33m:\u001b[0m\u001b[1;33m\u001b[0m\u001b[0m\n\u001b[0;32m    191\u001b[0m       \u001b[1;31m# Create from initial_value.\u001b[0m\u001b[1;33m\u001b[0m\u001b[1;33m\u001b[0m\u001b[0m\n",
      "\u001b[1;32mC:\\Users\\Dari\\Anaconda3\\lib\\site-packages\\tensorflow\\python\\ops\\variables.py\u001b[0m in \u001b[0;36m_init_from_proto\u001b[1;34m(self, variable_def, import_scope)\u001b[0m\n\u001b[0;32m    336\u001b[0m     self._variable = g.as_graph_element(\n\u001b[0;32m    337\u001b[0m         ops.prepend_name_scope(variable_def.variable_name,\n\u001b[1;32m--> 338\u001b[1;33m                                import_scope=import_scope))\n\u001b[0m\u001b[0;32m    339\u001b[0m     self._initializer_op = g.as_graph_element(\n\u001b[0;32m    340\u001b[0m         ops.prepend_name_scope(variable_def.initializer_name,\n",
      "\u001b[1;32mC:\\Users\\Dari\\Anaconda3\\lib\\site-packages\\tensorflow\\python\\framework\\ops.py\u001b[0m in \u001b[0;36mprepend_name_scope\u001b[1;34m(name, import_scope)\u001b[0m\n\u001b[0;32m   4402\u001b[0m       \u001b[0mstr_to_replace\u001b[0m \u001b[1;33m=\u001b[0m \u001b[1;34mr\"([\\^]|loc:@|^)(.*)\"\u001b[0m\u001b[1;33m\u001b[0m\u001b[0m\n\u001b[0;32m   4403\u001b[0m       return re.sub(str_to_replace, r\"\\1\" + import_scope + r\"/\\2\",\n\u001b[1;32m-> 4404\u001b[1;33m                     compat.as_str(name))\n\u001b[0m\u001b[0;32m   4405\u001b[0m     \u001b[1;32mexcept\u001b[0m \u001b[0mTypeError\u001b[0m \u001b[1;32mas\u001b[0m \u001b[0me\u001b[0m\u001b[1;33m:\u001b[0m\u001b[1;33m\u001b[0m\u001b[0m\n\u001b[0;32m   4406\u001b[0m       \u001b[1;31m# If the name is not of a type we can process, simply return it.\u001b[0m\u001b[1;33m\u001b[0m\u001b[1;33m\u001b[0m\u001b[0m\n",
      "\u001b[1;32mC:\\Users\\Dari\\Anaconda3\\lib\\re.py\u001b[0m in \u001b[0;36msub\u001b[1;34m(pattern, repl, string, count, flags)\u001b[0m\n\u001b[0;32m    189\u001b[0m     \u001b[0ma\u001b[0m \u001b[0mcallable\u001b[0m\u001b[1;33m,\u001b[0m \u001b[0mit\u001b[0m\u001b[0;31m'\u001b[0m\u001b[0ms\u001b[0m \u001b[0mpassed\u001b[0m \u001b[0mthe\u001b[0m \u001b[0mmatch\u001b[0m \u001b[0mobject\u001b[0m \u001b[1;32mand\u001b[0m \u001b[0mmust\u001b[0m \u001b[1;32mreturn\u001b[0m\u001b[1;33m\u001b[0m\u001b[0m\n\u001b[0;32m    190\u001b[0m     a replacement string to be used.\"\"\"\n\u001b[1;32m--> 191\u001b[1;33m     \u001b[1;32mreturn\u001b[0m \u001b[0m_compile\u001b[0m\u001b[1;33m(\u001b[0m\u001b[0mpattern\u001b[0m\u001b[1;33m,\u001b[0m \u001b[0mflags\u001b[0m\u001b[1;33m)\u001b[0m\u001b[1;33m.\u001b[0m\u001b[0msub\u001b[0m\u001b[1;33m(\u001b[0m\u001b[0mrepl\u001b[0m\u001b[1;33m,\u001b[0m \u001b[0mstring\u001b[0m\u001b[1;33m,\u001b[0m \u001b[0mcount\u001b[0m\u001b[1;33m)\u001b[0m\u001b[1;33m\u001b[0m\u001b[0m\n\u001b[0m\u001b[0;32m    192\u001b[0m \u001b[1;33m\u001b[0m\u001b[0m\n\u001b[0;32m    193\u001b[0m \u001b[1;32mdef\u001b[0m \u001b[0msubn\u001b[0m\u001b[1;33m(\u001b[0m\u001b[0mpattern\u001b[0m\u001b[1;33m,\u001b[0m \u001b[0mrepl\u001b[0m\u001b[1;33m,\u001b[0m \u001b[0mstring\u001b[0m\u001b[1;33m,\u001b[0m \u001b[0mcount\u001b[0m\u001b[1;33m=\u001b[0m\u001b[1;36m0\u001b[0m\u001b[1;33m,\u001b[0m \u001b[0mflags\u001b[0m\u001b[1;33m=\u001b[0m\u001b[1;36m0\u001b[0m\u001b[1;33m)\u001b[0m\u001b[1;33m:\u001b[0m\u001b[1;33m\u001b[0m\u001b[0m\n",
      "\u001b[1;32mC:\\Users\\Dari\\Anaconda3\\lib\\re.py\u001b[0m in \u001b[0;36m_subx\u001b[1;34m(pattern, template)\u001b[0m\n\u001b[0;32m    324\u001b[0m \u001b[1;32mdef\u001b[0m \u001b[0m_subx\u001b[0m\u001b[1;33m(\u001b[0m\u001b[0mpattern\u001b[0m\u001b[1;33m,\u001b[0m \u001b[0mtemplate\u001b[0m\u001b[1;33m)\u001b[0m\u001b[1;33m:\u001b[0m\u001b[1;33m\u001b[0m\u001b[0m\n\u001b[0;32m    325\u001b[0m     \u001b[1;31m# internal: pattern.sub/subn implementation helper\u001b[0m\u001b[1;33m\u001b[0m\u001b[1;33m\u001b[0m\u001b[0m\n\u001b[1;32m--> 326\u001b[1;33m     \u001b[0mtemplate\u001b[0m \u001b[1;33m=\u001b[0m \u001b[0m_compile_repl\u001b[0m\u001b[1;33m(\u001b[0m\u001b[0mtemplate\u001b[0m\u001b[1;33m,\u001b[0m \u001b[0mpattern\u001b[0m\u001b[1;33m)\u001b[0m\u001b[1;33m\u001b[0m\u001b[0m\n\u001b[0m\u001b[0;32m    327\u001b[0m     \u001b[1;32mif\u001b[0m \u001b[1;32mnot\u001b[0m \u001b[0mtemplate\u001b[0m\u001b[1;33m[\u001b[0m\u001b[1;36m0\u001b[0m\u001b[1;33m]\u001b[0m \u001b[1;32mand\u001b[0m \u001b[0mlen\u001b[0m\u001b[1;33m(\u001b[0m\u001b[0mtemplate\u001b[0m\u001b[1;33m[\u001b[0m\u001b[1;36m1\u001b[0m\u001b[1;33m]\u001b[0m\u001b[1;33m)\u001b[0m \u001b[1;33m==\u001b[0m \u001b[1;36m1\u001b[0m\u001b[1;33m:\u001b[0m\u001b[1;33m\u001b[0m\u001b[0m\n\u001b[0;32m    328\u001b[0m         \u001b[1;31m# literal replacement\u001b[0m\u001b[1;33m\u001b[0m\u001b[1;33m\u001b[0m\u001b[0m\n",
      "\u001b[1;32mC:\\Users\\Dari\\Anaconda3\\lib\\re.py\u001b[0m in \u001b[0;36m_compile_repl\u001b[1;34m(repl, pattern)\u001b[0m\n\u001b[0;32m    315\u001b[0m \u001b[1;32mdef\u001b[0m \u001b[0m_compile_repl\u001b[0m\u001b[1;33m(\u001b[0m\u001b[0mrepl\u001b[0m\u001b[1;33m,\u001b[0m \u001b[0mpattern\u001b[0m\u001b[1;33m)\u001b[0m\u001b[1;33m:\u001b[0m\u001b[1;33m\u001b[0m\u001b[0m\n\u001b[0;32m    316\u001b[0m     \u001b[1;31m# internal: compile replacement pattern\u001b[0m\u001b[1;33m\u001b[0m\u001b[1;33m\u001b[0m\u001b[0m\n\u001b[1;32m--> 317\u001b[1;33m     \u001b[1;32mreturn\u001b[0m \u001b[0msre_parse\u001b[0m\u001b[1;33m.\u001b[0m\u001b[0mparse_template\u001b[0m\u001b[1;33m(\u001b[0m\u001b[0mrepl\u001b[0m\u001b[1;33m,\u001b[0m \u001b[0mpattern\u001b[0m\u001b[1;33m)\u001b[0m\u001b[1;33m\u001b[0m\u001b[0m\n\u001b[0m\u001b[0;32m    318\u001b[0m \u001b[1;33m\u001b[0m\u001b[0m\n\u001b[0;32m    319\u001b[0m \u001b[1;32mdef\u001b[0m \u001b[0m_expand\u001b[0m\u001b[1;33m(\u001b[0m\u001b[0mpattern\u001b[0m\u001b[1;33m,\u001b[0m \u001b[0mmatch\u001b[0m\u001b[1;33m,\u001b[0m \u001b[0mtemplate\u001b[0m\u001b[1;33m)\u001b[0m\u001b[1;33m:\u001b[0m\u001b[1;33m\u001b[0m\u001b[0m\n",
      "\u001b[1;32mC:\\Users\\Dari\\Anaconda3\\lib\\sre_parse.py\u001b[0m in \u001b[0;36mparse_template\u001b[1;34m(source, pattern)\u001b[0m\n\u001b[0;32m    942\u001b[0m                         \u001b[0mlappend\u001b[0m\u001b[1;33m(\u001b[0m\u001b[0mchr\u001b[0m\u001b[1;33m(\u001b[0m\u001b[0mc\u001b[0m\u001b[1;33m)\u001b[0m\u001b[1;33m)\u001b[0m\u001b[1;33m\u001b[0m\u001b[0m\n\u001b[0;32m    943\u001b[0m                 \u001b[1;32mif\u001b[0m \u001b[1;32mnot\u001b[0m \u001b[0misoctal\u001b[0m\u001b[1;33m:\u001b[0m\u001b[1;33m\u001b[0m\u001b[0m\n\u001b[1;32m--> 944\u001b[1;33m                     \u001b[0maddgroup\u001b[0m\u001b[1;33m(\u001b[0m\u001b[0mint\u001b[0m\u001b[1;33m(\u001b[0m\u001b[0mthis\u001b[0m\u001b[1;33m[\u001b[0m\u001b[1;36m1\u001b[0m\u001b[1;33m:\u001b[0m\u001b[1;33m]\u001b[0m\u001b[1;33m)\u001b[0m\u001b[1;33m,\u001b[0m \u001b[0mlen\u001b[0m\u001b[1;33m(\u001b[0m\u001b[0mthis\u001b[0m\u001b[1;33m)\u001b[0m \u001b[1;33m-\u001b[0m \u001b[1;36m1\u001b[0m\u001b[1;33m)\u001b[0m\u001b[1;33m\u001b[0m\u001b[0m\n\u001b[0m\u001b[0;32m    945\u001b[0m             \u001b[1;32melse\u001b[0m\u001b[1;33m:\u001b[0m\u001b[1;33m\u001b[0m\u001b[0m\n\u001b[0;32m    946\u001b[0m                 \u001b[1;32mtry\u001b[0m\u001b[1;33m:\u001b[0m\u001b[1;33m\u001b[0m\u001b[0m\n",
      "\u001b[1;32mC:\\Users\\Dari\\Anaconda3\\lib\\sre_parse.py\u001b[0m in \u001b[0;36maddgroup\u001b[1;34m(index, pos)\u001b[0m\n\u001b[0;32m    886\u001b[0m     \u001b[1;32mdef\u001b[0m \u001b[0maddgroup\u001b[0m\u001b[1;33m(\u001b[0m\u001b[0mindex\u001b[0m\u001b[1;33m,\u001b[0m \u001b[0mpos\u001b[0m\u001b[1;33m)\u001b[0m\u001b[1;33m:\u001b[0m\u001b[1;33m\u001b[0m\u001b[0m\n\u001b[0;32m    887\u001b[0m         \u001b[1;32mif\u001b[0m \u001b[0mindex\u001b[0m \u001b[1;33m>\u001b[0m \u001b[0mpattern\u001b[0m\u001b[1;33m.\u001b[0m\u001b[0mgroups\u001b[0m\u001b[1;33m:\u001b[0m\u001b[1;33m\u001b[0m\u001b[0m\n\u001b[1;32m--> 888\u001b[1;33m             \u001b[1;32mraise\u001b[0m \u001b[0ms\u001b[0m\u001b[1;33m.\u001b[0m\u001b[0merror\u001b[0m\u001b[1;33m(\u001b[0m\u001b[1;34m\"invalid group reference %d\"\u001b[0m \u001b[1;33m%\u001b[0m \u001b[0mindex\u001b[0m\u001b[1;33m,\u001b[0m \u001b[0mpos\u001b[0m\u001b[1;33m)\u001b[0m\u001b[1;33m\u001b[0m\u001b[0m\n\u001b[0m\u001b[0;32m    889\u001b[0m         \u001b[1;32mif\u001b[0m \u001b[0mliteral\u001b[0m\u001b[1;33m:\u001b[0m\u001b[1;33m\u001b[0m\u001b[0m\n\u001b[0;32m    890\u001b[0m             \u001b[0mliterals\u001b[0m\u001b[1;33m.\u001b[0m\u001b[0mappend\u001b[0m\u001b[1;33m(\u001b[0m\u001b[1;34m''\u001b[0m\u001b[1;33m.\u001b[0m\u001b[0mjoin\u001b[0m\u001b[1;33m(\u001b[0m\u001b[0mliteral\u001b[0m\u001b[1;33m)\u001b[0m\u001b[1;33m)\u001b[0m\u001b[1;33m\u001b[0m\u001b[0m\n",
      "\u001b[1;31merror\u001b[0m: invalid group reference 12 at position 1"
     ]
    }
   ],
   "source": [
    "new_sess = tf.Session()\n",
    "\n",
    "# new_saver = tf.train.import_meta_graph('trained/model-200.meta')\n",
    "# new_saver.restore(new_sess, tf.train.latest_checkpoint('trained/'))\n",
    "n_cycles = 2\n",
    "\n",
    "for i in range(1, n_cycles):\n",
    "    with tf.variable_scope(str(n_cycles)):\n",
    "        address = 'trained/model' + '-' + str(i) + '00.meta'\n",
    "        print (address)\n",
    "        new_saver = tf.train.import_meta_graph(address, import_scope=)\n",
    "        new_saver.restore(new_sess, tf.train.latest_checkpoint('trained/'))\n",
    "        "
   ]
  },
  {
   "cell_type": "code",
   "execution_count": 14,
   "metadata": {},
   "outputs": [
    {
     "data": {
      "text/plain": [
       "[1, 2, 3, 4, 5, 6, 7, 8, 9]"
      ]
     },
     "execution_count": 14,
     "metadata": {},
     "output_type": "execute_result"
    }
   ],
   "source": [
    "list(range(1, 10))"
   ]
  }
 ],
 "metadata": {
  "kernelspec": {
   "display_name": "Python 3",
   "language": "python",
   "name": "python3"
  },
  "language_info": {
   "codemirror_mode": {
    "name": "ipython",
    "version": 3
   },
   "file_extension": ".py",
   "mimetype": "text/x-python",
   "name": "python",
   "nbconvert_exporter": "python",
   "pygments_lexer": "ipython3",
   "version": "3.6.1"
  }
 },
 "nbformat": 4,
 "nbformat_minor": 2
}
