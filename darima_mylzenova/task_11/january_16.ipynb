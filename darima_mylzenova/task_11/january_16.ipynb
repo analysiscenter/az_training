{
 "cells": [
  {
   "cell_type": "markdown",
   "metadata": {},
   "source": [
    "# Detection Experiments"
   ]
  },
  {
   "cell_type": "markdown",
   "metadata": {},
   "source": [
    "In this notebook we'll walk through several different CNN architectures to solve a problem of detecting a MNIST digit on an image with several MNIST diigits in random places. "
   ]
  },
  {
   "cell_type": "code",
   "execution_count": 1,
   "metadata": {},
   "outputs": [
    {
     "name": "stdout",
     "output_type": "stream",
     "text": [
      "env: CUDA_VISIBLE_DEVICES=1\n"
     ]
    }
   ],
   "source": [
    "%env CUDA_VISIBLE_DEVICES=1"
   ]
  },
  {
   "cell_type": "code",
   "execution_count": 2,
   "metadata": {},
   "outputs": [
    {
     "name": "stdout",
     "output_type": "stream",
     "text": [
      "Tue Jan 16 12:19:01 2018       \r\n",
      "+-----------------------------------------------------------------------------+\r\n",
      "| NVIDIA-SMI 375.26                 Driver Version: 375.26                    |\r\n",
      "|-------------------------------+----------------------+----------------------+\r\n",
      "| GPU  Name        Persistence-M| Bus-Id        Disp.A | Volatile Uncorr. ECC |\r\n",
      "| Fan  Temp  Perf  Pwr:Usage/Cap|         Memory-Usage | GPU-Util  Compute M. |\r\n",
      "|===============================+======================+======================|\r\n",
      "|   0  GeForce GTX 1080    Off  | 0000:02:00.0     Off |                  N/A |\r\n",
      "| 18%   48C    P8    15W / 200W |      0MiB /  8113MiB |      0%      Default |\r\n",
      "+-------------------------------+----------------------+----------------------+\r\n",
      "|   1  GeForce GTX 1080    Off  | 0000:03:00.0     Off |                  N/A |\r\n",
      "| 24%   49C    P8    15W / 200W |      0MiB /  8112MiB |      0%      Default |\r\n",
      "+-------------------------------+----------------------+----------------------+\r\n",
      "                                                                               \r\n",
      "+-----------------------------------------------------------------------------+\r\n",
      "| Processes:                                                       GPU Memory |\r\n",
      "|  GPU       PID  Type  Process name                               Usage      |\r\n",
      "|=============================================================================|\r\n",
      "|  No running processes found                                                 |\r\n",
      "+-----------------------------------------------------------------------------+\r\n"
     ]
    }
   ],
   "source": [
    "!nvidia-smi"
   ]
  },
  {
   "cell_type": "code",
   "execution_count": 3,
   "metadata": {
    "collapsed": true
   },
   "outputs": [],
   "source": [
    "# import tensorflow as tf"
   ]
  },
  {
   "cell_type": "code",
   "execution_count": 4,
   "metadata": {
    "collapsed": true
   },
   "outputs": [],
   "source": [
    "# sess = tf.Session()"
   ]
  },
  {
   "cell_type": "code",
   "execution_count": 5,
   "metadata": {
    "collapsed": true
   },
   "outputs": [],
   "source": [
    "import os\n",
    "import sys\n",
    "import blosc\n",
    "import seaborn\n",
    "\n",
    "import numpy as np\n",
    "import tensorflow as tf\n",
    "import matplotlib.pyplot as plt\n",
    "import matplotlib.patches as patches\n",
    "from tqdm import tqdm as tqdm\n",
    "\n",
    "sys.path.append(\"..\")\n",
    "sys.path.append(\"..//..\")\n",
    "from dataset.dataset.opensets import MNIST\n",
    "from dataset.models.tf.resnet import ResNet, ResNet18\n",
    "\n",
    "# from dataset.models.tf.mobilenet import MobileNet\n",
    "\n",
    "from find_bounding_boxes import DetectionBatch\n",
    "from task_03.my_batch import MnistBatch\n",
    "from dataset import DatasetIndex, Dataset\n",
    "from dataset import F, V, B, Pipeline\n",
    "from task_03.my_batch import draw_stats, draw_digit\n",
    "from end_to_end import DetectionResNet2, DetectionResNet, SimpleDetection"
   ]
  },
  {
   "cell_type": "code",
   "execution_count": 6,
   "metadata": {},
   "outputs": [
    {
     "name": "stdout",
     "output_type": "stream",
     "text": [
      "ExtractingExtractingExtracting /tmp/train-labels-idx1-ubyte.gz \n",
      "/tmp/train-images-idx3-ubyte.gz Extracting/tmp/t10k-labels-idx1-ubyte.gz\n",
      "\n",
      " /tmp/t10k-images-idx3-ubyte.gz\n"
     ]
    }
   ],
   "source": [
    "mnistset = MNIST(batch_class=DetectionBatch)\n",
    "mnistset.cv_split([0.9, 0.1])"
   ]
  },
  {
   "cell_type": "code",
   "execution_count": 7,
   "metadata": {
    "collapsed": true
   },
   "outputs": [],
   "source": [
    "NUM_ITERS = 2400"
   ]
  },
  {
   "cell_type": "code",
   "execution_count": 8,
   "metadata": {
    "collapsed": true
   },
   "outputs": [],
   "source": [
    "BATCH_SIZE = 100\n",
    "NUM_OTHERS = 3"
   ]
  },
  {
   "cell_type": "code",
   "execution_count": 9,
   "metadata": {
    "collapsed": true
   },
   "outputs": [],
   "source": [
    "NEW_SIZE = 80"
   ]
  },
  {
   "cell_type": "code",
   "execution_count": 10,
   "metadata": {
    "collapsed": true
   },
   "outputs": [],
   "source": [
    "placeholders_config = {'images': {'shape': (NEW_SIZE, NEW_SIZE, 1),\n",
    "                                  'name': 'reshaped_images'},\n",
    "                       'labels': {'classes' : 10,\n",
    "                                  'transform': 'ohe',\n",
    "                                  'name': 'targets'},\n",
    "                       'coordinates': {'shape': (4)},\n",
    "                       'other_coordinates': {'shape': (NUM_OTHERS, 4)},\n",
    "                       'other_labels': {'shape': (NUM_OTHERS)}}\n",
    "                       \n",
    "config={'inputs': placeholders_config,\n",
    "        'input_block/inputs': 'images',\n",
    "        'loss': None}"
   ]
  },
  {
   "cell_type": "code",
   "execution_count": 11,
   "metadata": {
    "collapsed": true
   },
   "outputs": [],
   "source": [
    "saved_fetches=[\n",
    "               V('loss_history'),\n",
    "               V('acc_history'),\n",
    "               V('ce_loss_history'),\n",
    "               V('huber_loss_history')]\n",
    "\n",
    "saved_feed_dict={'images': B('images'),\n",
    "                 'labels': B('labels'),\n",
    "                 'coordinates': B('coordinates'),\n",
    "                 'other_coordinates': B('other_coordinates'),\n",
    "                 'other_labels':  B('other_labels')}"
   ]
  },
  {
   "cell_type": "code",
   "execution_count": 12,
   "metadata": {
    "collapsed": true
   },
   "outputs": [],
   "source": [
    "template_ppl = (Pipeline()\n",
    "               .enlarge_data(num_others=NUM_OTHERS, new_size=NEW_SIZE)\n",
    "               .init_variable('acc_history', init_on_each_run=list)\n",
    "               .init_variable('loss_history', init_on_each_run=list)\n",
    "               .init_variable('ce_loss_history', init_on_each_run=list)\n",
    "               .init_variable('huber_loss_history', init_on_each_run=list))"
   ]
  },
  {
   "cell_type": "code",
   "execution_count": 13,
   "metadata": {
    "collapsed": true
   },
   "outputs": [],
   "source": [
    "train_ppls = []\n",
    "test_ppls = []"
   ]
  },
  {
   "cell_type": "code",
   "execution_count": 14,
   "metadata": {
    "collapsed": true
   },
   "outputs": [],
   "source": [
    "models = [SimpleDetection, DetectionResNet, DetectionResNet2]\n",
    "model_names = ['SimpleDetection', 'DetectionResNet', 'DetectionResNet2']"
   ]
  },
  {
   "cell_type": "code",
   "execution_count": 15,
   "metadata": {},
   "outputs": [
    {
     "name": "stderr",
     "output_type": "stream",
     "text": [
      "\r",
      "  0%|          | 0/2400 [00:00<?, ?it/s]"
     ]
    },
    {
     "name": "stdout",
     "output_type": "stream",
     "text": [
      "outputs.shape  (?, 4)\n"
     ]
    },
    {
     "name": "stderr",
     "output_type": "stream",
     "text": [
      "100%|██████████| 2400/2400 [10:38<00:00,  3.43it/s]\n",
      "  0%|          | 0/2400 [00:00<?, ?it/s]"
     ]
    },
    {
     "name": "stdout",
     "output_type": "stream",
     "text": [
      "outputs.shape  (?, 14)\n",
      "other_labels[:, i]  Tensor(\"DetectionResNet/strided_slice_8:0\", shape=(?,), dtype=float32)\n",
      "other_labels[:, i]  Tensor(\"DetectionResNet/strided_slice_10:0\", shape=(?,), dtype=float32)\n",
      "other_labels[:, i]  Tensor(\"DetectionResNet/strided_slice_12:0\", shape=(?,), dtype=float32)\n"
     ]
    },
    {
     "name": "stderr",
     "output_type": "stream",
     "text": [
      "100%|██████████| 2400/2400 [10:47<00:00,  3.67it/s]\n",
      "  0%|          | 0/2400 [00:00<?, ?it/s]"
     ]
    },
    {
     "name": "stdout",
     "output_type": "stream",
     "text": [
      "outputs.shape  (?, 4)\n",
      "other_labels[:, i]  Tensor(\"DetectionResNet2/strided_slice_12:0\", shape=(?,), dtype=float32)\n",
      "current_accy  [1]\n",
      "other_labels[:, i]  Tensor(\"DetectionResNet2/strided_slice_14:0\", shape=(?,), dtype=float32)\n",
      "current_accy  [1]\n",
      "other_labels[:, i]  Tensor(\"DetectionResNet2/strided_slice_16:0\", shape=(?,), dtype=float32)\n",
      "current_accy  [1]\n"
     ]
    },
    {
     "name": "stderr",
     "output_type": "stream",
     "text": [
      "100%|██████████| 2400/2400 [10:53<00:00,  3.98it/s]\n"
     ]
    }
   ],
   "source": [
    "for index, name in enumerate(model_names):\n",
    "    fetches_list=['loss',\n",
    "                   name + '/accuracy',\n",
    "                   name + '/ce_loss:0',\n",
    "                   name + '/huber:0']\n",
    "\n",
    "    ppl = ((template_ppl << mnistset.train)\n",
    "                     .init_model('dynamic', models[index], name, config=config)\n",
    "                     .train_model(name, fetches=fetches_list, feed_dict=saved_feed_dict,\n",
    "                                  save_to=saved_fetches, mode='a'))\n",
    "    ppl_test = ((template_ppl << mnistset.test)\n",
    "                     .import_model(name, ppl)\n",
    "                     .predict_model(name, fetches=fetches_list, feed_dict=saved_feed_dict,\n",
    "                                  save_to=saved_fetches, mode='a'))\n",
    "\n",
    "    \n",
    "    for i in tqdm(range(NUM_ITERS)):\n",
    "        ppl.next_batch(BATCH_SIZE, n_epochs=None, shuffle=True)\n",
    "        ppl_test.next_batch(BATCH_SIZE, n_epochs=None, shuffle=True)\n",
    "    \n",
    "    train_ppls.append(ppl)\n",
    "    test_ppls.append(ppl_test)"
   ]
  },
  {
   "cell_type": "code",
   "execution_count": null,
   "metadata": {
    "collapsed": true
   },
   "outputs": [],
   "source": []
  },
  {
   "cell_type": "code",
   "execution_count": 16,
   "metadata": {
    "collapsed": true
   },
   "outputs": [],
   "source": [
    "# ppl = ((template_ppl << mnistset.train)\n",
    "#                      .init_model('dynamic', DetectionResNet, 'DetectionResNet', config=config)\n",
    "#                      .train_model('DetectionResNet', fetches=fetches_list, feed_dict=saved_feed_dict,\n",
    "#                                   save_to=saved_fetches, mode='a'))"
   ]
  },
  {
   "cell_type": "code",
   "execution_count": 17,
   "metadata": {
    "collapsed": true
   },
   "outputs": [],
   "source": [
    "# ppl_test = ((template_ppl << mnistset.test)\n",
    "#                      .import_model('DetectionResNet', ppl)\n",
    "#                      .predict_model('DetectionResNet', fetches=fetches_list, feed_dict=saved_feed_dict,\n",
    "#                                   save_to=saved_fetches, mode='a'))"
   ]
  },
  {
   "cell_type": "code",
   "execution_count": 18,
   "metadata": {
    "collapsed": true
   },
   "outputs": [],
   "source": [
    "# for i in tqdm(range(NUM_ITERS)):\n",
    "#     ppl.next_batch(BATCH_SIZE, n_epochs=None, shuffle=True)\n",
    "#     ppl_test.next_batch(BATCH_SIZE, n_epochs=None, shuffle=True)"
   ]
  },
  {
   "cell_type": "code",
   "execution_count": 19,
   "metadata": {},
   "outputs": [
    {
     "data": {
      "text/plain": [
       "[<dataset.dataset.pipeline.Pipeline at 0x7f7618e69518>,\n",
       " <dataset.dataset.pipeline.Pipeline at 0x7f7608d2cd68>,\n",
       " <dataset.dataset.pipeline.Pipeline at 0x7f755c8a0d68>]"
      ]
     },
     "execution_count": 19,
     "metadata": {},
     "output_type": "execute_result"
    }
   ],
   "source": [
    "train_ppls"
   ]
  },
  {
   "cell_type": "code",
   "execution_count": 56,
   "metadata": {},
   "outputs": [
    {
     "data": {
      "image/png": "[encoded data removed]",
      "text/plain": [
       "<matplotlib.figure.Figure at 0x7f75345ed198>"
      ]
     },
     "metadata": {},
     "output_type": "display_data"
    }
   ],
   "source": [
    "window = 50\n",
    "draw_stats([test_ppls[1].get_variable('huber_loss_history')[window:], \\\n",
    "            test_ppls[2].get_variable('huber_loss_history')[window:], test_ppls[0].get_variable('huber_loss_history')[window:]], \n",
    "            ['DetectionResNet', 'DetectionResNet2', 'SimpleDetection'], 'loss', 'Test loss')"
   ]
  },
  {
   "cell_type": "code",
   "execution_count": 26,
   "metadata": {},
   "outputs": [
    {
     "data": {
      "image/png": "[encoded data removed]",
      "text/plain": [
       "<matplotlib.figure.Figure at 0x7f753448c4e0>"
      ]
     },
     "metadata": {},
     "output_type": "display_data"
    }
   ],
   "source": [
    "draw_stats([train_ppls[1].get_variable('ce_loss_history')[:], train_ppls[2].get_variable('ce_loss_history')], model_names[1:], \\\n",
    "           'ce_loss', 'Test ce loss')"
   ]
  },
  {
   "cell_type": "code",
   "execution_count": 27,
   "metadata": {},
   "outputs": [
    {
     "data": {
      "image/png": "[encoded data removed]",
      "text/plain": [
       "<matplotlib.figure.Figure at 0x7f753446c400>"
      ]
     },
     "metadata": {},
     "output_type": "display_data"
    }
   ],
   "source": [
    "draw_stats([train_ppls[1].get_variable('acc_history'), train_ppls[2].get_variable('acc_history')], model_names[1:], \\\n",
    "           'accuracy','Test loss')"
   ]
  },
  {
   "cell_type": "markdown",
   "metadata": {},
   "source": [
    "# Larger data"
   ]
  },
  {
   "cell_type": "code",
   "execution_count": 28,
   "metadata": {
    "collapsed": true
   },
   "outputs": [],
   "source": [
    "import pandas as pd\n",
    "from collections import defaultdict"
   ]
  },
  {
   "cell_type": "code",
   "execution_count": 32,
   "metadata": {},
   "outputs": [],
   "source": [
    "statistics = defaultdict(list)\n",
    "window = 100\n",
    "for index in range(3):\n",
    "    statistics['huber'].append((np.mean(train_ppls[index].get_variable('huber_loss_history')[-window:])))\n",
    "    statistics['cross entropy'].append(np.mean(train_ppls[index].get_variable('ce_loss_history')[-window:]))\n",
    "    statistics['accuracy'].append(np.mean(train_ppls[index].get_variable('acc_history')[-window:]))"
   ]
  },
  {
   "cell_type": "code",
   "execution_count": 33,
   "metadata": {},
   "outputs": [
    {
     "data": {
      "text/html": [
       "<div>\n",
       "<style>\n",
       "    .dataframe thead tr:only-child th {\n",
       "        text-align: right;\n",
       "    }\n",
       "\n",
       "    .dataframe thead th {\n",
       "        text-align: left;\n",
       "    }\n",
       "\n",
       "    .dataframe tbody tr th {\n",
       "        vertical-align: top;\n",
       "    }\n",
       "</style>\n",
       "<table border=\"1\" class=\"dataframe\">\n",
       "  <thead>\n",
       "    <tr style=\"text-align: right;\">\n",
       "      <th></th>\n",
       "      <th>accuracy</th>\n",
       "      <th>cross entropy</th>\n",
       "      <th>huber</th>\n",
       "    </tr>\n",
       "  </thead>\n",
       "  <tbody>\n",
       "    <tr>\n",
       "      <th>SimpleDetection</th>\n",
       "      <td>0.0000</td>\n",
       "      <td>0.000000</td>\n",
       "      <td>0.015192</td>\n",
       "    </tr>\n",
       "    <tr>\n",
       "      <th>DetectionResNet</th>\n",
       "      <td>0.4658</td>\n",
       "      <td>1.292889</td>\n",
       "      <td>0.016349</td>\n",
       "    </tr>\n",
       "    <tr>\n",
       "      <th>DetectionResNet2</th>\n",
       "      <td>0.4666</td>\n",
       "      <td>1.228982</td>\n",
       "      <td>0.016102</td>\n",
       "    </tr>\n",
       "  </tbody>\n",
       "</table>\n",
       "</div>"
      ],
      "text/plain": [
       "                  accuracy  cross entropy     huber\n",
       "SimpleDetection     0.0000       0.000000  0.015192\n",
       "DetectionResNet     0.4658       1.292889  0.016349\n",
       "DetectionResNet2    0.4666       1.228982  0.016102"
      ]
     },
     "execution_count": 33,
     "metadata": {},
     "output_type": "execute_result"
    }
   ],
   "source": [
    "stats = pd.DataFrame(statistics, index=model_names)\n",
    "stats"
   ]
  },
  {
   "cell_type": "markdown",
   "metadata": {},
   "source": [
    "# Visualizations"
   ]
  },
  {
   "cell_type": "code",
   "execution_count": 39,
   "metadata": {
    "collapsed": true
   },
   "outputs": [],
   "source": [
    "saved_feed_dict={'images': B('images'),\n",
    "                 'labels': B('labels'),\n",
    "                 'coordinates': B('coordinates'),\n",
    "                 'other_coordinates': B('other_coordinates'),\n",
    "                 'other_labels':  B('other_labels')}\n",
    "\n",
    "saved_fetches=[V('loss_history'),\n",
    "               V('acc_history'),\n",
    "               V('ce_loss_history'),\n",
    "               V('huber_loss_history'),\n",
    "               V('predicted_labels'),\n",
    "               V('predicted_boxes'),\n",
    "#                V('all_accuracies'),\n",
    "               V('true_coordinates')\n",
    "              ]\n",
    "\n",
    "template_predict_ppl = ((template_ppl)\n",
    "                          .init_variable('predicted_labels', init_on_each_run=list)\n",
    "                          .init_variable('predicted_boxes', init_on_each_run=list)\n",
    "                          .init_variable('all_accuracies', init_on_each_run=list)\n",
    "                          .init_variable('true_coordinates', init_on_each_run=list))\n"
   ]
  },
  {
   "cell_type": "code",
   "execution_count": 40,
   "metadata": {
    "collapsed": true
   },
   "outputs": [],
   "source": [
    "predict_ppls = []"
   ]
  },
  {
   "cell_type": "code",
   "execution_count": 41,
   "metadata": {
    "collapsed": true
   },
   "outputs": [],
   "source": [
    "for index, name in enumerate(model_names):\n",
    "    fetches_list=['loss',\n",
    "                  name + '/accuracy',\n",
    "                  name + '/ce_loss:0',\n",
    "                  name + '/huber:0',\n",
    "                  name + '/labels_hat:0',\n",
    "                  name + '/predicted_bb:0',\n",
    "#                   name + '/all_acuracies:0',\n",
    "                  name + '/true_normalized:0']\n",
    "\n",
    "    ppl_predict = ((template_ppl << mnistset.test)\n",
    "                     .import_model(name, train_ppls[index])\n",
    "                     .predict_model(name, fetches=fetches_list, feed_dict=saved_feed_dict,\n",
    "                                  save_to=saved_fetches, mode='a'))\n",
    "    predict_ppls.append(ppl_predict)"
   ]
  },
  {
   "cell_type": "code",
   "execution_count": 42,
   "metadata": {},
   "outputs": [
    {
     "data": {
      "text/plain": [
       "[<dataset.dataset.pipeline.Pipeline at 0x7f7534385ac8>,\n",
       " <dataset.dataset.pipeline.Pipeline at 0x7f75344147f0>,\n",
       " <dataset.dataset.pipeline.Pipeline at 0x7f753448cd30>]"
      ]
     },
     "execution_count": 42,
     "metadata": {},
     "output_type": "execute_result"
    }
   ],
   "source": [
    "predict_ppls"
   ]
  },
  {
   "cell_type": "code",
   "execution_count": 43,
   "metadata": {
    "collapsed": true
   },
   "outputs": [],
   "source": [
    "# batch = ppl_predict.next_batch(100, n_epochs=None, shuffle=True)\n",
    "# images = batch.data.images\n",
    "# coordinates = batch.data.coordinates\n",
    "# labels = batch.data.labels"
   ]
  },
  {
   "cell_type": "code",
   "execution_count": null,
   "metadata": {
    "collapsed": true
   },
   "outputs": [],
   "source": []
  },
  {
   "cell_type": "code",
   "execution_count": 44,
   "metadata": {
    "collapsed": true
   },
   "outputs": [],
   "source": [
    "def modify_bb(size, bbox):\n",
    "    img_width = size[1]\n",
    "    img_height = size[2]\n",
    "#     x, y, x_1, y_1 = bbox\n",
    "    y, x, y_1, x_1 = bbox\n",
    "    x = min(x, x_1)\n",
    "    y = min(y, y_1)\n",
    "    new_x = x * img_width\n",
    "    new_y = y * img_height\n",
    "    new_x_1 = x_1 * img_width\n",
    "    new_y_1 = y_1 * img_height\n",
    "    bb_width = new_x_1 - new_x\n",
    "    bb_height = new_y_1 - new_y\n",
    "    return new_x, new_y, bb_width, bb_height"
   ]
  },
  {
   "cell_type": "code",
   "execution_count": 45,
   "metadata": {
    "collapsed": true
   },
   "outputs": [],
   "source": [
    "def plot_image(ppl_predict_f, name):\n",
    "    fig, ax = plt.subplots(1, 3, figsize=(10,20))\n",
    "    print('MODEL: ', name)\n",
    "    for i in range(3):\n",
    "        batch = ppl_predict_f.next_batch(50, n_epochs=None, shuffle=True)\n",
    "        images = batch.data.images\n",
    "        labels = batch.data.labels\n",
    "\n",
    "        ax[i].imshow(images[-1, :, :, 0])\n",
    "        new_x, new_y, bb_width, bb_height = modify_bb(images.shape, ppl_predict_f.get_variable('predicted_boxes')[-1][-1])\n",
    "        print('predicted_coordinates ', ppl_predict_f.get_variable('predicted_boxes')[-1][-1])\n",
    "    #     print(new_x, new_y, bb_width, bb_height)\n",
    "    #     print('true_coordinates_norm ', ppl_predict_f.get_variable('true_coordinates')[-1][-1])\n",
    "        print('true_coordinates ', batch.data.coordinates[-1])\n",
    "        x, y, width, height = modify_bb(images.shape, ppl_predict_f.get_variable('true_coordinates')[-1][-1])\n",
    "\n",
    "        rect = patches.Rectangle((x, y), width, height, linewidth=3, edgecolor='g', facecolor='none')\n",
    "        ax[i].add_patch(rect)\n",
    "        rect = patches.Rectangle((new_x, new_y), bb_width, bb_height, linewidth=3, edgecolor='r', facecolor='none')\n",
    "        ax[i].add_patch(rect)\n",
    "        ax[i].title.set_text('prediction={}, target={}'.format(str(ppl_predict_f.get_variable('predicted_labels')[-1][-1]), \\\n",
    "                                                               str(labels[-1])))\n",
    "#         plt.title('prediction={}, target={}'.format(str(ppl_predict_f.get_variable('predicted_labels')[-1][-1]), str(labels[-1])))\n",
    "    #     print('predicted_labels ', ppl_predict_f.get_variable('predicted_labels'))\n",
    "    #     print('all_accuracies ', ppl_predict_f.get_variable('all_accuracies')[-1])\n",
    "        print('other_labels ', batch.other_labels[-1])\n",
    "    plt.show()"
   ]
  },
  {
   "cell_type": "code",
   "execution_count": 46,
   "metadata": {},
   "outputs": [
    {
     "data": {
      "text/plain": [
       "2"
      ]
     },
     "execution_count": 46,
     "metadata": {},
     "output_type": "execute_result"
    }
   ],
   "source": [
    "a = np.zeros((2, 3, 4))\n",
    "x, y, z = a.shape\n",
    "x"
   ]
  },
  {
   "cell_type": "code",
   "execution_count": 142,
   "metadata": {},
   "outputs": [
    {
     "name": "stdout",
     "output_type": "stream",
     "text": [
      "MODEL:  SimpleDetection\n",
      "predicted_coordinates  [ 0.17341392  0.29857594  0.50750279  0.57895738]\n",
      "true_coordinates  [16 36 43 57]\n",
      "other_labels  [3 5 6]\n",
      "predicted_coordinates  [ 0.1848959   0.30244243  0.5158394   0.57406926]\n",
      "true_coordinates  [25  3 52 16]\n",
      "other_labels  [9 3 9]\n",
      "predicted_coordinates  [ 0.29443577  0.29161221  0.63126987  0.5845595 ]\n",
      "true_coordinates  [41 33 68 50]\n",
      "other_labels  [0 1 3]\n"
     ]
    },
    {
     "data": {
      "image/png": "[encoded data removed]",
      "text/plain": [
       "<matplotlib.figure.Figure at 0x7f7528eb3c88>"
      ]
     },
     "metadata": {},
     "output_type": "display_data"
    },
    {
     "name": "stdout",
     "output_type": "stream",
     "text": [
      "MODEL:  DetectionResNet\n",
      "predicted_coordinates  [ 0.33928126  0.2578755   0.66315031  0.5466063 ]\n",
      "true_coordinates  [46 26 73 53]\n",
      "other_labels  [3 9 4]\n",
      "predicted_coordinates  [ 0.24203187  0.37840843  0.579413    0.67535138]\n",
      "true_coordinates  [27 30 54 49]\n",
      "other_labels  [7 3 4]\n",
      "predicted_coordinates  [ 0.42874259  0.30444476  0.77069342  0.55352628]\n",
      "true_coordinates  [28 39 55 52]\n",
      "other_labels  [9 2 1]\n"
     ]
    },
    {
     "data": {
      "image/png": "[encoded data removed]",
      "text/plain": [
       "<matplotlib.figure.Figure at 0x7f7528e0c358>"
      ]
     },
     "metadata": {},
     "output_type": "display_data"
    },
    {
     "name": "stdout",
     "output_type": "stream",
     "text": [
      "MODEL:  DetectionResNet2\n",
      "predicted_coordinates  [ 0.36397499  0.30788064  0.70518386  0.62703305]\n",
      "true_coordinates  [23 36 50 63]\n",
      "other_labels  [2 1 4]\n",
      "predicted_coordinates  [ 0.18251596  0.37681288  0.52620643  0.68590182]\n",
      "true_coordinates  [24 44 51 67]\n",
      "other_labels  [4 6 4]\n",
      "predicted_coordinates  [ 0.26174045  0.29786015  0.59619999  0.57682049]\n",
      "true_coordinates  [27 36 54 58]\n",
      "other_labels  [8 5 6]\n"
     ]
    },
    {
     "data": {
      "image/png": "[encoded data removed]",
      "text/plain": [
       "<matplotlib.figure.Figure at 0x7f7534414f60>"
      ]
     },
     "metadata": {},
     "output_type": "display_data"
    }
   ],
   "source": [
    "for index in range(3):\n",
    "    plot_image(predict_ppls[index], model_names[index])"
   ]
  },
  {
   "cell_type": "markdown",
   "metadata": {},
   "source": []
  },
  {
   "cell_type": "code",
   "execution_count": 90,
   "metadata": {},
   "outputs": [],
   "source": [
    "def modify_bb_iou(width, height, bb):\n",
    "    x, y, x_1, y_1 = bb\n",
    "    x, x_1 = width * x, width * x_1\n",
    "    y, y_1 = height * y, height * y_1\n",
    "    bbox = {'x1': x, 'y2': y_1, 'x2': x_1, 'y1': y}\n",
    "    return bbox"
   ]
  },
  {
   "cell_type": "code",
   "execution_count": 116,
   "metadata": {},
   "outputs": [
    {
     "data": {
      "text/plain": [
       "62"
      ]
     },
     "execution_count": 116,
     "metadata": {},
     "output_type": "execute_result"
    }
   ],
   "source": [
    "len(ppl_predict_f.get_variable('predicted_boxes'))"
   ]
  },
  {
   "cell_type": "code",
   "execution_count": 149,
   "metadata": {},
   "outputs": [
    {
     "name": "stdout",
     "output_type": "stream",
     "text": [
      "0.286381117481\n",
      "0.31933174608\n",
      "0.350033901017\n"
     ]
    }
   ],
   "source": [
    "for index in range(3):\n",
    "    ppl_predict_f = predict_ppls[index]\n",
    "    BATCH_SIZE = 50\n",
    "    batch = ppl_predict_f.next_batch(BATCH_SIZE, n_epochs=None, shuffle=True)\n",
    "    images = batch.data.images\n",
    "    width = images.shape[1]\n",
    "    height = images.shape[2]\n",
    "    ious = []\n",
    "    for i in range(BATCH_SIZE):\n",
    "        all_ious = []\n",
    "        for j in range(len(batch.data.other_coordinates[i])):\n",
    "            bbox = batch.data.other_coordinates[i][j]\n",
    "            all_ious.append(get_iou(modify_bb_iou(width, height, ppl_predict_f.get_variable('predicted_boxes')[-1][i]),\\\n",
    "                            {'x1': bbox[0], 'y2': bbox[3], 'x2': bbox[2], 'y1': bbox[1]}))\n",
    "        all_ious.append(get_iou(modify_bb_iou(width, height, ppl_predict_f.get_variable('predicted_boxes')[-1][i]),\\\n",
    "                      modify_bb_iou(width, height, ppl_predict_f.get_variable('true_coordinates')[-1][i])))\n",
    "        ious.append(np.max(np.array(all_ious)))\n",
    "\n",
    "#         print(ppl_predict_f.get_variable('predicted_boxes')[-1][-1])\n",
    "#         print(ppl_predict_f.get_variable('true_coordinates')[-1][-1])\n",
    "    # 1    plot_image(predict_ppls[index], model_names[index])\n",
    "    print(np.mean(np.array(ious)))"
   ]
  },
  {
   "cell_type": "code",
   "execution_count": 107,
   "metadata": {},
   "outputs": [
    {
     "data": {
      "text/plain": [
       "array([[[50, 47, 69, 63],\n",
       "        [51,  8, 66, 27],\n",
       "        [31, 23, 50, 28]],\n",
       "\n",
       "       [[48, 43, 67, 58],\n",
       "        [19, 13, 38, 28],\n",
       "        [ 6,  5, 21, 24]],\n",
       "\n",
       "       [[11, 47, 30, 59],\n",
       "        [ 5, 37, 24, 54],\n",
       "        [16, 16, 35, 32]],\n",
       "\n",
       "       [[36, 42, 55, 54],\n",
       "        [48, 17, 67, 31],\n",
       "        [26, 24, 45, 41]],\n",
       "\n",
       "       [[48, 48, 67, 65],\n",
       "        [21, 50, 40, 67],\n",
       "        [32, 50, 51, 64]],\n",
       "\n",
       "       [[41, 31, 60, 48],\n",
       "        [41, 44, 60, 48],\n",
       "        [28,  4, 47, 15]],\n",
       "\n",
       "       [[ 5, 38, 24, 55],\n",
       "        [39, 34, 58, 46],\n",
       "        [45,  3, 64, 14]],\n",
       "\n",
       "       [[10, 21, 29, 34],\n",
       "        [44, 25, 63, 37],\n",
       "        [44, 19, 63, 32]],\n",
       "\n",
       "       [[17, 49, 36, 65],\n",
       "        [44, 33, 63, 51],\n",
       "        [37, 29, 52, 48]],\n",
       "\n",
       "       [[21, 48, 39, 67],\n",
       "        [43,  9, 61, 28],\n",
       "        [51, 39, 70, 58]],\n",
       "\n",
       "       [[23, 17, 42, 32],\n",
       "        [ 2, 31, 21, 45],\n",
       "        [51,  7, 70, 26]],\n",
       "\n",
       "       [[32,  8, 51, 19],\n",
       "        [16, 51, 35, 68],\n",
       "        [31, 17, 50, 26]],\n",
       "\n",
       "       [[ 4, 44, 23, 63],\n",
       "        [28, 19, 47, 33],\n",
       "        [25, 15, 44, 32]],\n",
       "\n",
       "       [[50, 23, 69, 40],\n",
       "        [27,  1, 46, 18],\n",
       "        [ 9, 32, 28, 46]],\n",
       "\n",
       "       [[38, 27, 57, 44],\n",
       "        [17, 13, 36, 18],\n",
       "        [35, 51, 54, 63]],\n",
       "\n",
       "       [[31, 42, 50, 57],\n",
       "        [ 4,  1, 21, 20],\n",
       "        [45, 44, 64, 60]],\n",
       "\n",
       "       [[22,  2, 41, 14],\n",
       "        [34,  9, 53, 22],\n",
       "        [29, 35, 48, 47]],\n",
       "\n",
       "       [[12, 33, 31, 38],\n",
       "        [11, 41, 30, 46],\n",
       "        [ 5, 23, 24, 42]],\n",
       "\n",
       "       [[27, 26, 46, 37],\n",
       "        [49, 23, 68, 41],\n",
       "        [31, 31, 50, 49]],\n",
       "\n",
       "       [[21,  4, 40, 15],\n",
       "        [32, 39, 51, 58],\n",
       "        [36, 25, 55, 37]],\n",
       "\n",
       "       [[ 0, 20, 19, 31],\n",
       "        [48, 37, 67, 56],\n",
       "        [21, 24, 40, 41]],\n",
       "\n",
       "       [[37, 18, 56, 29],\n",
       "        [24,  0, 39, 19],\n",
       "        [ 9, 15, 28, 27]],\n",
       "\n",
       "       [[43, 43, 62, 55],\n",
       "        [46, 31, 65, 46],\n",
       "        [16, 45, 35, 60]],\n",
       "\n",
       "       [[ 9,  1, 28, 14],\n",
       "        [43,  8, 62, 26],\n",
       "        [ 8,  2, 27, 20]],\n",
       "\n",
       "       [[ 4, 41, 23, 46],\n",
       "        [12, 45, 31, 54],\n",
       "        [38, 12, 57, 31]],\n",
       "\n",
       "       [[ 8, 34, 27, 38],\n",
       "        [35, 26, 54, 41],\n",
       "        [45, 39, 64, 57]],\n",
       "\n",
       "       [[10,  6, 29, 18],\n",
       "        [48, 23, 67, 36],\n",
       "        [49, 36, 68, 55]],\n",
       "\n",
       "       [[ 7, 11, 26, 23],\n",
       "        [24, 11, 43, 26],\n",
       "        [ 9, 48, 28, 59]],\n",
       "\n",
       "       [[41,  1, 60, 19],\n",
       "        [ 6, 25, 25, 40],\n",
       "        [17, 16, 36, 30]],\n",
       "\n",
       "       [[ 7, 31, 26, 48],\n",
       "        [33, 42, 48, 61],\n",
       "        [34, 11, 53, 28]],\n",
       "\n",
       "       [[ 5, 28, 24, 42],\n",
       "        [ 0,  1, 19, 19],\n",
       "        [28, 41, 47, 60]],\n",
       "\n",
       "       [[19, 23, 34, 42],\n",
       "        [29,  2, 48, 17],\n",
       "        [26,  2, 45, 19]],\n",
       "\n",
       "       [[ 6, 38, 25, 53],\n",
       "        [39,  6, 58, 23],\n",
       "        [44, 28, 63, 45]],\n",
       "\n",
       "       [[ 4, 50, 19, 69],\n",
       "        [18, 12, 37, 27],\n",
       "        [12, 30, 31, 48]],\n",
       "\n",
       "       [[ 9, 14, 28, 17],\n",
       "        [51, 27, 70, 42],\n",
       "        [ 5, 39, 24, 51]],\n",
       "\n",
       "       [[34, 47, 53, 61],\n",
       "        [23, 43, 42, 61],\n",
       "        [ 4, 32, 23, 47]],\n",
       "\n",
       "       [[21, 51, 40, 70],\n",
       "        [39,  3, 58, 15],\n",
       "        [50, 44, 69, 56]],\n",
       "\n",
       "       [[25, 51, 44, 69],\n",
       "        [33, 28, 52, 47],\n",
       "        [25, 48, 43, 67]],\n",
       "\n",
       "       [[ 6, 20, 25, 23],\n",
       "        [22, 28, 41, 31],\n",
       "        [39, 10, 58, 15]],\n",
       "\n",
       "       [[42, 24, 61, 41],\n",
       "        [13, 16, 32, 33],\n",
       "        [ 9, 36, 28, 39]],\n",
       "\n",
       "       [[ 9, 49, 28, 66],\n",
       "        [34,  3, 52, 22],\n",
       "        [34, 19, 53, 34]],\n",
       "\n",
       "       [[35, 14, 54, 23],\n",
       "        [45,  9, 64, 24],\n",
       "        [44, 36, 63, 50]],\n",
       "\n",
       "       [[ 5, 20, 24, 36],\n",
       "        [ 5, 28, 24, 47],\n",
       "        [24,  1, 43, 14]],\n",
       "\n",
       "       [[36,  4, 55,  7],\n",
       "        [44, 47, 63, 65],\n",
       "        [31, 12, 50, 23]],\n",
       "\n",
       "       [[46, 14, 65, 26],\n",
       "        [ 3, 42, 22, 60],\n",
       "        [ 7, 50, 24, 69]],\n",
       "\n",
       "       [[14, 47, 33, 59],\n",
       "        [ 5, 43, 22, 62],\n",
       "        [46, 22, 65, 34]],\n",
       "\n",
       "       [[11,  2, 30, 13],\n",
       "        [37, 36, 54, 55],\n",
       "        [40,  6, 59, 21]],\n",
       "\n",
       "       [[20, 50, 39, 61],\n",
       "        [33,  7, 52, 11],\n",
       "        [12,  2, 31, 17]],\n",
       "\n",
       "       [[51, 49, 70, 66],\n",
       "        [51, 12, 70, 27],\n",
       "        [21, 19, 39, 38]],\n",
       "\n",
       "       [[ 9, 16, 28, 35],\n",
       "        [40, 34, 59, 49],\n",
       "        [40, 50, 59, 65]]])"
      ]
     },
     "execution_count": 107,
     "metadata": {},
     "output_type": "execute_result"
    }
   ],
   "source": [
    "batch.data.other_coordinates"
   ]
  },
  {
   "cell_type": "code",
   "execution_count": 61,
   "metadata": {
    "collapsed": true
   },
   "outputs": [],
   "source": [
    "def get_iou(bb1, bb2):\n",
    "    \"\"\"\n",
    "    Calculate the Intersection over Union (IoU) of two bounding boxes.\n",
    "\n",
    "    Parameters\n",
    "    ----------\n",
    "    bb1 : dict\n",
    "        Keys: {'x1', 'x2', 'y1', 'y2'}\n",
    "        The (x1, y1) position is at the top left corner,\n",
    "        the (x2, y2) position is at the bottom right corner\n",
    "    bb2 : dict\n",
    "        Keys: {'x1', 'x2', 'y1', 'y2'}\n",
    "        The (x, y) position is at the top left corner,\n",
    "        the (x2, y2) position is at the bottom right corner\n",
    "\n",
    "    Returns\n",
    "    -------\n",
    "    float\n",
    "        in [0, 1]\n",
    "    \"\"\"\n",
    "    assert bb1['x1'] < bb1['x2']\n",
    "    assert bb1['y1'] < bb1['y2']\n",
    "    assert bb2['x1'] < bb2['x2']\n",
    "    assert bb2['y1'] < bb2['y2']\n",
    "\n",
    "    # determine the coordinates of the intersection rectangle\n",
    "    x_left = max(bb1['x1'], bb2['x1'])\n",
    "    y_top = max(bb1['y1'], bb2['y1'])\n",
    "    x_right = min(bb1['x2'], bb2['x2'])\n",
    "    y_bottom = min(bb1['y2'], bb2['y2'])\n",
    "\n",
    "    if x_right < x_left or y_bottom < y_top:\n",
    "        return 0.0\n",
    "\n",
    "    # The intersection of two axis-aligned bounding boxes is always an\n",
    "    # axis-aligned bounding box\n",
    "    intersection_area = (x_right - x_left) * (y_bottom - y_top)\n",
    "\n",
    "    # compute the area of both AABBs\n",
    "    bb1_area = (bb1['x2'] - bb1['x1']) * (bb1['y2'] - bb1['y1'])\n",
    "    bb2_area = (bb2['x2'] - bb2['x1']) * (bb2['y2'] - bb2['y1'])\n",
    "\n",
    "    # compute the intersection over union by taking the intersection\n",
    "    # area and dividing it by the sum of prediction + ground-truth\n",
    "    # areas - the interesection area\n",
    "    iou = intersection_area / float(bb1_area + bb2_area - intersection_area)\n",
    "    assert iou >= 0.0\n",
    "    assert iou <= 1.0\n",
    "    return iou\n"
   ]
  },
  {
   "cell_type": "code",
   "execution_count": null,
   "metadata": {
    "collapsed": true
   },
   "outputs": [],
   "source": []
  }
 ],
 "metadata": {
  "kernelspec": {
   "display_name": "Python 3",
   "language": "python",
   "name": "python3"
  },
  "language_info": {
   "codemirror_mode": {
    "name": "ipython",
    "version": 3
   },
   "file_extension": ".py",
   "mimetype": "text/x-python",
   "name": "python",
   "nbconvert_exporter": "python",
   "pygments_lexer": "ipython3",
   "version": "3.5.2"
  }
 },
 "nbformat": 4,
 "nbformat_minor": 2
}
