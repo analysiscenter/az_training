{
 "cells": [
  {
   "cell_type": "markdown",
   "metadata": {},
   "source": [
    "## This notebook contains a demonstration of regression models implementation using tensorflow and dataset libraries\n",
    "- The models are implemented in class RegressionModel(TFModel) regression_model.py\n",
    "- class MyBatch(Batch) contains methods for preprocessing data \n",
    "- functions for data generation are implemented in generate_data.py"
   ]
  },
  {
   "cell_type": "code",
   "execution_count": 1,
   "metadata": {},
   "outputs": [],
   "source": [
    "import sys\n",
    "import seaborn\n",
    "\n",
    "\n",
    "import numpy as np\n",
    "import tensorflow as tf\n",
    "import matplotlib.pyplot as plt\n",
    "\n",
    "sys.path.append(\"../..\")\n",
    "import generate_data as gr\n",
    "from dataset import Dataset, F, V, B\n",
    "from my_batch import MyBatch\n",
    "from regression_model import RegressionModel\n",
    "import my_batch as mb"
   ]
  },
  {
   "cell_type": "code",
   "execution_count": 2,
   "metadata": {},
   "outputs": [
    {
     "name": "stdout",
     "output_type": "stream",
     "text": [
      "env: CUDA_VISIBLE_DEVICES=1\n"
     ]
    }
   ],
   "source": [
    "%env CUDA_VISIBLE_DEVICES=1"
   ]
  },
  {
   "cell_type": "code",
   "execution_count": 3,
   "metadata": {
    "collapsed": true
   },
   "outputs": [],
   "source": [
    "BATCH_SIZE = 100\n",
    "TRAINING_EPOCHS = 500\n",
    "DATA_SIZE = 500\n",
    "NUM_DIM = 30"
   ]
  },
  {
   "cell_type": "markdown",
   "metadata": {},
   "source": [
    "# Linear Regression"
   ]
  },
  {
   "cell_type": "markdown",
   "metadata": {},
   "source": [
    "![](http://66.147.244.197/~globerov/introspectivemode/wp-content/uploads/2012/08/regression-265x300.jpeg)\n",
    "\n",
    "Let's consiider a linear regression problem where $y \\in \\mathbb{R}$ and the relationship can be modeled as\n",
    "$$y(x) = \\langle w, x\\rangle$$ where $x \\in \\mathbb{R}^{d+1}$ - vector consisting of d independent variables concatenated to a vector of ones. To find the solution  $w \\in \\mathbb{R} ^{d+1}$ we minimize the average sum of squared residuals. In case of $l_2$ regularization the minimized functional looks like:\n",
    "\n",
    "$$ \\frac{1}{N}\\sum_{i=1}^N (\\langle w, x_i \\rangle - y_i) ^ 2 + \\dfrac{C}{2}\\lVert w \\rVert^2  \\to \\min_w$$\n",
    "We find the solution using stochastic gradient descent."
   ]
  },
  {
   "cell_type": "code",
   "execution_count": 4,
   "metadata": {
    "collapsed": true
   },
   "outputs": [],
   "source": [
    "# gr.load_linear_data returns np.array of feautures and linearly dependent target with error from normal distribution\n",
    "data = gr.load_linear_data(NUM_DIM, DATA_SIZE)\n",
    "\n",
    "# create dataset object\n",
    "my_dataset = Dataset(index=np.arange(data[0].shape[0]), batch_class=MyBatch)\n",
    "\n",
    "# create train and test indices\n",
    "my_dataset.cv_split(0.8)"
   ]
  },
  {
   "cell_type": "code",
   "execution_count": 5,
   "metadata": {
    "collapsed": true
   },
   "outputs": [],
   "source": [
    "placeholders_config = {'features': {'shape': (NUM_DIM)},\n",
    "                       'labels': {'shape' : 1,\n",
    "                                  'name': 'targets'}}"
   ]
  },
  {
   "cell_type": "code",
   "execution_count": 6,
   "metadata": {
    "collapsed": true
   },
   "outputs": [],
   "source": [
    "config={'inputs': placeholders_config,\n",
    "        'loss':'mse',\n",
    "        'optimizer': {'name':'GradientDescentOptimizer', 'use_locking': True,  'learning_rate': 0.01},\n",
    "        'input_block/inputs': 'features',\n",
    "        'body/dimension': V('dim_shape'),\n",
    "        'body/model_type': 'linear',\n",
    "}"
   ]
  },
  {
   "cell_type": "code",
   "execution_count": 7,
   "metadata": {},
   "outputs": [
    {
     "name": "stderr",
     "output_type": "stream",
     "text": [
      "WARNING:root:conv_block: layout is empty, so there is nothing to do, just returning inputs.\n"
     ]
    },
    {
     "name": "stdout",
     "output_type": "stream",
     "text": [
      "model_type = linear\n"
     ]
    }
   ],
   "source": [
    "ppl = (my_dataset.train.p\n",
    "                     .load(data)\n",
    "                     .preprocess_linear_data()\n",
    "                     .init_variable('dim_shape', (0))\n",
    "                     .update_variable('dim_shape', F(lambda batch: batch.features.shape[-1]))\n",
    "                     .init_model('dynamic', RegressionModel, 'LinearRegressionModel',\n",
    "                                 config=config)\n",
    "                     .train_model('LinearRegressionModel',  feed_dict={'features': B('features'),\n",
    "                                                                       'labels': B('labels')})\n",
    "                     .run(BATCH_SIZE, n_epochs=TRAINING_EPOCHS, shuffle=True))"
   ]
  },
  {
   "cell_type": "code",
   "execution_count": 8,
   "metadata": {},
   "outputs": [],
   "source": [
    "ppl_test = (my_dataset.test.p\n",
    "                     .load(data)\n",
    "                     .preprocess_linear_data()\n",
    "                     .init_variable('y_true', init_on_each_run=list)\n",
    "                     .init_variable('y_pred', init_on_each_run=list)\n",
    "                     .init_variable('mse', init_on_each_run=list)\n",
    "                     .init_variable('x_features', init_on_each_run=list)\n",
    "                     .import_model('LinearRegressionModel', ppl)\n",
    "                     .predict_model('LinearRegressionModel',  fetches=['targets', 'RegressionModel/predictions', \n",
    "                                                                       'RegressionModel/mse', 'features'],\n",
    "                                                              feed_dict={'features': B('features'),\n",
    "                                                                         'labels': B('labels')},\n",
    "                                                              save_to=([V('y_true'), V('y_pred'), V('mse'),\n",
    "                                                                        V('x_features')]), mode='a')\n",
    "                     .run(BATCH_SIZE, n_epochs=1))"
   ]
  },
  {
   "cell_type": "code",
   "execution_count": 9,
   "metadata": {
    "collapsed": true
   },
   "outputs": [],
   "source": [
    "# load labels, features, predictions and error from pipeline\n",
    "y_true = ppl_test.get_variable('y_true')\n",
    "y_pred = ppl_test.get_variable('y_pred')\n",
    "mse = ppl_test.get_variable('mse') \n",
    "x_features = ppl_test.get_variable('x_features')"
   ]
  },
  {
   "cell_type": "code",
   "execution_count": 10,
   "metadata": {},
   "outputs": [
    {
     "name": "stdout",
     "output_type": "stream",
     "text": [
      "Variance ratio: 0.93\n"
     ]
    }
   ],
   "source": [
    "variance = np.var(y_pred, ddof=1) / np.var(y_true, ddof=1)\n",
    "print('Variance ratio: %.2f' % variance)"
   ]
  },
  {
   "cell_type": "code",
   "execution_count": 11,
   "metadata": {},
   "outputs": [
    {
     "name": "stdout",
     "output_type": "stream",
     "text": [
      "MSE is distibuted in the interval: 0.17 $ ± 0.35 $\n"
     ]
    }
   ],
   "source": [
    "mean = np.mean(np.abs(np.array(y_pred) - np.array(y_true)))\n",
    "interval = 3*np.std(np.abs(np.array(y_pred) - np.array(y_true)))\n",
    "print('MSE is distibuted in the interval: {0:.2f} $ ± {1:.2f} $'\\\n",
    "        .format(mean, interval))"
   ]
  },
  {
   "cell_type": "code",
   "execution_count": 12,
   "metadata": {},
   "outputs": [
    {
     "name": "stdout",
     "output_type": "stream",
     "text": [
      "MAE with respect to data's mean is: 2.60%\n"
     ]
    }
   ],
   "source": [
    "absolute_error_ratio = np.mean(np.abs(np.array(y_pred) - np.array(y_true))/np.array(y_true))*100\n",
    "print('MAE with respect to data\\'s mean is: {0:.2f}%'\\\n",
    "        .format(absolute_error_ratio))"
   ]
  },
  {
   "cell_type": "markdown",
   "metadata": {},
   "source": [
    "# Logistic Regression"
   ]
  },
  {
   "cell_type": "markdown",
   "metadata": {},
   "source": [
    "Logistic regression is used for binary classification problem. In case of $y \\in \\{-1, 1\\}$ the model looks like $y = sign \\langle w, x\\rangle$ and the minimized functional is:\n",
    "$$ \\dfrac{1}{N}\\sum_{i=1}^N \\log(1 + \\exp(-\\langle w, x_i \\rangle y_i)) + \\dfrac{C}{2}\\lVert w \\rVert^2  \\to \\min_w$$\n"
   ]
  },
  {
   "cell_type": "code",
   "execution_count": 22,
   "metadata": {
    "collapsed": true
   },
   "outputs": [],
   "source": [
    "# create random data for classification\n",
    "data = gr.load_random_data(NUM_DIM, DATA_SIZE, blobs=False)\n",
    "\n",
    "# create dataset object\n",
    "my_dataset = Dataset(index=np.arange(data[0].shape[0]), batch_class=MyBatch)\n",
    "\n",
    "# create train and test indices\n",
    "my_dataset.cv_split()"
   ]
  },
  {
   "cell_type": "code",
   "execution_count": 23,
   "metadata": {
    "collapsed": true
   },
   "outputs": [],
   "source": [
    "placeholders_config = {'features': {'shape': (NUM_DIM)},\n",
    "                       'labels': {'shape' : 1,\n",
    "                                  'name': 'targets'}}"
   ]
  },
  {
   "cell_type": "code",
   "execution_count": 24,
   "metadata": {},
   "outputs": [],
   "source": [
    "config={'inputs': placeholders_config,\n",
    "        'optimizer': {'name':'GradientDescentOptimizer', 'use_locking': True,  'learning_rate': 0.01},\n",
    "        'input_block/inputs': 'features',\n",
    "        'body/dimension': V('dim_shape'),\n",
    "        'body/model_type': 'logistic',\n",
    "}"
   ]
  },
  {
   "cell_type": "code",
   "execution_count": 25,
   "metadata": {},
   "outputs": [
    {
     "name": "stderr",
     "output_type": "stream",
     "text": [
      "WARNING:root:conv_block: layout is empty, so there is nothing to do, just returning inputs.\n"
     ]
    },
    {
     "name": "stdout",
     "output_type": "stream",
     "text": [
      "model_type = logistic\n"
     ]
    }
   ],
   "source": [
    "ppl = (my_dataset.train.p\n",
    "                     .load(data)\n",
    "                     .preprocess_binary_data()\n",
    "                     .init_variable('dim_shape', (0))\n",
    "                     .update_variable('dim_shape', F(lambda batch: batch.features.shape[-1]))\n",
    "                     .init_model('dynamic', RegressionModel, 'LogisticRegressionModel',\n",
    "                      config=config)\n",
    "                     .train_model('LogisticRegressionModel',  feed_dict={'features': B('features'),\n",
    "                                                                         'labels': B('labels')})\n",
    "                     .run(BATCH_SIZE, n_epochs=TRAINING_EPOCHS, shuffle=True))"
   ]
  },
  {
   "cell_type": "code",
   "execution_count": 26,
   "metadata": {},
   "outputs": [],
   "source": [
    "ppl_test = (my_dataset.test.p\n",
    "                     .load(data)\n",
    "                     .preprocess_binary_data()\n",
    "                     .init_variable('test_accuracy', init_on_each_run=0)\n",
    "                     .import_model('LogisticRegressionModel', ppl)\n",
    "                     .predict_model('LogisticRegressionModel',  fetches='RegressionModel/accuracy', \n",
    "                                                                feed_dict={'features': B('features'),\n",
    "                                                                           'labels': B('labels')},\n",
    "                                                                save_to=V('test_accuracy'))\n",
    "                     .run(BATCH_SIZE, n_epochs=1))"
   ]
  },
  {
   "cell_type": "code",
   "execution_count": 27,
   "metadata": {},
   "outputs": [
    {
     "name": "stdout",
     "output_type": "stream",
     "text": [
      "ACCURACY: 97%\n"
     ]
    }
   ],
   "source": [
    "print(\"ACCURACY: %.0f%%\" % (100.0 * ppl_test.get_variable('test_accuracy')))"
   ]
  },
  {
   "cell_type": "markdown",
   "metadata": {},
   "source": [
    "# Poisson Regression"
   ]
  },
  {
   "cell_type": "markdown",
   "metadata": {},
   "source": [
    "Poisson regression is used to model count data. It assumes the target variable Y has a Poisson distribution. The model takes the form: $$\\log \\operatorname {E} (\\mathrm{Y}\\mid x )=\\langle w, x \\rangle \\,$$ \n",
    "and the minimized functional looks like:\n",
    "$$ \\dfrac{1}{N} \\sum_{i=1}^N y_i \\langle w, x_i \\rangle - \\exp{\\langle w, x_i \\rangle} + \\dfrac{C}{2}\\lVert w \\rVert^2 \\to \\min_w$$"
   ]
  },
  {
   "cell_type": "code",
   "execution_count": 39,
   "metadata": {
    "collapsed": true
   },
   "outputs": [],
   "source": [
    "BATCH_SIZE = 100\n",
    "TRAINING_EPOCHS = 500\n",
    "DATA_SIZE = 500\n",
    "NUM_DIM = 10"
   ]
  },
  {
   "cell_type": "code",
   "execution_count": 40,
   "metadata": {},
   "outputs": [],
   "source": [
    "# gr.load_poisson_data generates sample from poisson distribution and returns a tuple of weights, features and labels\n",
    "data = gr.load_poisson_data(NUM_DIM, DATA_SIZE)\n",
    "\n",
    "# create dataset object\n",
    "my_dataset = Dataset(index=np.arange(data[1].shape[0]), batch_class=MyBatch)\n",
    "\n",
    "# create train and test indices\n",
    "my_dataset.cv_split()"
   ]
  },
  {
   "cell_type": "code",
   "execution_count": 41,
   "metadata": {
    "collapsed": true
   },
   "outputs": [],
   "source": [
    "placeholders_config = {'features': {'shape': (NUM_DIM)},\n",
    "                       'labels': {'shape' : 1,\n",
    "                                  'name': 'targets'}}"
   ]
  },
  {
   "cell_type": "code",
   "execution_count": 42,
   "metadata": {
    "collapsed": true
   },
   "outputs": [],
   "source": [
    "def poisson_loss(targets, predictions):\n",
    "    return tf.nn.log_poisson_loss(targets, predictions, compute_full_loss=False)"
   ]
  },
  {
   "cell_type": "code",
   "execution_count": 43,
   "metadata": {
    "collapsed": true
   },
   "outputs": [],
   "source": [
    "config={'inputs': placeholders_config,\n",
    "        'loss': poisson_loss,\n",
    "        'optimizer': {'name':'Adam', 'use_locking': True,  'learning_rate': 0.01},\n",
    "        'input_block/inputs': 'features',\n",
    "        'body/dimension': V('dim_shape'),\n",
    "        'body/model_type': 'poisson',\n",
    "}"
   ]
  },
  {
   "cell_type": "code",
   "execution_count": 44,
   "metadata": {},
   "outputs": [
    {
     "name": "stderr",
     "output_type": "stream",
     "text": [
      "WARNING:root:conv_block: layout is empty, so there is nothing to do, just returning inputs.\n"
     ]
    },
    {
     "name": "stdout",
     "output_type": "stream",
     "text": [
      "model_type = poisson\n"
     ]
    }
   ],
   "source": [
    "ppl = (my_dataset.train.p\n",
    "                     .load(data[1:])\n",
    "                     .preprocess_linear_data()\n",
    "                     .init_variable('dim_shape', (0))\n",
    "                     .update_variable('dim_shape', F(lambda batch: batch.features.shape[-1]))\n",
    "                     .init_model('dynamic', RegressionModel, 'PoissonRegressionModel',\n",
    "                                  config=config)\n",
    "                     .train_model('PoissonRegressionModel',  feed_dict={'features': B('features'),\n",
    "                                                                        'labels': B('labels')})\n",
    "                     .run(BATCH_SIZE, n_epochs=TRAINING_EPOCHS, shuffle=True))"
   ]
  },
  {
   "cell_type": "code",
   "execution_count": 45,
   "metadata": {},
   "outputs": [],
   "source": [
    "ppl_test = (my_dataset.test.p\n",
    "                     .load(data[1:])\n",
    "                     .init_variable('all_predictions', init_on_each_run=list)\n",
    "                     .init_variable('y_true', init_on_each_run=list)\n",
    "                     .init_variable('saved_weights', init_on_each_run=list)\n",
    "                     .import_model('PoissonRegressionModel', ppl)\n",
    "                     .predict_model('PoissonRegressionModel',  fetches=['RegressionModel/predictions', \n",
    "                                                                        'RegressionModel/inputs/targets:0', \n",
    "                                                                        'RegressionModel/weights'],\n",
    "                                                               feed_dict={'features': B('features'),\n",
    "                                                                          'labels': B('labels')},\n",
    "                                                               save_to=([V('all_predictions'), V('y_true'), \n",
    "                                                                         V('saved_weights')]),\n",
    "                                                               mode='a')\n",
    "                     .run(BATCH_SIZE, n_epochs=1))"
   ]
  },
  {
   "cell_type": "code",
   "execution_count": 46,
   "metadata": {},
   "outputs": [],
   "source": [
    "all_predictions = ppl_test.get_variable('all_predictions')[0]\n",
    "y_true = ppl_test.get_variable('y_true')[0]\n",
    "weights = ppl_test.get_variable('saved_weights')[0]"
   ]
  },
  {
   "cell_type": "code",
   "execution_count": 47,
   "metadata": {},
   "outputs": [],
   "source": [
    "all_labels = np.exp(all_predictions).astype(np.int64)"
   ]
  },
  {
   "cell_type": "code",
   "execution_count": 48,
   "metadata": {},
   "outputs": [
    {
     "name": "stdout",
     "output_type": "stream",
     "text": [
      "Variance ratio: 0.21\n"
     ]
    }
   ],
   "source": [
    "variance_ratio = np.var(all_labels, ddof=1) / np.var(y_true)\n",
    "print('Variance ratio: %.2f' % (variance_ratio))"
   ]
  },
  {
   "cell_type": "code",
   "execution_count": 49,
   "metadata": {},
   "outputs": [
    {
     "name": "stdout",
     "output_type": "stream",
     "text": [
      "MAE of the model with respect to data's mean is: 76.89%\n"
     ]
    }
   ],
   "source": [
    "abs_error_ratio = np.mean(np.abs(all_labels - y_true)) / np.mean(y_true) * 100 \n",
    "print('MAE of the model with respect to data\\'s mean is: {0:.2f}%'\\\n",
    "        .format(abs_error_ratio))"
   ]
  }
 ],
 "metadata": {
  "kernelspec": {
   "display_name": "Python 3",
   "language": "python",
   "name": "python3"
  },
  "language_info": {
   "codemirror_mode": {
    "name": "ipython",
    "version": 3
   },
   "file_extension": ".py",
   "mimetype": "text/x-python",
   "name": "python",
   "nbconvert_exporter": "python",
   "pygments_lexer": "ipython3",
   "version": "3.6.1"
  }
 },
 "nbformat": 4,
 "nbformat_minor": 2
}
