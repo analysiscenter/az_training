{
 "cells": [
  {
   "cell_type": "code",
   "execution_count": 14,
   "metadata": {
    "collapsed": true
   },
   "outputs": [],
   "source": [
    "import tensorflow as tf\n",
    "import numpy as np\n",
    "import matplotlib.pyplot as plt\n",
    "import numpy as np"
   ]
  },
  {
   "cell_type": "code",
   "execution_count": 353,
   "metadata": {
    "collapsed": true
   },
   "outputs": [],
   "source": [
    "def _calc_size(inputs, factor, data_format):\n",
    "    shape = inputs.get_shape().as_list()\n",
    "    channels = shape[-1] if data_format == 'channels_last' else shape[1]\n",
    "    if None in shape[1:]:\n",
    "        shape = _dynamic_calc_shape(inputs, factor, data_format)\n",
    "    else:\n",
    "        shape = _static_calc_shape(inputs, factor, data_format)\n",
    "    return shape, channels\n",
    "\n",
    "def _static_calc_shape(inputs, factor, data_format):\n",
    "    shape = inputs.get_shape().as_list()\n",
    "    shape = shape[1:-1] if data_format == 'channels_last' else shape[2:]\n",
    "    shape = list(np.asarray(shape) * np.asarray(factor))\n",
    "    return shape\n",
    "\n",
    "def _dynamic_calc_shape(inputs, factor, data_format):\n",
    "    shape = tf.shape(inputs)\n",
    "    shape = shape[1:-1] if data_format == 'channels_last' else shape[2:]\n",
    "    shape = shape * np.asarray(factor)\n",
    "    return shape\n",
    "\n",
    "def resize_bilinear_1d(inputs, size, name, **kwargs):\n",
    "    x = tf.expand_dims(inputs, axis=1)\n",
    "    size = tf.concat([[1], size], axis=-1)\n",
    "    x = tf.image.resize_bilinear(x, size=size, name='resize', **kwargs)\n",
    "    x = tf.squeeze(x, [1])\n",
    "    return x\n",
    "\n",
    "def resize_bilinear_3d(tensor, size, name, **kwargs):\n",
    "    # tensor = _resize_except_axis(tensor, size, name, 0, **kwargs)\n",
    "    tensor = _resize_along_axis(tensor, size, name, 0, **kwargs)\n",
    "    return tensor\n",
    "\n",
    "def _resize_except_axis(inputs, size, name, axis, **kwargs):\n",
    "    perm = np.arange(5)\n",
    "    reverse_perm = np.arange(5)\n",
    "    if axis == 0:\n",
    "        perm[1:4] = [2, 3, 1]\n",
    "        reverse_perm[1:4] = [3, 1, 2]\n",
    "    if axis == 1:\n",
    "        perm[2:4] = [3, 2]\n",
    "        reverse_perm[2:4] = [3, 2]\n",
    "        \n",
    "    x = tf.transpose(inputs, perm)\n",
    "    \n",
    "    if axis != 2:\n",
    "        left = size[:axis]\n",
    "        right = size[axis+1:]\n",
    "        if isinstance(size, tf.Tensor):\n",
    "            real_size = tf.concat([left, right], axis=-1)\n",
    "        else:\n",
    "            real_size = [*left, *right]\n",
    "    else:\n",
    "        real_size = size[:axis]\n",
    "\n",
    "    if isinstance(size, tf.Tensor):\n",
    "        static_size = [None] * real_size.get_shape()[0]\n",
    "    else:\n",
    "        static_size = real_size\n",
    "\n",
    "    shape = x.get_shape().as_list()[:1] + static_size + x.get_shape().as_list()[-1:]\n",
    "    array = tf.TensorArray(tf.float32, size=tf.shape(x)[-2], element_shape=shape)\n",
    "    sl = [slice(None)] * 5\n",
    "    \n",
    "    def _loop(idx, array):\n",
    "        sl[-2] = idx\n",
    "        tensor = x[sl]\n",
    "        tensor = tf.image.resize_bilinear(tensor, size=real_size, name='resize_2d', **kwargs)\n",
    "        array = array.write(idx, tensor)\n",
    "        return [idx+1, array]\n",
    "    i = 0\n",
    "    _, array = tf.while_loop(lambda i, array: i < tf.shape(x)[-2], _loop, [i, array])\n",
    "    array = array.stack()\n",
    "    array = tf.transpose(array, [1, 2, 3, 0, 4])\n",
    "    \n",
    "    array = tf.transpose(array, reverse_perm)\n",
    "    return array\n",
    "\n",
    "def _resize_along_axis(inputs, size, name, axis, **kwargs):\n",
    "    except_axis = (axis + 1) % 3\n",
    "    not_resized_axis = (axis + 2) % 3\n",
    "    size, static_size = _cals_size_after_resize(inputs, size, not_resized_axis)\n",
    "    output = _resize_except_axis(inputs, size, name, except_axis, **kwargs)\n",
    "    output.set_shape(static_size)\n",
    "    print(output.get_shape().as_list())\n",
    "    return output\n",
    "\n",
    "def _cals_size_after_resize(inputs, size, axis):\n",
    "    if isinstance(size, tf.Tensor):\n",
    "        size = tf.unstack(size)\n",
    "        size[not_resized_axis] = tf.shape(inputs)[axis+1]\n",
    "        size = tf.stack(size)\n",
    "        static_size = [None] * 4 + [inputs.get_shape().as_list()[-1]]\n",
    "    else:\n",
    "        static_size = np.array(inputs.get_shape().as_list())\n",
    "        if None in static_size[1:]:\n",
    "            size[not_resized_axis] = tf.shape(inputs)[axis+1]\n",
    "            size = tf.concat([size], axis=-1)\n",
    "        else:\n",
    "            size[axis] = static_size[axis+1]\n",
    "            static_size[[1,2,3]] = size\n",
    "    return size, static_size"
   ]
  },
  {
   "cell_type": "code",
   "execution_count": 354,
   "metadata": {
    "collapsed": true
   },
   "outputs": [],
   "source": [
    "def resize_bilinear(inputs, factor=2, name='resize', data_format='channels_last', **kwargs):\n",
    "    size, _ = _calc_size(inputs, factor, data_format)\n",
    "    with tf.variable_scope(name):\n",
    "        x = inputs\n",
    "        if data_format == 'channels_first':\n",
    "            perm = [0] + list(range(2, inputs.shape.ndims)) + [1]\n",
    "            perm_reverse = [0, inputs.shape.ndims-1] + list(range(1, inputs.shape.ndims-1))\n",
    "        else:\n",
    "            perm = list(range(inputs.shape.ndims))\n",
    "            perm_reverse = perm\n",
    "        x = tf.transpose(x, perm)\n",
    "        dim = inputs.shape.ndims - 2\n",
    "        if dim == 1:\n",
    "            x = resize_bilinear_1d(x, size=size, name='resize_1d', **kwargs)\n",
    "        elif dim == 2:\n",
    "            x = tf.image.resize_bilinear(x, size=size, name='resize_2d', **kwargs)\n",
    "        elif dim == 3:\n",
    "            x = resize_bilinear_3d(x, size=size, name='resize_3d', **kwargs)\n",
    "        x = tf.transpose(x, perm_reverse)\n",
    "    return x"
   ]
  },
  {
   "cell_type": "markdown",
   "metadata": {},
   "source": [
    "# 3D"
   ]
  },
  {
   "cell_type": "code",
   "execution_count": 355,
   "metadata": {},
   "outputs": [
    {
     "name": "stdout",
     "output_type": "stream",
     "text": [
      "(30, 20, 15, 10, 1)\n"
     ]
    },
    {
     "data": {
      "image/png": "[encoded data removed]",
      "text/plain": [
       "<matplotlib.figure.Figure at 0x29c7233da90>"
      ]
     },
     "metadata": {},
     "output_type": "display_data"
    }
   ],
   "source": [
    "A = np.random.randn(30, 20, 15, 10, 1) > 0.5\n",
    "print(A.shape)\n",
    "plt.imshow(np.squeeze(A[0,:,0]))\n",
    "plt.show()"
   ]
  },
  {
   "cell_type": "code",
   "execution_count": 356,
   "metadata": {},
   "outputs": [
    {
     "name": "stdout",
     "output_type": "stream",
     "text": [
      "[None, 40, 30, 10, 1]\n"
     ]
    }
   ],
   "source": [
    "#c = tf.placeholder(tf.float32, [None, None, None, None, 1])\n",
    "c = tf.placeholder(tf.float32, [None, 20, 15, 10, 1])\n",
    "d = resize_bilinear(c, data_format='channels_last')"
   ]
  },
  {
   "cell_type": "code",
   "execution_count": 335,
   "metadata": {
    "collapsed": true
   },
   "outputs": [],
   "source": [
    "sess = tf.Session()\n",
    "B = sess.run(d, feed_dict={c: A})"
   ]
  },
  {
   "cell_type": "code",
   "execution_count": 336,
   "metadata": {},
   "outputs": [
    {
     "data": {
      "text/plain": [
       "(30, 20, 30, 20, 1)"
      ]
     },
     "execution_count": 336,
     "metadata": {},
     "output_type": "execute_result"
    }
   ],
   "source": [
    "B.shape"
   ]
  },
  {
   "cell_type": "code",
   "execution_count": 324,
   "metadata": {},
   "outputs": [
    {
     "data": {
      "image/png": "[encoded data removed]",
      "text/plain": [
       "<matplotlib.figure.Figure at 0x29c720c3748>"
      ]
     },
     "metadata": {},
     "output_type": "display_data"
    }
   ],
   "source": [
    "plt.imshow(np.squeeze(B[0,:,0]))\n",
    "plt.show()"
   ]
  },
  {
   "cell_type": "markdown",
   "metadata": {},
   "source": [
    "# 1D"
   ]
  },
  {
   "cell_type": "code",
   "execution_count": 121,
   "metadata": {},
   "outputs": [
    {
     "name": "stdout",
     "output_type": "stream",
     "text": [
      "(10, 10, 2)\n"
     ]
    },
    {
     "data": {
      "image/png": "[encoded data removed]",
      "text/plain": [
       "<matplotlib.figure.Figure at 0x27e623c7208>"
      ]
     },
     "metadata": {},
     "output_type": "display_data"
    }
   ],
   "source": [
    "A = np.zeros((10, 10))\n",
    "for i in range(10):\n",
    "    for j in range(10):\n",
    "        A[i,j] = np.abs(i - j) ** 0.5\n",
    "    A[i,:] = A[i,:] + (np.random.random()*2-1)\n",
    "A = A.reshape((10, 10, 1))\n",
    "A = np.concatenate([A, 1-A], axis=2)\n",
    "print(A.shape)\n",
    "plt.imshow(A[:, :, 0])\n",
    "plt.show()"
   ]
  },
  {
   "cell_type": "code",
   "execution_count": 122,
   "metadata": {
    "collapsed": true
   },
   "outputs": [],
   "source": [
    "a = tf.constant(A)\n",
    "b = resize_bilinear(a, data_format='channels_last')\n",
    "sess = tf.Session()\n",
    "B = sess.run(b)"
   ]
  },
  {
   "cell_type": "code",
   "execution_count": 123,
   "metadata": {},
   "outputs": [
    {
     "name": "stdout",
     "output_type": "stream",
     "text": [
      "Tensor(\"resize_23/transpose_1:0\", shape=(10, 20, 2), dtype=float32)\n"
     ]
    }
   ],
   "source": [
    "print(b)"
   ]
  },
  {
   "cell_type": "code",
   "execution_count": 124,
   "metadata": {},
   "outputs": [
    {
     "data": {
      "image/png": "[encoded data removed]",
      "text/plain": [
       "<matplotlib.figure.Figure at 0x27e64018630>"
      ]
     },
     "metadata": {},
     "output_type": "display_data"
    }
   ],
   "source": [
    "plt.imshow(np.squeeze(B[:, :, 0]))\n",
    "plt.show()"
   ]
  },
  {
   "cell_type": "code",
   "execution_count": null,
   "metadata": {
    "collapsed": true
   },
   "outputs": [],
   "source": []
  }
 ],
 "metadata": {
  "kernelspec": {
   "display_name": "Python 3",
   "language": "python",
   "name": "python3"
  },
  "language_info": {
   "codemirror_mode": {
    "name": "ipython",
    "version": 3
   },
   "file_extension": ".py",
   "mimetype": "text/x-python",
   "name": "python",
   "nbconvert_exporter": "python",
   "pygments_lexer": "ipython3",
   "version": "3.5.2"
  }
 },
 "nbformat": 4,
 "nbformat_minor": 2
}
