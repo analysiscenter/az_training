{
 "cells": [
  {
   "cell_type": "code",
   "execution_count": 1,
   "metadata": {},
   "outputs": [
    {
     "name": "stdout",
     "output_type": "stream",
     "text": [
      "env: CUDA_VISIBLE_DEVICES=[]\n"
     ]
    }
   ],
   "source": [
    "%matplotlib inline\n",
    "%env CUDA_VISIBLE_DEVICES = []"
   ]
  },
  {
   "cell_type": "code",
   "execution_count": 2,
   "metadata": {
    "collapsed": true
   },
   "outputs": [],
   "source": [
    "import sys\n",
    "\n",
    "import numpy as np\n",
    "import os\n",
    "import blosc\n",
    "\n",
    "import tensorflow as tf\n",
    "import matplotlib.pyplot as plt\n",
    "import seaborn as sns\n",
    "from tqdm import tqdm\n",
    "\n",
    "from tensorflow.contrib.layers import xavier_initializer_conv2d\n",
    "# from scipy.interpolate import spline\n",
    "from collections import defaultdict\n",
    "\n",
    "sys.path.append(\"..\")\n",
    "    \n",
    "from dataset import DatasetIndex, Dataset, F, V, B\n",
    "from dataset import Batch, action, model, inbatch_parallel\n",
    "from resnet_new import ResNetModel\n",
    "from task_03.my_batch import MnistBatch\n",
    "from task_03.my_batch import draw_stats"
   ]
  },
  {
   "cell_type": "code",
   "execution_count": 3,
   "metadata": {
    "collapsed": true
   },
   "outputs": [],
   "source": [
    "src = '/notebooks/Dari/az_training/task_03'\n",
    "\n",
    "with open(os.path.join(src, 'mnist_pics.blk'), 'rb') as file:\n",
    "    full_imgs = blosc.unpack_array(file.read())\n",
    "    \n",
    "with open(os.path.join(src, 'mnist_labels.blk'), 'rb') as file:\n",
    "    full_labs = blosc.unpack_array(file.read())\n",
    "    \n",
    "src = (np.reshape(full_imgs, (65000, 28, 28)), full_labs)"
   ]
  },
  {
   "cell_type": "code",
   "execution_count": 4,
   "metadata": {
    "collapsed": true
   },
   "outputs": [],
   "source": [
    "LEN_MNIST = 65000\n",
    "indy = DatasetIndex(np.arange(LEN_MNIST))\n",
    "\n",
    "mnistset = Dataset(indy, batch_class=MnistBatch)\n",
    "mnistset.cv_split([0.9, 0.1])\n",
    "\n",
    "bch = MnistBatch(indy.create_subset(indy.indices[1:5]))"
   ]
  },
  {
   "cell_type": "code",
   "execution_count": 5,
   "metadata": {
    "collapsed": true
   },
   "outputs": [],
   "source": [
    "SIZE = 28\n",
    "BATCH_SIZE = 100\n",
    "NUM_ITERS = 400"
   ]
  },
  {
   "cell_type": "code",
   "execution_count": 12,
   "metadata": {
    "collapsed": true
   },
   "outputs": [],
   "source": [
    "config={'input': {'shape': [28, 28, 1], 'n_classes': 10},\n",
    "        'filters':  [64, 128, 256, 512],\n",
    "        'length_factor': [3, 0, 0, 0],\n",
    "        'strides': [2, 1, 1, 1],\n",
    "        'widening_factor': 4,\n",
    "        'layout': 'ca',\n",
    "        'bottleneck':False,\n",
    "        'max_pool': False,\n",
    "        'loss': 'ce',\n",
    "        'conv_params': {'conv': {'kernel_initializer': tf.contrib.layers.variance_scaling_initializer(factor=2.0), \\\n",
    "                                 'bias_initializer': tf.contrib.layers.variance_scaling_initializer(factor=2.0)}}, \\\n",
    "        'optimizer': {'name':'Adam', 'use_locking': True}\n",
    "       }"
   ]
  },
  {
   "cell_type": "code",
   "execution_count": 13,
   "metadata": {
    "collapsed": true
   },
   "outputs": [],
   "source": [
    "ppl = (mnistset.train.p\n",
    "                     .load(src=src, fmt='ndarray')\n",
    "                     .init_variable('acc_history', init_on_each_run=list)\n",
    "                     .init_model('dynamic', ResNetModel, 'MyResNet', config)\n",
    "                     .train_model('MyResNet', fetches='accuracy', feed_dict={'input_images': B('images'),\n",
    "                                         'targets': B('labels')},\n",
    "                                 save_to=V('acc_history'), mode='a'))"
   ]
  },
  {
   "cell_type": "code",
   "execution_count": 14,
   "metadata": {
    "collapsed": true
   },
   "outputs": [],
   "source": [
    "ppl_test = (mnistset.test.p\n",
    "                    .load(src=src, fmt='ndarray')\n",
    "                    .init_variable('test_acc_history', init_on_each_run=list)\n",
    "                    .import_model('MyResNet', ppl)\n",
    "                    .predict_model('MyResNet', fetches='accuracy', feed_dict={'input_images': B('images'),\n",
    "                                                                              'targets': B('labels')},\n",
    "                                   save_to=V('test_acc_history'), mode='a'))"
   ]
  },
  {
   "cell_type": "code",
   "execution_count": 15,
   "metadata": {},
   "outputs": [
    {
     "name": "stderr",
     "output_type": "stream",
     "text": [
      "100%|██████████| 800/800 [01:50<00:00,  7.27it/s]\n"
     ]
    }
   ],
   "source": [
    "for i in tqdm(range(800)):\n",
    "    ppl.next_batch(BATCH_SIZE, n_epochs=None, shuffle=True)\n",
    "    ppl_test.next_batch(BATCH_SIZE, n_epochs=None, shuffle=True)"
   ]
  },
  {
   "cell_type": "code",
   "execution_count": 16,
   "metadata": {},
   "outputs": [
    {
     "data": {
      "image/png": "[encoded data removed]",
      "text/plain": [
       "<matplotlib.figure.Figure at 0x7f6c56e84668>"
      ]
     },
     "metadata": {},
     "output_type": "display_data"
    }
   ],
   "source": [
    "draw_stats([ppl.get_variable('acc_history'), ppl_test.get_variable('test_acc_history')], \\\n",
    "           ['train', 'test'], 'Test and train accuracy')"
   ]
  },
  {
   "cell_type": "markdown",
   "metadata": {},
   "source": [
    "Average accuracy on test:"
   ]
  },
  {
   "cell_type": "code",
   "execution_count": 17,
   "metadata": {},
   "outputs": [
    {
     "data": {
      "text/plain": [
       "0.97210002"
      ]
     },
     "execution_count": 17,
     "metadata": {},
     "output_type": "execute_result"
    }
   ],
   "source": [
    "np.mean(np.array(ppl_test.get_variable('test_acc_history')[-100:]))"
   ]
  }
 ],
 "metadata": {
  "kernelspec": {
   "display_name": "Python 3",
   "language": "python",
   "name": "python3"
  },
  "language_info": {
   "codemirror_mode": {
    "name": "ipython",
    "version": 3
   },
   "file_extension": ".py",
   "mimetype": "text/x-python",
   "name": "python",
   "nbconvert_exporter": "python",
   "pygments_lexer": "ipython3",
   "version": "3.5.2"
  }
 },
 "nbformat": 4,
 "nbformat_minor": 2
}
