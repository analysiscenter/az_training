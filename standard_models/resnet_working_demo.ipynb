{
 "cells": [
  {
   "cell_type": "code",
   "execution_count": 1,
   "metadata": {},
   "outputs": [
    {
     "name": "stdout",
     "output_type": "stream",
     "text": [
      "env: CUDA_VISIBLE_DEVICE=1\n"
     ]
    }
   ],
   "source": [
    "%matplotlib inline\n",
    "%env CUDA_VISIBLE_DEVICE = 1"
   ]
  },
  {
   "cell_type": "code",
   "execution_count": 2,
   "metadata": {},
   "outputs": [],
   "source": [
    "import sys\n",
    "\n",
    "import numpy as np\n",
    "import os\n",
    "import blosc\n",
    "\n",
    "import tensorflow as tf\n",
    "import matplotlib.pyplot as plt\n",
    "import seaborn as sns\n",
    "from tqdm import tqdm\n",
    "\n",
    "from tensorflow.contrib.layers import xavier_initializer_conv2d\n",
    "# from scipy.interpolate import spline\n",
    "from collections import defaultdict\n",
    "\n",
    "sys.path.append(\"..\")\n",
    "    \n",
    "from dataset import DatasetIndex, Dataset, F, V, B\n",
    "from dataset import Batch, action, model, inbatch_parallel\n",
    "from resnet import ResNet\n",
    "from task_03.my_batch import MnistBatch\n",
    "from task_03.my_batch import draw_stats"
   ]
  },
  {
   "cell_type": "code",
   "execution_count": 3,
   "metadata": {
    "collapsed": true
   },
   "outputs": [],
   "source": [
    "src = '..//task_03'\n",
    "\n",
    "with open(os.path.join(src, 'mnist_pics.blk'), 'rb') as file:\n",
    "    full_imgs = blosc.unpack_array(file.read())\n",
    "    \n",
    "with open(os.path.join(src, 'mnist_labels.blk'), 'rb') as file:\n",
    "    full_labs = blosc.unpack_array(file.read())\n",
    "    \n",
    "src = (np.reshape(full_imgs, (65000, 28, 28)), full_labs)"
   ]
  },
  {
   "cell_type": "code",
   "execution_count": 4,
   "metadata": {
    "collapsed": true
   },
   "outputs": [],
   "source": [
    "LEN_MNIST = 65000\n",
    "indy = DatasetIndex(np.arange(LEN_MNIST))\n",
    "\n",
    "mnistset = Dataset(indy, batch_class=MnistBatch)\n",
    "mnistset.cv_split([0.9, 0.1])\n",
    "\n",
    "bch = MnistBatch(indy.create_subset(indy.indices[1:5]))"
   ]
  },
  {
   "cell_type": "code",
   "execution_count": 5,
   "metadata": {
    "collapsed": true
   },
   "outputs": [],
   "source": [
    "IMAGE_SIZE = 28\n",
    "BATCH_SIZE = 100\n",
    "NUM_ITERS = 200"
   ]
  },
  {
   "cell_type": "code",
   "execution_count": 6,
   "metadata": {
    "collapsed": true
   },
   "outputs": [],
   "source": [
    "placeholders_config = {\n",
    "                       'images': {'shape': (IMAGE_SIZE, IMAGE_SIZE, 1),\n",
    "                                 'type': 'float32',\n",
    "                                 'data_format': 'channels_last',\n",
    "                                 'name': 'reshaped_images'},\n",
    "                \n",
    "                       'labels': {'shape': 10,\n",
    "                                 'type': 'float32',\n",
    "                                 'name': 'targets'}\n",
    "                       }"
   ]
  },
  {
   "cell_type": "code",
   "execution_count": 7,
   "metadata": {},
   "outputs": [],
   "source": [
    "config={'inputs': placeholders_config,\n",
    "        'input_block_config': {'layout': 'cna', 'filters': 64, 'kernel_size': 7, 'strides': 2},\n",
    "        'filters':  [64, 128, 256, 512],\n",
    "        'length_factor': [3, 1, 0, 0],\n",
    "        'strides': [2, 1, 1, 1],\n",
    "        'layout': 'ca',\n",
    "        'bottleneck':True,\n",
    "        'loss': 'ce',\n",
    "        'dropout_rate': 0.2,\n",
    "        'conv_params': {'conv': {'kernel_initializer': tf.contrib.layers.variance_scaling_initializer(factor=2.0), \\\n",
    "                                 'bias_initializer': tf.contrib.layers.variance_scaling_initializer(factor=2.0)}}, \\\n",
    "        'optimizer': {'name':'Adam', 'use_locking': True}\n",
    "       }"
   ]
  },
  {
   "cell_type": "code",
   "execution_count": 8,
   "metadata": {
    "collapsed": true
   },
   "outputs": [],
   "source": [
    "ppl = (mnistset.train.p\n",
    "                     .load(src=src, fmt='ndarray')\n",
    "                     .init_variable('acc_history', init_on_each_run=list)\n",
    "                     .init_model('dynamic', ResNet, 'MyResNet', config)\n",
    "                     .train_model('MyResNet', fetches='accuracy', feed_dict={'images': B('images'),\n",
    "                                                                             'labels': B('labels')},\n",
    "                                 save_to=V('acc_history'), mode='a'))"
   ]
  },
  {
   "cell_type": "code",
   "execution_count": 9,
   "metadata": {
    "collapsed": true
   },
   "outputs": [],
   "source": [
    "ppl_test = (mnistset.test.p\n",
    "                    .load(src=src, fmt='ndarray')\n",
    "                    .init_variable('test_acc_history', init_on_each_run=list)\n",
    "                    .import_model('MyResNet', ppl)\n",
    "                    .predict_model('MyResNet', fetches='accuracy', feed_dict={'images': B('images'),\n",
    "                                                                              'labels': B('labels')},\n",
    "                                   save_to=V('test_acc_history'), mode='a'))"
   ]
  },
  {
   "cell_type": "code",
   "execution_count": 10,
   "metadata": {},
   "outputs": [
    {
     "name": "stderr",
     "output_type": "stream",
     "text": [
      "\r",
      "  0%|                                                                                          | 0/400 [00:00<?, ?it/s]"
     ]
    },
    {
     "name": "stdout",
     "output_type": "stream",
     "text": [
      "index  0\n",
      "block_number  0\n",
      "block_number  1\n",
      "block_number  2\n",
      "index  1\n",
      "block_number  0\n",
      "index  2\n",
      "index  3\n"
     ]
    },
    {
     "name": "stderr",
     "output_type": "stream",
     "text": [
      "100%|████████████████████████████████████████████████████████████████████████████████| 400/400 [00:22<00:00, 24.60it/s]\n"
     ]
    }
   ],
   "source": [
    "for i in tqdm(range(400)):\n",
    "    ppl.next_batch(BATCH_SIZE, n_epochs=None, shuffle=True)\n",
    "    ppl_test.next_batch(BATCH_SIZE, n_epochs=None, shuffle=True)"
   ]
  },
  {
   "cell_type": "code",
   "execution_count": 13,
   "metadata": {},
   "outputs": [
    {
     "data": {
      "image/png": "[encoded data removed]",
      "text/plain": [
       "<matplotlib.figure.Figure at 0x17076131f28>"
      ]
     },
     "metadata": {},
     "output_type": "display_data"
    }
   ],
   "source": [
    "draw_stats([ppl.get_variable('acc_history'), ppl_test.get_variable('test_acc_history')], \\\n",
    "           ['train', 'test'], 'Test and train accuracy')"
   ]
  },
  {
   "cell_type": "markdown",
   "metadata": {},
   "source": [
    "Average accuracy on test:"
   ]
  },
  {
   "cell_type": "code",
   "execution_count": 14,
   "metadata": {},
   "outputs": [
    {
     "data": {
      "text/plain": [
       "0.94899994"
      ]
     },
     "execution_count": 14,
     "metadata": {},
     "output_type": "execute_result"
    }
   ],
   "source": [
    "np.mean(np.array(ppl_test.get_variable('test_acc_history')[-100:]))"
   ]
  },
  {
   "cell_type": "code",
   "execution_count": null,
   "metadata": {
    "collapsed": true
   },
   "outputs": [],
   "source": []
  }
 ],
 "metadata": {
  "kernelspec": {
   "display_name": "Python 3",
   "language": "python",
   "name": "python3"
  },
  "language_info": {
   "codemirror_mode": {
    "name": "ipython",
    "version": 3
   },
   "file_extension": ".py",
   "mimetype": "text/x-python",
   "name": "python",
   "nbconvert_exporter": "python",
   "pygments_lexer": "ipython3",
   "version": "3.6.1"
  }
 },
 "nbformat": 4,
 "nbformat_minor": 2
}
