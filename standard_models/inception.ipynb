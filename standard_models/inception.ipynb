{
 "cells": [
  {
   "cell_type": "markdown",
   "metadata": {},
   "source": [
    "### Notebook show work of GoogLeNet model"
   ]
  },
  {
   "cell_type": "code",
   "execution_count": 1,
   "metadata": {},
   "outputs": [],
   "source": [
    "import sys\n",
    "\n",
    "import numpy as np\n",
    "import tensorflow as tf\n",
    "from pandas import ewma\n",
    "import matplotlib.pyplot as plt\n",
    "from tqdm import tqdm_notebook as tqn\n",
    "from IPython.display import clear_output\n",
    "%matplotlib inline\n",
    "\n",
    "sys.path.append('..')\n",
    "from inception import InceptionV1\n",
    "\n",
    "from dataset.dataset.opensets import MNIST\n",
    "from dataset import V,B,F"
   ]
  },
  {
   "cell_type": "code",
   "execution_count": 2,
   "metadata": {},
   "outputs": [
    {
     "name": "stdout",
     "output_type": "stream",
     "text": [
      "ExtractingExtractingExtractingExtracting  /tmp/t10k-images-idx3-ubyte.gz /tmp/train-labels-idx1-ubyte.gz\n",
      "/tmp/train-images-idx3-ubyte.gz\n",
      "\n",
      " /tmp/t10k-labels-idx1-ubyte.gz\n"
     ]
    }
   ],
   "source": [
    "mnist = MNIST()"
   ]
  },
  {
   "cell_type": "code",
   "execution_count": 3,
   "metadata": {},
   "outputs": [],
   "source": [
    "placeholders_config = {\n",
    "                       'images': {'shape': (28, 28, 1),\n",
    "                                 'dtype': 'float32',\n",
    "                                 'data_format': 'channels_last'},\n",
    "                \n",
    "                       'labels': {'shape': (10),\n",
    "                                 'dtype': 'int32',\n",
    "                                 'data_format': 'channels_last',\n",
    "                                 'transform': 'ohe',\n",
    "                                 'name': 'targets'}\n",
    "}"
   ]
  },
  {
   "cell_type": "code",
   "execution_count": 4,
   "metadata": {
    "collapsed": true
   },
   "outputs": [],
   "source": [
    "model_config = {'inputs': placeholders_config,\n",
    "               'loss':'softmax_cross_entropy',\n",
    "               'optimizer':'Adam',\n",
    "               'dim': 2,\n",
    "               'data_format':'channels_last'}"
   ]
  },
  {
   "cell_type": "code",
   "execution_count": 5,
   "metadata": {
    "collapsed": true
   },
   "outputs": [],
   "source": [
    "train_dict = {'images': B('images'),\n",
    "              'labels': B('labels')}"
   ]
  },
  {
   "cell_type": "code",
   "execution_count": null,
   "metadata": {},
   "outputs": [],
   "source": [
    "pipeline = (mnist.train\n",
    "           .p\n",
    "           .init_variable('loss', init_on_each_run=list)\n",
    "           .init_model('dynamic',\n",
    "                      InceptionV1,\n",
    "                      'googlenet',\n",
    "                      config=model_config)\n",
    "           .train_model('googlenet',\n",
    "                        fetches='loss',\n",
    "                        feed_dict=train_dict,\n",
    "                        save_to=V('loss'), mode='a'))"
   ]
  },
  {
   "cell_type": "code",
   "execution_count": null,
   "metadata": {
    "scrolled": false
   },
   "outputs": [
    {
     "data": {
      "image/png": "[encoded data removed]",
      "text/plain": [
       "<matplotlib.figure.Figure at 0x7f8a60fe9a58>"
      ]
     },
     "metadata": {},
     "output_type": "display_data"
    }
   ],
   "source": [
    "for i in tqn(range(500)):\n",
    "    pipeline.next_batch(200, n_epochs=None, shuffle=True)\n",
    "    \n",
    "    if i%10==0:\n",
    "        clear_output(True)\n",
    "        plt.plot(ewma(np.array(pipeline.get_variable('loss')[-100:]),span=10,adjust=False))\n",
    "        plt.show()"
   ]
  },
  {
   "cell_type": "code",
   "execution_count": null,
   "metadata": {
    "collapsed": true
   },
   "outputs": [],
   "source": [
    "predict = (mnist.test\n",
    "          .p\n",
    "          .init_variable('prediction', init_on_each_run=list)\n",
    "          .init_variable('image', init_on_each_run=list)\n",
    "          .init_variable('true_value', init_on_each_run=list)\n",
    "          .import_model('googlenet', pipeline)\n",
    "          .predict_model('googlenet',\n",
    "                         fetches=['images', 'labels_hat', 'labels'],\n",
    "                         feed_dict=train_dict,\n",
    "                         save_to=[V('image'), V('prediction'), V('true_value')],\n",
    "                         mode='a')).run(1, n_epochs=1)"
   ]
  },
  {
   "cell_type": "code",
   "execution_count": null,
   "metadata": {},
   "outputs": [],
   "source": [
    "images = predict.get_variable('image')\n",
    "prediction = predict.get_variable('prediction')\n",
    "true_value = predict.get_variable('true_value')\n",
    "\n",
    "_, ax = plt.subplots(3, 4, figsize=(16, 16))\n",
    "ax = ax.reshape(-1)\n",
    "plot = 0\n",
    "for i in np.random.randint(0, len(true_value), 12):\n",
    "    ax[plot].imshow(images[i].reshape(-1,28))\n",
    "    ax[plot].set_xlabel('Predict: {}, True: {}'.format(int(prediction[i][0]), int(true_value[i][0])), fontsize=18)\n",
    "    plot += 1"
   ]
  }
 ],
 "metadata": {
  "kernelspec": {
   "display_name": "Python 3",
   "language": "python",
   "name": "python3"
  },
  "language_info": {
   "codemirror_mode": {
    "name": "ipython",
    "version": 3
   },
   "file_extension": ".py",
   "mimetype": "text/x-python",
   "name": "python",
   "nbconvert_exporter": "python",
   "pygments_lexer": "ipython3",
   "version": "3.5.2"
  }
 },
 "nbformat": 4,
 "nbformat_minor": 2
}
