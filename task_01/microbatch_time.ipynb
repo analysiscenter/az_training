{
 "cells": [
  {
   "cell_type": "code",
   "execution_count": 18,
   "metadata": {},
   "outputs": [],
   "source": [
    "import numpy as np\n",
    "from tqdm import tqdm_notebook as tqm\n",
    "import matplotlib.pyplot as plt\n",
    "\n",
    "from microbatch import load, define_model, train_on_batch\n",
    "\n",
    "%matplotlib inline"
   ]
  },
  {
   "cell_type": "code",
   "execution_count": 4,
   "metadata": {
    "collapsed": true
   },
   "outputs": [],
   "source": [
    "MNIST_SIZE = 10000\n",
    "N_EPOCHS = 10\n",
    "BATCH_SIZE = 1000\n",
    "N_ITER = MNIST_SIZE // BATCH_SIZE"
   ]
  },
  {
   "cell_type": "code",
   "execution_count": 14,
   "metadata": {},
   "outputs": [
    {
     "data": {
      "application/vnd.jupyter.widget-view+json": {
       "model_id": "5d52f9465e6b418797b96dedbc2fb52d",
       "version_major": 2,
       "version_minor": 0
      },
      "text/plain": [
       "A Jupyter Widget"
      ]
     },
     "metadata": {},
     "output_type": "display_data"
    },
    {
     "name": "stdout",
     "output_type": "stream",
     "text": [
      "\n",
      "Microbatch size:  1000\n",
      "Time per iteration: 0.425385994911\n"
     ]
    }
   ],
   "source": [
    "images, labels = load(MNIST_SIZE)\n",
    "session, x_ph, y_ph, set_zero, accum_op, train_op, loss, _ = define_model()\n",
    "\n",
    "grid = np.arange(1,BATCH_SIZE+1)[(BATCH_SIZE % np.arange(1,BATCH_SIZE+1)) == 0]\n",
    "time_per_iter = []\n",
    "\n",
    "for micro_batch_size in grid:\n",
    "    times = []\n",
    "    ix = np.arange(len(images))\n",
    "    for ep in tqm(range(N_EPOCHS)):\n",
    "        np.random.shuffle(ix)\n",
    "        for it in range(N_ITER):\n",
    "            indices = ix[it * BATCH_SIZE: (it + 1) * BATCH_SIZE]\n",
    "            batch_x = images[indices]\n",
    "            batch_y = labels[indices]\n",
    "            time_it = train_on_batch(session, x_ph, y_ph, batch_x, batch_y, \n",
    "                           micro_batch_size, set_zero, accum_op, train_op)\n",
    "            times.append(time_it)\n",
    "    time_per_iter.append(np.mean(times))\n",
    "    print(\"Microbatch size: \", micro_batch_size)\n",
    "    print(\"Time per iteration:\", time_per_iter[-1])"
   ]
  },
  {
   "cell_type": "code",
   "execution_count": 23,
   "metadata": {},
   "outputs": [
    {
     "data": {
      "image/png": "[encoded data removed]",
      "text/plain": [
       "<matplotlib.figure.Figure at 0x15bf2e10>"
      ]
     },
     "metadata": {},
     "output_type": "display_data"
    }
   ],
   "source": [
    "plt.plot(grid, time_per_iter)\n",
    "plt.xlabel('Subbatch size')\n",
    "plt.ylabel('Time per iteration')\n",
    "plt.show()"
   ]
  },
  {
   "cell_type": "code",
   "execution_count": null,
   "metadata": {
    "collapsed": true
   },
   "outputs": [],
   "source": []
  }
 ],
 "metadata": {
  "kernelspec": {
   "display_name": "Python 3",
   "language": "python",
   "name": "python3"
  },
  "language_info": {
   "codemirror_mode": {
    "name": "ipython",
    "version": 3
   },
   "file_extension": ".py",
   "mimetype": "text/x-python",
   "name": "python",
   "nbconvert_exporter": "python",
   "pygments_lexer": "ipython3",
   "version": "3.6.2"
  }
 },
 "nbformat": 4,
 "nbformat_minor": 2
}
