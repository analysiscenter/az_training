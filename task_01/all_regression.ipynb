{
 "cells": [
  {
   "cell_type": "code",
   "execution_count": 1,
   "metadata": {
    "collapsed": true
   },
   "outputs": [],
   "source": [
    "from mybatch import *\n",
    "from data import *\n",
    "import numpy as np\n",
    "\n",
    "from dataset import Dataset, DatasetIndex"
   ]
  },
  {
   "cell_type": "markdown",
   "metadata": {},
   "source": [
    "## Linear regression allows solving the task where the answer is a continuous variable.\n",
    "For example: If you needed to predict the price of a house - target value. Your features - the area in square meters, the number of  windows, the number of rooms and etc. The response variable is the price of this house.\n",
    "\n",
    "Our model tries to predict this price. After the training the model will give its answer, and we need to understand how well the model predicts. \n",
    "\n",
    "If the price of house is 25000 and model predicts 23300, we can calculate the percentage of model error. In this case percentage been\n",
    "### $ 100 - \\frac{23300 * 100}{25000} = 6.79\\% $\n",
    "And if we predict a lot of prices, we can calculate the average percentage of errors.\n",
    "\n",
    "Let's train the Linear regerssion and calculate the error."
   ]
  },
  {
   "cell_type": "code",
   "execution_count": 22,
   "metadata": {
    "collapsed": true
   },
   "outputs": [],
   "source": [
    "size = 1000\n",
    "linear_x, linear_y = generate_linear_data(size=size, error_scale=1)"
   ]
  },
  {
   "cell_type": "code",
   "execution_count": 23,
   "metadata": {
    "collapsed": true
   },
   "outputs": [],
   "source": [
    "dataset = Dataset(np.arange(size), batch_class=MyBatch, preloaded=(linear_x, linear_y))\n",
    "dataset.cv_split()"
   ]
  },
  {
   "cell_type": "code",
   "execution_count": 24,
   "metadata": {
    "collapsed": true
   },
   "outputs": [],
   "source": [
    "sess = tf.Session()\n",
    "sess.run(tf.global_variables_initializer())"
   ]
  },
  {
   "cell_type": "code",
   "execution_count": 25,
   "metadata": {},
   "outputs": [
    {
     "data": {
      "text/plain": [
       "<dataset.dataset.pipeline.Pipeline at 0x7f1c15dd8128>"
      ]
     },
     "execution_count": 25,
     "metadata": {},
     "output_type": "execute_result"
    }
   ],
   "source": [
    "dict_params = {'loss': [], 'w': [], 'b': []}\n",
    "\n",
    "dataset.train.p\\\n",
    "    .load((linear_x, linear_y))\\\n",
    "    .train_linear_model(sess, dict_params)\\\n",
    "    .run(10, n_epochs=3)"
   ]
  },
  {
   "cell_type": "code",
   "execution_count": 26,
   "metadata": {},
   "outputs": [
    {
     "data": {
      "text/plain": [
       "<dataset.dataset.pipeline.Pipeline at 0x7f1c15dd06a0>"
      ]
     },
     "execution_count": 26,
     "metadata": {},
     "output_type": "execute_result"
    }
   ],
   "source": [
    "predict = []\n",
    "\n",
    "dataset.test.p\\\n",
    "    .load((linear_x, linear_y))\\\n",
    "    .predict_linear(sess, predict=predict)\\\n",
    "    .run(int(size * 0.2),n_epochs=1)"
   ]
  },
  {
   "cell_type": "code",
   "execution_count": 27,
   "metadata": {
    "scrolled": true
   },
   "outputs": [
    {
     "name": "stdout",
     "output_type": "stream",
     "text": [
      "percentage of errors: 3.788%\n"
     ]
    }
   ],
   "source": [
    "predict = np.array(predict).reshape(-1)\n",
    "target = np.array(linear_y[dataset.test.indices]).reshape(-1)\n",
    "\n",
    "percent = np.mean(np.abs((target - predict) * 100 / target))\n",
    "\n",
    "print('percentage of errors: {}%'.format(round(percent, 3)))"
   ]
  },
  {
   "cell_type": "markdown",
   "metadata": {},
   "source": [
    "# Logistic regression solve the task in the case where answer is binary (0 or 1, -1 or 1 and etc)\n",
    "For example:\n",
    "You need to predict the sex of human by weight and height. \n",
    "\n",
    "Our model can give a persentage of belonging to one of the classes, and you can choose a threshold after which\n",
    "the prediction belongs to class man or class woman.\n",
    "\n",
    "For understand how well our models work, we can predict some data and calculate the percentage of true values.\n",
    "\n",
    "Let's train model and calculate percentage of true values."
   ]
  },
  {
   "cell_type": "code",
   "execution_count": 8,
   "metadata": {
    "collapsed": true
   },
   "outputs": [],
   "source": [
    "size = 1000\n",
    "logistic_x, logistic_y = generate_logistic_data(size, [[1,2],[[15,0],[0,15]]], [[10,17],[[15,0],[0,15]]])"
   ]
  },
  {
   "cell_type": "code",
   "execution_count": 9,
   "metadata": {
    "collapsed": true
   },
   "outputs": [],
   "source": [
    "dataset = Dataset(np.arange(size), batch_class=MyBatch, preloaded=(logistic_x, logistic_y))\n",
    "dataset.cv_split()"
   ]
  },
  {
   "cell_type": "code",
   "execution_count": 10,
   "metadata": {
    "collapsed": true
   },
   "outputs": [],
   "source": [
    "sess = tf.Session()\n",
    "sess.run(tf.global_variables_initializer())"
   ]
  },
  {
   "cell_type": "code",
   "execution_count": 11,
   "metadata": {},
   "outputs": [
    {
     "data": {
      "text/plain": [
       "<dataset.dataset.pipeline.Pipeline at 0x7f1c15dc8320>"
      ]
     },
     "execution_count": 11,
     "metadata": {},
     "output_type": "execute_result"
    }
   ],
   "source": [
    "dict_params = {'loss': [], 'w': [], 'b': []}\n",
    "\n",
    "dataset.train.p\\\n",
    "    .load((logistic_x, logistic_y))\\\n",
    "    .train_logistic_model(sess, dict_params)\\\n",
    "    .run(10, n_epochs=10)"
   ]
  },
  {
   "cell_type": "code",
   "execution_count": 12,
   "metadata": {
    "scrolled": false
   },
   "outputs": [
    {
     "data": {
      "text/plain": [
       "<dataset.dataset.pipeline.Pipeline at 0x7f1c15dc8eb8>"
      ]
     },
     "execution_count": 12,
     "metadata": {},
     "output_type": "execute_result"
    }
   ],
   "source": [
    "predict = []\n",
    "\n",
    "dataset.test.p\\\n",
    "    .load((logistic_x, logistic_y))\\\n",
    "    .predict_logistic(sess, predict=predict)\\\n",
    "    .run(int(size * 0.2),n_epochs=1)"
   ]
  },
  {
   "cell_type": "code",
   "execution_count": 13,
   "metadata": {},
   "outputs": [
    {
     "name": "stdout",
     "output_type": "stream",
     "text": [
      "Percentage of true values: 98.1%\n"
     ]
    }
   ],
   "source": [
    "predict = np.array([0 if i <0.5 else 1 for i in np.array(predict).reshape(-1)])\n",
    "target = np.array(logistic_y[dataset.test.indices].reshape(-1), dtype=np.int32)\n",
    "\n",
    "percentage = np.sum(np.where(target == predict)) / len(target)\n",
    "print('Percentage of true values: {}%'.format(round(percentage, 1)))"
   ]
  },
  {
   "cell_type": "markdown",
   "metadata": {},
   "source": [
    "# poisson regression is used if the answer is count. \n",
    "For example: your task is to count the number of people in a restaurant by the time of day and time of year.\n",
    "\n",
    "But these are not permanent values, because yesterday at 14:00 there may be 5 people, and today at 14:00 there may be 6 people. And if our model predicts that tomorrow 5 people will come, but 6 come, we can not say that our model is bad, because the probability that 5 or 6 people comes very close.\n",
    "\n",
    "Therefose, we can calculate variance of true values, which show how much the number of people fluctuates at this time. After train the model, we can calculate variance of the prediction value, and if true variance be eual predict variance it means what out model is works normally.\n",
    "\n",
    "Let's fit model and percantage of errors and variance ratio."
   ]
  },
  {
   "cell_type": "code",
   "execution_count": 14,
   "metadata": {
    "collapsed": true
   },
   "outputs": [],
   "source": [
    "size = 1000\n",
    "poisson_x, poisson_y = generate_poisson_data(np.random.random(13), size)"
   ]
  },
  {
   "cell_type": "code",
   "execution_count": 15,
   "metadata": {
    "collapsed": true
   },
   "outputs": [],
   "source": [
    "dataset = Dataset(np.arange(size), batch_class=MyBatch, preloaded=(poisson_x, poisson_y))\n",
    "dataset.cv_split()"
   ]
  },
  {
   "cell_type": "code",
   "execution_count": 16,
   "metadata": {
    "collapsed": true
   },
   "outputs": [],
   "source": [
    "sess = tf.Session()\n",
    "sess.run(tf.global_variables_initializer())"
   ]
  },
  {
   "cell_type": "code",
   "execution_count": 17,
   "metadata": {},
   "outputs": [
    {
     "data": {
      "text/plain": [
       "<dataset.dataset.pipeline.Pipeline at 0x7f1c18e6bac8>"
      ]
     },
     "execution_count": 17,
     "metadata": {},
     "output_type": "execute_result"
    }
   ],
   "source": [
    "dict_params = {'loss': [], 'w': [], 'b': []}\n",
    "\n",
    "dataset.train.p\\\n",
    "    .load((poisson_x, poisson_y))\\\n",
    "    .train_poisson_model(sess, dict_params)\\\n",
    "    .run(100, n_epochs=150)"
   ]
  },
  {
   "cell_type": "code",
   "execution_count": 18,
   "metadata": {},
   "outputs": [
    {
     "data": {
      "text/plain": [
       "<dataset.dataset.pipeline.Pipeline at 0x7f1c15dd0390>"
      ]
     },
     "execution_count": 18,
     "metadata": {},
     "output_type": "execute_result"
    }
   ],
   "source": [
    "predict = []\n",
    "\n",
    "dataset.test.p\\\n",
    "    .load((poisson_x, poisson_y))\\\n",
    "    .predict_poisson(sess, predict=predict)\\\n",
    "    .run(int(size * 0.2),n_epochs=1)"
   ]
  },
  {
   "cell_type": "code",
   "execution_count": 19,
   "metadata": {},
   "outputs": [
    {
     "name": "stdout",
     "output_type": "stream",
     "text": [
      "Percentage of errors: 11.025% Variance raito: 0.919\n"
     ]
    }
   ],
   "source": [
    "predict = np.array(predict).reshape(-1)\n",
    "predict = np.array([round(i) for i in predict])\n",
    "target = np.array(poisson_y[dataset.test.indices]).reshape(-1)\n",
    "\n",
    "true_var = np.mean((target - np.mean(target))**2)\n",
    "predict_var = np.mean((predict - np.mean(predict))**2)\n",
    "\n",
    "percent = \n",
    "print('Percentage of errors: {}%'.format(round(percent, 3)), 'Variance raito: %.3f' % (predict_var / true_var))"
   ]
  }
 ],
 "metadata": {
  "kernelspec": {
   "display_name": "Python 3",
   "language": "python",
   "name": "python3"
  },
  "language_info": {
   "codemirror_mode": {
    "name": "ipython",
    "version": 3
   },
   "file_extension": ".py",
   "mimetype": "text/x-python",
   "name": "python",
   "nbconvert_exporter": "python",
   "pygments_lexer": "ipython3",
   "version": "3.5.2"
  }
 },
 "nbformat": 4,
 "nbformat_minor": 2
}
