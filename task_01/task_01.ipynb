{
 "cells": [
  {
   "cell_type": "code",
   "execution_count": 1,
   "metadata": {},
   "outputs": [],
   "source": [
    "%matplotlib inline\n",
    "from matplotlib import pyplot as plt\n",
    "import numpy as np\n",
    "import os\n",
    "import sys\n",
    "import urllib as urllib\n",
    "from tqdm import tqdm_notebook as tqdm\n",
    "import gzip\n",
    "\n",
    "sys.path.append(os.path.abspath('..\\\\dataset'))\n",
    "sys.path.append(os.path.abspath('..'))\n",
    "import dataset as ds\n",
    "from dataset.models.tf import VGG16\n",
    "from dataset.opensets import MNIST\n",
    "from dataset import B, V\n",
    "PATH_TO_MNIST = os.path.join('..', 'datasets', 'MNIST')"
   ]
  },
  {
   "cell_type": "code",
   "execution_count": 73,
   "metadata": {},
   "outputs": [
    {
     "name": "stdout",
     "output_type": "stream",
     "text": [
      "ExtractingExtractingExtracting Extracting C:\\Users\\ROMANK~1\\AppData\\Local\\Temp\\train-images-idx3-ubyte.gz  \n",
      "C:\\Users\\ROMANK~1\\AppData\\Local\\Temp\\t10k-labels-idx1-ubyte.gzC:\\Users\\ROMANK~1\\AppData\\Local\\Temp\\train-labels-idx1-ubyte.gzC:\\Users\\ROMANK~1\\AppData\\Local\\Temp\\t10k-images-idx3-ubyte.gz\n",
      "\n",
      "\n"
     ]
    }
   ],
   "source": [
    "mnist_set = MNIST(batch_class = ds.ImagesBatch)\n",
    "\n",
    "\n",
    "def get_ppl(image_size):\n",
    "    placeholders_config = {'images': {'shape':image_size,\n",
    "                                     'name': 'resized_images'},\n",
    "                           'labels': {'classes' : 10,\n",
    "                                      'transform': 'ohe',\n",
    "                                      'name': 'targets'}}\n",
    "\n",
    "    vgg_config = {'inputs': placeholders_config,\n",
    "                  'loss' : 'ce',\n",
    "                  'input_block/inputs': 'images',\n",
    "                  'output': dict(ops=['labels', 'accuracy'], data_format='channels_last'),\n",
    "                  'head/units' : [100,100,2]\n",
    "                 }\n",
    "\n",
    "    return (mnist_set.train.p\n",
    "                         .init_variable('acc_history', init_on_each_run=list)\n",
    "                         .init_model('dynamic', VGG16, 'vgg16', config=vgg_config)\n",
    "                         .resize(shape=image_size[:2])\n",
    "                         .train_model('vgg16', fetches='accuracy', feed_dict={'images': B('images'),\n",
    "                                                                              'labels': B('labels')},\n",
    "                                      save_to=V('acc_history'), mode='a'))"
   ]
  },
  {
   "cell_type": "code",
   "execution_count": 74,
   "metadata": {},
   "outputs": [],
   "source": [
    "def measure_time_execution(func, n_experiments):\n",
    "    stat = []\n",
    "    for _ in tqdm(range(n_experiments)):\n",
    "        stat.append(timeit.timeit(get_batch, number = 1))\n",
    "    return np.mean(stat), np.std(stat, ddof=1)"
   ]
  },
  {
   "cell_type": "code",
   "execution_count": 72,
   "metadata": {},
   "outputs": [],
   "source": [
    "image_sizes = [(size,size,1) for size in range(1, 50, 5)]"
   ]
  },
  {
   "cell_type": "code",
   "execution_count": null,
   "metadata": {},
   "outputs": [
    {
     "data": {
      "application/vnd.jupyter.widget-view+json": {
       "model_id": "4ab0ea82852e46b295802726630b5331",
       "version_major": 2,
       "version_minor": 0
      },
      "text/plain": [
       "A Jupyter Widget"
      ]
     },
     "metadata": {},
     "output_type": "display_data"
    },
    {
     "data": {
      "application/vnd.jupyter.widget-view+json": {
       "model_id": "f9c812e6db1f4cc9b4d174c7c0f52a7d",
       "version_major": 2,
       "version_minor": 0
      },
      "text/plain": [
       "A Jupyter Widget"
      ]
     },
     "metadata": {},
     "output_type": "display_data"
    },
    {
     "data": {
      "application/vnd.jupyter.widget-view+json": {
       "model_id": "88512cf570854e2499c944f1b0d92f56",
       "version_major": 2,
       "version_minor": 0
      },
      "text/plain": [
       "A Jupyter Widget"
      ]
     },
     "metadata": {},
     "output_type": "display_data"
    },
    {
     "data": {
      "application/vnd.jupyter.widget-view+json": {
       "model_id": "ff4d0fb7120c4f9c88f233fef3d857de",
       "version_major": 2,
       "version_minor": 0
      },
      "text/plain": [
       "A Jupyter Widget"
      ]
     },
     "metadata": {},
     "output_type": "display_data"
    },
    {
     "data": {
      "application/vnd.jupyter.widget-view+json": {
       "model_id": "f93af707d10849c582c30f61e09444e0",
       "version_major": 2,
       "version_minor": 0
      },
      "text/plain": [
       "A Jupyter Widget"
      ]
     },
     "metadata": {},
     "output_type": "display_data"
    },
    {
     "data": {
      "application/vnd.jupyter.widget-view+json": {
       "model_id": "e0ec9c70927343d4b57a805184220e28",
       "version_major": 2,
       "version_minor": 0
      },
      "text/plain": [
       "A Jupyter Widget"
      ]
     },
     "metadata": {},
     "output_type": "display_data"
    },
    {
     "data": {
      "application/vnd.jupyter.widget-view+json": {
       "model_id": "f3ea80b9d5984d4e920ca8e557b49a1d",
       "version_major": 2,
       "version_minor": 0
      },
      "text/plain": [
       "A Jupyter Widget"
      ]
     },
     "metadata": {},
     "output_type": "display_data"
    }
   ],
   "source": [
    "means = []\n",
    "stds = []\n",
    "batch_size = 10\n",
    "\n",
    "for size in tqdm(image_sizes):\n",
    "    ppl = get_ppl(size)\n",
    "    get_batch = lambda x=0 : ppl.next_batch(batch_size=batch_size, shuffle=True, n_epochs=None)\n",
    "    mean, std = measure_time_execution(get_batch, n_experiments = 10)\n",
    "    means.append(mean)\n",
    "    stds.append(std)\n",
    "    \n",
    "means=np.array(means)\n",
    "stds = np.array(stds)"
   ]
  },
  {
   "cell_type": "code",
   "execution_count": 32,
   "metadata": {},
   "outputs": [],
   "source": [
    "import timeit"
   ]
  },
  {
   "cell_type": "code",
   "execution_count": 50,
   "metadata": {},
   "outputs": [
    {
     "data": {
      "text/plain": [
       "0.24969148723573653"
      ]
     },
     "execution_count": 50,
     "metadata": {},
     "output_type": "execute_result"
    }
   ],
   "source": [
    "timeit.timeit(get_batch, number = 2)"
   ]
  },
  {
   "cell_type": "code",
   "execution_count": 45,
   "metadata": {},
   "outputs": [
    {
     "data": {
      "text/plain": [
       "array([1, 2, 1, 1])"
      ]
     },
     "execution_count": 45,
     "metadata": {},
     "output_type": "execute_result"
    }
   ],
   "source": [
    "np.r_[np.asarray([*(1,2),1]),1]"
   ]
  },
  {
   "cell_type": "code",
   "execution_count": 8,
   "metadata": {},
   "outputs": [],
   "source": [
    "np.vectorize?"
   ]
  },
  {
   "cell_type": "code",
   "execution_count": 5,
   "metadata": {},
   "outputs": [],
   "source": [
    "c = np.array([3,1,7])"
   ]
  },
  {
   "cell_type": "code",
   "execution_count": 8,
   "metadata": {},
   "outputs": [
    {
     "data": {
      "text/plain": [
       "(array([1], dtype=int64),)"
      ]
     },
     "execution_count": 8,
     "metadata": {},
     "output_type": "execute_result"
    }
   ],
   "source": [
    "np.where(c == 1)\n"
   ]
  },
  {
   "cell_type": "code",
   "execution_count": 4,
   "metadata": {},
   "outputs": [
    {
     "data": {
      "text/plain": [
       "(1, 2)"
      ]
     },
     "execution_count": 4,
     "metadata": {},
     "output_type": "execute_result"
    }
   ],
   "source": [
    "(1,2,3)[:2]"
   ]
  },
  {
   "cell_type": "code",
   "execution_count": 28,
   "metadata": {},
   "outputs": [
    {
     "data": {
      "text/plain": [
       "((2, 3), 1)"
      ]
     },
     "execution_count": 28,
     "metadata": {},
     "output_type": "execute_result"
    }
   ],
   "source": [
    "((2,3),1)"
   ]
  },
  {
   "cell_type": "code",
   "execution_count": 40,
   "metadata": {},
   "outputs": [
    {
     "data": {
      "text/plain": [
       "<dataset.batch_image.ImagesBatch at 0x191f12a80b8>"
      ]
     },
     "execution_count": 40,
     "metadata": {},
     "output_type": "execute_result"
    }
   ],
   "source": [
    "get_batch()"
   ]
  },
  {
   "cell_type": "code",
   "execution_count": null,
   "metadata": {},
   "outputs": [],
   "source": []
  }
 ],
 "metadata": {
  "kernelspec": {
   "display_name": "Python 3",
   "language": "python",
   "name": "python3"
  },
  "language_info": {
   "codemirror_mode": {
    "name": "ipython",
    "version": 3
   },
   "file_extension": ".py",
   "mimetype": "text/x-python",
   "name": "python",
   "nbconvert_exporter": "python",
   "pygments_lexer": "ipython3",
   "version": "3.6.3"
  }
 },
 "nbformat": 4,
 "nbformat_minor": 2
}
