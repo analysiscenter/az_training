{
 "cells": [
  {
   "cell_type": "code",
   "execution_count": 1,
   "metadata": {
    "collapsed": true
   },
   "outputs": [],
   "source": [
    "import numpy as np\n",
    "import matplotlib.pyplot as plt\n",
    "from time import time\n",
    "from tqdm import tqdm\n",
    "import tensorflow as tf\n",
    "import sys\n",
    "import os\n",
    "\n",
    "sys.path.append(os.path.join('..','..'))\n",
    "\n",
    "from az_training.task_01.subbatch import Subbatch\n",
    "from az_training.dataset import Dataset, DatasetIndex, action\n",
    "\n",
    "%matplotlib inline"
   ]
  },
  {
   "cell_type": "code",
   "execution_count": 2,
   "metadata": {
    "collapsed": true
   },
   "outputs": [],
   "source": [
    "BATCH_SIZE = 1000\n",
    "MNIST_SIZE = 10000\n",
    "\n",
    "ix = DatasetIndex(range(MNIST_SIZE))\n",
    "dset = Dataset(ix, Subbatch)"
   ]
  },
  {
   "cell_type": "code",
   "execution_count": 3,
   "metadata": {},
   "outputs": [
    {
     "name": "stderr",
     "output_type": "stream",
     "text": [
      "100%|██████████| 20/20 [00:10<00:00,  8.19it/s]\n",
      "100%|██████████| 20/20 [00:03<00:00,  7.15it/s]\n",
      "100%|██████████| 20/20 [00:03<00:00,  9.17it/s]\n",
      "100%|██████████| 20/20 [00:02<00:00,  9.41it/s]\n",
      "100%|██████████| 20/20 [00:02<00:00,  9.46it/s]\n"
     ]
    }
   ],
   "source": [
    "iter_time = []\n",
    "acc = []\n",
    "times = []\n",
    "grid = np.arange(1,BATCH_SIZE+1)[(BATCH_SIZE % np.arange(1,BATCH_SIZE+1)) == 0][-5:]\n",
    "for micro_batch_size in grid:\n",
    "    memory = []\n",
    "    num_subbatches = BATCH_SIZE // micro_batch_size\n",
    "    tf.reset_default_graph()\n",
    "    with tf.Session() as sess:\n",
    "        ppl = (dset.p\n",
    "               .init_variable(\"NUM_SUBBATCHES\", num_subbatches)\n",
    "               .init_variable(\"session\", sess)\n",
    "               .load_images()\n",
    "               .train(iter_time, acc)\n",
    "              )\n",
    "\n",
    "        for i in tqdm(range(20)):\n",
    "            ppl.next_batch(batch_size=BATCH_SIZE, shuffle=True, n_epochs=10)\n",
    "        times.append(np.mean(iter_time))"
   ]
  },
  {
   "cell_type": "code",
   "execution_count": 4,
   "metadata": {},
   "outputs": [
    {
     "data": {
      "image/png": "[encoded data removed]",
      "text/plain": [
       "<matplotlib.figure.Figure at 0x7f02707c36d8>"
      ]
     },
     "metadata": {},
     "output_type": "display_data"
    }
   ],
   "source": [
    "plt.figure(figsize = (15,5))\n",
    "plt.plot(times)\n",
    "plt.xticks(range(len(grid)), grid)\n",
    "plt.xlabel('Microbatch size')\n",
    "plt.ylabel('Time per iteration, s')\n",
    "plt.show()"
   ]
  }
 ],
 "metadata": {
  "kernelspec": {
   "display_name": "Python 3",
   "language": "python",
   "name": "python3"
  },
  "language_info": {
   "codemirror_mode": {
    "name": "ipython",
    "version": 3
   },
   "file_extension": ".py",
   "mimetype": "text/x-python",
   "name": "python",
   "nbconvert_exporter": "python",
   "pygments_lexer": "ipython3",
   "version": "3.5.2"
  },
  "widgets": {
   "state": {
    "1b01057b19614a669897640e8a237661": {
     "views": [
      {
       "cell_index": 2
      }
     ]
    },
    "2239c24e56d14decb69d9058013a4366": {
     "views": [
      {
       "cell_index": 2
      }
     ]
    },
    "2409c56e5712474cad8a5d46830106a6": {
     "views": [
      {
       "cell_index": 2
      }
     ]
    },
    "516d3cc882494b15892dfb6127a8f21b": {
     "views": [
      {
       "cell_index": 2
      }
     ]
    },
    "648646803e4a4ece9bd611677f5ec4e2": {
     "views": [
      {
       "cell_index": 2
      }
     ]
    },
    "658739f4b5084558b19b2916f1ace2b0": {
     "views": [
      {
       "cell_index": 2
      }
     ]
    },
    "66edc8b86e3841919204e54bac26ba95": {
     "views": [
      {
       "cell_index": 2
      }
     ]
    },
    "78b9487155be4c64b9a6e141c9da0453": {
     "views": [
      {
       "cell_index": 2
      }
     ]
    },
    "810135363acc49b1a84070ad017bdd81": {
     "views": [
      {
       "cell_index": 2
      }
     ]
    },
    "8bb967f6afce4d2191b8975cdb19660d": {
     "views": [
      {
       "cell_index": 2
      }
     ]
    },
    "9d47c051e9be497286e3639c495d17ff": {
     "views": [
      {
       "cell_index": 2
      }
     ]
    },
    "ad55f38c02004db896b0ef7e96638291": {
     "views": [
      {
       "cell_index": 2
      }
     ]
    },
    "b9363ef7a398421a82031fcea9ce1af8": {
     "views": [
      {
       "cell_index": 2
      }
     ]
    },
    "cd7e3ff22c1a4ba8a08e54ffe83f472b": {
     "views": [
      {
       "cell_index": 2
      }
     ]
    },
    "e5a06e1fd69745afa82763ee86980806": {
     "views": [
      {
       "cell_index": 2
      }
     ]
    }
   },
   "version": "1.2.0"
  }
 },
 "nbformat": 4,
 "nbformat_minor": 2
}
