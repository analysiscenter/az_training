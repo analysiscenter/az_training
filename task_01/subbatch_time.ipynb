{
 "cells": [
  {
   "cell_type": "code",
   "execution_count": 1,
   "metadata": {
    "collapsed": false
   },
   "outputs": [],
   "source": [
    "import numpy as np\n",
    "import matplotlib.pyplot as plt\n",
    "from time import time\n",
    "from tqdm import tqdm_notebook as tqm\n",
    "import tensorflow as tf\n",
    "\n",
    "from subbatch import Subbatch\n",
    "from dataset import Dataset, Batch, model, DatasetIndex, action\n",
    "\n",
    "%matplotlib inline"
   ]
  },
  {
   "cell_type": "code",
   "execution_count": 5,
   "metadata": {
    "collapsed": false
   },
   "outputs": [],
   "source": [
    "BATCHSIZE = 100\n",
    "MNISTSIZE = 1000\n",
    "\n",
    "ix = DatasetIndex(range(MNISTSIZE))\n",
    "dset = Dataset(ix, Subbatch)"
   ]
  },
  {
   "cell_type": "code",
   "execution_count": 6,
   "metadata": {
    "collapsed": false
   },
   "outputs": [
    {
     "name": "stdout",
     "output_type": "stream",
     "text": [
      "\n",
      "\n",
      "\n",
      "\n",
      "\n",
      "\n",
      "\n",
      "\n",
      "\n"
     ]
    }
   ],
   "source": [
    "iter_time = []\n",
    "acc = []\n",
    "times = []\n",
    "grid = np.arange(1,101)[(100 % np.arange(1,101)) == 0]\n",
    "for NUM_SUBBATCHES in grid:\n",
    "    tf.reset_default_graph()\n",
    "    sess = tf.Session()\n",
    "    ppl = (dset.p\n",
    "           .init_variable(\"NUM_SUBBATCHES\", NUM_SUBBATCHES)\n",
    "           .init_variable(\"session\", sess)\n",
    "           .load()\n",
    "           .train(sess,iter_time,acc)) #заснуть время сюда\n",
    "\n",
    "    for i in tqm(range(100)):\n",
    "        ppl.next_batch(batch_size=BATCHSIZE, shuffle=True, n_epochs=10)\n",
    "    times.append(np.mean(iter_time[1:]))"
   ]
  },
  {
   "cell_type": "code",
   "execution_count": 7,
   "metadata": {
    "collapsed": false
   },
   "outputs": [
    {
     "data": {
      "image/png": "[encoded data removed]",
      "text/plain": [
       "<matplotlib.figure.Figure at 0xc72b518>"
      ]
     },
     "metadata": {},
     "output_type": "display_data"
    }
   ],
   "source": [
    "plt.plot(grid, times)\n",
    "plt.xlabel('Number of subbatches')\n",
    "plt.ylabel('Timer per iteration')\n",
    "plt.show()"
   ]
  },
  {
   "cell_type": "code",
   "execution_count": null,
   "metadata": {
    "collapsed": true
   },
   "outputs": [],
   "source": []
  }
 ],
 "metadata": {
  "kernelspec": {
   "display_name": "Python 3",
   "language": "python",
   "name": "python3"
  },
  "language_info": {
   "codemirror_mode": {
    "name": "ipython",
    "version": 3
   },
   "file_extension": ".py",
   "mimetype": "text/x-python",
   "name": "python",
   "nbconvert_exporter": "python",
   "pygments_lexer": "ipython3",
   "version": "3.6.0"
  },
  "widgets": {
   "state": {
    "0083445950bd4efa8114dd6c4ed2b288": {
     "views": [
      {
       "cell_index": 2
      }
     ]
    },
    "03ecb5ba74d54c61bd28f3dca8ecefea": {
     "views": [
      {
       "cell_index": 2
      }
     ]
    },
    "04eb50d2d6444d8c9ddf729109cacfd0": {
     "views": [
      {
       "cell_index": 2
      }
     ]
    },
    "0c6f47e043d44e1192782ad3384ff404": {
     "views": [
      {
       "cell_index": 2
      }
     ]
    },
    "14363d31a7f34ce5a88882cdff2f0137": {
     "views": [
      {
       "cell_index": 2
      }
     ]
    },
    "238b5c7db1494cee9c1c5b85acdd1720": {
     "views": [
      {
       "cell_index": 2
      }
     ]
    },
    "3d1fd2b6958145da9feb3c58e2658398": {
     "views": [
      {
       "cell_index": 2
      }
     ]
    },
    "5d9a277ed29844e7b65c39f70d362318": {
     "views": [
      {
       "cell_index": 2
      }
     ]
    },
    "6f4d76b2ac3241bba73943830a4b457b": {
     "views": [
      {
       "cell_index": 2
      }
     ]
    },
    "8002369cde134c3f83bc02540ab5ab7d": {
     "views": [
      {
       "cell_index": 2
      }
     ]
    },
    "b12be19d911d4b0c89e44c0e7ea3406f": {
     "views": [
      {
       "cell_index": 2
      }
     ]
    },
    "b60ca31355954d6ab2ca965afaee706a": {
     "views": [
      {
       "cell_index": 2
      }
     ]
    },
    "cabbaddba57c47bc9517fc27b5451bed": {
     "views": [
      {
       "cell_index": 2
      }
     ]
    },
    "d32f5dcfde474c4eb62d541621441e81": {
     "views": [
      {
       "cell_index": 2
      }
     ]
    }
   },
   "version": "1.2.0"
  }
 },
 "nbformat": 4,
 "nbformat_minor": 2
}
