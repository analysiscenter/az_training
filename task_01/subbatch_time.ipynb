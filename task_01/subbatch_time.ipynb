{
 "cells": [
  {
   "cell_type": "code",
   "execution_count": 1,
   "metadata": {},
   "outputs": [],
   "source": [
    "import numpy as np\n",
    "import matplotlib.pyplot as plt\n",
    "from time import time\n",
    "from tqdm import tqdm_notebook as tqm\n",
    "import tensorflow as tf\n",
    "\n",
    "from subbatch import Subbatch\n",
    "from dataset import Dataset, Batch, model, DatasetIndex, action\n",
    "\n",
    "%matplotlib inline"
   ]
  },
  {
   "cell_type": "code",
   "execution_count": 2,
   "metadata": {},
   "outputs": [],
   "source": [
    "BATCHSIZE = 1000\n",
    "MNISTSIZE = 65000\n",
    "\n",
    "ix = DatasetIndex(range(MNISTSIZE))\n",
    "dset = Dataset(ix, Subbatch)"
   ]
  },
  {
   "cell_type": "code",
   "execution_count": 3,
   "metadata": {},
   "outputs": [
    {
     "data": {
      "application/vnd.jupyter.widget-view+json": {
       "model_id": "9147e9e173cd4df5a67feb7af44f44ba",
       "version_major": 2,
       "version_minor": 0
      },
      "text/plain": [
       "A Jupyter Widget"
      ]
     },
     "metadata": {},
     "output_type": "display_data"
    },
    {
     "name": "stdout",
     "output_type": "stream",
     "text": [
      "\n"
     ]
    },
    {
     "data": {
      "application/vnd.jupyter.widget-view+json": {
       "model_id": "6d0bb5cf143a44ec8b42a0c455eb8eb9",
       "version_major": 2,
       "version_minor": 0
      },
      "text/plain": [
       "A Jupyter Widget"
      ]
     },
     "metadata": {},
     "output_type": "display_data"
    },
    {
     "name": "stdout",
     "output_type": "stream",
     "text": [
      "\n"
     ]
    },
    {
     "data": {
      "application/vnd.jupyter.widget-view+json": {
       "model_id": "6de46b2831aa4c2a9fb0c8e3f5f27300",
       "version_major": 2,
       "version_minor": 0
      },
      "text/plain": [
       "A Jupyter Widget"
      ]
     },
     "metadata": {},
     "output_type": "display_data"
    },
    {
     "name": "stdout",
     "output_type": "stream",
     "text": [
      "\n"
     ]
    },
    {
     "data": {
      "application/vnd.jupyter.widget-view+json": {
       "model_id": "8f22bce49ebf4017a031f18929518aac",
       "version_major": 2,
       "version_minor": 0
      },
      "text/plain": [
       "A Jupyter Widget"
      ]
     },
     "metadata": {},
     "output_type": "display_data"
    },
    {
     "name": "stdout",
     "output_type": "stream",
     "text": [
      "\n"
     ]
    },
    {
     "data": {
      "application/vnd.jupyter.widget-view+json": {
       "model_id": "9440464cebb34171b3114cabac88d2cd",
       "version_major": 2,
       "version_minor": 0
      },
      "text/plain": [
       "A Jupyter Widget"
      ]
     },
     "metadata": {},
     "output_type": "display_data"
    },
    {
     "name": "stdout",
     "output_type": "stream",
     "text": [
      "\n"
     ]
    },
    {
     "data": {
      "application/vnd.jupyter.widget-view+json": {
       "model_id": "adf3cb48186f47bfa5cc5095a9f7e31b",
       "version_major": 2,
       "version_minor": 0
      },
      "text/plain": [
       "A Jupyter Widget"
      ]
     },
     "metadata": {},
     "output_type": "display_data"
    },
    {
     "name": "stdout",
     "output_type": "stream",
     "text": [
      "\n"
     ]
    },
    {
     "data": {
      "application/vnd.jupyter.widget-view+json": {
       "model_id": "f84b7497828744aea81732ef9df3286c",
       "version_major": 2,
       "version_minor": 0
      },
      "text/plain": [
       "A Jupyter Widget"
      ]
     },
     "metadata": {},
     "output_type": "display_data"
    },
    {
     "name": "stdout",
     "output_type": "stream",
     "text": [
      "\n"
     ]
    },
    {
     "data": {
      "application/vnd.jupyter.widget-view+json": {
       "model_id": "b5d8d69f5ec74a0b9a6fe78aa96b168c",
       "version_major": 2,
       "version_minor": 0
      },
      "text/plain": [
       "A Jupyter Widget"
      ]
     },
     "metadata": {},
     "output_type": "display_data"
    },
    {
     "name": "stdout",
     "output_type": "stream",
     "text": [
      "\n"
     ]
    },
    {
     "data": {
      "application/vnd.jupyter.widget-view+json": {
       "model_id": "6ef0e2d3b35f40d897bd8a213e3d00ec",
       "version_major": 2,
       "version_minor": 0
      },
      "text/plain": [
       "A Jupyter Widget"
      ]
     },
     "metadata": {},
     "output_type": "display_data"
    },
    {
     "name": "stdout",
     "output_type": "stream",
     "text": [
      "\n"
     ]
    },
    {
     "data": {
      "application/vnd.jupyter.widget-view+json": {
       "model_id": "5152bb54ab334ea48b0009a67ae24f37",
       "version_major": 2,
       "version_minor": 0
      },
      "text/plain": [
       "A Jupyter Widget"
      ]
     },
     "metadata": {},
     "output_type": "display_data"
    },
    {
     "name": "stdout",
     "output_type": "stream",
     "text": [
      "\n"
     ]
    },
    {
     "data": {
      "application/vnd.jupyter.widget-view+json": {
       "model_id": "bd96149080eb48879b20bc570a2726fa",
       "version_major": 2,
       "version_minor": 0
      },
      "text/plain": [
       "A Jupyter Widget"
      ]
     },
     "metadata": {},
     "output_type": "display_data"
    },
    {
     "name": "stdout",
     "output_type": "stream",
     "text": [
      "\n"
     ]
    },
    {
     "data": {
      "application/vnd.jupyter.widget-view+json": {
       "model_id": "3fc7456c42b943e6844bfc77407f7ed7",
       "version_major": 2,
       "version_minor": 0
      },
      "text/plain": [
       "A Jupyter Widget"
      ]
     },
     "metadata": {},
     "output_type": "display_data"
    },
    {
     "name": "stdout",
     "output_type": "stream",
     "text": [
      "\n"
     ]
    },
    {
     "data": {
      "application/vnd.jupyter.widget-view+json": {
       "model_id": "a00452796c8c4d4d8c8c4b1315c4aeeb",
       "version_major": 2,
       "version_minor": 0
      },
      "text/plain": [
       "A Jupyter Widget"
      ]
     },
     "metadata": {},
     "output_type": "display_data"
    },
    {
     "name": "stdout",
     "output_type": "stream",
     "text": [
      "\n"
     ]
    },
    {
     "data": {
      "application/vnd.jupyter.widget-view+json": {
       "model_id": "c943080a1bac45d78eeb328d5c5c41d0",
       "version_major": 2,
       "version_minor": 0
      },
      "text/plain": [
       "A Jupyter Widget"
      ]
     },
     "metadata": {},
     "output_type": "display_data"
    },
    {
     "name": "stdout",
     "output_type": "stream",
     "text": [
      "\n"
     ]
    },
    {
     "data": {
      "application/vnd.jupyter.widget-view+json": {
       "model_id": "f42dcf16560f40b6ac96cdcec24c2f37",
       "version_major": 2,
       "version_minor": 0
      },
      "text/plain": [
       "A Jupyter Widget"
      ]
     },
     "metadata": {},
     "output_type": "display_data"
    },
    {
     "name": "stdout",
     "output_type": "stream",
     "text": [
      "\n"
     ]
    }
   ],
   "source": [
    "iter_time = []\n",
    "acc = []\n",
    "times = []\n",
    "grid = np.arange(1,BATCHSIZE)[(BATCHSIZE % np.arange(1,BATCHSIZE)) == 0]\n",
    "for NUM_SUBBATCHES in grid:\n",
    "    tf.reset_default_graph()\n",
    "    with tf.Session() as sess:\n",
    "        ppl = (dset.p\n",
    "               .init_variable(\"NUM_SUBBATCHES\", NUM_SUBBATCHES)\n",
    "               .init_variable(\"session\", sess)\n",
    "               .load()\n",
    "               .train(iter_time,acc)\n",
    "              )\n",
    "\n",
    "        for i in tqm(range(10)):\n",
    "            ppl.next_batch(batch_size=BATCHSIZE, shuffle=True, n_epochs=10)\n",
    "        times.append(np.mean(iter_time[1:]))"
   ]
  },
  {
   "cell_type": "code",
   "execution_count": 4,
   "metadata": {},
   "outputs": [
    {
     "data": {
      "image/png": "[encoded data removed]",
      "text/plain": [
       "<matplotlib.figure.Figure at 0xc7adcf8>"
      ]
     },
     "metadata": {},
     "output_type": "display_data"
    }
   ],
   "source": [
    "plt.plot(grid, times)\n",
    "plt.xlabel('Number of subbatches')\n",
    "plt.ylabel('Time per iteration')\n",
    "plt.show()"
   ]
  },
  {
   "cell_type": "code",
   "execution_count": null,
   "metadata": {
    "collapsed": true
   },
   "outputs": [],
   "source": []
  }
 ],
 "metadata": {
  "kernelspec": {
   "display_name": "Python 3",
   "language": "python",
   "name": "python3"
  },
  "language_info": {
   "codemirror_mode": {
    "name": "ipython",
    "version": 3
   },
   "file_extension": ".py",
   "mimetype": "text/x-python",
   "name": "python",
   "nbconvert_exporter": "python",
   "pygments_lexer": "ipython3",
   "version": "3.6.2"
  },
  "widgets": {
   "state": {
    "1b01057b19614a669897640e8a237661": {
     "views": [
      {
       "cell_index": 2
      }
     ]
    },
    "2239c24e56d14decb69d9058013a4366": {
     "views": [
      {
       "cell_index": 2
      }
     ]
    },
    "2409c56e5712474cad8a5d46830106a6": {
     "views": [
      {
       "cell_index": 2
      }
     ]
    },
    "516d3cc882494b15892dfb6127a8f21b": {
     "views": [
      {
       "cell_index": 2
      }
     ]
    },
    "648646803e4a4ece9bd611677f5ec4e2": {
     "views": [
      {
       "cell_index": 2
      }
     ]
    },
    "658739f4b5084558b19b2916f1ace2b0": {
     "views": [
      {
       "cell_index": 2
      }
     ]
    },
    "66edc8b86e3841919204e54bac26ba95": {
     "views": [
      {
       "cell_index": 2
      }
     ]
    },
    "78b9487155be4c64b9a6e141c9da0453": {
     "views": [
      {
       "cell_index": 2
      }
     ]
    },
    "810135363acc49b1a84070ad017bdd81": {
     "views": [
      {
       "cell_index": 2
      }
     ]
    },
    "8bb967f6afce4d2191b8975cdb19660d": {
     "views": [
      {
       "cell_index": 2
      }
     ]
    },
    "9d47c051e9be497286e3639c495d17ff": {
     "views": [
      {
       "cell_index": 2
      }
     ]
    },
    "ad55f38c02004db896b0ef7e96638291": {
     "views": [
      {
       "cell_index": 2
      }
     ]
    },
    "b9363ef7a398421a82031fcea9ce1af8": {
     "views": [
      {
       "cell_index": 2
      }
     ]
    },
    "cd7e3ff22c1a4ba8a08e54ffe83f472b": {
     "views": [
      {
       "cell_index": 2
      }
     ]
    },
    "e5a06e1fd69745afa82763ee86980806": {
     "views": [
      {
       "cell_index": 2
      }
     ]
    }
   },
   "version": "1.2.0"
  }
 },
 "nbformat": 4,
 "nbformat_minor": 2
}
