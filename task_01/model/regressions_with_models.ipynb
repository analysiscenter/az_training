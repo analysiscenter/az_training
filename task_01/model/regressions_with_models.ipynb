{
 "cells": [
  {
   "cell_type": "code",
   "execution_count": 1,
   "metadata": {},
   "outputs": [],
   "source": [
    "import sys\n",
    "\n",
    "import numpy as np\n",
    "\n",
    "import tensorflow as tf\n",
    "import matplotlib.pyplot as plt\n",
    "%matplotlib inline\n",
    "\n",
    "from models import InitBatch,\\\n",
    "                   LinearRegression, \\\n",
    "                   LogisticRegression,\\\n",
    "                   PoissonRegression\n",
    "from data_generator import generate_linear_data, \\\n",
    "                           generate_logistic_data, \\\n",
    "                           generate_poisson_data\n",
    "\n",
    "from dataset import Dataset, DatasetIndex"
   ]
  },
  {
   "cell_type": "code",
   "execution_count": 2,
   "metadata": {
    "collapsed": true
   },
   "outputs": [],
   "source": [
    "plt.style.use('seaborn-poster')\n",
    "plt.style.use('ggplot')"
   ]
  },
  {
   "cell_type": "code",
   "execution_count": 3,
   "metadata": {
    "collapsed": true
   },
   "outputs": [],
   "source": [
    "size = 1000\n",
    "linear_x, linear_y = generate_linear_data(size=size)"
   ]
  },
  {
   "cell_type": "code",
   "execution_count": 4,
   "metadata": {
    "collapsed": true
   },
   "outputs": [],
   "source": [
    "dataset = Dataset(np.arange(size), batch_class=InitBatch)\n",
    "dataset.cv_split()"
   ]
  },
  {
   "cell_type": "markdown",
   "metadata": {},
   "source": [
    "### linear"
   ]
  },
  {
   "cell_type": "code",
   "execution_count": 5,
   "metadata": {
    "scrolled": false
   },
   "outputs": [],
   "source": [
    "BATCH_SIZE = 100\n",
    "train_pp = (dataset.train.p\n",
    "                .load((linear_x, linear_y))\n",
    "                .init_variable('current_loss', init_on_each_run=0)\n",
    "                .init_model('static',\n",
    "                            LinearRegression,\n",
    "                            'linear_1',\n",
    "                            config={'loss': 'mse',\n",
    "                                    'optimizer': {'name':'GradientDescentOptimizer',\n",
    "                                                  'learning_rate': 0.01},\n",
    "                                    'data_shape': 13})\n",
    "                .train_model('linear_1', \n",
    "                             fetches='loss',\n",
    "                             feed_dict={'input_data': 'input_data',\n",
    "                                        'targets': 'labels'},\n",
    "                             save_to='current_loss')\n",
    "                .run(BATCH_SIZE, shuffle=True, n_epochs=100))"
   ]
  },
  {
   "cell_type": "code",
   "execution_count": 6,
   "metadata": {
    "scrolled": true
   },
   "outputs": [
    {
     "name": "stdout",
     "output_type": "stream",
     "text": [
      "mse loss:  0.0325463\n"
     ]
    }
   ],
   "source": [
    "print('mse loss: ', train_pp.get_variable('current_loss'))"
   ]
  },
  {
   "cell_type": "markdown",
   "metadata": {},
   "source": [
    "### logistic"
   ]
  },
  {
   "cell_type": "code",
   "execution_count": 7,
   "metadata": {
    "collapsed": true
   },
   "outputs": [],
   "source": [
    "size = 500\n",
    "logistic_x, logistic_y = generate_logistic_data(size, [[1,2],[[15,0],[0,15]]], [[10,17],[[15,0],[0,15]]])"
   ]
  },
  {
   "cell_type": "code",
   "execution_count": 8,
   "metadata": {
    "scrolled": false
   },
   "outputs": [
    {
     "name": "stdout",
     "output_type": "stream",
     "text": [
      "INFO:tensorflow:logits.dtype=<dtype: 'float32'>.\n",
      "INFO:tensorflow:multi_class_labels.dtype=<dtype: 'float32'>.\n",
      "INFO:tensorflow:losses.dtype=<dtype: 'float32'>.\n"
     ]
    }
   ],
   "source": [
    "BATCH_SIZE=100\n",
    "train_pp = (dataset.train.p\n",
    "                .load((logistic_x, logistic_y))\n",
    "                .init_variable('current_loss', init_on_each_run=list)\n",
    "                .init_model('static', LogisticRegression, 'logistic',\n",
    "                            config={'loss': 'sigmoid_cross_entropy',\n",
    "                                    'optimizer': {'name':'Adam', 'learning_rate':0.01},\n",
    "                                    'data_shape': 13})\n",
    "                .train_model('logistic', fetches='loss', feed_dict={'input_data': 'input_data',\n",
    "                                                                'targets': 'labels'},\n",
    "                             save_to='current_loss')\n",
    "                .run(BATCH_SIZE, shuffle=True, n_epochs=100))"
   ]
  },
  {
   "cell_type": "code",
   "execution_count": 9,
   "metadata": {},
   "outputs": [
    {
     "name": "stdout",
     "output_type": "stream",
     "text": [
      "cross entropy loss:  0.237129\n"
     ]
    }
   ],
   "source": [
    "print('cross entropy loss: ', train_pp.get_variable('current_loss'))"
   ]
  },
  {
   "cell_type": "markdown",
   "metadata": {},
   "source": [
    "### Poisson"
   ]
  },
  {
   "cell_type": "code",
   "execution_count": 10,
   "metadata": {
    "collapsed": true
   },
   "outputs": [],
   "source": [
    "size = 1000\n",
    "NUM_DIM = 13\n",
    "poisson_x, poisson_y = generate_poisson_data(np.random.random(NUM_DIM), size)"
   ]
  },
  {
   "cell_type": "code",
   "execution_count": 11,
   "metadata": {
    "collapsed": true
   },
   "outputs": [],
   "source": [
    "def loss_poisson(target, predictions):\n",
    "    return tf.reduce_mean(tf.nn.log_poisson_loss(target, predictions))"
   ]
  },
  {
   "cell_type": "code",
   "execution_count": 12,
   "metadata": {
    "collapsed": true
   },
   "outputs": [],
   "source": [
    "BATCH_SIZE=100\n",
    "train_pp = (dataset.train.p\n",
    "                .load((poisson_x, poisson_y))\n",
    "                .init_variable('current_loss', init_on_each_run=list)\n",
    "                .init_model('static', PoissonRegression, 'poisson',\n",
    "                            config={'loss': loss_poisson,\n",
    "                                    'optimizer': {'name':'Adam', 'learning_rate':0.02},\n",
    "                                    'data_shape': 13})\n",
    "                .train_model('poisson', fetches='loss', feed_dict={'input_data': 'input_data',\n",
    "                                                                'targets': 'labels'},\n",
    "                             save_to='current_loss')\n",
    "                .run(BATCH_SIZE, shuffle=True, n_epochs=150))"
   ]
  },
  {
   "cell_type": "code",
   "execution_count": 13,
   "metadata": {
    "collapsed": true
   },
   "outputs": [],
   "source": [
    "test_pp = (dataset.test.p\n",
    "                .load((poisson_x, poisson_y))\n",
    "                .import_model('poisson', train_pp)\n",
    "                .init_variable('all_predictions', init_on_each_run=list)\n",
    "                .init_variable('answers', init_on_each_run=list)\n",
    "                .predict_model('poisson', fetches=['predicted_labels', 'targets'], feed_dict={'input_data': 'input_data',\n",
    "                                                                              'targets': 'labels'},\n",
    "                               append_to=['all_predictions', 'answers'])\n",
    "                .run(BATCH_SIZE, shuffle=True, n_epochs=1))"
   ]
  },
  {
   "cell_type": "code",
   "execution_count": 14,
   "metadata": {},
   "outputs": [
    {
     "name": "stdout",
     "output_type": "stream",
     "text": [
      "Percentage of errors: 10.826% Variance ratio: 0.988\n"
     ]
    }
   ],
   "source": [
    "pred = np.array(test_pp.get_variable('all_predictions')).reshape(-1)\n",
    "target = np.array(test_pp.get_variable('answers')).reshape(-1)\n",
    "\n",
    "\n",
    "true_var = np.mean((target - np.mean(target))**2)\n",
    "predict_var = np.mean((pred - np.mean(pred))**2)\n",
    "\n",
    "percent = np.mean(np.abs(pred - target))/np.mean(target)*100\n",
    "print('Percentage of errors: {}%'.format(round(percent, 3)), 'Variance ratio: %.3f' % (predict_var / true_var))"
   ]
  }
 ],
 "metadata": {
  "kernelspec": {
   "display_name": "Python 3",
   "language": "python",
   "name": "python3"
  },
  "language_info": {
   "codemirror_mode": {
    "name": "ipython",
    "version": 3
   },
   "file_extension": ".py",
   "mimetype": "text/x-python",
   "name": "python",
   "nbconvert_exporter": "python",
   "pygments_lexer": "ipython3",
   "version": "3.5.2"
  }
 },
 "nbformat": 4,
 "nbformat_minor": 2
}
