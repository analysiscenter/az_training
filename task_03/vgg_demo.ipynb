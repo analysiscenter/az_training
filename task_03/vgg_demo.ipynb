{
 "cells": [
  {
   "cell_type": "markdown",
   "metadata": {},
   "source": [
    "# VGG for MNIST classification"
   ]
  },
  {
   "cell_type": "code",
   "execution_count": 1,
   "metadata": {
    "collapsed": true
   },
   "outputs": [],
   "source": [
    "import sys\n",
    "import tensorflow as tf\n",
    "import numpy as np\n",
    "from matplotlib.pyplot import matplotlib\n",
    "\n",
    "sys.path.append(\"..\")\n",
    "\n",
    "from dataset.dataset.opensets import MNIST\n",
    "from vgg import VGGModel\n",
    "\n",
    "%matplotlib inline"
   ]
  },
  {
   "cell_type": "code",
   "execution_count": 2,
   "metadata": {},
   "outputs": [
    {
     "name": "stdout",
     "output_type": "stream",
     "text": [
      "Extracting ExtractingExtracting/tmp/train-images-idx3-ubyte.gz Extracting\n",
      " /tmp/train-labels-idx1-ubyte.gz /tmp/t10k-labels-idx1-ubyte.gz/tmp/t10k-images-idx3-ubyte.gz\n",
      "\n",
      "\n"
     ]
    }
   ],
   "source": [
    "BATCH_SIZE = 256\n",
    "mnist = MNIST()"
   ]
  },
  {
   "cell_type": "code",
   "execution_count": 3,
   "metadata": {
    "collapsed": true
   },
   "outputs": [],
   "source": [
    "model_config = {'session': {'config': tf.ConfigProto()},\n",
    "                'loss': 'sigmoid_cross_entropy',\n",
    "                'optimizer': {'name':'Adam',\n",
    "                              'use_locking': True},\n",
    "                'vgg_arch': 'VGG19',\n",
    "                'images_shape': (28, 28, 1),\n",
    "                'n_classes': 10,\n",
    "                'b_norm': True,\n",
    "                'momentum': 0.1}\n",
    "\n",
    "feed_dict_train={'images': 'images', \n",
    "                 'labels': 'labels',\n",
    "                 'training': True}\n",
    "\n",
    "feed_dict_test={'images': 'images', \n",
    "                'labels': 'labels',\n",
    "                'training': False}"
   ]
  },
  {
   "cell_type": "code",
   "execution_count": 4,
   "metadata": {},
   "outputs": [
    {
     "name": "stdout",
     "output_type": "stream",
     "text": [
      "INFO:tensorflow:logits.dtype=<dtype: 'float32'>.\n",
      "INFO:tensorflow:multi_class_labels.dtype=<dtype: 'float32'>.\n",
      "INFO:tensorflow:losses.dtype=<dtype: 'float32'>.\n"
     ]
    },
    {
     "data": {
      "text/plain": [
       "<dataset.dataset.pipeline.Pipeline at 0x7f77485cea90>"
      ]
     },
     "execution_count": 4,
     "metadata": {},
     "output_type": "execute_result"
    }
   ],
   "source": [
    "train_pp = (mnist.train.p\n",
    "            .init_variable('loss_history', init_on_each_run=list)\n",
    "            .init_variable('current_loss', init_on_each_run=0)\n",
    "            .init_variable('pred_label', init_on_each_run=list)\n",
    "            .init_model('static', VGGModel, 'VGG', config=model_config)\n",
    "            .train_model('VGG', \n",
    "                         fetches=['loss', 'predicted_labels'], \n",
    "                         feed_dict=feed_dict_train, \n",
    "                         save_to=['current_loss', 'pred_label'])\n",
    "            .save_to_variable('loss_history', var='current_loss', mode='a'))\n",
    "\n",
    "train_pp.run(BATCH_SIZE, shuffle=True, n_epochs=1, drop_last=False)"
   ]
  },
  {
   "cell_type": "code",
   "execution_count": 7,
   "metadata": {
    "collapsed": true
   },
   "outputs": [],
   "source": [
    "test_pp = (mnist.test.p\n",
    "           .import_model('VGG', train_pp)\n",
    "           .init_variable('all_predictions', init_on_each_run=list)\n",
    "           .predict_model('VGG',\n",
    "                          fetches='predicted_labels',\n",
    "                          feed_dict=feed_dict_test,\n",
    "                          append_to='all_predictions'))\n",
    "\n",
    "batch = test_pp.next_batch(10, shuffle=True, n_epochs=1, drop_last=False)"
   ]
  },
  {
   "cell_type": "code",
   "execution_count": 8,
   "metadata": {},
   "outputs": [
    {
     "name": "stdout",
     "output_type": "stream",
     "text": [
      "Predictions:  [7 7 0 0 1 7 7 1 0 0]\n",
      "Labels:  [7 7 6 0 1 4 7 1 6 6]\n"
     ]
    }
   ],
   "source": [
    "print('Predictions: ', test_pp.get_variable('all_predictions')[0])\n",
    "print('Labels: ', batch.data.labels)"
   ]
  }
 ],
 "metadata": {
  "kernelspec": {
   "display_name": "Python 3",
   "language": "python",
   "name": "python3"
  },
  "language_info": {
   "codemirror_mode": {
    "name": "ipython",
    "version": 3
   },
   "file_extension": ".py",
   "mimetype": "text/x-python",
   "name": "python",
   "nbconvert_exporter": "python",
   "pygments_lexer": "ipython3",
   "version": "3.6.2"
  }
 },
 "nbformat": 4,
 "nbformat_minor": 2
}
