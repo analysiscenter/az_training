{
 "cells": [
  {
   "cell_type": "code",
   "execution_count": 62,
   "metadata": {
    "collapsed": true
   },
   "outputs": [],
   "source": [
    "import numpy as np\n",
    "import pickle\n",
    "\n",
    "SIZE = 64\n",
    "\n",
    "def load_images():\n",
    "    \"\"\"Load MNIST images from file.\"\"\"\n",
    "    with open('../mnist/mnist_pics.pkl', 'rb') as file:\n",
    "        images = pickle.load(file)\n",
    "    return images\n",
    "\n",
    "def uniform_fragments(*args, **kwargs):\n",
    "    size = kwargs['size']\n",
    "    n_fragments = kwargs['n_fragments']\n",
    "    xs = np.random.randint(0, 28 - size, n_fragments)\n",
    "    ys = np.random.randint(0, 28 - size, n_fragments)\n",
    "    return xs, ys\n",
    "\n",
    "def uniform(size):\n",
    "    return np.random.randint(0, SIZE-size, 2)\n",
    "\n",
    "def normal(size):\n",
    "    return list(map(int, np.random.normal(SIZE/2, SIZE/4, 2)))\n",
    "\n",
    "def crop_images(images, coordinates):\n",
    "    images_for_noise = []\n",
    "    for i in range(len(images)):\n",
    "        image = images[i]\n",
    "        coord = coordinates[i]\n",
    "        images_for_noise.append(image[coord[0]:coord[0] + 28, coord[1]:coord[1] + 28])\n",
    "    return images_for_noise\n",
    "\n",
    "def create_fragments(images, size, distr):\n",
    "    \"\"\"Cut fragment from each.\"\"\"\n",
    "    fragments = []\n",
    "    for image in images:\n",
    "        x, y = np.random.randint(0, 28-size, 2)\n",
    "        fragments.append(image[x:x+size, y:y+size])\n",
    "    return fragments\n",
    "\n",
    "\n",
    "def arrange_fragments(image, fragments, distr, level):\n",
    "    for fragment in fragments:\n",
    "        size = fragment.shape[0]\n",
    "        x_fragment, y_fragment = globals()[distr](size)\n",
    "        image_to_change = image[x_fragment:x_fragment+size, y_fragment:y_fragment+size]\n",
    "        height_to_change, width_to_change = image_to_change.shape\n",
    "        image_to_change = np.max([level*fragment[:height_to_change, :width_to_change], image_to_change], axis=0)\n",
    "        image[x_fragment:x_fragment+size, y_fragment:y_fragment+size] = image_to_change\n",
    "    return image"
   ]
  },
  {
   "cell_type": "code",
   "execution_count": 63,
   "metadata": {},
   "outputs": [
    {
     "ename": "IndexError",
     "evalue": "invalid index to scalar variable.",
     "output_type": "error",
     "traceback": [
      "\u001b[1;31m---------------------------------------------------------------------------\u001b[0m",
      "\u001b[1;31mIndexError\u001b[0m                                Traceback (most recent call last)",
      "\u001b[1;32m<ipython-input-63-962e4c37fc27>\u001b[0m in \u001b[0;36m<module>\u001b[1;34m()\u001b[0m\n\u001b[0;32m     19\u001b[0m \u001b[0mimages_for_noise\u001b[0m \u001b[1;33m=\u001b[0m \u001b[0mcrop_images\u001b[0m\u001b[1;33m(\u001b[0m\u001b[0mimages\u001b[0m\u001b[1;33m,\u001b[0m \u001b[0mcoordinates\u001b[0m\u001b[1;33m)\u001b[0m\u001b[1;33m\u001b[0m\u001b[0m\n\u001b[0;32m     20\u001b[0m \u001b[0mfragments\u001b[0m \u001b[1;33m=\u001b[0m \u001b[0mcreate_fragments\u001b[0m\u001b[1;33m(\u001b[0m\u001b[0mimages_for_noise\u001b[0m\u001b[1;33m,\u001b[0m \u001b[0msize\u001b[0m\u001b[1;33m,\u001b[0m \u001b[0mdistr\u001b[0m\u001b[1;33m)\u001b[0m\u001b[1;33m\u001b[0m\u001b[0m\n\u001b[1;32m---> 21\u001b[1;33m \u001b[0mnoise\u001b[0m \u001b[1;33m=\u001b[0m \u001b[0marrange_fragments\u001b[0m\u001b[1;33m(\u001b[0m\u001b[0mimage\u001b[0m\u001b[1;33m[\u001b[0m\u001b[1;36m0\u001b[0m\u001b[1;33m]\u001b[0m\u001b[1;33m,\u001b[0m \u001b[0mfragments\u001b[0m\u001b[1;33m,\u001b[0m \u001b[0mdistr\u001b[0m\u001b[1;33m,\u001b[0m \u001b[0mlevel\u001b[0m\u001b[1;33m)\u001b[0m\u001b[1;33m\u001b[0m\u001b[0m\n\u001b[0m",
      "\u001b[1;32m<ipython-input-62-8a3df5b1daa0>\u001b[0m in \u001b[0;36marrange_fragments\u001b[1;34m(image, fragments, distr, level)\u001b[0m\n\u001b[0;32m     44\u001b[0m         \u001b[0msize\u001b[0m \u001b[1;33m=\u001b[0m \u001b[0mfragment\u001b[0m\u001b[1;33m.\u001b[0m\u001b[0mshape\u001b[0m\u001b[1;33m[\u001b[0m\u001b[1;36m0\u001b[0m\u001b[1;33m]\u001b[0m\u001b[1;33m\u001b[0m\u001b[0m\n\u001b[0;32m     45\u001b[0m         \u001b[0mx_fragment\u001b[0m\u001b[1;33m,\u001b[0m \u001b[0my_fragment\u001b[0m \u001b[1;33m=\u001b[0m \u001b[0mglobals\u001b[0m\u001b[1;33m(\u001b[0m\u001b[1;33m)\u001b[0m\u001b[1;33m[\u001b[0m\u001b[0mdistr\u001b[0m\u001b[1;33m]\u001b[0m\u001b[1;33m(\u001b[0m\u001b[0msize\u001b[0m\u001b[1;33m)\u001b[0m\u001b[1;33m\u001b[0m\u001b[0m\n\u001b[1;32m---> 46\u001b[1;33m         \u001b[0mimage_to_change\u001b[0m \u001b[1;33m=\u001b[0m \u001b[0mimage\u001b[0m\u001b[1;33m[\u001b[0m\u001b[0mx_fragment\u001b[0m\u001b[1;33m:\u001b[0m\u001b[0mx_fragment\u001b[0m\u001b[1;33m+\u001b[0m\u001b[0msize\u001b[0m\u001b[1;33m,\u001b[0m \u001b[0my_fragment\u001b[0m\u001b[1;33m:\u001b[0m\u001b[0my_fragment\u001b[0m\u001b[1;33m+\u001b[0m\u001b[0msize\u001b[0m\u001b[1;33m]\u001b[0m\u001b[1;33m\u001b[0m\u001b[0m\n\u001b[0m\u001b[0;32m     47\u001b[0m         \u001b[0mheight_to_change\u001b[0m\u001b[1;33m,\u001b[0m \u001b[0mwidth_to_change\u001b[0m \u001b[1;33m=\u001b[0m \u001b[0mimage_to_change\u001b[0m\u001b[1;33m.\u001b[0m\u001b[0mshape\u001b[0m\u001b[1;33m\u001b[0m\u001b[0m\n\u001b[0;32m     48\u001b[0m         \u001b[0mimage_to_change\u001b[0m \u001b[1;33m=\u001b[0m \u001b[0mnp\u001b[0m\u001b[1;33m.\u001b[0m\u001b[0mmax\u001b[0m\u001b[1;33m(\u001b[0m\u001b[1;33m[\u001b[0m\u001b[0mlevel\u001b[0m\u001b[1;33m*\u001b[0m\u001b[0mfragment\u001b[0m\u001b[1;33m[\u001b[0m\u001b[1;33m:\u001b[0m\u001b[0mheight_to_change\u001b[0m\u001b[1;33m,\u001b[0m \u001b[1;33m:\u001b[0m\u001b[0mwidth_to_change\u001b[0m\u001b[1;33m]\u001b[0m\u001b[1;33m,\u001b[0m \u001b[0mimage_to_change\u001b[0m\u001b[1;33m]\u001b[0m\u001b[1;33m,\u001b[0m \u001b[0maxis\u001b[0m\u001b[1;33m=\u001b[0m\u001b[1;36m0\u001b[0m\u001b[1;33m)\u001b[0m\u001b[1;33m\u001b[0m\u001b[0m\n",
      "\u001b[1;31mIndexError\u001b[0m: invalid index to scalar variable."
     ]
    }
   ],
   "source": [
    "images = load_images()[:100]\n",
    "level, n_fragments, size, distr = [0.9, 2, 27, 'uniform']\n",
    "\n",
    "new_images = []\n",
    "coordinates = []\n",
    "for image in images:\n",
    "    pure_mnist = image.reshape(28, 28)\n",
    "    new_x, new_y = np.random.randint(0, SIZE-28, 2)\n",
    "    large_mnist = np.zeros((SIZE, SIZE))\n",
    "    large_mnist[new_x:new_x+28, new_y:new_y+28] = pure_mnist\n",
    "    new_images.append(large_mnist)\n",
    "    coordinates.append((new_x, new_y))\n",
    "    \n",
    "images = new_images\n",
    "\n",
    "ind_for_noise = np.random.choice(len(images), n_fragments)\n",
    "images = [images[i] for i in ind_for_noise]\n",
    "coordinates = [coordinates[i] for i in ind_for_noise]\n",
    "images_for_noise = crop_images(images, coordinates)\n",
    "fragments = create_fragments(images_for_noise, size, distr)\n",
    "noise = arrange_fragments(image[0], fragments, distr, level)"
   ]
  },
  {
   "cell_type": "code",
   "execution_count": 65,
   "metadata": {},
   "outputs": [
    {
     "data": {
      "image/png": "[encoded data removed]",
      "text/plain": [
       "<matplotlib.figure.Figure at 0x1db955f8>"
      ]
     },
     "metadata": {},
     "output_type": "display_data"
    }
   ],
   "source": [
    "import matplotlib.pyplot as plt\n",
    "plt.imshow(fragments[0])\n",
    "plt.show()"
   ]
  },
  {
   "cell_type": "code",
   "execution_count": 54,
   "metadata": {},
   "outputs": [
    {
     "data": {
      "text/plain": [
       "(27, 27)"
      ]
     },
     "execution_count": 54,
     "metadata": {},
     "output_type": "execute_result"
    }
   ],
   "source": [
    "fragments[1].shape"
   ]
  },
  {
   "cell_type": "code",
   "execution_count": null,
   "metadata": {
    "collapsed": true
   },
   "outputs": [],
   "source": []
  }
 ],
 "metadata": {
  "kernelspec": {
   "display_name": "Python 3",
   "language": "python",
   "name": "python3"
  },
  "language_info": {
   "codemirror_mode": {
    "name": "ipython",
    "version": 3
   },
   "file_extension": ".py",
   "mimetype": "text/x-python",
   "name": "python",
   "nbconvert_exporter": "python",
   "pygments_lexer": "ipython3",
   "version": "3.6.2"
  }
 },
 "nbformat": 4,
 "nbformat_minor": 2
}
