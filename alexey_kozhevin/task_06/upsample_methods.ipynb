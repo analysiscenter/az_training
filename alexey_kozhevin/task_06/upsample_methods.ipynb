{
 "cells": [
  {
   "cell_type": "markdown",
   "metadata": {},
   "source": [
    "# Segmentation networks"
   ]
  },
  {
   "cell_type": "code",
   "execution_count": 1,
   "metadata": {
    "collapsed": true
   },
   "outputs": [],
   "source": [
    "import sys\n",
    "from time import time\n",
    "import numpy as np\n",
    "import matplotlib.pyplot as plt\n",
    "import tensorflow as tf\n",
    "from tqdm import tqdm\n",
    "import pandas as pd\n",
    "\n",
    "sys.path.append('..')\n",
    "sys.path.append('../task_02')\n",
    "\n",
    "from dataset import Pipeline, DatasetIndex, Dataset, B, V\n",
    "\n",
    "from dataset.opensets import MNIST\n",
    "from dataset.models.tf import UNet\n",
    "from noised_mnist import NoisedMnist                                          # Batch subclass with loading and noise actions\n",
    "from plot_functions import plot_noised_image, plot_examples_highlighted       # plot functions to demonstrate result\n",
    "from utils import count_parameters, smooth"
   ]
  },
  {
   "cell_type": "code",
   "execution_count": 2,
   "metadata": {
    "collapsed": true
   },
   "outputs": [],
   "source": [
    "IMAGE_SIZE = 64     # image size\n",
    "MNIST_SIZE = 65000  # MNIST database size\n",
    "BATCH_SIZE = 16     # batch size for NN training\n",
    "MAX_ITER = 1000     # number of iterations for NN training"
   ]
  },
  {
   "cell_type": "code",
   "execution_count": 3,
   "metadata": {
    "collapsed": true
   },
   "outputs": [],
   "source": [
    "level = 1           # the highest level of noise; [0, 1]\n",
    "n_fragments = 90    # number of noise fragments per image  \n",
    "size = 5            # size of noise fragment; 1, ..., 27\n",
    "distr = 'uniform'   # distribution of fragments of image; 'uniform' or 'normal'"
   ]
  },
  {
   "cell_type": "code",
   "execution_count": 4,
   "metadata": {},
   "outputs": [
    {
     "name": "stdout",
     "output_type": "stream",
     "text": [
      "ExtractingExtractingExtractingExtracting    C:\\Users\\kozhevin\\AppData\\Local\\Temp\\train-labels-idx1-ubyte.gzC:\\Users\\kozhevin\\AppData\\Local\\Temp\\train-images-idx3-ubyte.gzC:\\Users\\kozhevin\\AppData\\Local\\Temp\\t10k-images-idx3-ubyte.gzC:\\Users\\kozhevin\\AppData\\Local\\Temp\\t10k-labels-idx1-ubyte.gz\n",
      "\n",
      "\n",
      "\n"
     ]
    }
   ],
   "source": [
    "mnistset = MNIST(batch_class=NoisedMnist)"
   ]
  },
  {
   "cell_type": "code",
   "execution_count": 5,
   "metadata": {
    "collapsed": true
   },
   "outputs": [],
   "source": [
    "placeholders_config = {\n",
    "                       'images': {'shape': (IMAGE_SIZE, IMAGE_SIZE, 1),\n",
    "                                  'type': 'float32',\n",
    "                                  'name': 'reshaped_images'},\n",
    "                \n",
    "                       'masks': {'shape': (IMAGE_SIZE, IMAGE_SIZE),\n",
    "                                 'type': 'int32',\n",
    "                                 'transform': 'ohe',\n",
    "                                 'classes': 2,\n",
    "                                 'name': 'targets'}\n",
    "                       }"
   ]
  },
  {
   "cell_type": "markdown",
   "metadata": {},
   "source": [
    "Create feed dicts. The key is name of the tensor in tf graph, value is batch component."
   ]
  },
  {
   "cell_type": "code",
   "execution_count": 6,
   "metadata": {
    "collapsed": true
   },
   "outputs": [],
   "source": [
    "train_feed_dict = {'images': B('images'),\n",
    "                   'masks': B('masks')}        \n",
    "\n",
    "test_feed_dict = {'images': B('images'),\n",
    "                  'masks': B('masks')}"
   ]
  },
  {
   "cell_type": "code",
   "execution_count": 7,
   "metadata": {
    "collapsed": true
   },
   "outputs": [],
   "source": [
    "load_template = (Pipeline()\n",
    "             .random_location(IMAGE_SIZE)      # put MNIST at random location\n",
    "             .make_masks()                     # create mask for MNIST image location\n",
    "             .create_noise('mnist_noise', level, n_fragments, size, distr)\n",
    "             .add_noise())"
   ]
  },
  {
   "cell_type": "code",
   "execution_count": 8,
   "metadata": {
    "collapsed": true
   },
   "outputs": [],
   "source": [
    "def metric(masks, predictions, data_format='channels_last', mode='mse'):\n",
    "    ind = np.index_exp[:, :, :, 1] if data_format == 'channels_last' else np.index_exp[:, 1, :, :]\n",
    "    predictions = predictions[ind]\n",
    "    if mode == 'mse':\n",
    "         return np.mean((masks - predictions) ** 2)\n",
    "    elif mode == 'iou':\n",
    "        intersection = np.sum(np.logical_and((predictions > 0.5), masks), axis=(1, 2))\n",
    "        union = np.sum(np.logical_or((predictions > 0.5), masks), axis=(1, 2))\n",
    "        return 1 - np.mean(intersection / union)"
   ]
  },
  {
   "cell_type": "code",
   "execution_count": 9,
   "metadata": {
    "collapsed": true
   },
   "outputs": [],
   "source": [
    "model = UNet\n",
    "layout = 'b'\n",
    "max_iter=10\n",
    "batch_size=16\n",
    "times=10"
   ]
  },
  {
   "cell_type": "code",
   "execution_count": 10,
   "metadata": {
    "collapsed": true
   },
   "outputs": [],
   "source": [
    "def demonstrate_model(model, layout, max_iter=100, batch_size=16, times=10):\n",
    "    config={'body/upsample': {'layout': layout, 'factor': 2}}\n",
    "\n",
    "    model_stat = dict()\n",
    "    stop_level = 0.005\n",
    "    window = 20\n",
    "\n",
    "    print('Create pipelines...')\n",
    "\n",
    "    model_config = {'inputs': placeholders_config,\n",
    "                    'input_block/inputs': 'images',\n",
    "                    'batch_norm': {'momentum': 0.1},\n",
    "                    'output': dict(ops=['proba']),\n",
    "                    'loss': 'ce',\n",
    "                    'optimizer': 'Adam',\n",
    "                    **config}\n",
    "\n",
    "    ppl_train = ((load_template << mnistset.train)                         # load data from file\n",
    "            .init_model('static', model, layout, config=model_config)\n",
    "            .init_variable('loss', init_on_each_run=list)\n",
    "            .train_model(layout,\n",
    "                         fetches='loss',\n",
    "                         feed_dict=train_feed_dict,\n",
    "                         save_to=V('loss'), mode='a'))\n",
    "\n",
    "    parameters = count_parameters(ppl_train, layout)\n",
    "    model_stat['params'] = parameters\n",
    "    \n",
    "    model_stat['loss_history'] = list()\n",
    "    model_stat['quality_history'] = list()\n",
    "    model_stat['iters'] = list()\n",
    "    model_stat['early_stop'] = list()\n",
    "    model_stat['total_time'] = list()\n",
    "    model_stat['time'] = []\n",
    "\n",
    "    print('Parameters: {}K'.format(parameters // (10 ** 3)))\n",
    "    print('Start training...')\n",
    "\n",
    "    test_template = (load_template\n",
    "                    .import_model(layout, ppl_train)\n",
    "                    .init_variable('predictions', init_on_each_run=list)\n",
    "                    .init_variable('masks', init_on_each_run=list)\n",
    "                    .update_variable('masks', B('masks'), mode='w')\n",
    "                    .predict_model(layout,                                      \n",
    "                                   fetches='output_proba',\n",
    "                                   feed_dict=test_feed_dict,\n",
    "                                   save_to=V('predictions'),\n",
    "                                   mode='w'))\n",
    "    ppl_test = test_template << mnistset.test\n",
    "\n",
    "    \n",
    "\n",
    "    for iteration in range(times):\n",
    "        train_time = []\n",
    "        quality = []\n",
    "        early_stop = False\n",
    "        print('Iteration:', iteration)\n",
    "        for i in tqdm(range(max_iter)):\n",
    "            start = time()\n",
    "            ppl_train.next_batch(batch_size, n_epochs=None, shuffle=True)\n",
    "            stop = time()\n",
    "            train_time.append(stop-start)\n",
    "\n",
    "            ppl_test.next_batch(50, n_epochs=None, shuffle=True)\n",
    "            masks = ppl_test.get_variable('masks')\n",
    "            predictions = ppl_test.get_variable('predictions')\n",
    "            quality.append(metric(masks, predictions))\n",
    "\n",
    "            if np.mean(np.array(quality)[-window:] < stop_level) > 0.8:\n",
    "                early_stop = True\n",
    "                break\n",
    "\n",
    "        print('Early stop: {}'.format(early_stop))        \n",
    "        print(\"Train time: {:05.3f} min\".format(sum(train_time)/60))\n",
    "        print('MSE:', quality[-1])\n",
    "        \n",
    "        model_stat['total_time'].append(sum(train_time)/60)\n",
    "        model_stat['time'].append(train_time)\n",
    "        model_stat['loss_history'].append(ppl_train.get_variable('loss')[-i-1:])\n",
    "        model_stat['quality_history'].append(quality)\n",
    "        model_stat['iters'].append(i)\n",
    "        model_stat['early_stop'].append(early_stop)\n",
    "\n",
    "        if iteration < times-1:\n",
    "            graph = ppl_train.get_model_by_name(layout).graph.get_collection('trainable_variables')\n",
    "            sess = ppl_train.get_model_by_name(layout).session\n",
    "            for v in graph:\n",
    "                sess.run(v.initializer)\n",
    "\n",
    "    \n",
    "    model_stat['ppl'] = ppl_train\n",
    "    print('=' * 20)\n",
    "\n",
    "    return model_stat\n",
    "\n",
    "stat = dict()"
   ]
  },
  {
   "cell_type": "code",
   "execution_count": 11,
   "metadata": {},
   "outputs": [
    {
     "name": "stdout",
     "output_type": "stream",
     "text": [
      "Layout: X\n",
      "Create pipelines...\n",
      "Parameters: 37041K\n",
      "Start training...\n",
      "Iteration: 0\n"
     ]
    },
    {
     "name": "stderr",
     "output_type": "stream",
     "text": [
      " 16%|█████████████                                                                  | 165/1000 [04:02<20:29,  1.47s/it]"
     ]
    },
    {
     "name": "stdout",
     "output_type": "stream",
     "text": [
      "Early stop: True\n",
      "Train time: 1.594 min\n",
      "MSE: 0.00437886456603\n",
      "Iteration: 1\n"
     ]
    },
    {
     "name": "stderr",
     "output_type": "stream",
     "text": [
      "\n",
      "  0%|                                                                                         | 0/1000 [00:00<?, ?it/s]\n",
      "  0%|                                                                                 | 1/1000 [00:01<23:48,  1.43s/it]\n",
      "  0%|▏                                                                                | 2/1000 [00:02<24:04,  1.45s/it]\n",
      "Exception in thread Thread-10:\n",
      "Traceback (most recent call last):\n",
      "  File \"C:\\Anaconda3\\envs\\tensorflow-gpu\\lib\\threading.py\", line 914, in _bootstrap_inner\n",
      "    self.run()\n",
      "  File \"C:\\Anaconda3\\envs\\tensorflow-gpu\\lib\\site-packages\\tqdm\\_tqdm.py\", line 144, in run\n",
      "    for instance in self.tqdm_cls._instances:\n",
      "  File \"C:\\Anaconda3\\envs\\tensorflow-gpu\\lib\\_weakrefset.py\", line 60, in __iter__\n",
      "    for itemref in self.data:\n",
      "RuntimeError: Set changed size during iteration\n",
      "\n",
      " 19%|███████████████▏                                                               | 192/1000 [04:35<19:19,  1.43s/it]\n"
     ]
    },
    {
     "name": "stdout",
     "output_type": "stream",
     "text": [
      "Early stop: True\n",
      "Train time: 1.790 min\n",
      "MSE: 0.00497228131465\n",
      "Iteration: 2\n"
     ]
    },
    {
     "name": "stderr",
     "output_type": "stream",
     "text": [
      " 27%|█████████████████████▏                                                         | 268/1000 [06:30<17:45,  1.46s/it]"
     ]
    },
    {
     "name": "stdout",
     "output_type": "stream",
     "text": [
      "Early stop: True\n",
      "Train time: 2.525 min\n",
      "MSE: 0.00499818392951\n",
      "Iteration: 3\n"
     ]
    },
    {
     "name": "stderr",
     "output_type": "stream",
     "text": [
      "\n",
      "  0%|                                                                                         | 0/1000 [00:00<?, ?it/s]\n",
      "  0%|                                                                                 | 1/1000 [00:01<23:59,  1.44s/it]\n",
      "  0%|▏                                                                                | 2/1000 [00:02<24:00,  1.44s/it]\n",
      "  0%|▏                                                                                | 3/1000 [00:04<23:55,  1.44s/it]\n",
      "  0%|▎                                                                                | 4/1000 [00:05<23:50,  1.44s/it]\n",
      "  0%|▍                                                                                | 5/1000 [00:07<23:41,  1.43s/it]\n",
      "Exception in thread Thread-68939:\n",
      "Traceback (most recent call last):\n",
      "  File \"C:\\Anaconda3\\envs\\tensorflow-gpu\\lib\\threading.py\", line 914, in _bootstrap_inner\n",
      "    self.run()\n",
      "  File \"C:\\Anaconda3\\envs\\tensorflow-gpu\\lib\\site-packages\\tqdm\\_tqdm.py\", line 144, in run\n",
      "    for instance in self.tqdm_cls._instances:\n",
      "  File \"C:\\Anaconda3\\envs\\tensorflow-gpu\\lib\\_weakrefset.py\", line 60, in __iter__\n",
      "    for itemref in self.data:\n",
      "RuntimeError: Set changed size during iteration\n",
      "\n",
      " 30%|███████████████████████▊                                                       | 302/1000 [07:20<16:58,  1.46s/it]\n"
     ]
    },
    {
     "name": "stdout",
     "output_type": "stream",
     "text": [
      "Early stop: True\n",
      "Train time: 2.843 min\n",
      "MSE: 0.00461998089985\n",
      "Iteration: 4\n"
     ]
    },
    {
     "name": "stderr",
     "output_type": "stream",
     "text": [
      " 28%|██████████████████████                                                         | 279/1000 [06:47<17:34,  1.46s/it]"
     ]
    },
    {
     "name": "stdout",
     "output_type": "stream",
     "text": [
      "Early stop: True\n",
      "Train time: 2.637 min\n",
      "MSE: 0.00428205080702\n",
      "Iteration: 5\n"
     ]
    },
    {
     "name": "stderr",
     "output_type": "stream",
     "text": [
      "\n",
      "  0%|                                                                                         | 0/1000 [00:00<?, ?it/s]\n",
      "Exception in thread Thread-178764:\n",
      "Traceback (most recent call last):\n",
      "  File \"C:\\Anaconda3\\envs\\tensorflow-gpu\\lib\\threading.py\", line 914, in _bootstrap_inner\n",
      "    self.run()\n",
      "  File \"C:\\Anaconda3\\envs\\tensorflow-gpu\\lib\\site-packages\\tqdm\\_tqdm.py\", line 144, in run\n",
      "    for instance in self.tqdm_cls._instances:\n",
      "  File \"C:\\Anaconda3\\envs\\tensorflow-gpu\\lib\\_weakrefset.py\", line 60, in __iter__\n",
      "    for itemref in self.data:\n",
      "RuntimeError: Set changed size during iteration\n",
      "\n",
      " 34%|██████████████████████████▌                                                    | 336/1000 [08:10<16:09,  1.46s/it]\n"
     ]
    },
    {
     "name": "stdout",
     "output_type": "stream",
     "text": [
      "Early stop: True\n",
      "Train time: 3.165 min\n",
      "MSE: 0.00394883690412\n",
      "Iteration: 6\n"
     ]
    },
    {
     "name": "stderr",
     "output_type": "stream",
     "text": [
      " 37%|████████████████████████████▉                                                  | 366/1000 [09:13<15:58,  1.51s/it]"
     ]
    },
    {
     "name": "stdout",
     "output_type": "stream",
     "text": [
      "Early stop: True\n",
      "Train time: 3.525 min\n",
      "MSE: 0.00483597062257\n",
      "Iteration: 7\n"
     ]
    },
    {
     "name": "stderr",
     "output_type": "stream",
     "text": [
      "\n",
      "  0%|                                                                                         | 0/1000 [00:00<?, ?it/s]\n",
      "  0%|                                                                                 | 1/1000 [00:01<24:24,  1.47s/it]\n",
      "  0%|▏                                                                                | 2/1000 [00:02<24:21,  1.46s/it]\n",
      "  0%|▏                                                                                | 3/1000 [00:04<24:21,  1.47s/it]\n",
      "Exception in thread Thread-297229:\n",
      "Traceback (most recent call last):\n",
      "  File \"C:\\Anaconda3\\envs\\tensorflow-gpu\\lib\\threading.py\", line 914, in _bootstrap_inner\n",
      "    self.run()\n",
      "  File \"C:\\Anaconda3\\envs\\tensorflow-gpu\\lib\\site-packages\\tqdm\\_tqdm.py\", line 144, in run\n",
      "    for instance in self.tqdm_cls._instances:\n",
      "  File \"C:\\Anaconda3\\envs\\tensorflow-gpu\\lib\\_weakrefset.py\", line 60, in __iter__\n",
      "    for itemref in self.data:\n",
      "RuntimeError: Set changed size during iteration\n",
      "\n",
      " 25%|███████████████████▊                                                           | 251/1000 [06:07<18:17,  1.47s/it]\n"
     ]
    },
    {
     "name": "stdout",
     "output_type": "stream",
     "text": [
      "Early stop: True\n",
      "Train time: 2.373 min\n",
      "MSE: 0.00420716612389\n",
      "Iteration: 8\n"
     ]
    },
    {
     "name": "stderr",
     "output_type": "stream",
     "text": [
      " 29%|███████████████████████▏                                                       | 293/1000 [07:04<17:03,  1.45s/it]"
     ]
    },
    {
     "name": "stdout",
     "output_type": "stream",
     "text": [
      "Early stop: True\n",
      "Train time: 2.744 min\n",
      "MSE: 0.00383827809278\n",
      "Iteration: 9\n"
     ]
    },
    {
     "name": "stderr",
     "output_type": "stream",
     "text": [
      "\n",
      "  0%|                                                                                         | 0/1000 [00:00<?, ?it/s]\n",
      "  0%|                                                                                 | 1/1000 [00:01<23:53,  1.44s/it]\n",
      "  0%|▏                                                                                | 2/1000 [00:02<23:58,  1.44s/it]\n",
      "  0%|▏                                                                                | 3/1000 [00:04<24:01,  1.45s/it]\n",
      "Exception in thread Thread-416078:\n",
      "Traceback (most recent call last):\n",
      "  File \"C:\\Anaconda3\\envs\\tensorflow-gpu\\lib\\threading.py\", line 914, in _bootstrap_inner\n",
      "    self.run()\n",
      "  File \"C:\\Anaconda3\\envs\\tensorflow-gpu\\lib\\site-packages\\tqdm\\_tqdm.py\", line 144, in run\n",
      "    for instance in self.tqdm_cls._instances:\n",
      "  File \"C:\\Anaconda3\\envs\\tensorflow-gpu\\lib\\_weakrefset.py\", line 60, in __iter__\n",
      "    for itemref in self.data:\n",
      "RuntimeError: Set changed size during iteration\n",
      "\n",
      " 35%|███████████████████████████▌                                                   | 349/1000 [08:21<15:34,  1.44s/it]\n"
     ]
    },
    {
     "name": "stdout",
     "output_type": "stream",
     "text": [
      "Early stop: True\n",
      "Train time: 3.245 min\n",
      "MSE: 0.00424615070052\n",
      "====================\n"
     ]
    }
   ],
   "source": [
    "layouts = ['b', 'tna', 'B', 'X']\n",
    "for layout in layouts:\n",
    "    print(\"Layout:\", layout)\n",
    "    stat[layout] = demonstrate_model(UNet, layout, MAX_ITER, BATCH_SIZE)"
   ]
  },
  {
   "cell_type": "code",
   "execution_count": 24,
   "metadata": {},
   "outputs": [],
   "source": [
    "with open('times', 'rb') as f:\n",
    "    r = pickle.load(f)"
   ]
  },
  {
   "cell_type": "code",
   "execution_count": 45,
   "metadata": {},
   "outputs": [],
   "source": [
    "import pandas as pd\n",
    "\n",
    "df = {}\n",
    "for k, v in r.items():\n",
    "    x = sorted(v)\n",
    "    df[k] = {'median': np.median(v), 'mean': np.mean(v), 'partial mean': np.mean(x[2:-2])}\n",
    "df = pd.DataFrame(df).transpose().sort_values(by=['median'])"
   ]
  },
  {
   "cell_type": "code",
   "execution_count": 46,
   "metadata": {},
   "outputs": [
    {
     "data": {
      "text/html": [
       "<div>\n",
       "<style scoped>\n",
       "    .dataframe tbody tr th:only-of-type {\n",
       "        vertical-align: middle;\n",
       "    }\n",
       "\n",
       "    .dataframe tbody tr th {\n",
       "        vertical-align: top;\n",
       "    }\n",
       "\n",
       "    .dataframe thead th {\n",
       "        text-align: right;\n",
       "    }\n",
       "</style>\n",
       "<table border=\"1\" class=\"dataframe\">\n",
       "  <thead>\n",
       "    <tr style=\"text-align: right;\">\n",
       "      <th></th>\n",
       "      <th>mean</th>\n",
       "      <th>median</th>\n",
       "      <th>partial mean</th>\n",
       "    </tr>\n",
       "  </thead>\n",
       "  <tbody>\n",
       "    <tr>\n",
       "      <th>tna</th>\n",
       "      <td>2.323997</td>\n",
       "      <td>2.377511</td>\n",
       "      <td>2.260181</td>\n",
       "    </tr>\n",
       "    <tr>\n",
       "      <th>X</th>\n",
       "      <td>2.644189</td>\n",
       "      <td>2.690606</td>\n",
       "      <td>2.714648</td>\n",
       "    </tr>\n",
       "    <tr>\n",
       "      <th>b</th>\n",
       "      <td>2.940775</td>\n",
       "      <td>2.767290</td>\n",
       "      <td>2.792791</td>\n",
       "    </tr>\n",
       "    <tr>\n",
       "      <th>B</th>\n",
       "      <td>6.239011</td>\n",
       "      <td>5.886285</td>\n",
       "      <td>6.006232</td>\n",
       "    </tr>\n",
       "  </tbody>\n",
       "</table>\n",
       "</div>"
      ],
      "text/plain": [
       "         mean    median  partial mean\n",
       "tna  2.323997  2.377511      2.260181\n",
       "X    2.644189  2.690606      2.714648\n",
       "b    2.940775  2.767290      2.792791\n",
       "B    6.239011  5.886285      6.006232"
      ]
     },
     "execution_count": 46,
     "metadata": {},
     "output_type": "execute_result"
    }
   ],
   "source": [
    "df"
   ]
  },
  {
   "cell_type": "code",
   "execution_count": null,
   "metadata": {
    "collapsed": true
   },
   "outputs": [],
   "source": [
    "test_template = (load_template                     \n",
    "                .init_variable('masks', init_on_each_run=list)\n",
    "                .init_variable('images', init_on_each_run=list)\n",
    "                .update_variable('masks', B('masks'), mode='e')\n",
    "                .update_variable('images', B('images'), mode='e'))\n",
    "\n",
    "for layout in layouts:\n",
    "    test_template = (test_template\n",
    "                     .import_model(layout, stat[layout]['ppl'])\n",
    "                     .init_variable(layout+'_predictions', init_on_each_run=list)\n",
    "                     .predict_model(layout,                                      \n",
    "                                    fetches='output_proba',\n",
    "                                    feed_dict=test_feed_dict,\n",
    "                                    save_to=V(layout+'_predictions'),\n",
    "                                    mode='e'))\n",
    "\n",
    "print('Start testing...')\n",
    "\n",
    "ppl_test = test_template << mnistset.test\n",
    "\n",
    "for i in tqdm(range(50)):\n",
    "    ppl_test.next_batch(10, n_epochs=1, shuffle=False)"
   ]
  },
  {
   "cell_type": "code",
   "execution_count": null,
   "metadata": {
    "collapsed": true
   },
   "outputs": [],
   "source": [
    "masks = np.array(ppl_test.get_variable('masks'))\n",
    "images = np.array(ppl_test.get_variable('images'))\n",
    "for layout in layouts:\n",
    "    predictions = np.array(ppl_test.get_variable(layout+'_predictions'))\n",
    "    quality = metric(masks, predictions)\n",
    "\n",
    "    stat[layout]['predictions'] = predictions\n",
    "    stat[layout]['quality'] = quality"
   ]
  },
  {
   "cell_type": "code",
   "execution_count": null,
   "metadata": {
    "collapsed": true
   },
   "outputs": [],
   "source": [
    "plt.figure(figsize=(15, 5))\n",
    "for layout in layouts:\n",
    "    plt.subplot(1, 2, 1)\n",
    "    x = np.cumsum(stat[layout]['time'][-1]) / 60\n",
    "    y = stat[layout]['quality_history'][-1]\n",
    "    plt.plot(x, smooth(y), label=layout)\n",
    "    plt.ylim((0, 0.02))\n",
    "    plt.legend()\n",
    "    plt.title('MSE')\n",
    "    plt.subplot(1, 2, 2)\n",
    "    y = stat[layout]['loss_history'][-1]\n",
    "    plt.plot(x, smooth(y), label=layout)\n",
    "    plt.ylim((0, 1))\n",
    "    plt.legend()\n",
    "    plt.title('Loss')\n",
    "plt.show()"
   ]
  },
  {
   "cell_type": "code",
   "execution_count": null,
   "metadata": {
    "collapsed": true
   },
   "outputs": [],
   "source": [
    "def stat_table(stat):\n",
    "    df = dict()\n",
    "    for layout, layout_stat in stat.items():\n",
    "        new_stat = {\n",
    "            'Time per iter, s': np.mean(layout_stat['time'][-1]),\n",
    "            'Train time, m': np.sum(layout_stat['time'][-1]) // 60,\n",
    "            'quality': layout_stat['quality'],\n",
    "            'Parameters': layout_stat['params']\n",
    "        }\n",
    "        df[layout] = new_stat\n",
    "    df = pd.DataFrame(df).transpose()\n",
    "    return df"
   ]
  },
  {
   "cell_type": "code",
   "execution_count": null,
   "metadata": {
    "collapsed": true
   },
   "outputs": [],
   "source": [
    "stat_table(stat).sort_values(by=['Train time, m'])"
   ]
  },
  {
   "cell_type": "code",
   "execution_count": null,
   "metadata": {
    "collapsed": true,
    "scrolled": false
   },
   "outputs": [],
   "source": [
    "n_examples = 20\n",
    "plt.figure(figsize=(20,3.5*n_examples))\n",
    "for i in range(n_examples):\n",
    "    plt.subplot(n_examples, len(layouts)+1, (len(layouts)+1)*i+1)\n",
    "    plt.imshow(np.squeeze(images[i]))\n",
    "    plt.title('image')\n",
    "    for j, layout in enumerate(layouts):\n",
    "        mask = stat[layout]['predictions'][i]\n",
    "        plt.subplot(n_examples, len(layouts)+1, (len(layouts)+1)*i+j+2)\n",
    "        plt.imshow(mask[:,:,1])\n",
    "        plt.title(layout)\n",
    "plt.show()"
   ]
  },
  {
   "cell_type": "code",
   "execution_count": null,
   "metadata": {
    "collapsed": true
   },
   "outputs": [],
   "source": []
  }
 ],
 "metadata": {
  "kernelspec": {
   "display_name": "Python 3",
   "language": "python",
   "name": "python3"
  },
  "language_info": {
   "codemirror_mode": {
    "name": "ipython",
    "version": 3
   },
   "file_extension": ".py",
   "mimetype": "text/x-python",
   "name": "python",
   "nbconvert_exporter": "python",
   "pygments_lexer": "ipython3",
   "version": "3.5.2"
  }
 },
 "nbformat": 4,
 "nbformat_minor": 2
}
