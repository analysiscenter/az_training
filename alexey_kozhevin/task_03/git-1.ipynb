{
 "cells": [
  {
   "cell_type": "markdown",
   "metadata": {},
   "source": [
    "# Git commands. Part 1 \n",
    "<i>git branch, git checkout, git stash, git log, git show</i>"
   ]
  },
  {
   "cell_type": "markdown",
   "metadata": {},
   "source": [
    "## 1. git branch"
   ]
  },
  {
   "cell_type": "markdown",
   "metadata": {},
   "source": [
    "Create, list or delete branches."
   ]
  },
  {
   "cell_type": "markdown",
   "metadata": {},
   "source": [
    "Let’s look at a repository with three commits:"
   ]
  },
  {
   "cell_type": "raw",
   "metadata": {},
   "source": [
    "          master, HEAD\n",
    "            |\n",
    "            V\n",
    "A-----B-----C"
   ]
  },
  {
   "cell_type": "markdown",
   "metadata": {},
   "source": [
    "#### Create new branch which points to the current HEAD:"
   ]
  },
  {
   "cell_type": "raw",
   "metadata": {},
   "source": [
    "$ git branch new_branch"
   ]
  },
  {
   "cell_type": "raw",
   "metadata": {},
   "source": [
    "          master, HEAD\n",
    "            |\n",
    "            V\n",
    "A-----B-----C\n",
    "            ^\n",
    "            |\n",
    "        new_branch"
   ]
  },
  {
   "cell_type": "markdown",
   "metadata": {},
   "source": [
    "#### Create new branch which points to the commitname:"
   ]
  },
  {
   "cell_type": "raw",
   "metadata": {},
   "source": [
    "$ git branch new_branch2 commit_B_hash"
   ]
  },
  {
   "cell_type": "raw",
   "metadata": {},
   "source": [
    "          master, HEAD\n",
    "            |\n",
    "            V\n",
    "A-----B-----C\n",
    "      ^     ^\n",
    "      |     |\n",
    "      | new_branch\n",
    "      |\n",
    "  new_branch2"
   ]
  },
  {
   "cell_type": "markdown",
   "metadata": {},
   "source": [
    "#### Rename branch:"
   ]
  },
  {
   "cell_type": "raw",
   "metadata": {},
   "source": [
    "$ git branch -m new_branch2 new_branch3"
   ]
  },
  {
   "cell_type": "raw",
   "metadata": {},
   "source": [
    "          master, HEAD\n",
    "            |\n",
    "            V\n",
    "A-----B-----C\n",
    "      ^     ^\n",
    "      |     |\n",
    "      | new_branch\n",
    "      |\n",
    "  new_branch3"
   ]
  },
  {
   "cell_type": "markdown",
   "metadata": {},
   "source": [
    "#### Copy branch"
   ]
  },
  {
   "cell_type": "raw",
   "metadata": {},
   "source": [
    "$ git branch -c new_branch3 new_branch4"
   ]
  },
  {
   "cell_type": "raw",
   "metadata": {},
   "source": [
    "          master, HEAD\n",
    "            |\n",
    "            V\n",
    "A-----B-----C\n",
    "      ^     ^\n",
    "      |     |\n",
    "      | new_branch\n",
    "      |\n",
    "  new_branch3\n",
    "  new_branch4"
   ]
  },
  {
   "cell_type": "markdown",
   "metadata": {},
   "source": [
    "#### Get list of the local branches:"
   ]
  },
  {
   "cell_type": "raw",
   "metadata": {},
   "source": [
    "$ git branch"
   ]
  },
  {
   "cell_type": "markdown",
   "metadata": {},
   "source": [
    "or"
   ]
  },
  {
   "cell_type": "raw",
   "metadata": {},
   "source": [
    "$ git branch --list"
   ]
  },
  {
   "cell_type": "markdown",
   "metadata": {},
   "source": [
    "#### Get list of the remote branches:"
   ]
  },
  {
   "cell_type": "raw",
   "metadata": {},
   "source": [
    "$ git branch -r"
   ]
  },
  {
   "cell_type": "markdown",
   "metadata": {},
   "source": [
    "#### Both local and remote:"
   ]
  },
  {
   "cell_type": "raw",
   "metadata": {},
   "source": [
    "$ git branch -a"
   ]
  },
  {
   "cell_type": "markdown",
   "metadata": {},
   "source": [
    "#### Delete branch"
   ]
  },
  {
   "cell_type": "raw",
   "metadata": {},
   "source": [
    "$ git branch -d new_branch3 new_branch4"
   ]
  },
  {
   "cell_type": "raw",
   "metadata": {},
   "source": [
    "          master, HEAD\n",
    "            |\n",
    "            V\n",
    "A-----B-----C\n",
    "            ^\n",
    "            |\n",
    "        new_branch"
   ]
  },
  {
   "cell_type": "markdown",
   "metadata": {},
   "source": [
    "## 2. git checkout"
   ]
  },
  {
   "cell_type": "markdown",
   "metadata": {},
   "source": [
    "Switch branches or restore working tree files"
   ]
  },
  {
   "cell_type": "raw",
   "metadata": {},
   "source": [
    "$ git checkout new_branch"
   ]
  },
  {
   "cell_type": "raw",
   "metadata": {},
   "source": [
    "          master\n",
    "            |\n",
    "            V\n",
    "A-----B-----C\n",
    "            ^\n",
    "            |\n",
    "        new_branch, HEAD"
   ]
  },
  {
   "cell_type": "markdown",
   "metadata": {},
   "source": [
    "Create new branch and switch:"
   ]
  },
  {
   "cell_type": "raw",
   "metadata": {},
   "source": [
    "$ git checkout -b new_branch2"
   ]
  },
  {
   "cell_type": "raw",
   "metadata": {},
   "source": [
    "          master\n",
    "            |\n",
    "            V\n",
    "A-----B-----C\n",
    "            ^\n",
    "            |\n",
    "        new_branch\n",
    "        new_branch2, HEAD"
   ]
  },
  {
   "cell_type": "raw",
   "metadata": {},
   "source": [
    "$ git checkout -b new_branch3 commit_B_hash"
   ]
  },
  {
   "cell_type": "raw",
   "metadata": {},
   "source": [
    "          master\n",
    "            |\n",
    "            V\n",
    "A-----B-----C\n",
    "      ^     ^\n",
    "      |     |\n",
    "      | new_branch\n",
    "      | new_branch2\n",
    "      |\n",
    " new_branch3"
   ]
  },
  {
   "cell_type": "code",
   "execution_count": null,
   "metadata": {
    "collapsed": true
   },
   "outputs": [],
   "source": []
  }
 ],
 "metadata": {
  "kernelspec": {
   "display_name": "Python 3",
   "language": "python",
   "name": "python3"
  },
  "language_info": {
   "codemirror_mode": {
    "name": "ipython",
    "version": 3
   },
   "file_extension": ".py",
   "mimetype": "text/x-python",
   "name": "python",
   "nbconvert_exporter": "python",
   "pygments_lexer": "ipython3",
   "version": "3.5.2"
  }
 },
 "nbformat": 4,
 "nbformat_minor": 2
}
