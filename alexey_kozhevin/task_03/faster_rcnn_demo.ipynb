{
 "cells": [
  {
   "cell_type": "code",
   "execution_count": 1,
   "metadata": {
    "collapsed": true
   },
   "outputs": [],
   "source": [
    "import sys\n",
    "\n",
    "sys.path.append('../')\n",
    "\n",
    "from dataset import Pipeline, B, V\n",
    "from dataset.models.tf import TFModel, RPN\n",
    "from dataset.opensets import MNIST\n",
    "from detection_mnist import DetectionMnist"
   ]
  },
  {
   "cell_type": "code",
   "execution_count": 2,
   "metadata": {
    "collapsed": true
   },
   "outputs": [],
   "source": [
    "IMAGE_SHAPE = (128, 128)\n",
    "MNIST_PER_IMAGE = (5, 15)\n",
    "RESIZE_TO = (14, 14)\n",
    "ANCHORS_BATCH_SIZE = 16\n",
    "\n",
    "BATCH_SIZE = 16"
   ]
  },
  {
   "cell_type": "code",
   "execution_count": 3,
   "metadata": {},
   "outputs": [
    {
     "name": "stdout",
     "output_type": "stream",
     "text": [
      "ExtractingExtracting  ExtractingExtractingC:\\Users\\kozhevin\\AppData\\Local\\Temp\\t10k-images-idx3-ubyte.gzC:\\Users\\kozhevin\\AppData\\Local\\Temp\\train-images-idx3-ubyte.gz  \n",
      "\n",
      "C:\\Users\\kozhevin\\AppData\\Local\\Temp\\t10k-labels-idx1-ubyte.gzC:\\Users\\kozhevin\\AppData\\Local\\Temp\\train-labels-idx1-ubyte.gz\n",
      "\n"
     ]
    }
   ],
   "source": [
    "mnist = MNIST(batch_class=DetectionMnist)"
   ]
  },
  {
   "cell_type": "code",
   "execution_count": 4,
   "metadata": {
    "collapsed": true
   },
   "outputs": [],
   "source": [
    "# feed_dict = {'images': B('images'),\n",
    "#              'anchors': B('anchors'),\n",
    "#              'anchors_cls': B('clsf'),\n",
    "#              'anchors_reg': B('reg'),\n",
    "#              'anchors_batch': B('anchor_batch'),\n",
    "#              }    \n",
    "\n",
    "feed_dict = {'images': B('images'),\n",
    "             'labels': B('labels'),\n",
    "             'bboxes': B('bboxes')\n",
    "             }    "
   ]
  },
  {
   "cell_type": "code",
   "execution_count": 5,
   "metadata": {
    "collapsed": true
   },
   "outputs": [],
   "source": [
    "placeholder_config = {'images': {'shape': IMAGE_SHAPE + (1,),\n",
    "                                 'dtype': 'float32'},\n",
    "                      'anchors': dict(),\n",
    "                      'anchor_clsf': dict(),\n",
    "                      'anchor_reg': dict(),\n",
    "                      'anchor_labels': dict(),\n",
    "                      'anchor_batch': dict()}"
   ]
  },
  {
   "cell_type": "code",
   "execution_count": 6,
   "metadata": {
    "collapsed": true
   },
   "outputs": [],
   "source": [
    "rpn_config = {'inputs': placeholder_config,\n",
    "                'input_block/inputs': 'images',\n",
    "                'batch_norm': {'momentum': 0.1},\n",
    "                'head': {'map_shape': []},\n",
    "                'loss': None,\n",
    "                'optimizer': 'Adam'}"
   ]
  },
  {
   "cell_type": "code",
   "execution_count": 7,
   "metadata": {},
   "outputs": [],
   "source": [
    "train_pp = (Pipeline()\n",
    "            .init_variable('loss_history', init_on_each_run=list)\n",
    "            .init_model('static', RPN, 'RPN', config=rpn_config)\n",
    "            .generate_images(image_shape=IMAGE_SHAPE, \n",
    "                             n_digits=MNIST_PER_IMAGE, \n",
    "                             resize_to=RESIZE_TO)\n",
    "            .train_model('RPN', \n",
    "                         feed_dict=feed_dict, \n",
    "                         fetches=['loss'], \n",
    "                         save_to=[V('loss_history')], mode='a')\n",
    "            )"
   ]
  },
  {
   "cell_type": "code",
   "execution_count": 8,
   "metadata": {
    "collapsed": true
   },
   "outputs": [],
   "source": [
    "train_pp = train_pp << mnist.train"
   ]
  },
  {
   "cell_type": "code",
   "execution_count": 9,
   "metadata": {
    "collapsed": true
   },
   "outputs": [],
   "source": [
    "for i in range(10):\n",
    "    train_pp.next_batch(16)"
   ]
  },
  {
   "cell_type": "code",
   "execution_count": 10,
   "metadata": {
    "collapsed": true
   },
   "outputs": [],
   "source": [
    "test_pp = (Pipeline()\n",
    "            .init_variable('reg', init_on_each_run=list)\n",
    "            .init_variable('clsf', init_on_each_run=list)\n",
    "            .import_model('RPN', train_pp)\n",
    "            .generate_images(image_shape=IMAGE_SHAPE, \n",
    "                             n_digits=MNIST_PER_IMAGE, \n",
    "                             resize_to=RESIZE_TO)\n",
    "            .predict_model('RPN', \n",
    "                         feed_dict=feed_dict, \n",
    "                         fetches=['RPN/rpn_reg', 'RPN/rpn_clsf'], \n",
    "                         save_to=[V('reg'), V('clsf')], mode='a')\n",
    "            )"
   ]
  },
  {
   "cell_type": "code",
   "execution_count": 11,
   "metadata": {
    "collapsed": true
   },
   "outputs": [],
   "source": [
    "test_pp = test_pp << mnist.train"
   ]
  },
  {
   "cell_type": "code",
   "execution_count": 12,
   "metadata": {},
   "outputs": [
    {
     "data": {
      "text/plain": [
       "<detection_mnist.DetectionMnist at 0x1e7f4246cf8>"
      ]
     },
     "execution_count": 12,
     "metadata": {},
     "output_type": "execute_result"
    }
   ],
   "source": [
    "test_pp.next_batch(10)"
   ]
  },
  {
   "cell_type": "code",
   "execution_count": null,
   "metadata": {
    "collapsed": true
   },
   "outputs": [],
   "source": []
  }
 ],
 "metadata": {
  "kernelspec": {
   "display_name": "Python 3",
   "language": "python",
   "name": "python3"
  },
  "language_info": {
   "codemirror_mode": {
    "name": "ipython",
    "version": 3
   },
   "file_extension": ".py",
   "mimetype": "text/x-python",
   "name": "python",
   "nbconvert_exporter": "python",
   "pygments_lexer": "ipython3",
   "version": "3.5.2"
  }
 },
 "nbformat": 4,
 "nbformat_minor": 2
}
