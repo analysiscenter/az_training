{
 "cells": [
  {
   "cell_type": "code",
   "execution_count": 1,
   "metadata": {
    "collapsed": true
   },
   "outputs": [],
   "source": [
    "import sys\n",
    "\n",
    "import matplotlib.pyplot as plt\n",
    "import numpy as np\n",
    "from IPython.display import clear_output\n",
    "\n",
    "sys.path.append('../')\n",
    "\n",
    "from dataset import Pipeline, B, V\n",
    "from dataset.models.tf import TFModel, RPN\n",
    "from dataset.opensets import MNIST\n",
    "from detection_mnist import DetectionMnist"
   ]
  },
  {
   "cell_type": "code",
   "execution_count": 2,
   "metadata": {
    "collapsed": true
   },
   "outputs": [],
   "source": [
    "IMAGE_SHAPE = (128, 128)\n",
    "MNIST_PER_IMAGE = (5, 15)\n",
    "RESIZE_TO = (14, 14)\n",
    "ANCHORS_BATCH_SIZE = 16\n",
    "\n",
    "BATCH_SIZE = 16"
   ]
  },
  {
   "cell_type": "code",
   "execution_count": 3,
   "metadata": {},
   "outputs": [
    {
     "name": "stdout",
     "output_type": "stream",
     "text": [
      "Extracting ExtractingC:\\Users\\kozhevin\\AppData\\Local\\Temp\\train-labels-idx1-ubyte.gz ExtractingExtracting\n",
      "C:\\Users\\kozhevin\\AppData\\Local\\Temp\\train-images-idx3-ubyte.gz  C:\\Users\\kozhevin\\AppData\\Local\\Temp\\t10k-labels-idx1-ubyte.gz\n",
      "C:\\Users\\kozhevin\\AppData\\Local\\Temp\\t10k-images-idx3-ubyte.gz\n",
      "\n"
     ]
    }
   ],
   "source": [
    "mnist = MNIST(batch_class=DetectionMnist)"
   ]
  },
  {
   "cell_type": "code",
   "execution_count": 4,
   "metadata": {
    "collapsed": true
   },
   "outputs": [],
   "source": [
    "# feed_dict = {'images': B('images'),\n",
    "#              'anchors': B('anchors'),\n",
    "#              'anchors_cls': B('clsf'),\n",
    "#              'anchors_reg': B('reg'),\n",
    "#              'anchors_batch': B('anchor_batch'),\n",
    "#              }    \n",
    "\n",
    "feed_dict = {'images': B('images'),\n",
    "             'labels': B('labels'),\n",
    "             'bboxes': B('bboxes'),\n",
    "             }    \n",
    "\n",
    "feed_dict_rpn = {**feed_dict,\n",
    "                'RPN/train_mode:0': True}\n",
    "\n",
    "feed_dict_rcn = {**feed_dict,\n",
    "                'RPN/train_mode:0': False}"
   ]
  },
  {
   "cell_type": "code",
   "execution_count": 5,
   "metadata": {
    "collapsed": true
   },
   "outputs": [],
   "source": [
    "placeholder_config = {'images': {'shape': IMAGE_SHAPE + (1,),\n",
    "                                 'dtype': 'float32'}}"
   ]
  },
  {
   "cell_type": "code",
   "execution_count": 6,
   "metadata": {
    "collapsed": true
   },
   "outputs": [],
   "source": [
    "rpn_config = {'inputs': placeholder_config,\n",
    "                'input_block/inputs': 'images',\n",
    "                'batch_norm': {'momentum': 0.1},\n",
    "                'map_shape': [],\n",
    "                'loss': None,\n",
    "                'optimizer': 'Adam'}"
   ]
  },
  {
   "cell_type": "code",
   "execution_count": 7,
   "metadata": {
    "collapsed": true
   },
   "outputs": [],
   "source": [
    "train_rpn = (mnist.train.p\n",
    "            .init_variable('loss', init_on_each_run=list)\n",
    "            .init_model('static', RPN, 'RPN', config=rpn_config)\n",
    "            .generate_images(image_shape=IMAGE_SHAPE, \n",
    "                             n_digits=MNIST_PER_IMAGE, \n",
    "                             resize_to=RESIZE_TO)\n",
    "            .train_model('RPN', \n",
    "                          feed_dict=feed_dict_rpn, \n",
    "                          fetches=['loss'], \n",
    "                          save_to=[V('loss')], mode='a'))"
   ]
  },
  {
   "cell_type": "code",
   "execution_count": 8,
   "metadata": {},
   "outputs": [
    {
     "data": {
      "image/png": "[encoded data removed]",
      "text/plain": [
       "<matplotlib.figure.Figure at 0x22fefb96a58>"
      ]
     },
     "metadata": {},
     "output_type": "display_data"
    }
   ],
   "source": [
    "for i in range(25):\n",
    "    train_rpn.next_batch(16)\n",
    "    \n",
    "    clear_output(True)\n",
    "    current_max = np.max(train_rpn.get_variable('loss')[-20:])\n",
    "    plt.plot(train_rpn.get_variable('loss'))\n",
    "    plt.ylim([0,current_max])\n",
    "    plt.show()"
   ]
  },
  {
   "cell_type": "code",
   "execution_count": 9,
   "metadata": {
    "collapsed": true
   },
   "outputs": [],
   "source": [
    "train_rcn = (mnist.train.p\n",
    "            .init_variable('rpn_loss', init_on_each_run=list)\n",
    "            .init_variable('rcn_loss', init_on_each_run=list)\n",
    "            .import_model('RPN', train_rpn)\n",
    "            .generate_images(image_shape=IMAGE_SHAPE, \n",
    "                             n_digits=MNIST_PER_IMAGE, \n",
    "                             resize_to=RESIZE_TO)\n",
    "            .train_model('RPN', \n",
    "                          feed_dict=feed_dict_rpn, \n",
    "                          fetches=['loss'], \n",
    "                          save_to=[V('rpn_loss')], mode='a')\n",
    "            .train_model('RPN', \n",
    "                          feed_dict=feed_dict_rcn, \n",
    "                          fetches=['loss'], \n",
    "                          save_to=[V('rcn_loss')], mode='a'))"
   ]
  },
  {
   "cell_type": "code",
   "execution_count": 10,
   "metadata": {},
   "outputs": [
    {
     "data": {
      "image/png": "[encoded data removed]",
      "text/plain": [
       "<matplotlib.figure.Figure at 0x23024a0b2b0>"
      ]
     },
     "metadata": {},
     "output_type": "display_data"
    }
   ],
   "source": [
    "for i in range(1000):\n",
    "    train_rcn.next_batch(16)\n",
    "    clear_output(True)\n",
    "    plt.plot(train_rcn.get_variable('rpn_loss'))\n",
    "    plt.plot(train_rcn.get_variable('rcn_loss'))\n",
    "    plt.show()"
   ]
  },
  {
   "cell_type": "code",
   "execution_count": null,
   "metadata": {
    "collapsed": true
   },
   "outputs": [],
   "source": []
  }
 ],
 "metadata": {
  "kernelspec": {
   "display_name": "Python 3",
   "language": "python",
   "name": "python3"
  },
  "language_info": {
   "codemirror_mode": {
    "name": "ipython",
    "version": 3
   },
   "file_extension": ".py",
   "mimetype": "text/x-python",
   "name": "python",
   "nbconvert_exporter": "python",
   "pygments_lexer": "ipython3",
   "version": "3.5.2"
  }
 },
 "nbformat": 4,
 "nbformat_minor": 2
}
