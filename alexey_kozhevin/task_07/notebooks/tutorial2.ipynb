{
 "cells": [
  {
   "cell_type": "markdown",
   "metadata": {},
   "source": [
    "# Класс Research: эксперименты с пайплайнами. Часть 2\n",
    "В классе реализована возможность параллельного выполнения экспериментов с использованием нескольких процессов и GPU."
   ]
  },
  {
   "cell_type": "markdown",
   "metadata": {},
   "source": [
    "### Пример использования"
   ]
  },
  {
   "cell_type": "markdown",
   "metadata": {},
   "source": [
    "Усложним ранее рассмотренный пример. Предположим, что у пайплайна достаточно сложный препроцессинг, поэтому для экономии времени один обработанный батч можно пропускать через разные модели."
   ]
  },
  {
   "cell_type": "code",
   "execution_count": 1,
   "metadata": {
    "collapsed": true
   },
   "outputs": [],
   "source": [
    "import sys\n",
    "\n",
    "sys.path.append('..')\n",
    "\n",
    "from dataset import B, C, V, Config, Pipeline\n",
    "from dataset.opensets import MNIST\n",
    "from dataset.models.tf import VGG7"
   ]
  },
  {
   "cell_type": "code",
   "execution_count": 2,
   "metadata": {
    "collapsed": true
   },
   "outputs": [],
   "source": [
    "import tensorflow as tf\n",
    "\n",
    "model_config = {\n",
    "    'session/config': tf.ConfigProto(allow_soft_placement = True, \n",
    "                                     gpu_options=tf.GPUOptions(per_process_gpu_memory_fraction=0.4, \n",
    "                                                               allow_growth=True)),\n",
    "    'inputs/images': {\n",
    "        'shape': (28, 28, 1),\n",
    "        'type': 'float32',\n",
    "        'name': 'reshaped_images'\n",
    "    },\n",
    "    'inputs/labels': {\n",
    "        'classes': 10,\n",
    "        'type': 'int32',\n",
    "        'transform': 'ohe',\n",
    "        'name': 'targets'\n",
    "    },\n",
    "    'input_block/inputs': 'images',\n",
    "    'output/ops': ['accuracy'],\n",
    "    'loss': 'ce',\n",
    "    'optimizer': 'Adam'\n",
    "}\n",
    "\n",
    "feed_dict = {'images': B('images'),\n",
    "             'labels': B('labels')}"
   ]
  },
  {
   "cell_type": "code",
   "execution_count": 3,
   "metadata": {
    "collapsed": true
   },
   "outputs": [],
   "source": [
    "pipeline_config = Config(model_config=model_config)"
   ]
  },
  {
   "cell_type": "markdown",
   "metadata": {},
   "source": [
    "Выделим препроцессинг в отдельный пайплайн:"
   ]
  },
  {
   "cell_type": "code",
   "execution_count": 4,
   "metadata": {},
   "outputs": [
    {
     "name": "stdout",
     "output_type": "stream",
     "text": [
      "ExtractingExtractingExtracting Extracting  C:\\Users\\kozhevin\\AppData\\Local\\Temp\\train-images-idx3-ubyte.gz C:\\Users\\kozhevin\\AppData\\Local\\Temp\\train-labels-idx1-ubyte.gzC:\\Users\\kozhevin\\AppData\\Local\\Temp\\t10k-images-idx3-ubyte.gz\n",
      "C:\\Users\\kozhevin\\AppData\\Local\\Temp\\t10k-labels-idx1-ubyte.gz\n",
      "\n",
      "\n"
     ]
    }
   ],
   "source": [
    "mnist = MNIST()\n",
    "\n",
    "train_preproc = mnist.train.p.run(batch_size=32, shuffle=True, n_epochs=None, lazy=True)\n",
    "test_preproc = mnist.test.p.run(batch_size=100, shuffle=True, n_epochs=None, lazy=True)\n",
    "\n",
    "vgg7_train = (Pipeline()\n",
    "              .init_variable('loss', init_on_each_run=list)\n",
    "              .init_model('dynamic', VGG7, 'model', C('model_config'))\n",
    "              .train_model('model', feed_dict=feed_dict, fetches='loss', save_to=V('loss'), mode='a')\n",
    "             )\n",
    "\n",
    "vgg7_test = (Pipeline()\n",
    "             .init_variable('accuracy', init_on_each_run=list)\n",
    "             .import_model('model', C('import_model_from'))\n",
    "             .predict_model('model', feed_dict=feed_dict, fetches='output_accuracy', save_to=V('accuracy'), mode='a')\n",
    "            )"
   ]
  },
  {
   "cell_type": "markdown",
   "metadata": {},
   "source": [
    "Отметим, что пайплайны для препроцессинга должны содержать run с параметром lazy=True. Если препроцессинга нет, то lazy run должен быть в самом пайплайне."
   ]
  },
  {
   "cell_type": "code",
   "execution_count": 5,
   "metadata": {
    "collapsed": true
   },
   "outputs": [],
   "source": [
    "from grid import KV, Option\n",
    "p1 = KV('model_config/body/block/layout', 'layout')\n",
    "op = Option(p1, ['cna', 'can', 'acn'])"
   ]
  },
  {
   "cell_type": "code",
   "execution_count": 6,
   "metadata": {
    "collapsed": true
   },
   "outputs": [],
   "source": [
    "from research import Research\n",
    "\n",
    "mr = Research()\n",
    "mr.add_pipeline(vgg7_train, 'loss', preproc=train_preproc, config=pipeline_config, name='train')\n",
    "mr.add_pipeline(vgg7_test, 'accuracy', preproc=test_preproc, config=pipeline_config, import_model_from='train')\n",
    "mr.add_grid_config(op)\n",
    "mr.run(n_reps=10, n_iters=100, n_jobs=2, model_per_preproc=2, name='preproc_research')"
   ]
  },
  {
   "cell_type": "markdown",
   "metadata": {
    "collapsed": true
   },
   "source": [
    "<img src=\"pic1.png\">"
   ]
  },
  {
   "cell_type": "markdown",
   "metadata": {},
   "source": [
    "В таком случае в каждом воркере (парметр n_jobs) на одних и тех же батчах прогоняются сразу два пайплайна с разными конфигами в разных тредах. В данном примере такая возможность не представляет интереса, поскольку весь препроцессинг заключается в загрузке данных, однако в реальных задачах за счёт этого можно выиграть время, особенно если есть несколько GPU."
   ]
  },
  {
   "cell_type": "markdown",
   "metadata": {
    "collapsed": true
   },
   "source": [
    "Параметр model_per_preproc может быть не только числом, но и листом из словарей:"
   ]
  },
  {
   "cell_type": "code",
   "execution_count": 7,
   "metadata": {
    "collapsed": true
   },
   "outputs": [],
   "source": [
    "model_per_preproc = [{'model_config/device': 'device:GPU:0'}, {'model_config/device': 'device:GPU:1'}]"
   ]
  },
  {
   "cell_type": "markdown",
   "metadata": {
    "collapsed": true
   },
   "source": [
    "В таком случае каждый батч будет обрабатываться двумя пайплайнами. В каждый конфиг будет добавлено по одному элементу списка."
   ]
  },
  {
   "cell_type": "code",
   "execution_count": 8,
   "metadata": {
    "collapsed": true
   },
   "outputs": [],
   "source": [
    "mr = Research()\n",
    "mr.add_pipeline(vgg7_train, 'loss', preproc=train_preproc, config=pipeline_config, name='train')\n",
    "mr.add_pipeline(vgg7_test, 'accuracy', preproc=test_preproc, config=pipeline_config, import_model_from='train')\n",
    "mr.add_grid_config(op)\n",
    "mr.run(n_reps=10, n_iters=100, n_jobs=2, model_per_preproc=model_per_preproc, name='gpu_research')"
   ]
  },
  {
   "cell_type": "markdown",
   "metadata": {},
   "source": [
    "Параметр n_jobs также может принимать не только целочисленные значения, но и быть списком экземпляров класса Worker или его наследников. Благодаря этому можно кастомизировать работу воркеров с заданиями."
   ]
  }
 ],
 "metadata": {
  "kernelspec": {
   "display_name": "Python 3",
   "language": "python",
   "name": "python3"
  },
  "language_info": {
   "codemirror_mode": {
    "name": "ipython",
    "version": 3
   },
   "file_extension": ".py",
   "mimetype": "text/x-python",
   "name": "python",
   "nbconvert_exporter": "python",
   "pygments_lexer": "ipython3",
   "version": "3.5.2"
  }
 },
 "nbformat": 4,
 "nbformat_minor": 2
}
