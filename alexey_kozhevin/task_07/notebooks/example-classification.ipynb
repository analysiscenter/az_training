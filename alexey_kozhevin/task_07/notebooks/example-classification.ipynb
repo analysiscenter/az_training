{
 "cells": [
  {
   "cell_type": "code",
   "execution_count": 1,
   "metadata": {
    "collapsed": true
   },
   "outputs": [],
   "source": [
    "import sys\n",
    "from time import time\n",
    "import numpy as np\n",
    "\n",
    "sys.path.append('..')\n",
    "\n",
    "import matplotlib.pyplot as plt\n",
    "from dataset.models.tf import VGG7, VGG16\n",
    "from dataset import B, Pipeline, C, V, Config\n",
    "from dataset.opensets import MNIST\n",
    "\n",
    "from grid import Option, KV, Grid\n",
    "\n",
    "from singlerun import SingleRunning\n",
    "from multiplerun import Research\n",
    "\n",
    "import tensorflow as tf"
   ]
  },
  {
   "cell_type": "code",
   "execution_count": 2,
   "metadata": {
    "collapsed": true
   },
   "outputs": [],
   "source": [
    "shape = (28, 28, 1)\n",
    "n_classes = 10"
   ]
  },
  {
   "cell_type": "code",
   "execution_count": 3,
   "metadata": {
    "collapsed": true
   },
   "outputs": [],
   "source": [
    "placeholders_config = {\n",
    "    'images': {'shape': shape,\n",
    "               'type': 'float32',\n",
    "               'name': 'reshaped_images'\n",
    "              },\n",
    "    'labels': {'classes': n_classes,\n",
    "               'type': 'int32',\n",
    "               'transform': 'ohe',\n",
    "               'name': 'targets'\n",
    "              }\n",
    "}\n",
    "\n",
    "feed_dict = {'images': B('images'),\n",
    "             'labels': B('labels')}"
   ]
  },
  {
   "cell_type": "code",
   "execution_count": 4,
   "metadata": {
    "collapsed": true
   },
   "outputs": [],
   "source": [
    "model_config = {\n",
    "    'session/config': tf.ConfigProto(gpu_options=tf.GPUOptions(per_process_gpu_memory_fraction=0.6, allow_growth=True)),\n",
    "    'inputs': placeholders_config,\n",
    "    'input_block/inputs': 'images',\n",
    "    'batch_norm': {'momentum': 0.1},\n",
    "    'output': {'ops': ['accuracy']},\n",
    "    'loss': 'ce',\n",
    "    'optimizer': 'Adam'\n",
    "}"
   ]
  },
  {
   "cell_type": "code",
   "execution_count": 5,
   "metadata": {
    "collapsed": true
   },
   "outputs": [],
   "source": [
    "ppl_cfg = Config(model_config=model_config)"
   ]
  },
  {
   "cell_type": "code",
   "execution_count": 14,
   "metadata": {
    "collapsed": true
   },
   "outputs": [],
   "source": [
    "op1 = Option(KV('model_config/head/units', 'A'), [KV([100, 100, 10], 'small')])\n",
    "op2 = Option(KV('model_config/body/block', 'B'), \n",
    "             [KV(dict(layout='cna'), 'cna'), \n",
    "              KV(dict(layout='can'), 'can'), \n",
    "              KV(dict(layout='acn'), 'acn')])\n",
    "op3 = Option(KV('model_config/batch_norm/momentum', 'momentum'), [0.1, 0.5])\n",
    "op4 = Option('model', [KV(VGG7, 'VGG7')])\n",
    "grid_config = op2 * op4"
   ]
  },
  {
   "cell_type": "code",
   "execution_count": 15,
   "metadata": {},
   "outputs": [
    {
     "name": "stdout",
     "output_type": "stream",
     "text": [
      "Extracting C:\\Users\\kozhevin\\AppData\\Local\\Temp\\train-images-idx3-ubyte.gz\n",
      "ExtractingExtracting  ExtractingC:\\Users\\kozhevin\\AppData\\Local\\Temp\\train-labels-idx1-ubyte.gzC:\\Users\\kozhevin\\AppData\\Local\\Temp\\t10k-images-idx3-ubyte.gz \n",
      "\n",
      "C:\\Users\\kozhevin\\AppData\\Local\\Temp\\t10k-labels-idx1-ubyte.gz\n"
     ]
    }
   ],
   "source": [
    "mnist = MNIST()\n",
    "train_preproc = mnist.train.p.run(batch_size=8, shuffle=True, n_epochs=None, lazy=True)\n",
    "test_preproc = mnist.test.p.run(batch_size=10, shuffle=True, n_epochs=None, lazy=True)\n",
    "train_ppl = (Pipeline()\n",
    "             .init_variable('loss', init_on_each_run=list)\n",
    "             .init_model('dynamic', C('model'), 'model', C('model_config'))\n",
    "             .train_model('model', feed_dict=feed_dict, fetches='loss', save_to=V('loss'), mode='a')\n",
    "            )\n",
    "\n",
    "test_ppl = (Pipeline()\n",
    "             .init_variable('accuracy', init_on_each_run=list)\n",
    "             .import_model('model', C('import_model_from'))\n",
    "             .predict_model('model', feed_dict=feed_dict, fetches='output_accuracy', save_to=V('accuracy'), mode='a')\n",
    "            )"
   ]
  },
  {
   "cell_type": "code",
   "execution_count": 16,
   "metadata": {
    "collapsed": true
   },
   "outputs": [],
   "source": [
    "mr = Research()\n",
    "mr.add_pipeline(train_ppl, 'loss', config=ppl_cfg, preproc=train_preproc, name='train')\n",
    "mr.add_pipeline(test_ppl, 'accuracy', config=ppl_cfg, preproc=test_preproc, name='test', import_model_from='train')\n",
    "mr.add_grid_config(grid_config)"
   ]
  },
  {
   "cell_type": "code",
   "execution_count": 17,
   "metadata": {},
   "outputs": [
    {
     "name": "stdout",
     "output_type": "stream",
     "text": [
      "85.8184916973114\n"
     ]
    }
   ],
   "source": [
    "start = time()\n",
    "mr.run(n_reps=2, n_iters=10, n_jobs=1)\n",
    "print(time() - start)"
   ]
  },
  {
   "cell_type": "code",
   "execution_count": 13,
   "metadata": {},
   "outputs": [
    {
     "data": {
      "text/plain": [
       "[{'B': 'cna', 'model': dataset.models.tf.vgg.VGG7},\n",
       " {'B': 'can', 'model': dataset.models.tf.vgg.VGG7},\n",
       " {'B': 'acn', 'model': dataset.models.tf.vgg.VGG7}]"
      ]
     },
     "execution_count": 13,
     "metadata": {},
     "output_type": "execute_result"
    }
   ],
   "source": [
    "[item.alias() for item in grid_config.gen_configs()]"
   ]
  },
  {
   "cell_type": "code",
   "execution_count": null,
   "metadata": {
    "collapsed": true
   },
   "outputs": [],
   "source": []
  }
 ],
 "metadata": {
  "kernelspec": {
   "display_name": "Python 3",
   "language": "python",
   "name": "python3"
  },
  "language_info": {
   "codemirror_mode": {
    "name": "ipython",
    "version": 3
   },
   "file_extension": ".py",
   "mimetype": "text/x-python",
   "name": "python",
   "nbconvert_exporter": "python",
   "pygments_lexer": "ipython3",
   "version": "3.5.2"
  }
 },
 "nbformat": 4,
 "nbformat_minor": 2
}
