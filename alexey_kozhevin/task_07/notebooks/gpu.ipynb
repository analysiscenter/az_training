{
 "cells": [
  {
   "cell_type": "markdown",
   "metadata": {},
   "source": [
    "# Способы задания GPU в Tensorflow"
   ]
  },
  {
   "cell_type": "markdown",
   "metadata": {},
   "source": [
    "Есть как минимум три способа задать GPU:\n",
    "<ul>\n",
    " <li>Через контекст with tf.device(device_name) </li>\n",
    " <li>Через конфиг сессии</li>\n",
    " <li>Через переменную окружения CUDA_VISIBLE_DEVICES</li>\n",
    "</ul>\n",
    "\n",
    "Если в данном ноутбуке запускать последовательно несколько ячеек с кодом, то они могут падать с ошибкой. Для теста выберете одну ячейку. В сессии передаётся параметр log_device_placement=True для того, чтобы в консоль выводилась информация о привязке операций к устройствам."
   ]
  },
  {
   "cell_type": "markdown",
   "metadata": {},
   "source": [
    "## 1. Через контекст with tf.device(device_name)"
   ]
  },
  {
   "cell_type": "markdown",
   "metadata": {},
   "source": [
    "Данный способ позволяет выбрать конкретные устройства для создаваемых операций."
   ]
  },
  {
   "cell_type": "code",
   "execution_count": 1,
   "metadata": {},
   "outputs": [
    {
     "name": "stdout",
     "output_type": "stream",
     "text": [
      "[name: \"/device:CPU:0\"\n",
      "device_type: \"CPU\"\n",
      "memory_limit: 268435456\n",
      "locality {\n",
      "}\n",
      "incarnation: 537567154419360896\n",
      ", name: \"/device:GPU:0\"\n",
      "device_type: \"GPU\"\n",
      "memory_limit: 3180108185\n",
      "locality {\n",
      "  bus_id: 1\n",
      "}\n",
      "incarnation: 4721743360676997290\n",
      "physical_device_desc: \"device: 0, name: GeForce GTX 1050 Ti, pci bus id: 0000:01:00.0, compute capability: 6.1\"\n",
      "]\n",
      "[3.0, 4.0, 7.0]\n"
     ]
    }
   ],
   "source": [
    "import tensorflow as tf\n",
    "from tensorflow.python.client import device_lib\n",
    "\n",
    "print(device_lib.list_local_devices())\n",
    "\n",
    "with tf.Session(config=tf.ConfigProto(log_device_placement=True)) as sess:\n",
    "    with tf.device('/cpu:0'): # имя устройства\n",
    "        a = tf.constant(3.0, name='a')\n",
    "    with tf.device('/gpu:0'): # имя устройства\n",
    "        b = tf.constant(4.0, name='b')\n",
    "    c = a + b\n",
    "    print(sess.run([a, b, c]))"
   ]
  },
  {
   "cell_type": "markdown",
   "metadata": {},
   "source": [
    "#### Вывод консоли хаба:"
   ]
  },
  {
   "cell_type": "code",
   "execution_count": null,
   "metadata": {
    "collapsed": true
   },
   "outputs": [],
   "source": [
    "# [name: \"/device:CPU:0\"\n",
    "# device_type: \"CPU\"\n",
    "# memory_limit: 268435456\n",
    "# locality {\n",
    "# }\n",
    "# incarnation: 3069901166767118002\n",
    "# , name: \"/device:GPU:0\"\n",
    "# device_type: \"GPU\"\n",
    "# memory_limit: 7969613415\n",
    "# locality {\n",
    "#   bus_id: 1\n",
    "# }\n",
    "# incarnation: 18230686911253752097\n",
    "# physical_device_desc: \"device: 0, name: GeForce GTX 1080, pci bus id: 0000:02:00.0, compute capability: 6.1\"\n",
    "# , name: \"/device:GPU:1\"\n",
    "# device_type: \"GPU\"\n",
    "# memory_limit: 224526336\n",
    "# locality {\n",
    "#   bus_id: 1\n",
    "# }\n",
    "# incarnation: 6531455301848960921\n",
    "# physical_device_desc: \"device: 1, name: GeForce GTX 1080, pci bus id: 0000:03:00.0, compute capability: 6.1\"\n",
    "# ]\n",
    "# .............\n",
    "# add: (Add): /job:localhost/replica:0/task:0/device:GPU:0\n",
    "# 2018-01-31 15:01:11.645857: I tensorflow/core/common_runtime/placer.cc:874] add: (Add)/job:localhost/replica:0/task:0/device:GPU:0\n",
    "# b: (Const): /job:localhost/replica:0/task:0/device:GPU:0\n",
    "# 2018-01-31 15:01:11.645898: I tensorflow/core/common_runtime/placer.cc:874] b: (Const)/job:localhost/replica:0/task:0/device:GPU:0\n",
    "# a: (Const): /job:localhost/replica:0/task:0/device:CPU:0\n",
    "# 2018-01-31 15:01:11.645914: I tensorflow/core/common_runtime/placer.cc:874] a: (Const)/job:localhost/replica:0/task:0/device:CPU:0\n",
    "# [3.0, 4.0, 7.0]"
   ]
  },
  {
   "cell_type": "markdown",
   "metadata": {},
   "source": [
    "## 2. Через конфиг сессии"
   ]
  },
  {
   "cell_type": "markdown",
   "metadata": {},
   "source": [
    "Через параметр device_count можно задать <b> количество </b> видимых устройств."
   ]
  },
  {
   "cell_type": "code",
   "execution_count": 1,
   "metadata": {},
   "outputs": [
    {
     "name": "stdout",
     "output_type": "stream",
     "text": [
      "[name: \"/device:CPU:0\"\n",
      "device_type: \"CPU\"\n",
      "memory_limit: 268435456\n",
      "locality {\n",
      "}\n",
      "incarnation: 5300259258099670425\n",
      ", name: \"/device:GPU:0\"\n",
      "device_type: \"GPU\"\n",
      "memory_limit: 3180108185\n",
      "locality {\n",
      "  bus_id: 1\n",
      "}\n",
      "incarnation: 9538397050493116081\n",
      "physical_device_desc: \"device: 0, name: GeForce GTX 1050 Ti, pci bus id: 0000:01:00.0, compute capability: 6.1\"\n",
      "]\n",
      "[3.0, 4.0]\n"
     ]
    }
   ],
   "source": [
    "import tensorflow as tf\n",
    "from tensorflow.python.client import device_lib\n",
    "\n",
    "print(device_lib.list_local_devices())\n",
    "\n",
    "device_count = {\n",
    "    'CPU' : 1, # сделать доступным один процессор\n",
    "    'GPU' : 0  # ни одна GPU не видна\n",
    "}\n",
    "\n",
    "with tf.Session(config=tf.ConfigProto(device_count = {'CPU' : 1, 'GPU' : 0}, log_device_placement=True)) as sess1:\n",
    "    a = tf.constant(3.0, name='a1')\n",
    "    b = tf.constant(4.0, name='b1') \n",
    "    print(sess1.run([a, b]))"
   ]
  },
  {
   "cell_type": "markdown",
   "metadata": {},
   "source": [
    "#### Вывод консоли хаба:"
   ]
  },
  {
   "cell_type": "code",
   "execution_count": 4,
   "metadata": {
    "collapsed": true
   },
   "outputs": [],
   "source": [
    "# [name: \"/device:CPU:0\"\n",
    "# device_type: \"CPU\"\n",
    "# memory_limit: 268435456\n",
    "# locality {\n",
    "# }\n",
    "# incarnation: 8456035870316386041\n",
    "# , name: \"/device:GPU:0\"\n",
    "# device_type: \"GPU\"\n",
    "# memory_limit: 7969613415\n",
    "# locality {\n",
    "#   bus_id: 1\n",
    "# }\n",
    "# incarnation: 17759846440389336139\n",
    "# physical_device_desc: \"device: 0, name: GeForce GTX 1080, pci bus id: 0000:02:00.0, compute capability: 6.1\"\n",
    "# , name: \"/device:GPU:1\"\n",
    "# device_type: \"GPU\"\n",
    "# memory_limit: 224526336\n",
    "# locality {\n",
    "#   bus_id: 1\n",
    "# }\n",
    "# incarnation: 424212233639155799\n",
    "# physical_device_desc: \"device: 1, name: GeForce GTX 1080, pci bus id: 0000:03:00.0, compute capability: 6.1\"\n",
    "# ]\n",
    "# ..........\n",
    "# b1: (Const): /job:localhost/replica:0/task:0/device:CPU:0\n",
    "# 2018-01-31 15:02:25.748722: I tensorflow/core/common_runtime/placer.cc:874] b1: (Const)/job:localhost/replica:0/task:0/device:CPU:0\n",
    "# a1: (Const): /job:localhost/replica:0/task:0/device:CPU:0\n",
    "# 2018-01-31 15:02:25.748760: I tensorflow/core/common_runtime/placer.cc:874] a1: (Const)/job:localhost/replica:0/task:0/device:CPU:0\n",
    "# [3.0, 4.0]"
   ]
  },
  {
   "cell_type": "markdown",
   "metadata": {},
   "source": [
    "## 3. Через переменную окружения CUDA_VISIBLE_DEVICES"
   ]
  },
  {
   "cell_type": "markdown",
   "metadata": {},
   "source": [
    "Через переменную CUDA_VISIBLE_DEVICES можно перечислить индексы GPU, которые будут доступны. Исчерпывающее описание правил задания можно найти по ссылке http://acceleware.com/blog/cudavisibledevices-masking-gpus"
   ]
  },
  {
   "cell_type": "code",
   "execution_count": 1,
   "metadata": {},
   "outputs": [
    {
     "name": "stdout",
     "output_type": "stream",
     "text": [
      "[name: \"/device:CPU:0\"\n",
      "device_type: \"CPU\"\n",
      "memory_limit: 268435456\n",
      "locality {\n",
      "}\n",
      "incarnation: 15263809931967402913\n",
      "]\n",
      "[3.0, 4.0]\n"
     ]
    }
   ],
   "source": [
    "import os\n",
    "import tensorflow as tf\n",
    "\n",
    "os.environ[\"CUDA_DEVICE_ORDER\"]=\"PCI_BUS_ID\"\n",
    "os.environ[\"CUDA_VISIBLE_DEVICES\"]=\"2\"\n",
    "\n",
    "from tensorflow.python.client import device_lib\n",
    "print(device_lib.list_local_devices())\n",
    "\n",
    "a = tf.constant(3.0, name='a')\n",
    "b = tf.constant(4.0, name='b')    \n",
    "with tf.Session(config=tf.ConfigProto(log_device_placement=True)) as sess:\n",
    "    print(sess.run([a, b]))"
   ]
  },
  {
   "cell_type": "markdown",
   "metadata": {},
   "source": [
    "#### Вывод консоли хаба:"
   ]
  },
  {
   "cell_type": "code",
   "execution_count": null,
   "metadata": {
    "collapsed": true
   },
   "outputs": [],
   "source": [
    "# [name: \"/device:CPU:0\"\n",
    "# device_type: \"CPU\"\n",
    "# memory_limit: 268435456\n",
    "# locality {\n",
    "# }\n",
    "# incarnation: 9352295143490226447\n",
    "# ]\n",
    "# Device mapping: no known devices.\n",
    "# .............\n",
    "\n",
    "# b: (Const): /job:localhost/replica:0/task:0/device:CPU:0\n",
    "# 2018-01-31 15:03:12.782593: I tensorflow/core/common_runtime/placer.cc:874] b: (Const)/job:localhost/replica:0/task:0/device:CPU:0\n",
    "# a: (Const): /job:localhost/replica:0/task:0/device:CPU:0\n",
    "# 2018-01-31 15:03:12.782634: I tensorflow/core/common_runtime/placer.cc:874] a: (Const)/job:localhost/replica:0/task:0/device:CPU:0\n",
    "# [3.0, 4.0]"
   ]
  }
 ],
 "metadata": {
  "kernelspec": {
   "display_name": "Python 3",
   "language": "python",
   "name": "python3"
  },
  "language_info": {
   "codemirror_mode": {
    "name": "ipython",
    "version": 3
   },
   "file_extension": ".py",
   "mimetype": "text/x-python",
   "name": "python",
   "nbconvert_exporter": "python",
   "pygments_lexer": "ipython3",
   "version": "3.5.2"
  }
 },
 "nbformat": 4,
 "nbformat_minor": 2
}
