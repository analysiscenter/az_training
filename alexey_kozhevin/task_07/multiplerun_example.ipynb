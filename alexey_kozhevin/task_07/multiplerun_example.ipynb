{
 "cells": [
  {
   "cell_type": "code",
   "execution_count": 1,
   "metadata": {},
   "outputs": [],
   "source": [
    "import sys\n",
    "\n",
    "sys.path.append('..')\n",
    "\n",
    "from dataset import Pipeline, B, V, C, Config\n",
    "from dataset.opensets import MNIST\n",
    "from dataset.models.tf import VGG7\n",
    "from multiplerun import SingleRunning, MultipleRunning\n",
    "from distributor import Tasks, PipelineWorker"
   ]
  },
  {
   "cell_type": "code",
   "execution_count": 2,
   "metadata": {
    "collapsed": true
   },
   "outputs": [],
   "source": [
    "placeholders_config = {\n",
    "    'images': {'shape': (28, 28, 1),\n",
    "               'type': 'float32',\n",
    "               'name': 'reshaped_images'\n",
    "              },\n",
    "    'labels': {'classes': 10,\n",
    "               'type': 'int32',\n",
    "               'transform': 'ohe',\n",
    "               'name': 'targets'\n",
    "              }\n",
    "}\n",
    "\n",
    "feed_dict = {'images': B('images'),\n",
    "             'labels': B('labels')}"
   ]
  },
  {
   "cell_type": "code",
   "execution_count": 3,
   "metadata": {
    "collapsed": true
   },
   "outputs": [],
   "source": [
    "config = {'inputs': placeholders_config,\n",
    "          'input_block/inputs': 'images',\n",
    "          'batch_norm': {'momentum': 0.1},\n",
    "          'output': {'ops': ['accuracy']},\n",
    "          'loss': 'ce',\n",
    "          'optimizer': 'Adam'}\n",
    "\n",
    "ppl_config = {'model_config': config}"
   ]
  },
  {
   "cell_type": "code",
   "execution_count": 4,
   "metadata": {},
   "outputs": [
    {
     "name": "stdout",
     "output_type": "stream",
     "text": [
      "ExtractingExtractingExtractingExtracting    C:\\Users\\kozhevin\\AppData\\Local\\Temp\\t10k-labels-idx1-ubyte.gzC:\\Users\\kozhevin\\AppData\\Local\\Temp\\t10k-images-idx3-ubyte.gzC:\\Users\\kozhevin\\AppData\\Local\\Temp\\train-labels-idx1-ubyte.gzC:\\Users\\kozhevin\\AppData\\Local\\Temp\\train-images-idx3-ubyte.gz\n",
      "\n",
      "\n",
      "\n"
     ]
    }
   ],
   "source": [
    "mnist = MNIST()\n",
    "train_ppl = (mnist.train.p\n",
    "             .init_variable('loss', init_on_each_run=list)\n",
    "             .init_model('dynamic', VGG7, 'model', C('model_config'))\n",
    "             .train_model('model', feed_dict=feed_dict, fetches='loss', save_to=V('loss'), mode='a')\n",
    "             .run(batch_size=10, shuffle=True, n_epochs=None, lazy=True)\n",
    "            )\n",
    "\n",
    "test_ppl = (mnist.train.p\n",
    "             .init_variable('accuracy', init_on_each_run=list)\n",
    "             .import_model('model', train_ppl)\n",
    "             .predict_model('model', feed_dict=feed_dict, fetches='output_accuracy', save_to=V('accuracy'), mode='a')\n",
    "             .run(batch_size=32, shuffle=True, n_epochs=None, lazy=True)\n",
    "            )"
   ]
  },
  {
   "cell_type": "code",
   "execution_count": 5,
   "metadata": {
    "collapsed": true
   },
   "outputs": [],
   "source": [
    "mr = MultipleRunning()\n",
    "mr.add_pipeline(train_ppl, 'loss', Config(ppl_config))\n",
    "mr.add_pipeline(test_ppl, 'accuracy')\n",
    "mr.add_"
   ]
  },
  {
   "cell_type": "code",
   "execution_count": 6,
   "metadata": {},
   "outputs": [
    {
     "data": {
      "text/plain": [
       "[{'cfg': Config({'model_config': {'loss': 'ce', 'output': {'ops': ['accuracy']}, 'optimizer': 'Adam', 'input_block': {'inputs': 'images'}, 'inputs': {'labels': {'name': 'targets', 'transform': 'ohe', 'classes': 10, 'type': 'int32'}, 'images': {'name': 'reshaped_images', 'shape': (28, 28, 1), 'type': 'float32'}}, 'batch_norm': {'momentum': 0.1}}}),\n",
       "  'name': 'ppl_0',\n",
       "  'ppl': <dataset.dataset.pipeline.Pipeline at 0x1d2e424cb00>,\n",
       "  'var': ['loss']},\n",
       " {'cfg': Config({}),\n",
       "  'name': 'ppl_1',\n",
       "  'ppl': <dataset.dataset.pipeline.Pipeline at 0x1d2e424cf60>,\n",
       "  'var': ['accuracy']}]"
      ]
     },
     "execution_count": 6,
     "metadata": {},
     "output_type": "execute_result"
    }
   ],
   "source": [
    "mr.pipelines"
   ]
  },
  {
   "cell_type": "code",
   "execution_count": 7,
   "metadata": {},
   "outputs": [
    {
     "ename": "AttributeError",
     "evalue": "'MultipleRunning' object has no attribute 'grid_config'",
     "output_type": "error",
     "traceback": [
      "\u001b[1;31m---------------------------------------------------------------------------\u001b[0m",
      "\u001b[1;31mAttributeError\u001b[0m                            Traceback (most recent call last)",
      "\u001b[1;32m<ipython-input-7-55f262a813bb>\u001b[0m in \u001b[0;36m<module>\u001b[1;34m()\u001b[0m\n\u001b[1;32m----> 1\u001b[1;33m \u001b[0mres\u001b[0m \u001b[1;33m=\u001b[0m \u001b[0mmr\u001b[0m\u001b[1;33m.\u001b[0m\u001b[0mrun\u001b[0m\u001b[1;33m(\u001b[0m\u001b[1;36m10\u001b[0m\u001b[1;33m,\u001b[0m \u001b[1;36m10\u001b[0m\u001b[1;33m)\u001b[0m\u001b[1;33m\u001b[0m\u001b[0m\n\u001b[0m",
      "\u001b[1;32mc:\\projects\\az_training\\alexey_kozhevin\\task_07\\multiplerun.py\u001b[0m in \u001b[0;36mrun\u001b[1;34m(self, n_reps, n_iters, names, n_jobs)\u001b[0m\n\u001b[0;32m    154\u001b[0m \u001b[1;33m\u001b[0m\u001b[0m\n\u001b[0;32m    155\u001b[0m     \u001b[1;32mdef\u001b[0m \u001b[0mrun\u001b[0m\u001b[1;33m(\u001b[0m\u001b[0mself\u001b[0m\u001b[1;33m,\u001b[0m \u001b[0mn_reps\u001b[0m\u001b[1;33m,\u001b[0m \u001b[0mn_iters\u001b[0m\u001b[1;33m,\u001b[0m \u001b[0mnames\u001b[0m\u001b[1;33m=\u001b[0m\u001b[1;32mNone\u001b[0m\u001b[1;33m,\u001b[0m \u001b[0mn_jobs\u001b[0m\u001b[1;33m=\u001b[0m\u001b[1;36m1\u001b[0m\u001b[1;33m)\u001b[0m\u001b[1;33m:\u001b[0m\u001b[1;33m\u001b[0m\u001b[0m\n\u001b[1;32m--> 156\u001b[1;33m         \u001b[0mself\u001b[0m\u001b[1;33m.\u001b[0m\u001b[0m_create_tasks\u001b[0m\u001b[1;33m(\u001b[0m\u001b[0mn_reps\u001b[0m\u001b[1;33m,\u001b[0m \u001b[0mn_iters\u001b[0m\u001b[1;33m,\u001b[0m \u001b[0mnames\u001b[0m\u001b[1;33m=\u001b[0m\u001b[1;32mNone\u001b[0m\u001b[1;33m)\u001b[0m\u001b[1;33m\u001b[0m\u001b[0m\n\u001b[0m\u001b[0;32m    157\u001b[0m         \u001b[1;31m#distr = Distributor(PipelineWorker, n_jobs)\u001b[0m\u001b[1;33m\u001b[0m\u001b[1;33m\u001b[0m\u001b[0m\n\u001b[0;32m    158\u001b[0m         \u001b[1;31m#distr.run(self.tasks)\u001b[0m\u001b[1;33m\u001b[0m\u001b[1;33m\u001b[0m\u001b[0m\n",
      "\u001b[1;32mc:\\projects\\az_training\\alexey_kozhevin\\task_07\\multiplerun.py\u001b[0m in \u001b[0;36m_create_tasks\u001b[1;34m(self, n_reps, n_iters, names)\u001b[0m\n\u001b[0;32m    148\u001b[0m              \u001b[1;34m'save_to'\u001b[0m\u001b[1;33m:\u001b[0m \u001b[0mos\u001b[0m\u001b[1;33m.\u001b[0m\u001b[0mpath\u001b[0m\u001b[1;33m.\u001b[0m\u001b[0mjoin\u001b[0m\u001b[1;33m(\u001b[0m\u001b[0mstr\u001b[0m\u001b[1;33m(\u001b[0m\u001b[0midx\u001b[0m\u001b[1;33m)\u001b[0m\u001b[1;33m,\u001b[0m \u001b[0mconfig\u001b[0m\u001b[1;33m.\u001b[0m\u001b[0malias\u001b[0m\u001b[1;33m(\u001b[0m\u001b[0mas_string\u001b[0m\u001b[1;33m=\u001b[0m\u001b[1;32mTrue\u001b[0m\u001b[1;33m)\u001b[0m\u001b[1;33m)\u001b[0m\u001b[1;33m,\u001b[0m\u001b[1;33m\u001b[0m\u001b[0m\n\u001b[0;32m    149\u001b[0m              }\n\u001b[1;32m--> 150\u001b[1;33m              \u001b[1;32mfor\u001b[0m \u001b[0mconfig\u001b[0m \u001b[1;32min\u001b[0m \u001b[0mself\u001b[0m\u001b[1;33m.\u001b[0m\u001b[0mgrid_config\u001b[0m\u001b[1;33m.\u001b[0m\u001b[0mgen_configs\u001b[0m\u001b[1;33m\u001b[0m\u001b[0m\n\u001b[0m\u001b[0;32m    151\u001b[0m              \u001b[1;32mfor\u001b[0m \u001b[0midx\u001b[0m \u001b[1;32min\u001b[0m \u001b[0mn_reps\u001b[0m\u001b[1;33m\u001b[0m\u001b[0m\n\u001b[0;32m    152\u001b[0m         )\n",
      "\u001b[1;31mAttributeError\u001b[0m: 'MultipleRunning' object has no attribute 'grid_config'"
     ]
    }
   ],
   "source": [
    "res = mr.run(10, 10)"
   ]
  },
  {
   "cell_type": "code",
   "execution_count": 11,
   "metadata": {},
   "outputs": [
    {
     "data": {
      "text/plain": [
       "{'ppl_0': {'loss': [[2.4249415,\n",
       "    139.95316,\n",
       "    368.50092,\n",
       "    461.90274,\n",
       "    262.2561,\n",
       "    208.83847,\n",
       "    250.88113,\n",
       "    265.85931,\n",
       "    134.89742,\n",
       "    107.90481]]},\n",
       " 'ppl_1': {'accuracy': [[0.125,\n",
       "    0.0625,\n",
       "    0.1875,\n",
       "    0.125,\n",
       "    0.0625,\n",
       "    0.0625,\n",
       "    0.1875,\n",
       "    0.125,\n",
       "    0.03125,\n",
       "    0.15625]]}}"
      ]
     },
     "execution_count": 11,
     "metadata": {},
     "output_type": "execute_result"
    }
   ],
   "source": [
    "res.stat"
   ]
  },
  {
   "cell_type": "code",
   "execution_count": 13,
   "metadata": {},
   "outputs": [
    {
     "name": "stdout",
     "output_type": "stream",
     "text": [
      "False\n",
      "False\n",
      "hello\n"
     ]
    }
   ],
   "source": [
    "from concurrent.futures import ThreadPoolExecutor\n",
    "from time import sleep\n",
    " \n",
    "def return_after_5_secs(message):\n",
    "    sleep(5)\n",
    "    return message\n",
    " \n",
    "pool = ThreadPoolExecutor(3)\n",
    " \n",
    "future = pool.submit(return_after_5_secs, (\"hello\"))\n",
    "print(future.done())\n",
    "sleep(5)\n",
    "print(future.done())\n",
    "print(future.result())"
   ]
  },
  {
   "cell_type": "code",
   "execution_count": 14,
   "metadata": {},
   "outputs": [
    {
     "name": "stdout",
     "output_type": "stream",
     "text": [
      "True\n"
     ]
    }
   ],
   "source": [
    "print(future.done())"
   ]
  }
 ],
 "metadata": {
  "kernelspec": {
   "display_name": "Python 3",
   "language": "python",
   "name": "python3"
  },
  "language_info": {
   "codemirror_mode": {
    "name": "ipython",
    "version": 3
   },
   "file_extension": ".py",
   "mimetype": "text/x-python",
   "name": "python",
   "nbconvert_exporter": "python",
   "pygments_lexer": "ipython3",
   "version": "3.5.2"
  }
 },
 "nbformat": 4,
 "nbformat_minor": 2
}
