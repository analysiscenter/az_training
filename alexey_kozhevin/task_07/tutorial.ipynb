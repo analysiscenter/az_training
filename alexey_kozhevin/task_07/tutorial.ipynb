{
 "cells": [
  {
   "cell_type": "markdown",
   "metadata": {},
   "source": [
    "# Класс Research: эксперименты с пайплайнами\n",
    "Предназначен для многократного запуска одних и тех же пайплайнов с различными параметрами. Рассмотрим простой пример: запуск пайплайнов vgg7_train и vgg7_test на MNIST с различными значениями layout."
   ]
  },
  {
   "cell_type": "markdown",
   "metadata": {},
   "source": [
    "### Пример использования"
   ]
  },
  {
   "cell_type": "code",
   "execution_count": 1,
   "metadata": {},
   "outputs": [],
   "source": [
    "import sys\n",
    "\n",
    "sys.path.append('..')\n",
    "\n",
    "from dataset import B, C, V, Config\n",
    "from dataset.opensets import MNIST\n",
    "from dataset.models.tf import VGG7"
   ]
  },
  {
   "cell_type": "code",
   "execution_count": 2,
   "metadata": {
    "collapsed": true
   },
   "outputs": [],
   "source": [
    "model_config = {\n",
    "    'inputs/images': {\n",
    "        'shape': (28, 28, 1),\n",
    "        'type': 'float32',\n",
    "        'name': 'reshaped_images'\n",
    "    },\n",
    "    'inputs/labels': {\n",
    "        'classes': 10,\n",
    "        'type': 'int32',\n",
    "        'transform': 'ohe',\n",
    "        'name': 'targets'\n",
    "    },\n",
    "    'input_block/inputs': 'images',\n",
    "    'output/ops': ['accuracy'],\n",
    "    'loss': 'ce',\n",
    "    'optimizer': 'Adam'\n",
    "}\n",
    "\n",
    "feed_dict = {'images': B('images'),\n",
    "             'labels': B('labels')}"
   ]
  },
  {
   "cell_type": "code",
   "execution_count": 3,
   "metadata": {
    "collapsed": true
   },
   "outputs": [],
   "source": [
    "pipeline_config = Config(model_config=model_config)"
   ]
  },
  {
   "cell_type": "code",
   "execution_count": 4,
   "metadata": {},
   "outputs": [
    {
     "name": "stdout",
     "output_type": "stream",
     "text": [
      "Extracting C:\\Users\\kozhevin\\AppData\\Local\\Temp\\train-images-idx3-ubyte.gzExtractingExtractingExtracting\n",
      "   C:\\Users\\kozhevin\\AppData\\Local\\Temp\\t10k-labels-idx1-ubyte.gzC:\\Users\\kozhevin\\AppData\\Local\\Temp\\train-labels-idx1-ubyte.gzC:\\Users\\kozhevin\\AppData\\Local\\Temp\\t10k-images-idx3-ubyte.gz\n",
      "\n",
      "\n"
     ]
    }
   ],
   "source": [
    "mnist = MNIST()\n",
    "\n",
    "vgg7_train = (mnist.train.p\n",
    "              .init_variable('loss', init_on_each_run=list)\n",
    "              .init_model('dynamic', VGG7, 'model', C('model_config'))\n",
    "              .train_model('model', feed_dict=feed_dict, fetches='loss', save_to=V('loss'), mode='a')\n",
    "              .run(batch_size=8, shuffle=True, n_epochs=None, lazy=True)\n",
    "             )\n",
    "\n",
    "vgg7_test = (mnist.test.p\n",
    "             .init_variable('accuracy', init_on_each_run=list)\n",
    "             .import_model('model', C('import_model_from'))\n",
    "             .predict_model('model', feed_dict=feed_dict, fetches='output_accuracy', save_to=V('accuracy'), mode='a')\n",
    "             .run(batch_size=10, shuffle=True, n_epochs=None, lazy=True)\n",
    "            )"
   ]
  },
  {
   "cell_type": "code",
   "execution_count": 5,
   "metadata": {},
   "outputs": [],
   "source": [
    "grid_config = {'model_config/body/block/layout': ['cna', 'can', 'acn']}"
   ]
  },
  {
   "cell_type": "code",
   "execution_count": 6,
   "metadata": {},
   "outputs": [],
   "source": [
    "from research import Research\n",
    "\n",
    "mr = Research()\n",
    "mr.add_pipeline(vgg7_train, 'loss', config=pipeline_config, name='train')\n",
    "mr.add_pipeline(vgg7_test, 'accuracy', config=pipeline_config, import_model_from='train')\n",
    "mr.add_grid_config(grid_config)\n",
    "mr.run(n_reps=2, n_iters=100, n_jobs=1, name='my_research')"
   ]
  },
  {
   "cell_type": "markdown",
   "metadata": {},
   "source": [
    "Далее мы более подробно разберём параметры метода run и требования к пайплайнам. Результаты экспериментов будут лежать в папке 'my_research/results'. Для каждой конфигурации будет создана отдельная папка, в которой будут лежать n_reps файлов (если в ходе эксперимента ничего не поломалось). Каждый файл - это pickle.dump со значениями переменных после указанного числа итераций. Названия папок будут следующие:"
   ]
  },
  {
   "cell_type": "raw",
   "metadata": {},
   "source": [
    "model_config/body/block/layout-cna\n",
    "model_config/body/block/layout-can\n",
    "model_config/body/block/layout-acn"
   ]
  },
  {
   "cell_type": "markdown",
   "metadata": {},
   "source": [
    "Плохо, что '/' будет командой по созданию подпапок. Можно было бы просто заменить его на какой-то другой символ, но кроме того, сами значения параметров могут быть более сложными. Например, grid может выглядеть следующим образом:"
   ]
  },
  {
   "cell_type": "code",
   "execution_count": 7,
   "metadata": {
    "collapsed": true
   },
   "outputs": [],
   "source": [
    "grid = {\n",
    "    'model_config/head/units': [[100, 100, 10], [100, 120, 10], [4096, 4096, 10]],\n",
    "    'model_config/body/block/layout': ['cna', 'can', 'acn']\n",
    "}"
   ]
  },
  {
   "cell_type": "markdown",
   "metadata": {},
   "source": [
    "Тогда строчные представления элементов сетки параметров будут иметь вид"
   ]
  },
  {
   "cell_type": "raw",
   "metadata": {},
   "source": [
    "model_config/body/block/layout-cna_model_config/head/units-[100, 100, 10]\n",
    "model_config/body/block/layout-cna_model_config/head/units-[100, 120, 10]\n",
    "model_config/body/block/layout-cna_model_config/head/units-[4096, 4096, 10]\n",
    "model_config/body/block/layout-can_model_config/head/units-[100, 100, 10]\n",
    "model_config/body/block/layout-can_model_config/head/units-[100, 120, 10]\n",
    "model_config/body/block/layout-can_model_config/head/units-[4096, 4096, 10]\n",
    "model_config/body/block/layout-acn_model_config/head/units-[100, 100, 10]\n",
    "model_config/body/block/layout-acn_model_config/head/units-[100, 120, 10]\n",
    "model_config/body/block/layout-acn_model_config/head/units-[4096, 4096, 10]"
   ]
  },
  {
   "cell_type": "markdown",
   "metadata": {},
   "source": [
    "Слишком сложная структура, хотя параметров всего 2. Избежать этого помогут классы KV, Option и Grid."
   ]
  },
  {
   "cell_type": "markdown",
   "metadata": {},
   "source": [
    "### Классы KV, Option и Grid\n",
    "Введены для удобной работы с сетками параметров, из которых будут генерироваться конфигурации пайплайнов для экспериментов."
   ]
  },
  {
   "cell_type": "code",
   "execution_count": 8,
   "metadata": {},
   "outputs": [],
   "source": [
    "from grid import KV, Option, Grid"
   ]
  },
  {
   "cell_type": "markdown",
   "metadata": {},
   "source": [
    "KV (key: value) - это просто пара значение-псевдоним. Добавим псевдонимы к названиям параметров:"
   ]
  },
  {
   "cell_type": "code",
   "execution_count": 9,
   "metadata": {
    "collapsed": true
   },
   "outputs": [],
   "source": [
    "p1 = KV('model_config/body/block/layout', 'layout')\n",
    "p2 = KV('model_config/head/units', 'head')"
   ]
  },
  {
   "cell_type": "code",
   "execution_count": 10,
   "metadata": {},
   "outputs": [
    {
     "data": {
      "text/plain": [
       "('model_config/body/block/layout', 'layout')"
      ]
     },
     "execution_count": 10,
     "metadata": {},
     "output_type": "execute_result"
    }
   ],
   "source": [
    "p1.value, p1.alias"
   ]
  },
  {
   "cell_type": "markdown",
   "metadata": {},
   "source": [
    "Также добавим псевдонимы к значениям 'model_config/head/units':"
   ]
  },
  {
   "cell_type": "code",
   "execution_count": 11,
   "metadata": {
    "collapsed": true
   },
   "outputs": [],
   "source": [
    "v1 = KV([100, 100, 10], 'small')\n",
    "v2 = KV([4096, 4096, 10], 'big')"
   ]
  },
  {
   "cell_type": "markdown",
   "metadata": {},
   "source": [
    "Option - это пара параметр-список значений, которые хотим перебрать. Как параметр, так и значения могут быть представлены как эеземпляры KV."
   ]
  },
  {
   "cell_type": "code",
   "execution_count": 12,
   "metadata": {
    "collapsed": true
   },
   "outputs": [],
   "source": [
    "op1 = Option(p1, ['cna', 'acn', 'can'])\n",
    "op2 = Option(p2, [v1, v2])"
   ]
  },
  {
   "cell_type": "code",
   "execution_count": 13,
   "metadata": {},
   "outputs": [
    {
     "data": {
      "text/plain": [
       "({'model_config/body/block/layout': ['cna', 'acn', 'can']},\n",
       " {'layout': ['cna', 'acn', 'can']})"
      ]
     },
     "execution_count": 13,
     "metadata": {},
     "output_type": "execute_result"
    }
   ],
   "source": [
    "op1.option(), op1.alias()"
   ]
  },
  {
   "cell_type": "code",
   "execution_count": 14,
   "metadata": {},
   "outputs": [
    {
     "data": {
      "text/plain": [
       "({'model_config/head/units': [[100, 100, 10], [4096, 4096, 10]]},\n",
       " {'head': ['small', 'big']})"
      ]
     },
     "execution_count": 14,
     "metadata": {},
     "output_type": "execute_result"
    }
   ],
   "source": [
    "op2.option(), op2.alias()"
   ]
  },
  {
   "cell_type": "markdown",
   "metadata": {},
   "source": [
    "Экземпляры Option можно складывать и перемножать. Результатом будет экземпляр класса Grid."
   ]
  },
  {
   "cell_type": "code",
   "execution_count": 15,
   "metadata": {},
   "outputs": [
    {
     "data": {
      "text/plain": [
       "Grid([[{'layout': ['cna', 'acn', 'can']}, {'head': ['small', 'big']}]])"
      ]
     },
     "execution_count": 15,
     "metadata": {},
     "output_type": "execute_result"
    }
   ],
   "source": [
    "op1 * op2"
   ]
  },
  {
   "cell_type": "code",
   "execution_count": 16,
   "metadata": {},
   "outputs": [
    {
     "data": {
      "text/plain": [
       "Grid([[{'layout': ['cna', 'acn', 'can']}], [{'head': ['small', 'big']}]])"
      ]
     },
     "execution_count": 16,
     "metadata": {},
     "output_type": "execute_result"
    }
   ],
   "source": [
    "op1 + op2"
   ]
  },
  {
   "cell_type": "markdown",
   "metadata": {},
   "source": [
    "В начальном примере сетка просто создавалась из словаря:"
   ]
  },
  {
   "cell_type": "code",
   "execution_count": 17,
   "metadata": {},
   "outputs": [
    {
     "data": {
      "text/plain": [
       "Grid([[{'model_config/body/block/layout': ['cna', 'can', 'acn']}, {'model_config/head/units': [[100, 100, 10], [100, 120, 10], [4096, 4096, 10]]}]])"
      ]
     },
     "execution_count": 17,
     "metadata": {},
     "output_type": "execute_result"
    }
   ],
   "source": [
    "grid = {\n",
    "    'model_config/head/units': [[100, 100, 10], [100, 120, 10], [4096, 4096, 10]],\n",
    "    'model_config/body/block/layout': ['cna', 'can', 'acn']\n",
    "}\n",
    "\n",
    "Grid(grid)"
   ]
  },
  {
   "cell_type": "markdown",
   "metadata": {},
   "source": [
    "На самом деле, Grid представляет собой следующую структуру:"
   ]
  },
  {
   "cell_type": "markdown",
   "metadata": {},
   "source": [
    "$[[op_{11}, op_{12}, \\dots, op_{1n_1}] \\\\\n",
    " \\dots \\\\\n",
    " [op_{m1}, op_{m2}, \\dots, op_{mn_m}]]$ "
   ]
  },
  {
   "cell_type": "markdown",
   "metadata": {},
   "source": [
    "При генерировании конфигураций опции внутри каждого списка декартово перемножаются, затем конфигурации всех списков конкатенируются. Это проще понять на примере:"
   ]
  },
  {
   "cell_type": "code",
   "execution_count": 18,
   "metadata": {},
   "outputs": [
    {
     "data": {
      "text/plain": [
       "[ConfigAlias({'head': 'small', 'layout': 'cna'}),\n",
       " ConfigAlias({'head': 'big', 'layout': 'cna'}),\n",
       " ConfigAlias({'head': 'small', 'layout': 'acn'}),\n",
       " ConfigAlias({'head': 'big', 'layout': 'acn'}),\n",
       " ConfigAlias({'head': 'small', 'layout': 'can'}),\n",
       " ConfigAlias({'head': 'big', 'layout': 'can'})]"
      ]
     },
     "execution_count": 18,
     "metadata": {},
     "output_type": "execute_result"
    }
   ],
   "source": [
    "list((op1 * op2).gen_configs())"
   ]
  },
  {
   "cell_type": "code",
   "execution_count": 19,
   "metadata": {},
   "outputs": [
    {
     "data": {
      "text/plain": [
       "[ConfigAlias({'layout': 'cna'}),\n",
       " ConfigAlias({'layout': 'acn'}),\n",
       " ConfigAlias({'layout': 'can'}),\n",
       " ConfigAlias({'head': 'small'}),\n",
       " ConfigAlias({'head': 'big'})]"
      ]
     },
     "execution_count": 19,
     "metadata": {},
     "output_type": "execute_result"
    }
   ],
   "source": [
    "list((op1 + op2).gen_configs())"
   ]
  },
  {
   "cell_type": "markdown",
   "metadata": {},
   "source": [
    "Метод gen_configs класса Grid возвращает генератор конфигураций. Точнее, генератор создаёт объекты класса ConfigAlias. У этих объектов есть значение (объект класса Config), и псевдоним."
   ]
  },
  {
   "cell_type": "code",
   "execution_count": 20,
   "metadata": {
    "collapsed": true
   },
   "outputs": [],
   "source": [
    "op3 = Option('new_parameter', ['value1', 'value2'])"
   ]
  },
  {
   "cell_type": "code",
   "execution_count": 21,
   "metadata": {},
   "outputs": [
    {
     "data": {
      "text/plain": [
       "[{'model_config/body/block/layout': 'cna', 'new_parameter': 'value1'},\n",
       " {'model_config/body/block/layout': 'cna', 'new_parameter': 'value2'},\n",
       " {'model_config/body/block/layout': 'acn', 'new_parameter': 'value1'},\n",
       " {'model_config/body/block/layout': 'acn', 'new_parameter': 'value2'},\n",
       " {'model_config/body/block/layout': 'can', 'new_parameter': 'value1'},\n",
       " {'model_config/body/block/layout': 'can', 'new_parameter': 'value2'},\n",
       " {'model_config/head/units': [100, 100, 10], 'new_parameter': 'value1'},\n",
       " {'model_config/head/units': [100, 100, 10], 'new_parameter': 'value2'},\n",
       " {'model_config/head/units': [4096, 4096, 10], 'new_parameter': 'value1'},\n",
       " {'model_config/head/units': [4096, 4096, 10], 'new_parameter': 'value2'}]"
      ]
     },
     "execution_count": 21,
     "metadata": {},
     "output_type": "execute_result"
    }
   ],
   "source": [
    "grid = (op1 + op2) * op3\n",
    "[item.config().flatten() for item in grid.gen_configs()]"
   ]
  },
  {
   "cell_type": "code",
   "execution_count": 22,
   "metadata": {},
   "outputs": [
    {
     "data": {
      "text/plain": [
       "[{'layout': 'cna', 'new_parameter': 'value1'},\n",
       " {'layout': 'cna', 'new_parameter': 'value2'},\n",
       " {'layout': 'acn', 'new_parameter': 'value1'},\n",
       " {'layout': 'acn', 'new_parameter': 'value2'},\n",
       " {'layout': 'can', 'new_parameter': 'value1'},\n",
       " {'layout': 'can', 'new_parameter': 'value2'},\n",
       " {'head': 'small', 'new_parameter': 'value1'},\n",
       " {'head': 'small', 'new_parameter': 'value2'},\n",
       " {'head': 'big', 'new_parameter': 'value1'},\n",
       " {'head': 'big', 'new_parameter': 'value2'}]"
      ]
     },
     "execution_count": 22,
     "metadata": {},
     "output_type": "execute_result"
    }
   ],
   "source": [
    "[item.alias() for item in grid.gen_configs()]"
   ]
  },
  {
   "cell_type": "markdown",
   "metadata": {},
   "source": [
    "Теперь, когда у конфигов есть псевдонимы, мы можем получить удобное представление для конфигурций:"
   ]
  },
  {
   "cell_type": "code",
   "execution_count": 23,
   "metadata": {},
   "outputs": [
    {
     "data": {
      "text/plain": [
       "['layout-cna_new_parameter-value1',\n",
       " 'layout-cna_new_parameter-value2',\n",
       " 'layout-acn_new_parameter-value1',\n",
       " 'layout-acn_new_parameter-value2',\n",
       " 'layout-can_new_parameter-value1',\n",
       " 'layout-can_new_parameter-value2',\n",
       " 'head-small_new_parameter-value1',\n",
       " 'head-small_new_parameter-value2',\n",
       " 'head-big_new_parameter-value1',\n",
       " 'head-big_new_parameter-value2']"
      ]
     },
     "execution_count": 23,
     "metadata": {},
     "output_type": "execute_result"
    }
   ],
   "source": [
    "[item.alias(as_string=True) for item in grid.gen_configs()]"
   ]
  },
  {
   "cell_type": "markdown",
   "metadata": {},
   "source": [
    "## Подробнее о Research"
   ]
  }
 ],
 "metadata": {
  "kernelspec": {
   "display_name": "Python 3",
   "language": "python",
   "name": "python3"
  },
  "language_info": {
   "codemirror_mode": {
    "name": "ipython",
    "version": 3
   },
   "file_extension": ".py",
   "mimetype": "text/x-python",
   "name": "python",
   "nbconvert_exporter": "python",
   "pygments_lexer": "ipython3",
   "version": "3.5.2"
  }
 },
 "nbformat": 4,
 "nbformat_minor": 2
}
