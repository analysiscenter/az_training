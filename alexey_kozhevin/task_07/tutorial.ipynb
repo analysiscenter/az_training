{
 "cells": [
  {
   "cell_type": "markdown",
   "metadata": {},
   "source": [
    "# Класс Research: эксперименты с пайплайнами. Часть 1\n",
    "Предназначен для многократного запуска одних и тех же пайплайнов с различными параметрами. Это могут быть параметры модели, параметры используемых аугментаций и даже сами модели."
   ]
  },
  {
   "cell_type": "markdown",
   "metadata": {},
   "source": [
    "### Пример использования"
   ]
  },
  {
   "cell_type": "markdown",
   "metadata": {},
   "source": [
    "Рассмотрим простой пример: запуск пайплайнов vgg7_train и vgg7_test на MNIST с различными значениями layout. Для каждого значения layout пайплайны запускаются 10 раз, каждый раз обучаясь \"с нуля\" 100 итераций. На каждой итераций выполняется один прогон vgg7_train и vgg7_test."
   ]
  },
  {
   "cell_type": "code",
   "execution_count": 1,
   "metadata": {
    "collapsed": true
   },
   "outputs": [],
   "source": [
    "import sys\n",
    "\n",
    "sys.path.append('..')\n",
    "\n",
    "from dataset import B, C, V, Config\n",
    "from dataset.opensets import MNIST\n",
    "from dataset.models.tf import VGG7"
   ]
  },
  {
   "cell_type": "code",
   "execution_count": 2,
   "metadata": {
    "collapsed": true
   },
   "outputs": [],
   "source": [
    "import tensorflow as tf\n",
    "\n",
    "model_config = {\n",
    "    'session/config': tf.ConfigProto(gpu_options=tf.GPUOptions(per_process_gpu_memory_fraction=0.5, allow_growth=True)),\n",
    "    'inputs/images': {\n",
    "        'shape': (28, 28, 1),\n",
    "        'type': 'float32',\n",
    "        'name': 'reshaped_images'\n",
    "    },\n",
    "    'inputs/labels': {\n",
    "        'classes': 10,\n",
    "        'type': 'int32',\n",
    "        'transform': 'ohe',\n",
    "        'name': 'targets'\n",
    "    },\n",
    "    'input_block/inputs': 'images',\n",
    "    'output/ops': ['accuracy'],\n",
    "    'loss': 'ce',\n",
    "    'optimizer': 'Adam'\n",
    "}\n",
    "\n",
    "feed_dict = {'images': B('images'),\n",
    "             'labels': B('labels')}"
   ]
  },
  {
   "cell_type": "markdown",
   "metadata": {},
   "source": [
    "Поскольку мы хотим варьировать параметр конфигурации модели, весь model_config зададим в конфиге пайплайна:"
   ]
  },
  {
   "cell_type": "code",
   "execution_count": 3,
   "metadata": {
    "collapsed": true
   },
   "outputs": [],
   "source": [
    "pipeline_config = Config(model_config=model_config)"
   ]
  },
  {
   "cell_type": "markdown",
   "metadata": {},
   "source": [
    "Config - это новый класс из dataset для удобной работы с вложенными словарями."
   ]
  },
  {
   "cell_type": "markdown",
   "metadata": {},
   "source": [
    "В init_model конфиг передадим как C('model_config'). Отметим, что сразу передать конфиг c {'layout': C('layout')} нельзя."
   ]
  },
  {
   "cell_type": "code",
   "execution_count": 4,
   "metadata": {},
   "outputs": [
    {
     "name": "stdout",
     "output_type": "stream",
     "text": [
      "ExtractingExtractingExtractingExtracting    C:\\Users\\kozhevin\\AppData\\Local\\Temp\\train-images-idx3-ubyte.gzC:\\Users\\kozhevin\\AppData\\Local\\Temp\\t10k-images-idx3-ubyte.gzC:\\Users\\kozhevin\\AppData\\Local\\Temp\\t10k-labels-idx1-ubyte.gzC:\\Users\\kozhevin\\AppData\\Local\\Temp\\train-labels-idx1-ubyte.gz\n",
      "\n",
      "\n",
      "\n"
     ]
    }
   ],
   "source": [
    "mnist = MNIST()\n",
    "\n",
    "vgg7_train = (mnist.train.p\n",
    "              .init_variable('loss', init_on_each_run=list)\n",
    "              .init_model('dynamic', VGG7, 'model', C('model_config'))\n",
    "              .train_model('model', feed_dict=feed_dict, fetches='loss', save_to=V('loss'), mode='a')\n",
    "              .run(batch_size=8, shuffle=True, n_epochs=None, lazy=True)\n",
    "             )\n",
    "\n",
    "vgg7_test = (mnist.test.p\n",
    "             .init_variable('accuracy', init_on_each_run=list)\n",
    "             .import_model('model', C('import_model_from'))\n",
    "             .predict_model('model', feed_dict=feed_dict, fetches='output_accuracy', save_to=V('accuracy'), mode='a')\n",
    "             .run(batch_size=10, shuffle=True, n_epochs=None, lazy=True)\n",
    "            )"
   ]
  },
  {
   "cell_type": "code",
   "execution_count": 5,
   "metadata": {
    "collapsed": true
   },
   "outputs": [],
   "source": [
    "grid_config = {'model_config/body/block/layout': ['cna', 'can', 'acn']}"
   ]
  },
  {
   "cell_type": "code",
   "execution_count": 6,
   "metadata": {
    "collapsed": true
   },
   "outputs": [],
   "source": [
    "from research import Research\n",
    "\n",
    "mr = Research()\n",
    "mr.add_pipeline(vgg7_train, 'loss', config=pipeline_config, name='train')\n",
    "mr.add_pipeline(vgg7_test, 'accuracy', config=pipeline_config, import_model_from='train')\n",
    "mr.add_grid_config(grid_config)\n",
    "mr.run(n_reps=10, n_iters=100, n_jobs=3, name='my_research')"
   ]
  },
  {
   "cell_type": "markdown",
   "metadata": {},
   "source": [
    "Поскольку архитектура пайплайнов подразумевает импортирование модели из vgg7_train в vgg7_test, то в import_model следует передать C('import_model_from'), а в add_pipeline передать параметр import_model_from с именем пайплайна внутри Research, из которого нужно импортировать модель."
   ]
  },
  {
   "cell_type": "markdown",
   "metadata": {},
   "source": [
    "Далее мы более подробно разберём параметры метода run и требования к пайплайнам. Результаты экспериментов будут лежать в папке 'my_research/results'. Для каждой конфигурации будет создана отдельная подпапка, в которой будут лежать n_reps файлов (если в ходе эксперимента ничего не поломалось). Каждый файл - это pickle.dump со значениями переменных после указанного числа итераций. Названия папок будут следующие:"
   ]
  },
  {
   "cell_type": "code",
   "execution_count": 7,
   "metadata": {
    "collapsed": true
   },
   "outputs": [],
   "source": [
    "# model_config/body/block/layout-cna\n",
    "# model_config/body/block/layout-can\n",
    "# model_config/body/block/layout-acn"
   ]
  },
  {
   "cell_type": "markdown",
   "metadata": {},
   "source": [
    "Результат представлен в следующем виде:"
   ]
  },
  {
   "cell_type": "code",
   "execution_count": 8,
   "metadata": {
    "collapsed": true
   },
   "outputs": [],
   "source": [
    "import pickle\n",
    "\n",
    "res = []\n",
    "for i in range(4):\n",
    "    with open(r'my_research\\results\\model_config\\body\\block\\layout-acn' + '\\\\'+ str(i), 'rb') as file:\n",
    "        res.append(pickle.load(file))"
   ]
  },
  {
   "cell_type": "code",
   "execution_count": 9,
   "metadata": {},
   "outputs": [
    {
     "data": {
      "text/plain": [
       "(dict_keys(['ppl_1', 'train']), dict_keys(['loss']), dict_keys(['accuracy']))"
      ]
     },
     "execution_count": 9,
     "metadata": {},
     "output_type": "execute_result"
    }
   ],
   "source": [
    "res[0].keys(), res[0]['train'].keys(), res[0]['ppl_1'].keys()"
   ]
  },
  {
   "cell_type": "code",
   "execution_count": 10,
   "metadata": {},
   "outputs": [
    {
     "data": {
      "image/png": "[encoded data removed]",
      "text/plain": [
       "<matplotlib.figure.Figure at 0x21ea800a710>"
      ]
     },
     "metadata": {},
     "output_type": "display_data"
    },
    {
     "data": {
      "image/png": "[encoded data removed]",
      "text/plain": [
       "<matplotlib.figure.Figure at 0x21ea793feb8>"
      ]
     },
     "metadata": {},
     "output_type": "display_data"
    }
   ],
   "source": [
    "import matplotlib.pyplot as plt\n",
    "\n",
    "for item in res:\n",
    "    plt.plot(item['train']['loss'])\n",
    "plt.title('Train loss')\n",
    "plt.show()\n",
    "\n",
    "for item in res:\n",
    "    plt.plot(item['ppl_1']['accuracy'])\n",
    "plt.title('Test accuracy')\n",
    "plt.show()"
   ]
  },
  {
   "cell_type": "markdown",
   "metadata": {},
   "source": [
    "Плохо, что '/' будет командой по созданию подпапок. Можно было бы просто заменить его на какой-то другой символ, но кроме того, сами значения параметров могут быть более сложными. Например, grid может выглядеть следующим образом:"
   ]
  },
  {
   "cell_type": "code",
   "execution_count": 11,
   "metadata": {
    "collapsed": true
   },
   "outputs": [],
   "source": [
    "grid = {\n",
    "    'model_config/head/units': [[100, 100, 10], [100, 120, 10], [4096, 4096, 10]],\n",
    "    'model_config/body/block/layout': ['cna', 'can', 'acn']\n",
    "}"
   ]
  },
  {
   "cell_type": "markdown",
   "metadata": {},
   "source": [
    "Тогда строчные представления элементов сетки параметров будут иметь вид"
   ]
  },
  {
   "cell_type": "code",
   "execution_count": 12,
   "metadata": {
    "collapsed": true
   },
   "outputs": [],
   "source": [
    "# model_config/body/block/layout-cna_model_config/head/units-[100, 100, 10]\n",
    "# model_config/body/block/layout-cna_model_config/head/units-[100, 120, 10]\n",
    "# model_config/body/block/layout-cna_model_config/head/units-[4096, 4096, 10]\n",
    "# model_config/body/block/layout-can_model_config/head/units-[100, 100, 10]\n",
    "# model_config/body/block/layout-can_model_config/head/units-[100, 120, 10]\n",
    "# model_config/body/block/layout-can_model_config/head/units-[4096, 4096, 10]\n",
    "# model_config/body/block/layout-acn_model_config/head/units-[100, 100, 10]\n",
    "# model_config/body/block/layout-acn_model_config/head/units-[100, 120, 10]\n",
    "# model_config/body/block/layout-acn_model_config/head/units-[4096, 4096, 10]"
   ]
  },
  {
   "cell_type": "markdown",
   "metadata": {},
   "source": [
    "Слишком сложная структура, хотя варьируемых параметров всего 2. Избежать этого помогут классы KV, Option и Grid."
   ]
  },
  {
   "cell_type": "markdown",
   "metadata": {},
   "source": [
    "### Классы KV, Option и Grid\n",
    "Введены для удобной работы с сетками параметров, из которых будут генерироваться конфигурации пайплайнов для экспериментов."
   ]
  },
  {
   "cell_type": "code",
   "execution_count": 13,
   "metadata": {
    "collapsed": true
   },
   "outputs": [],
   "source": [
    "from grid import KV, Option, Grid"
   ]
  },
  {
   "cell_type": "markdown",
   "metadata": {},
   "source": [
    "KV (key: value) - это просто пара значение-псевдоним. Добавим псевдонимы к названиям параметров:"
   ]
  },
  {
   "cell_type": "code",
   "execution_count": 14,
   "metadata": {
    "collapsed": true
   },
   "outputs": [],
   "source": [
    "p1 = KV('model_config/body/block/layout', 'layout')\n",
    "p2 = KV('model_config/head/units', 'head')"
   ]
  },
  {
   "cell_type": "code",
   "execution_count": 15,
   "metadata": {},
   "outputs": [
    {
     "data": {
      "text/plain": [
       "('model_config/body/block/layout', 'layout')"
      ]
     },
     "execution_count": 15,
     "metadata": {},
     "output_type": "execute_result"
    }
   ],
   "source": [
    "p1.value, p1.alias"
   ]
  },
  {
   "cell_type": "markdown",
   "metadata": {},
   "source": [
    "Также добавим псевдонимы к значениям 'model_config/head/units':"
   ]
  },
  {
   "cell_type": "code",
   "execution_count": 16,
   "metadata": {
    "collapsed": true
   },
   "outputs": [],
   "source": [
    "v1 = KV([100, 100, 10], 'small')\n",
    "v2 = KV([4096, 4096, 10], 'big')"
   ]
  },
  {
   "cell_type": "markdown",
   "metadata": {},
   "source": [
    "Option - это пара параметр-список значений, которые хотим перебрать. Как параметр, так и значения могут быть представлены как эеземпляры KV."
   ]
  },
  {
   "cell_type": "code",
   "execution_count": 17,
   "metadata": {
    "collapsed": true
   },
   "outputs": [],
   "source": [
    "op1 = Option(p1, ['cna', 'acn', 'can'])\n",
    "op2 = Option(p2, [v1, v2])"
   ]
  },
  {
   "cell_type": "code",
   "execution_count": 18,
   "metadata": {},
   "outputs": [
    {
     "data": {
      "text/plain": [
       "({'model_config/body/block/layout': ['cna', 'acn', 'can']},\n",
       " {'layout': ['cna', 'acn', 'can']})"
      ]
     },
     "execution_count": 18,
     "metadata": {},
     "output_type": "execute_result"
    }
   ],
   "source": [
    "op1.option(), op1.alias()"
   ]
  },
  {
   "cell_type": "code",
   "execution_count": 19,
   "metadata": {},
   "outputs": [
    {
     "data": {
      "text/plain": [
       "({'model_config/head/units': [[100, 100, 10], [4096, 4096, 10]]},\n",
       " {'head': ['small', 'big']})"
      ]
     },
     "execution_count": 19,
     "metadata": {},
     "output_type": "execute_result"
    }
   ],
   "source": [
    "op2.option(), op2.alias()"
   ]
  },
  {
   "cell_type": "markdown",
   "metadata": {},
   "source": [
    "Экземпляры Option можно складывать и перемножать. Результатом будет экземпляр класса Grid."
   ]
  },
  {
   "cell_type": "code",
   "execution_count": 20,
   "metadata": {},
   "outputs": [
    {
     "data": {
      "text/plain": [
       "Grid([[{'layout': ['cna', 'acn', 'can']}, {'head': ['small', 'big']}]])"
      ]
     },
     "execution_count": 20,
     "metadata": {},
     "output_type": "execute_result"
    }
   ],
   "source": [
    "op1 * op2"
   ]
  },
  {
   "cell_type": "code",
   "execution_count": 21,
   "metadata": {},
   "outputs": [
    {
     "data": {
      "text/plain": [
       "Grid([[{'layout': ['cna', 'acn', 'can']}], [{'head': ['small', 'big']}]])"
      ]
     },
     "execution_count": 21,
     "metadata": {},
     "output_type": "execute_result"
    }
   ],
   "source": [
    "op1 + op2"
   ]
  },
  {
   "cell_type": "markdown",
   "metadata": {},
   "source": [
    "В начальном примере сетка просто создавалась из словаря:"
   ]
  },
  {
   "cell_type": "code",
   "execution_count": 22,
   "metadata": {},
   "outputs": [
    {
     "data": {
      "text/plain": [
       "Grid([[{'model_config/body/block/layout': ['cna', 'can', 'acn']}, {'model_config/head/units': [[100, 100, 10], [100, 120, 10], [4096, 4096, 10]]}]])"
      ]
     },
     "execution_count": 22,
     "metadata": {},
     "output_type": "execute_result"
    }
   ],
   "source": [
    "grid = {\n",
    "    'model_config/head/units': [[100, 100, 10], [100, 120, 10], [4096, 4096, 10]],\n",
    "    'model_config/body/block/layout': ['cna', 'can', 'acn']\n",
    "}\n",
    "\n",
    "Grid(grid)"
   ]
  },
  {
   "cell_type": "markdown",
   "metadata": {},
   "source": [
    "На самом деле, Grid представляет собой следующую структуру:"
   ]
  },
  {
   "cell_type": "markdown",
   "metadata": {},
   "source": [
    "$[[op_{11}, op_{12}, \\dots, op_{1n_1}] \\\\\n",
    " \\dots \\\\\n",
    " [op_{m1}, op_{m2}, \\dots, op_{mn_m}]]$ "
   ]
  },
  {
   "cell_type": "markdown",
   "metadata": {},
   "source": [
    "При генерировании конфигураций опции внутри каждого списка декартово перемножаются, затем конфигурации всех списков конкатенируются. Это проще понять на примере:"
   ]
  },
  {
   "cell_type": "code",
   "execution_count": 23,
   "metadata": {},
   "outputs": [
    {
     "data": {
      "text/plain": [
       "[ConfigAlias({'layout': 'cna', 'head': 'small'}),\n",
       " ConfigAlias({'layout': 'cna', 'head': 'big'}),\n",
       " ConfigAlias({'layout': 'acn', 'head': 'small'}),\n",
       " ConfigAlias({'layout': 'acn', 'head': 'big'}),\n",
       " ConfigAlias({'layout': 'can', 'head': 'small'}),\n",
       " ConfigAlias({'layout': 'can', 'head': 'big'})]"
      ]
     },
     "execution_count": 23,
     "metadata": {},
     "output_type": "execute_result"
    }
   ],
   "source": [
    "list((op1 * op2).gen_configs())"
   ]
  },
  {
   "cell_type": "code",
   "execution_count": 24,
   "metadata": {},
   "outputs": [
    {
     "data": {
      "text/plain": [
       "[ConfigAlias({'layout': 'cna'}),\n",
       " ConfigAlias({'layout': 'acn'}),\n",
       " ConfigAlias({'layout': 'can'}),\n",
       " ConfigAlias({'head': 'small'}),\n",
       " ConfigAlias({'head': 'big'})]"
      ]
     },
     "execution_count": 24,
     "metadata": {},
     "output_type": "execute_result"
    }
   ],
   "source": [
    "list((op1 + op2).gen_configs())"
   ]
  },
  {
   "cell_type": "markdown",
   "metadata": {},
   "source": [
    "Метод gen_configs класса Grid возвращает генератор конфигураций. Точнее, генератор создаёт объекты класса ConfigAlias. У этих объектов есть значение (объект класса Config), и псевдоним."
   ]
  },
  {
   "cell_type": "code",
   "execution_count": 25,
   "metadata": {
    "collapsed": true
   },
   "outputs": [],
   "source": [
    "op3 = Option('new_parameter', ['value1', 'value2'])"
   ]
  },
  {
   "cell_type": "code",
   "execution_count": 26,
   "metadata": {},
   "outputs": [
    {
     "data": {
      "text/plain": [
       "[{'model_config/body/block/layout': 'cna', 'new_parameter': 'value1'},\n",
       " {'model_config/body/block/layout': 'cna', 'new_parameter': 'value2'},\n",
       " {'model_config/body/block/layout': 'acn', 'new_parameter': 'value1'},\n",
       " {'model_config/body/block/layout': 'acn', 'new_parameter': 'value2'},\n",
       " {'model_config/body/block/layout': 'can', 'new_parameter': 'value1'},\n",
       " {'model_config/body/block/layout': 'can', 'new_parameter': 'value2'},\n",
       " {'model_config/head/units': [100, 100, 10], 'new_parameter': 'value1'},\n",
       " {'model_config/head/units': [100, 100, 10], 'new_parameter': 'value2'},\n",
       " {'model_config/head/units': [4096, 4096, 10], 'new_parameter': 'value1'},\n",
       " {'model_config/head/units': [4096, 4096, 10], 'new_parameter': 'value2'}]"
      ]
     },
     "execution_count": 26,
     "metadata": {},
     "output_type": "execute_result"
    }
   ],
   "source": [
    "grid = (op1 + op2) * op3\n",
    "[item.config().flatten() for item in grid.gen_configs()]"
   ]
  },
  {
   "cell_type": "code",
   "execution_count": 27,
   "metadata": {},
   "outputs": [
    {
     "data": {
      "text/plain": [
       "[{'layout': 'cna', 'new_parameter': 'value1'},\n",
       " {'layout': 'cna', 'new_parameter': 'value2'},\n",
       " {'layout': 'acn', 'new_parameter': 'value1'},\n",
       " {'layout': 'acn', 'new_parameter': 'value2'},\n",
       " {'layout': 'can', 'new_parameter': 'value1'},\n",
       " {'layout': 'can', 'new_parameter': 'value2'},\n",
       " {'head': 'small', 'new_parameter': 'value1'},\n",
       " {'head': 'small', 'new_parameter': 'value2'},\n",
       " {'head': 'big', 'new_parameter': 'value1'},\n",
       " {'head': 'big', 'new_parameter': 'value2'}]"
      ]
     },
     "execution_count": 27,
     "metadata": {},
     "output_type": "execute_result"
    }
   ],
   "source": [
    "[item.alias() for item in grid.gen_configs()]"
   ]
  },
  {
   "cell_type": "markdown",
   "metadata": {},
   "source": [
    "Теперь, когда у конфигов есть псевдонимы, мы можем получить удобное представление для конфигурций:"
   ]
  },
  {
   "cell_type": "code",
   "execution_count": 28,
   "metadata": {},
   "outputs": [
    {
     "data": {
      "text/plain": [
       "['layout_cna-new_parameter_value1',\n",
       " 'layout_cna-new_parameter_value2',\n",
       " 'layout_acn-new_parameter_value1',\n",
       " 'layout_acn-new_parameter_value2',\n",
       " 'layout_can-new_parameter_value1',\n",
       " 'layout_can-new_parameter_value2',\n",
       " 'head_small-new_parameter_value1',\n",
       " 'head_small-new_parameter_value2',\n",
       " 'head_big-new_parameter_value1',\n",
       " 'head_big-new_parameter_value2']"
      ]
     },
     "execution_count": 28,
     "metadata": {},
     "output_type": "execute_result"
    }
   ],
   "source": [
    "[item.alias(as_string=True) for item in grid.gen_configs()]"
   ]
  }
 ],
 "metadata": {
  "kernelspec": {
   "display_name": "Python 3",
   "language": "python",
   "name": "python3"
  },
  "language_info": {
   "codemirror_mode": {
    "name": "ipython",
    "version": 3
   },
   "file_extension": ".py",
   "mimetype": "text/x-python",
   "name": "python",
   "nbconvert_exporter": "python",
   "pygments_lexer": "ipython3",
   "version": "3.5.2"
  }
 },
 "nbformat": 4,
 "nbformat_minor": 2
}
