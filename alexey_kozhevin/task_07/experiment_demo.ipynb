{
 "cells": [
  {
   "cell_type": "code",
   "execution_count": 1,
   "metadata": {},
   "outputs": [],
   "source": [
    "import sys\n",
    "\n",
    "sys.path.append('..')\n",
    "\n",
    "from dataset import Dataset\n",
    "from dataset.models.tf import VGG7\n",
    "from experiment import Experiment\n",
    "from dataset.opensets import MNIST\n",
    "\n",
    "%matplotlib inline"
   ]
  },
  {
   "cell_type": "code",
   "execution_count": 2,
   "metadata": {
    "collapsed": true
   },
   "outputs": [],
   "source": [
    "grid = {'head/units': [[4096, 4096, 2], [100, 100, 2]], \n",
    "        'body/block': [dict(layout='cna'), dict(layout='can')]}"
   ]
  },
  {
   "cell_type": "code",
   "execution_count": 3,
   "metadata": {},
   "outputs": [
    {
     "name": "stdout",
     "output_type": "stream",
     "text": [
      "ExtractingExtractingExtractingExtracting    C:\\Users\\kozhevin\\AppData\\Local\\Temp\\t10k-images-idx3-ubyte.gzC:\\Users\\kozhevin\\AppData\\Local\\Temp\\train-images-idx3-ubyte.gzC:\\Users\\kozhevin\\AppData\\Local\\Temp\\t10k-labels-idx1-ubyte.gzC:\\Users\\kozhevin\\AppData\\Local\\Temp\\train-labels-idx1-ubyte.gz\n",
      "\n",
      "\n",
      "\n"
     ]
    }
   ],
   "source": [
    "experiment = Experiment(VGG7, 'mnist', grid_config=grid)"
   ]
  },
  {
   "cell_type": "code",
   "execution_count": 4,
   "metadata": {
    "scrolled": true
   },
   "outputs": [
    {
     "name": "stderr",
     "output_type": "stream",
     "text": [
      "100%|██████████████████████████████████████████████████████████████████████████████████| 10/10 [00:10<00:00,  1.08s/it]\n",
      "100%|██████████████████████████████████████████████████████████████████████████████████| 10/10 [00:08<00:00,  1.18it/s]\n",
      "100%|██████████████████████████████████████████████████████████████████████████████████| 10/10 [00:06<00:00,  1.59it/s]\n",
      "100%|██████████████████████████████████████████████████████████████████████████████████| 10/10 [00:06<00:00,  1.57it/s]\n"
     ]
    }
   ],
   "source": [
    "experiment.run(n_reps=10, n_iters=10, batch_size=32)"
   ]
  },
  {
   "cell_type": "code",
   "execution_count": 5,
   "metadata": {},
   "outputs": [
    {
     "name": "stdout",
     "output_type": "stream",
     "text": [
      "Model: VGG7\n",
      "Number of repetitions: 10\n",
      "Number of iterations: 10\n",
      "Batch size: 32\n",
      "==============================\n",
      "{'head/units': [4096, 4096, 2], 'body/block': {'layout': 'cna'}}\n",
      "Mean train time: 1.03 s\n",
      "Mean time per train step: 0.10 s\n",
      "Train loss: 81.53\n",
      "Test  loss: 79.88\n",
      "Train accuracy: 0.17\n",
      "Test  accuracy: 0.15\n",
      "==============================\n",
      "{'head/units': [4096, 4096, 2], 'body/block': {'layout': 'can'}}\n",
      "Mean train time: 0.79 s\n",
      "Mean time per train step: 0.08 s\n",
      "Train loss: 34.23\n",
      "Test  loss: 29.37\n",
      "Train accuracy: 0.31\n",
      "Test  accuracy: 0.40\n",
      "==============================\n",
      "{'head/units': [100, 100, 2], 'body/block': {'layout': 'cna'}}\n",
      "Mean train time: 0.59 s\n",
      "Mean time per train step: 0.06 s\n",
      "Train loss: 2.58\n",
      "Test  loss: 3.86\n",
      "Train accuracy: 0.54\n",
      "Test  accuracy: 0.52\n",
      "==============================\n",
      "{'head/units': [100, 100, 2], 'body/block': {'layout': 'can'}}\n",
      "Mean train time: 0.59 s\n",
      "Mean time per train step: 0.06 s\n",
      "Train loss: 1.76\n",
      "Test  loss: 2.03\n",
      "Train accuracy: 0.65\n",
      "Test  accuracy: 0.65\n"
     ]
    }
   ],
   "source": [
    "res = experiment.summary()"
   ]
  },
  {
   "cell_type": "code",
   "execution_count": 6,
   "metadata": {},
   "outputs": [
    {
     "data": {
      "text/html": [
       "<div>\n",
       "<style scoped>\n",
       "    .dataframe tbody tr th:only-of-type {\n",
       "        vertical-align: middle;\n",
       "    }\n",
       "\n",
       "    .dataframe tbody tr th {\n",
       "        vertical-align: top;\n",
       "    }\n",
       "\n",
       "    .dataframe thead th {\n",
       "        text-align: right;\n",
       "    }\n",
       "</style>\n",
       "<table border=\"1\" class=\"dataframe\">\n",
       "  <thead>\n",
       "    <tr style=\"text-align: right;\">\n",
       "      <th></th>\n",
       "      <th>Test accuracy</th>\n",
       "      <th>Test loss</th>\n",
       "      <th>Time per train step</th>\n",
       "      <th>Train accuracy</th>\n",
       "      <th>Train loss</th>\n",
       "    </tr>\n",
       "  </thead>\n",
       "  <tbody>\n",
       "    <tr>\n",
       "      <th>0</th>\n",
       "      <td>0.150000</td>\n",
       "      <td>79.875809</td>\n",
       "      <td>0.102876</td>\n",
       "      <td>0.165625</td>\n",
       "      <td>81.526276</td>\n",
       "    </tr>\n",
       "    <tr>\n",
       "      <th>1</th>\n",
       "      <td>0.396875</td>\n",
       "      <td>29.371252</td>\n",
       "      <td>0.078908</td>\n",
       "      <td>0.312500</td>\n",
       "      <td>34.230701</td>\n",
       "    </tr>\n",
       "    <tr>\n",
       "      <th>2</th>\n",
       "      <td>0.518750</td>\n",
       "      <td>3.861852</td>\n",
       "      <td>0.058580</td>\n",
       "      <td>0.537500</td>\n",
       "      <td>2.578125</td>\n",
       "    </tr>\n",
       "    <tr>\n",
       "      <th>3</th>\n",
       "      <td>0.653125</td>\n",
       "      <td>2.033778</td>\n",
       "      <td>0.059331</td>\n",
       "      <td>0.650000</td>\n",
       "      <td>1.755594</td>\n",
       "    </tr>\n",
       "  </tbody>\n",
       "</table>\n",
       "</div>"
      ],
      "text/plain": [
       "   Test accuracy  Test loss  Time per train step  Train accuracy  Train loss\n",
       "0       0.150000  79.875809             0.102876        0.165625   81.526276\n",
       "1       0.396875  29.371252             0.078908        0.312500   34.230701\n",
       "2       0.518750   3.861852             0.058580        0.537500    2.578125\n",
       "3       0.653125   2.033778             0.059331        0.650000    1.755594"
      ]
     },
     "execution_count": 6,
     "metadata": {},
     "output_type": "execute_result"
    }
   ],
   "source": [
    "res"
   ]
  },
  {
   "cell_type": "code",
   "execution_count": 7,
   "metadata": {},
   "outputs": [
    {
     "name": "stderr",
     "output_type": "stream",
     "text": [
      "C:\\Anaconda3\\envs\\tensorflow-gpu\\lib\\site-packages\\seaborn\\timeseries.py:183: UserWarning: The tsplot function is deprecated and will be removed or replaced (in a substantially altered version) in a future release.\n",
      "  warnings.warn(msg, UserWarning)\n"
     ]
    },
    {
     "data": {
      "image/png": "[encoded data removed]",
      "text/plain": [
       "<matplotlib.figure.Figure at 0x1c4fb04ce80>"
      ]
     },
     "metadata": {},
     "output_type": "display_data"
    },
    {
     "data": {
      "image/png": "[encoded data removed]",
      "text/plain": [
       "<matplotlib.figure.Figure at 0x1c48f1acd30>"
      ]
     },
     "metadata": {},
     "output_type": "display_data"
    }
   ],
   "source": [
    "cfg = {'head/units': [100, 100, 2], \n",
    "       'body/block': dict(layout='can')}\n",
    "experiment.get_plots('accuracy', cfg)"
   ]
  },
  {
   "cell_type": "code",
   "execution_count": 8,
   "metadata": {},
   "outputs": [
    {
     "data": {
      "application/vnd.jupyter.widget-view+json": {
       "model_id": "93736e072e12475bbb06300b88f64299",
       "version_major": 2,
       "version_minor": 0
      },
      "text/html": [
       "<p>Failed to display Jupyter Widget of type <code>interactive</code>.</p>\n",
       "<p>\n",
       "  If you're reading this message in the Jupyter Notebook or JupyterLab Notebook, it may mean\n",
       "  that the widgets JavaScript is still loading. If this message persists, it\n",
       "  likely means that the widgets JavaScript library is either not installed or\n",
       "  not enabled. See the <a href=\"https://ipywidgets.readthedocs.io/en/stable/user_install.html\">Jupyter\n",
       "  Widgets Documentation</a> for setup instructions.\n",
       "</p>\n",
       "<p>\n",
       "  If you're reading this message in another frontend (for example, a static\n",
       "  rendering on GitHub or <a href=\"https://nbviewer.jupyter.org/\">NBViewer</a>),\n",
       "  it may mean that your frontend doesn't currently support widgets.\n",
       "</p>\n"
      ],
      "text/plain": [
       "interactive(children=(IntSlider(value=4, description='iteration', max=9), Output(layout=Layout(height='300px'))), _dom_classes=('widget-interact',))"
      ]
     },
     "metadata": {},
     "output_type": "display_data"
    }
   ],
   "source": [
    "experiment.plot_density_interactive('accuracy', cfg, mode='train', xlim=(0,1))"
   ]
  }
 ],
 "metadata": {
  "kernelspec": {
   "display_name": "Python 3",
   "language": "python",
   "name": "python3"
  },
  "language_info": {
   "codemirror_mode": {
    "name": "ipython",
    "version": 3
   },
   "file_extension": ".py",
   "mimetype": "text/x-python",
   "name": "python",
   "nbconvert_exporter": "python",
   "pygments_lexer": "ipython3",
   "version": "3.5.2"
  }
 },
 "nbformat": 4,
 "nbformat_minor": 2
}
