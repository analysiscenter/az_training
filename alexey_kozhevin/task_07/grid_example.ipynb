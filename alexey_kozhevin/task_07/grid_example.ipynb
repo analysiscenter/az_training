{
 "cells": [
  {
   "cell_type": "code",
   "execution_count": 1,
   "metadata": {
    "collapsed": true
   },
   "outputs": [],
   "source": [
    "from itertools import product\n",
    "from grid import Option, Pair, Grid"
   ]
  },
  {
   "cell_type": "code",
   "execution_count": 2,
   "metadata": {},
   "outputs": [],
   "source": [
    "p1 = Pair('kernel', \"K\")\n",
    "v11 = Pair(3, 'a')\n",
    "v12 = Pair(5, 'b')\n",
    "\n",
    "p2 = Pair('filters', \"F\")\n",
    "v21 = Pair(128)\n",
    "v22 = Pair(256, 'b')\n",
    "\n",
    "op1 = Option(p1, v11, v12)\n",
    "op2 = Option(p2, v21, v22)\n",
    "\n",
    "p3 = Pair('head', \"H\")\n",
    "v31 = Pair('big')\n",
    "v32 = Pair('small')\n",
    "\n",
    "op3 = Option(p3, v31, v32)"
   ]
  },
  {
   "cell_type": "code",
   "execution_count": 3,
   "metadata": {},
   "outputs": [
    {
     "data": {
      "text/plain": [
       "True"
      ]
     },
     "execution_count": 3,
     "metadata": {},
     "output_type": "execute_result"
    }
   ],
   "source": [
    "(op1 + op2) * op3 == op1 * op3 + op2 * op3"
   ]
  },
  {
   "cell_type": "code",
   "execution_count": 4,
   "metadata": {},
   "outputs": [
    {
     "data": {
      "text/plain": [
       "[[{'kernel': [3, 5]}, {'filters': [128, 256]}], [{'head': ['big', 'small']}]]"
      ]
     },
     "execution_count": 4,
     "metadata": {},
     "output_type": "execute_result"
    }
   ],
   "source": [
    "(op1 * op2 + op3).config()"
   ]
  },
  {
   "cell_type": "code",
   "execution_count": 5,
   "metadata": {
    "collapsed": true
   },
   "outputs": [],
   "source": [
    "grid = (op1 + op2) * op3"
   ]
  },
  {
   "cell_type": "code",
   "execution_count": 6,
   "metadata": {},
   "outputs": [
    {
     "data": {
      "text/plain": [
       "[[{'kernel': [3, 5]}, {'head': ['big', 'small']}],\n",
       " [{'filters': [128, 256]}, {'head': ['big', 'small']}]]"
      ]
     },
     "execution_count": 6,
     "metadata": {},
     "output_type": "execute_result"
    }
   ],
   "source": [
    "grid.config()"
   ]
  },
  {
   "cell_type": "code",
   "execution_count": 7,
   "metadata": {},
   "outputs": [
    {
     "data": {
      "text/plain": [
       "[{'K': 'a', 'H': 'big'},\n",
       " {'K': 'a', 'H': 'small'},\n",
       " {'K': 'b', 'H': 'big'},\n",
       " {'K': 'b', 'H': 'small'},\n",
       " {'F': 128, 'H': 'big'},\n",
       " {'F': 128, 'H': 'small'},\n",
       " {'F': 'b', 'H': 'big'},\n",
       " {'F': 'b', 'H': 'small'}]"
      ]
     },
     "execution_count": 7,
     "metadata": {},
     "output_type": "execute_result"
    }
   ],
   "source": [
    "list(grid.gen_configs())"
   ]
  }
 ],
 "metadata": {
  "kernelspec": {
   "display_name": "Python 3",
   "language": "python",
   "name": "python3"
  },
  "language_info": {
   "codemirror_mode": {
    "name": "ipython",
    "version": 3
   },
   "file_extension": ".py",
   "mimetype": "text/x-python",
   "name": "python",
   "nbconvert_exporter": "python",
   "pygments_lexer": "ipython3",
   "version": "3.5.2"
  }
 },
 "nbformat": 4,
 "nbformat_minor": 2
}
