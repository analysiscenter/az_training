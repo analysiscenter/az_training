{
 "cells": [
  {
   "cell_type": "code",
   "execution_count": 1,
   "metadata": {
    "collapsed": true
   },
   "outputs": [],
   "source": [
    "import sys\n",
    "from time import time\n",
    "import numpy as np\n",
    "import matplotlib.pyplot as plt\n",
    "\n",
    "sys.path.append('../..')\n",
    "\n",
    "from dataset import ImagesBatch, Pipeline, DatasetIndex, Dataset, B, C, F, V\n",
    "from dataset.dataset.models.tf import *\n",
    "\n",
    "%matplotlib inline"
   ]
  },
  {
   "cell_type": "code",
   "execution_count": 2,
   "metadata": {
    "collapsed": true
   },
   "outputs": [],
   "source": [
    "BATCH_SIZE = 256   # batch size for NN training\n",
    "MAX_ITER = 10     # number of iterations for NN training\n",
    "SIZE = 50000\n",
    "IMAGE_SIZE = 64"
   ]
  },
  {
   "cell_type": "code",
   "execution_count": 3,
   "metadata": {
    "collapsed": true
   },
   "outputs": [],
   "source": [
    "images = []\n",
    "masks = []\n",
    "for i in range(SIZE):\n",
    "    data = np.sin(np.random.uniform(0, 2*np.pi) + np.arange(0, IMAGE_SIZE) / IMAGE_SIZE * 2*np.pi )\n",
    "    mask = data > 0.25\n",
    "    images.append(data)\n",
    "    masks.append(mask)\n",
    "images = np.array(images).reshape(-1, IMAGE_SIZE, 1)\n",
    "masks = np.array(masks)\n",
    "masks = np.stack([1-masks, masks], axis=2)"
   ]
  },
  {
   "cell_type": "code",
   "execution_count": 4,
   "metadata": {
    "collapsed": true
   },
   "outputs": [],
   "source": [
    "ind = DatasetIndex(np.arange(SIZE))         # index for images\n",
    "dset = Dataset(ind, batch_class=ImagesBatch)\n",
    "dset.cv_split([0.9, 0.1])                      # divide it into train and test"
   ]
  },
  {
   "cell_type": "code",
   "execution_count": 5,
   "metadata": {
    "collapsed": true
   },
   "outputs": [],
   "source": [
    "load_template = Pipeline().load(src=(images, masks), components=('images', 'masks'))"
   ]
  },
  {
   "cell_type": "code",
   "execution_count": 6,
   "metadata": {
    "collapsed": true
   },
   "outputs": [],
   "source": [
    "placeholders_config = {\n",
    "                       'images': {'shape': (IMAGE_SIZE, 1),\n",
    "                                  'type': 'float32',\n",
    "                                  'data_format': 'channels_last'},\n",
    "                \n",
    "                       'masks': {'shape': (IMAGE_SIZE, 2),\n",
    "                                 'type': 'int32',\n",
    "                                 'data_format': 'channels_last',\n",
    "                                 'name': 'targets'}\n",
    "                       }"
   ]
  },
  {
   "cell_type": "code",
   "execution_count": 7,
   "metadata": {
    "collapsed": true
   },
   "outputs": [],
   "source": [
    "model_config = {'inputs': placeholders_config,\n",
    "                'n_blocks': 3,\n",
    "                'n_filters': 128,\n",
    "                'batch_norm': True,\n",
    "                'loss': 'softmax_cross_entropy',\n",
    "                'optimizer': 'Adam'}"
   ]
  },
  {
   "cell_type": "code",
   "execution_count": 8,
   "metadata": {
    "collapsed": true
   },
   "outputs": [],
   "source": [
    "train_feed_dict = {'images': B('images'),\n",
    "                   'masks': B('masks')}        \n",
    "\n",
    "test_feed_dict = {'images': B('images'),\n",
    "                  'masks': B('masks')}"
   ]
  },
  {
   "cell_type": "code",
   "execution_count": 9,
   "metadata": {
    "collapsed": true,
    "scrolled": true
   },
   "outputs": [],
   "source": [
    "ppl_train = ((load_template << dset.train)\n",
    "            .init_variable('train_loss_history', init_on_each_run=list)\n",
    "            .init_model('static',                                          # model mode\n",
    "                        LinkNet,                                           # TFModel subclass with LinkNet\n",
    "                        'linknet',                                         # model name\n",
    "                        config=model_config)\n",
    "            .train_model('linknet',                                        # model name\n",
    "                         fetches='loss',                                   # tensors to get value \n",
    "                         feed_dict=train_feed_dict,\n",
    "                         save_to=[V('train_loss_history')], mode='a'))     # name of pipeline variable to save loss value\n",
    "\n",
    "ppl_test = ((load_template << dset.test)\n",
    "            .import_model('linknet', ppl_train)\n",
    "            .init_variable('test_loss_history', init_on_each_run=list)\n",
    "            .predict_model('linknet', \n",
    "                           fetches='loss',\n",
    "                           feed_dict=test_feed_dict,\n",
    "                           save_to=[V('test_loss_history')], mode='a'))"
   ]
  },
  {
   "cell_type": "code",
   "execution_count": 10,
   "metadata": {},
   "outputs": [
    {
     "name": "stdout",
     "output_type": "stream",
     "text": [
      "Train time: 0.072 min\n"
     ]
    }
   ],
   "source": [
    "# training of the model\n",
    "\n",
    "start = time()\n",
    "\n",
    "for i in range(MAX_ITER):\n",
    "    ppl_train.next_batch(BATCH_SIZE, n_epochs=None)                 # training step\n",
    "    ppl_test.next_batch(100, n_epochs=None)                         # compute test loss\n",
    "    \n",
    "    train_loss = ppl_train.get_variable('train_loss_history')[-1]   # get current iteration train loss\n",
    "    test_loss = ppl_test.get_variable('test_loss_history')[-1]      # get current iteration test loss\n",
    "        \n",
    "stop = time()\n",
    "\n",
    "print(\"Train time: {:05.3f} min\".format((stop-start)/60))"
   ]
  },
  {
   "cell_type": "code",
   "execution_count": 11,
   "metadata": {},
   "outputs": [
    {
     "data": {
      "image/png": "[encoded data removed]",
      "text/plain": [
       "<matplotlib.figure.Figure at 0x1da1992fb70>"
      ]
     },
     "metadata": {},
     "output_type": "display_data"
    }
   ],
   "source": [
    "plt.plot(ppl_train.get_variable('train_loss_history'), label='Train loss')\n",
    "plt.plot(ppl_test.get_variable('test_loss_history'), label='Test loss')\n",
    "plt.legend()\n",
    "plt.show()"
   ]
  }
 ],
 "metadata": {
  "kernelspec": {
   "display_name": "Python 3",
   "language": "python",
   "name": "python3"
  },
  "language_info": {
   "codemirror_mode": {
    "name": "ipython",
    "version": 3
   },
   "file_extension": ".py",
   "mimetype": "text/x-python",
   "name": "python",
   "nbconvert_exporter": "python",
   "pygments_lexer": "ipython3",
   "version": "3.5.2"
  }
 },
 "nbformat": 4,
 "nbformat_minor": 2
}
