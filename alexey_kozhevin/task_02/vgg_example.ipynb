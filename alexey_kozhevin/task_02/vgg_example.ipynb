{
 "cells": [
  {
   "cell_type": "markdown",
   "metadata": {},
   "source": [
    "# VGG for MNIST classification"
   ]
  },
  {
   "cell_type": "markdown",
   "metadata": {},
   "source": [
    "VGG implementation as TFModel"
   ]
  },
  {
   "cell_type": "code",
   "execution_count": 1,
   "metadata": {},
   "outputs": [],
   "source": [
    "import sys\n",
    "import numpy as np\n",
    "import matplotlib.pyplot as plt\n",
    "\n",
    "sys.path.append(\"../..\")\n",
    "sys.path.append(\"../base_networks/classification/\")\n",
    "\n",
    "from dataset import B, V, Pipeline\n",
    "from dataset.dataset.opensets import MNIST\n",
    "from dataset.dataset.models.tf.vgg import VGG7\n",
    "\n",
    "%matplotlib inline"
   ]
  },
  {
   "cell_type": "markdown",
   "metadata": {},
   "source": [
    "Define constants"
   ]
  },
  {
   "cell_type": "code",
   "execution_count": 2,
   "metadata": {
    "collapsed": true
   },
   "outputs": [],
   "source": [
    "BATCH_SIZE = 64\n",
    "IMAGE_SIZE = 28"
   ]
  },
  {
   "cell_type": "markdown",
   "metadata": {},
   "source": [
    "Create class for MNIST data and load it"
   ]
  },
  {
   "cell_type": "code",
   "execution_count": 3,
   "metadata": {},
   "outputs": [
    {
     "name": "stdout",
     "output_type": "stream",
     "text": [
      "Extracting ExtractingExtractingExtractingC:\\Users\\kozhevin\\AppData\\Local\\Temp\\train-images-idx3-ubyte.gz  \n",
      " C:\\Users\\kozhevin\\AppData\\Local\\Temp\\t10k-labels-idx1-ubyte.gzC:\\Users\\kozhevin\\AppData\\Local\\Temp\\train-labels-idx1-ubyte.gz\n",
      "C:\\Users\\kozhevin\\AppData\\Local\\Temp\\t10k-images-idx3-ubyte.gz\n",
      "\n"
     ]
    }
   ],
   "source": [
    "mnist = MNIST()"
   ]
  },
  {
   "cell_type": "markdown",
   "metadata": {
    "collapsed": true
   },
   "source": [
    "Create configuration dictionary for placegolders"
   ]
  },
  {
   "cell_type": "code",
   "execution_count": 4,
   "metadata": {},
   "outputs": [],
   "source": [
    "placeholders_config = {\n",
    "                       'images': {'shape': (IMAGE_SIZE, IMAGE_SIZE, 1),\n",
    "                                 'type': 'float32',\n",
    "                                 'data_format': 'channels_last'},\n",
    "                \n",
    "                       'labels': {'classes': 10,\n",
    "                                  'dtype': 'int32',\n",
    "                                  'transform': 'ohe',\n",
    "                                  'name': 'targets'}\n",
    "                       }"
   ]
  },
  {
   "cell_type": "code",
   "execution_count": 5,
   "metadata": {
    "collapsed": true
   },
   "outputs": [],
   "source": [
    "model_config = {'inputs': placeholders_config,\n",
    "                'loss': 'softmax_cross_entropy',\n",
    "                'output': {'ops': 'proba'},\n",
    "                'optimizer': 'Adam'}\n",
    "\n",
    "train_feed_dict = {'images': B('images'),\n",
    "                   'labels': B('labels')}        \n",
    "\n",
    "test_feed_dict = {'images': B('images'),\n",
    "                  'labels': B('labels')}"
   ]
  },
  {
   "cell_type": "code",
   "execution_count": 6,
   "metadata": {},
   "outputs": [],
   "source": [
    "train_pp = (mnist.train.p\n",
    "            .init_model('static', VGG7, 'VGG', config=model_config)\n",
    "            .init_variable('loss_history', init_on_each_run=list)\n",
    "            .train_model('VGG', fetches=['loss'], feed_dict=train_feed_dict, save_to=V('loss_history'), mode='e'))\n",
    "\n",
    "test_pp = (mnist.test.p\n",
    "            .import_model('VGG', train_pp)\n",
    "            .init_variable('predicted_proba', init_on_each_run=list)\n",
    "            .predict_model('VGG', \n",
    "                           fetches=['predicted_proba'], \n",
    "                           feed_dict=test_feed_dict, \n",
    "                           save_to=[V('predicted_proba')], \n",
    "                           mode='a'))\n",
    "\n",
    "acc = []\n",
    "\n",
    "for i in range(1000):\n",
    "    train_pp.next_batch(BATCH_SIZE, shuffle=True, n_epochs=None, drop_last=False)\n",
    "    batch = test_pp.next_batch(BATCH_SIZE, shuffle=True, n_epochs=None, drop_last=False)\n",
    "    acc.append(np.mean(np.argmax(np.array(test_pp.get_variable('predicted_proba')[-1]), axis=-1) == batch.data.labels))"
   ]
  },
  {
   "cell_type": "code",
   "execution_count": 7,
   "metadata": {},
   "outputs": [
    {
     "data": {
      "image/png": "[encoded data removed]",
      "text/plain": [
       "<matplotlib.figure.Figure at 0x1af04e6dd68>"
      ]
     },
     "metadata": {},
     "output_type": "display_data"
    }
   ],
   "source": [
    "plt.plot(acc)\n",
    "plt.show()"
   ]
  }
 ],
 "metadata": {
  "kernelspec": {
   "display_name": "Python 3",
   "language": "python",
   "name": "python3"
  },
  "language_info": {
   "codemirror_mode": {
    "name": "ipython",
    "version": 3
   },
   "file_extension": ".py",
   "mimetype": "text/x-python",
   "name": "python",
   "nbconvert_exporter": "python",
   "pygments_lexer": "ipython3",
   "version": "3.5.2"
  }
 },
 "nbformat": 4,
 "nbformat_minor": 2
}
