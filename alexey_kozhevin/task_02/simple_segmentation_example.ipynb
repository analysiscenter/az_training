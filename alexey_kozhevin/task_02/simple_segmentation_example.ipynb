{
 "cells": [
  {
   "cell_type": "markdown",
   "metadata": {},
   "source": [
    "# Segmentation networks"
   ]
  },
  {
   "cell_type": "markdown",
   "metadata": {},
   "source": [
    "In the notebook will be demontsrated how to use UNet, LinkNet, FCN32 and FCN8 (realized as TFModel) to segmenation images with MNIST digits."
   ]
  },
  {
   "cell_type": "code",
   "execution_count": 1,
   "metadata": {
    "collapsed": true
   },
   "outputs": [],
   "source": [
    "import sys\n",
    "from time import time\n",
    "import numpy as np\n",
    "import matplotlib.pyplot as plt\n",
    "\n",
    "%matplotlib inline\n",
    "\n",
    "sys.path.append(\"..\")\n",
    "from dataset import Pipeline, B, V\n",
    "from dataset.opensets import MNIST\n",
    "from dataset.models.tf import FCN32, FCN16, FCN8, LinkNet, UNet\n",
    "\n",
    "from multiple_mnist import MultiMNIST, demonstrate_model, get_plots "
   ]
  },
  {
   "cell_type": "markdown",
   "metadata": {},
   "source": [
    "Load MNIST dataset. MultiMNIST is ImagesBatch class with action that creates images with MNIST digits in random locations."
   ]
  },
  {
   "cell_type": "code",
   "execution_count": 2,
   "metadata": {
    "scrolled": true
   },
   "outputs": [
    {
     "name": "stdout",
     "output_type": "stream",
     "text": [
      "Extracting C:\\Users\\kozhevin\\AppData\\Local\\Temp\\train-images-idx3-ubyte.gz\n",
      "ExtractingExtractingExtracting   C:\\Users\\kozhevin\\AppData\\Local\\Temp\\train-labels-idx1-ubyte.gzC:\\Users\\kozhevin\\AppData\\Local\\Temp\\t10k-labels-idx1-ubyte.gzC:\\Users\\kozhevin\\AppData\\Local\\Temp\\t10k-images-idx3-ubyte.gz\n",
      "\n",
      "\n"
     ]
    }
   ],
   "source": [
    "mnist = MNIST(batch_class=MultiMNIST)"
   ]
  },
  {
   "cell_type": "markdown",
   "metadata": {},
   "source": [
    "Define some constants and auxilary function"
   ]
  },
  {
   "cell_type": "code",
   "execution_count": 3,
   "metadata": {
    "collapsed": true
   },
   "outputs": [],
   "source": [
    "BATCH_SIZE = 64\n",
    "MAX_ITER = 300\n",
    "SHAPE = (100, 100)"
   ]
  },
  {
   "cell_type": "markdown",
   "metadata": {},
   "source": [
    "Create model config"
   ]
  },
  {
   "cell_type": "code",
   "execution_count": 4,
   "metadata": {
    "collapsed": true
   },
   "outputs": [],
   "source": [
    "model_config = {'loss': 'softmax_cross_entropy',\n",
    "                'input_block/inputs': 'images',\n",
    "                'optimizer': {'name':'Adam', \n",
    "                              'use_locking': True},\n",
    "                # inputs is a config dict to create placeholders\n",
    "                'inputs':    {'images': {'shape': (None, None, 1)},  # shape of the input images\n",
    "                              'masks':  {'shape': (None, None),      # shape of masks\n",
    "                                         'classes': 11,              # number of segmantation classes\n",
    "                                         'transform': 'ohe',         # apply one-hot encoding to masks\n",
    "                                         'name': 'targets'}},        # name of the tf.Tensor after transformation\n",
    "                'filters': 64,                                       # number of filters before the first downsampling block\n",
    "                'num_blocks': 3,\n",
    "                'output': {'ops': ['proba', 'labels']}}              # compute probability from logit output"
   ]
  },
  {
   "cell_type": "code",
   "execution_count": 5,
   "metadata": {
    "collapsed": true
   },
   "outputs": [],
   "source": [
    "train_template = (Pipeline()\n",
    "                  .normalize_images()\n",
    "                  .make_masks()\n",
    "                  .init_variable('loss_history', init_on_each_run=list)\n",
    "                  .init_variable('current_loss', init_on_each_run=0)\n",
    "                  .init_model('dynamic', UNet, 'conv', config=model_config)\n",
    "                  .train_model('conv', fetches='loss', feed_dict={'images': B('images'),\n",
    "                                                                  'masks': B('masks')}, \n",
    "                               save_to=V('current_loss'))\n",
    "                  .update_variable('loss_history', V('current_loss'), mode='a'))\n",
    "\n",
    "train_pp = (train_template << mnist.train)"
   ]
  },
  {
   "cell_type": "markdown",
   "metadata": {},
   "source": [
    "Train UNet on MNIST images"
   ]
  },
  {
   "cell_type": "code",
   "execution_count": 6,
   "metadata": {},
   "outputs": [
    {
     "name": "stdout",
     "output_type": "stream",
     "text": [
      "Start training...\n",
      "Training time: 2.11 min\n"
     ]
    },
    {
     "data": {
      "image/png": "[encoded data removed]",
      "text/plain": [
       "<matplotlib.figure.Figure at 0x193b7852080>"
      ]
     },
     "metadata": {},
     "output_type": "display_data"
    }
   ],
   "source": [
    "print(\"Start training...\")\n",
    "t = time()\n",
    "for i in range(MAX_ITER):\n",
    "    train_pp.next_batch(BATCH_SIZE, shuffle=True, n_epochs=None, drop_last=True, prefetch=0)\n",
    "print(\"Training time: {:4.2f} min\".format((time() - t)/60))\n",
    "\n",
    "plt.title('Train loss')\n",
    "plt.plot(train_pp.get_variable('loss_history'))\n",
    "plt.ylim((0, 2))\n",
    "plt.show()"
   ]
  },
  {
   "cell_type": "markdown",
   "metadata": {},
   "source": [
    "Create test pipeline for segmentation images with multiple MNIST digits in random locations."
   ]
  },
  {
   "cell_type": "code",
   "execution_count": 10,
   "metadata": {},
   "outputs": [],
   "source": [
    "test_template = (Pipeline()\n",
    "                 .normalize_images()\n",
    "                 .mix_digits(image_shape=SHAPE, max_digits=(100, 100))\n",
    "                 .import_model('conv', train_pp)\n",
    "                 .init_variable('predicted_proba', init_on_each_run=list)\n",
    "                 .init_variable('predicted_labels', init_on_each_run=list)\n",
    "                 .predict_model('conv', fetches=['predicted_proba', 'predicted_labels'],\n",
    "                               feed_dict={'images': B('images'),\n",
    "                                          'masks': B('masks')},\n",
    "                               save_to=[V('predicted_proba'), V('predicted_labels')], mode='a'))\n",
    "\n",
    "test_ppl = (test_template << mnist.test)"
   ]
  },
  {
   "cell_type": "code",
   "execution_count": 11,
   "metadata": {
    "scrolled": false
   },
   "outputs": [
    {
     "name": "stdout",
     "output_type": "stream",
     "text": [
      "[TypeError('can only concatenate tuple (not \"int\") to tuple',), TypeError('can only concatenate tuple (not \"int\") to tuple',), TypeError('can only concatenate tuple (not \"int\") to tuple',), TypeError('can only concatenate tuple (not \"int\") to tuple',), TypeError('can only concatenate tuple (not \"int\") to tuple',), TypeError('can only concatenate tuple (not \"int\") to tuple',), TypeError('can only concatenate tuple (not \"int\") to tuple',), TypeError('can only concatenate tuple (not \"int\") to tuple',), TypeError('can only concatenate tuple (not \"int\") to tuple',), TypeError('can only concatenate tuple (not \"int\") to tuple',), TypeError('can only concatenate tuple (not \"int\") to tuple',), TypeError('can only concatenate tuple (not \"int\") to tuple',), TypeError('can only concatenate tuple (not \"int\") to tuple',), TypeError('can only concatenate tuple (not \"int\") to tuple',), TypeError('can only concatenate tuple (not \"int\") to tuple',), TypeError('can only concatenate tuple (not \"int\") to tuple',), TypeError('can only concatenate tuple (not \"int\") to tuple',), TypeError('can only concatenate tuple (not \"int\") to tuple',), TypeError('can only concatenate tuple (not \"int\") to tuple',), TypeError('can only concatenate tuple (not \"int\") to tuple',), TypeError('can only concatenate tuple (not \"int\") to tuple',), TypeError('can only concatenate tuple (not \"int\") to tuple',), TypeError('can only concatenate tuple (not \"int\") to tuple',), TypeError('can only concatenate tuple (not \"int\") to tuple',), TypeError('can only concatenate tuple (not \"int\") to tuple',), TypeError('can only concatenate tuple (not \"int\") to tuple',), TypeError('can only concatenate tuple (not \"int\") to tuple',), TypeError('can only concatenate tuple (not \"int\") to tuple',), TypeError('can only concatenate tuple (not \"int\") to tuple',), TypeError('can only concatenate tuple (not \"int\") to tuple',), TypeError('can only concatenate tuple (not \"int\") to tuple',), TypeError('can only concatenate tuple (not \"int\") to tuple',), TypeError('can only concatenate tuple (not \"int\") to tuple',), TypeError('can only concatenate tuple (not \"int\") to tuple',), TypeError('can only concatenate tuple (not \"int\") to tuple',), TypeError('can only concatenate tuple (not \"int\") to tuple',), TypeError('can only concatenate tuple (not \"int\") to tuple',), TypeError('can only concatenate tuple (not \"int\") to tuple',), TypeError('can only concatenate tuple (not \"int\") to tuple',), TypeError('can only concatenate tuple (not \"int\") to tuple',), TypeError('can only concatenate tuple (not \"int\") to tuple',), TypeError('can only concatenate tuple (not \"int\") to tuple',), TypeError('can only concatenate tuple (not \"int\") to tuple',), TypeError('can only concatenate tuple (not \"int\") to tuple',), TypeError('can only concatenate tuple (not \"int\") to tuple',), TypeError('can only concatenate tuple (not \"int\") to tuple',), TypeError('can only concatenate tuple (not \"int\") to tuple',), TypeError('can only concatenate tuple (not \"int\") to tuple',), TypeError('can only concatenate tuple (not \"int\") to tuple',), TypeError('can only concatenate tuple (not \"int\") to tuple',), TypeError('can only concatenate tuple (not \"int\") to tuple',), TypeError('can only concatenate tuple (not \"int\") to tuple',), TypeError('can only concatenate tuple (not \"int\") to tuple',), TypeError('can only concatenate tuple (not \"int\") to tuple',), TypeError('can only concatenate tuple (not \"int\") to tuple',), TypeError('can only concatenate tuple (not \"int\") to tuple',), TypeError('can only concatenate tuple (not \"int\") to tuple',), TypeError('can only concatenate tuple (not \"int\") to tuple',), TypeError('can only concatenate tuple (not \"int\") to tuple',), TypeError('can only concatenate tuple (not \"int\") to tuple',), TypeError('can only concatenate tuple (not \"int\") to tuple',), TypeError('can only concatenate tuple (not \"int\") to tuple',), TypeError('can only concatenate tuple (not \"int\") to tuple',), TypeError('can only concatenate tuple (not \"int\") to tuple',), TypeError('can only concatenate tuple (not \"int\") to tuple',), TypeError('can only concatenate tuple (not \"int\") to tuple',), TypeError('can only concatenate tuple (not \"int\") to tuple',), TypeError('can only concatenate tuple (not \"int\") to tuple',), TypeError('can only concatenate tuple (not \"int\") to tuple',), TypeError('can only concatenate tuple (not \"int\") to tuple',), TypeError('can only concatenate tuple (not \"int\") to tuple',), TypeError('can only concatenate tuple (not \"int\") to tuple',), TypeError('can only concatenate tuple (not \"int\") to tuple',), TypeError('can only concatenate tuple (not \"int\") to tuple',), TypeError('can only concatenate tuple (not \"int\") to tuple',), TypeError('can only concatenate tuple (not \"int\") to tuple',), TypeError('can only concatenate tuple (not \"int\") to tuple',), TypeError('can only concatenate tuple (not \"int\") to tuple',), TypeError('can only concatenate tuple (not \"int\") to tuple',), TypeError('can only concatenate tuple (not \"int\") to tuple',), TypeError('can only concatenate tuple (not \"int\") to tuple',), TypeError('can only concatenate tuple (not \"int\") to tuple',), TypeError('can only concatenate tuple (not \"int\") to tuple',), TypeError('can only concatenate tuple (not \"int\") to tuple',), TypeError('can only concatenate tuple (not \"int\") to tuple',), TypeError('can only concatenate tuple (not \"int\") to tuple',), TypeError('can only concatenate tuple (not \"int\") to tuple',), TypeError('can only concatenate tuple (not \"int\") to tuple',), TypeError('can only concatenate tuple (not \"int\") to tuple',), TypeError('can only concatenate tuple (not \"int\") to tuple',), TypeError('can only concatenate tuple (not \"int\") to tuple',), TypeError('can only concatenate tuple (not \"int\") to tuple',), TypeError('can only concatenate tuple (not \"int\") to tuple',), TypeError('can only concatenate tuple (not \"int\") to tuple',), TypeError('can only concatenate tuple (not \"int\") to tuple',), TypeError('can only concatenate tuple (not \"int\") to tuple',), TypeError('can only concatenate tuple (not \"int\") to tuple',), TypeError('can only concatenate tuple (not \"int\") to tuple',), TypeError('can only concatenate tuple (not \"int\") to tuple',), TypeError('can only concatenate tuple (not \"int\") to tuple',)]\n"
     ]
    },
    {
     "name": "stderr",
     "output_type": "stream",
     "text": [
      "  File \"..\\dataset\\dataset\\decorators.py\", line 475, in _call_post_fn\n",
      "    result = future.result()\n",
      "  File \"C:\\Anaconda3\\envs\\tensorflow-gpu\\lib\\concurrent\\futures\\_base.py\", line 398, in result\n",
      "    return self.__get_result()\n",
      "  File \"C:\\Anaconda3\\envs\\tensorflow-gpu\\lib\\concurrent\\futures\\_base.py\", line 357, in __get_result\n",
      "    raise self._exception\n",
      "  File \"C:\\Anaconda3\\envs\\tensorflow-gpu\\lib\\concurrent\\futures\\thread.py\", line 55, in run\n",
      "    result = self.fn(*self.args, **self.kwargs)\n",
      "  File \"c:\\projects\\az_training\\alexey_kozhevin\\task_02\\multiple_mnist.py\", line 33, in mix_digits\n",
      "    n_digits = np.random.randint(1, max_digits+1)\n"
     ]
    },
    {
     "ename": "RuntimeError",
     "evalue": "Could not assemble the batch",
     "output_type": "error",
     "traceback": [
      "\u001b[1;31m---------------------------------------------------------------------------\u001b[0m",
      "\u001b[1;31mRuntimeError\u001b[0m                              Traceback (most recent call last)",
      "\u001b[1;32m<ipython-input-11-1458a42c8e7b>\u001b[0m in \u001b[0;36m<module>\u001b[1;34m()\u001b[0m\n\u001b[1;32m----> 1\u001b[1;33m \u001b[0mget_plots\u001b[0m\u001b[1;33m(\u001b[0m\u001b[0mtest_ppl\u001b[0m\u001b[1;33m,\u001b[0m \u001b[0mmode\u001b[0m\u001b[1;33m=\u001b[0m\u001b[1;34m'c'\u001b[0m\u001b[1;33m,\u001b[0m \u001b[0minverse\u001b[0m\u001b[1;33m=\u001b[0m\u001b[1;32mTrue\u001b[0m\u001b[1;33m,\u001b[0m \u001b[0mn_examples\u001b[0m\u001b[1;33m=\u001b[0m\u001b[1;36m20\u001b[0m\u001b[1;33m)\u001b[0m\u001b[1;33m\u001b[0m\u001b[0m\n\u001b[0m",
      "\u001b[1;32mc:\\projects\\az_training\\alexey_kozhevin\\task_02\\multiple_mnist.py\u001b[0m in \u001b[0;36mget_plots\u001b[1;34m(pipeline, n_examples, mode, inverse, title, batch_size)\u001b[0m\n\u001b[0;32m    122\u001b[0m \u001b[1;32mdef\u001b[0m \u001b[0mget_plots\u001b[0m\u001b[1;33m(\u001b[0m\u001b[0mpipeline\u001b[0m\u001b[1;33m,\u001b[0m \u001b[0mn_examples\u001b[0m\u001b[1;33m=\u001b[0m\u001b[1;36m10\u001b[0m\u001b[1;33m,\u001b[0m \u001b[0mmode\u001b[0m\u001b[1;33m=\u001b[0m\u001b[1;34m'sc'\u001b[0m\u001b[1;33m,\u001b[0m \u001b[0minverse\u001b[0m\u001b[1;33m=\u001b[0m\u001b[1;32mTrue\u001b[0m\u001b[1;33m,\u001b[0m \u001b[0mtitle\u001b[0m\u001b[1;33m=\u001b[0m\u001b[1;32mNone\u001b[0m\u001b[1;33m,\u001b[0m \u001b[0mbatch_size\u001b[0m\u001b[1;33m=\u001b[0m\u001b[1;36m100\u001b[0m\u001b[1;33m)\u001b[0m\u001b[1;33m:\u001b[0m\u001b[1;33m\u001b[0m\u001b[0m\n\u001b[0;32m    123\u001b[0m     \u001b[1;34m\"\"\"Show results of segmentation networks.\"\"\"\u001b[0m\u001b[1;33m\u001b[0m\u001b[0m\n\u001b[1;32m--> 124\u001b[1;33m     \u001b[0mbatch\u001b[0m \u001b[1;33m=\u001b[0m \u001b[0mpipeline\u001b[0m\u001b[1;33m.\u001b[0m\u001b[0mnext_batch\u001b[0m\u001b[1;33m(\u001b[0m\u001b[0mbatch_size\u001b[0m\u001b[1;33m,\u001b[0m \u001b[0mshuffle\u001b[0m\u001b[1;33m=\u001b[0m\u001b[1;32mTrue\u001b[0m\u001b[1;33m)\u001b[0m\u001b[1;33m\u001b[0m\u001b[0m\n\u001b[0m\u001b[0;32m    125\u001b[0m     \u001b[0mimages\u001b[0m \u001b[1;33m=\u001b[0m \u001b[0mnp\u001b[0m\u001b[1;33m.\u001b[0m\u001b[0msqueeze\u001b[0m\u001b[1;33m(\u001b[0m\u001b[0mbatch\u001b[0m\u001b[1;33m.\u001b[0m\u001b[0mdata\u001b[0m\u001b[1;33m.\u001b[0m\u001b[0mimages\u001b[0m\u001b[1;33m)\u001b[0m\u001b[1;33m[\u001b[0m\u001b[1;33m:\u001b[0m\u001b[0mn_examples\u001b[0m\u001b[1;33m]\u001b[0m\u001b[1;33m\u001b[0m\u001b[0m\n\u001b[0;32m    126\u001b[0m     \u001b[1;32mif\u001b[0m \u001b[1;34m's'\u001b[0m \u001b[1;32min\u001b[0m \u001b[0mmode\u001b[0m\u001b[1;33m:\u001b[0m\u001b[1;33m\u001b[0m\u001b[0m\n",
      "\u001b[1;32mc:\\projects\\az_training\\alexey_kozhevin\\dataset\\dataset\\pipeline.py\u001b[0m in \u001b[0;36mnext_batch\u001b[1;34m(self, *args, **kwargs)\u001b[0m\n\u001b[0;32m   1139\u001b[0m                 \u001b[0mself\u001b[0m\u001b[1;33m.\u001b[0m\u001b[0m_lazy_run\u001b[0m \u001b[1;33m=\u001b[0m \u001b[0margs\u001b[0m\u001b[1;33m,\u001b[0m \u001b[0mkwargs\u001b[0m\u001b[1;33m\u001b[0m\u001b[0m\n\u001b[0;32m   1140\u001b[0m                 \u001b[0mself\u001b[0m\u001b[1;33m.\u001b[0m\u001b[0m_batch_generator\u001b[0m \u001b[1;33m=\u001b[0m \u001b[0mself\u001b[0m\u001b[1;33m.\u001b[0m\u001b[0mgen_batch\u001b[0m\u001b[1;33m(\u001b[0m\u001b[1;33m*\u001b[0m\u001b[0margs\u001b[0m\u001b[1;33m,\u001b[0m \u001b[1;33m**\u001b[0m\u001b[0mkwargs\u001b[0m\u001b[1;33m)\u001b[0m\u001b[1;33m\u001b[0m\u001b[0m\n\u001b[1;32m-> 1141\u001b[1;33m             \u001b[0mbatch_res\u001b[0m \u001b[1;33m=\u001b[0m \u001b[0mnext\u001b[0m\u001b[1;33m(\u001b[0m\u001b[0mself\u001b[0m\u001b[1;33m.\u001b[0m\u001b[0m_batch_generator\u001b[0m\u001b[1;33m)\u001b[0m\u001b[1;33m\u001b[0m\u001b[0m\n\u001b[0m\u001b[0;32m   1142\u001b[0m         \u001b[1;32melse\u001b[0m\u001b[1;33m:\u001b[0m\u001b[1;33m\u001b[0m\u001b[0m\n\u001b[0;32m   1143\u001b[0m             \u001b[0m_kwargs\u001b[0m \u001b[1;33m=\u001b[0m \u001b[0mkwargs\u001b[0m\u001b[1;33m.\u001b[0m\u001b[0mcopy\u001b[0m\u001b[1;33m(\u001b[0m\u001b[1;33m)\u001b[0m\u001b[1;33m\u001b[0m\u001b[0m\n",
      "\u001b[1;32mc:\\projects\\az_training\\alexey_kozhevin\\dataset\\dataset\\pipeline.py\u001b[0m in \u001b[0;36mgen_batch\u001b[1;34m(self, batch_size, shuffle, n_epochs, drop_last, prefetch, on_iter, *args, **kwargs)\u001b[0m\n\u001b[0;32m   1112\u001b[0m             \u001b[1;32mfor\u001b[0m \u001b[0mbatch\u001b[0m \u001b[1;32min\u001b[0m \u001b[0mbatch_generator\u001b[0m\u001b[1;33m:\u001b[0m\u001b[1;33m\u001b[0m\u001b[0m\n\u001b[0;32m   1113\u001b[0m                 \u001b[1;32mtry\u001b[0m\u001b[1;33m:\u001b[0m\u001b[1;33m\u001b[0m\u001b[0m\n\u001b[1;32m-> 1114\u001b[1;33m                     \u001b[0mbatch_res\u001b[0m \u001b[1;33m=\u001b[0m \u001b[0mself\u001b[0m\u001b[1;33m.\u001b[0m\u001b[0m_exec\u001b[0m\u001b[1;33m(\u001b[0m\u001b[0mbatch\u001b[0m\u001b[1;33m)\u001b[0m\u001b[1;33m\u001b[0m\u001b[0m\n\u001b[0m\u001b[0;32m   1115\u001b[0m                 \u001b[1;32mexcept\u001b[0m \u001b[0mSkipBatchException\u001b[0m\u001b[1;33m:\u001b[0m\u001b[1;33m\u001b[0m\u001b[0m\n\u001b[0;32m   1116\u001b[0m                     \u001b[1;32mpass\u001b[0m\u001b[1;33m\u001b[0m\u001b[0m\n",
      "\u001b[1;32mc:\\projects\\az_training\\alexey_kozhevin\\dataset\\dataset\\pipeline.py\u001b[0m in \u001b[0;36m_exec\u001b[1;34m(self, batch, new_loop)\u001b[0m\n\u001b[0;32m    587\u001b[0m             \u001b[0masyncio\u001b[0m\u001b[1;33m.\u001b[0m\u001b[0mset_event_loop\u001b[0m\u001b[1;33m(\u001b[0m\u001b[0masyncio\u001b[0m\u001b[1;33m.\u001b[0m\u001b[0mnew_event_loop\u001b[0m\u001b[1;33m(\u001b[0m\u001b[1;33m)\u001b[0m\u001b[1;33m)\u001b[0m\u001b[1;33m\u001b[0m\u001b[0m\n\u001b[0;32m    588\u001b[0m         \u001b[0mbatch\u001b[0m\u001b[1;33m.\u001b[0m\u001b[0mpipeline\u001b[0m \u001b[1;33m=\u001b[0m \u001b[0mself\u001b[0m\u001b[1;33m\u001b[0m\u001b[0m\n\u001b[1;32m--> 589\u001b[1;33m         \u001b[0mbatch_res\u001b[0m \u001b[1;33m=\u001b[0m \u001b[0mself\u001b[0m\u001b[1;33m.\u001b[0m\u001b[0m_exec_all_actions\u001b[0m\u001b[1;33m(\u001b[0m\u001b[0mbatch\u001b[0m\u001b[1;33m)\u001b[0m\u001b[1;33m\u001b[0m\u001b[0m\n\u001b[0m\u001b[0;32m    590\u001b[0m         \u001b[0mbatch_res\u001b[0m\u001b[1;33m.\u001b[0m\u001b[0mpipeline\u001b[0m \u001b[1;33m=\u001b[0m \u001b[0mself\u001b[0m\u001b[1;33m\u001b[0m\u001b[0m\n\u001b[0;32m    591\u001b[0m         \u001b[1;32mreturn\u001b[0m \u001b[0mbatch_res\u001b[0m\u001b[1;33m\u001b[0m\u001b[0m\n",
      "\u001b[1;32mc:\\projects\\az_training\\alexey_kozhevin\\dataset\\dataset\\pipeline.py\u001b[0m in \u001b[0;36m_exec_all_actions\u001b[1;34m(self, batch, action_list)\u001b[0m\n\u001b[0;32m    572\u001b[0m                     \u001b[0mjoin_batches\u001b[0m \u001b[1;33m=\u001b[0m \u001b[1;32mNone\u001b[0m\u001b[1;33m\u001b[0m\u001b[0m\n\u001b[0;32m    573\u001b[0m \u001b[1;33m\u001b[0m\u001b[0m\n\u001b[1;32m--> 574\u001b[1;33m                 \u001b[0mbatch\u001b[0m \u001b[1;33m=\u001b[0m \u001b[0mself\u001b[0m\u001b[1;33m.\u001b[0m\u001b[0m_exec_one_action\u001b[0m\u001b[1;33m(\u001b[0m\u001b[0mbatch\u001b[0m\u001b[1;33m,\u001b[0m \u001b[0m_action\u001b[0m\u001b[1;33m,\u001b[0m \u001b[0m_action_args\u001b[0m\u001b[1;33m,\u001b[0m \u001b[0m_action\u001b[0m\u001b[1;33m[\u001b[0m\u001b[1;34m'kwargs'\u001b[0m\u001b[1;33m]\u001b[0m\u001b[1;33m)\u001b[0m\u001b[1;33m\u001b[0m\u001b[0m\n\u001b[0m\u001b[0;32m    575\u001b[0m \u001b[1;33m\u001b[0m\u001b[0m\n\u001b[0;32m    576\u001b[0m                 \u001b[1;32mif\u001b[0m \u001b[1;34m'tf_queue'\u001b[0m \u001b[1;32min\u001b[0m \u001b[0m_action\u001b[0m\u001b[1;33m:\u001b[0m\u001b[1;33m\u001b[0m\u001b[0m\n",
      "\u001b[1;32mc:\\projects\\az_training\\alexey_kozhevin\\dataset\\dataset\\pipeline.py\u001b[0m in \u001b[0;36m_exec_one_action\u001b[1;34m(self, batch, action, args, kwargs)\u001b[0m\n\u001b[0;32m    523\u001b[0m                 \u001b[0mbatch\u001b[0m\u001b[1;33m.\u001b[0m\u001b[0mpipeline\u001b[0m \u001b[1;33m=\u001b[0m \u001b[0mself\u001b[0m\u001b[1;33m\u001b[0m\u001b[0m\n\u001b[0;32m    524\u001b[0m                 \u001b[0maction_method\u001b[0m\u001b[1;33m,\u001b[0m \u001b[0m_\u001b[0m \u001b[1;33m=\u001b[0m \u001b[0mself\u001b[0m\u001b[1;33m.\u001b[0m\u001b[0m_get_action_method\u001b[0m\u001b[1;33m(\u001b[0m\u001b[0mbatch\u001b[0m\u001b[1;33m,\u001b[0m \u001b[0maction\u001b[0m\u001b[1;33m[\u001b[0m\u001b[1;34m'name'\u001b[0m\u001b[1;33m]\u001b[0m\u001b[1;33m)\u001b[0m\u001b[1;33m\u001b[0m\u001b[0m\n\u001b[1;32m--> 525\u001b[1;33m                 \u001b[0mbatch\u001b[0m \u001b[1;33m=\u001b[0m \u001b[0maction_method\u001b[0m\u001b[1;33m(\u001b[0m\u001b[1;33m*\u001b[0m\u001b[0margs\u001b[0m\u001b[1;33m,\u001b[0m \u001b[1;33m**\u001b[0m\u001b[0mkwargs\u001b[0m\u001b[1;33m)\u001b[0m\u001b[1;33m\u001b[0m\u001b[0m\n\u001b[0m\u001b[0;32m    526\u001b[0m                 \u001b[0mbatch\u001b[0m\u001b[1;33m.\u001b[0m\u001b[0mpipeline\u001b[0m \u001b[1;33m=\u001b[0m \u001b[0mself\u001b[0m\u001b[1;33m\u001b[0m\u001b[0m\n\u001b[0;32m    527\u001b[0m         \u001b[1;32mreturn\u001b[0m \u001b[0mbatch\u001b[0m\u001b[1;33m\u001b[0m\u001b[0m\n",
      "\u001b[1;32mc:\\projects\\az_training\\alexey_kozhevin\\dataset\\dataset\\decorators.py\u001b[0m in \u001b[0;36m_action_wrapper\u001b[1;34m(action_self, *args, **kwargs)\u001b[0m\n\u001b[0;32m    385\u001b[0m \u001b[1;33m\u001b[0m\u001b[0m\n\u001b[0;32m    386\u001b[0m         \u001b[1;32mif\u001b[0m \u001b[0m_model_name\u001b[0m \u001b[1;32mis\u001b[0m \u001b[1;32mNone\u001b[0m\u001b[1;33m:\u001b[0m\u001b[1;33m\u001b[0m\u001b[0m\n\u001b[1;32m--> 387\u001b[1;33m             \u001b[0m_res\u001b[0m \u001b[1;33m=\u001b[0m \u001b[0maction_method\u001b[0m\u001b[1;33m(\u001b[0m\u001b[0maction_self\u001b[0m\u001b[1;33m,\u001b[0m \u001b[1;33m*\u001b[0m\u001b[0margs\u001b[0m\u001b[1;33m,\u001b[0m \u001b[1;33m**\u001b[0m\u001b[0mkwargs\u001b[0m\u001b[1;33m)\u001b[0m\u001b[1;33m\u001b[0m\u001b[0m\n\u001b[0m\u001b[0;32m    388\u001b[0m         \u001b[1;32melse\u001b[0m\u001b[1;33m:\u001b[0m\u001b[1;33m\u001b[0m\u001b[0m\n\u001b[0;32m    389\u001b[0m             _model_spec = ModelDirectory.get_model_by_name(_model_name, pipeline=action_self.pipeline,\n",
      "\u001b[1;32mc:\\projects\\az_training\\alexey_kozhevin\\dataset\\dataset\\decorators.py\u001b[0m in \u001b[0;36mwrapped_method\u001b[1;34m(self, *args, **kwargs)\u001b[0m\n\u001b[0;32m    597\u001b[0m                 \u001b[1;32mreturn\u001b[0m \u001b[0mwrap_with_async\u001b[0m\u001b[1;33m(\u001b[0m\u001b[0mself\u001b[0m\u001b[1;33m,\u001b[0m \u001b[0margs\u001b[0m\u001b[1;33m,\u001b[0m \u001b[0mkwargs\u001b[0m\u001b[1;33m)\u001b[0m\u001b[1;33m\u001b[0m\u001b[0m\n\u001b[0;32m    598\u001b[0m             \u001b[1;32mif\u001b[0m \u001b[0mtarget\u001b[0m \u001b[1;32min\u001b[0m \u001b[1;33m[\u001b[0m\u001b[1;34m'threads'\u001b[0m\u001b[1;33m,\u001b[0m \u001b[1;34m't'\u001b[0m\u001b[1;33m]\u001b[0m\u001b[1;33m:\u001b[0m\u001b[1;33m\u001b[0m\u001b[0m\n\u001b[1;32m--> 599\u001b[1;33m                 \u001b[1;32mreturn\u001b[0m \u001b[0mwrap_with_threads\u001b[0m\u001b[1;33m(\u001b[0m\u001b[0mself\u001b[0m\u001b[1;33m,\u001b[0m \u001b[0margs\u001b[0m\u001b[1;33m,\u001b[0m \u001b[0mkwargs\u001b[0m\u001b[1;33m)\u001b[0m\u001b[1;33m\u001b[0m\u001b[0m\n\u001b[0m\u001b[0;32m    600\u001b[0m             \u001b[1;32melif\u001b[0m \u001b[0mtarget\u001b[0m \u001b[1;33m==\u001b[0m \u001b[1;34m'nogil'\u001b[0m\u001b[1;33m:\u001b[0m\u001b[1;33m\u001b[0m\u001b[0m\n\u001b[0;32m    601\u001b[0m                 \u001b[1;32mreturn\u001b[0m \u001b[0mwrap_with_threads\u001b[0m\u001b[1;33m(\u001b[0m\u001b[0mself\u001b[0m\u001b[1;33m,\u001b[0m \u001b[0margs\u001b[0m\u001b[1;33m,\u001b[0m \u001b[0mkwargs\u001b[0m\u001b[1;33m,\u001b[0m \u001b[0mnogil\u001b[0m\u001b[1;33m=\u001b[0m\u001b[1;32mTrue\u001b[0m\u001b[1;33m)\u001b[0m\u001b[1;33m\u001b[0m\u001b[0m\n",
      "\u001b[1;32mc:\\projects\\az_training\\alexey_kozhevin\\dataset\\dataset\\decorators.py\u001b[0m in \u001b[0;36mwrap_with_threads\u001b[1;34m(self, args, kwargs, nogil)\u001b[0m\n\u001b[0;32m    528\u001b[0m                 \u001b[0mcf\u001b[0m\u001b[1;33m.\u001b[0m\u001b[0mwait\u001b[0m\u001b[1;33m(\u001b[0m\u001b[0mfutures\u001b[0m\u001b[1;33m,\u001b[0m \u001b[0mtimeout\u001b[0m\u001b[1;33m=\u001b[0m\u001b[0mtimeout\u001b[0m\u001b[1;33m,\u001b[0m \u001b[0mreturn_when\u001b[0m\u001b[1;33m=\u001b[0m\u001b[0mcf\u001b[0m\u001b[1;33m.\u001b[0m\u001b[0mALL_COMPLETED\u001b[0m\u001b[1;33m)\u001b[0m\u001b[1;33m\u001b[0m\u001b[0m\n\u001b[0;32m    529\u001b[0m \u001b[1;33m\u001b[0m\u001b[0m\n\u001b[1;32m--> 530\u001b[1;33m             \u001b[1;32mreturn\u001b[0m \u001b[0m_call_post_fn\u001b[0m\u001b[1;33m(\u001b[0m\u001b[0mself\u001b[0m\u001b[1;33m,\u001b[0m \u001b[0mpost_fn\u001b[0m\u001b[1;33m,\u001b[0m \u001b[0mfutures\u001b[0m\u001b[1;33m,\u001b[0m \u001b[0margs\u001b[0m\u001b[1;33m,\u001b[0m \u001b[0mfull_kwargs\u001b[0m\u001b[1;33m)\u001b[0m\u001b[1;33m\u001b[0m\u001b[0m\n\u001b[0m\u001b[0;32m    531\u001b[0m \u001b[1;33m\u001b[0m\u001b[0m\n\u001b[0;32m    532\u001b[0m         \u001b[1;32mdef\u001b[0m \u001b[0mwrap_with_mpc\u001b[0m\u001b[1;33m(\u001b[0m\u001b[0mself\u001b[0m\u001b[1;33m,\u001b[0m \u001b[0margs\u001b[0m\u001b[1;33m,\u001b[0m \u001b[0mkwargs\u001b[0m\u001b[1;33m)\u001b[0m\u001b[1;33m:\u001b[0m\u001b[1;33m\u001b[0m\u001b[0m\n",
      "\u001b[1;32mc:\\projects\\az_training\\alexey_kozhevin\\dataset\\dataset\\decorators.py\u001b[0m in \u001b[0;36m_call_post_fn\u001b[1;34m(self, post_fn, futures, args, kwargs)\u001b[0m\n\u001b[0;32m    488\u001b[0m                 \u001b[1;32mreturn\u001b[0m \u001b[0mself\u001b[0m\u001b[1;33m\u001b[0m\u001b[0m\n\u001b[0;32m    489\u001b[0m             \u001b[1;32melse\u001b[0m\u001b[1;33m:\u001b[0m\u001b[1;33m\u001b[0m\u001b[0m\n\u001b[1;32m--> 490\u001b[1;33m                 \u001b[1;32mreturn\u001b[0m \u001b[0mpost_fn\u001b[0m\u001b[1;33m(\u001b[0m\u001b[0mall_results\u001b[0m\u001b[1;33m,\u001b[0m \u001b[1;33m*\u001b[0m\u001b[0margs\u001b[0m\u001b[1;33m,\u001b[0m \u001b[1;33m**\u001b[0m\u001b[0mkwargs\u001b[0m\u001b[1;33m)\u001b[0m\u001b[1;33m\u001b[0m\u001b[0m\n\u001b[0m\u001b[0;32m    491\u001b[0m \u001b[1;33m\u001b[0m\u001b[0m\n\u001b[0;32m    492\u001b[0m         \u001b[1;32mdef\u001b[0m \u001b[0m_make_args\u001b[0m\u001b[1;33m(\u001b[0m\u001b[0minit_args\u001b[0m\u001b[1;33m,\u001b[0m \u001b[0margs\u001b[0m\u001b[1;33m,\u001b[0m \u001b[0mkwargs\u001b[0m\u001b[1;33m)\u001b[0m\u001b[1;33m:\u001b[0m\u001b[1;33m\u001b[0m\u001b[0m\n",
      "\u001b[1;32mc:\\projects\\az_training\\alexey_kozhevin\\dataset\\dataset\\batch_image.py\u001b[0m in \u001b[0;36massemble\u001b[1;34m(self, all_res, *args, **kwargs)\u001b[0m\n\u001b[0;32m    308\u001b[0m             \u001b[0mprint\u001b[0m\u001b[1;33m(\u001b[0m\u001b[0mall_errors\u001b[0m\u001b[1;33m)\u001b[0m\u001b[1;33m\u001b[0m\u001b[0m\n\u001b[0;32m    309\u001b[0m             \u001b[0mtraceback\u001b[0m\u001b[1;33m.\u001b[0m\u001b[0mprint_tb\u001b[0m\u001b[1;33m(\u001b[0m\u001b[0mall_errors\u001b[0m\u001b[1;33m[\u001b[0m\u001b[1;36m0\u001b[0m\u001b[1;33m]\u001b[0m\u001b[1;33m.\u001b[0m\u001b[0m__traceback__\u001b[0m\u001b[1;33m)\u001b[0m\u001b[1;33m\u001b[0m\u001b[0m\n\u001b[1;32m--> 310\u001b[1;33m             \u001b[1;32mraise\u001b[0m \u001b[0mRuntimeError\u001b[0m\u001b[1;33m(\u001b[0m\u001b[1;34m\"Could not assemble the batch\"\u001b[0m\u001b[1;33m)\u001b[0m\u001b[1;33m\u001b[0m\u001b[0m\n\u001b[0m\u001b[0;32m    311\u001b[0m \u001b[1;33m\u001b[0m\u001b[0m\n\u001b[0;32m    312\u001b[0m         \u001b[0mcomponents\u001b[0m \u001b[1;33m=\u001b[0m \u001b[0mkwargs\u001b[0m\u001b[1;33m.\u001b[0m\u001b[0mget\u001b[0m\u001b[1;33m(\u001b[0m\u001b[1;34m'components'\u001b[0m\u001b[1;33m,\u001b[0m \u001b[1;34m'images'\u001b[0m\u001b[1;33m)\u001b[0m\u001b[1;33m\u001b[0m\u001b[0m\n",
      "\u001b[1;31mRuntimeError\u001b[0m: Could not assemble the batch"
     ]
    }
   ],
   "source": [
    "get_plots(test_ppl, mode='c', inverse=True, n_examples=20)"
   ]
  },
  {
   "cell_type": "markdown",
   "metadata": {},
   "source": [
    "Now let's demonstrate result for other segmentation networks."
   ]
  },
  {
   "cell_type": "code",
   "execution_count": null,
   "metadata": {
    "scrolled": false
   },
   "outputs": [],
   "source": [
    "demonstrate_model(FCN32, max_iter=MAX_ITER, mode='multimnist')"
   ]
  },
  {
   "cell_type": "code",
   "execution_count": null,
   "metadata": {
    "scrolled": false
   },
   "outputs": [],
   "source": [
    "demonstrate_model(FCN16, max_iter=MAX_ITER, mode='multimnist')"
   ]
  },
  {
   "cell_type": "code",
   "execution_count": null,
   "metadata": {
    "scrolled": false
   },
   "outputs": [],
   "source": [
    "demonstrate_model(FCN8, max_iter=MAX_ITER, mode='multimnist')"
   ]
  },
  {
   "cell_type": "code",
   "execution_count": null,
   "metadata": {
    "scrolled": false
   },
   "outputs": [],
   "source": [
    "demonstrate_model(LinkNet, filters=128, max_iter=MAX_ITER, mode='multimnist')"
   ]
  }
 ],
 "metadata": {
  "kernelspec": {
   "display_name": "Python 3",
   "language": "python",
   "name": "python3"
  },
  "language_info": {
   "codemirror_mode": {
    "name": "ipython",
    "version": 3
   },
   "file_extension": ".py",
   "mimetype": "text/x-python",
   "name": "python",
   "nbconvert_exporter": "python",
   "pygments_lexer": "ipython3",
   "version": "3.5.2"
  }
 },
 "nbformat": 4,
 "nbformat_minor": 2
}
