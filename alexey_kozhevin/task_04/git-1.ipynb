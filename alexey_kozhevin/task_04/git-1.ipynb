{
 "cells": [
  {
   "cell_type": "markdown",
   "metadata": {},
   "source": [
    "# Команды Git. Часть 1 "
   ]
  },
  {
   "cell_type": "markdown",
   "metadata": {},
   "source": [
    "Сегодня мы поговорим о принципах работы следующих команд:\n",
    "* git branch\n",
    "* git checkout\n",
    "* git stash\n",
    "* git log\n",
    "* git show"
   ]
  },
  {
   "cell_type": "markdown",
   "metadata": {},
   "source": [
    "# 0. Зачем?"
   ]
  },
  {
   "cell_type": "markdown",
   "metadata": {},
   "source": [
    "Чтобы понимать, что мы уже натворили, можем натворить и как это можно исправить. \n",
    "\n",
    "Дело в том, что зачастую мы знаем, <b>для чего</b> нужна команда, а не <b>что</b> она делает на самом деле.\n",
    "Например, можно по ошибке считать, что ветка &mdash; это последовательная серия коммитов. В таком случае, вызванная по ошибке команда"
   ]
  },
  {
   "cell_type": "code",
   "execution_count": 1,
   "metadata": {
    "collapsed": true
   },
   "outputs": [],
   "source": [
    "# ! git branch -D branch_name "
   ]
  },
  {
   "cell_type": "markdown",
   "metadata": {},
   "source": [
    "(удаление ветки, изменения в которой могли остаться никуда не влитыми) может напугать."
   ]
  },
  {
   "cell_type": "markdown",
   "metadata": {},
   "source": [
    "# 1. git branch"
   ]
  },
  {
   "cell_type": "markdown",
   "metadata": {},
   "source": [
    "<i> Эта команда в зависимости от выбранной опции делает следующее: \n",
    "* перечисляет существующие ветки, \n",
    "* создаёт ветки,\n",
    "* удаляет ветки. \n",
    "</i>"
   ]
  },
  {
   "cell_type": "markdown",
   "metadata": {},
   "source": [
    "<i> Демонстрировать работу команды <b>git branch</b> будем на примере репозитория со следующей структурой коммитов:</i>"
   ]
  },
  {
   "cell_type": "code",
   "execution_count": 2,
   "metadata": {
    "collapsed": true
   },
   "outputs": [],
   "source": [
    "#                           master\n",
    "#                             |\n",
    "#                             V\n",
    "# 79c3a2 <---- b3f5ba <---- 38272a"
   ]
  },
  {
   "cell_type": "markdown",
   "metadata": {},
   "source": [
    "<i> С каждым коммитом добавлялся файл 1.txt, 2.txt и 3.txt, соответственно. </i>"
   ]
  },
  {
   "cell_type": "code",
   "execution_count": 3,
   "metadata": {},
   "outputs": [
    {
     "name": "stdout",
     "output_type": "stream",
     "text": [
      "commit 38272a4f02e078c550fd3fc5c01cbe99694b06bf\n",
      "Author: a.kozhevin <a.kozhevin@analysiscenter.ru>\n",
      "Date:   Tue Nov 28 18:36:35 2017 +0300\n",
      "\n",
      "    add 3.txt\n",
      "\n",
      "commit b3f5ba16fd7b5d424b621b602f8ec123b3f89725\n",
      "Author: a.kozhevin <a.kozhevin@analysiscenter.ru>\n",
      "Date:   Tue Nov 28 18:36:14 2017 +0300\n",
      "\n",
      "    add 2.txt\n",
      "\n",
      "commit 79c3a21a76719cf1cc73a42932cacc36f277a007\n",
      "Author: a.kozhevin <a.kozhevin@analysiscenter.ru>\n",
      "Date:   Tue Nov 28 18:36:08 2017 +0300\n",
      "\n",
      "    add 1.txt\n"
     ]
    }
   ],
   "source": [
    "! git log"
   ]
  },
  {
   "cell_type": "markdown",
   "metadata": {},
   "source": [
    "<i> Для того, чтобы определить в какую ветку будет добавлен новый коммит (текущую ветку) существует указатель HEAD: </i>"
   ]
  },
  {
   "cell_type": "code",
   "execution_count": 4,
   "metadata": {
    "collapsed": true
   },
   "outputs": [],
   "source": [
    "#                   HEAD -> master\n",
    "#                             |\n",
    "#                             V\n",
    "# 79c3a2 <---- b3f5ba <---- 38272a"
   ]
  },
  {
   "cell_type": "markdown",
   "metadata": {},
   "source": [
    "#### Создать новую ветку"
   ]
  },
  {
   "cell_type": "code",
   "execution_count": 5,
   "metadata": {},
   "outputs": [],
   "source": [
    "! git branch new_branch"
   ]
  },
  {
   "cell_type": "code",
   "execution_count": 6,
   "metadata": {
    "collapsed": true
   },
   "outputs": [],
   "source": [
    "#                   HEAD -> master, new_branch\n",
    "#                             |\n",
    "#                             V\n",
    "# 79c3a2 <---- b3f5ba <---- 38272a"
   ]
  },
  {
   "cell_type": "markdown",
   "metadata": {},
   "source": [
    "#### Создать новую ветку, указывающую на коммит:"
   ]
  },
  {
   "cell_type": "code",
   "execution_count": 7,
   "metadata": {},
   "outputs": [],
   "source": [
    "! git branch new_branch2 b3f5ba"
   ]
  },
  {
   "cell_type": "code",
   "execution_count": 8,
   "metadata": {
    "collapsed": true
   },
   "outputs": [],
   "source": [
    "#                   HEAD -> master, new_branch\n",
    "#                             |\n",
    "#                             V\n",
    "# 79c3a2 <---- b3f5ba <---- 38272a\n",
    "#                 ^          \n",
    "#                 |          \n",
    "#            new_branch2"
   ]
  },
  {
   "cell_type": "markdown",
   "metadata": {},
   "source": [
    "#### Переименовать ветку:"
   ]
  },
  {
   "cell_type": "code",
   "execution_count": 8,
   "metadata": {},
   "outputs": [],
   "source": [
    "! git branch -m new_branch2 new_branch3"
   ]
  },
  {
   "cell_type": "code",
   "execution_count": 9,
   "metadata": {
    "collapsed": true
   },
   "outputs": [],
   "source": [
    "#                   HEAD -> master, new_branch\n",
    "#                             |\n",
    "#                             V\n",
    "# 79c3a2 <---- b3f5ba <---- 38272a\n",
    "#                 ^          \n",
    "#                 |          \n",
    "#            new_branch3"
   ]
  },
  {
   "cell_type": "markdown",
   "metadata": {},
   "source": [
    "#### Копировать ветку:"
   ]
  },
  {
   "cell_type": "code",
   "execution_count": 10,
   "metadata": {
    "collapsed": true
   },
   "outputs": [],
   "source": [
    "! git branch -c new_branch3 new_branch4"
   ]
  },
  {
   "cell_type": "code",
   "execution_count": 11,
   "metadata": {
    "collapsed": true
   },
   "outputs": [],
   "source": [
    "#                   HEAD -> master, new_branch\n",
    "#                             |\n",
    "#                             V\n",
    "# 79c3a2 <---- b3f5ba <---- 38272a\n",
    "#                 ^          \n",
    "#                 |          \n",
    "#       new_branch4, new_branch3"
   ]
  },
  {
   "cell_type": "markdown",
   "metadata": {},
   "source": [
    "#### Вывести список веток в текущем репозитории:"
   ]
  },
  {
   "cell_type": "code",
   "execution_count": 12,
   "metadata": {},
   "outputs": [
    {
     "name": "stdout",
     "output_type": "stream",
     "text": [
      "* master\n",
      "  new_branch\n",
      "  new_branch3\n",
      "  new_branch4\n"
     ]
    }
   ],
   "source": [
    "! git branch"
   ]
  },
  {
   "cell_type": "markdown",
   "metadata": {},
   "source": [
    "или"
   ]
  },
  {
   "cell_type": "code",
   "execution_count": 13,
   "metadata": {},
   "outputs": [
    {
     "name": "stdout",
     "output_type": "stream",
     "text": [
      "* master\n",
      "  new_branch\n",
      "  new_branch3\n",
      "  new_branch4\n"
     ]
    }
   ],
   "source": [
    "! git branch --list"
   ]
  },
  {
   "cell_type": "markdown",
   "metadata": {},
   "source": [
    "Звёздочка означает положение HEAD."
   ]
  },
  {
   "cell_type": "markdown",
   "metadata": {},
   "source": [
    "#### Удалить ветку или ветки:"
   ]
  },
  {
   "cell_type": "code",
   "execution_count": 14,
   "metadata": {},
   "outputs": [
    {
     "name": "stdout",
     "output_type": "stream",
     "text": [
      "Deleted branch new_branch3 (was b3f5ba1).\n",
      "Deleted branch new_branch4 (was b3f5ba1).\n"
     ]
    }
   ],
   "source": [
    "! git branch -d new_branch3 new_branch4"
   ]
  },
  {
   "cell_type": "code",
   "execution_count": 15,
   "metadata": {
    "collapsed": true
   },
   "outputs": [],
   "source": [
    "#                   HEAD -> master, new_branch\n",
    "#                             |\n",
    "#                             V\n",
    "# 79c3a2 <---- b3f5ba <---- 38272a"
   ]
  },
  {
   "cell_type": "markdown",
   "metadata": {},
   "source": [
    "# 2. git checkout"
   ]
  },
  {
   "cell_type": "markdown",
   "metadata": {},
   "source": [
    "<i> Команда позволяет осуществить переход между ветками и изменять состояния файлов в рабочей директории. \n",
    "\n",
    "С помощью git checkout можно перейти к\n",
    "* указанной ветке,\n",
    "* указанному коммиту (detached HEAD). </i>"
   ]
  },
  {
   "cell_type": "code",
   "execution_count": 16,
   "metadata": {},
   "outputs": [
    {
     "name": "stderr",
     "output_type": "stream",
     "text": [
      "Switched to branch 'new_branch'\n"
     ]
    }
   ],
   "source": [
    "! git checkout new_branch"
   ]
  },
  {
   "cell_type": "code",
   "execution_count": 17,
   "metadata": {
    "collapsed": true
   },
   "outputs": [],
   "source": [
    "#                   HEAD -> new_branch, master\n",
    "#                             |\n",
    "#                             V\n",
    "# 79c3a2 <---- b3f5ba <---- 38272a"
   ]
  },
  {
   "cell_type": "markdown",
   "metadata": {},
   "source": [
    "#### Создать новую ветку и перейти к ней:"
   ]
  },
  {
   "cell_type": "code",
   "execution_count": 18,
   "metadata": {},
   "outputs": [
    {
     "name": "stderr",
     "output_type": "stream",
     "text": [
      "Switched to a new branch 'new_branch2'\n"
     ]
    }
   ],
   "source": [
    "! git checkout -b new_branch2"
   ]
  },
  {
   "cell_type": "code",
   "execution_count": 19,
   "metadata": {
    "collapsed": true
   },
   "outputs": [],
   "source": [
    "#                   HEAD -> new_branch2, new_branch, master\n",
    "#                             |\n",
    "#                             V\n",
    "# 79c3a2 <---- b3f5ba <---- 38272a"
   ]
  },
  {
   "cell_type": "markdown",
   "metadata": {},
   "source": [
    "#### Создать новую ветку, указывающую на коммит 03ab94:"
   ]
  },
  {
   "cell_type": "code",
   "execution_count": 20,
   "metadata": {},
   "outputs": [
    {
     "name": "stderr",
     "output_type": "stream",
     "text": [
      "Switched to a new branch 'new_branch3'\n"
     ]
    }
   ],
   "source": [
    "! git checkout -b new_branch3 b3f5ba"
   ]
  },
  {
   "cell_type": "code",
   "execution_count": 21,
   "metadata": {
    "collapsed": true
   },
   "outputs": [],
   "source": [
    "#                       new_branch2, new_branch, master\n",
    "#                             |\n",
    "#                             V\n",
    "# 79c3a2 <---- b3f5ba <---- 38272a \n",
    "#                 ^          \n",
    "#                 |          \n",
    "#  HEAD -> new_branch3"
   ]
  },
  {
   "cell_type": "code",
   "execution_count": 22,
   "metadata": {},
   "outputs": [
    {
     "name": "stdout",
     "output_type": "stream",
     "text": [
      "  master\n",
      "  new_branch\n",
      "  new_branch2\n",
      "* new_branch3\n"
     ]
    }
   ],
   "source": [
    "! git branch"
   ]
  },
  {
   "cell_type": "markdown",
   "metadata": {},
   "source": [
    "Изменим файл 2.txt"
   ]
  },
  {
   "cell_type": "markdown",
   "metadata": {},
   "source": [
    "#### Восстановить файл из последнего коммита:"
   ]
  },
  {
   "cell_type": "code",
   "execution_count": 23,
   "metadata": {},
   "outputs": [],
   "source": [
    "! git checkout 2.txt"
   ]
  },
  {
   "cell_type": "markdown",
   "metadata": {},
   "source": [
    "Снова изменим файл 2.txt и создадим коммит."
   ]
  },
  {
   "cell_type": "code",
   "execution_count": 24,
   "metadata": {
    "collapsed": true
   },
   "outputs": [],
   "source": [
    "#                       new_branch2, new_branch, master\n",
    "#                             |\n",
    "#                             V\n",
    "# 79c3a2 <---- b3f5ba <---- 38272a  2.txt (v1)\n",
    "#                ^\n",
    "#                |          \n",
    "#                |          \n",
    "#             8b4650  2.txt (v2)        \n",
    "#               ^            \n",
    "#               |\n",
    "#   HEAD -> new_branch3"
   ]
  },
  {
   "cell_type": "markdown",
   "metadata": {},
   "source": [
    "Ещё раз изменим файл 2.txt"
   ]
  },
  {
   "cell_type": "code",
   "execution_count": 25,
   "metadata": {},
   "outputs": [
    {
     "name": "stderr",
     "output_type": "stream",
     "text": [
      "error: Your local changes to the following files would be overwritten by checkout:\n",
      "\t2.txt\n",
      "Please commit your changes or stash them before you switch branches.\n",
      "Aborting\n"
     ]
    }
   ],
   "source": [
    "! git checkout master"
   ]
  },
  {
   "cell_type": "markdown",
   "metadata": {},
   "source": [
    "#### Перейти к ветке и произвести слияние локальных изменений:"
   ]
  },
  {
   "cell_type": "code",
   "execution_count": 26,
   "metadata": {},
   "outputs": [
    {
     "name": "stdout",
     "output_type": "stream",
     "text": [
      "M\t2.txt\n"
     ]
    },
    {
     "name": "stderr",
     "output_type": "stream",
     "text": [
      "Switched to branch 'master'\n"
     ]
    }
   ],
   "source": [
    "! git checkout -m master"
   ]
  },
  {
   "cell_type": "code",
   "execution_count": 27,
   "metadata": {},
   "outputs": [
    {
     "name": "stdout",
     "output_type": "stream",
     "text": [
      "On branch master\n",
      "Unmerged paths:\n",
      "  (use \"git reset HEAD <file>...\" to unstage)\n",
      "  (use \"git add <file>...\" to mark resolution)\n",
      "\n",
      "\tboth modified:   2.txt\n",
      "\n",
      "Untracked files:\n",
      "  (use \"git add <file>...\" to include in what will be committed)\n",
      "\n",
      "\t.ipynb_checkpoints/\n",
      "\tgit-1.ipynb\n",
      "\n",
      "no changes added to commit (use \"git add\" and/or \"git commit -a\")\n"
     ]
    }
   ],
   "source": [
    "! git status"
   ]
  },
  {
   "cell_type": "markdown",
   "metadata": {},
   "source": [
    "Далее решаем конфликты в файле 2.txt и добавляем коммит."
   ]
  },
  {
   "cell_type": "code",
   "execution_count": 28,
   "metadata": {
    "collapsed": true
   },
   "outputs": [],
   "source": [
    "#       new_branch2, new_branch         master <- HEAD\n",
    "#                            |               |\n",
    "#                            V               V\n",
    "# 79c3a2 <---- b3f5ba <---- 38272a <---- 834978\n",
    "#                ^\n",
    "#                |          \n",
    "#                |          \n",
    "#             b89c21     \n",
    "#               ^            \n",
    "#               |\n",
    "#   HEAD -> new_branch3"
   ]
  },
  {
   "cell_type": "markdown",
   "metadata": {
    "collapsed": true
   },
   "source": [
    "# 3. git stash"
   ]
  },
  {
   "cell_type": "markdown",
   "metadata": {},
   "source": [
    "<i> Эта команда позволяет поместить текущие локальные изменения в стек изменений и взять состояние рабочей директории из последнего коммита. </i>"
   ]
  },
  {
   "cell_type": "markdown",
   "metadata": {},
   "source": [
    "Удалим new_branches:"
   ]
  },
  {
   "cell_type": "code",
   "execution_count": 29,
   "metadata": {
    "collapsed": true
   },
   "outputs": [],
   "source": [
    "#                                        master <- HEAD\n",
    "#                                           |\n",
    "#                                           V\n",
    "# 79c3a2 <---- b3f5ba <---- 38272a <---- 834978"
   ]
  },
  {
   "cell_type": "markdown",
   "metadata": {},
   "source": [
    "Изменим файл 3.txt"
   ]
  },
  {
   "cell_type": "markdown",
   "metadata": {},
   "source": [
    "#### Спрячем изменения:"
   ]
  },
  {
   "cell_type": "code",
   "execution_count": 30,
   "metadata": {},
   "outputs": [
    {
     "name": "stdout",
     "output_type": "stream",
     "text": [
      "Saved working directory and index state WIP on master: 8349789 merge branches\n"
     ]
    }
   ],
   "source": [
    "! git stash"
   ]
  },
  {
   "cell_type": "markdown",
   "metadata": {},
   "source": [
    "git stash сохраняет изменения в файлах \"под наблюдением\". Если необходимо спрятать все файлы, не содержащиееся в последнем коммите, используется флаг -u (----include-untracked)."
   ]
  },
  {
   "cell_type": "markdown",
   "metadata": {},
   "source": [
    "#### Получить список изменений в стеке:"
   ]
  },
  {
   "cell_type": "code",
   "execution_count": 31,
   "metadata": {},
   "outputs": [
    {
     "name": "stdout",
     "output_type": "stream",
     "text": [
      "stash@{0}: WIP on master: 8349789 merge branches\n"
     ]
    }
   ],
   "source": [
    "! git stash list"
   ]
  },
  {
   "cell_type": "markdown",
   "metadata": {},
   "source": [
    "####  Применить последние \"спрятанные\" изменения:"
   ]
  },
  {
   "cell_type": "code",
   "execution_count": 32,
   "metadata": {},
   "outputs": [
    {
     "name": "stdout",
     "output_type": "stream",
     "text": [
      "On branch master\n",
      "Changes not staged for commit:\n",
      "  (use \"git add <file>...\" to update what will be committed)\n",
      "  (use \"git checkout -- <file>...\" to discard changes in working directory)\n",
      "\n",
      "\tmodified:   3.txt\n",
      "\n",
      "Untracked files:\n",
      "  (use \"git add <file>...\" to include in what will be committed)\n",
      "\n",
      "\t.ipynb_checkpoints/\n",
      "\tgit-1.ipynb\n",
      "\n",
      "no changes added to commit (use \"git add\" and/or \"git commit -a\")\n"
     ]
    }
   ],
   "source": [
    "! git stash apply"
   ]
  },
  {
   "cell_type": "markdown",
   "metadata": {},
   "source": [
    "или"
   ]
  },
  {
   "cell_type": "code",
   "execution_count": 33,
   "metadata": {},
   "outputs": [],
   "source": [
    "# ! git stash apply stash@{0}"
   ]
  },
  {
   "cell_type": "markdown",
   "metadata": {},
   "source": [
    "Если файл 3.txt до git stash был включен в индекс, то теперь нет. \n",
    "\n",
    "Для того, чтобы восстановить проиндексированные изменения, используется флаг --index"
   ]
  },
  {
   "cell_type": "markdown",
   "metadata": {},
   "source": [
    "Отметим, что git stash apply не меняет стека изменений:"
   ]
  },
  {
   "cell_type": "code",
   "execution_count": 34,
   "metadata": {},
   "outputs": [
    {
     "name": "stdout",
     "output_type": "stream",
     "text": [
      "stash@{0}: WIP on master: 8349789 merge branches\n"
     ]
    }
   ],
   "source": [
    "! git stash list"
   ]
  },
  {
   "cell_type": "markdown",
   "metadata": {},
   "source": [
    "#### Удалить состояние рабочей директории из стека изменений:"
   ]
  },
  {
   "cell_type": "code",
   "execution_count": 35,
   "metadata": {},
   "outputs": [
    {
     "name": "stdout",
     "output_type": "stream",
     "text": [
      "Dropped refs/stash@{0} (09bce16ef4cf1ecbd40c4decaedbe7f386713974)\n"
     ]
    }
   ],
   "source": [
    "! git stash drop"
   ]
  },
  {
   "cell_type": "markdown",
   "metadata": {},
   "source": [
    "#### Apply и drop можно скомбинировать одной командой:"
   ]
  },
  {
   "cell_type": "code",
   "execution_count": 36,
   "metadata": {
    "collapsed": true
   },
   "outputs": [],
   "source": [
    "# ! git stash pop"
   ]
  },
  {
   "cell_type": "markdown",
   "metadata": {},
   "source": [
    "#### Спрятать изменения в файлах, ещё не добавленных в индекс:"
   ]
  },
  {
   "cell_type": "code",
   "execution_count": 37,
   "metadata": {},
   "outputs": [
    {
     "name": "stdout",
     "output_type": "stream",
     "text": [
      "Saved working directory and index state WIP on master: 8349789 merge branches\n"
     ]
    }
   ],
   "source": [
    "! git stash --keep-index"
   ]
  },
  {
   "cell_type": "markdown",
   "metadata": {},
   "source": [
    "#### Создать новую ветку, переместить HEAD и накатить изменения из стека:"
   ]
  },
  {
   "cell_type": "code",
   "execution_count": 39,
   "metadata": {},
   "outputs": [
    {
     "name": "stdout",
     "output_type": "stream",
     "text": [
      "On branch new_branch\n",
      "Changes not staged for commit:\n",
      "  (use \"git add <file>...\" to update what will be committed)\n",
      "  (use \"git checkout -- <file>...\" to discard changes in working directory)\n",
      "\n",
      "\tmodified:   3.txt\n",
      "\n",
      "Untracked files:\n",
      "  (use \"git add <file>...\" to include in what will be committed)\n",
      "\n",
      "\t.ipynb_checkpoints/\n",
      "\tgit-1.ipynb\n",
      "\n",
      "no changes added to commit (use \"git add\" and/or \"git commit -a\")\n",
      "Dropped refs/stash@{0} (d7cadce15321f533243d6dd363bf59dcdd5dcc44)\n"
     ]
    },
    {
     "name": "stderr",
     "output_type": "stream",
     "text": [
      "Switched to a new branch 'new_branch'\n"
     ]
    }
   ],
   "source": [
    "! git stash branch new_branch"
   ]
  },
  {
   "cell_type": "code",
   "execution_count": 40,
   "metadata": {
    "collapsed": true
   },
   "outputs": [],
   "source": [
    "#                                        master, new_branch <- HEAD\n",
    "#                                           |\n",
    "#                                           V\n",
    "# 79c3a2 <---- b3f5ba <---- 38272a <---- 834978"
   ]
  },
  {
   "cell_type": "markdown",
   "metadata": {},
   "source": [
    "# 4. git log"
   ]
  },
  {
   "cell_type": "markdown",
   "metadata": {},
   "source": [
    "<i> Команда позволяет получить историю коммитов в данном репозитории. </i>"
   ]
  },
  {
   "cell_type": "code",
   "execution_count": 41,
   "metadata": {},
   "outputs": [
    {
     "name": "stdout",
     "output_type": "stream",
     "text": [
      "commit 8349789aea12dcaff2cb1488046b9ad590205c39\n",
      "Author: a.kozhevin <a.kozhevin@analysiscenter.ru>\n",
      "Date:   Tue Nov 28 18:40:49 2017 +0300\n",
      "\n",
      "    merge branches\n",
      "\n",
      "commit 38272a4f02e078c550fd3fc5c01cbe99694b06bf\n",
      "Author: a.kozhevin <a.kozhevin@analysiscenter.ru>\n",
      "Date:   Tue Nov 28 18:36:35 2017 +0300\n",
      "\n",
      "    add 3.txt\n",
      "\n",
      "commit b3f5ba16fd7b5d424b621b602f8ec123b3f89725\n",
      "Author: a.kozhevin <a.kozhevin@analysiscenter.ru>\n",
      "Date:   Tue Nov 28 18:36:14 2017 +0300\n",
      "\n",
      "    add 2.txt\n",
      "\n",
      "commit 79c3a21a76719cf1cc73a42932cacc36f277a007\n",
      "Author: a.kozhevin <a.kozhevin@analysiscenter.ru>\n",
      "Date:   Tue Nov 28 18:36:08 2017 +0300\n",
      "\n",
      "    add 1.txt\n"
     ]
    }
   ],
   "source": [
    "! git log"
   ]
  },
  {
   "cell_type": "markdown",
   "metadata": {},
   "source": [
    "#### Показать изменения, привнесённые коммитами (для последних двух коммитов):"
   ]
  },
  {
   "cell_type": "code",
   "execution_count": 42,
   "metadata": {},
   "outputs": [
    {
     "name": "stdout",
     "output_type": "stream",
     "text": [
      "commit 8349789aea12dcaff2cb1488046b9ad590205c39\n",
      "Author: a.kozhevin <a.kozhevin@analysiscenter.ru>\n",
      "Date:   Tue Nov 28 18:40:49 2017 +0300\n",
      "\n",
      "    merge branches\n",
      "\n",
      "diff --git a/2.txt b/2.txt\n",
      "index 8773f39..8ddc152 100644\n",
      "--- a/2.txt\n",
      "+++ b/2.txt\n",
      "@@ -1 +1,3 @@\n",
      "-file content\n",
      "\\ No newline at end of file\n",
      "+file content\n",
      "+change file\n",
      "+change file again\n",
      "\\ No newline at end of file\n",
      "\n",
      "commit 38272a4f02e078c550fd3fc5c01cbe99694b06bf\n",
      "Author: a.kozhevin <a.kozhevin@analysiscenter.ru>\n",
      "Date:   Tue Nov 28 18:36:35 2017 +0300\n",
      "\n",
      "    add 3.txt\n",
      "\n",
      "diff --git a/3.txt b/3.txt\n",
      "new file mode 100644\n",
      "index 0000000..8773f39\n",
      "--- /dev/null\n",
      "+++ b/3.txt\n",
      "@@ -0,0 +1 @@\n",
      "+file content\n",
      "\\ No newline at end of file\n"
     ]
    }
   ],
   "source": [
    "! git log -p -2"
   ]
  },
  {
   "cell_type": "markdown",
   "metadata": {},
   "source": [
    "#### Флаг --pretty позволяет выводить лог в одном из указанных форматов:"
   ]
  },
  {
   "cell_type": "code",
   "execution_count": 43,
   "metadata": {},
   "outputs": [
    {
     "name": "stdout",
     "output_type": "stream",
     "text": [
      "8349789aea12dcaff2cb1488046b9ad590205c39 merge branches\n",
      "38272a4f02e078c550fd3fc5c01cbe99694b06bf add 3.txt\n",
      "b3f5ba16fd7b5d424b621b602f8ec123b3f89725 add 2.txt\n",
      "79c3a21a76719cf1cc73a42932cacc36f277a007 add 1.txt\n"
     ]
    }
   ],
   "source": [
    "! git log --pretty=oneline"
   ]
  },
  {
   "cell_type": "code",
   "execution_count": 44,
   "metadata": {},
   "outputs": [
    {
     "name": "stdout",
     "output_type": "stream",
     "text": [
      "8349789 - a.kozhevin, 4 minutes ago : merge branches\n",
      "38272a4 - a.kozhevin, 8 minutes ago : add 3.txt\n",
      "b3f5ba1 - a.kozhevin, 8 minutes ago : add 2.txt\n",
      "79c3a21 - a.kozhevin, 8 minutes ago : add 1.txt\n"
     ]
    }
   ],
   "source": [
    "! git log --pretty=format:\"%h - %an, %ar : %s\""
   ]
  },
  {
   "cell_type": "markdown",
   "metadata": {},
   "source": [
    "Спрячем измнения в файле 3.txt, создадим ветку new_branch2, указывающую на c57b5f, изменим и закоммитим файл 1.txt"
   ]
  },
  {
   "cell_type": "code",
   "execution_count": 84,
   "metadata": {
    "collapsed": true
   },
   "outputs": [],
   "source": [
    "#                                        master, new_branch <- HEAD\n",
    "#                                           |\n",
    "#                                           V\n",
    "# 79c3a2 <---- b3f5ba <---- 38272a <---- 834978\n",
    "#   ^\n",
    "#   |\n",
    "# 2b1aa3 \n",
    "#   ^\n",
    "#   |\n",
    "# new_branch2 <- HEAD"
   ]
  },
  {
   "cell_type": "code",
   "execution_count": 45,
   "metadata": {},
   "outputs": [
    {
     "name": "stdout",
     "output_type": "stream",
     "text": [
      "commit f8b5f7c26c4adcd165e170418a41bcdfc85deb1d\n",
      "Author: a.kozhevin <a.kozhevin@analysiscenter.ru>\n",
      "Date:   Tue Nov 28 18:46:43 2017 +0300\n",
      "\n",
      "    change 1.txt\n",
      "\n",
      "commit 79c3a21a76719cf1cc73a42932cacc36f277a007\n",
      "Author: a.kozhevin <a.kozhevin@analysiscenter.ru>\n",
      "Date:   Tue Nov 28 18:36:08 2017 +0300\n",
      "\n",
      "    add 1.txt\n"
     ]
    }
   ],
   "source": [
    "! git log"
   ]
  },
  {
   "cell_type": "markdown",
   "metadata": {},
   "source": [
    "#### Чтобы увидеть все ветки, добавим флаг --all:"
   ]
  },
  {
   "cell_type": "code",
   "execution_count": 46,
   "metadata": {},
   "outputs": [
    {
     "name": "stdout",
     "output_type": "stream",
     "text": [
      "commit f8b5f7c26c4adcd165e170418a41bcdfc85deb1d\n",
      "Author: a.kozhevin <a.kozhevin@analysiscenter.ru>\n",
      "Date:   Tue Nov 28 18:46:43 2017 +0300\n",
      "\n",
      "    change 1.txt\n",
      "\n",
      "commit ba1a932196680dc7b7712b2478aae2c66a372278\n",
      "Merge: 8349789 08a4f19\n",
      "Author: a.kozhevin <a.kozhevin@analysiscenter.ru>\n",
      "Date:   Tue Nov 28 18:45:39 2017 +0300\n",
      "\n",
      "    WIP on new_branch: 8349789 merge branches\n",
      "\n",
      "commit 08a4f19b392f959d58f4d16d8625582a8db38bda\n",
      "Author: a.kozhevin <a.kozhevin@analysiscenter.ru>\n",
      "Date:   Tue Nov 28 18:45:39 2017 +0300\n",
      "\n",
      "    index on new_branch: 8349789 merge branches\n",
      "\n",
      "commit 8349789aea12dcaff2cb1488046b9ad590205c39\n",
      "Author: a.kozhevin <a.kozhevin@analysiscenter.ru>\n",
      "Date:   Tue Nov 28 18:40:49 2017 +0300\n",
      "\n",
      "    merge branches\n",
      "\n",
      "commit 38272a4f02e078c550fd3fc5c01cbe99694b06bf\n",
      "Author: a.kozhevin <a.kozhevin@analysiscenter.ru>\n",
      "Date:   Tue Nov 28 18:36:35 2017 +0300\n",
      "\n",
      "    add 3.txt\n",
      "\n",
      "commit b3f5ba16fd7b5d424b621b602f8ec123b3f89725\n",
      "Author: a.kozhevin <a.kozhevin@analysiscenter.ru>\n",
      "Date:   Tue Nov 28 18:36:14 2017 +0300\n",
      "\n",
      "    add 2.txt\n",
      "\n",
      "commit 79c3a21a76719cf1cc73a42932cacc36f277a007\n",
      "Author: a.kozhevin <a.kozhevin@analysiscenter.ru>\n",
      "Date:   Tue Nov 28 18:36:08 2017 +0300\n",
      "\n",
      "    add 1.txt\n"
     ]
    }
   ],
   "source": [
    "! git log --all"
   ]
  },
  {
   "cell_type": "markdown",
   "metadata": {},
   "source": [
    "Выполним merge веток master и new_branch2."
   ]
  },
  {
   "cell_type": "code",
   "execution_count": 47,
   "metadata": {},
   "outputs": [
    {
     "name": "stdout",
     "output_type": "stream",
     "text": [
      "*   af9971efc3be786a1039039370d659e1b62a237c Merge branch 'new_branch2'\n",
      "|\\  \n",
      "| * f8b5f7c26c4adcd165e170418a41bcdfc85deb1d change 1.txt\n",
      "* | 8349789aea12dcaff2cb1488046b9ad590205c39 merge branches\n",
      "* | 38272a4f02e078c550fd3fc5c01cbe99694b06bf add 3.txt\n",
      "* | b3f5ba16fd7b5d424b621b602f8ec123b3f89725 add 2.txt\n",
      "|/  \n",
      "* 79c3a21a76719cf1cc73a42932cacc36f277a007 add 1.txt\n"
     ]
    }
   ],
   "source": [
    "! git log --pretty=oneline --graph"
   ]
  },
  {
   "cell_type": "markdown",
   "metadata": {},
   "source": [
    "# 5. git show"
   ]
  },
  {
   "cell_type": "markdown",
   "metadata": {},
   "source": [
    "<i> Команда позволяет вывести информацию об объектах репозитория (коммиты, тэги и пр.) </i>"
   ]
  },
  {
   "cell_type": "code",
   "execution_count": 48,
   "metadata": {},
   "outputs": [
    {
     "name": "stdout",
     "output_type": "stream",
     "text": [
      "commit af9971efc3be786a1039039370d659e1b62a237c\n",
      "Merge: 8349789 f8b5f7c\n",
      "Author: a.kozhevin <a.kozhevin@analysiscenter.ru>\n",
      "Date:   Tue Nov 28 18:47:15 2017 +0300\n",
      "\n",
      "    Merge branch 'new_branch2'\n",
      "\n"
     ]
    }
   ],
   "source": [
    "! git show"
   ]
  },
  {
   "cell_type": "code",
   "execution_count": 50,
   "metadata": {},
   "outputs": [
    {
     "name": "stdout",
     "output_type": "stream",
     "text": [
      "b3f5ba16fd7b5d424b621b602f8ec123b3f89725 add 2.txt\n",
      "diff --git a/2.txt b/2.txt\n",
      "new file mode 100644\n",
      "index 0000000..8773f39\n",
      "--- /dev/null\n",
      "+++ b/2.txt\n",
      "@@ -0,0 +1 @@\n",
      "+file content\n",
      "\\ No newline at end of file\n"
     ]
    }
   ],
   "source": [
    "! git show b3f5b --pretty=oneline"
   ]
  },
  {
   "cell_type": "code",
   "execution_count": 51,
   "metadata": {},
   "outputs": [
    {
     "name": "stdout",
     "output_type": "stream",
     "text": [
      "commit 8349789aea12dcaff2cb1488046b9ad590205c39\n",
      "Author: a.kozhevin <a.kozhevin@analysiscenter.ru>\n",
      "Date:   Tue Nov 28 18:40:49 2017 +0300\n",
      "\n",
      "    merge branches\n",
      "\n",
      "diff --git a/2.txt b/2.txt\n",
      "index 8773f39..8ddc152 100644\n",
      "--- a/2.txt\n",
      "+++ b/2.txt\n",
      "@@ -1 +1,3 @@\n",
      "-file content\n",
      "\\ No newline at end of file\n",
      "+file content\n",
      "+change file\n",
      "+change file again\n",
      "\\ No newline at end of file\n"
     ]
    }
   ],
   "source": [
    "! git show new_branch"
   ]
  }
 ],
 "metadata": {
  "kernelspec": {
   "display_name": "Python 3",
   "language": "python",
   "name": "python3"
  },
  "language_info": {
   "codemirror_mode": {
    "name": "ipython",
    "version": 3
   },
   "file_extension": ".py",
   "mimetype": "text/x-python",
   "name": "python",
   "nbconvert_exporter": "python",
   "pygments_lexer": "ipython3",
   "version": "3.5.2"
  }
 },
 "nbformat": 4,
 "nbformat_minor": 2
}
