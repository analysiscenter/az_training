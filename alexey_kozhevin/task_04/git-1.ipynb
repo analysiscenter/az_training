{
 "cells": [
  {
   "cell_type": "markdown",
   "metadata": {},
   "source": [
    "# Git commands. Part 1 \n",
    "<i>git branch, git checkout, git stash, git log, git show</i>"
   ]
  },
  {
   "cell_type": "markdown",
   "metadata": {},
   "source": [
    "Firstly we should understand the concept of branch in Git."
   ]
  },
  {
   "cell_type": "markdown",
   "metadata": {},
   "source": [
    "# What is a branch?"
   ]
  },
  {
   "cell_type": "markdown",
   "metadata": {},
   "source": [
    "Branch is a pointer to one of the commits. The default branch name in Git is <i>master</i>. Initially master points to the last commit."
   ]
  },
  {
   "cell_type": "raw",
   "metadata": {},
   "source": [
    "                       master\n",
    "                         |\n",
    "                         V\n",
    "3659ae-----6c32b7-----8ed841"
   ]
  },
  {
   "cell_type": "markdown",
   "metadata": {},
   "source": [
    "(it isn't an output of any command in Git, it's just vizualization of repository that we will use)."
   ]
  },
  {
   "cell_type": "markdown",
   "metadata": {},
   "source": [
    "In order to define the current branch there is special pointer HEAD which point to the local branch."
   ]
  },
  {
   "cell_type": "raw",
   "metadata": {},
   "source": [
    "                       master, HEAD\n",
    "                         |\n",
    "                         V\n",
    "3659ae-----6c32b7-----8ed841"
   ]
  },
  {
   "cell_type": "markdown",
   "metadata": {},
   "source": [
    "## 1. git branch"
   ]
  },
  {
   "cell_type": "markdown",
   "metadata": {},
   "source": [
    "This command is used to create new branch or list/delete existing branches."
   ]
  },
  {
   "cell_type": "markdown",
   "metadata": {},
   "source": [
    "#### Create new branch (new pointer to the current commit) which points to the current HEAD:"
   ]
  },
  {
   "cell_type": "raw",
   "metadata": {},
   "source": [
    "$ git branch new_branch"
   ]
  },
  {
   "cell_type": "raw",
   "metadata": {},
   "source": [
    "                       master, HEAD\n",
    "                         |\n",
    "                         V\n",
    "3659ae-----6c32b7-----8ed841\n",
    "                         ^\n",
    "                         |\n",
    "                     new_branch"
   ]
  },
  {
   "cell_type": "markdown",
   "metadata": {},
   "source": [
    "#### Create new branch which points to the specified commit:"
   ]
  },
  {
   "cell_type": "raw",
   "metadata": {},
   "source": [
    "$ git branch new_branch2 6c32b7"
   ]
  },
  {
   "cell_type": "raw",
   "metadata": {},
   "source": [
    "                       master, HEAD\n",
    "                         |\n",
    "                         V\n",
    "3659ae-----6c32b7-----8ed841\n",
    "              ^          ^\n",
    "              |          |\n",
    "              |      new_branch\n",
    "              |\n",
    "          new_branch2"
   ]
  },
  {
   "cell_type": "markdown",
   "metadata": {},
   "source": [
    "#### Rename branch:"
   ]
  },
  {
   "cell_type": "raw",
   "metadata": {},
   "source": [
    "$ git branch -m new_branch2 new_branch3"
   ]
  },
  {
   "cell_type": "raw",
   "metadata": {},
   "source": [
    "                       master, HEAD\n",
    "                         |\n",
    "                         V\n",
    "3659ae-----6c32b7-----8ed841\n",
    "              ^          ^\n",
    "              |          |\n",
    "              |      new_branch\n",
    "              |\n",
    "          new_branch3"
   ]
  },
  {
   "cell_type": "markdown",
   "metadata": {},
   "source": [
    "#### Copy branch:"
   ]
  },
  {
   "cell_type": "raw",
   "metadata": {},
   "source": [
    "$ git branch -c new_branch3 new_branch4"
   ]
  },
  {
   "cell_type": "raw",
   "metadata": {},
   "source": [
    "                       master, HEAD\n",
    "                         |\n",
    "                         V\n",
    "3659ae-----6c32b7-----8ed841\n",
    "              ^          ^\n",
    "              |          |\n",
    "              |      new_branch\n",
    "              |\n",
    "          new_branch3\n",
    "          new_branch4"
   ]
  },
  {
   "cell_type": "markdown",
   "metadata": {},
   "source": [
    "#### Get list of the local branches:"
   ]
  },
  {
   "cell_type": "raw",
   "metadata": {},
   "source": [
    "$ git branch"
   ]
  },
  {
   "cell_type": "markdown",
   "metadata": {},
   "source": [
    "or"
   ]
  },
  {
   "cell_type": "raw",
   "metadata": {},
   "source": [
    "$ git branch --list\n",
    "\n",
    "* master\n",
    "  new_branch\n",
    "  new_branch3\n",
    "  new_branch4"
   ]
  },
  {
   "cell_type": "markdown",
   "metadata": {},
   "source": [
    "HEAD points to the branch with star (see below)."
   ]
  },
  {
   "cell_type": "markdown",
   "metadata": {},
   "source": [
    "#### Get list of the remote branches:"
   ]
  },
  {
   "cell_type": "raw",
   "metadata": {},
   "source": [
    "$ git branch -r"
   ]
  },
  {
   "cell_type": "markdown",
   "metadata": {},
   "source": [
    "#### Both local and remote:"
   ]
  },
  {
   "cell_type": "raw",
   "metadata": {},
   "source": [
    "$ git branch -a"
   ]
  },
  {
   "cell_type": "markdown",
   "metadata": {},
   "source": [
    "#### Delete branch"
   ]
  },
  {
   "cell_type": "raw",
   "metadata": {},
   "source": [
    "$ git branch -d new_branch3 new_branch4"
   ]
  },
  {
   "cell_type": "raw",
   "metadata": {},
   "source": [
    "                       master, HEAD\n",
    "                         |\n",
    "                         V\n",
    "3659ae-----6c32b7-----8ed841\n",
    "                         ^\n",
    "                         |\n",
    "                     new_branch "
   ]
  },
  {
   "cell_type": "markdown",
   "metadata": {},
   "source": [
    "# 2. git checkout"
   ]
  },
  {
   "cell_type": "markdown",
   "metadata": {},
   "source": [
    "Switch branches and restore working tree files. More specifically, it moves HEAD to the specified branch and reverts the files in your working directory back to the snapshot that branch points to:"
   ]
  },
  {
   "cell_type": "raw",
   "metadata": {},
   "source": [
    "$ git checkout new_branch"
   ]
  },
  {
   "cell_type": "raw",
   "metadata": {},
   "source": [
    "                       master\n",
    "                         |\n",
    "                         V\n",
    "3659ae-----6c32b7-----8ed841\n",
    "                         ^\n",
    "                         |\n",
    "                     new_branch, HEAD "
   ]
  },
  {
   "cell_type": "raw",
   "metadata": {},
   "source": [
    "$ git branch\n",
    "\n",
    "  master\n",
    "* new_branch"
   ]
  },
  {
   "cell_type": "markdown",
   "metadata": {},
   "source": [
    "#### Create new branch and switch:"
   ]
  },
  {
   "cell_type": "raw",
   "metadata": {},
   "source": [
    "$ git checkout -b new_branch2"
   ]
  },
  {
   "cell_type": "raw",
   "metadata": {},
   "source": [
    "                       master\n",
    "                         |\n",
    "                         V\n",
    "3659ae-----6c32b7-----8ed841\n",
    "                         ^\n",
    "                         |\n",
    "                     new_branch\n",
    "                     new_branch2, HEAD "
   ]
  },
  {
   "cell_type": "markdown",
   "metadata": {},
   "source": [
    "#### It is the same as"
   ]
  },
  {
   "cell_type": "raw",
   "metadata": {},
   "source": [
    "$ git branch new_branch2\n",
    "$ git checkout new_branch2"
   ]
  },
  {
   "cell_type": "markdown",
   "metadata": {},
   "source": [
    "#### Create new branch which points to some commit and switch to that branch:"
   ]
  },
  {
   "cell_type": "raw",
   "metadata": {},
   "source": [
    "$ git checkout -b new_branch3 6c32b7"
   ]
  },
  {
   "cell_type": "raw",
   "metadata": {},
   "source": [
    "                        master\n",
    "                          |\n",
    "                          V\n",
    "3659ae-----6c32b7-----8ed841\n",
    "              ^          ^\n",
    "              |          |\n",
    "              |      new_branch\n",
    "              |      new_branch2\n",
    "          new_branch3, HEAD    "
   ]
  },
  {
   "cell_type": "raw",
   "metadata": {},
   "source": [
    "$ git branch\n",
    "\n",
    "  master\n",
    "  new_branch\n",
    "  new_branch2\n",
    "* new_branch3"
   ]
  },
  {
   "cell_type": "markdown",
   "metadata": {
    "collapsed": true
   },
   "source": [
    "# 3. git stash"
   ]
  },
  {
   "cell_type": "markdown",
   "metadata": {},
   "source": [
    "Takes the current state of the working directory and saves it in stack of changes."
   ]
  },
  {
   "cell_type": "markdown",
   "metadata": {},
   "source": [
    "Let's consider the following example. Switch to the master branch, delete new_branches and add new commit in repo: "
   ]
  },
  {
   "cell_type": "raw",
   "metadata": {},
   "source": [
    "                                 master, HEAD\n",
    "                                   |\n",
    "                                   V\n",
    "3659ae-----6c32b7-----8ed841-----131279    "
   ]
  },
  {
   "cell_type": "markdown",
   "metadata": {},
   "source": [
    "Change file (4.txt). This changes are possibly staged."
   ]
  },
  {
   "cell_type": "raw",
   "metadata": {},
   "source": [
    "$ git status\n",
    "\n",
    "On branch master\n",
    "Changes to be committed:\n",
    "  (use \"git reset HEAD <file>...\" to unstage)\n",
    "\n",
    "        modified:   4.txt"
   ]
  },
  {
   "cell_type": "markdown",
   "metadata": {},
   "source": [
    "#### Stash changes:"
   ]
  },
  {
   "cell_type": "raw",
   "metadata": {},
   "source": [
    "$ git stash\n",
    "\n",
    "Saved working directory and index state WIP on master: 1312795 add 4.txt"
   ]
  },
  {
   "cell_type": "raw",
   "metadata": {},
   "source": [
    "$ git status\n",
    "\n",
    "On branch master\n",
    "nothing to commit, working tree clean"
   ]
  },
  {
   "cell_type": "markdown",
   "metadata": {},
   "source": [
    "That command stash changes in files that contains in index. In order to stash changes in untracked files use option -u (----include-untracked):"
   ]
  },
  {
   "cell_type": "markdown",
   "metadata": {},
   "source": [
    "#### Get list of the stashed changes:"
   ]
  },
  {
   "cell_type": "raw",
   "metadata": {},
   "source": [
    "$ git stash list\n",
    "stash@{0}: WIP on master: 1312795 add 4.txt"
   ]
  },
  {
   "cell_type": "markdown",
   "metadata": {},
   "source": [
    "#### Apply stashed changes:"
   ]
  },
  {
   "cell_type": "raw",
   "metadata": {},
   "source": [
    "$ git stash apply"
   ]
  },
  {
   "cell_type": "markdown",
   "metadata": {},
   "source": [
    "or"
   ]
  },
  {
   "cell_type": "raw",
   "metadata": {},
   "source": [
    "$ git stash apply stash@{0}\n",
    "\n",
    "On branch master\n",
    "Changes not staged for commit:\n",
    "  (use \"git add <file>...\" to update what will be committed)\n",
    "  (use \"git checkout -- <file>...\" to discard changes in working directory)\n",
    "\n",
    "        modified:   4.txt\n",
    "\n",
    "no changes added to commit (use \"git add\" and/or \"git commit -a\")"
   ]
  },
  {
   "cell_type": "markdown",
   "metadata": {},
   "source": [
    "Note that 4.txt were staged before stash but now is not."
   ]
  },
  {
   "cell_type": "markdown",
   "metadata": {},
   "source": [
    "#### In order to restore index  use option --index:"
   ]
  },
  {
   "cell_type": "raw",
   "metadata": {},
   "source": [
    "$ git stash apply --index\n",
    "\n",
    "On branch master\n",
    "Changes to be committed:\n",
    "  (use \"git reset HEAD <file>...\" to unstage)\n",
    "\n",
    "        modified:   4.txt"
   ]
  },
  {
   "cell_type": "markdown",
   "metadata": {},
   "source": [
    "Apply command doesn't remove stashed changes from stack:"
   ]
  },
  {
   "cell_type": "raw",
   "metadata": {},
   "source": [
    "$ git stash list\n",
    "\n",
    "stash@{0}: WIP on master: 1312795 add 4.txt"
   ]
  },
  {
   "cell_type": "markdown",
   "metadata": {},
   "source": [
    "#### Remove stashed state from stack:"
   ]
  },
  {
   "cell_type": "raw",
   "metadata": {},
   "source": [
    "$ git stash drop\n",
    "\n",
    "Dropped refs/stash@{0} (586476e040d9258627470c91a0692d6777489e4c)"
   ]
  },
  {
   "cell_type": "markdown",
   "metadata": {},
   "source": [
    "#### Apply and drop can be combined in one command:"
   ]
  },
  {
   "cell_type": "raw",
   "metadata": {},
   "source": [
    "$ git stash pop"
   ]
  },
  {
   "cell_type": "markdown",
   "metadata": {},
   "source": [
    "#### Stash changes which aren't stashed: "
   ]
  },
  {
   "cell_type": "raw",
   "metadata": {},
   "source": [
    "$ git stash --keep-index"
   ]
  },
  {
   "cell_type": "markdown",
   "metadata": {},
   "source": [
    "#### Create new branch which points to the commit which was the current before stash, pop stashed changes and switch HEAD:"
   ]
  },
  {
   "cell_type": "raw",
   "metadata": {},
   "source": [
    "$ git stash branch new_branch"
   ]
  },
  {
   "cell_type": "raw",
   "metadata": {},
   "source": [
    "                                 master\n",
    "                                 new_branch, HEAD\n",
    "                                   |\n",
    "                                   V\n",
    "3659ae-----6c32b7-----8ed841-----131279    "
   ]
  },
  {
   "cell_type": "raw",
   "metadata": {},
   "source": [
    "$ git status\n",
    "\n",
    "On branch new_branch\n",
    "Changes not staged for commit:\n",
    "  (use \"git add <file>...\" to update what will be committed)\n",
    "  (use \"git checkout -- <file>...\" to discard changes in working directory)\n",
    "\n",
    "        modified:   4.txt\n",
    "\n",
    "no changes added to commit (use \"git add\" and/or \"git commit -a\")"
   ]
  },
  {
   "cell_type": "markdown",
   "metadata": {},
   "source": [
    "# 4. git log"
   ]
  },
  {
   "cell_type": "markdown",
   "metadata": {},
   "source": [
    "Show commit logs. It has a lot of options so we consider only the most commomly used."
   ]
  },
  {
   "cell_type": "raw",
   "metadata": {},
   "source": [
    "$ git log\n",
    "\n",
    "commit 13127959869328dde72618a28191f4a11e1182e6 (HEAD -> new_branch, master)\n",
    "Author: a.kozhevin <a.kozhevin@analysiscenter.ru>\n",
    "Date:   Mon Nov 27 17:00:07 2017 +0300\n",
    "\n",
    "    add 4.txt\n",
    "\n",
    "commit 8ed8412feb3ff5e1c849adc29d3708eb1369ca27\n",
    "Author: a.kozhevin <a.kozhevin@analysiscenter.ru>\n",
    "Date:   Mon Nov 27 16:50:37 2017 +0300\n",
    "\n",
    "    add 3.txt\n",
    "\n",
    "commit 6c32b7b9bd29d4635e4eae454fc89194a1c2c2b6\n",
    "Author: a.kozhevin <a.kozhevin@analysiscenter.ru>\n",
    "Date:   Mon Nov 27 16:50:29 2017 +0300\n",
    "\n",
    "    add 2.txt\n",
    "\n",
    "commit 3659ae2dfd9c3d67ee9eee27e89052078d4c3d34\n",
    "Author: a.kozhevin <a.kozhevin@analysiscenter.ru>\n",
    "Date:   Mon Nov 27 16:49:39 2017 +0300\n",
    "\n",
    "    add 1.txt"
   ]
  },
  {
   "cell_type": "markdown",
   "metadata": {},
   "source": [
    "#### Show diff for the last commit:"
   ]
  },
  {
   "cell_type": "raw",
   "metadata": {},
   "source": [
    "$ git log -p -2\n",
    "\n",
    "commit 13127959869328dde72618a28191f4a11e1182e6 (HEAD -> new_branch, master)\n",
    "Author: a.kozhevin <a.kozhevin@analysiscenter.ru>\n",
    "Date:   Mon Nov 27 17:00:07 2017 +0300\n",
    "\n",
    "    add 4.txt\n",
    "\n",
    "diff --git a/4.txt b/4.txt\n",
    "new file mode 100644\n",
    "index 0000000..e69de29"
   ]
  },
  {
   "cell_type": "markdown",
   "metadata": {},
   "source": [
    "#### Option --pretty allow us to print logs in a given format:"
   ]
  },
  {
   "cell_type": "raw",
   "metadata": {},
   "source": [
    "$ git log --pretty=oneline\n",
    "\n",
    "13127959869328dde72618a28191f4a11e1182e6 (HEAD -> new_branch, master) add 4.txt\n",
    "8ed8412feb3ff5e1c849adc29d3708eb1369ca27 add 3.txt\n",
    "6c32b7b9bd29d4635e4eae454fc89194a1c2c2b6 add 2.txt\n",
    "3659ae2dfd9c3d67ee9eee27e89052078d4c3d34 add 1.txt"
   ]
  },
  {
   "cell_type": "raw",
   "metadata": {},
   "source": [
    "$ git log --pretty=format:\"%h - %an, %ar : %s\"\n",
    "\n",
    "1312795 - a.kozhevin, 60 minutes ago : add 4.txt\n",
    "8ed8412 - a.kozhevin, 70 minutes ago : add 3.txt\n",
    "6c32b7b - a.kozhevin, 70 minutes ago : add 2.txt\n",
    "3659ae2 - a.kozhevin, 71 minutes ago : add 1.txt"
   ]
  },
  {
   "cell_type": "raw",
   "metadata": {},
   "source": [
    "$ git log --pretty=oneline --graph\n",
    "\n",
    "git log --pretty=oneline --graph\n",
    "* 13127959869328dde72618a28191f4a11e1182e6 (HEAD -> new_branch, master) add 4.txt\n",
    "* 8ed8412feb3ff5e1c849adc29d3708eb1369ca27 add 3.txt\n",
    "* 6c32b7b9bd29d4635e4eae454fc89194a1c2c2b6 add 2.txt\n",
    "* 3659ae2dfd9c3d67ee9eee27e89052078d4c3d34 add 1.txt"
   ]
  },
  {
   "cell_type": "markdown",
   "metadata": {},
   "source": [
    "# 5. git show"
   ]
  },
  {
   "cell_type": "markdown",
   "metadata": {},
   "source": [
    "Show various types of objects"
   ]
  },
  {
   "cell_type": "raw",
   "metadata": {},
   "source": [
    "$ git show 3659ae\n",
    "commit 3659ae2dfd9c3d67ee9eee27e89052078d4c3d34\n",
    "Author: a.kozhevin <a.kozhevin@analysiscenter.ru>\n",
    "Date:   Mon Nov 27 16:49:39 2017 +0300\n",
    "\n",
    "    add 1.txt\n",
    "\n",
    "diff --git a/1.txt b/1.txt\n",
    "new file mode 100644\n",
    "index 0000000..e69de29"
   ]
  }
 ],
 "metadata": {
  "kernelspec": {
   "display_name": "Python 3",
   "language": "python",
   "name": "python3"
  },
  "language_info": {
   "codemirror_mode": {
    "name": "ipython",
    "version": 3
   },
   "file_extension": ".py",
   "mimetype": "text/x-python",
   "name": "python",
   "nbconvert_exporter": "python",
   "pygments_lexer": "ipython3",
   "version": "3.5.2"
  }
 },
 "nbformat": 4,
 "nbformat_minor": 2
}
