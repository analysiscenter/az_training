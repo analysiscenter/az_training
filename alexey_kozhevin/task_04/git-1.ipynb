{
 "cells": [
  {
   "cell_type": "markdown",
   "metadata": {},
   "source": [
    "# Git commands. Part 1 \n",
    "<i>git branch, git checkout, git stash, git log, git show</i>"
   ]
  },
  {
   "cell_type": "markdown",
   "metadata": {},
   "source": [
    "Firstly we should understand the concept of branch in git."
   ]
  },
  {
   "cell_type": "markdown",
   "metadata": {},
   "source": [
    "## What is a branch?"
   ]
  },
  {
   "cell_type": "markdown",
   "metadata": {},
   "source": [
    "Branch is a pointer to one of the commits. The default branch name in Git is <i>master</i>. Initially master points to the last commit."
   ]
  },
  {
   "cell_type": "raw",
   "metadata": {},
   "source": [
    "                       master\n",
    "                         |\n",
    "                         V\n",
    "78cf23-----8f446a-----14dd84"
   ]
  },
  {
   "cell_type": "markdown",
   "metadata": {},
   "source": [
    "In order to define the current branch there is special pointer HEAD which point to the local branch."
   ]
  },
  {
   "cell_type": "raw",
   "metadata": {},
   "source": [
    "                       master, HEAD\n",
    "                         |\n",
    "                         V\n",
    "78cf23-----8f446a-----14dd84"
   ]
  },
  {
   "cell_type": "markdown",
   "metadata": {},
   "source": [
    "## 1. git branch"
   ]
  },
  {
   "cell_type": "markdown",
   "metadata": {},
   "source": [
    "This command is used to create new branch or list/delete existing branches."
   ]
  },
  {
   "cell_type": "markdown",
   "metadata": {},
   "source": [
    "#### Create new branch (new pointer to the current commit) which points to the current HEAD:"
   ]
  },
  {
   "cell_type": "raw",
   "metadata": {},
   "source": [
    "$ git branch new_branch"
   ]
  },
  {
   "cell_type": "raw",
   "metadata": {},
   "source": [
    "                       master, HEAD\n",
    "                         |\n",
    "                         V\n",
    "78cf23-----8f446a-----14dd84\n",
    "                         ^\n",
    "                         |\n",
    "                     new_branch"
   ]
  },
  {
   "cell_type": "markdown",
   "metadata": {},
   "source": [
    "#### Create new branch which points to the specified commit:"
   ]
  },
  {
   "cell_type": "raw",
   "metadata": {},
   "source": [
    "$ git branch new_branch2 8f446a"
   ]
  },
  {
   "cell_type": "raw",
   "metadata": {},
   "source": [
    "            master, HEAD\n",
    "              |\n",
    "              V\n",
    "78cf23-----8f446a-----14dd84\n",
    "              ^          ^\n",
    "              |          |\n",
    "              |      new_branch\n",
    "              |\n",
    "          new_branch2"
   ]
  },
  {
   "cell_type": "markdown",
   "metadata": {},
   "source": [
    "#### Rename branch:"
   ]
  },
  {
   "cell_type": "raw",
   "metadata": {},
   "source": [
    "$ git branch -m new_branch2 new_branch3"
   ]
  },
  {
   "cell_type": "raw",
   "metadata": {},
   "source": [
    "            master, HEAD\n",
    "              |\n",
    "              V\n",
    "78cf23-----8f446a-----14dd84\n",
    "              ^          ^\n",
    "              |          |\n",
    "              |      new_branch\n",
    "              |\n",
    "          new_branch3"
   ]
  },
  {
   "cell_type": "markdown",
   "metadata": {},
   "source": [
    "#### Copy branch:"
   ]
  },
  {
   "cell_type": "raw",
   "metadata": {},
   "source": [
    "$ git branch -c new_branch3 new_branch4"
   ]
  },
  {
   "cell_type": "raw",
   "metadata": {},
   "source": [
    "            master, HEAD\n",
    "              |\n",
    "              V\n",
    "78cf23-----8f446a-----14dd84\n",
    "              ^          ^\n",
    "              |          |\n",
    "              |      new_branch\n",
    "              |\n",
    "          new_branch3\n",
    "          new_branch4"
   ]
  },
  {
   "cell_type": "markdown",
   "metadata": {},
   "source": [
    "#### Get list of the local branches:"
   ]
  },
  {
   "cell_type": "raw",
   "metadata": {},
   "source": [
    "$ git branch"
   ]
  },
  {
   "cell_type": "markdown",
   "metadata": {},
   "source": [
    "or"
   ]
  },
  {
   "cell_type": "raw",
   "metadata": {},
   "source": [
    "$ git branch --list"
   ]
  },
  {
   "cell_type": "markdown",
   "metadata": {},
   "source": [
    "#### Get list of the remote branches:"
   ]
  },
  {
   "cell_type": "raw",
   "metadata": {},
   "source": [
    "$ git branch -r"
   ]
  },
  {
   "cell_type": "markdown",
   "metadata": {},
   "source": [
    "#### Both local and remote:"
   ]
  },
  {
   "cell_type": "raw",
   "metadata": {},
   "source": [
    "$ git branch -a"
   ]
  },
  {
   "cell_type": "markdown",
   "metadata": {},
   "source": [
    "#### Delete branch"
   ]
  },
  {
   "cell_type": "raw",
   "metadata": {},
   "source": [
    "$ git branch -d new_branch3 new_branch4"
   ]
  },
  {
   "cell_type": "raw",
   "metadata": {},
   "source": [
    "            master, HEAD\n",
    "              |\n",
    "              V\n",
    "78cf23-----8f446a-----14dd84\n",
    "                         ^\n",
    "                         |\n",
    "                     new_branch "
   ]
  },
  {
   "cell_type": "markdown",
   "metadata": {},
   "source": [
    "## 2. git checkout"
   ]
  },
  {
   "cell_type": "markdown",
   "metadata": {},
   "source": [
    "Switch branches or restore working tree files. More specifically, it moves "
   ]
  },
  {
   "cell_type": "raw",
   "metadata": {},
   "source": [
    "$ git checkout new_branch"
   ]
  },
  {
   "cell_type": "raw",
   "metadata": {},
   "source": [
    "          master\n",
    "            |\n",
    "            V\n",
    "A-----B-----C\n",
    "            ^\n",
    "            |\n",
    "        new_branch, HEAD"
   ]
  },
  {
   "cell_type": "markdown",
   "metadata": {},
   "source": [
    "#### Create new branch and switch:"
   ]
  },
  {
   "cell_type": "raw",
   "metadata": {},
   "source": [
    "$ git checkout -b new_branch2"
   ]
  },
  {
   "cell_type": "raw",
   "metadata": {},
   "source": [
    "          master\n",
    "            |\n",
    "            V\n",
    "A-----B-----C\n",
    "            ^\n",
    "            |\n",
    "        new_branch\n",
    "        new_branch2, HEAD"
   ]
  },
  {
   "cell_type": "markdown",
   "metadata": {},
   "source": [
    "#### It is the same as"
   ]
  },
  {
   "cell_type": "raw",
   "metadata": {},
   "source": [
    "$ git branch new_branch2\n",
    "$ git checkout new_branch2"
   ]
  },
  {
   "cell_type": "markdown",
   "metadata": {},
   "source": [
    "#### Create new branch which starts at B:"
   ]
  },
  {
   "cell_type": "raw",
   "metadata": {},
   "source": [
    "$ git checkout -b new_branch3 commit_B_hash"
   ]
  },
  {
   "cell_type": "raw",
   "metadata": {},
   "source": [
    "          master\n",
    "            |\n",
    "            V\n",
    "A-----B-----C\n",
    "      ^     ^\n",
    "      |     |\n",
    "      | new_branch\n",
    "      | new_branch2\n",
    "      |\n",
    " new_branch3"
   ]
  },
  {
   "cell_type": "markdown",
   "metadata": {
    "collapsed": true
   },
   "source": [
    "# 3. git stash"
   ]
  },
  {
   "cell_type": "markdown",
   "metadata": {},
   "source": [
    "allow not to commit changes in files and hide 'dirty' state of the project"
   ]
  },
  {
   "cell_type": "raw",
   "metadata": {},
   "source": [
    "$ git stash"
   ]
  },
  {
   "cell_type": "code",
   "execution_count": null,
   "metadata": {
    "collapsed": true
   },
   "outputs": [],
   "source": []
  }
 ],
 "metadata": {
  "kernelspec": {
   "display_name": "Python 3",
   "language": "python",
   "name": "python3"
  },
  "language_info": {
   "codemirror_mode": {
    "name": "ipython",
    "version": 3
   },
   "file_extension": ".py",
   "mimetype": "text/x-python",
   "name": "python",
   "nbconvert_exporter": "python",
   "pygments_lexer": "ipython3",
   "version": "3.5.2"
  }
 },
 "nbformat": 4,
 "nbformat_minor": 2
}
