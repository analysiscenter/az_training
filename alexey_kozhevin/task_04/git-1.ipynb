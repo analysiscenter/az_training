{
 "cells": [
  {
   "cell_type": "markdown",
   "metadata": {},
   "source": [
    "# Команды Git. Часть 1 "
   ]
  },
  {
   "cell_type": "markdown",
   "metadata": {},
   "source": [
    "Сегодня мы поговорим о принципах работы следующих команд\n",
    "* git branch\n",
    "* git checkout\n",
    "* git stash\n",
    "* git log\n",
    "* git show"
   ]
  },
  {
   "cell_type": "markdown",
   "metadata": {},
   "source": [
    "# 0. Зачем?"
   ]
  },
  {
   "cell_type": "markdown",
   "metadata": {},
   "source": [
    "Чтобы понимать, что мы уже натворили, можем натворить и как это можно исправить. \n",
    "\n",
    "Дело в том, что зачастую мы знаем, <b>для чего</b> нужна команда, а не <b>что</b> она делает на самом деле.\n",
    "Например, можно по ошибке считать, что ветка &mdash; это последовательная серия коммитов. В таком случае, вызванная по ошибке команда"
   ]
  },
  {
   "cell_type": "code",
   "execution_count": 1,
   "metadata": {
    "collapsed": true
   },
   "outputs": [],
   "source": [
    "# ! git branch -D branch_name "
   ]
  },
  {
   "cell_type": "markdown",
   "metadata": {},
   "source": [
    "(удаление ветки, изменения в которой могли остаться никуда не влитыми) может испугать."
   ]
  },
  {
   "cell_type": "markdown",
   "metadata": {},
   "source": [
    "# 1. git branch"
   ]
  },
  {
   "cell_type": "markdown",
   "metadata": {},
   "source": [
    "<i> Эта команда в зависимости от выбранной опции делает следующее: \n",
    "* перечисляет существующие ветки, \n",
    "* создаёт ветки,\n",
    "* удаляет ветки. \n",
    "</i>"
   ]
  },
  {
   "cell_type": "markdown",
   "metadata": {},
   "source": [
    "<i> Демонстрировать работу команды <b>git branch</b> будем на примере репозитория со следующей структурой коммитов:</i>"
   ]
  },
  {
   "cell_type": "code",
   "execution_count": 2,
   "metadata": {
    "collapsed": true
   },
   "outputs": [],
   "source": [
    "#                           master\n",
    "#                             |\n",
    "#                             V\n",
    "# c57b5f <---- 03ab94 <---- 0a72f5"
   ]
  },
  {
   "cell_type": "markdown",
   "metadata": {},
   "source": [
    "<i> С каждым коммитом добавлялся файл 1.txt, 2.txt и 3.txt, соответственно. </i>"
   ]
  },
  {
   "cell_type": "code",
   "execution_count": 3,
   "metadata": {},
   "outputs": [
    {
     "name": "stdout",
     "output_type": "stream",
     "text": [
      "commit 0a72f59e52a12744a776d36c69430a7d9968b475\n",
      "Author: a.kozhevin <a.kozhevin@analysiscenter.ru>\n",
      "Date:   Tue Nov 28 14:29:54 2017 +0300\n",
      "\n",
      "    3.txt\n",
      "\n",
      "commit 03ab94f9f71bbeca7a62e52cb69c9c8d60ac5600\n",
      "Author: a.kozhevin <a.kozhevin@analysiscenter.ru>\n",
      "Date:   Tue Nov 28 14:29:45 2017 +0300\n",
      "\n",
      "    2.txt\n",
      "\n",
      "commit c57b5ff6fa9a28e21a178d0e3b3468e6233afbe9\n",
      "Author: a.kozhevin <a.kozhevin@analysiscenter.ru>\n",
      "Date:   Tue Nov 28 14:29:40 2017 +0300\n",
      "\n",
      "    1.txt\n"
     ]
    }
   ],
   "source": [
    "! git log"
   ]
  },
  {
   "cell_type": "markdown",
   "metadata": {},
   "source": [
    "<i> Для того, чтобы определить в какую ветку будет добавлен новый коммит (текущую ветку) существует указатель HEAD: </i>"
   ]
  },
  {
   "cell_type": "code",
   "execution_count": 4,
   "metadata": {
    "collapsed": true
   },
   "outputs": [],
   "source": [
    "#                   HEAD -> master\n",
    "#                             |\n",
    "#                             V\n",
    "# c57b5f <---- 03ab94 <---- 0a72f5"
   ]
  },
  {
   "cell_type": "markdown",
   "metadata": {},
   "source": [
    "#### Создать новую ветку"
   ]
  },
  {
   "cell_type": "code",
   "execution_count": 5,
   "metadata": {},
   "outputs": [],
   "source": [
    "! git branch new_branch"
   ]
  },
  {
   "cell_type": "code",
   "execution_count": 6,
   "metadata": {
    "collapsed": true
   },
   "outputs": [],
   "source": [
    "#                   HEAD -> master, new_branch\n",
    "#                             |\n",
    "#                             V\n",
    "# c57b5f <---- 03ab94 <---- 0a72f5"
   ]
  },
  {
   "cell_type": "markdown",
   "metadata": {},
   "source": [
    "#### Создать новую ветку, указывающую на коммит:"
   ]
  },
  {
   "cell_type": "code",
   "execution_count": 7,
   "metadata": {},
   "outputs": [],
   "source": [
    "! git branch new_branch2 03ab94"
   ]
  },
  {
   "cell_type": "code",
   "execution_count": 8,
   "metadata": {
    "collapsed": true
   },
   "outputs": [],
   "source": [
    "#                   HEAD -> master, new_branch\n",
    "#                             |\n",
    "#                             V\n",
    "# c57b5f <---- 03ab94 <---- 0a72f5\n",
    "#                 ^          \n",
    "#                 |          \n",
    "#            new_branch2"
   ]
  },
  {
   "cell_type": "markdown",
   "metadata": {},
   "source": [
    "#### Переименовать ветку:"
   ]
  },
  {
   "cell_type": "code",
   "execution_count": 9,
   "metadata": {},
   "outputs": [],
   "source": [
    "! git branch -m new_branch2 new_branch3"
   ]
  },
  {
   "cell_type": "code",
   "execution_count": 10,
   "metadata": {
    "collapsed": true
   },
   "outputs": [],
   "source": [
    "#                   HEAD -> master, new_branch\n",
    "#                             |\n",
    "#                             V\n",
    "# c57b5f <---- 03ab94 <---- 0a72f5\n",
    "#                 ^          \n",
    "#                 |          \n",
    "#            new_branch3"
   ]
  },
  {
   "cell_type": "markdown",
   "metadata": {},
   "source": [
    "#### Копировать ветку:"
   ]
  },
  {
   "cell_type": "code",
   "execution_count": 11,
   "metadata": {
    "collapsed": true
   },
   "outputs": [],
   "source": [
    "! git branch -c new_branch3 new_branch4"
   ]
  },
  {
   "cell_type": "code",
   "execution_count": 12,
   "metadata": {
    "collapsed": true
   },
   "outputs": [],
   "source": [
    "#                   HEAD -> master, new_branch\n",
    "#                             |\n",
    "#                             V\n",
    "# c57b5f <---- 03ab94 <---- 0a72f5\n",
    "#                 ^          \n",
    "#                 |          \n",
    "#       new_branch4, new_branch3"
   ]
  },
  {
   "cell_type": "markdown",
   "metadata": {},
   "source": [
    "#### Вывести список веток в текущем репозитории:"
   ]
  },
  {
   "cell_type": "code",
   "execution_count": 13,
   "metadata": {},
   "outputs": [
    {
     "name": "stdout",
     "output_type": "stream",
     "text": [
      "* master\n",
      "  new_branch\n",
      "  new_branch3\n",
      "  new_branch4\n"
     ]
    }
   ],
   "source": [
    "! git branch"
   ]
  },
  {
   "cell_type": "markdown",
   "metadata": {},
   "source": [
    "or"
   ]
  },
  {
   "cell_type": "code",
   "execution_count": 14,
   "metadata": {},
   "outputs": [
    {
     "name": "stdout",
     "output_type": "stream",
     "text": [
      "* master\n",
      "  new_branch\n",
      "  new_branch3\n",
      "  new_branch4\n"
     ]
    }
   ],
   "source": [
    "! git branch --list"
   ]
  },
  {
   "cell_type": "markdown",
   "metadata": {},
   "source": [
    "Звёздочка означает положение HEAD."
   ]
  },
  {
   "cell_type": "markdown",
   "metadata": {},
   "source": [
    "#### Удалить ветку или ветки:"
   ]
  },
  {
   "cell_type": "code",
   "execution_count": 15,
   "metadata": {},
   "outputs": [
    {
     "name": "stdout",
     "output_type": "stream",
     "text": [
      "Deleted branch new_branch3 (was 03ab94f).\n",
      "Deleted branch new_branch4 (was 03ab94f).\n"
     ]
    }
   ],
   "source": [
    "! git branch -d new_branch3 new_branch4"
   ]
  },
  {
   "cell_type": "code",
   "execution_count": 16,
   "metadata": {
    "collapsed": true
   },
   "outputs": [],
   "source": [
    "#                   HEAD -> master, new_branch\n",
    "#                             |\n",
    "#                             V\n",
    "# c57b5f <---- 03ab94 <---- 0a72f5"
   ]
  },
  {
   "cell_type": "markdown",
   "metadata": {},
   "source": [
    "# 2. git checkout"
   ]
  },
  {
   "cell_type": "markdown",
   "metadata": {},
   "source": [
    "<i> Команда позволяет осуществить переход между ветками и изменять состояния файлов в рабочей директории. \n",
    "\n",
    "С помощью git checkout можно перейти к\n",
    "* указанной ветке,\n",
    "* указанному коммиту (detached HEAD). </i>"
   ]
  },
  {
   "cell_type": "code",
   "execution_count": 16,
   "metadata": {},
   "outputs": [
    {
     "name": "stderr",
     "output_type": "stream",
     "text": [
      "Switched to branch 'new_branch'\n"
     ]
    }
   ],
   "source": [
    "! git checkout new_branch"
   ]
  },
  {
   "cell_type": "code",
   "execution_count": 17,
   "metadata": {
    "collapsed": true
   },
   "outputs": [],
   "source": [
    "#                   HEAD -> new_branch, master\n",
    "#                             |\n",
    "#                             V\n",
    "# c57b5f <---- 03ab94 <---- 0a72f5"
   ]
  },
  {
   "cell_type": "markdown",
   "metadata": {},
   "source": [
    "#### Создать новую ветку и перейти к ней:"
   ]
  },
  {
   "cell_type": "code",
   "execution_count": 18,
   "metadata": {},
   "outputs": [
    {
     "name": "stderr",
     "output_type": "stream",
     "text": [
      "Switched to a new branch 'new_branch2'\n"
     ]
    }
   ],
   "source": [
    "! git checkout -b new_branch2"
   ]
  },
  {
   "cell_type": "code",
   "execution_count": 19,
   "metadata": {
    "collapsed": true
   },
   "outputs": [],
   "source": [
    "#                   HEAD -> new_branch2, new_branch, master\n",
    "#                             |\n",
    "#                             V\n",
    "# c57b5f <---- 03ab94 <---- 0a72f5"
   ]
  },
  {
   "cell_type": "markdown",
   "metadata": {},
   "source": [
    "#### Создать новую ветку, указывающую на коммит 03ab94:"
   ]
  },
  {
   "cell_type": "code",
   "execution_count": 20,
   "metadata": {},
   "outputs": [
    {
     "name": "stderr",
     "output_type": "stream",
     "text": [
      "Switched to a new branch 'new_branch3'\n"
     ]
    }
   ],
   "source": [
    "! git checkout -b new_branch3 03ab94"
   ]
  },
  {
   "cell_type": "code",
   "execution_count": 21,
   "metadata": {
    "collapsed": true
   },
   "outputs": [],
   "source": [
    "#                       new_branch2, new_branch, master\n",
    "#                             |\n",
    "#                             V\n",
    "# c57b5f <---- 03ab94 <---- 0a72f5 \n",
    "#                 ^          \n",
    "#                 |          \n",
    "#  HEAD -> new_branch3"
   ]
  },
  {
   "cell_type": "code",
   "execution_count": 22,
   "metadata": {},
   "outputs": [
    {
     "name": "stdout",
     "output_type": "stream",
     "text": [
      "  master\n",
      "  new_branch\n",
      "  new_branch2\n",
      "* new_branch3\n"
     ]
    }
   ],
   "source": [
    "! git branch"
   ]
  },
  {
   "cell_type": "markdown",
   "metadata": {},
   "source": [
    "Изменим файл 2.txt"
   ]
  },
  {
   "cell_type": "markdown",
   "metadata": {},
   "source": [
    "#### Восстановить файл из последнего коммита:"
   ]
  },
  {
   "cell_type": "code",
   "execution_count": 23,
   "metadata": {},
   "outputs": [],
   "source": [
    "! git checkout 2.txt"
   ]
  },
  {
   "cell_type": "markdown",
   "metadata": {},
   "source": [
    "Снова изменим файл 2.txt и создадим коммит."
   ]
  },
  {
   "cell_type": "code",
   "execution_count": 24,
   "metadata": {
    "collapsed": true
   },
   "outputs": [],
   "source": [
    "#                       new_branch2, new_branch, master\n",
    "#                             |\n",
    "#                             V\n",
    "# c57b5f <---- 03ab94 <---- 0a72f5  2.txt (v1)\n",
    "#                ^\n",
    "#                |          \n",
    "#                |          \n",
    "#             b89c21  2.txt (v2)        \n",
    "#               ^            \n",
    "#               |\n",
    "#   HEAD -> new_branch3"
   ]
  },
  {
   "cell_type": "code",
   "execution_count": 26,
   "metadata": {},
   "outputs": [
    {
     "name": "stdout",
     "output_type": "stream",
     "text": [
      "[new_branch3 b89c211] change 2.txt\n",
      " 1 file changed, 1 insertion(+)\n"
     ]
    }
   ],
   "source": [
    "! git add 2.txt\n",
    "! git commit -m \"change 2.txt\""
   ]
  },
  {
   "cell_type": "markdown",
   "metadata": {},
   "source": [
    "Ещё раз изменим файл 2.txt"
   ]
  },
  {
   "cell_type": "code",
   "execution_count": 27,
   "metadata": {},
   "outputs": [
    {
     "name": "stderr",
     "output_type": "stream",
     "text": [
      "error: Your local changes to the following files would be overwritten by checkout:\n",
      "\t2.txt\n",
      "Please commit your changes or stash them before you switch branches.\n",
      "Aborting\n"
     ]
    }
   ],
   "source": [
    "! git checkout master"
   ]
  },
  {
   "cell_type": "markdown",
   "metadata": {},
   "source": [
    "#### Перейти к ветке и произвести слияние локальных изменений:"
   ]
  },
  {
   "cell_type": "code",
   "execution_count": 28,
   "metadata": {},
   "outputs": [
    {
     "name": "stdout",
     "output_type": "stream",
     "text": [
      "M\t2.txt\n"
     ]
    },
    {
     "name": "stderr",
     "output_type": "stream",
     "text": [
      "Switched to branch 'master'\n"
     ]
    }
   ],
   "source": [
    "! git checkout -m master"
   ]
  },
  {
   "cell_type": "code",
   "execution_count": 29,
   "metadata": {},
   "outputs": [
    {
     "name": "stdout",
     "output_type": "stream",
     "text": [
      "On branch master\n",
      "Unmerged paths:\n",
      "  (use \"git reset HEAD <file>...\" to unstage)\n",
      "  (use \"git add <file>...\" to mark resolution)\n",
      "\n",
      "\tboth modified:   2.txt\n",
      "\n",
      "Untracked files:\n",
      "  (use \"git add <file>...\" to include in what will be committed)\n",
      "\n",
      "\t.ipynb_checkpoints/\n",
      "\t4.txt\n",
      "\tgit-1.ipynb\n",
      "\n",
      "no changes added to commit (use \"git add\" and/or \"git commit -a\")\n"
     ]
    }
   ],
   "source": [
    "! git status"
   ]
  },
  {
   "cell_type": "markdown",
   "metadata": {},
   "source": [
    "Далее решаем конфликты в файле 2.txt и добавляем коммит."
   ]
  },
  {
   "cell_type": "code",
   "execution_count": null,
   "metadata": {
    "collapsed": true
   },
   "outputs": [],
   "source": [
    "#       new_branch2, new_branch         master <- HEAD\n",
    "#                            |               |\n",
    "#                            V               V\n",
    "# c57b5f <---- 03ab94 <---- 0a72f5 <---- e9580b\n",
    "#                ^\n",
    "#                |          \n",
    "#                |          \n",
    "#             b89c21     \n",
    "#               ^            \n",
    "#               |\n",
    "#   HEAD -> new_branch3"
   ]
  },
  {
   "cell_type": "markdown",
   "metadata": {
    "collapsed": true
   },
   "source": [
    "# 3. git stash"
   ]
  },
  {
   "cell_type": "markdown",
   "metadata": {},
   "source": [
    "Эта команда позволяет поместить текущие локальные изменения в стек изменений и взять состояние рабочей директории из последнего коммита."
   ]
  },
  {
   "cell_type": "markdown",
   "metadata": {},
   "source": [
    "Удалим new_branches:"
   ]
  },
  {
   "cell_type": "code",
   "execution_count": 57,
   "metadata": {
    "collapsed": true
   },
   "outputs": [],
   "source": [
    "#                                        master <- HEAD\n",
    "#                                           |\n",
    "#                                           V\n",
    "# c57b5f <---- 03ab94 <---- 0a72f5 <---- e9580b"
   ]
  },
  {
   "cell_type": "markdown",
   "metadata": {},
   "source": [
    "Изменим файл 3.txt"
   ]
  },
  {
   "cell_type": "markdown",
   "metadata": {},
   "source": [
    "#### Спрячем изменения:"
   ]
  },
  {
   "cell_type": "code",
   "execution_count": 37,
   "metadata": {},
   "outputs": [
    {
     "name": "stdout",
     "output_type": "stream",
     "text": [
      "Saved working directory and index state WIP on master: e9580b4 fix conflicts\n"
     ]
    }
   ],
   "source": [
    "! git stash"
   ]
  },
  {
   "cell_type": "markdown",
   "metadata": {},
   "source": [
    "git stash сохраняет изменения в файлах \"под наблюдением\". Если необходимо спрятать все файлы, не содержащиееся в последнем коммите, используется флаг -u (----include-untracked)."
   ]
  },
  {
   "cell_type": "markdown",
   "metadata": {},
   "source": [
    "#### Получить список изменений в стеке:"
   ]
  },
  {
   "cell_type": "code",
   "execution_count": 38,
   "metadata": {},
   "outputs": [
    {
     "name": "stdout",
     "output_type": "stream",
     "text": [
      "stash@{0}: WIP on master: e9580b4 fix conflicts\n"
     ]
    }
   ],
   "source": [
    "! git stash list"
   ]
  },
  {
   "cell_type": "markdown",
   "metadata": {},
   "source": [
    "####  Применить последние \"спрятанные\" изменения:"
   ]
  },
  {
   "cell_type": "code",
   "execution_count": 39,
   "metadata": {},
   "outputs": [
    {
     "name": "stdout",
     "output_type": "stream",
     "text": [
      "On branch master\n",
      "Changes not staged for commit:\n",
      "  (use \"git add <file>...\" to update what will be committed)\n",
      "  (use \"git checkout -- <file>...\" to discard changes in working directory)\n",
      "\n",
      "\tmodified:   3.txt\n",
      "\n",
      "Untracked files:\n",
      "  (use \"git add <file>...\" to include in what will be committed)\n",
      "\n",
      "\t.ipynb_checkpoints/\n",
      "\t4.txt\n",
      "\tgit-1.ipynb\n",
      "\n",
      "no changes added to commit (use \"git add\" and/or \"git commit -a\")\n"
     ]
    }
   ],
   "source": [
    "! git stash apply"
   ]
  },
  {
   "cell_type": "markdown",
   "metadata": {},
   "source": [
    "или"
   ]
  },
  {
   "cell_type": "code",
   "execution_count": 40,
   "metadata": {},
   "outputs": [],
   "source": [
    "# ! git stash apply stash@{0}"
   ]
  },
  {
   "cell_type": "markdown",
   "metadata": {},
   "source": [
    "Если файл 3.txt до git stash был включен в индекс, то теперь нет. \n",
    "\n",
    "Для того, чтобы восстановить проиндексированные изменения, используется флаг --index"
   ]
  },
  {
   "cell_type": "markdown",
   "metadata": {},
   "source": [
    "Отметим, что git stash apply не меняет стека изменений:"
   ]
  },
  {
   "cell_type": "code",
   "execution_count": 41,
   "metadata": {},
   "outputs": [
    {
     "name": "stdout",
     "output_type": "stream",
     "text": [
      "stash@{0}: WIP on master: e9580b4 fix conflicts\n"
     ]
    }
   ],
   "source": [
    "! git stash list"
   ]
  },
  {
   "cell_type": "markdown",
   "metadata": {},
   "source": [
    "#### Удалить состояние рабочей директории из стека изменений:"
   ]
  },
  {
   "cell_type": "code",
   "execution_count": 42,
   "metadata": {},
   "outputs": [
    {
     "name": "stdout",
     "output_type": "stream",
     "text": [
      "Dropped refs/stash@{0} (c5f87165397d869385f1f7d0ed98b77c0fc6c8fc)\n"
     ]
    }
   ],
   "source": [
    "! git stash drop"
   ]
  },
  {
   "cell_type": "markdown",
   "metadata": {},
   "source": [
    "#### Apply и drop можно скомбинировать одной командой:"
   ]
  },
  {
   "cell_type": "code",
   "execution_count": 43,
   "metadata": {
    "collapsed": true
   },
   "outputs": [],
   "source": [
    "# ! git stash pop"
   ]
  },
  {
   "cell_type": "markdown",
   "metadata": {},
   "source": [
    "#### Спрятать изменения в файлах, ещё не добавленных в индекс:"
   ]
  },
  {
   "cell_type": "code",
   "execution_count": 44,
   "metadata": {},
   "outputs": [
    {
     "name": "stdout",
     "output_type": "stream",
     "text": [
      "Saved working directory and index state WIP on master: e9580b4 fix conflicts\n"
     ]
    }
   ],
   "source": [
    "! git stash --keep-index"
   ]
  },
  {
   "cell_type": "markdown",
   "metadata": {},
   "source": [
    "#### Создать новую ветку, переместить HEAD и накатить изменения из стека:"
   ]
  },
  {
   "cell_type": "code",
   "execution_count": 45,
   "metadata": {},
   "outputs": [
    {
     "name": "stdout",
     "output_type": "stream",
     "text": [
      "On branch new_branch\n",
      "Changes not staged for commit:\n",
      "  (use \"git add <file>...\" to update what will be committed)\n",
      "  (use \"git checkout -- <file>...\" to discard changes in working directory)\n",
      "\n",
      "\tmodified:   3.txt\n",
      "\n",
      "Untracked files:\n",
      "  (use \"git add <file>...\" to include in what will be committed)\n",
      "\n",
      "\t.ipynb_checkpoints/\n",
      "\t4.txt\n",
      "\tgit-1.ipynb\n",
      "\n",
      "no changes added to commit (use \"git add\" and/or \"git commit -a\")\n",
      "Dropped refs/stash@{0} (2f0c6e7c004bf662c9da1d08b33716611ee31cf1)\n"
     ]
    },
    {
     "name": "stderr",
     "output_type": "stream",
     "text": [
      "Switched to a new branch 'new_branch'\n"
     ]
    }
   ],
   "source": [
    "! git stash branch new_branch"
   ]
  },
  {
   "cell_type": "code",
   "execution_count": 46,
   "metadata": {
    "collapsed": true
   },
   "outputs": [],
   "source": [
    "#                                        master, new_branch <- HEAD\n",
    "#                                           |\n",
    "#                                           V\n",
    "# c57b5f <---- 03ab94 <---- 0a72f5 <---- e9580b "
   ]
  },
  {
   "cell_type": "markdown",
   "metadata": {},
   "source": [
    "# 4. git log"
   ]
  },
  {
   "cell_type": "markdown",
   "metadata": {},
   "source": [
    "Команда позволяет получить историю коммитов в данном репозитории."
   ]
  },
  {
   "cell_type": "code",
   "execution_count": 49,
   "metadata": {},
   "outputs": [
    {
     "name": "stdout",
     "output_type": "stream",
     "text": [
      "commit e9580b45c9a91c6a113b611a2bae4c383f21bf0f\n",
      "Author: a.kozhevin <a.kozhevin@analysiscenter.ru>\n",
      "Date:   Tue Nov 28 17:31:37 2017 +0300\n",
      "\n",
      "    fix conflicts\n",
      "\n",
      "commit 0a72f59e52a12744a776d36c69430a7d9968b475\n",
      "Author: a.kozhevin <a.kozhevin@analysiscenter.ru>\n",
      "Date:   Tue Nov 28 14:29:54 2017 +0300\n",
      "\n",
      "    3.txt\n",
      "\n",
      "commit 03ab94f9f71bbeca7a62e52cb69c9c8d60ac5600\n",
      "Author: a.kozhevin <a.kozhevin@analysiscenter.ru>\n",
      "Date:   Tue Nov 28 14:29:45 2017 +0300\n",
      "\n",
      "    2.txt\n",
      "\n",
      "commit c57b5ff6fa9a28e21a178d0e3b3468e6233afbe9\n",
      "Author: a.kozhevin <a.kozhevin@analysiscenter.ru>\n",
      "Date:   Tue Nov 28 14:29:40 2017 +0300\n",
      "\n",
      "    1.txt\n"
     ]
    }
   ],
   "source": [
    "! git log"
   ]
  },
  {
   "cell_type": "markdown",
   "metadata": {},
   "source": [
    "#### Показать изменения, привнесённые коммитами (для последних двух коммитов):"
   ]
  },
  {
   "cell_type": "code",
   "execution_count": 50,
   "metadata": {},
   "outputs": [
    {
     "name": "stdout",
     "output_type": "stream",
     "text": [
      "commit e9580b45c9a91c6a113b611a2bae4c383f21bf0f\n",
      "Author: a.kozhevin <a.kozhevin@analysiscenter.ru>\n",
      "Date:   Tue Nov 28 17:31:37 2017 +0300\n",
      "\n",
      "    fix conflicts\n",
      "\n",
      "diff --git a/2.txt b/2.txt\n",
      "index e69de29..06e8bae 100644\n",
      "--- a/2.txt\n",
      "+++ b/2.txt\n",
      "@@ -0,0 +1,2 @@\n",
      "+change\n",
      "+change2\n",
      "\n",
      "commit 0a72f59e52a12744a776d36c69430a7d9968b475\n",
      "Author: a.kozhevin <a.kozhevin@analysiscenter.ru>\n",
      "Date:   Tue Nov 28 14:29:54 2017 +0300\n",
      "\n",
      "    3.txt\n",
      "\n",
      "diff --git a/3.txt b/3.txt\n",
      "new file mode 100644\n",
      "index 0000000..e69de29\n"
     ]
    }
   ],
   "source": [
    "! git log -p -2"
   ]
  },
  {
   "cell_type": "markdown",
   "metadata": {},
   "source": [
    "#### Флаг --pretty позволяет выводить лог в одном из указанных форматов:"
   ]
  },
  {
   "cell_type": "code",
   "execution_count": 52,
   "metadata": {},
   "outputs": [
    {
     "name": "stdout",
     "output_type": "stream",
     "text": [
      "e9580b45c9a91c6a113b611a2bae4c383f21bf0f fix conflicts\n",
      "0a72f59e52a12744a776d36c69430a7d9968b475 3.txt\n",
      "03ab94f9f71bbeca7a62e52cb69c9c8d60ac5600 2.txt\n",
      "c57b5ff6fa9a28e21a178d0e3b3468e6233afbe9 1.txt\n"
     ]
    }
   ],
   "source": [
    "! git log --pretty=oneline"
   ]
  },
  {
   "cell_type": "code",
   "execution_count": 53,
   "metadata": {},
   "outputs": [
    {
     "name": "stdout",
     "output_type": "stream",
     "text": [
      "e9580b4 - a.kozhevin, 28 minutes ago : fix conflicts\n",
      "0a72f59 - a.kozhevin, 3 hours ago : 3.txt\n",
      "03ab94f - a.kozhevin, 4 hours ago : 2.txt\n",
      "c57b5ff - a.kozhevin, 4 hours ago : 1.txt\n"
     ]
    }
   ],
   "source": [
    "! git log --pretty=format:\"%h - %an, %ar : %s\""
   ]
  },
  {
   "cell_type": "markdown",
   "metadata": {},
   "source": [
    "Создадим ветку new_branch2, указывающую на c57b5f, изменим и закоммитим файл 1.txt"
   ]
  },
  {
   "cell_type": "code",
   "execution_count": 55,
   "metadata": {},
   "outputs": [
    {
     "name": "stdout",
     "output_type": "stream",
     "text": [
      "commit 2b1aa37138c8c132c38e5a20bad524b715f54019\n",
      "Author: a.kozhevin <a.kozhevin@analysiscenter.ru>\n",
      "Date:   Tue Nov 28 18:02:09 2017 +0300\n",
      "\n",
      "    change 1.txt\n",
      "\n",
      "commit c57b5ff6fa9a28e21a178d0e3b3468e6233afbe9\n",
      "Author: a.kozhevin <a.kozhevin@analysiscenter.ru>\n",
      "Date:   Tue Nov 28 14:29:40 2017 +0300\n",
      "\n",
      "    1.txt\n"
     ]
    }
   ],
   "source": [
    "! git log"
   ]
  },
  {
   "cell_type": "markdown",
   "metadata": {},
   "source": [
    "#### Чтобы увидеть все ветки, добавим флаг --all:"
   ]
  },
  {
   "cell_type": "code",
   "execution_count": 57,
   "metadata": {},
   "outputs": [
    {
     "name": "stdout",
     "output_type": "stream",
     "text": [
      "commit 2b1aa37138c8c132c38e5a20bad524b715f54019\n",
      "Author: a.kozhevin <a.kozhevin@analysiscenter.ru>\n",
      "Date:   Tue Nov 28 18:02:09 2017 +0300\n",
      "\n",
      "    change 1.txt\n",
      "\n",
      "commit 01a5759a095a23e44959e7bf37e1050f6a06b15b\n",
      "Merge: e9580b4 85656d5\n",
      "Author: a.kozhevin <a.kozhevin@analysiscenter.ru>\n",
      "Date:   Tue Nov 28 18:01:36 2017 +0300\n",
      "\n",
      "    WIP on new_branch: e9580b4 fix conflicts\n",
      "\n",
      "commit 85656d5d246c8d9335a9f873f04cab2b720cce15\n",
      "Author: a.kozhevin <a.kozhevin@analysiscenter.ru>\n",
      "Date:   Tue Nov 28 18:01:36 2017 +0300\n",
      "\n",
      "    index on new_branch: e9580b4 fix conflicts\n",
      "\n",
      "commit e9580b45c9a91c6a113b611a2bae4c383f21bf0f\n",
      "Author: a.kozhevin <a.kozhevin@analysiscenter.ru>\n",
      "Date:   Tue Nov 28 17:31:37 2017 +0300\n",
      "\n",
      "    fix conflicts\n",
      "\n",
      "commit 0a72f59e52a12744a776d36c69430a7d9968b475\n",
      "Author: a.kozhevin <a.kozhevin@analysiscenter.ru>\n",
      "Date:   Tue Nov 28 14:29:54 2017 +0300\n",
      "\n",
      "    3.txt\n",
      "\n",
      "commit 03ab94f9f71bbeca7a62e52cb69c9c8d60ac5600\n",
      "Author: a.kozhevin <a.kozhevin@analysiscenter.ru>\n",
      "Date:   Tue Nov 28 14:29:45 2017 +0300\n",
      "\n",
      "    2.txt\n",
      "\n",
      "commit c57b5ff6fa9a28e21a178d0e3b3468e6233afbe9\n",
      "Author: a.kozhevin <a.kozhevin@analysiscenter.ru>\n",
      "Date:   Tue Nov 28 14:29:40 2017 +0300\n",
      "\n",
      "    1.txt\n"
     ]
    }
   ],
   "source": [
    "! git log --all"
   ]
  },
  {
   "cell_type": "markdown",
   "metadata": {},
   "source": [
    "Выполним merge веток master и new_branch2."
   ]
  },
  {
   "cell_type": "code",
   "execution_count": 59,
   "metadata": {},
   "outputs": [
    {
     "name": "stdout",
     "output_type": "stream",
     "text": [
      "*   7d08edccbcfcb6bf5a391a70eccf46d869c31aec Merge branch 'new_branch2'\n",
      "|\\  \n",
      "| * 2b1aa37138c8c132c38e5a20bad524b715f54019 change 1.txt\n",
      "* | e9580b45c9a91c6a113b611a2bae4c383f21bf0f fix conflicts\n",
      "* | 0a72f59e52a12744a776d36c69430a7d9968b475 3.txt\n",
      "* | 03ab94f9f71bbeca7a62e52cb69c9c8d60ac5600 2.txt\n",
      "|/  \n",
      "* c57b5ff6fa9a28e21a178d0e3b3468e6233afbe9 1.txt\n"
     ]
    }
   ],
   "source": [
    "! git log --pretty=oneline --graph"
   ]
  },
  {
   "cell_type": "markdown",
   "metadata": {},
   "source": [
    "# 5. git show"
   ]
  },
  {
   "cell_type": "markdown",
   "metadata": {},
   "source": [
    "Show various types of objects"
   ]
  },
  {
   "cell_type": "code",
   "execution_count": null,
   "metadata": {
    "collapsed": true
   },
   "outputs": [],
   "source": [
    "$ git show 3659ae\n",
    "commit 3659ae2dfd9c3d67ee9eee27e89052078d4c3d34\n",
    "Author: a.kozhevin <a.kozhevin@analysiscenter.ru>\n",
    "Date:   Mon Nov 27 16:49:39 2017 +0300\n",
    "\n",
    "    add 1.txt\n",
    "\n",
    "diff --git a/1.txt b/1.txt\n",
    "new file mode 100644\n",
    "index 0000000..e69de29"
   ]
  }
 ],
 "metadata": {
  "kernelspec": {
   "display_name": "Python 3",
   "language": "python",
   "name": "python3"
  },
  "language_info": {
   "codemirror_mode": {
    "name": "ipython",
    "version": 3
   },
   "file_extension": ".py",
   "mimetype": "text/x-python",
   "name": "python",
   "nbconvert_exporter": "python",
   "pygments_lexer": "ipython3",
   "version": "3.5.2"
  }
 },
 "nbformat": 4,
 "nbformat_minor": 2
}
