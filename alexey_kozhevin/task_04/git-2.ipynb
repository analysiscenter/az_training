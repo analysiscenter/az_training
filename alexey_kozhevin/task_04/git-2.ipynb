{
 "cells": [
  {
   "cell_type": "markdown",
   "metadata": {},
   "source": [
    "# Команды Git. Часть 2 "
   ]
  },
  {
   "cell_type": "markdown",
   "metadata": {},
   "source": [
    "Сегодня мы поговорим о принципах работы следующих команд:\n",
    "* git merge\n",
    "* git mergetool\n",
    "* git reset\n",
    "* git rebase"
   ]
  },
  {
   "cell_type": "markdown",
   "metadata": {},
   "source": [
    "# 1. git merge"
   ]
  },
  {
   "cell_type": "markdown",
   "metadata": {},
   "source": [
    "<i> Команда используется для слияния нескольких историй разработки.</i>"
   ]
  },
  {
   "cell_type": "markdown",
   "metadata": {},
   "source": [
    "<i> Демонстрировать работу команды <b>git merge</b> будем на примере репозитория со следующей структурой коммитов:</i>"
   ]
  },
  {
   "cell_type": "code",
   "execution_count": 17,
   "metadata": {
    "collapsed": true
   },
   "outputs": [],
   "source": [
    "#               master\n",
    "#                 |\n",
    "#                 V\n",
    "# 159f1c9 <---- 702bef8"
   ]
  },
  {
   "cell_type": "markdown",
   "metadata": {},
   "source": [
    "<i> С каждым коммитом добавлялся файл 1.txt и 2.txt, соответственно. </i>"
   ]
  },
  {
   "cell_type": "markdown",
   "metadata": {},
   "source": [
    "Рассмотрим несколько ситуаций:"
   ]
  },
  {
   "cell_type": "markdown",
   "metadata": {},
   "source": [
    "#### 1) Создадим ветку new_branch, добавим файл 3.txt и закоммитим изменения:"
   ]
  },
  {
   "cell_type": "code",
   "execution_count": 18,
   "metadata": {
    "collapsed": true
   },
   "outputs": [],
   "source": [
    "#               master <- HEAD\n",
    "#                 |\n",
    "#                 V\n",
    "# 159f1c9 <---- 702bef8 <---- 26e644d\n",
    "#                                ^\n",
    "#                                |\n",
    "#                           new_branch"
   ]
  },
  {
   "cell_type": "code",
   "execution_count": 20,
   "metadata": {},
   "outputs": [
    {
     "name": "stdout",
     "output_type": "stream",
     "text": [
      "Updating 702bef8..26e644d\n",
      "Fast-forward\n",
      " 3.txt | 1 +\n",
      " 1 file changed, 1 insertion(+)\n",
      " create mode 100644 3.txt\n"
     ]
    }
   ],
   "source": [
    "! git merge new_branch"
   ]
  },
  {
   "cell_type": "code",
   "execution_count": 6,
   "metadata": {
    "collapsed": true
   },
   "outputs": [],
   "source": [
    "#                           new_branch, master <- HEAD\n",
    "#                                |\n",
    "#                                V\n",
    "# 159f1c9 <---- 702bef8 <---- 26e644d"
   ]
  },
  {
   "cell_type": "markdown",
   "metadata": {},
   "source": [
    "#### 2) Пусть теперь ветка new_branch ссылается на f3eb284, добавим в файл 1.txt новую строку и закоммитим изменения:"
   ]
  },
  {
   "cell_type": "code",
   "execution_count": 7,
   "metadata": {
    "collapsed": true
   },
   "outputs": [],
   "source": [
    "#                             master <- HEAD\n",
    "#                                |\n",
    "#                                V\n",
    "# 159f1c9 <---- 702bef8 <---- 26e644d\n",
    "#    ^\n",
    "#    |\n",
    "# 679d9f4 \n",
    "#    ^\n",
    "#    |\n",
    "# new_branch"
   ]
  },
  {
   "cell_type": "code",
   "execution_count": 21,
   "metadata": {},
   "outputs": [
    {
     "name": "stdout",
     "output_type": "stream",
     "text": [
      "Merge made by the 'recursive' strategy.\n",
      " 1.txt | 3 ++-\n",
      " 1 file changed, 2 insertions(+), 1 deletion(-)\n"
     ]
    }
   ],
   "source": [
    "! git merge new_branch"
   ]
  },
  {
   "cell_type": "code",
   "execution_count": 10,
   "metadata": {
    "collapsed": true
   },
   "outputs": [],
   "source": [
    "#                                         master <- HEAD\n",
    "#                                              |\n",
    "#                                              V\n",
    "# 159f1c9 <---- 702bef8 <---- 26e644d <---- 73cba1b\n",
    "#    ^\n",
    "#    |\n",
    "# 679d9f4 \n",
    "#    ^\n",
    "#    |\n",
    "# new_branch"
   ]
  },
  {
   "cell_type": "markdown",
   "metadata": {},
   "source": [
    "Стратегии слияния бывают следующего типа:\n",
    "* resolve,\n",
    "* recursive,\n",
    "* ours, \n",
    "* octopus,\n",
    "* subtree.\n",
    "\n",
    "Выбор стратегии производится с помощью ключа -s."
   ]
  },
  {
   "cell_type": "markdown",
   "metadata": {},
   "source": [
    "#### 3) По-разному изменим 1.txt в master и new_branch:"
   ]
  },
  {
   "cell_type": "code",
   "execution_count": 27,
   "metadata": {
    "collapsed": true
   },
   "outputs": [],
   "source": [
    "#                         master <- HEAD                \n",
    "#                            |\n",
    "#                            V\n",
    "# 159f1c9 <---- ... <---- 0c8347a  1.txt (v2)            v1: I want to change file\n",
    "#    ^                                                   v2: I like conflicts\n",
    "#    |\n",
    "# 679d9f4\n",
    "#    ^\n",
    "#    |\n",
    "# f3bbc56   1.txt (v1)\n",
    "#    ^\n",
    "#    |\n",
    "# new_branch"
   ]
  },
  {
   "cell_type": "code",
   "execution_count": 22,
   "metadata": {},
   "outputs": [
    {
     "name": "stdout",
     "output_type": "stream",
     "text": [
      "Auto-merging 1.txt\n",
      "CONFLICT (content): Merge conflict in 1.txt\n",
      "Automatic merge failed; fix conflicts and then commit the result.\n"
     ]
    }
   ],
   "source": [
    "! git merge new_branch"
   ]
  },
  {
   "cell_type": "code",
   "execution_count": 26,
   "metadata": {},
   "outputs": [
    {
     "name": "stdout",
     "output_type": "stream",
     "text": [
      "<<<<<<< HEAD\n",
      "I like conflicts\n",
      "=======\n",
      "I want to change that file\n",
      ">>>>>>> new_branch\n",
      "\n"
     ]
    }
   ],
   "source": [
    "with open(\"1.txt\", 'r') as f:\n",
    "    print(f.read())"
   ]
  },
  {
   "cell_type": "markdown",
   "metadata": {},
   "source": [
    "# 2. git mergetool"
   ]
  },
  {
   "cell_type": "markdown",
   "metadata": {},
   "source": [
    "<i> Позволяет в графическом режиме разрешать конфликты. </i>"
   ]
  },
  {
   "cell_type": "markdown",
   "metadata": {},
   "source": [
    "* Base: общий предок\n",
    "* Local: версия в текущей ветке (master)\n",
    "* Remote: версия в ветка, откуда хотим влить изменения (new_branch)"
   ]
  },
  {
   "cell_type": "markdown",
   "metadata": {},
   "source": [
    "<img src='001.png' width=\"900\">"
   ]
  },
  {
   "cell_type": "markdown",
   "metadata": {},
   "source": [
    "После разрешения всех конфликтов делаем коммит:"
   ]
  },
  {
   "cell_type": "code",
   "execution_count": 29,
   "metadata": {
    "collapsed": true
   },
   "outputs": [],
   "source": [
    "#                         master <- HEAD                \n",
    "#                            |\n",
    "#                            V\n",
    "# 159f1c9 <---- ... <---- b1e55c1  1.txt (v3)      \n",
    "#    ^                                          \n",
    "#    |                                                  \n",
    "# 679d9f4\n",
    "#    ^\n",
    "#    |\n",
    "# f3bbc56   1.txt (v1)\n",
    "#    ^\n",
    "#    |\n",
    "# new_branch"
   ]
  },
  {
   "cell_type": "markdown",
   "metadata": {},
   "source": [
    "# 3. git reset"
   ]
  },
  {
   "cell_type": "markdown",
   "metadata": {},
   "source": [
    "<i> Позволяет отменять нежелательные изменения. </i>"
   ]
  },
  {
   "cell_type": "markdown",
   "metadata": {},
   "source": [
    "Рассмотрим следующий пример:"
   ]
  },
  {
   "cell_type": "markdown",
   "metadata": {},
   "source": [
    "<img src='002.png' width=\"500\">"
   ]
  },
  {
   "cell_type": "markdown",
   "metadata": {},
   "source": [
    "<b> Вариант 1: </b>"
   ]
  },
  {
   "cell_type": "code",
   "execution_count": null,
   "metadata": {
    "collapsed": true
   },
   "outputs": [],
   "source": [
    "# git reset -- soft 9e5e6a4"
   ]
  },
  {
   "cell_type": "markdown",
   "metadata": {},
   "source": [
    "или"
   ]
  },
  {
   "cell_type": "code",
   "execution_count": 35,
   "metadata": {
    "collapsed": true
   },
   "outputs": [],
   "source": [
    "# git reset -- soft HEAD~"
   ]
  },
  {
   "cell_type": "markdown",
   "metadata": {},
   "source": [
    "<img src='003.png' width=\"500\">"
   ]
  },
  {
   "cell_type": "markdown",
   "metadata": {},
   "source": [
    "<b> Вариант 2: </b>"
   ]
  },
  {
   "cell_type": "code",
   "execution_count": 36,
   "metadata": {
    "collapsed": true
   },
   "outputs": [],
   "source": [
    "# git reset HEAD~"
   ]
  },
  {
   "cell_type": "markdown",
   "metadata": {},
   "source": [
    "или"
   ]
  },
  {
   "cell_type": "code",
   "execution_count": 37,
   "metadata": {
    "collapsed": true
   },
   "outputs": [],
   "source": [
    "# git reset --mixed HEAD~"
   ]
  },
  {
   "cell_type": "markdown",
   "metadata": {},
   "source": [
    "<img src='004.png' width=\"500\">"
   ]
  },
  {
   "cell_type": "markdown",
   "metadata": {},
   "source": [
    "<b> Вариант 3: </b>"
   ]
  },
  {
   "cell_type": "code",
   "execution_count": 40,
   "metadata": {
    "collapsed": true
   },
   "outputs": [],
   "source": [
    "# git reset --hard HEAD~"
   ]
  },
  {
   "cell_type": "markdown",
   "metadata": {},
   "source": [
    "<img src='005.png' width=\"500\">"
   ]
  },
  {
   "cell_type": "markdown",
   "metadata": {},
   "source": [
    "Важно отметить, что только указание этого флага (--hard) делает команду reset опасной, это один из немногих случаев, когда Git действительно удаляет данные. Все остальные вызовы reset легко отменить"
   ]
  },
  {
   "cell_type": "markdown",
   "metadata": {},
   "source": [
    "Итого, команда git reset выполняет 3 операции:\n",
    "* перемещает то, на что указывает HEAD <b>(--soft)</b>,\n",
    "* обновляет индекс <b>(--mixed)</b>,\n",
    "* обновляет рабочий каталог <b>(--hard)</b>."
   ]
  },
  {
   "cell_type": "markdown",
   "metadata": {},
   "source": [
    "# 4. git rebase"
   ]
  },
  {
   "cell_type": "markdown",
   "metadata": {},
   "source": [
    "<img src='006.png' width=\"500\">"
   ]
  },
  {
   "cell_type": "code",
   "execution_count": null,
   "metadata": {
    "collapsed": true
   },
   "outputs": [],
   "source": [
    "# git rebase --onto master server client"
   ]
  },
  {
   "cell_type": "markdown",
   "metadata": {},
   "source": [
    "<img src='007.png' width=\"500\">"
   ]
  },
  {
   "cell_type": "markdown",
   "metadata": {},
   "source": [
    "# 4*. git rebase vs git merge"
   ]
  },
  {
   "cell_type": "code",
   "execution_count": null,
   "metadata": {
    "collapsed": true
   },
   "outputs": [],
   "source": []
  }
 ],
 "metadata": {
  "kernelspec": {
   "display_name": "Python 3",
   "language": "python",
   "name": "python3"
  },
  "language_info": {
   "codemirror_mode": {
    "name": "ipython",
    "version": 3
   },
   "file_extension": ".py",
   "mimetype": "text/x-python",
   "name": "python",
   "nbconvert_exporter": "python",
   "pygments_lexer": "ipython3",
   "version": "3.5.2"
  }
 },
 "nbformat": 4,
 "nbformat_minor": 2
}
