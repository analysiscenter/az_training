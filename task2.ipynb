{
 "cells": [
  {
   "cell_type": "markdown",
   "metadata": {},
   "source": [
    "Перед нами стоит задача в распозновании рукописных цифр от 0 до 9.\n",
    "\n",
    "Набор данных MNIST cостоит из 70000 изображений:60000 обучающих (которые нужно использовать для создания модели) и 10000 тестовых (которые применяются для тестирования нашей модели), в данной задаче  мы решили разбить в таком соотношении.\n",
    "\n",
    "Нам нужно применить логистическую регрессию к нашим данным.\n",
    "\n",
    "1. Опишим наши данные\n",
    "   \n",
    "   X-это массив размера 70000 на 784, который представляет собой 70000 изображение рукописных цифр, а X[i][j] представляет интенсивность пикселя. Так же стоит отметить, что интенсивность всегда имеет некоторое действительно число от 0 до 1, в связи с этим мы в дальнейшем будем делать соответствующие операции, чтобы нормализовать изображение. \n",
    " \n",
    "   Y-это одномерный массив меток, состоящий из 70000 значений от 0 до 9.\n",
    " \n",
    "\n",
    "2. Эту задачу можно решить с помощью логистической регрессии, которая содержит в себе более чем 2 класса зависимых переменных. \n",
    "\n",
    "Но перед этим разберемся с логистической регрессией, которая содержит в себе 2 зависимые переменные, а потом уже перейдем к множественной.\n",
    "\n",
    "Для начала запишем выражение, которое возвращает значения из интервала от 0 до 1 для всех X:\n",
    "$$~p(X)=\\frac{e^{w*X^t}}{1+e^{w*X^t}}$$\n",
    "Это $\\sigma(w*X^t)$, где $\\sigma$ является логистической функцией.\n",
    "\n",
    "Теперь преобразуем ее в след.вид:\n",
    "$${e^{w*X^t}}=\\frac{~p(X)}{1-~p(X)}$$\n",
    "\n",
    "$\\frac{~p(X)}{1-~p(X)}$-это называется риск наступления какого-либо события, которое принимает значения от 0 до бесконечности (если значение ближе к нулю, то шанс низкий, если ближе к бесконечности, то высокий).\n",
    "\n",
    "Теперь прологарифмируем обе части нашего уравнения:\n",
    "\n",
    "$$ln\\left(\\frac{~p(X)}{1-~p(X)}\\right)=(w*X^t)$$\n",
    "\n",
    "Правая часть линейна по X.\n",
    "\n",
    "Нужно оценить неизвестный вектор $w$.\n",
    "\n",
    "То есть мы попытаемся найти такую оценку $w$, которая при подставноки в модель для $~p(X)$ выводило число, которое близко к 0, если шанс высокий, а если низкий то ближе к 1. Для этого запишем ф-ию максимального правдоподобия.\n",
    "\n",
    "Запишем функцию  максимального правдоподобия:\n",
    "\n",
    "$$~L(w)=\\varPi_~P(x_i)*\\varPi~P(1-x_{i^{'}})$$\n",
    "\n",
    "(<font color='blue'>и под П(произведением)первой должны находиться i:y=1, а под вторым i^':y^'=0</font>)\n",
    "\n",
    "\n",
    "Метод правдоподобия говорит нам о том, что нужно максимизировать ф-ию правдоподобия.\n",
    "\n",
    "Прологарифмируем ф-ию правдоподобия и заметим, что это ее максимизация эквивалентна минимизации логарифмической функции, которая взята со знаком минус.Сделали мы это для того, чтобы в дальнейшем нам было легче считать производную (от суммы считать производную легче, чем от произведения). \n",
    "\n",
    "$$ln(~L(w))=ln((\\varPi_~P(x_i)*(\\varPi~P(1-x_{i^{'}}))$$ \n",
    "\n",
    "Данное выражение называется ф-ей логистической ошибки.\n",
    "\n",
    "Теперь перейдем к множественной логистической регрессии, по своей сути она не сильно отличается от 2-ух классовой.\n",
    "\n",
    "Пусть $Y$ содержит в себе не два значения, а некое $K$.\n",
    "\n",
    "Так как наша ф-ия линейно зависит Х, то теперь нам нужно, чтобы выражения от 1 до K-1 тоже были линейными, то есть:\n",
    "\n",
    "\n",
    "$$ln\\left(\\frac{~p(X)_{_~K}}{1-~p(X)_1}\\right)=(w_1*X^t)$$\n",
    "$$ln\\left(\\frac{~p(X)_{_~K}}{1-~p(X)_2}\\right)=(w_2*X^t)$$\n",
    "$$.$$\n",
    "$$.$$\n",
    "$$.$$\n",
    "$$ln\\left(\\frac{~p(X)_{_~K}}{1-~p(X)_{~K-1}}\\right)=(w_{k-1}*X^t)$$\n",
    "\n",
    "Прологарифмировав,получим функцию логистической ошибки."
   ]
  },
  {
   "cell_type": "code",
   "execution_count": 3,
   "metadata": {},
   "outputs": [],
   "source": [
    "import numpy as np\n",
    "from sklearn.datasets import fetch_mldata#это нам нужно для того, чтобы выгрузить наш датасет(так как он встроенный)\n",
    "\n",
    "%matplotlib inline\n",
    "\n",
    "import matplotlib\n",
    "import matplotlib.pyplot as plt#для \"показа\" изображений"
   ]
  },
  {
   "cell_type": "code",
   "execution_count": 4,
   "metadata": {},
   "outputs": [
    {
     "data": {
      "text/plain": [
       "{'DESCR': 'mldata.org dataset: mnist-original',\n",
       " 'COL_NAMES': ['label', 'data'],\n",
       " 'target': array([0., 0., 0., ..., 9., 9., 9.]),\n",
       " 'data': array([[0, 0, 0, ..., 0, 0, 0],\n",
       "        [0, 0, 0, ..., 0, 0, 0],\n",
       "        [0, 0, 0, ..., 0, 0, 0],\n",
       "        ...,\n",
       "        [0, 0, 0, ..., 0, 0, 0],\n",
       "        [0, 0, 0, ..., 0, 0, 0],\n",
       "        [0, 0, 0, ..., 0, 0, 0]], dtype=uint8)}"
      ]
     },
     "execution_count": 4,
     "metadata": {},
     "output_type": "execute_result"
    }
   ],
   "source": [
    "mnist = fetch_mldata('MNIST ORIGINAL')\n",
    "mnist"
   ]
  },
  {
   "cell_type": "code",
   "execution_count": 5,
   "metadata": {},
   "outputs": [],
   "source": [
    "X,y = mnist['data'], mnist[\"target\"]"
   ]
  },
  {
   "cell_type": "code",
   "execution_count": 146,
   "metadata": {},
   "outputs": [
    {
     "data": {
      "text/plain": [
       "(70000, 784)"
      ]
     },
     "execution_count": 146,
     "metadata": {},
     "output_type": "execute_result"
    }
   ],
   "source": [
    "X.shape #узнаем размер нашего массива"
   ]
  },
  {
   "cell_type": "code",
   "execution_count": 157,
   "metadata": {},
   "outputs": [
    {
     "data": {
      "text/plain": [
       "253"
      ]
     },
     "execution_count": 157,
     "metadata": {},
     "output_type": "execute_result"
    }
   ],
   "source": [
    "X[800][657]"
   ]
  },
  {
   "cell_type": "code",
   "execution_count": 147,
   "metadata": {},
   "outputs": [
    {
     "data": {
      "text/plain": [
       "(70000,)"
      ]
     },
     "execution_count": 147,
     "metadata": {},
     "output_type": "execute_result"
    }
   ],
   "source": [
    "y.shape"
   ]
  },
  {
   "cell_type": "code",
   "execution_count": 55,
   "metadata": {
    "scrolled": true
   },
   "outputs": [
    {
     "name": "stdout",
     "output_type": "stream",
     "text": [
      "цифра 0 появляется 6903 раз\n",
      "цифра 1 появляется 7877 раз\n",
      "цифра 2 появляется 6990 раз\n",
      "цифра 3 появляется 7141 раз\n",
      "цифра 4 появляется 6824 раз\n",
      "цифра 5 появляется 6313 раз\n",
      "цифра 6 появляется 6876 раз\n",
      "цифра 7 появляется 7293 раз\n",
      "цифра 8 появляется 6825 раз\n",
      "цифра 9 появляется 6958 раз\n"
     ]
    }
   ],
   "source": [
    "#посичтаем сколько раз какая цифра появляется в нашем датасете\n",
    "for i in range(10):\n",
    "    print (\"цифра\", i, \"появляется\", np.count_nonzero(y == i), \"раз\")"
   ]
  },
  {
   "cell_type": "code",
   "execution_count": 41,
   "metadata": {
    "scrolled": true
   },
   "outputs": [
    {
     "data": {
      "image/png": "[encoded data removed]",
      "text/plain": [
       "<Figure size 432x288 with 1 Axes>"
      ]
     },
     "metadata": {},
     "output_type": "display_data"
    }
   ],
   "source": [
    "def plot_digit(digit1):\n",
    "    digit1_image = digit1.reshape(28,28)\n",
    "    plt.imshow(digit1_image, cmap = matplotlib.cm.binary)\n",
    "    plt.axis(\"off\")\n",
    "    plt.show()\n",
    "plot_digit(X[60081])"
   ]
  },
  {
   "cell_type": "code",
   "execution_count": 28,
   "metadata": {},
   "outputs": [
    {
     "data": {
      "text/plain": [
       "0.0"
      ]
     },
     "execution_count": 28,
     "metadata": {},
     "output_type": "execute_result"
    }
   ],
   "source": [
    "y[60081]"
   ]
  },
  {
   "cell_type": "code",
   "execution_count": 29,
   "metadata": {},
   "outputs": [],
   "source": [
    "X_01= X[np.any([y == 0,y == 1], axis = 0)]\n",
    "y_01= y[np.any([y == 0,y == 1], axis = 0)]"
   ]
  },
  {
   "cell_type": "code",
   "execution_count": 36,
   "metadata": {},
   "outputs": [
    {
     "data": {
      "text/plain": [
       "(14780, 784)"
      ]
     },
     "execution_count": 36,
     "metadata": {},
     "output_type": "execute_result"
    }
   ],
   "source": [
    "X_01.shape#для начала узнаем снова размер нашего датасета,чтобы проверить на что он будет выводить"
   ]
  },
  {
   "cell_type": "code",
   "execution_count": 37,
   "metadata": {
    "scrolled": true
   },
   "outputs": [
    {
     "data": {
      "image/png": "[encoded data removed]",
      "text/plain": [
       "<Figure size 432x288 with 1 Axes>"
      ]
     },
     "metadata": {},
     "output_type": "display_data"
    },
    {
     "name": "stdout",
     "output_type": "stream",
     "text": [
      "0.0\n"
     ]
    }
   ],
   "source": [
    "plot_digit(X_01[1478])\n",
    "print(y_01[1478])"
   ]
  },
  {
   "cell_type": "code",
   "execution_count": 38,
   "metadata": {},
   "outputs": [
    {
     "data": {
      "image/png": "[encoded data removed]",
      "text/plain": [
       "<Figure size 432x288 with 1 Axes>"
      ]
     },
     "metadata": {},
     "output_type": "display_data"
    },
    {
     "name": "stdout",
     "output_type": "stream",
     "text": [
      "1.0\n"
     ]
    }
   ],
   "source": [
    "plot_digit(X_01[6008])\n",
    "print(y_01[6008])"
   ]
  },
  {
   "cell_type": "code",
   "execution_count": 93,
   "metadata": {},
   "outputs": [
    {
     "name": "stdout",
     "output_type": "stream",
     "text": [
      "цифра 0 встречается- 6903\n",
      "цифра 1 встречается- 7877\n"
     ]
    }
   ],
   "source": [
    "print(\"цифра 0 встречается-\",np.count_nonzero(y_01 == 0))\n",
    "print(\"цифра 1 встречается-\",np.count_nonzero(y_01 == 1))"
   ]
  },
  {
   "cell_type": "markdown",
   "metadata": {},
   "source": [
    "Перемешаем элементы теперь и разделим модель на тренировочный и тестовый датасеты соответственно."
   ]
  },
  {
   "cell_type": "code",
   "execution_count": 70,
   "metadata": {},
   "outputs": [
    {
     "name": "stdout",
     "output_type": "stream",
     "text": [
      "Размер X_train (11824, 784)\n",
      "Размер X_test  (2956, 784)\n"
     ]
    }
   ],
   "source": [
    "shuffle_index = np.random.permutation(X_01.shape[0])\n",
    "X_01_shuffled, y_01_shuffled = X_01[shuffle_index], y_01[shuffle_index]\n",
    "\n",
    "train_proportion = 0.8\n",
    "train_test_cut = int(len(X_01)*train_proportion)\n",
    "\n",
    "X_train=X_01_shuffled[:train_test_cut]\n",
    "X_test=X_01_shuffled[train_test_cut:]\n",
    "y_train=y_01_shuffled[:train_test_cut]\n",
    "y_test =y_01_shuffled[train_test_cut:]\n",
    "\n",
    "print(\"Размер X_train\", X_train.shape)\n",
    "print(\"Размер X_test \", X_test.shape)"
   ]
  },
  {
   "cell_type": "code",
   "execution_count": 117,
   "metadata": {},
   "outputs": [],
   "source": [
    "X_train_normalised = X_train/255.0\n",
    "X_test_normalised = X_test/255.0"
   ]
  },
  {
   "cell_type": "code",
   "execution_count": 118,
   "metadata": {},
   "outputs": [
    {
     "name": "stdout",
     "output_type": "stream",
     "text": [
      "(784, 11824)\n",
      "(1, 11824)\n",
      "(784, 2956)\n",
      "(1, 2956)\n",
      "Величина тренировочного датасета 11824\n",
      "Величина выгруженного датасета 2956\n"
     ]
    }
   ],
   "source": [
    "X_train_tr = X_train_normalised.transpose()\n",
    "y_train_tr = y_train.reshape(1,y_train.shape[0])\n",
    "X_test_tr = X_test_normalised.transpose()\n",
    "y_test_tr = y_test.reshape(1,y_test.shape[0])\n",
    "\n",
    "print(X_train_tr.shape)\n",
    "print(y_train_tr.shape)\n",
    "print(X_test_tr.shape)\n",
    "print(y_test_tr.shape)\n",
    "\n",
    "dim_train = X_train_tr.shape[1]\n",
    "dim_test = X_test_tr.shape[1]\n",
    "\n",
    "print(\"Величина тренировочного датасета\", dim_train)\n",
    "print(\"Величина выгруженного датасета\", dim_test)"
   ]
  },
  {
   "cell_type": "code",
   "execution_count": 124,
   "metadata": {
    "collapsed": true
   },
   "outputs": [
    {
     "data": {
      "image/png": "[encoded data removed]",
      "text/plain": [
       "<Figure size 432x288 with 1 Axes>"
      ]
     },
     "metadata": {},
     "output_type": "display_data"
    },
    {
     "name": "stdout",
     "output_type": "stream",
     "text": [
      "[0.]\n"
     ]
    },
    {
     "data": {
      "image/png": "[encoded data removed]",
      "text/plain": [
       "<Figure size 432x288 with 1 Axes>"
      ]
     },
     "metadata": {},
     "output_type": "display_data"
    },
    {
     "name": "stdout",
     "output_type": "stream",
     "text": [
      "[1.]\n"
     ]
    }
   ],
   "source": [
    "plot_digit(X_train_tr[:,1786])\n",
    "print(y_train_tr[:,1786])\n",
    "plot_digit(X_train_tr[:,1896])\n",
    "print(y_train_tr[:,1896])\n",
    "\n",
    "Xtrain = X_train_tr\n",
    "ytrain = y_train_tr\n",
    "Xtest = X_test_tr\n",
    "ytest = y_test_tr"
   ]
  },
  {
   "cell_type": "markdown",
   "metadata": {},
   "source": [
    "Логистическая ф-ия(сигмоидная) f(x)=1/(1 + exp(-x)) используется в логистической регрессии.\n",
    "\n",
    "\n",
    "\n",
    "\n",
    "\n",
    "В ней решается задача классификации с двумя классами (y=0 и y=1, где y — переменная, указывающая класс объекта), и делается предположение о том, что вероятность принадлежности объекта к одному из классов выражается через значения признаков этого объекта x_1,x_2,...,x_n (действительные числа)"
   ]
  },
  {
   "cell_type": "code",
   "execution_count": 120,
   "metadata": {},
   "outputs": [],
   "source": [
    "def sigmoid(x):\n",
    "    s= 1.0 / (1.0 + np.exp(-x))\n",
    "    return s"
   ]
  },
  {
   "cell_type": "markdown",
   "metadata": {},
   "source": [
    "выгрузка логистической регрессии"
   ]
  },
  {
   "cell_type": "code",
   "execution_count": 109,
   "metadata": {},
   "outputs": [],
   "source": [
    "from sklearn.linear_model import LogisticRegression"
   ]
  },
  {
   "cell_type": "code",
   "execution_count": 110,
   "metadata": {},
   "outputs": [],
   "source": [
    "logregressor = LogisticRegression()"
   ]
  },
  {
   "cell_type": "code",
   "execution_count": 128,
   "metadata": {},
   "outputs": [
    {
     "data": {
      "text/plain": [
       "LogisticRegression(C=1.0, class_weight=None, dual=False, fit_intercept=True,\n",
       "          intercept_scaling=1, max_iter=100, multi_class='ovr', n_jobs=1,\n",
       "          penalty='l2', random_state=None, solver='liblinear', tol=0.0001,\n",
       "          verbose=0, warm_start=False)"
      ]
     },
     "execution_count": 128,
     "metadata": {},
     "output_type": "execute_result"
    }
   ],
   "source": [
    "X1 = Xtest.T\n",
    "Y1 = ytest.T.ravel()\n",
    "\n",
    "logregressor.fit(X1,Y1)"
   ]
  },
  {
   "cell_type": "code",
   "execution_count": 122,
   "metadata": {},
   "outputs": [
    {
     "data": {
      "text/plain": [
       "1.0"
      ]
     },
     "execution_count": 122,
     "metadata": {},
     "output_type": "execute_result"
    }
   ],
   "source": [
    "logregressor.score(X1,Y1)"
   ]
  },
  {
   "cell_type": "code",
   "execution_count": 125,
   "metadata": {},
   "outputs": [
    {
     "data": {
      "text/plain": [
       "1.0"
      ]
     },
     "execution_count": 125,
     "metadata": {},
     "output_type": "execute_result"
    }
   ],
   "source": [
    "sum(logregressor.predict(X1) == Y1) / len(X1)"
   ]
  },
  {
   "cell_type": "markdown",
   "metadata": {},
   "source": [
    "То, что тут 1-это, скорее всего в корне неправильно, но я пока не очень поняла, как применять лог.регрессию к этим данным :("
   ]
  },
  {
   "cell_type": "code",
   "execution_count": 6,
   "metadata": {},
   "outputs": [],
   "source": [
    "import torch"
   ]
  },
  {
   "cell_type": "code",
   "execution_count": null,
   "metadata": {},
   "outputs": [],
   "source": []
  }
 ],
 "metadata": {
  "kernelspec": {
   "display_name": "Python 3",
   "language": "python",
   "name": "python3"
  },
  "language_info": {
   "codemirror_mode": {
    "name": "ipython",
    "version": 3
   },
   "file_extension": ".py",
   "mimetype": "text/x-python",
   "name": "python",
   "nbconvert_exporter": "python",
   "pygments_lexer": "ipython3",
   "version": "3.6.5"
  }
 },
 "nbformat": 4,
 "nbformat_minor": 2
}
