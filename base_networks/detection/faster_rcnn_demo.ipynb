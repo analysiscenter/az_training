{
 "cells": [
  {
   "cell_type": "code",
   "execution_count": 1,
   "metadata": {},
   "outputs": [],
   "source": [
    "import sys\n",
    "import numpy as np\n",
    "import matplotlib.pyplot as plt\n",
    "import matplotlib.patches as patches\n",
    "\n",
    "sys.path.append('../../dataset')\n",
    "sys.path.append('../classification/')\n",
    "\n",
    "from tqdm import tqdm\n",
    "from faster_rcnn import RPNModel\n",
    "from dataset.image import ImagesBatch\n",
    "from dataset import Dataset, DatasetIndex, B, V, C, Pipeline\n",
    "from detection_mnist import DetectionMnist\n",
    "%matplotlib inline"
   ]
  },
  {
   "cell_type": "code",
   "execution_count": 2,
   "metadata": {
    "collapsed": true
   },
   "outputs": [],
   "source": [
    "IMAGE_SHAPE = (64, 64)\n",
    "MNIST_PER_IMAGE = 5\n",
    "BATCH_SIZE = 64"
   ]
  },
  {
   "cell_type": "code",
   "execution_count": 3,
   "metadata": {
    "collapsed": true
   },
   "outputs": [],
   "source": [
    "ind = DatasetIndex(np.arange(65000))          \n",
    "mnist = Dataset(ind, batch_class=DetectionMnist)   \n",
    "mnist.cv_split([0.9, 0.1]) "
   ]
  },
  {
   "cell_type": "code",
   "execution_count": 4,
   "metadata": {
    "collapsed": true
   },
   "outputs": [],
   "source": [
    "placeholders_config = {\n",
    "                       'images': {'shape': IMAGE_SHAPE + (1,),\n",
    "                                 'dtype': 'float32',\n",
    "                                 'data_format': 'channels_last',\n",
    "                                 'name': 'reshaped_images'},\n",
    "                       }"
   ]
  },
  {
   "cell_type": "code",
   "execution_count": 5,
   "metadata": {},
   "outputs": [],
   "source": [
    "train_feed_dict = {'images': B('images'),\n",
    "                   'proposal_targets': B('clsf'),\n",
    "                   'bbox_targets': B('reg')}        \n",
    "\n",
    "test_feed_dict = {'images': B('images'),\n",
    "                   'proposal_targets': B('clsf'),\n",
    "                   'bbox_targets': B('reg')}  "
   ]
  },
  {
   "cell_type": "code",
   "execution_count": 6,
   "metadata": {},
   "outputs": [],
   "source": [
    "import tensorflow as tf\n",
    "from dataset.models.tf import TFModel\n",
    "\n",
    "class FastRCNNModel(TFModel):\n",
    "    \"\"\"LinkNet as TFModel\"\"\"\n",
    "    def _build(self, *args, **kwargs):\n",
    "        roi = tf.placeholder(dtype=tf.float32, shape=[None, 4])\n",
    "        \n",
    "        \n",
    "        net = tf.layers.dense(roi, 100)\n",
    "        net = tf.nn.relu(net)\n",
    "        net = tf.layers.dense(net, 100)\n",
    "        net = tf.nn.relu(net)\n",
    "        clsf = tf.layers.dense(net, 1)\n",
    "        reg = tf.layers.dense(reg, 4)"
   ]
  },
  {
   "cell_type": "code",
   "execution_count": 22,
   "metadata": {},
   "outputs": [],
   "source": [
    "ppl_cfg = dict(rpn=dict(output_map_shape=None))\n",
    "train_pp = (Pipeline(config=ppl_cfg)\n",
    "            .init_model('static', RPNModel, 'rpn', config={'inputs': placeholders_config,\n",
    "                                                           'batch_norm': True,\n",
    "                                                           'optimizer': 'Adam',\n",
    "                                                           })\n",
    "            .init_variable('loss_history', init_on_each_run=list)\n",
    "            .init_variable('IoU_predictions', init_on_each_run=list)\n",
    "            .load_images()\n",
    "            .generate_multimnist_images(image_shape=IMAGE_SHAPE, max_dig=MNIST_PER_IMAGE)\n",
    "            .create_anchors(IMAGE_SHAPE)\n",
    "            .create_reg_cls()\n",
    "            .param_reg()\n",
    "            .train_model('rpn', \n",
    "                         fetches=['loss', 'reg_loss', 'cls_loss'],\n",
    "                         feed_dict=train_feed_dict,\n",
    "                         save_to=V('loss_history'), \n",
    "                         mode='a'\n",
    "            ))\n",
    "train_pp = train_pp << mnist.train"
   ]
  },
  {
   "cell_type": "code",
   "execution_count": 20,
   "metadata": {},
   "outputs": [],
   "source": [
    "test_pp = (Pipeline(config=ppl_cfg)\n",
    "            .import_model('rpn', train_pp)\n",
    "            .init_variable('loss_history', init_on_each_run=list)\n",
    "            .load_images()\n",
    "            .generate_multimnist_images(image_shape=IMAGE_SHAPE, max_dig=MNIST_PER_IMAGE)\n",
    "            .create_anchors(IMAGE_SHAPE)\n",
    "            .create_reg_cls()\n",
    "            .param_reg()\n",
    "            .predict_model('rpn', \n",
    "                           fetches=['RoI', 'IoU'],\n",
    "                           feed_dict=test_feed_dict,\n",
    "                           save_to=[B('roi_predictions'), B('iou_predictions')],\n",
    "                           )\n",
    "            .predict_model('rpn', \n",
    "                         fetches=['loss', 'reg_loss', 'cls_loss'],\n",
    "                         feed_dict=train_feed_dict,\n",
    "                         save_to=V('loss_history'), \n",
    "                         mode='a')\n",
    "            .unparam_predictions())\n",
    "test_pp = test_pp << mnist.test"
   ]
  },
  {
   "cell_type": "code",
   "execution_count": 23,
   "metadata": {},
   "outputs": [
    {
     "name": "stderr",
     "output_type": "stream",
     "text": [
      "100%|████████████████████████████████████████████████████████████████████████████████| 100/100 [00:52<00:00,  1.92it/s]\n"
     ]
    }
   ],
   "source": [
    "for i in tqdm(range(100)):\n",
    "    train_pp.next_batch(BATCH_SIZE, n_epochs=None, shuffle=True)\n",
    "    #test_pp.next_batch(BATCH_SIZE, n_epochs=None, shuffle=True)"
   ]
  },
  {
   "cell_type": "code",
   "execution_count": 10,
   "metadata": {},
   "outputs": [
    {
     "ename": "IndexError",
     "evalue": "too many indices for array",
     "output_type": "error",
     "traceback": [
      "\u001b[1;31m---------------------------------------------------------------------------\u001b[0m",
      "\u001b[1;31mIndexError\u001b[0m                                Traceback (most recent call last)",
      "\u001b[1;32m<ipython-input-10-7098ef78d92a>\u001b[0m in \u001b[0;36m<module>\u001b[1;34m()\u001b[0m\n\u001b[0;32m      3\u001b[0m \u001b[0mtotal_loss\u001b[0m \u001b[1;33m=\u001b[0m \u001b[0mnp\u001b[0m\u001b[1;33m.\u001b[0m\u001b[0marray\u001b[0m\u001b[1;33m(\u001b[0m\u001b[0mtrain_pp\u001b[0m\u001b[1;33m.\u001b[0m\u001b[0mget_variable\u001b[0m\u001b[1;33m(\u001b[0m\u001b[1;34m'loss_history'\u001b[0m\u001b[1;33m)\u001b[0m\u001b[1;33m)\u001b[0m\u001b[1;33m[\u001b[0m\u001b[1;33m:\u001b[0m\u001b[1;33m,\u001b[0m\u001b[1;36m0\u001b[0m\u001b[1;33m]\u001b[0m\u001b[1;33m\u001b[0m\u001b[0m\n\u001b[0;32m      4\u001b[0m \u001b[1;33m\u001b[0m\u001b[0m\n\u001b[1;32m----> 5\u001b[1;33m \u001b[0mtest_reg_loss\u001b[0m \u001b[1;33m=\u001b[0m \u001b[0mnp\u001b[0m\u001b[1;33m.\u001b[0m\u001b[0marray\u001b[0m\u001b[1;33m(\u001b[0m\u001b[0mtest_pp\u001b[0m\u001b[1;33m.\u001b[0m\u001b[0mget_variable\u001b[0m\u001b[1;33m(\u001b[0m\u001b[1;34m'loss_history'\u001b[0m\u001b[1;33m)\u001b[0m\u001b[1;33m)\u001b[0m\u001b[1;33m[\u001b[0m\u001b[1;33m:\u001b[0m\u001b[1;33m,\u001b[0m\u001b[1;36m1\u001b[0m\u001b[1;33m]\u001b[0m\u001b[1;33m\u001b[0m\u001b[0m\n\u001b[0m\u001b[0;32m      6\u001b[0m \u001b[0mtest_cls_loss\u001b[0m \u001b[1;33m=\u001b[0m \u001b[0mnp\u001b[0m\u001b[1;33m.\u001b[0m\u001b[0marray\u001b[0m\u001b[1;33m(\u001b[0m\u001b[0mtest_pp\u001b[0m\u001b[1;33m.\u001b[0m\u001b[0mget_variable\u001b[0m\u001b[1;33m(\u001b[0m\u001b[1;34m'loss_history'\u001b[0m\u001b[1;33m)\u001b[0m\u001b[1;33m)\u001b[0m\u001b[1;33m[\u001b[0m\u001b[1;33m:\u001b[0m\u001b[1;33m,\u001b[0m\u001b[1;36m2\u001b[0m\u001b[1;33m]\u001b[0m\u001b[1;33m\u001b[0m\u001b[0m\n\u001b[0;32m      7\u001b[0m \u001b[0mtest_total_loss\u001b[0m \u001b[1;33m=\u001b[0m \u001b[0mnp\u001b[0m\u001b[1;33m.\u001b[0m\u001b[0marray\u001b[0m\u001b[1;33m(\u001b[0m\u001b[0mtest_pp\u001b[0m\u001b[1;33m.\u001b[0m\u001b[0mget_variable\u001b[0m\u001b[1;33m(\u001b[0m\u001b[1;34m'loss_history'\u001b[0m\u001b[1;33m)\u001b[0m\u001b[1;33m)\u001b[0m\u001b[1;33m[\u001b[0m\u001b[1;33m:\u001b[0m\u001b[1;33m,\u001b[0m\u001b[1;36m0\u001b[0m\u001b[1;33m]\u001b[0m\u001b[1;33m\u001b[0m\u001b[0m\n",
      "\u001b[1;31mIndexError\u001b[0m: too many indices for array"
     ]
    }
   ],
   "source": [
    "reg_loss = np.array(train_pp.get_variable('loss_history'))[:,1]\n",
    "cls_loss = np.array(train_pp.get_variable('loss_history'))[:,2]\n",
    "total_loss = np.array(train_pp.get_variable('loss_history'))[:,0]\n",
    "\n",
    "#test_reg_loss = np.array(test_pp.get_variable('loss_history'))[:,1]\n",
    "#test_cls_loss = np.array(test_pp.get_variable('loss_history'))[:,2]\n",
    "#test_total_loss = np.array(test_pp.get_variable('loss_history'))[:,0]"
   ]
  },
  {
   "cell_type": "code",
   "execution_count": 24,
   "metadata": {},
   "outputs": [
    {
     "data": {
      "text/plain": [
       "<matplotlib.legend.Legend at 0x1d2f27b7a58>"
      ]
     },
     "execution_count": 24,
     "metadata": {},
     "output_type": "execute_result"
    },
    {
     "data": {
      "image/png": "[encoded data removed]",
      "text/plain": [
       "<matplotlib.figure.Figure at 0x1d25dd27828>"
      ]
     },
     "metadata": {},
     "output_type": "display_data"
    }
   ],
   "source": [
    "plt.plot(np.log(total_loss), label='Train loss')\n",
    "plt.plot(np.log(reg_loss), label='Train Reg loss')\n",
    "plt.plot(np.log(cls_loss), label='Train Cls loss')\n",
    "plt.legend()"
   ]
  },
  {
   "cell_type": "code",
   "execution_count": null,
   "metadata": {},
   "outputs": [],
   "source": [
    "plt.plot(np.log(test_total_loss), label='Test loss')\n",
    "plt.plot(np.log(test_reg_loss), label='Test Reg loss')\n",
    "plt.plot(np.log(test_cls_loss), label='Test Cls loss')\n",
    "plt.legend()"
   ]
  },
  {
   "cell_type": "code",
   "execution_count": null,
   "metadata": {},
   "outputs": [],
   "source": [
    "batch = test_pp.next_batch(BATCH_SIZE, n_epochs=None)"
   ]
  },
  {
   "cell_type": "code",
   "execution_count": null,
   "metadata": {},
   "outputs": [],
   "source": [
    "i = 1\n",
    "im = batch.data.images[i]\n",
    "bboxes = batch.data.bboxes[i]\n",
    "\n",
    "fig, ax = plt.subplots(1)\n",
    "\n",
    "ax.imshow(im)\n",
    "\n",
    "for bbox in bboxes:    \n",
    "    rect = patches.Rectangle((bbox[1], bbox[0]), bbox[2], bbox[3] ,linewidth=3,edgecolor='r',facecolor='none')\n",
    "    ax.add_patch(rect)\n",
    "plt.title('True bboxes')\n",
    "plt.show()"
   ]
  },
  {
   "cell_type": "code",
   "execution_count": null,
   "metadata": {},
   "outputs": [],
   "source": [
    "i = 10\n",
    "im = batch.data.images[i]\n",
    "bboxes = batch.data.anchors[batch.data.clsf[i] == 1]\n",
    "\n",
    "fig, ax = plt.subplots(1)\n",
    "\n",
    "ax.imshow(im)\n",
    "\n",
    "for bbox in bboxes:    \n",
    "    rect = patches.Rectangle((bbox[1], bbox[0]), bbox[2], bbox[3] ,linewidth=3,edgecolor='r',facecolor='none')\n",
    "    ax.add_patch(rect)\n",
    "plt.title('Best anchors')\n",
    "plt.show()"
   ]
  },
  {
   "cell_type": "code",
   "execution_count": null,
   "metadata": {},
   "outputs": [],
   "source": [
    "batch.data.roi_predictions.shape"
   ]
  },
  {
   "cell_type": "code",
   "execution_count": null,
   "metadata": {},
   "outputs": [],
   "source": [
    "for i in range(10):\n",
    "    im = batch.data.images[i]\n",
    "    bboxes = batch.data.roi_predictions[i]\n",
    "    selected_RoI = batch.data.iou_predictions[i]\n",
    "\n",
    "    fig, ax = plt.subplots(1)\n",
    "\n",
    "    ax.imshow(im)\n",
    "\n",
    "    for bbox in bboxes[selected_RoI > 0.3]:    \n",
    "        rect = patches.Rectangle((bbox[1], bbox[0]), bbox[2], bbox[3], linewidth=3, edgecolor='r', facecolor='none')\n",
    "        ax.add_patch(rect)\n",
    "    plt.title('Predictions')\n",
    "    plt.show()"
   ]
  },
  {
   "cell_type": "code",
   "execution_count": null,
   "metadata": {},
   "outputs": [],
   "source": [
    "plt.imshow(batch.data.images[0])"
   ]
  },
  {
   "cell_type": "code",
   "execution_count": null,
   "metadata": {},
   "outputs": [],
   "source": [
    "roi = list(filter(lambda x: batch.data.iou_predictions.reshape(-1)[x[0]] > 0.3, enumerate(batch.data.roi)))\n",
    "plt.imshow(roi[5][1])"
   ]
  },
  {
   "cell_type": "code",
   "execution_count": null,
   "metadata": {},
   "outputs": [],
   "source": [
    "batch.data.fastrcnn_reg.shape"
   ]
  },
  {
   "cell_type": "code",
   "execution_count": null,
   "metadata": {
    "collapsed": true
   },
   "outputs": [],
   "source": []
  },
  {
   "cell_type": "code",
   "execution_count": null,
   "metadata": {},
   "outputs": [],
   "source": []
  },
  {
   "cell_type": "code",
   "execution_count": null,
   "metadata": {
    "collapsed": true
   },
   "outputs": [],
   "source": []
  }
 ],
 "metadata": {
  "kernelspec": {
   "display_name": "Python 3",
   "language": "python",
   "name": "python3"
  },
  "language_info": {
   "codemirror_mode": {
    "name": "ipython",
    "version": 3
   },
   "file_extension": ".py",
   "mimetype": "text/x-python",
   "name": "python",
   "nbconvert_exporter": "python",
   "pygments_lexer": "ipython3",
   "version": "3.5.2"
  }
 },
 "nbformat": 4,
 "nbformat_minor": 2
}
