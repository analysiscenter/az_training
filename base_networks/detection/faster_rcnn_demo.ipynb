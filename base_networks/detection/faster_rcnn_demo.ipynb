{
 "cells": [
  {
   "cell_type": "code",
   "execution_count": 1,
   "metadata": {},
   "outputs": [],
   "source": [
    "import sys\n",
    "import numpy as np\n",
    "import matplotlib.pyplot as plt\n",
    "import matplotlib.patches as patches\n",
    "\n",
    "sys.path.append('..')\n",
    "\n",
    "from dataset import Dataset, DatasetIndex, B, V\n",
    "from detection_mnist import DetectionMnist\n",
    "from faster_rcnn import FRCNNModel\n",
    "%matplotlib inline"
   ]
  },
  {
   "cell_type": "code",
   "execution_count": 2,
   "metadata": {
    "collapsed": true
   },
   "outputs": [],
   "source": [
    "IMAGE_SHAPE = (128, 256)"
   ]
  },
  {
   "cell_type": "code",
   "execution_count": 3,
   "metadata": {
    "collapsed": true
   },
   "outputs": [],
   "source": [
    "ind = DatasetIndex(np.arange(1000))          # index for images\n",
    "mnist = Dataset(ind, batch_class=DetectionMnist)   # Dataset with transform actions in NoisedMnist class\n",
    "mnist.cv_split([0.9, 0.1])                      # divide it into train and test"
   ]
  },
  {
   "cell_type": "code",
   "execution_count": 33,
   "metadata": {},
   "outputs": [],
   "source": [
    "import sys\n",
    "import tensorflow as tf\n",
    "\n",
    "sys.path.append('../task_03')\n",
    "\n",
    "from dataset.dataset.models.tf.layers import conv_block\n",
    "from dataset.dataset.models.tf import TFModel\n",
    "from vgg import VGGModel\n",
    "\n",
    "class FRCNNModel(TFModel):\n",
    "    \"\"\"LinkNet as TFModel\"\"\"\n",
    "    def _build(self, inp1, inp2, *args, **kwargs):\n",
    "\n",
    "        #n_classes = self.num_channels('masks')\n",
    "        data_format = self.data_format('images')\n",
    "        dim = self.spatial_dim('images')\n",
    "        b_norm = self.get_from_config('batch_norm', True)\n",
    "\n",
    "        conv = {'data_format': data_format}\n",
    "        batch_norm = {'momentum': 0.1}\n",
    "\n",
    "        kwargs = {'conv': conv, 'batch_norm': batch_norm}\n",
    "        \n",
    "        inp = inp2['images']\n",
    "        with tf.variable_scope('FRCNN'): # pylint: disable=not-context-manager\n",
    "            net = VGGModel.fully_conv_block(dim, inp, b_norm, 'VGG6', **kwargs)\n",
    "            net = conv_block(dim, net, 512, 3, 'ca', **kwargs)\n",
    "            reg = conv_block(dim, net, 4*9, 1, 'ca', **kwargs)\n",
    "            cls = conv_block(dim, net, 1*9, 1, 'ca', **kwargs)\n",
    "\n",
    "        reg = tf.reshape(reg, [-1, 4608, 4], name='RoI')\n",
    "        cls = tf.reshape(cls, [-1, 4608], name='IoU')\n",
    "        true_cls = tf.placeholder(tf.int32, shape = [None, 4608], name='proposal_targets')\n",
    "        true_reg = tf.placeholder(tf.float32, shape = [None, 4608, 4], name='bbox_targets')\n",
    "        \n",
    "        loss = self.rpn_loss(reg, cls, true_reg, true_cls)\n",
    "        loss = tf.identity(loss, name='loss')\n",
    "        tf.losses.add_loss(loss)\n",
    "    \n",
    "    def rpn_loss(self, reg, cls, true_reg, true_cls):\n",
    "        print(true_cls, cls)\n",
    "        cls_loss = tf.nn.softmax_cross_entropy_with_logits(labels=true_cls, logits=cls)\n",
    "        cls_loss = tf.reduce_mean(cls_loss, axis=-1)\n",
    "        \n",
    "        sums = tf.reduce_sum((true_reg - reg) ** 2, axis=-1)\n",
    "        \n",
    "        reg_mask = tf.cast(true_cls, dtype=tf.float32)\n",
    "\n",
    "        reg_mask = tf.reshape(reg_mask, shape=[-1, 4608])\n",
    "\n",
    "        reg_loss = sums * reg_mask\n",
    "        reg_loss = tf.reduce_mean(reg_loss, axis=-1)\n",
    "        \n",
    "        loss = cls_loss + reg_loss\n",
    "        loss = tf.reduce_mean(loss)\n",
    "        return loss"
   ]
  },
  {
   "cell_type": "code",
   "execution_count": 34,
   "metadata": {
    "collapsed": true
   },
   "outputs": [],
   "source": [
    "placeholders_config = {\n",
    "                       'images': {'shape': IMAGE_SHAPE + (1,),\n",
    "                                 'dtype': 'float32',\n",
    "                                 'data_format': 'channels_last',\n",
    "                                 'name': 'reshaped_images'},\n",
    "                       }"
   ]
  },
  {
   "cell_type": "code",
   "execution_count": 35,
   "metadata": {
    "collapsed": true
   },
   "outputs": [],
   "source": [
    "model_config = {'inputs': placeholders_config,\n",
    "                'batch_norm': False,\n",
    "                'optimizer': 'Adam'}"
   ]
  },
  {
   "cell_type": "code",
   "execution_count": 36,
   "metadata": {},
   "outputs": [],
   "source": [
    "train_feed_dict = {'images': B('images'),\n",
    "                   'proposal_targets': B('clsf'),\n",
    "                   'bbox_targets': B('reg')}        \n",
    "\n",
    "test_feed_dict = {'images': B('images'),\n",
    "                   'proposal_targets': B('clsf'),\n",
    "                   'bbox_targets': B('reg')}  "
   ]
  },
  {
   "cell_type": "code",
   "execution_count": 37,
   "metadata": {},
   "outputs": [
    {
     "name": "stdout",
     "output_type": "stream",
     "text": [
      "Tensor(\"proposal_targets:0\", shape=(?, 4608), dtype=int32) Tensor(\"IoU:0\", shape=(?, 4608), dtype=float32)\n"
     ]
    }
   ],
   "source": [
    "IMAGE_SIZE = 128\n",
    "\n",
    "train_pp = (mnist.train.p\n",
    "            .init_model('static', FRCNNModel, 'frcnn', config=model_config)\n",
    "            .init_variable('loss_history', init_on_each_run=list)\n",
    "            .load_images()\n",
    "            .generate_multi_mnist(image_shape=IMAGE_SHAPE, max_dig=20)\n",
    "            .create_anchors(IMAGE_SHAPE, (16,32))\n",
    "            .create_bbox_batch(n_bboxes=10)\n",
    "            .create_reg_cls()\n",
    "            .param_reg()\n",
    "            .train_model('frcnn', \n",
    "                         fetches='loss',\n",
    "                         feed_dict=train_feed_dict,\n",
    "                         save_to=V('loss_history'), \n",
    "                         mode='a'\n",
    "            ))"
   ]
  },
  {
   "cell_type": "code",
   "execution_count": 38,
   "metadata": {
    "collapsed": true
   },
   "outputs": [],
   "source": [
    "test_pp = (mnist.test.p\n",
    "            .import_model('frcnn', train_pp)\n",
    "            .init_variable('RoI_predictions', init_on_each_run=list)\n",
    "            .init_variable('IoU_predictions', init_on_each_run=list)\n",
    "            .load_images()\n",
    "            .generate_multi_mnist(image_shape=IMAGE_SHAPE, max_dig=20)\n",
    "            .create_anchors(IMAGE_SHAPE, (16,32))\n",
    "            .create_bbox_batch(n_bboxes=10)\n",
    "            .create_reg_cls()\n",
    "            .predict_model('frcnn', \n",
    "                           fetches=['RoI','IoU'],\n",
    "                           feed_dict=test_feed_dict,\n",
    "                           save_to=[V('RoI_predictions'), V('IoU_predictions')], mode='a'))"
   ]
  },
  {
   "cell_type": "code",
   "execution_count": null,
   "metadata": {},
   "outputs": [
    {
     "name": "stdout",
     "output_type": "stream",
     "text": [
      "clsf: (100, 4608)\n",
      "54.6595\n",
      "clsf: (100, 4608)\n",
      "52.2776\n",
      "clsf: (100, 4608)\n"
     ]
    }
   ],
   "source": [
    "for i in range(10):\n",
    "    train_pp.next_batch(100, shuffle=True)\n",
    "    print(train_pp.get_variable('loss_history')[-1])"
   ]
  },
  {
   "cell_type": "code",
   "execution_count": 13,
   "metadata": {},
   "outputs": [],
   "source": [
    "batch = test_pp.next_batch(10, shuffle=True)"
   ]
  },
  {
   "cell_type": "code",
   "execution_count": 17,
   "metadata": {},
   "outputs": [
    {
     "ename": "AttributeError",
     "evalue": "'tuple' object has no attribute 'shape'",
     "output_type": "error",
     "traceback": [
      "\u001b[1;31m---------------------------------------------------------------------------\u001b[0m",
      "\u001b[1;31mAttributeError\u001b[0m                            Traceback (most recent call last)",
      "\u001b[1;32m<ipython-input-17-45d681c3b3bc>\u001b[0m in \u001b[0;36m<module>\u001b[1;34m()\u001b[0m\n\u001b[1;32m----> 1\u001b[1;33m \u001b[0mbatch\u001b[0m\u001b[1;33m.\u001b[0m\u001b[0mdata\u001b[0m\u001b[1;33m.\u001b[0m\u001b[0mlabels\u001b[0m\u001b[1;33m.\u001b[0m\u001b[0mshape\u001b[0m\u001b[1;33m\u001b[0m\u001b[0m\n\u001b[0m",
      "\u001b[1;31mAttributeError\u001b[0m: 'tuple' object has no attribute 'shape'"
     ]
    }
   ],
   "source": [
    "batch.data.labels.shape"
   ]
  },
  {
   "cell_type": "code",
   "execution_count": 18,
   "metadata": {},
   "outputs": [
    {
     "data": {
      "text/plain": [
       "array([9, 7, 9, 4, 3, 4, 1, 3, 4, 7], dtype=int64)"
      ]
     },
     "execution_count": 18,
     "metadata": {},
     "output_type": "execute_result"
    }
   ],
   "source": [
    "np.argmax(batch.data.labels[0], axis=-1)"
   ]
  },
  {
   "cell_type": "code",
   "execution_count": 12,
   "metadata": {},
   "outputs": [
    {
     "data": {
      "text/plain": [
       "[array([[[ 2.17222857,  0.        ],\n",
       "         [ 1.29921365,  0.        ],\n",
       "         [ 0.        ,  0.        ],\n",
       "         ..., \n",
       "         [ 2.61857748,  0.        ],\n",
       "         [ 2.27998948,  0.        ],\n",
       "         [ 3.14285541,  0.        ]],\n",
       " \n",
       "        [[ 2.17213798,  0.        ],\n",
       "         [ 1.29915667,  0.        ],\n",
       "         [ 0.        ,  0.        ],\n",
       "         ..., \n",
       "         [ 2.6142087 ,  0.        ],\n",
       "         [ 2.27471375,  0.        ],\n",
       "         [ 3.13602495,  0.        ]],\n",
       " \n",
       "        [[ 2.17213798,  0.        ],\n",
       "         [ 1.29915667,  0.        ],\n",
       "         [ 0.        ,  0.        ],\n",
       "         ..., \n",
       "         [ 2.61446524,  0.        ],\n",
       "         [ 2.27502561,  0.        ],\n",
       "         [ 3.13647294,  0.        ]],\n",
       " \n",
       "        ..., \n",
       "        [[ 2.17213798,  0.        ],\n",
       "         [ 1.29915667,  0.        ],\n",
       "         [ 0.        ,  0.        ],\n",
       "         ..., \n",
       "         [ 2.6142087 ,  0.        ],\n",
       "         [ 2.27471375,  0.        ],\n",
       "         [ 3.13602495,  0.        ]],\n",
       " \n",
       "        [[ 2.48891139,  0.        ],\n",
       "         [ 1.45187044,  0.        ],\n",
       "         [ 0.        ,  0.        ],\n",
       "         ..., \n",
       "         [ 2.6142087 ,  0.        ],\n",
       "         [ 2.27471375,  0.        ],\n",
       "         [ 3.13602495,  0.        ]],\n",
       " \n",
       "        [[ 2.17213798,  0.        ],\n",
       "         [ 1.29915667,  0.        ],\n",
       "         [ 0.        ,  0.        ],\n",
       "         ..., \n",
       "         [ 2.6142087 ,  0.        ],\n",
       "         [ 2.27471375,  0.        ],\n",
       "         [ 3.13602495,  0.        ]]], dtype=float32)]"
      ]
     },
     "execution_count": 12,
     "metadata": {},
     "output_type": "execute_result"
    }
   ],
   "source": [
    "test_pp.get_variable('IoU_predictions')"
   ]
  },
  {
   "cell_type": "code",
   "execution_count": null,
   "metadata": {},
   "outputs": [],
   "source": [
    "im = res.data.images[0]\n",
    "bboxes = res.data.bboxes[0]\n",
    "\n",
    "fig, ax = plt.subplots(1)\n",
    "\n",
    "ax.imshow(im)\n",
    "\n",
    "for bbox in bboxes:    \n",
    "    rect = patches.Rectangle((bbox[1], bbox[0]), bbox[2], bbox[3] ,linewidth=1,edgecolor='r',facecolor='none')\n",
    "    ax.add_patch(rect)\n",
    "plt.show()"
   ]
  },
  {
   "cell_type": "code",
   "execution_count": null,
   "metadata": {},
   "outputs": [],
   "source": [
    "anchors = res.data.anchors.reshape((16*32*9,4))\n",
    "bboxes_best = res.data.reg.reshape((20, 512 * 9,4))[0]\n",
    "ious = res.data.clsf.reshape((20, 512*9, 2))[:, :, 1]\n",
    "import time\n",
    "\n",
    "for i in range(1000,1010):\n",
    "    fig, ax = plt.subplots(1)\n",
    "\n",
    "    ax.imshow(im)\n",
    "    bbox1 = anchors[i]\n",
    "    bbox2 = bboxes_best[i]\n",
    "    for bbox in [bbox1, bbox2]:\n",
    "        rect = patches.Rectangle((bbox[1], bbox[0]), bbox[3], bbox[2] ,linewidth=1,edgecolor='g',facecolor='none')\n",
    "        ax.add_patch(rect)\n",
    "    plt.show()\n",
    "    print(\"IoU:\", ious[0,i])\n",
    "    time.sleep(0.01)"
   ]
  },
  {
   "cell_type": "code",
   "execution_count": null,
   "metadata": {
    "collapsed": true
   },
   "outputs": [],
   "source": []
  }
 ],
 "metadata": {
  "kernelspec": {
   "display_name": "Python 3",
   "language": "python",
   "name": "python3"
  },
  "language_info": {
   "codemirror_mode": {
    "name": "ipython",
    "version": 3
   },
   "file_extension": ".py",
   "mimetype": "text/x-python",
   "name": "python",
   "nbconvert_exporter": "python",
   "pygments_lexer": "ipython3",
   "version": "3.6.2"
  }
 },
 "nbformat": 4,
 "nbformat_minor": 2
}
